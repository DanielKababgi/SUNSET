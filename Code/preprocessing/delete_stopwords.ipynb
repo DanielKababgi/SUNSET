{
 "cells": [
  {
   "cell_type": "markdown",
   "id": "53e7871a-fb91-4fc2-a745-0e5338690870",
   "metadata": {},
   "source": [
    "# clean stopwords"
   ]
  },
  {
   "cell_type": "code",
   "execution_count": 1,
   "id": "c48fae2d-3706-4a61-90f0-93ae0f8631ea",
   "metadata": {},
   "outputs": [],
   "source": [
    "import spacy"
   ]
  },
  {
   "cell_type": "code",
   "execution_count": 12,
   "id": "b34c457a-1c76-4f1f-aafa-b50d5f291220",
   "metadata": {},
   "outputs": [],
   "source": [
    "nlp = spacy.load(\"de_core_news_lg\", disable=[\"NER\"]) \n",
    "nlp.max_length = 10000000"
   ]
  },
  {
   "cell_type": "code",
   "execution_count": 3,
   "id": "ad2c6f2c-0f08-45b2-8b7b-54534f3287f1",
   "metadata": {},
   "outputs": [],
   "source": [
    "import pandas as pd\n",
    "\n",
    "meta = pd.read_csv(\"metadata.csv\", sep=\";\")"
   ]
  },
  {
   "cell_type": "code",
   "execution_count": 4,
   "id": "967c7282-1679-4e81-909d-b2a4e7be9f1a",
   "metadata": {},
   "outputs": [
    {
     "data": {
      "text/html": [
       "<div>\n",
       "<style scoped>\n",
       "    .dataframe tbody tr th:only-of-type {\n",
       "        vertical-align: middle;\n",
       "    }\n",
       "\n",
       "    .dataframe tbody tr th {\n",
       "        vertical-align: top;\n",
       "    }\n",
       "\n",
       "    .dataframe thead th {\n",
       "        text-align: right;\n",
       "    }\n",
       "</style>\n",
       "<table border=\"1\" class=\"dataframe\">\n",
       "  <thead>\n",
       "    <tr style=\"text-align: right;\">\n",
       "      <th></th>\n",
       "      <th>Unnamed: 0</th>\n",
       "      <th>title</th>\n",
       "      <th>author</th>\n",
       "      <th>filename</th>\n",
       "      <th>pubyear</th>\n",
       "      <th>genre</th>\n",
       "      <th>sources</th>\n",
       "    </tr>\n",
       "  </thead>\n",
       "  <tbody>\n",
       "    <tr>\n",
       "      <th>0</th>\n",
       "      <td>40</td>\n",
       "      <td>Geschichte des Agathon</td>\n",
       "      <td>Christoph Martin Wieland</td>\n",
       "      <td>wieland_agathon01_1766.txt</td>\n",
       "      <td>1767.0</td>\n",
       "      <td>Prosa</td>\n",
       "      <td>https://www.deutschestextarchiv.de/book/show/w...</td>\n",
       "    </tr>\n",
       "    <tr>\n",
       "      <th>1</th>\n",
       "      <td>41</td>\n",
       "      <td>Geschichte des Agathon</td>\n",
       "      <td>Christoph Martin Wieland</td>\n",
       "      <td>wieland_agathon02_1767.txt</td>\n",
       "      <td>1767.0</td>\n",
       "      <td>Prosa</td>\n",
       "      <td>https://www.deutschestextarchiv.de/book/show/w...</td>\n",
       "    </tr>\n",
       "    <tr>\n",
       "      <th>2</th>\n",
       "      <td>38</td>\n",
       "      <td>Geschichte des Fräuleins von Sternheim</td>\n",
       "      <td>Christoph Martin Wieland</td>\n",
       "      <td>laroche_geschichte01_1771.txt</td>\n",
       "      <td>1771.0</td>\n",
       "      <td>Roman</td>\n",
       "      <td>https://www.deutschestextarchiv.de/book/show/l...</td>\n",
       "    </tr>\n",
       "    <tr>\n",
       "      <th>3</th>\n",
       "      <td>39</td>\n",
       "      <td>Geschichte des Fräuleins von Sternheim</td>\n",
       "      <td>Christoph Martin Wieland</td>\n",
       "      <td>laroche_geschichte02_1771.txt</td>\n",
       "      <td>1771.0</td>\n",
       "      <td>Roman</td>\n",
       "      <td>https://www.deutschestextarchiv.de/book/show/l...</td>\n",
       "    </tr>\n",
       "    <tr>\n",
       "      <th>4</th>\n",
       "      <td>237</td>\n",
       "      <td>Geschichte des Fräuleins von Sternheim</td>\n",
       "      <td>Sophie von La Roche</td>\n",
       "      <td>laroche_geschichte01_1771.txt</td>\n",
       "      <td>1771.0</td>\n",
       "      <td>Roman</td>\n",
       "      <td>https://www.deutschestextarchiv.de/book/show/l...</td>\n",
       "    </tr>\n",
       "  </tbody>\n",
       "</table>\n",
       "</div>"
      ],
      "text/plain": [
       "   Unnamed: 0                                   title  \\\n",
       "0          40                  Geschichte des Agathon   \n",
       "1          41                  Geschichte des Agathon   \n",
       "2          38  Geschichte des Fräuleins von Sternheim   \n",
       "3          39  Geschichte des Fräuleins von Sternheim   \n",
       "4         237  Geschichte des Fräuleins von Sternheim   \n",
       "\n",
       "                     author                       filename  pubyear  \\\n",
       "0  Christoph Martin Wieland     wieland_agathon01_1766.txt   1767.0   \n",
       "1  Christoph Martin Wieland     wieland_agathon02_1767.txt   1767.0   \n",
       "2  Christoph Martin Wieland  laroche_geschichte01_1771.txt   1771.0   \n",
       "3  Christoph Martin Wieland  laroche_geschichte02_1771.txt   1771.0   \n",
       "4       Sophie von La Roche  laroche_geschichte01_1771.txt   1771.0   \n",
       "\n",
       "             genre                                            sources  \n",
       "0            Prosa  https://www.deutschestextarchiv.de/book/show/w...  \n",
       "1            Prosa  https://www.deutschestextarchiv.de/book/show/w...  \n",
       "2            Roman  https://www.deutschestextarchiv.de/book/show/l...  \n",
       "3            Roman  https://www.deutschestextarchiv.de/book/show/l...  \n",
       "4            Roman  https://www.deutschestextarchiv.de/book/show/l...  "
      ]
     },
     "execution_count": 4,
     "metadata": {},
     "output_type": "execute_result"
    }
   ],
   "source": [
    "meta.head()"
   ]
  },
  {
   "cell_type": "code",
   "execution_count": 6,
   "id": "13ba0d05-68dd-4bb7-b769-dfabca454dc0",
   "metadata": {},
   "outputs": [],
   "source": [
    "def cleaning(doc):\n",
    "    txt = []\n",
    "    for word in doc:\n",
    "        if word is not word.is_stop:\n",
    "            txt.append(word.lemma_)\n",
    "        else:\n",
    "            continue\n",
    "    return ' '.join(txt)"
   ]
  },
  {
   "cell_type": "code",
   "execution_count": 13,
   "id": "d4a6ed6c-804f-4031-add6-483127771f24",
   "metadata": {},
   "outputs": [
    {
     "name": "stderr",
     "output_type": "stream",
     "text": [
      "100%|██████████| 624/624 [41:36<00:00,  4.00s/it]  \n"
     ]
    }
   ],
   "source": [
    "import re\n",
    "from tqdm import tqdm\n",
    "\n",
    "for file in tqdm(list(meta[\"filename\"])[1140:]):\n",
    "    with open(\"src/corpus_cleaned/\" + file, \"r\", encoding=\"utf8\") as f:\n",
    "        text = f.read()\n",
    "        \n",
    "    brief_cleaning = re.sub(\"[^A-ZÄÜÖa-zäüöß?!.']+\", ' ', str(text)).lower()\n",
    "    doc = nlp(brief_cleaning)\n",
    "    cleaned_text = cleaning(doc)\n",
    "    \n",
    "    with open(\"src/corpus_nostopwords/\" + file, \"w\", encoding=\"utf8\") as f:\n",
    "        f.write(cleaned_text)"
   ]
  }
 ],
 "metadata": {
  "kernelspec": {
   "display_name": "Python 3 (ipykernel)",
   "language": "python",
   "name": "python3"
  },
  "language_info": {
   "codemirror_mode": {
    "name": "ipython",
    "version": 3
   },
   "file_extension": ".py",
   "mimetype": "text/x-python",
   "name": "python",
   "nbconvert_exporter": "python",
   "pygments_lexer": "ipython3",
   "version": "3.11.5"
  }
 },
 "nbformat": 4,
 "nbformat_minor": 5
}

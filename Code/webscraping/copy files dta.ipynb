{
 "cells": [
  {
   "cell_type": "markdown",
   "id": "b9e0f867-9042-4d69-9e63-9159e4dd6671",
   "metadata": {},
   "source": [
    "# copy files from src/DTA to corpus"
   ]
  },
  {
   "cell_type": "code",
   "execution_count": 7,
   "id": "99f309f7-c3ae-4e31-bd44-90fc634383a5",
   "metadata": {
    "tags": []
   },
   "outputs": [],
   "source": [
    "import os\n",
    "import shutil \n",
    "import pandas as pd"
   ]
  },
  {
   "cell_type": "code",
   "execution_count": 2,
   "id": "f1d4bb33-ae14-441d-ac70-9df8a206ec40",
   "metadata": {
    "tags": []
   },
   "outputs": [],
   "source": [
    "metadata = pd.read_csv(\"metadata_DTA.csv\", sep=\";\")"
   ]
  },
  {
   "cell_type": "code",
   "execution_count": 9,
   "id": "8a84706f-21a8-4428-9236-f2e67553939d",
   "metadata": {
    "tags": []
   },
   "outputs": [
    {
     "name": "stdout",
     "output_type": "stream",
     "text": [
      "raabe_recht_1910\n"
     ]
    }
   ],
   "source": [
    "for file in list(metadata[\"filename\"]):\n",
    "    if os.path.isfile(\"src/dta/\"+file + \".txt\"):\n",
    "        shutil.copy(\"src/dta/\"+file + \".txt\", \"corpus/\"+file + \".txt\")\n",
    "    else:\n",
    "        print(file)"
   ]
  }
 ],
 "metadata": {
  "kernelspec": {
   "display_name": "Python 3 (ipykernel)",
   "language": "python",
   "name": "python3"
  },
  "language_info": {
   "codemirror_mode": {
    "name": "ipython",
    "version": 3
   },
   "file_extension": ".py",
   "mimetype": "text/x-python",
   "name": "python",
   "nbconvert_exporter": "python",
   "pygments_lexer": "ipython3",
   "version": "3.9.17"
  }
 },
 "nbformat": 4,
 "nbformat_minor": 5
}

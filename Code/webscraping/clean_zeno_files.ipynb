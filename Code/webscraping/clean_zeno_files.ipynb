{
 "cells": [
  {
   "cell_type": "markdown",
   "id": "d4635651-21c5-4145-9c61-8ce5934326a3",
   "metadata": {},
   "source": [
    "# clean Zeno Files"
   ]
  },
  {
   "cell_type": "markdown",
   "id": "ac95e59c-27f4-4c30-9caa-89a76817aa83",
   "metadata": {
    "tags": []
   },
   "source": [
    "# replace [\\d]"
   ]
  },
  {
   "cell_type": "code",
   "execution_count": 2,
   "id": "988668fe-9f7b-4245-b91b-cc76823034fe",
   "metadata": {
    "tags": []
   },
   "outputs": [],
   "source": [
    "import os"
   ]
  },
  {
   "cell_type": "code",
   "execution_count": 7,
   "id": "f6f560f1-9019-4d91-aa99-37ed9bb35066",
   "metadata": {},
   "outputs": [],
   "source": [
    "files = os.listdir(\"zeno_files/\")"
   ]
  },
  {
   "cell_type": "code",
   "execution_count": 8,
   "id": "1229ff9c-5c02-474f-a408-f238c8530f45",
   "metadata": {
    "tags": []
   },
   "outputs": [
    {
     "data": {
      "text/plain": [
       "['Ahlefeld_Erna_zeno.txt', 'Ahlefeld_GesammelteErzählungen_zeno.txt']"
      ]
     },
     "execution_count": 8,
     "metadata": {},
     "output_type": "execute_result"
    }
   ],
   "source": [
    "files[:2]"
   ]
  },
  {
   "cell_type": "code",
   "execution_count": 10,
   "id": "d3604c93-8bf4-41ee-8a86-9eb42b5f4853",
   "metadata": {
    "tags": []
   },
   "outputs": [],
   "source": [
    "texts = []\n",
    "\n",
    "for file in files:\n",
    "    with open(\"zeno_files/\" + file, \"r\", encoding=\"utf8\") as f:\n",
    "        texts.append(f.read())"
   ]
  },
  {
   "cell_type": "code",
   "execution_count": 12,
   "id": "48697b16-1dcd-42c4-8d9e-5426d8901e70",
   "metadata": {
    "tags": []
   },
   "outputs": [
    {
     "data": {
      "text/plain": [
       "'Ein liebes'"
      ]
     },
     "execution_count": 12,
     "metadata": {},
     "output_type": "execute_result"
    }
   ],
   "source": [
    "texts[0][:10]"
   ]
  },
  {
   "cell_type": "code",
   "execution_count": 13,
   "id": "6936f373-774b-4442-bdd2-54239568109d",
   "metadata": {
    "tags": []
   },
   "outputs": [],
   "source": [
    "import re"
   ]
  },
  {
   "cell_type": "code",
   "execution_count": 21,
   "id": "d9389ff9-b2b1-45b6-a6a2-09551ec4bf0b",
   "metadata": {
    "tags": []
   },
   "outputs": [],
   "source": [
    "cleaned_texts_with_ads = []\n",
    "\n",
    "for text in texts:\n",
    "    cleaned_texts_with_ads.append(re.sub(\"\\[\\d+\\]\", \" \", text))"
   ]
  },
  {
   "cell_type": "markdown",
   "id": "9b15a72f-bd74-47de-ba21-5150c8c07daf",
   "metadata": {
    "tags": []
   },
   "source": [
    "# scrape ads"
   ]
  },
  {
   "cell_type": "code",
   "execution_count": 22,
   "id": "b2acb8bd-b234-4981-be52-cb26ae0866e8",
   "metadata": {
    "tags": []
   },
   "outputs": [],
   "source": [
    "import pandas as pd\n",
    "from bs4 import BeautifulSoup\n",
    "import urllib.request\n",
    "import re\n",
    "import time"
   ]
  },
  {
   "cell_type": "code",
   "execution_count": 24,
   "id": "3ce3c103-af31-4f0d-ae3b-4b7d6f4b6be2",
   "metadata": {
    "tags": []
   },
   "outputs": [],
   "source": [
    "df = pd.read_csv(\"metadata_Zeno.csv\", encoding=\"utf8\", sep = \";\")"
   ]
  },
  {
   "cell_type": "code",
   "execution_count": 25,
   "id": "aa93c0da-8ecf-4db5-a85c-573a7636244b",
   "metadata": {
    "tags": []
   },
   "outputs": [],
   "source": [
    "def get_html(website):\n",
    "    try:\n",
    "        with urllib.request.urlopen(website) as f:\n",
    "           html_text = f.read()#.decode('utf-8')\n",
    "    except urllib.error.URLError as e:\n",
    "       print(e.reason)\n",
    "    return html_text"
   ]
  },
  {
   "cell_type": "code",
   "execution_count": 28,
   "id": "e3a915e8-fb69-4306-9ab5-409cc4bef19d",
   "metadata": {
    "tags": []
   },
   "outputs": [],
   "source": [
    "def get_chapter_list(li_soup):\n",
    "    chapters = []\n",
    "    \n",
    "    for li in li_soup:\n",
    "            if li.b:\n",
    "                continue\n",
    "            else:\n",
    "                if li.a:\n",
    "                    for genre in list_of_genres:\n",
    "                        if genre in li.a.get(\"href\"):\n",
    "                            chapters.append(\"http://www.zeno.org\" + li.a.get(\"href\"))\n",
    "    return chapters"
   ]
  },
  {
   "cell_type": "code",
   "execution_count": 29,
   "id": "969991d8-6844-47ae-a80a-e2dcd90eeb03",
   "metadata": {
    "tags": []
   },
   "outputs": [],
   "source": [
    "list_of_genres = [\"/Roman/\",\n",
    "                  \"/Romane/\",\n",
    "                  \"/Erz%C3%A4hlungen/\", # Erzählungen\n",
    "                  \"/M%C3%Archen/\",\n",
    "                  \"/Erz%C3%Ahlprosa/\",\n",
    "                  \"/Prosa/\",\n",
    "                  \"/Epik/\",\n",
    "                  \"/Legenden/\",\n",
    "                  \"/Sagen/\"] "
   ]
  },
  {
   "cell_type": "code",
   "execution_count": 37,
   "id": "3bcec629-ffb0-4f6c-b960-5e3beffb1438",
   "metadata": {
    "tags": []
   },
   "outputs": [],
   "source": [
    "ad_texts = []\n",
    "\n",
    "for text_website in list(df[\"sources\"]):\n",
    "    \n",
    "    html_string = get_html(text_website)\n",
    "    soup = BeautifulSoup(html_string, 'html.parser') \n",
    "    \n",
    "    lis = soup.find_all(\"li\",{'class': False, 'id': False})\n",
    "    \n",
    "    chapters = get_chapter_list(lis)\n",
    "    \n",
    "    if len(chapters)>0:\n",
    "        for chapter in chapters:\n",
    "            sub_html_string = get_html(chapter)\n",
    "            sub_soup = BeautifulSoup(sub_html_string, 'html.parser')\n",
    "            \n",
    "            ads = soup.find_all(\"div\", {\"class\":\"holzingerAd\"})\n",
    "\n",
    "            for ad in ads:\n",
    "                elements = ad.find_all(\"p\")\n",
    "                text = \"\"\n",
    "                for element in elements:\n",
    "                    text = text + element.text + \"\\n\"\n",
    "                ad_texts.append(text)\n",
    "    else:\n",
    "        ads = soup.find_all(\"div\", {\"class\":\"holzingerAd\"})\n",
    "\n",
    "        for ad in ads:\n",
    "            text = \"\"\n",
    "            elements = ad.find_all(\"p\")\n",
    "            for element in elements:\n",
    "                text = text + element.text + \"\\n\"\n",
    "            ad_texts.append(text)\n",
    "    \n",
    "    \n",
    "    time.sleep(1)"
   ]
  },
  {
   "cell_type": "code",
   "execution_count": 102,
   "id": "a49d50a1-9ced-4a5c-885d-f8023e4bfaa9",
   "metadata": {
    "tags": []
   },
   "outputs": [],
   "source": [
    "ads = list(set(ad_texts))"
   ]
  },
  {
   "cell_type": "code",
   "execution_count": 108,
   "id": "0a8e616f-5fc2-452d-95e9-998d205a9342",
   "metadata": {
    "tags": []
   },
   "outputs": [],
   "source": [
    "new_ad='Buchempfehlung\\n\\nBiedermeier - das klingt in heutigen Ohren nach langweiligem Spießertum, nach geschmacklosen rosa Teetässchen in Wohnzimmern, die aussehen wie Puppenstuben und in denen es irgendwie nach »Omma«  riecht.   Zu Recht. Aber nicht nur.   Biedermeier ist auch die Zeit einer zarten Literatur der Flucht ins Idyll, des Rückzuges ins private Glück und der Tugenden. Die Menschen im Europa nach Napoleon hatten die Nase voll von großen neuen Ideen, das aufstrebende Bürgertum forderte und entwickelte eine eigene Kunst und Kultur für sich, die unabhängig von feudaler Großmannssucht bestehen sollte.   Dass das gelungen ist, zeigt Michael Holzingers Auswahl von neun Meistererzählungen aus der sogenannten Biedermeierzeit.\\n434 Seiten, 19.80 Euro\\n'\n",
    "\n",
    "ads.append(new_ad)"
   ]
  },
  {
   "cell_type": "code",
   "execution_count": 109,
   "id": "4207f22e-f7d5-428f-a2f0-32d2c6ddcd8f",
   "metadata": {
    "tags": []
   },
   "outputs": [
    {
     "data": {
      "text/plain": [
       "['Buchempfehlung\\n\\nSchon der Titel, der auch damals kein geläufiges Synonym für »Autobiografie« war, zeigt den skurril humorvollen Stil des Autors Jean Paul, der in den letzten Jahren vor seiner Erblindung seine Jugenderinnerungen aufgeschrieben und in drei »Vorlesungen« angeordnet hat. »Ich bin ein Ich« stellt er dabei selbstbewußt fest.\\n56 Seiten, 3.80 Euro\\n',\n",
       " 'Buchempfehlung\\n\\nZwei späte Novellen der Autorin, die feststellte: »Eine gescheite Frau hat Millionen geborener Feinde: alle dummen Männer.«\\n72 Seiten, 4.80 Euro\\n',\n",
       " 'Buchempfehlung\\n\\nBiedermeier - das klingt in heutigen Ohren nach langweiligem Spießertum, nach geschmacklosen rosa Teetässchen in Wohnzimmern, die aussehen wie Puppenstuben und in denen es irgendwie nach »Omma«  riecht.   Zu Recht. Aber nicht nur.   Biedermeier ist auch die Zeit einer zarten Literatur der Flucht ins Idyll, des Rückzuges ins private Glück und der Tugenden. Die Menschen im Europa nach Napoleon hatten die Nase voll von großen neuen Ideen, das aufstrebende Bürgertum forderte und entwickelte eine eigene Kunst und Kultur für sich, die unabhängig von feudaler Großmannssucht bestehen sollte.   Für den dritten Band hat Michael Holzinger neun weitere Meistererzählungen aus dem Biedermeier zusammengefasst.\\n444 Seiten, 19.80 Euro\\n',\n",
       " 'Buchempfehlung\\n\\nDer Erzähler findet das Tagebuch seines Urgroßvaters, der sich als Arzt im böhmischen Hinterland niedergelassen hatte und nach einem gescheiterten Selbstmordversuch begann, dieses Tagebuch zu schreiben. Stifter arbeitete gut zwei Jahrzehnte an dieser Erzählung, die er sein »Lieblingskind« nannte.\\n156 Seiten, 6.80 Euro\\n',\n",
       " 'Buchempfehlung\\n\\nBiedermeier - das klingt in heutigen Ohren nach langweiligem Spießertum, nach geschmacklosen rosa Teetässchen in Wohnzimmern, die aussehen wie Puppenstuben und in denen es irgendwie nach »Omma«  riecht.   Zu Recht. Aber nicht nur.   Biedermeier ist auch die Zeit einer zarten Literatur der Flucht ins Idyll, des Rückzuges ins private Glück und der Tugenden. Die Menschen im Europa nach Napoleon hatten die Nase voll von großen neuen Ideen, das aufstrebende Bürgertum forderte und entwickelte eine eigene Kunst und Kultur für sich, die unabhängig von feudaler Großmannssucht bestehen sollte.   Dass das gelungen ist, zeigt Michael Holzingers Auswahl von neun Meistererzählungen aus der sogenannten Biedermeierzeit.\\n434 Seiten, 19.80 Euro\\n',\n",
       " 'Buchempfehlung\\n\\nZwischen 1804 und 1815 ist Heidelberg das intellektuelle Zentrum einer Bewegung, die sich von dort aus in der Welt verbreitet. Individuelles Erleben von Idylle und Harmonie, die Innerlichkeit der Seele sind die zentralen Themen der Hochromantik als Gegenbewegung zur von der Antike inspirierten Klassik und der vernunftgetriebenen Aufklärung. Acht der ganz großen Erzählungen der Hochromantik hat Michael Holzinger für diese Leseausgabe zusammengestellt.\\n390 Seiten, 19.80 Euro\\n',\n",
       " 'Buchempfehlung\\n\\nSchnitzlers erster Roman galt seinen Zeitgenossen als skandalöse Indiskretion über das Wiener Gesellschaftsleben. Die Geschichte des Baron Georg von Wergenthin und der aus kleinbürgerlichem Milieu stammenden Anna Rosner zeichnet ein differenziertes, beziehungsreich gespiegeltes Bild der Belle Époque. Der Weg ins Freie ist einerseits Georgs zielloser Wunsch nach Freiheit von Verantwortung gegenüber Anna und andererseits die Frage des gesellschaftlichen Aufbruchs in das 20. Jahrhundert.\\n286 Seiten, 12.80 Euro\\n',\n",
       " 'Buchempfehlung\\n\\nDie Ausgabe enthält drei frühe Märchen, die die Autorin 1808 zur Veröffentlichung in Achim von Arnims »Trösteinsamkeit« schrieb. Aus der Publikation wurde gut 100 Jahre lang nichts, aber aus Elisabeth Brentano wurde 1811 Bettina von Arnim. »Der Königssohn« »Hans ohne Bart« »Die blinde Königstochter« Das vierte Märchen schrieb von Arnim 1844-1848, Jahre nach dem Tode ihres Mannes 1831, gemeinsam mit ihrer jüngsten Tochter Gisela. »Das Leben der Hochgräfin Gritta von Rattenzuhausbeiuns«\\n116 Seiten, 7.80 Euro\\n',\n",
       " 'Buchempfehlung\\n\\nNach dem Vorbild von Abraham von Franckenberg und Daniel Czepko schreibt Angelus Silesius seine berühmten Epigramme, die er unter dem Titel »Cherubinischer Wandersmann« zusammenfasst und 1657 veröffentlicht. Das Unsagbare, den mystischen Weg zu Gott, in Worte zu fassen, ist das Anliegen seiner antithetisch pointierten Alexandriner Dichtung. »Ich bin so groß als Gott, er ist als ich so klein. Er kann nicht über mich, ich unter ihm nicht sein.«\\n242 Seiten, 11.80 Euro\\n',\n",
       " 'Buchempfehlung\\n\\nZwischen 1765 und 1785 geht ein Ruck durch die deutsche Literatur. Sehr junge Autoren lehnen sich auf gegen den belehrenden Charakter der - die damalige Geisteskultur beherrschenden - Aufklärung. Mit Fantasie und Gemütskraft stürmen und drängen sie gegen die Moralvorstellungen des Feudalsystems, setzen Gefühl vor Verstand und fordern die Selbstständigkeit des Originalgenies. Michael Holzinger hat sechs eindrucksvolle Erzählungen von wütenden, jungen Männern des 18. Jahrhunderts ausgewählt.\\n468 Seiten, 19.80 Euro\\n',\n",
       " 'Buchempfehlung\\n\\nZwischen 1765 und 1785 geht ein Ruck durch die deutsche Literatur. Sehr junge Autoren lehnen sich auf gegen den belehrenden Charakter der - die damalige Geisteskultur beherrschenden - Aufklärung. Mit Fantasie und Gemütskraft stürmen und drängen sie gegen die Moralvorstellungen des Feudalsystems, setzen Gefühl vor Verstand und fordern die Selbstständigkeit des Originalgenies.   Für den zweiten Band hat Michael Holzinger sechs weitere bewegende Erzählungen des Sturm und Drang ausgewählt.\\n424 Seiten, 19.80 Euro\\n',\n",
       " 'Buchempfehlung\\n\\nRomantik! Das ist auch \\x96 aber eben nicht nur \\x96 eine Epoche. Wenn wir heute etwas romantisch finden oder nennen, schwingt darin die Sehnsucht und die Leidenschaft der jungen Autoren, die seit dem Ausklang des 18. Jahrhundert ihre Gefühlswelt gegen die von der Aufklärung geforderte Vernunft verteidigt haben. So sind vor 200 Jahren wundervolle Erzählungen entstanden. Sie handeln von der Suche nach einer verlorengegangenen Welt des Wunderbaren, sind melancholisch oder mythisch oder märchenhaft, jedenfalls aber romantisch - damals wie heute.  Nach den erfolgreichen beiden ersten Bänden hat Michael Holzinger sieben weitere Meistererzählungen der Romantik zu einen dritten Band zusammengefasst.\\n456 Seiten, 16.80 Euro\\n',\n",
       " 'Buchempfehlung\\n\\n»Was mich einigermaßen berechtigt, meine Erlebnisse mitzuteilen, ist der Umstand, daß ich mit vielen interessanten und hervorragenden Zeitgenossen zusammengetroffen und daß meine Anteilnahme an einer Bewegung, die sich allmählich zu historischer Tragweite herausgewachsen hat, mir manchen Einblick in das politische Getriebe unserer Zeit gewährte und daß ich im ganzen also wirklich Mitteilenswertes zu sagen habe.« B.v.S.\\n530 Seiten, 24.80 Euro\\n',\n",
       " 'Buchempfehlung\\n\\nDer Schluß vom Allgemeinen auf das Besondere, vom Prinzipiellen zum Indiviudellen ist der Kern der naturphilosophischen Lehrschrift über die Grundlagen unserer Begrifflichkeit von Raum, Zeit, Bewegung und Ursache. »Nennen doch die Kinder zunächst alle Männer Vater und alle Frauen Mutter und lernen erst später zu unterscheiden.«\\n158 Seiten, 8.80 Euro\\n',\n",
       " 'Buchempfehlung\\n\\n1799 schreibt Novalis seinen Heinrich von Ofterdingen und schafft mit der blauen Blume, nach der der Jüngling sich sehnt, das Symbol einer der wirkungsmächtigsten Epochen unseres Kulturkreises. Ricarda Huch wird dazu viel später bemerken: »Die blaue Blume ist aber das, was jeder sucht, ohne es selbst zu wissen, nenne man es nun Gott, Ewigkeit oder Liebe.« Diese und fünf weitere große Erzählungen der Frühromantik hat Michael Holzinger für diese Leseausgabe ausgewählt.\\n396 Seiten, 19.80 Euro\\n',\n",
       " 'Buchempfehlung\\n\\nAls »Komischer Anhang« 1801 seinem Roman »Titan« beigegeben, beschreibt Jean Paul die vierzehn Fahrten seines Luftschiffers Giannozzos, die er mit folgenden Worten einleitet: »Trefft ihr einen Schwarzkopf in grünem Mantel einmal auf der Erde, und zwar so, daß er den Hals gebrochen: so tragt ihn in eure Kirchenbücher unter dem Namen Giannozzo ein; und gebt dieses Luft-Schiffs-Journal von ihm unter dem Titel \\x9bAlmanach für Matrosen, wie sie sein sollten\\x8b heraus.«\\n72 Seiten, 4.80 Euro\\n',\n",
       " 'Buchempfehlung\\n\\nDer lyrische Zyklus um den Sohn des Schlafes und seine Verwandlungskünste, die dem Menschen die Träume geben, ist eine Allegorie auf das Schaffen des Dichters.\\n178 Seiten, 9.80 Euro\\n',\n",
       " 'Buchempfehlung\\n\\nRomantik! Das ist auch \\x96 aber eben nicht nur \\x96 eine Epoche. Wenn wir heute etwas romantisch finden oder nennen, schwingt darin die Sehnsucht und die Leidenschaft der jungen Autoren, die seit dem Ausklang des 18. Jahrhundert ihre Gefühlswelt gegen die von der Aufklärung geforderte Vernunft verteidigt haben. So sind vor 200 Jahren wundervolle Erzählungen entstanden. Sie handeln von der Suche nach einer verlorengegangenen Welt des Wunderbaren, sind melancholisch oder mythisch oder märchenhaft, jedenfalls aber romantisch - damals wie heute.  Nach den erfolgreichen beiden ersten Bänden hat Michael Holzinger sieben weitere Meistererzählungen der Romantik zu einen dritten Band zusammengefasst.\\n456 Seiten, 16.80 Euro\\n',\n",
       " 'Buchempfehlung\\n\\nDas chinesische Lebensbuch über das Geheimnis der Goldenen Blüte wird seit dem achten Jahrhundert mündlich überliefert. Diese Ausgabe folgt der Übersetzung von Richard Wilhelm.\\n50 Seiten, 3.80 Euro\\n',\n",
       " 'Buchempfehlung\\n\\nZwischen 1765 und 1785 geht ein Ruck durch die deutsche Literatur. Sehr junge Autoren lehnen sich auf gegen den belehrenden Charakter der - die damalige Geisteskultur beherrschenden - Aufklärung. Mit Fantasie und Gemütskraft stürmen und drängen sie gegen die Moralvorstellungen des Feudalsystems, setzen Gefühl vor Verstand und fordern die Selbstständigkeit des Originalgenies.   Für den zweiten Band hat Michael Holzinger sechs weitere bewegende Erzählungen des Sturm und Drang ausgewählt.\\n424 Seiten, 19.80 Euro\\n',\n",
       " 'Buchempfehlung\\n\\nBiedermeier - das klingt in heutigen Ohren nach langweiligem Spießertum, nach geschmacklosen rosa Teetässchen in Wohnzimmern, die aussehen wie Puppenstuben und in denen es irgendwie nach »Omma«  riecht.   Zu Recht. Aber nicht nur.   Biedermeier ist auch die Zeit einer zarten Literatur der Flucht ins Idyll, des Rückzuges ins private Glück und der Tugenden. Die Menschen im Europa nach Napoleon hatten die Nase voll von großen neuen Ideen, das aufstrebende Bürgertum forderte und entwickelte eine eigene Kunst und Kultur für sich, die unabhängig von feudaler Großmannssucht bestehen sollte.   Dass das gelungen ist, zeigt Michael Holzingers Auswahl von neun Meistererzählungen aus der sogenannten Biedermeierzeit.\\n434 Seiten, 19.80 Euro\\n']"
      ]
     },
     "execution_count": 109,
     "metadata": {},
     "output_type": "execute_result"
    }
   ],
   "source": [
    "ads"
   ]
  },
  {
   "cell_type": "code",
   "execution_count": 110,
   "id": "aca1b7ae-5321-41c7-b26b-7801e32c4b9f",
   "metadata": {
    "tags": []
   },
   "outputs": [
    {
     "data": {
      "text/plain": [
       "21"
      ]
     },
     "execution_count": 110,
     "metadata": {},
     "output_type": "execute_result"
    }
   ],
   "source": [
    "len(ads)"
   ]
  },
  {
   "cell_type": "code",
   "execution_count": 111,
   "id": "b9dbb66d-5b47-46cb-991b-2527e3008959",
   "metadata": {
    "tags": []
   },
   "outputs": [
    {
     "data": {
      "text/plain": [
       "503"
      ]
     },
     "execution_count": 111,
     "metadata": {},
     "output_type": "execute_result"
    }
   ],
   "source": [
    "cleaned_texts = []\n",
    "\n",
    "for text in cleaned_texts_with_ads:\n",
    "    for ad in ads:\n",
    "        if re.search(ad, text):\n",
    "            text = re.sub(ad, \"\", text)\n",
    "    cleaned_texts.append(text)        \n",
    "len(cleaned_texts)"
   ]
  },
  {
   "cell_type": "code",
   "execution_count": 88,
   "id": "a56dff05-aa14-4e17-98cf-5067542b3536",
   "metadata": {
    "tags": []
   },
   "outputs": [
    {
     "data": {
      "text/plain": [
       "503"
      ]
     },
     "execution_count": 88,
     "metadata": {},
     "output_type": "execute_result"
    }
   ],
   "source": [
    "len(texts)"
   ]
  },
  {
   "cell_type": "markdown",
   "id": "3ead4875-e69a-446c-bd46-d6f0619a07b9",
   "metadata": {
    "tags": []
   },
   "source": [
    "# save files to corpus"
   ]
  },
  {
   "cell_type": "code",
   "execution_count": 113,
   "id": "77c03820-01ae-4870-b4a7-55c2326398e5",
   "metadata": {
    "tags": []
   },
   "outputs": [],
   "source": [
    "for i in range(len(cleaned_texts)):\n",
    "    with open(\"corpus_files/\" + files[i], \"w\", encoding=\"utf8\") as f:\n",
    "        f.write(cleaned_texts[i])"
   ]
  }
 ],
 "metadata": {
  "kernelspec": {
   "display_name": "Python 3 (ipykernel)",
   "language": "python",
   "name": "python3"
  },
  "language_info": {
   "codemirror_mode": {
    "name": "ipython",
    "version": 3
   },
   "file_extension": ".py",
   "mimetype": "text/x-python",
   "name": "python",
   "nbconvert_exporter": "python",
   "pygments_lexer": "ipython3",
   "version": "3.9.17"
  }
 },
 "nbformat": 4,
 "nbformat_minor": 5
}

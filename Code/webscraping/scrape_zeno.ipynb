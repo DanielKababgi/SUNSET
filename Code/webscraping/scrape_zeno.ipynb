{
 "cells": [
  {
   "cell_type": "markdown",
   "id": "a5871d0b-2a8a-4dc3-b0c9-03bb4245888c",
   "metadata": {},
   "source": [
    "# scrape dta\n",
    "\n",
    "- öffne Autoren-Seite aus Author-table\n",
    "- suche alle Einträge mit \"Bellistrik :: [Novelle, Roman, Erzählung, usw. Prosa halt]\"\n",
    "- sammle von gefundenen Einträgen Metadaten\n",
    "- verbinde Metadaten von Eintrag mit Metadaten aus Author-table\n",
    "- aus Bellistrikkorpus verschiebe Eintrag nach corpus-folder\n",
    "\n",
    "\n",
    "## Problems\n",
    "\n",
    "- lots of empty files like Maler Nolten\n",
    "- other stuff (written in commentary)"
   ]
  },
  {
   "cell_type": "code",
   "execution_count": 1,
   "id": "4accf44c-75ef-4e1d-9de5-484c8054b864",
   "metadata": {
    "tags": []
   },
   "outputs": [],
   "source": [
    "import pandas as pd\n",
    "from bs4 import BeautifulSoup\n",
    "import urllib.request\n",
    "import re\n",
    "import time"
   ]
  },
  {
   "cell_type": "code",
   "execution_count": 2,
   "id": "6784aa89-f63b-4c11-9e24-ed0bf5b6813c",
   "metadata": {
    "tags": []
   },
   "outputs": [],
   "source": [
    "authors_df = pd.read_csv(\"src/author_table.tsv\", encoding=\"utf8\", sep = \"\\t\")"
   ]
  },
  {
   "cell_type": "code",
   "execution_count": 3,
   "id": "473f182c-9ebf-47d4-8197-09884499c726",
   "metadata": {
    "tags": []
   },
   "outputs": [],
   "source": [
    "def get_html(website):\n",
    "    try:\n",
    "        with urllib.request.urlopen(website) as f:\n",
    "           html_text = f.read()#.decode('utf-8')\n",
    "    except urllib.error.URLError as e:\n",
    "       print(e.reason)\n",
    "    return html_text"
   ]
  },
  {
   "cell_type": "code",
   "execution_count": 4,
   "id": "9c1b90f2-29e1-4f2d-adbd-1ed2a981d309",
   "metadata": {
    "tags": []
   },
   "outputs": [],
   "source": [
    "list_of_genres = [\"/Roman/\",\n",
    "                  \"/Romane/\",\n",
    "                  \"/Erz%C3%A4hlungen/\", # Erzählungen\n",
    "                  \"/M%C3%Archen/\",\n",
    "                  \"/Erz%C3%Ahlprosa/\",\n",
    "                  \"/Prosa/\",\n",
    "                  \"/Epik/\",\n",
    "                  \"/Legenden/\",\n",
    "                  \"/Sagen/\"] "
   ]
  },
  {
   "cell_type": "code",
   "execution_count": 5,
   "id": "249f101a-87ab-4f77-9a9b-a124f3ee6d48",
   "metadata": {
    "tags": []
   },
   "outputs": [],
   "source": [
    "# get metadata\n",
    "\n",
    "titles = []\n",
    "authors = []\n",
    "genres = []\n",
    "filenames = []\n",
    "sources = []\n",
    "\n",
    "for website in list(authors_df.dropna(subset=[\"Zeno\"])[\"Zeno\"]):\n",
    "    author = authors_df[\"Voller_Name\"].loc[authors_df[\"Zeno\"]==website].values[0]\n",
    "    \n",
    "    html_string = get_html(website)\n",
    "    soup = BeautifulSoup(html_string, 'html.parser')\n",
    "    \n",
    "    div = soup.find_all(\"div\", {\"class\": \"zenoTRNavBottom\"})\n",
    "    \n",
    "    if len(div)>=1:\n",
    "        links = div[0].find_all(\"a\")      \n",
    "    else:\n",
    "        continue\n",
    "    \n",
    "    # print(author)\n",
    "    # print(website)\n",
    "    \n",
    "    # find relevant prose works \n",
    "    for ele in links:\n",
    "        for genre in list_of_genres:\n",
    "            if genre in ele.get(\"href\"):\n",
    "                # placeholder metadata\n",
    "                genres.append(genre.replace(\"/\", \"\"))\n",
    "                authors.append(author)\n",
    "                \n",
    "                # metadata\n",
    "                titles.append(ele.text)\n",
    "                \n",
    "                source = \"http://www.zeno.org\" + ele.get(\"href\")\n",
    "                sources.append(source)\n",
    "                \n",
    "                filename = author.split()[-1] +\"_\"+ ele.text.replace(\" \", \"\").replace(\".\", \"\").replace(r\"*\", \"\") +\"_zeno.txt\"\n",
    "                filenames.append(filename)\n",
    "                \n",
    "                # debugging\n",
    "                # print(\"\\t\" + source)\n",
    "                # print(\"\\t\" + genre)\n",
    "                # print(\"\\t\" + ele.text)\n",
    "                # print(\"\\t\" + filename)\n",
    "                # print(\"\\t\" + \"=========\")\n",
    "            else:\n",
    "                continue        "
   ]
  },
  {
   "cell_type": "code",
   "execution_count": 6,
   "id": "f3d05ec6-d84e-4917-a185-85a28b2ce044",
   "metadata": {
    "tags": []
   },
   "outputs": [
    {
     "data": {
      "text/html": [
       "<div>\n",
       "<style scoped>\n",
       "    .dataframe tbody tr th:only-of-type {\n",
       "        vertical-align: middle;\n",
       "    }\n",
       "\n",
       "    .dataframe tbody tr th {\n",
       "        vertical-align: top;\n",
       "    }\n",
       "\n",
       "    .dataframe thead th {\n",
       "        text-align: right;\n",
       "    }\n",
       "</style>\n",
       "<table border=\"1\" class=\"dataframe\">\n",
       "  <thead>\n",
       "    <tr style=\"text-align: right;\">\n",
       "      <th></th>\n",
       "      <th>title</th>\n",
       "      <th>author</th>\n",
       "      <th>filename</th>\n",
       "      <th>genre</th>\n",
       "      <th>sources</th>\n",
       "    </tr>\n",
       "  </thead>\n",
       "  <tbody>\n",
       "    <tr>\n",
       "      <th>0</th>\n",
       "      <td>Armut, Reichtum, Schuld und Buße der Gräfin Do...</td>\n",
       "      <td>Achim von Arnim</td>\n",
       "      <td>Arnim_Armut,Reichtum,SchuldundBußederGräfinDol...</td>\n",
       "      <td>Romane</td>\n",
       "      <td>http://www.zeno.org/Literatur/M/Arnim,+Ludwig+...</td>\n",
       "    </tr>\n",
       "    <tr>\n",
       "      <th>1</th>\n",
       "      <td>Die Kronenwächter</td>\n",
       "      <td>Achim von Arnim</td>\n",
       "      <td>Arnim_DieKronenwächter_zeno.txt</td>\n",
       "      <td>Romane</td>\n",
       "      <td>http://www.zeno.org/Literatur/M/Arnim,+Ludwig+...</td>\n",
       "    </tr>\n",
       "    <tr>\n",
       "      <th>2</th>\n",
       "      <td>Der Wintergarten</td>\n",
       "      <td>Achim von Arnim</td>\n",
       "      <td>Arnim_DerWintergarten_zeno.txt</td>\n",
       "      <td>Erz%C3%A4hlungen</td>\n",
       "      <td>http://www.zeno.org/Literatur/M/Arnim,+Ludwig+...</td>\n",
       "    </tr>\n",
       "    <tr>\n",
       "      <th>3</th>\n",
       "      <td>Isabella von Ägypten</td>\n",
       "      <td>Achim von Arnim</td>\n",
       "      <td>Arnim_IsabellavonÄgypten_zeno.txt</td>\n",
       "      <td>Erz%C3%A4hlungen</td>\n",
       "      <td>http://www.zeno.org/Literatur/M/Arnim,+Ludwig+...</td>\n",
       "    </tr>\n",
       "    <tr>\n",
       "      <th>4</th>\n",
       "      <td>Die drei liebreichen Schwestern und der glückl...</td>\n",
       "      <td>Achim von Arnim</td>\n",
       "      <td>Arnim_DiedreiliebreichenSchwesternundderglückl...</td>\n",
       "      <td>Erz%C3%A4hlungen</td>\n",
       "      <td>http://www.zeno.org/Literatur/M/Arnim,+Ludwig+...</td>\n",
       "    </tr>\n",
       "  </tbody>\n",
       "</table>\n",
       "</div>"
      ],
      "text/plain": [
       "                                               title           author  \\\n",
       "0  Armut, Reichtum, Schuld und Buße der Gräfin Do...  Achim von Arnim   \n",
       "1                                  Die Kronenwächter  Achim von Arnim   \n",
       "2                                   Der Wintergarten  Achim von Arnim   \n",
       "3                               Isabella von Ägypten  Achim von Arnim   \n",
       "4  Die drei liebreichen Schwestern und der glückl...  Achim von Arnim   \n",
       "\n",
       "                                            filename             genre  \\\n",
       "0  Arnim_Armut,Reichtum,SchuldundBußederGräfinDol...            Romane   \n",
       "1                    Arnim_DieKronenwächter_zeno.txt            Romane   \n",
       "2                     Arnim_DerWintergarten_zeno.txt  Erz%C3%A4hlungen   \n",
       "3                  Arnim_IsabellavonÄgypten_zeno.txt  Erz%C3%A4hlungen   \n",
       "4  Arnim_DiedreiliebreichenSchwesternundderglückl...  Erz%C3%A4hlungen   \n",
       "\n",
       "                                             sources  \n",
       "0  http://www.zeno.org/Literatur/M/Arnim,+Ludwig+...  \n",
       "1  http://www.zeno.org/Literatur/M/Arnim,+Ludwig+...  \n",
       "2  http://www.zeno.org/Literatur/M/Arnim,+Ludwig+...  \n",
       "3  http://www.zeno.org/Literatur/M/Arnim,+Ludwig+...  \n",
       "4  http://www.zeno.org/Literatur/M/Arnim,+Ludwig+...  "
      ]
     },
     "execution_count": 6,
     "metadata": {},
     "output_type": "execute_result"
    }
   ],
   "source": [
    "df = pd.DataFrame()\n",
    "df[\"title\"]=titles\n",
    "df[\"author\"]=authors\n",
    "df[\"filename\"]=filenames\n",
    "df[\"genre\"]=genres\n",
    "df[\"sources\"]=sources\n",
    "\n",
    "df.head()"
   ]
  },
  {
   "cell_type": "code",
   "execution_count": 7,
   "id": "21c67d38-68e8-4847-a325-754f252223bf",
   "metadata": {
    "tags": []
   },
   "outputs": [
    {
     "data": {
      "text/plain": [
       "503"
      ]
     },
     "execution_count": 7,
     "metadata": {},
     "output_type": "execute_result"
    }
   ],
   "source": [
    "len(df)"
   ]
  },
  {
   "cell_type": "code",
   "execution_count": 8,
   "id": "2566a43a-97cc-45bf-a1c5-622837b1e4e9",
   "metadata": {
    "tags": []
   },
   "outputs": [
    {
     "data": {
      "text/plain": [
       "0"
      ]
     },
     "execution_count": 8,
     "metadata": {},
     "output_type": "execute_result"
    }
   ],
   "source": [
    "len(df[df.duplicated([\"filename\"], keep=False)])"
   ]
  },
  {
   "cell_type": "code",
   "execution_count": 9,
   "id": "2ead260b-4be1-436b-92f9-cad6f62297a8",
   "metadata": {
    "tags": []
   },
   "outputs": [],
   "source": [
    "# df.to_csv(\"metadata_Zeno.csv\", encoding=\"utf8\", sep=\";\")"
   ]
  },
  {
   "cell_type": "code",
   "execution_count": 10,
   "id": "11d1ab4e-3e82-4380-9f97-e3577d507c5a",
   "metadata": {
    "tags": []
   },
   "outputs": [],
   "source": [
    "def get_chapter_list(li_soup):\n",
    "    chapters = []\n",
    "    \n",
    "    for li in li_soup:\n",
    "            if li.b:\n",
    "                continue\n",
    "            else:\n",
    "                if li.a:\n",
    "                    for genre in list_of_genres:\n",
    "                        if genre in li.a.get(\"href\"):\n",
    "                            chapters.append(\"http://www.zeno.org\" + li.a.get(\"href\"))\n",
    "    return chapters"
   ]
  },
  {
   "cell_type": "code",
   "execution_count": 11,
   "id": "a75f3435-f3ed-4575-a7f5-72ba402d1262",
   "metadata": {
    "tags": []
   },
   "outputs": [
    {
     "name": "stdout",
     "output_type": "stream",
     "text": [
      "Wieland_DieAbenteuerdesDonSylviovonRosalva_zeno.txt\n",
      "Willkomm_WeisseSclavenoderdieLeidendesVolkes_zeno.txt\n",
      "Lewald_VonGeschlechtzuGeschlecht_zeno.txt\n",
      "Freytag_DieverloreneHandschrift_zeno.txt\n",
      "Wassermann_DasGänsemännchen_zeno.txt\n",
      "Gutzkow_DerZauberervonRom_zeno.txt\n"
     ]
    }
   ],
   "source": [
    "for text_website in list(df[\"sources\"]):\n",
    "    filename = df[\"filename\"].loc[df[\"sources\"]==text_website].values[0]\n",
    "    \n",
    "    text = \"\"\n",
    "    \n",
    "    html_string = get_html(text_website)\n",
    "    soup = BeautifulSoup(html_string, 'html.parser') \n",
    "    \n",
    "    lis = soup.find_all(\"li\",{'class': False, 'id': False})\n",
    "    \n",
    "    chapters = get_chapter_list(lis)\n",
    "    \n",
    "    if len(chapters)>0:\n",
    "        for chapter in chapters:\n",
    "            sub_html_string = get_html(chapter)\n",
    "            sub_soup = BeautifulSoup(sub_html_string, 'html.parser')\n",
    "            \n",
    "            elements = sub_soup.find_all(\"p\")\n",
    "            \n",
    "            for element in elements:\n",
    "                text = text + element.text + \"\\n\"\n",
    "    else:\n",
    "        elements = soup.find_all(\"p\")\n",
    "\n",
    "        for element in elements:\n",
    "            text = text + element.text + \"\\n\"\n",
    "            \n",
    "    \n",
    "    if len(text.split())<5:\n",
    "        print(filename)\n",
    "    \n",
    "    with open(\"zeno_files/\" + filename, \"w\", encoding=\"utf8\") as f:\n",
    "                f.write(text)\n",
    "    time.sleep(1)"
   ]
  }
 ],
 "metadata": {
  "kernelspec": {
   "display_name": "Python 3 (ipykernel)",
   "language": "python",
   "name": "python3"
  },
  "language_info": {
   "codemirror_mode": {
    "name": "ipython",
    "version": 3
   },
   "file_extension": ".py",
   "mimetype": "text/x-python",
   "name": "python",
   "nbconvert_exporter": "python",
   "pygments_lexer": "ipython3",
   "version": "3.9.18"
  }
 },
 "nbformat": 4,
 "nbformat_minor": 5
}

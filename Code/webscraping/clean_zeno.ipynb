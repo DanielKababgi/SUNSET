{
 "cells": [
  {
   "cell_type": "markdown",
   "id": "67a02c90-10b4-4a14-85de-fe7b4cb0940d",
   "metadata": {},
   "source": [
    "#  clean zeno-texts"
   ]
  },
  {
   "cell_type": "code",
   "execution_count": 1,
   "id": "30c04f81-a273-45ab-9840-4947aa48eabb",
   "metadata": {
    "tags": []
   },
   "outputs": [],
   "source": [
    "import pandas as pd\n",
    "\n",
    "meta=pd.read_csv(\"metadata.csv\", sep=\";\")"
   ]
  },
  {
   "cell_type": "code",
   "execution_count": 2,
   "id": "650efebd-711d-4ecd-b8fc-8956fcaf5419",
   "metadata": {
    "tags": []
   },
   "outputs": [],
   "source": [
    "files = list(meta[\"filename\"])"
   ]
  },
  {
   "cell_type": "code",
   "execution_count": 3,
   "id": "20682d39-d602-4814-a26e-30cbd03d0af9",
   "metadata": {
    "tags": []
   },
   "outputs": [],
   "source": [
    "# print(texts[0])"
   ]
  },
  {
   "cell_type": "code",
   "execution_count": 4,
   "id": "a583ec04-8a2b-48f3-b9b9-fe523df22d55",
   "metadata": {
    "tags": []
   },
   "outputs": [],
   "source": [
    "test_string= \"\"\"»Will ich mit schönen Knaben reden,\n",
    "Die neigen sich in Demut gleich,\n",
    "Und merken nicht, wie gern ich jedem\n",
    "Den roten Mund zum Kusse reich;\n",
    "Ach dacht ich oft bei mir so schwer,\n",
    "Ach wenn ich nur nicht Gräfin wär!\n",
    "Wo hast du denn wieder diese Weisheit gelesen, du wirst dich noch überstudieren; erzähle nur die alte Geschichte, ich hoffe, sie wird unterhaltender sein.« – Wir müssen ihr kürzlich nacherzählen, teils weil die Geschichte uns erlustigt, teils weil sie zu den beiden Pflegetöchtern in naher Beziehung steht.\n",
    "Buchempfehlung\n",
    "\n",
    "Nach 25-jähriger Verbannung hofft der gealterte Casanova, in seine Heimatstadt Venedig zurückkehren zu dürfen. Während er auf Nachricht wartet lebt er im Hause eines alten Freundes, der drei Töchter hat... Aber ganz so einfach ist es dann doch nicht.\n",
    "82 Seiten, 3.80 Euro\n",
    "Buchempfehlung\n",
    "\n",
    "Im nach dem Wiener Kongress neugeordneten Europa entsteht seit 1815 große Literatur der Sehnsucht und der Melancholie. Die Schattenseiten der menschlichen Seele, Leidenschaft und die Hinwendung zum Religiösen sind die Themen der Spätromantik. Michael Holzinger hat elf große Erzählungen dieser Zeit zu diesem Leseband zusammengefasst.\n",
    "430 Seiten, 19.80 Euro\n",
    "  Herr Gernier Schapler (Capet), von Geblüt und Stamm ein edler rittermäßiger Mann, hatte sich nicht geschämt die Tochter eines reichen Metzgers zu Paris, eine fromme, tugendsame und überschöne Jungfrau zu einer ehelichen Gemahlin zu nehmen. Gott, der ihn reichlich mit Geld und Gut versehen, hat ihm auch einen jungen Sohn mit dieser seiner Gemahlin beschert, an den er beider Kräfte so wunderbar gewendet, ein Kind von außerordentlicher Stärke und adliger Gesinnung hervor zu bringen. Der Vater starb, noch ehe dieser Sohn geboren, die Mutter aber in der Geburt. Die Verwandten ließen ihn Hugh (Hugo) taufen, er wuchs in allen ritterlichen Tugenden auf, es war kein Turnier im Lande, wo er nicht Ehre eingelegt hätte, doch weil er ohne elterliche Zucht   geblieben war, so schöpfte er mit dem großen Löffel auf, und weil er viel vertragen konnte, so verschlemmte er viel. Seine Wirte, Schuster, Schneider, Harnischer, Sporer versahen es sich am wenigsten, als Hugh gar nichts mehr im Vermögen hatte, sie schlossen immer noch falsch, wer so viel vertäte, müsse so viel übrig haben, wie noch jetzt häufig der Fall ist. DOLORES: »Auch bei unserm Vater, – es ist doch unrecht, daß er gar nicht für uns gesorgt hat, warum hat er uns in die Welt gesetzt.« ... Als nun diese Schuldleute kamen, saß Hugo in großem Unmute einige Tage bei sich verschlossen und aß Arme Ritter statt der reichen Braten, bis ihm endlich einfiel zu seinem Vetter Simon nach Paris zu reiten, der ein reicher Metzger daselbst und seiner Mutter nächster Blutsverwandter war. Also machte sich Hugh eines Morgens heimlich auf, ritt nach Paris und da er vor seines Vetters Haus kam, das mit roten ausgeschnitzten und aufgeblasenen Braten, wie mit einer köstlichen Tapete behangen war, da wurde er bald erkannt und ihm die Türe geöffnet. Hugh aber wollte nicht also hineinreiten, sondern stieg ab von seinem Pferde, zog seinen Hut ab und grüßte seinen Vetter ganz demütiglich, welcher ihn mit gleicher Demut bewillkommte und sprach: »Lieber Herr und Vetter, wie soll ich das verstehen, daß Ihr Euch gegen mich so demütig erzeiget, hab ich Euch doch all mein Tage nie so schlecht gerüstet gesehen; so hat auch Euer Vater Herr Gernier Euch solchem geringen Stande nie zugeführt; Ihr wißt wohl, wie er oft mit zwölf gerüsteten Pferden in meinem Hause zu Herberge gelegen, er hatte auch stets die auserlesensten Knechte aus ganz Frankreich, deshalb ich mich über Euch entsetze und besorge, es gehe Euch nicht nach Eurem Sinne. Darum so kommt in mein Haus, Euer Pferd soll wohl versorgt werden, habt Ihr dann ein heimlich Anliegen, dadurch Ihr so betrübt seid, wollet mir solches nicht verhalten; kann ich Euch dann mit Leib und Gut behülflich sein, so sollt Ihr an mir keinen Zweifel haben, ich will mich hierin nicht sparen, noch verdrossen sein.« –\"\"\""
   ]
  },
  {
   "cell_type": "code",
   "execution_count": 5,
   "id": "610953a3-5df5-4ba8-8403-0d73d15194b4",
   "metadata": {
    "tags": []
   },
   "outputs": [],
   "source": [
    "import re"
   ]
  },
  {
   "cell_type": "code",
   "execution_count": 6,
   "id": "180c9c54-86be-46af-b3d0-fc84c16c0e7c",
   "metadata": {
    "tags": []
   },
   "outputs": [],
   "source": [
    "def find_between(s, first, last):\n",
    "    try:\n",
    "        regex = rf'({first}.*?{last})'\n",
    "        return re.findall(regex, s)\n",
    "    except ValueError:\n",
    "        return -1"
   ]
  },
  {
   "cell_type": "code",
   "execution_count": 7,
   "id": "493115f8-8978-4ff4-ac6b-b88a79f80394",
   "metadata": {
    "tags": []
   },
   "outputs": [],
   "source": [
    "ads = find_between(re.sub(\"\\n\", \" \", test_string), \"Buchempfehlung\", \" Euro \")"
   ]
  },
  {
   "cell_type": "code",
   "execution_count": 8,
   "id": "09d23881-293c-4691-a45a-43ee92272cad",
   "metadata": {
    "tags": []
   },
   "outputs": [],
   "source": [
    "string_to_end_all_strings = re.sub(\"\\n\", \" \", test_string)\n",
    "for ad in ads:\n",
    "    string_to_end_all_strings = re.sub(ad, \"\", string_to_end_all_strings)\n",
    "    \n",
    "# string_to_end_all_strings"
   ]
  },
  {
   "cell_type": "code",
   "execution_count": 29,
   "id": "2dd03626-6ab9-4554-bcd1-60fa3f64f3d0",
   "metadata": {
    "tags": []
   },
   "outputs": [],
   "source": [
    "for file in files:\n",
    "    if \"zeno\" in file:\n",
    "        with open(\"src/corpus/\" + file, \"r\", encoding=\"utf8\") as f:\n",
    "            text = re.sub(\"\\n\", \" \", f.read())\n",
    "        \n",
    "        ads = find_between(text, \"Buchempfehlung\", \"Euro \")\n",
    "        \n",
    "        for ad in ads:\n",
    "            text = re.sub(ad, \"\", text)\n",
    "        \n",
    "        ads2 = find_between(text, \"Buchempfehlung\", \"Euro\")\n",
    "        \n",
    "        for ad in ads2:\n",
    "            text = re.sub(ad, \"\", text)        \n",
    "        \n",
    "        with open(\"src/corpus/\" + file, \"w\", encoding=\"utf8\") as g:\n",
    "            g.write(text)"
   ]
  }
 ],
 "metadata": {
  "kernelspec": {
   "display_name": "Python 3 (ipykernel)",
   "language": "python",
   "name": "python3"
  },
  "language_info": {
   "codemirror_mode": {
    "name": "ipython",
    "version": 3
   },
   "file_extension": ".py",
   "mimetype": "text/x-python",
   "name": "python",
   "nbconvert_exporter": "python",
   "pygments_lexer": "ipython3",
   "version": "3.9.18"
  }
 },
 "nbformat": 4,
 "nbformat_minor": 5
}

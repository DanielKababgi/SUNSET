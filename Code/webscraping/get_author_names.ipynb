{
 "cells": [
  {
   "cell_type": "markdown",
   "id": "452a3a97-d1a6-4aa9-8203-6fecdb5ee54f",
   "metadata": {},
   "source": [
    "# get autor names"
   ]
  },
  {
   "cell_type": "code",
   "execution_count": 1,
   "id": "839f6f6d-892a-4d56-865d-eadf036dc90f",
   "metadata": {
    "tags": []
   },
   "outputs": [],
   "source": [
    "from bs4 import BeautifulSoup"
   ]
  },
  {
   "cell_type": "code",
   "execution_count": 2,
   "id": "3a9c3d2a-fff1-438d-b0a7-23d2e1a3534f",
   "metadata": {
    "tags": []
   },
   "outputs": [],
   "source": [
    "test = '<li><a href=\"/wiki/Thomas_Abbt\" title=\"Thomas Abbt\">Thomas Abbt</a> (1738–1766)</li>'"
   ]
  },
  {
   "cell_type": "code",
   "execution_count": 3,
   "id": "02dae04e-85ac-4206-9b23-43ad47712e2b",
   "metadata": {
    "tags": []
   },
   "outputs": [],
   "source": [
    "soup = BeautifulSoup(test, 'html.parser')"
   ]
  },
  {
   "cell_type": "code",
   "execution_count": 4,
   "id": "ffe6edcc-e4e9-44ec-a232-0df3b00637a0",
   "metadata": {
    "tags": []
   },
   "outputs": [],
   "source": [
    "text = soup.li.text"
   ]
  },
  {
   "cell_type": "code",
   "execution_count": 5,
   "id": "8ee15efb-790b-4c6a-9be1-b34e5a4c6830",
   "metadata": {
    "tags": []
   },
   "outputs": [],
   "source": [
    "import re"
   ]
  },
  {
   "cell_type": "code",
   "execution_count": 6,
   "id": "6b38b18a-f4a9-44a6-8afa-d454de11f692",
   "metadata": {
    "tags": []
   },
   "outputs": [
    {
     "data": {
      "text/plain": [
       "['1738', '1766']"
      ]
     },
     "execution_count": 6,
     "metadata": {},
     "output_type": "execute_result"
    }
   ],
   "source": [
    "re.findall(\"\\d+\", text)"
   ]
  },
  {
   "cell_type": "code",
   "execution_count": 8,
   "id": "2b673a1a-29c9-46d9-a1cc-8258dfb3bae5",
   "metadata": {
    "tags": []
   },
   "outputs": [],
   "source": [
    "from pywebcopy import save_webpage"
   ]
  },
  {
   "cell_type": "code",
   "execution_count": 9,
   "id": "40aa48db-11a1-4d21-b01e-2014f6ee8d0d",
   "metadata": {
    "tags": []
   },
   "outputs": [],
   "source": [
    "base_url = \"https://de.wikipedia.org/wiki/Liste_deutschsprachiger_Schriftsteller/\"\n",
    "pages = [\"A\", \"B\", \"C\", \"D\", \"E\", \"F\", \"G\", \"H\", \"I\", \"J\", \"K\", \"L\", \"M\", \"N\", \"O\", \"P\", \"Q\", \"R\", \"S\", \"T\", \"U\", \"V\", \"W\", \"Z\"]"
   ]
  },
  {
   "cell_type": "code",
   "execution_count": 24,
   "id": "06566f7d-92fe-4ed5-95be-9bad5294644c",
   "metadata": {
    "tags": []
   },
   "outputs": [],
   "source": [
    "# for page in pages:\n",
    "#     url=base_url+page\n",
    "#     download_folder=\"src/pages/\"\n",
    "    \n",
    "#     kwargs = {'bypass_robots': True, 'project_name': 'corpus_diss', 'open_in_browser': False}\n",
    "    \n",
    "#     save_webpage(url, download_folder, **kwargs)"
   ]
  },
  {
   "cell_type": "code",
   "execution_count": 58,
   "id": "bd10d865-1270-4664-bd95-ceec8f052395",
   "metadata": {
    "tags": []
   },
   "outputs": [
    {
     "data": {
      "text/plain": [
       "['1766']"
      ]
     },
     "execution_count": 58,
     "metadata": {},
     "output_type": "execute_result"
    }
   ],
   "source": [
    "test=\"Thomas Abbt (1738–1766)\"\n",
    "bla=test.split(\"(\")[1].split(\"–\")[1]\n",
    "re.findall(\"\\d+\", bla)"
   ]
  },
  {
   "cell_type": "code",
   "execution_count": 59,
   "id": "11450a9b-6946-4d59-b818-63dbf548994f",
   "metadata": {
    "tags": []
   },
   "outputs": [],
   "source": [
    "import os\n",
    "\n",
    "path_to_pages=\"src/pages/\"\n",
    "name=[]\n",
    "birth_year=[]\n",
    "death_year=[]\n",
    "\n",
    "for file in os.listdir(path_to_pages):\n",
    "    with open(path_to_pages + file, encoding=\"utf8\") as f:\n",
    "        page = f.read()\n",
    "        \n",
    "    soup = BeautifulSoup(page, 'html.parser')\n",
    "    list_elements = soup.find_all(\"li\")\n",
    "    \n",
    "    for list_element in list_elements:\n",
    "        author_entry = list_element.text\n",
    "        \n",
    "        if len(re.findall(\"\\d+\", author_entry))==2:\n",
    "            if (int(re.findall(\"\\d+\", author_entry)[0]) >= 1720) & (int(re.findall(\"\\d+\", author_entry)[0]) <= 1900):\n",
    "                entries = author_entry.split(\"(\")\n",
    "                name.append(entries[0])\n",
    "                if re.findall(\"\\d+\", entries[1]):\n",
    "                    years = entries[1].split(\"–\")\n",
    "                    birth_year.append(years[0])\n",
    "                    \n",
    "                    dy=re.findall(\"\\d+\", years[1])[0]\n",
    "                    death_year.append(dy)\n",
    "                else:\n",
    "                    if re.findall(\"\\d+\", entries[2]):\n",
    "                        years = entries[2].split(\"–\")\n",
    "                        birth_year.append(years[0])\n",
    "                        \n",
    "                        dy=re.findall(\"\\d+\", years[1])[0]\n",
    "                        death_year.append(dy)\n",
    "                    \n",
    "                # birth_year.append(entries[1].split(\"–\")[0])\n",
    "                # if bool(entries[1].split(\"–\")[1]):\n",
    "                #     death_year.append(entries[1].split(\"–\")[1])\n",
    "                # else:\n",
    "                #     death_year.append(\"NaN\")"
   ]
  },
  {
   "cell_type": "code",
   "execution_count": 60,
   "id": "ec6da1be-3ded-4456-b203-a2ce80a8a12e",
   "metadata": {
    "tags": []
   },
   "outputs": [],
   "source": [
    "import pandas as pd\n",
    "\n",
    "df = pd.DataFrame()\n",
    "df[\"Name\"]=name\n",
    "df[\"birth\"]=birth_year\n",
    "df[\"death\"]=death_year"
   ]
  },
  {
   "cell_type": "code",
   "execution_count": 62,
   "id": "07790ec3-30df-4c4d-bd34-b488427cae8d",
   "metadata": {
    "tags": []
   },
   "outputs": [
    {
     "data": {
      "text/html": [
       "<div>\n",
       "<style scoped>\n",
       "    .dataframe tbody tr th:only-of-type {\n",
       "        vertical-align: middle;\n",
       "    }\n",
       "\n",
       "    .dataframe tbody tr th {\n",
       "        vertical-align: top;\n",
       "    }\n",
       "\n",
       "    .dataframe thead th {\n",
       "        text-align: right;\n",
       "    }\n",
       "</style>\n",
       "<table border=\"1\" class=\"dataframe\">\n",
       "  <thead>\n",
       "    <tr style=\"text-align: right;\">\n",
       "      <th></th>\n",
       "      <th>Name</th>\n",
       "      <th>birth</th>\n",
       "      <th>death</th>\n",
       "    </tr>\n",
       "  </thead>\n",
       "  <tbody>\n",
       "    <tr>\n",
       "      <th>0</th>\n",
       "      <td>Thomas Abbt</td>\n",
       "      <td>1738</td>\n",
       "      <td>1766</td>\n",
       "    </tr>\n",
       "    <tr>\n",
       "      <th>1</th>\n",
       "      <td>Bernhard Abeken, Pseudonym Ernst Andolt</td>\n",
       "      <td>1826</td>\n",
       "      <td>1901</td>\n",
       "    </tr>\n",
       "    <tr>\n",
       "      <th>2</th>\n",
       "      <td>Hans Karl Abel</td>\n",
       "      <td>1876</td>\n",
       "      <td>1951</td>\n",
       "    </tr>\n",
       "    <tr>\n",
       "      <th>3</th>\n",
       "      <td>Franz Heinrich Achermann</td>\n",
       "      <td>1881</td>\n",
       "      <td>1946</td>\n",
       "    </tr>\n",
       "    <tr>\n",
       "      <th>4</th>\n",
       "      <td>Arthur Achleitner</td>\n",
       "      <td>1858</td>\n",
       "      <td>1927</td>\n",
       "    </tr>\n",
       "  </tbody>\n",
       "</table>\n",
       "</div>"
      ],
      "text/plain": [
       "                                       Name birth death\n",
       "0                              Thomas Abbt   1738  1766\n",
       "1  Bernhard Abeken, Pseudonym Ernst Andolt   1826  1901\n",
       "2                           Hans Karl Abel   1876  1951\n",
       "3                 Franz Heinrich Achermann   1881  1946\n",
       "4                        Arthur Achleitner   1858  1927"
      ]
     },
     "execution_count": 62,
     "metadata": {},
     "output_type": "execute_result"
    }
   ],
   "source": [
    "df.head()"
   ]
  },
  {
   "cell_type": "code",
   "execution_count": 63,
   "id": "904b97a5-9ec9-4219-8e0a-ce202f966472",
   "metadata": {
    "tags": []
   },
   "outputs": [],
   "source": [
    "df.to_csv(\"src/Autorenliste_wikipedia.csv\", encoding=\"utf8\", sep=\",\", index=\"false\")"
   ]
  }
 ],
 "metadata": {
  "kernelspec": {
   "display_name": "Python 3 (ipykernel)",
   "language": "python",
   "name": "python3"
  },
  "language_info": {
   "codemirror_mode": {
    "name": "ipython",
    "version": 3
   },
   "file_extension": ".py",
   "mimetype": "text/x-python",
   "name": "python",
   "nbconvert_exporter": "python",
   "pygments_lexer": "ipython3",
   "version": "3.9.17"
  }
 },
 "nbformat": 4,
 "nbformat_minor": 5
}

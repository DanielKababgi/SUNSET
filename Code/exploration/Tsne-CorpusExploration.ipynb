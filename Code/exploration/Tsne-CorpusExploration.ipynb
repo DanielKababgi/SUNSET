{
 "cells": [
  {
   "cell_type": "markdown",
   "id": "d21c1050-7edc-4176-adf3-2e6948503e9f",
   "metadata": {},
   "source": [
    "# ToDo:\n",
    "- get a set of epoch-data based on author birth (20 years before period starts as a criterium) so we can color our data\n",
    "- rearrange the code to work in a single function, so we can do fast experiments!\n",
    "- do some experiments with perplexity"
   ]
  },
  {
   "cell_type": "markdown",
   "id": "5faa628a-9376-447a-b1fb-e059cb216260",
   "metadata": {},
   "source": [
    "# Tsne"
   ]
  },
  {
   "cell_type": "code",
   "execution_count": 1,
   "id": "44d3acd1-e630-40b2-9362-38d27cd78a79",
   "metadata": {
    "tags": []
   },
   "outputs": [],
   "source": [
    "import pandas as pd"
   ]
  },
  {
   "cell_type": "code",
   "execution_count": 2,
   "id": "93595d8f-2b7e-4249-952a-8a4448c00dae",
   "metadata": {
    "tags": []
   },
   "outputs": [
    {
     "data": {
      "text/html": [
       "<div>\n",
       "<style scoped>\n",
       "    .dataframe tbody tr th:only-of-type {\n",
       "        vertical-align: middle;\n",
       "    }\n",
       "\n",
       "    .dataframe tbody tr th {\n",
       "        vertical-align: top;\n",
       "    }\n",
       "\n",
       "    .dataframe thead th {\n",
       "        text-align: right;\n",
       "    }\n",
       "</style>\n",
       "<table border=\"1\" class=\"dataframe\">\n",
       "  <thead>\n",
       "    <tr style=\"text-align: right;\">\n",
       "      <th></th>\n",
       "      <th>Unnamed: 0</th>\n",
       "      <th>title</th>\n",
       "      <th>author</th>\n",
       "      <th>filename</th>\n",
       "      <th>pubyear</th>\n",
       "      <th>genre</th>\n",
       "      <th>sources</th>\n",
       "    </tr>\n",
       "  </thead>\n",
       "  <tbody>\n",
       "    <tr>\n",
       "      <th>0</th>\n",
       "      <td>40</td>\n",
       "      <td>Geschichte des Agathon</td>\n",
       "      <td>Christoph Martin Wieland</td>\n",
       "      <td>wieland_agathon01_1766.txt</td>\n",
       "      <td>1767.0</td>\n",
       "      <td>Prosa</td>\n",
       "      <td>https://www.deutschestextarchiv.de/book/show/w...</td>\n",
       "    </tr>\n",
       "    <tr>\n",
       "      <th>1</th>\n",
       "      <td>41</td>\n",
       "      <td>Geschichte des Agathon</td>\n",
       "      <td>Christoph Martin Wieland</td>\n",
       "      <td>wieland_agathon02_1767.txt</td>\n",
       "      <td>1767.0</td>\n",
       "      <td>Prosa</td>\n",
       "      <td>https://www.deutschestextarchiv.de/book/show/w...</td>\n",
       "    </tr>\n",
       "    <tr>\n",
       "      <th>2</th>\n",
       "      <td>38</td>\n",
       "      <td>Geschichte des Fräuleins von Sternheim</td>\n",
       "      <td>Christoph Martin Wieland</td>\n",
       "      <td>laroche_geschichte01_1771.txt</td>\n",
       "      <td>1771.0</td>\n",
       "      <td>Roman</td>\n",
       "      <td>https://www.deutschestextarchiv.de/book/show/l...</td>\n",
       "    </tr>\n",
       "    <tr>\n",
       "      <th>3</th>\n",
       "      <td>39</td>\n",
       "      <td>Geschichte des Fräuleins von Sternheim</td>\n",
       "      <td>Christoph Martin Wieland</td>\n",
       "      <td>laroche_geschichte02_1771.txt</td>\n",
       "      <td>1771.0</td>\n",
       "      <td>Roman</td>\n",
       "      <td>https://www.deutschestextarchiv.de/book/show/l...</td>\n",
       "    </tr>\n",
       "    <tr>\n",
       "      <th>4</th>\n",
       "      <td>237</td>\n",
       "      <td>Geschichte des Fräuleins von Sternheim</td>\n",
       "      <td>Sophie von La Roche</td>\n",
       "      <td>laroche_geschichte01_1771.txt</td>\n",
       "      <td>1771.0</td>\n",
       "      <td>Roman</td>\n",
       "      <td>https://www.deutschestextarchiv.de/book/show/l...</td>\n",
       "    </tr>\n",
       "  </tbody>\n",
       "</table>\n",
       "</div>"
      ],
      "text/plain": [
       "   Unnamed: 0                                   title  \\\n",
       "0          40                  Geschichte des Agathon   \n",
       "1          41                  Geschichte des Agathon   \n",
       "2          38  Geschichte des Fräuleins von Sternheim   \n",
       "3          39  Geschichte des Fräuleins von Sternheim   \n",
       "4         237  Geschichte des Fräuleins von Sternheim   \n",
       "\n",
       "                     author                       filename  pubyear  \\\n",
       "0  Christoph Martin Wieland     wieland_agathon01_1766.txt   1767.0   \n",
       "1  Christoph Martin Wieland     wieland_agathon02_1767.txt   1767.0   \n",
       "2  Christoph Martin Wieland  laroche_geschichte01_1771.txt   1771.0   \n",
       "3  Christoph Martin Wieland  laroche_geschichte02_1771.txt   1771.0   \n",
       "4       Sophie von La Roche  laroche_geschichte01_1771.txt   1771.0   \n",
       "\n",
       "             genre                                            sources  \n",
       "0            Prosa  https://www.deutschestextarchiv.de/book/show/w...  \n",
       "1            Prosa  https://www.deutschestextarchiv.de/book/show/w...  \n",
       "2            Roman  https://www.deutschestextarchiv.de/book/show/l...  \n",
       "3            Roman  https://www.deutschestextarchiv.de/book/show/l...  \n",
       "4            Roman  https://www.deutschestextarchiv.de/book/show/l...  "
      ]
     },
     "execution_count": 2,
     "metadata": {},
     "output_type": "execute_result"
    }
   ],
   "source": [
    "meta = pd.read_csv(\"metadata.csv\", encoding=\"utf8\", sep=\";\")\n",
    "meta.head()"
   ]
  },
  {
   "cell_type": "code",
   "execution_count": 3,
   "id": "e3f2174c-fc82-4d11-a3c9-2c6c4bd910dc",
   "metadata": {
    "tags": []
   },
   "outputs": [
    {
     "data": {
      "text/html": [
       "<div>\n",
       "<style scoped>\n",
       "    .dataframe tbody tr th:only-of-type {\n",
       "        vertical-align: middle;\n",
       "    }\n",
       "\n",
       "    .dataframe tbody tr th {\n",
       "        vertical-align: top;\n",
       "    }\n",
       "\n",
       "    .dataframe thead th {\n",
       "        text-align: right;\n",
       "    }\n",
       "</style>\n",
       "<table border=\"1\" class=\"dataframe\">\n",
       "  <thead>\n",
       "    <tr style=\"text-align: right;\">\n",
       "      <th></th>\n",
       "      <th>ID</th>\n",
       "      <th>Voller_Name</th>\n",
       "      <th>Nachname</th>\n",
       "      <th>Vorname</th>\n",
       "      <th>Geburtsjahr</th>\n",
       "      <th>Todesjahr</th>\n",
       "      <th>Nationalität</th>\n",
       "      <th>Geschlecht</th>\n",
       "      <th>Gutenberg</th>\n",
       "      <th>Zeno</th>\n",
       "      <th>DTA</th>\n",
       "      <th>WikiSource</th>\n",
       "      <th>Kolimo+</th>\n",
       "      <th>Anmerkung</th>\n",
       "    </tr>\n",
       "  </thead>\n",
       "  <tbody>\n",
       "    <tr>\n",
       "      <th>0</th>\n",
       "      <td>1</td>\n",
       "      <td>Abraham Emanuel Fröhlich</td>\n",
       "      <td>NaN</td>\n",
       "      <td>NaN</td>\n",
       "      <td>1796</td>\n",
       "      <td>1865.0</td>\n",
       "      <td>CHE</td>\n",
       "      <td>m</td>\n",
       "      <td>https://www.projekt-gutenberg.org/autoren/name...</td>\n",
       "      <td>NaN</td>\n",
       "      <td>NaN</td>\n",
       "      <td>https://de.wikisource.org/wiki/Abraham_Emanuel...</td>\n",
       "      <td>NaN</td>\n",
       "      <td>NaN</td>\n",
       "    </tr>\n",
       "    <tr>\n",
       "      <th>1</th>\n",
       "      <td>2</td>\n",
       "      <td>Achim von Arnim</td>\n",
       "      <td>von Arnim</td>\n",
       "      <td>Achim</td>\n",
       "      <td>1781</td>\n",
       "      <td>1831.0</td>\n",
       "      <td>DEU</td>\n",
       "      <td>m</td>\n",
       "      <td>https://www.projekt-gutenberg.org/autoren/name...</td>\n",
       "      <td>http://www.zeno.org/Literatur/M/Arnim,+Ludwig+...</td>\n",
       "      <td>https://www.deutschestextarchiv.de/api/pnd/118...</td>\n",
       "      <td>https://de.wikisource.org/wiki/Achim_von_Arnim</td>\n",
       "      <td>NaN</td>\n",
       "      <td>NaN</td>\n",
       "    </tr>\n",
       "    <tr>\n",
       "      <th>2</th>\n",
       "      <td>3</td>\n",
       "      <td>Ada Christen, eigentlich Christiane von Breden</td>\n",
       "      <td>NaN</td>\n",
       "      <td>NaN</td>\n",
       "      <td>1844</td>\n",
       "      <td>1901.0</td>\n",
       "      <td>AUT</td>\n",
       "      <td>f</td>\n",
       "      <td>NaN</td>\n",
       "      <td>http://www.zeno.org/Literatur/M/Christen,+Ada</td>\n",
       "      <td>NaN</td>\n",
       "      <td>https://de.wikisource.org/wiki/Ada_Christen</td>\n",
       "      <td>NaN</td>\n",
       "      <td>NaN</td>\n",
       "    </tr>\n",
       "    <tr>\n",
       "      <th>3</th>\n",
       "      <td>4</td>\n",
       "      <td>Ada von Gersdorff</td>\n",
       "      <td>NaN</td>\n",
       "      <td>NaN</td>\n",
       "      <td>1854</td>\n",
       "      <td>1922.0</td>\n",
       "      <td>DEU</td>\n",
       "      <td>f</td>\n",
       "      <td>NaN</td>\n",
       "      <td>NaN</td>\n",
       "      <td>NaN</td>\n",
       "      <td>NaN</td>\n",
       "      <td>NaN</td>\n",
       "      <td>NaN</td>\n",
       "    </tr>\n",
       "    <tr>\n",
       "      <th>4</th>\n",
       "      <td>5</td>\n",
       "      <td>Adalbert Stifter</td>\n",
       "      <td>NaN</td>\n",
       "      <td>NaN</td>\n",
       "      <td>1805</td>\n",
       "      <td>1868.0</td>\n",
       "      <td>AUT</td>\n",
       "      <td>m</td>\n",
       "      <td>https://www.projekt-gutenberg.org/autoren/name...</td>\n",
       "      <td>http://www.zeno.org/Literatur/M/Stifter,+Adalbert</td>\n",
       "      <td>https://www.deutschestextarchiv.de/api/pnd/118...</td>\n",
       "      <td>https://de.wikisource.org/wiki/Adalbert_Stifter</td>\n",
       "      <td>NaN</td>\n",
       "      <td>NaN</td>\n",
       "    </tr>\n",
       "  </tbody>\n",
       "</table>\n",
       "</div>"
      ],
      "text/plain": [
       "   ID                                     Voller_Name   Nachname Vorname  \\\n",
       "0   1                        Abraham Emanuel Fröhlich        NaN     NaN   \n",
       "1   2                                 Achim von Arnim  von Arnim   Achim   \n",
       "2   3  Ada Christen, eigentlich Christiane von Breden        NaN     NaN   \n",
       "3   4                               Ada von Gersdorff        NaN     NaN   \n",
       "4   5                                Adalbert Stifter        NaN     NaN   \n",
       "\n",
       "   Geburtsjahr  Todesjahr Nationalität Geschlecht  \\\n",
       "0         1796     1865.0          CHE          m   \n",
       "1         1781     1831.0          DEU          m   \n",
       "2         1844     1901.0          AUT          f   \n",
       "3         1854     1922.0          DEU          f   \n",
       "4         1805     1868.0          AUT          m   \n",
       "\n",
       "                                           Gutenberg  \\\n",
       "0  https://www.projekt-gutenberg.org/autoren/name...   \n",
       "1  https://www.projekt-gutenberg.org/autoren/name...   \n",
       "2                                                NaN   \n",
       "3                                                NaN   \n",
       "4  https://www.projekt-gutenberg.org/autoren/name...   \n",
       "\n",
       "                                                Zeno  \\\n",
       "0                                                NaN   \n",
       "1  http://www.zeno.org/Literatur/M/Arnim,+Ludwig+...   \n",
       "2      http://www.zeno.org/Literatur/M/Christen,+Ada   \n",
       "3                                                NaN   \n",
       "4  http://www.zeno.org/Literatur/M/Stifter,+Adalbert   \n",
       "\n",
       "                                                 DTA  \\\n",
       "0                                                NaN   \n",
       "1  https://www.deutschestextarchiv.de/api/pnd/118...   \n",
       "2                                                NaN   \n",
       "3                                                NaN   \n",
       "4  https://www.deutschestextarchiv.de/api/pnd/118...   \n",
       "\n",
       "                                          WikiSource Kolimo+ Anmerkung  \n",
       "0  https://de.wikisource.org/wiki/Abraham_Emanuel...     NaN       NaN  \n",
       "1     https://de.wikisource.org/wiki/Achim_von_Arnim     NaN       NaN  \n",
       "2        https://de.wikisource.org/wiki/Ada_Christen     NaN       NaN  \n",
       "3                                                NaN     NaN       NaN  \n",
       "4    https://de.wikisource.org/wiki/Adalbert_Stifter     NaN       NaN  "
      ]
     },
     "execution_count": 3,
     "metadata": {},
     "output_type": "execute_result"
    }
   ],
   "source": [
    "author_table = pd.read_csv(\"src/author_table.tsv\", sep=\"\\t\", encoding = \"utf8\")\n",
    "author_table.head()"
   ]
  },
  {
   "cell_type": "code",
   "execution_count": 4,
   "id": "893f72fc-9a6e-4032-ad87-0e73ba353826",
   "metadata": {
    "tags": []
   },
   "outputs": [
    {
     "data": {
      "text/plain": [
       "False"
      ]
     },
     "execution_count": 4,
     "metadata": {},
     "output_type": "execute_result"
    }
   ],
   "source": [
    "author_table[\"Geburtsjahr\"].isnull().values.any()"
   ]
  },
  {
   "cell_type": "code",
   "execution_count": 5,
   "id": "8fd30227-0a38-4bec-9bd7-ea491aa2aa02",
   "metadata": {
    "tags": []
   },
   "outputs": [
    {
     "data": {
      "text/plain": [
       "count    1385.000000\n",
       "mean     1826.512635\n",
       "std        38.270656\n",
       "min      1720.000000\n",
       "25%      1802.000000\n",
       "50%      1834.000000\n",
       "75%      1858.000000\n",
       "max      1895.000000\n",
       "Name: Geburtsjahr, dtype: float64"
      ]
     },
     "execution_count": 5,
     "metadata": {},
     "output_type": "execute_result"
    }
   ],
   "source": [
    "author_table[\"Geburtsjahr\"].describe()"
   ]
  },
  {
   "cell_type": "code",
   "execution_count": 6,
   "id": "513301ca-6fff-4066-87c0-ad49c31d2665",
   "metadata": {
    "tags": []
   },
   "outputs": [
    {
     "data": {
      "text/plain": [
       "1764"
      ]
     },
     "execution_count": 6,
     "metadata": {},
     "output_type": "execute_result"
    }
   ],
   "source": [
    "periods=[]\n",
    "\n",
    "for author in list(meta[\"author\"]):\n",
    "    birthyear = author_table[\"Geburtsjahr\"].loc[author_table[\"Voller_Name\"]==author]\n",
    "    \n",
    "    if int(birthyear.iloc[0])<1811:\n",
    "        periods.append(\"Kunstepoche\")\n",
    "    elif (int(birthyear.iloc[0]) >= 1811) & (int(birthyear.iloc[0]) <=1830):\n",
    "        periods.append(\"Vormärz\")\n",
    "    elif (int(birthyear.iloc[0]) > 1831) & (int(birthyear.iloc[0]) <=1870):\n",
    "        periods.append(\"Realismus\")\n",
    "    else:\n",
    "        periods.append(\"Moderne\")\n",
    "    \n",
    "len(periods)"
   ]
  },
  {
   "cell_type": "code",
   "execution_count": 7,
   "id": "69ee3c43-c926-443e-b171-ad3c3c473a28",
   "metadata": {
    "tags": []
   },
   "outputs": [
    {
     "data": {
      "text/plain": [
       "1764"
      ]
     },
     "execution_count": 7,
     "metadata": {},
     "output_type": "execute_result"
    }
   ],
   "source": [
    "genders=[]\n",
    "\n",
    "for author in list(meta[\"author\"]):\n",
    "    gender = author_table[\"Geschlecht\"].loc[author_table[\"Voller_Name\"]==author]\n",
    "    \n",
    "    genders.append(gender.iloc[0])\n",
    "    \n",
    "len(genders)"
   ]
  },
  {
   "cell_type": "code",
   "execution_count": 8,
   "id": "85304640-9caa-4145-9dd5-cea4fe243db8",
   "metadata": {
    "tags": []
   },
   "outputs": [
    {
     "data": {
      "text/plain": [
       "1764"
      ]
     },
     "execution_count": 8,
     "metadata": {},
     "output_type": "execute_result"
    }
   ],
   "source": [
    "len(meta)"
   ]
  },
  {
   "cell_type": "code",
   "execution_count": 9,
   "id": "7eda51b0-8b55-4fcc-9341-f86718a14105",
   "metadata": {
    "tags": []
   },
   "outputs": [],
   "source": [
    "corpus = []\n",
    "\n",
    "for file in list(meta[\"filename\"]):\n",
    "    with open(\"src/corpus_nostopwords/\" + file, encoding=\"utf8\") as f:\n",
    "        corpus.append(f.read())"
   ]
  },
  {
   "cell_type": "code",
   "execution_count": 10,
   "id": "3933f84a-66b4-4fe4-a887-7d1fe910126e",
   "metadata": {
    "tags": []
   },
   "outputs": [
    {
     "data": {
      "text/plain": [
       "1764"
      ]
     },
     "execution_count": 10,
     "metadata": {},
     "output_type": "execute_result"
    }
   ],
   "source": [
    "len(corpus)"
   ]
  },
  {
   "cell_type": "markdown",
   "id": "c6a34d20-b710-4e48-acf0-72a7d9f7c2cd",
   "metadata": {},
   "source": [
    "## tf-ifd"
   ]
  },
  {
   "cell_type": "code",
   "execution_count": 11,
   "id": "a6f1a578-0728-4593-bf0c-7e7320643abc",
   "metadata": {
    "tags": []
   },
   "outputs": [],
   "source": [
    "from sklearn.feature_extraction.text import CountVectorizer"
   ]
  },
  {
   "cell_type": "code",
   "execution_count": 12,
   "id": "ed6de3dc-2f12-4bc1-a475-649fae94bf05",
   "metadata": {
    "tags": []
   },
   "outputs": [],
   "source": [
    "vectorizer = CountVectorizer(min_df=20,\n",
    "                             # max_df=100,\n",
    "                             lowercase=True,\n",
    "                             max_features=20000\n",
    "                             )\n",
    "\n",
    "X = vectorizer.fit_transform(corpus)"
   ]
  },
  {
   "cell_type": "markdown",
   "id": "994e53ea-fe53-45c0-9281-9a66b046c63d",
   "metadata": {},
   "source": [
    "## Tsne"
   ]
  },
  {
   "cell_type": "code",
   "execution_count": 13,
   "id": "1e00fa48-bd1a-4b40-a111-802743f18b26",
   "metadata": {
    "tags": []
   },
   "outputs": [],
   "source": [
    "from sklearn.manifold import TSNE\n",
    "from sklearn.decomposition import TruncatedSVD\n",
    "from sklearn.decomposition import PCA\n",
    "import plotly.express as px"
   ]
  },
  {
   "cell_type": "code",
   "execution_count": 14,
   "id": "ceb0aba9-fd54-4f39-bd5b-fc39a7edcddd",
   "metadata": {
    "tags": []
   },
   "outputs": [],
   "source": [
    "def make_tsne(input_matrix, dim_reduction, n_perplexity, n_iterations):\n",
    "    \n",
    "    # dimension reduction\n",
    "    svd = TruncatedSVD(n_components=dim_reduction, random_state=42)\n",
    "    data = svd.fit_transform(input_matrix)\n",
    "    \n",
    "    X_embedded = TSNE(n_components=2,\n",
    "                  learning_rate='auto',\n",
    "                  init='random',\n",
    "                  n_iter=n_iterations,\n",
    "                  perplexity=n_perplexity).fit_transform(data)\n",
    "    \n",
    "    # building the dataset\n",
    "    df=pd.DataFrame()\n",
    "    df[\"title\"]=list(meta[\"title\"])\n",
    "    df[\"author\"]=list(meta[\"author\"])\n",
    "    df[\"period\"]=periods\n",
    "    df[\"gender\"]=genders\n",
    "    df=df.join(pd.DataFrame(X_embedded))\n",
    "    df=df.rename(columns={0:\"Dim 1\", 1:\"Dim 2\"})\n",
    "    \n",
    "    # plotting\n",
    "    # title=\"dim: \" + str(dim_reduction) + \", perp: \" + str(n_perplexity) + \", iter: \" + str(n_iterations)\n",
    "    title = \"Fig 4: A first exploration of the corpus based on MFW and gender\"\n",
    "    \n",
    "    fig = px.scatter(df,\n",
    "                     x=\"Dim 1\",\n",
    "                     y=\"Dim 2\",\n",
    "                     hover_data=[\"title\", \"author\", \"period\"],\n",
    "                     color=\"gender\",\n",
    "                     color_discrete_sequence=['#053c6c', '#9d95b0' ],\n",
    "                     title=title)\n",
    "    \n",
    "    fig.update_layout({\"plot_bgcolor\":\"#ffbb91\", \"paper_bgcolor\":\"#feba67\", \"height\":750, \"width\":1000,},\n",
    "                      xaxis=dict(showgrid=False),\n",
    "                      yaxis=dict(showgrid=False),\n",
    "                      title_font_color=\"#122630\",\n",
    "                      title=dict(font=dict(size=28), yref='paper')\n",
    "                      )\n",
    "    \n",
    "    fig.show()"
   ]
  },
  {
   "cell_type": "code",
   "execution_count": 17,
   "id": "6a125b2e-9aab-4304-a6b4-ca98f73132e3",
   "metadata": {
    "tags": []
   },
   "outputs": [
    {
     "data": {
      "application/vnd.plotly.v1+json": {
       "config": {
        "plotlyServerURL": "https://plot.ly"
       },
       "data": [
        {
         "customdata": [
          [
           "Geschichte des Agathon",
           "Christoph Martin Wieland",
           "Kunstepoche"
          ],
          [
           "Geschichte des Agathon",
           "Christoph Martin Wieland",
           "Kunstepoche"
          ],
          [
           "Geschichte des Fräuleins von Sternheim",
           "Christoph Martin Wieland",
           "Kunstepoche"
          ],
          [
           "Geschichte des Fräuleins von Sternheim",
           "Christoph Martin Wieland",
           "Kunstepoche"
          ],
          [
           "Das Leben und die Meinungen des Herrn Magister Sebaldus Nothanker",
           "Friedrich Nicolai",
           "Kunstepoche"
          ],
          [
           "Die Leiden des jungen Werthers",
           "Johann Wolfgang von Goethe",
           "Kunstepoche"
          ],
          [
           "Die Leiden des jungen Werthers",
           "Johann Wolfgang von Goethe",
           "Kunstepoche"
          ],
          [
           "Das Leben und die Meinungen des Herrn Magister Sebaldus Nothanker",
           "Friedrich Nicolai",
           "Kunstepoche"
          ],
          [
           "Das Leben und die Meinungen des Herrn Magister Sebaldus Nothanker",
           "Friedrich Nicolai",
           "Kunstepoche"
          ],
          [
           "Siegwart",
           "Johann Martin Miller",
           "Kunstepoche"
          ],
          [
           "Siegwart",
           "Johann Martin Miller",
           "Kunstepoche"
          ],
          [
           "Physiognomische Reisen ",
           "Johann Karl August Musäus",
           "Kunstepoche"
          ],
          [
           "Robinson der Jüngere",
           "Joachim Heinrich Campe",
           "Kunstepoche"
          ],
          [
           "Physiognomische Reisen",
           "Johann Karl August Musäus",
           "Kunstepoche"
          ],
          [
           "Physiognomische Reisen",
           "Johann Karl August Musäus",
           "Kunstepoche"
          ],
          [
           "Physiognomische Reisen",
           "Johann Karl August Musäus",
           "Kunstepoche"
          ],
          [
           "Robinson der Jüngere",
           "Joachim Heinrich Campe",
           "Kunstepoche"
          ],
          [
           "Anton Reiser",
           "Karl Philipp Moritz",
           "Kunstepoche"
          ],
          [
           "Anton Reiser",
           "Karl Philipp Moritz",
           "Kunstepoche"
          ],
          [
           "Anton Reiser",
           "Karl Philipp Moritz",
           "Kunstepoche"
          ],
          [
           "Wunderbare Reisen zu Wasser und Lande, Feldzüge und lustige Abentheuer des Freyherrn von Münchhausen, wie er dieselben bey der Flasche im Cirkel seiner Freunde selbst zu erzählen pflegt",
           "Rudolf Erich Raspe",
           "Kunstepoche"
          ],
          [
           "Der Geisterseher",
           "Friedrich Schiller",
           "Kunstepoche"
          ],
          [
           "Geister und Geisterseher oder Leben und frühes Ende eines Nekromantisten",
           "Heinrich Zschokke",
           "Kunstepoche"
          ],
          [
           "Anton Reiser",
           "Karl Philipp Moritz",
           "Kunstepoche"
          ],
          [
           "Fausts Leben, Thaten und Höllenfahrt",
           "Friedrich Maximilian Klinger",
           "Kunstepoche"
          ],
          [
           "Eduard Allwills Briefsammlung",
           "Friedrich Heinrich Jacobi",
           "Kunstepoche"
          ],
          [
           "Die unsichtbare Loge",
           "Jean Paul, eigentlich Johann Paul Friedrich Richter",
           "Kunstepoche"
          ],
          [
           "Die unsichtbare Loge",
           "Jean Paul, eigentlich Johann Paul Friedrich Richter",
           "Kunstepoche"
          ],
          [
           "Reinecke Fuchs",
           "Johann Wolfgang von Goethe",
           "Kunstepoche"
          ],
          [
           "Hesperus, oder 45 Hundsposttage",
           "Jean Paul, eigentlich Johann Paul Friedrich Richter",
           "Kunstepoche"
          ],
          [
           "Hesperus, oder 45 Hundsposttage",
           "Jean Paul, eigentlich Johann Paul Friedrich Richter",
           "Kunstepoche"
          ],
          [
           "Hesperus, oder 45 Hundsposttage",
           "Jean Paul, eigentlich Johann Paul Friedrich Richter",
           "Kunstepoche"
          ],
          [
           "Wilhelm Meisters Lehrjahre",
           "Johann Wolfgang von Goethe",
           "Kunstepoche"
          ],
          [
           "Wilhelm Meisters Lehrjahre",
           "Johann Wolfgang von Goethe",
           "Kunstepoche"
          ],
          [
           "Wilhelm Meisters Lehrjahre",
           "Johann Wolfgang von Goethe",
           "Kunstepoche"
          ],
          [
           "William Lovell",
           "Ludwig Tieck",
           "Kunstepoche"
          ],
          [
           "Biographien der Wahnsinnigen",
           "Christian Heinrich Spieß",
           "Kunstepoche"
          ],
          [
           "Biographien der Wahnsinnigen",
           "Christian Heinrich Spieß",
           "Kunstepoche"
          ],
          [
           "Biographien der Wahnsinnigen",
           "Christian Heinrich Spieß",
           "Kunstepoche"
          ],
          [
           "Biographien der Wahnsinnigen",
           "Christian Heinrich Spieß",
           "Kunstepoche"
          ],
          [
           "Wilhelm Meisters Lehrjahre",
           "Johann Wolfgang von Goethe",
           "Kunstepoche"
          ],
          [
           "William Lovell",
           "Ludwig Tieck",
           "Kunstepoche"
          ],
          [
           "William Lovell",
           "Ludwig Tieck",
           "Kunstepoche"
          ],
          [
           "Hyperion oder der Eremit in Griechenland",
           "Friedrich Hölderlin",
           "Kunstepoche"
          ],
          [
           "Herzensergießungen eines kunstliebenden Klosterbruders",
           "Ludwig Tieck",
           "Kunstepoche"
          ],
          [
           "Herzensergießungen eines kunstliebenden Klosterbruders",
           "Wilhelm Heinrich Wackenroder",
           "Kunstepoche"
          ],
          [
           "Athenaeum",
           "August Wilhelm Schlegel",
           "Kunstepoche"
          ],
          [
           "Athenaeum",
           "Friedrich Schlegel",
           "Kunstepoche"
          ],
          [
           "Franz Sternbald's Wanderungen",
           "Ludwig Tieck",
           "Kunstepoche"
          ],
          [
           "Franz Sternbalds Wanderungen",
           "Ludwig Tieck",
           "Kunstepoche"
          ],
          [
           "Athenaeum",
           "August Wilhelm Schlegel",
           "Kunstepoche"
          ],
          [
           "Hyperion oder der Eremit in Griechenland",
           "Friedrich Hölderlin",
           "Kunstepoche"
          ],
          [
           "Athenaeum",
           "Friedrich Schlegel",
           "Kunstepoche"
          ],
          [
           "Lucinde",
           "Friedrich Schlegel",
           "Kunstepoche"
          ],
          [
           "Die Jobsiade",
           "Karl Arnold Kortum",
           "Kunstepoche"
          ],
          [
           "Die Jobsiade",
           "Karl Arnold Kortum",
           "Kunstepoche"
          ],
          [
           "Die Jobsiade",
           "Karl Arnold Kortum",
           "Kunstepoche"
          ],
          [
           "Athenaeum",
           "August Wilhelm Schlegel",
           "Kunstepoche"
          ],
          [
           "Athenaeum",
           "Friedrich Schlegel",
           "Kunstepoche"
          ],
          [
           "Titan",
           "Jean Paul, eigentlich Johann Paul Friedrich Richter",
           "Kunstepoche"
          ],
          [
           "Florentin",
           "Friedrich Schlegel",
           "Kunstepoche"
          ],
          [
           "Titan",
           "Jean Paul, eigentlich Johann Paul Friedrich Richter",
           "Kunstepoche"
          ],
          [
           "Titan",
           "Jean Paul, eigentlich Johann Paul Friedrich Richter",
           "Kunstepoche"
          ],
          [
           "Titan",
           "Jean Paul, eigentlich Johann Paul Friedrich Richter",
           "Kunstepoche"
          ],
          [
           "Flegeljahre",
           "Jean Paul, eigentlich Johann Paul Friedrich Richter",
           "Kunstepoche"
          ],
          [
           "Flegeljahre",
           "Jean Paul, eigentlich Johann Paul Friedrich Richter",
           "Kunstepoche"
          ],
          [
           "Flegeljahre",
           "Jean Paul, eigentlich Johann Paul Friedrich Richter",
           "Kunstepoche"
          ],
          [
           "Nachtwachen",
           "Ernst August Friedrich Klingemann",
           "Kunstepoche"
          ],
          [
           "Flegeljahre",
           "Jean Paul, eigentlich Johann Paul Friedrich Richter",
           "Kunstepoche"
          ],
          [
           "D. Katzenbergers Badereise",
           "Jean Paul, eigentlich Johann Paul Friedrich Richter",
           "Kunstepoche"
          ],
          [
           "D. Katzenbergers Badereise",
           "Jean Paul, eigentlich Johann Paul Friedrich Richter",
           "Kunstepoche"
          ],
          [
           "Die Wahlverwandtschaften",
           "Johann Wolfgang von Goethe",
           "Kunstepoche"
          ],
          [
           "Die Wahlverwandtschaften",
           "Johann Wolfgang von Goethe",
           "Kunstepoche"
          ],
          [
           "Ini",
           "Julius von Voß",
           "Kunstepoche"
          ],
          [
           "Undine",
           "Friedrich de la Motte Fouqué",
           "Kunstepoche"
          ],
          [
           "Schatzkästlein des rheinischen Hausfreundes",
           "Johann Peter Hebel",
           "Kunstepoche"
          ],
          [
           "Kinder- und Haus-Märchen",
           "Jacob Grimm",
           "Kunstepoche"
          ],
          [
           "Kinder- und Haus-Märchen",
           "Jacob Grimm",
           "Kunstepoche"
          ],
          [
           "Phantasus",
           "Ludwig Tieck",
           "Kunstepoche"
          ],
          [
           "Phantasus",
           "Ludwig Tieck",
           "Kunstepoche"
          ],
          [
           "Peter Schlemihl's wundersame Geschichte",
           "Friedrich de la Motte Fouqué",
           "Kunstepoche"
          ],
          [
           "Kinder- und Haus-Märchen",
           "Jacob Grimm",
           "Kunstepoche"
          ],
          [
           "Kinder- und Haus-Märchen",
           "Jacob Grimm",
           "Kunstepoche"
          ],
          [
           "Ahnung und Gegenwart",
           "Joseph Freiherr von Eichendorff",
           "Kunstepoche"
          ],
          [
           "Phantasus",
           "Ludwig Tieck",
           "Kunstepoche"
          ],
          [
           "Der tolle Invalide auf dem Fort Ratonneau",
           "Achim von Arnim",
           "Kunstepoche"
          ],
          [
           "Kinder- und Haus-Märchen",
           "Jacob Grimm",
           "Kunstepoche"
          ],
          [
           "Kinder- und Haus-Märchen",
           "Jacob Grimm",
           "Kunstepoche"
          ],
          [
           "Kinder- und Haus-Märchen",
           "Jacob Grimm",
           "Kunstepoche"
          ],
          [
           "Kinder- und Haus-Märchen",
           "Jacob Grimm",
           "Kunstepoche"
          ],
          [
           "Phaëthon",
           "Wilhelm Waiblinger",
           "Kunstepoche"
          ],
          [
           "Phaëthon",
           "Wilhelm Waiblinger",
           "Kunstepoche"
          ],
          [
           "Aus dem Leben eines Taugenichts und das Marmorbild",
           "Joseph Freiherr von Eichendorff",
           "Kunstepoche"
          ],
          [
           "Phantasien im Bremer Rathskeller",
           "Wilhelm Hauff",
           "Kunstepoche"
          ],
          [
           "Maler Nolten",
           "Eduard Mörike",
           "Kunstepoche"
          ],
          [
           "Maler Nolten",
           "Eduard Mörike",
           "Kunstepoche"
          ],
          [
           "Briefe eines Narren an eine Närrin",
           "Karl Gutzkow",
           "Vormärz"
          ],
          [
           "Das junge Europa",
           "Heinrich Laube",
           "Kunstepoche"
          ],
          [
           "Das junge Europa",
           "Heinrich Laube",
           "Kunstepoche"
          ],
          [
           "Dichter und ihre Gesellen",
           "Joseph Freiherr von Eichendorff",
           "Kunstepoche"
          ],
          [
           "Rahel",
           "Karl August Varnhagen von Ense",
           "Kunstepoche"
          ],
          [
           "Rahel",
           "Karl August Varnhagen von Ense",
           "Kunstepoche"
          ],
          [
           "Rahel",
           "Karl August Varnhagen von Ense",
           "Kunstepoche"
          ],
          [
           "Öffentliche Charaktere",
           "Karl Gutzkow",
           "Vormärz"
          ],
          [
           "Wally, die Zweiflerin",
           "Karl Gutzkow",
           "Vormärz"
          ],
          [
           "Das junge Europa",
           "Heinrich Laube",
           "Kunstepoche"
          ],
          [
           "Das junge Europa",
           "Heinrich Laube",
           "Kunstepoche"
          ],
          [
           "Kinder und Hausmärchen",
           "Jacob Grimm",
           "Kunstepoche"
          ],
          [
           "Kinder und Hausmärchen",
           "Jacob Grimm",
           "Kunstepoche"
          ],
          [
           "Kinder und Hausmärchen",
           "Jacob Grimm",
           "Kunstepoche"
          ],
          [
           "Kinder und Hausmärchen",
           "Jacob Grimm",
           "Kunstepoche"
          ],
          [
           "Denkwürdigkeiten und vermischte Schriften",
           "Karl August Varnhagen von Ense",
           "Kunstepoche"
          ],
          [
           "Denkwürdigkeiten und vermischte Schriften",
           "Karl August Varnhagen von Ense",
           "Kunstepoche"
          ],
          [
           "Die schönsten Sagen des klassischen Alterthums",
           "Gustav Schwab",
           "Kunstepoche"
          ],
          [
           "Denkwürdigkeiten und vermischte Schriften",
           "Karl August Varnhagen von Ense",
           "Kunstepoche"
          ],
          [
           "Die schönsten Sagen des klassischen Alterthums",
           "Gustav Schwab",
           "Kunstepoche"
          ],
          [
           "Die schönsten Sagen des klassischen Alterthums",
           "Gustav Schwab",
           "Kunstepoche"
          ],
          [
           "Kinder und Hausmärchen",
           "Jacob Grimm",
           "Kunstepoche"
          ],
          [
           "Kinder und Hausmärchen",
           "Jacob Grimm",
           "Kunstepoche"
          ],
          [
           "Kinder und Hausmärchen",
           "Jacob Grimm",
           "Kunstepoche"
          ],
          [
           "Kinder und Hausmärchen",
           "Jacob Grimm",
           "Kunstepoche"
          ],
          [
           "Bilder und Sagen aus der Schweiz",
           "Jeremias Gotthelf, eigentlich Albert Bitzius",
           "Kunstepoche"
          ],
          [
           "Kinder und Hausmärchen",
           "Jacob Grimm",
           "Kunstepoche"
          ],
          [
           "Kinder und Hausmärchen",
           "Jacob Grimm",
           "Kunstepoche"
          ],
          [
           "Kinder und Hausmärchen",
           "Jacob Grimm",
           "Kunstepoche"
          ],
          [
           "Kinder und Hausmärchen",
           "Jacob Grimm",
           "Kunstepoche"
          ],
          [
           "Maria Schweidler die Bernsteinhexe",
           "Wilhelm Meinhold",
           "Kunstepoche"
          ],
          [
           "Polizei-Geschichten",
           "Ernst Dronke",
           "Vormärz"
          ],
          [
           "Leben und Thaten des berühmten Ritters Schnapphahnski",
           "Georg Weerth",
           "Vormärz"
          ],
          [
           "Kinder und Hausmärchen",
           "Jacob Grimm",
           "Kunstepoche"
          ],
          [
           "Kinder und Hausmärchen",
           "Jacob Grimm",
           "Kunstepoche"
          ],
          [
           "Kinder und Hausmärchen",
           "Jacob Grimm",
           "Kunstepoche"
          ],
          [
           "Kinder und Hausmärchen",
           "Jacob Grimm",
           "Kunstepoche"
          ],
          [
           "Immensee",
           "Theodor Storm",
           "Vormärz"
          ],
          [
           "Bunte Steine",
           "Adalbert Stifter",
           "Kunstepoche"
          ],
          [
           "Bunte Steine",
           "Adalbert Stifter",
           "Kunstepoche"
          ],
          [
           "Der grüne Heinrich",
           "Gottfried Keller",
           "Vormärz"
          ],
          [
           "Der grüne Heinrich",
           "Gottfried Keller",
           "Vormärz"
          ],
          [
           "Der grüne Heinrich",
           "Gottfried Keller",
           "Vormärz"
          ],
          [
           "Der Dunkelgraf",
           "Ludwig Bechstein",
           "Kunstepoche"
          ],
          [
           "Der Amerika-Müde",
           "Ferdinand Kürnberger",
           "Vormärz"
          ],
          [
           "Der grüne Heinrich",
           "Gottfried Keller",
           "Vormärz"
          ],
          [
           "Der Sonnenwirth",
           "Hermann Kurz",
           "Vormärz"
          ],
          [
           "Ekkehard",
           "Joseph Victor von Scheffel",
           "Vormärz"
          ],
          [
           "Novellen",
           "Paul Heyse",
           "Vormärz"
          ],
          [
           "Mozart auf der Reise nach Prag",
           "Eduard Mörike",
           "Kunstepoche"
          ],
          [
           "Die Leute von Seldwyla",
           "Gottfried Keller",
           "Vormärz"
          ],
          [
           "Zwischen Himmel und Erde",
           "Otto Ludwig",
           "Vormärz"
          ],
          [
           "Der Nachsommer",
           "Adalbert Stifter",
           "Kunstepoche"
          ],
          [
           "Der Nachsommer",
           "Adalbert Stifter",
           "Kunstepoche"
          ],
          [
           "Der Nachsommer",
           "Adalbert Stifter",
           "Kunstepoche"
          ],
          [
           "Kinder und Hausmärchen",
           "Jacob Grimm",
           "Kunstepoche"
          ],
          [
           "Kinder und Hausmärchen",
           "Jacob Grimm",
           "Kunstepoche"
          ],
          [
           "Kinder und Hausmärchen",
           "Jacob Grimm",
           "Kunstepoche"
          ],
          [
           "Kinder und Hausmärchen",
           "Jacob Grimm",
           "Kunstepoche"
          ],
          [
           "Die Chronik der Sperlingsgasse",
           "Wilhelm Raabe",
           "Moderne"
          ],
          [
           "Problematische Naturen",
           "Friedrich Spielhagen",
           "Vormärz"
          ],
          [
           "Problematische Naturen",
           "Friedrich Spielhagen",
           "Vormärz"
          ],
          [
           "Problematische Naturen",
           "Friedrich Spielhagen",
           "Vormärz"
          ],
          [
           "Problematische Naturen",
           "Friedrich Spielhagen",
           "Vormärz"
          ],
          [
           "Eine Aegyptische Königstochter",
           "Georg Ebers",
           "Realismus"
          ],
          [
           "Eine Aegyptische Königstochter",
           "Georg Ebers",
           "Realismus"
          ],
          [
           "Eine Aegyptische Königstochter",
           "Georg Ebers",
           "Realismus"
          ],
          [
           "Max und Moritz",
           "Wilhelm Busch",
           "Realismus"
          ],
          [
           "Die Verlobung von St. Domingo",
           "Heinrich von Kleist",
           "Kunstepoche"
          ],
          [
           "Die neue Melusine",
           "Johann Wolfgang von Goethe",
           "Kunstepoche"
          ],
          [
           "Sieben Legenden",
           "Gottfried Keller",
           "Vormärz"
          ],
          [
           "Waldwinkel, Pole Poppenspäler",
           "Theodor Storm",
           "Vormärz"
          ],
          [
           "Georg Jenatsch. Eine alte Bündnergeschichte",
           "Conrad Ferdinand Meyer",
           "Vormärz"
          ],
          [
           "Das Herrenrecht",
           "Daniel Spitzer",
           "Realismus"
          ],
          [
           "Novellen aus Österreich",
           "Ferdinand von Saar",
           "Realismus"
          ],
          [
           "Die neuen Serapionsbrüder",
           "Karl Gutzkow",
           "Vormärz"
          ],
          [
           "Die neuen Serapionsbrüder",
           "Karl Gutzkow",
           "Vormärz"
          ],
          [
           "Die neuen Serapionsbrüder",
           "Karl Gutzkow",
           "Vormärz"
          ],
          [
           "Aquis submersus",
           "Theodor Storm",
           "Vormärz"
          ],
          [
           "Auch Einer",
           "Friedrich Theodor Vischer",
           "Kunstepoche"
          ],
          [
           "Auch Einer",
           "Friedrich Theodor Vischer",
           "Kunstepoche"
          ],
          [
           "Die Prinzessin von Portugal",
           "Alfred Meißner",
           "Vormärz"
          ],
          [
           "Das Sinngedicht",
           "Gottfried Keller",
           "Vormärz"
          ],
          [
           "Schach von Wuthenow",
           "Theodor Fontane",
           "Vormärz"
          ],
          [
           "Unterm Birnbaum",
           "Theodor Fontane",
           "Vormärz"
          ],
          [
           "John Riew', Ein Fest auf Haderslevhuus",
           "Theodor Storm",
           "Vormärz"
          ],
          [
           "Bötjer Basch",
           "Theodor Storm",
           "Vormärz"
          ],
          [
           "Ein Doppelgänger",
           "Theodor Storm",
           "Vormärz"
          ],
          [
           "Irrungen, Wirrungen",
           "Theodor Fontane",
           "Vormärz"
          ],
          [
           "Der Schimmelreiter",
           "Theodor Storm",
           "Vormärz"
          ],
          [
           "Papa Hamlet",
           "Arno Holz",
           "Realismus"
          ],
          [
           "Adam Mensch",
           "Hermann Conradi",
           "Realismus"
          ],
          [
           "Das Odfeld",
           "Wilhelm Raabe",
           "Moderne"
          ],
          [
           "Seifenblasen",
           "Kurd Laßwitz",
           "Realismus"
          ],
          [
           "Stopfkuchen",
           "Wilhelm Raabe",
           "Moderne"
          ],
          [
           "Durchs Wilde Kurdistan",
           "Karl May",
           "Realismus"
          ],
          [
           "Von vor und nach der Reise",
           "Theodor Fontane",
           "Vormärz"
          ],
          [
           "Der Büttnerbauer",
           "Wilhelm von Polenz",
           "Realismus"
          ],
          [
           "Der Medizinmann",
           "Robert Kraft",
           "Realismus"
          ],
          [
           "Effi Briest",
           "Theodor Fontane",
           "Vormärz"
          ],
          [
           "Die Akten des Vogelsangs",
           "Wilhelm Raabe",
           "Moderne"
          ],
          [
           "Auf zwei Planeten",
           "Kurd Laßwitz",
           "Realismus"
          ],
          [
           "Auf zwei Planeten",
           "Kurd Laßwitz",
           "Realismus"
          ],
          [
           "Stilpe",
           "Otto Julius Bierbaum",
           "Realismus"
          ],
          [
           "Der Stechlin",
           "Theodor Fontane",
           "Vormärz"
          ],
          [
           "Muspilli",
           "Arnold Hagenauer",
           "Moderne"
          ],
          [
           "Die Poggenpuhls",
           "Theodor Fontane",
           "Vormärz"
          ],
          [
           "Beate und Mareile",
           "Eduard von Keyserling",
           "Realismus"
          ],
          [
           "Brigitta",
           "Adalbert Stifter",
           "Kunstepoche"
          ],
          [
           "Peter Schlemihl's wundersame Geschichte",
           "Adelbert von Chamisso",
           "Kunstepoche"
          ],
          [
           "Der Flüchtling",
           "Adolf Pichler",
           "Vormärz"
          ],
          [
           "Die katholische Mühle",
           "Adolf Widmann",
           "Vormärz"
          ],
          [
           "Scholastika",
           "Alexander von Ungern-Sternberg",
           "Kunstepoche"
          ],
          [
           "Der Müller vom Höft",
           "Alfred Meißner",
           "Vormärz"
          ],
          [
           "Eine Nacht",
           "Bernhard Abeken, Pseudonym Ernst Andolt",
           "Vormärz"
          ],
          [
           "Rolof, der Rekrut",
           "Edmund Hoefer",
           "Vormärz"
          ],
          [
           "Mozart auf der Reise nach Prag",
           "Eduard Mörike",
           "Kunstepoche"
          ],
          [
           "Ansas und Grita",
           "Ernst Wichert",
           "Moderne"
          ],
          [
           "Der Drache",
           "Ferdinand Kürnberger",
           "Vormärz"
          ],
          [
           "Der arme Spielmann",
           "Franz Grillparzer",
           "Kunstepoche"
          ],
          [
           "Germelshausen",
           "Friedrich Gerstäcker",
           "Vormärz"
          ],
          [
           "Die Marzipan-Lise",
           "Friedrich Halm, eigentlich Eligius von Münch-Bellinghausen",
           "Kunstepoche"
          ],
          [
           "Der graue John",
           "Friedrich von Heyden",
           "Kunstepoche"
          ],
          [
           "Zwei Nächte",
           "Friedrich Wilhelm Hackländer",
           "Vormärz"
          ],
          [
           "Romeo und Julia auf dem Dorfe",
           "Gottfried Keller",
           "Vormärz"
          ],
          [
           "Das Kind",
           "Herman Grimm",
           "Vormärz"
          ],
          [
           "Die beiden Tubus",
           "Hermann Kurz",
           "Vormärz"
          ],
          [
           "Ein adeliges Fräulein",
           "Hieronymus Lorm, eigentlich Heinrich Landesmann",
           "Vormärz"
          ],
          [
           "Der Notar in der Falle",
           "Jeremias Gotthelf, eigentlich Albert Bitzius",
           "Kunstepoche"
          ],
          [
           "Kurt von Koppigen",
           "Jeremias Gotthelf, eigentlich Albert Bitzius",
           "Kunstepoche"
          ],
          [
           "Die Glücksritter",
           "Joseph Freiherr von Eichendorff",
           "Kunstepoche"
          ],
          [
           "Samuel Brinks letzte Liebesgeschichte",
           "Joseph Schreyvogel",
           "Kunstepoche"
          ],
          [
           "Hugideo",
           "Joseph Victor von Scheffel",
           "Vormärz"
          ],
          [
           "Vetter Isidor",
           "Julius Grosse",
           "Vormärz"
          ],
          [
           "Reiz und Liebe",
           "Karl August Varnhagen von Ense",
           "Kunstepoche"
          ],
          [
           "Die Engel-Ehe",
           "Karl Spindler",
           "Kunstepoche"
          ],
          [
           "Eine Verlorene",
           "Leopold Kompert",
           "Vormärz"
          ],
          [
           "Don Juan von Kolomea",
           "Leopold von Sacher-Masoch",
           "Realismus"
          ],
          [
           "Des Lebens Überfluß",
           "Ludwig Tieck",
           "Kunstepoche"
          ],
          [
           "Die Gemälde",
           "Ludwig Tieck",
           "Kunstepoche"
          ],
          [
           "Der Sieg des Schwachen",
           "Melchior Meyr",
           "Kunstepoche"
          ],
          [
           "Das Schloß im Gebirge",
           "Moritz Hartmann",
           "Vormärz"
          ],
          [
           "Der Weinhüter von Meran",
           "Paul Heyse",
           "Vormärz"
          ],
          [
           "Am Malanger Fjord",
           "Theodor Mügge",
           "Kunstepoche"
          ],
          [
           "Eine Malerarbeit",
           "Theodor Storm",
           "Vormärz"
          ],
          [
           "Phantasien im Bremer Ratskeller",
           "Wilhelm Hauff",
           "Kunstepoche"
          ],
          [
           "Das letzte Recht",
           "Wilhelm Raabe",
           "Moderne"
          ],
          [
           "Fräulein Else",
           "Arthur Schnitzler",
           "Realismus"
          ],
          [
           "Der Kinderball",
           "Abraham Emanuel Fröhlich",
           "Kunstepoche"
          ],
          [
           "Die Verschüttung im Hauenstein",
           "Abraham Emanuel Fröhlich",
           "Kunstepoche"
          ],
          [
           "Armut, Reichtum, Schuld und Buße der Gräfin Dolores",
           "Achim von Arnim",
           "Kunstepoche"
          ],
          [
           "Der Wintergarten",
           "Achim von Arnim",
           "Kunstepoche"
          ],
          [
           "Die drei liebreichen Schwestern und der glückliche Färber",
           "Achim von Arnim",
           "Kunstepoche"
          ],
          [
           "Die Kronenwächter",
           "Achim von Arnim",
           "Kunstepoche"
          ],
          [
           "Die Majoratsherren",
           "Achim von Arnim",
           "Kunstepoche"
          ],
          [
           "Erzählungen",
           "Achim von Arnim",
           "Kunstepoche"
          ],
          [
           "Isabella von Ägypten",
           "Achim von Arnim",
           "Kunstepoche"
          ],
          [
           "verschiedene Novellen",
           "Achim von Arnim",
           "Kunstepoche"
          ],
          [
           "Der fromme Spruch",
           "Adalbert Stifter",
           "Kunstepoche"
          ],
          [
           "Der heilige Abend",
           "Adalbert Stifter",
           "Kunstepoche"
          ],
          [
           "Der Kuss von Sentze",
           "Adalbert Stifter",
           "Kunstepoche"
          ],
          [
           "Der Kuß von Sentze",
           "Adalbert Stifter",
           "Kunstepoche"
          ],
          [
           "Der Waldbrunnen",
           "Adalbert Stifter",
           "Kunstepoche"
          ],
          [
           "Nachkommenschaften",
           "Adalbert Stifter",
           "Kunstepoche"
          ],
          [
           "Prokopus",
           "Adalbert Stifter",
           "Kunstepoche"
          ],
          [
           "Studien",
           "Adalbert Stifter",
           "Kunstepoche"
          ],
          [
           "Witiko",
           "Adalbert Stifter",
           "Kunstepoche"
          ],
          [
           "Bauerngeselchtes",
           "Adam Karrillon",
           "Realismus"
          ],
          [
           "Die Mühle zu Husterloh",
           "Adam Karrillon",
           "Realismus"
          ],
          [
           "Michael Hely",
           "Adam Karrillon",
           "Realismus"
          ],
          [
           "O Domina mea",
           "Adam Karrillon",
           "Realismus"
          ],
          [
           "Der große Schwabenzug",
           "Adam Müller-Guttenbrunn",
           "Realismus"
          ],
          [
           "Die Glocken der Heimat",
           "Adam Müller-Guttenbrunn",
           "Realismus"
          ],
          [
           "Meister Jakob und seine Kinder",
           "Adam Müller-Guttenbrunn",
           "Realismus"
          ],
          [
           "Adelberts Fabel",
           "Adelbert von Chamisso",
           "Kunstepoche"
          ],
          [
           "Schlitzwang",
           "Adolf Glaser, Pseudonym Rainald Reimar",
           "Vormärz"
          ],
          [
           "Wulfhilde",
           "Adolf Glaser, Pseudonym Rainald Reimar",
           "Vormärz"
          ],
          [
           "Der jung Münch Ylsan",
           "Adolf Pichler",
           "Vormärz"
          ],
          [
           "Der lateinische Bauer",
           "Adolf Pichler",
           "Vormärz"
          ],
          [
           "Die Brautnacht",
           "Adolf Pichler",
           "Vormärz"
          ],
          [
           "Frau Elsa",
           "Adolf Pichler",
           "Vormärz"
          ],
          [
           "Herr Rochus",
           "Adolf Pichler",
           "Vormärz"
          ],
          [
           "Janos und Jonas",
           "Adolf Pichler",
           "Vormärz"
          ],
          [
           "Letzte Alpenrosen",
           "Adolf Pichler",
           "Vormärz"
          ],
          [
           "Der Wille zum Leben/Untrennbar",
           "Adolf Wilbrandt",
           "Realismus"
          ],
          [
           "Hermann Ifinger",
           "Adolf Wilbrandt",
           "Realismus"
          ],
          [
           "Benjamin Noldmanns Geschichte der Aufklärung in Abyssinien",
           "Adolph Freiherr Knigge",
           "Kunstepoche"
          ],
          [
           "Die Reise nach Braunschweig",
           "Adolph Freiherr Knigge",
           "Kunstepoche"
          ],
          [
           "Josephs von Wurmbrands ... politisches Glaubensbekenntnis",
           "Adolph Freiherr Knigge",
           "Kunstepoche"
          ],
          [
           "Friedemann Bach",
           "Albert Emil Brachvogel",
           "Vormärz"
          ],
          [
           "Oberst von Steuben – des großen Königs Adjutant",
           "Albert Emil Brachvogel",
           "Vormärz"
          ],
          [
           "Vater Milon und andere Erzählungen",
           "Alexander von Oppeln-Bronikowski",
           "Kunstepoche"
          ],
          [
           "Die Zerissenen",
           "Alexander von Ungern-Sternberg",
           "Kunstepoche"
          ],
          [
           "Vierter Theil: Elf Novellen",
           "Alexander von Ungern-Sternberg",
           "Kunstepoche"
          ],
          [
           "Der Flurschütz",
           "Alfred Bock",
           "Realismus"
          ],
          [
           "Lord Byron",
           "Alfred Schirokauer",
           "Moderne"
          ],
          [
           "Die Finsternis und ihr Eigentum",
           "Anton von Perfall",
           "Realismus"
          ],
          [
           "Klippen",
           "Anton von Perfall",
           "Realismus"
          ],
          [
           "Das Schloß im Moor",
           "Arthur Achleitner",
           "Realismus"
          ],
          [
           "Der Finanzer",
           "Arthur Achleitner",
           "Realismus"
          ],
          [
           "Die Dobratschrose",
           "Arthur Achleitner",
           "Realismus"
          ],
          [
           "Familie Lugmüller",
           "Arthur Achleitner",
           "Realismus"
          ],
          [
           "Clemens und seine Mädchen",
           "Arthur Kahane",
           "Moderne"
          ],
          [
           "Der Schauspieler",
           "Arthur Kahane",
           "Moderne"
          ],
          [
           "Die Thimigs",
           "Arthur Kahane",
           "Moderne"
          ],
          [
           "Amerika",
           "Arthur Schnitzler",
           "Realismus"
          ],
          [
           "Andreas Thameyers letzter Brief",
           "Arthur Schnitzler",
           "Realismus"
          ],
          [
           "Blumen",
           "Arthur Schnitzler",
           "Realismus"
          ],
          [
           "Casanovas Heimfahrt",
           "Arthur Schnitzler",
           "Realismus"
          ],
          [
           "Casanovas Heimfahrt",
           "Arthur Schnitzler",
           "Realismus"
          ],
          [
           "Das neue Lied",
           "Arthur Schnitzler",
           "Realismus"
          ],
          [
           "Das Schicksal des Freiherrn von Leisenbohg",
           "Arthur Schnitzler",
           "Realismus"
          ],
          [
           "Das Tagebuch der Redegonda",
           "Arthur Schnitzler",
           "Realismus"
          ],
          [
           "Der Andere",
           "Arthur Schnitzler",
           "Realismus"
          ],
          [
           "Der blinde Geronimo und sein Bruder",
           "Arthur Schnitzler",
           "Realismus"
          ],
          [
           "Der Ehrentag",
           "Arthur Schnitzler",
           "Realismus"
          ],
          [
           "Der Empfindsame",
           "Arthur Schnitzler",
           "Realismus"
          ],
          [
           "Der Fürst ist im Hause",
           "Arthur Schnitzler",
           "Realismus"
          ],
          [
           "Der letzte Brief eines Literaten",
           "Arthur Schnitzler",
           "Realismus"
          ],
          [
           "Der Mörder",
           "Arthur Schnitzler",
           "Realismus"
          ],
          [
           "Der Mörder",
           "Arthur Schnitzler",
           "Realismus"
          ],
          [
           "Der Sekundant",
           "Arthur Schnitzler",
           "Realismus"
          ],
          [
           "Der Sohn",
           "Arthur Schnitzler",
           "Realismus"
          ],
          [
           "Der Sohn",
           "Arthur Schnitzler",
           "Realismus"
          ],
          [
           "Der Tod des Junggesellen",
           "Arthur Schnitzler",
           "Realismus"
          ],
          [
           "Der tote Gabriel",
           "Arthur Schnitzler",
           "Realismus"
          ],
          [
           "Der Weg ins Freie",
           "Arthur Schnitzler",
           "Realismus"
          ],
          [
           "Der Witwer",
           "Arthur Schnitzler",
           "Realismus"
          ],
          [
           "Die Braut",
           "Arthur Schnitzler",
           "Realismus"
          ],
          [
           "Die drei Elixire",
           "Arthur Schnitzler",
           "Realismus"
          ],
          [
           "Die dreifache Warnung",
           "Arthur Schnitzler",
           "Realismus"
          ],
          [
           "Die Frau des Richters",
           "Arthur Schnitzler",
           "Realismus"
          ],
          [
           "Die Frau des Weisen",
           "Arthur Schnitzler",
           "Realismus"
          ],
          [
           "Die Fremde",
           "Arthur Schnitzler",
           "Realismus"
          ],
          [
           "Die griechische Tänzerin",
           "Arthur Schnitzler",
           "Realismus"
          ],
          [
           "Die grüne Krawatte",
           "Arthur Schnitzler",
           "Realismus"
          ],
          [
           "Die Hirtenflöte",
           "Arthur Schnitzler",
           "Realismus"
          ],
          [
           "Die kleine Komödie",
           "Arthur Schnitzler",
           "Realismus"
          ],
          [
           "Die Nächste",
           "Arthur Schnitzler",
           "Realismus"
          ],
          [
           "Die Toten schweigen",
           "Arthur Schnitzler",
           "Realismus"
          ],
          [
           "Die Weissagung",
           "Arthur Schnitzler",
           "Realismus"
          ],
          [
           "Doktor Gräsler, Badearzt",
           "Arthur Schnitzler",
           "Realismus"
          ],
          [
           "Ein Abschied",
           "Arthur Schnitzler",
           "Realismus"
          ],
          [
           "Ein Erfolg",
           "Arthur Schnitzler",
           "Realismus"
          ],
          [
           "Er wartet auf den vazierenden Gott",
           "Arthur Schnitzler",
           "Realismus"
          ],
          [
           "Erbschaft",
           "Arthur Schnitzler",
           "Realismus"
          ],
          [
           "Exzentrik",
           "Arthur Schnitzler",
           "Realismus"
          ],
          [
           "Flucht in die Finsternis",
           "Arthur Schnitzler",
           "Realismus"
          ],
          [
           "Frau Beate und ihr Sohn",
           "Arthur Schnitzler",
           "Realismus"
          ],
          [
           "Frau Berta Garlan",
           "Arthur Schnitzler",
           "Realismus"
          ],
          [
           "Geschichte eines Genies",
           "Arthur Schnitzler",
           "Realismus"
          ],
          [
           "Komödiantinnen",
           "Arthur Schnitzler",
           "Realismus"
          ],
          [
           "Leutnant Gustl",
           "Arthur Schnitzler",
           "Realismus"
          ],
          [
           "Mein Freund Ypsilon",
           "Arthur Schnitzler",
           "Realismus"
          ],
          [
           "Reichtum",
           "Arthur Schnitzler",
           "Realismus"
          ],
          [
           "Spiel im Morgengrauen",
           "Arthur Schnitzler",
           "Realismus"
          ],
          [
           "Sterben",
           "Arthur Schnitzler",
           "Realismus"
          ],
          [
           "Therese",
           "Arthur Schnitzler",
           "Realismus"
          ],
          [
           "Traumnovelle",
           "Arthur Schnitzler",
           "Realismus"
          ],
          [
           "Um eine Stunde",
           "Arthur Schnitzler",
           "Realismus"
          ],
          [
           "Welch eine Melodie",
           "Arthur Schnitzler",
           "Realismus"
          ],
          [
           "Wohltaten Still und Rein gegeben",
           "Arthur Schnitzler",
           "Realismus"
          ],
          [
           "Carmen",
           "Arthur Schurig",
           "Realismus"
          ],
          [
           "Der Doppelgänger. Neun neue Beethoven-Novellen",
           "Arthur Schurig",
           "Realismus"
          ],
          [
           "Der Roman von Tristan und Isolde",
           "Arthur Schurig",
           "Realismus"
          ],
          [
           "Ehrlos?",
           "Arthur Zapp",
           "Realismus"
          ],
          [
           "Bankhaus Reichenbach",
           "Artur Landsberger",
           "Moderne"
          ],
          [
           "Das Blut",
           "Artur Landsberger",
           "Moderne"
          ],
          [
           "Emil",
           "Artur Landsberger",
           "Moderne"
          ],
          [
           "Haß",
           "Artur Landsberger",
           "Moderne"
          ],
          [
           "Liebe und Bananen",
           "Artur Landsberger",
           "Moderne"
          ],
          [
           "Mensch und Richter",
           "Artur Landsberger",
           "Moderne"
          ],
          [
           "Raffke & Cie.",
           "Artur Landsberger",
           "Moderne"
          ],
          [
           "Um den Sohn",
           "Artur Landsberger",
           "Moderne"
          ],
          [
           "Villa im Tiergarten",
           "Artur Landsberger",
           "Moderne"
          ],
          [
           "Der Beinbruch",
           "August Friedrich Ernst Langbein",
           "Kunstepoche"
          ],
          [
           "Norika",
           "August Hagen",
           "Kunstepoche"
          ],
          [
           "Allerlei Geister",
           "August Kopisch",
           "Kunstepoche"
          ],
          [
           "Wenn die Sonne sinkt",
           "August Trinius",
           "Realismus"
          ],
          [
           "Die Tochter des Regiments und andere Novellen",
           "Balduin Groller",
           "Realismus"
          ],
          [
           "Eine Panik und andre humoristische Erzählungen",
           "Balduin Groller",
           "Realismus"
          ],
          [
           "Ganz zufällig und andere humoristische Novellen",
           "Balduin Groller",
           "Realismus"
          ],
          [
           "In schlechter Form und andere Novellen",
           "Balduin Groller",
           "Realismus"
          ],
          [
           "Töte sie!",
           "Balduin Groller",
           "Realismus"
          ],
          [
           "Das Monogramm",
           "Balduin Möllhausen",
           "Vormärz"
          ],
          [
           "Das Mormonenmädchen - Band 1",
           "Balduin Möllhausen",
           "Vormärz"
          ],
          [
           "Das Mormonenmädchen - Band 2",
           "Balduin Möllhausen",
           "Vormärz"
          ],
          [
           "Der Fährmann am Kanadian",
           "Balduin Möllhausen",
           "Vormärz"
          ],
          [
           "Der Majordomo",
           "Balduin Möllhausen",
           "Vormärz"
          ],
          [
           "Der Vaquero",
           "Balduin Möllhausen",
           "Vormärz"
          ],
          [
           "Die beiden Jachten",
           "Balduin Möllhausen",
           "Vormärz"
          ],
          [
           "Die Familie Melville",
           "Balduin Möllhausen",
           "Vormärz"
          ],
          [
           "Die Hyänen des Kapitals",
           "Balduin Möllhausen",
           "Vormärz"
          ],
          [
           "Die Mandanen - Waise",
           "Balduin Möllhausen",
           "Vormärz"
          ],
          [
           "Barfüßele",
           "Berthold Auerbach",
           "Vormärz"
          ],
          [
           "Landolin von Reutershöfen",
           "Berthold Auerbach",
           "Vormärz"
          ],
          [
           "Schwarzwälder Dorfgeschichten",
           "Berthold Auerbach",
           "Vormärz"
          ],
          [
           "Bürgerziel",
           "Carl Albrecht Bernoulli",
           "Realismus"
          ],
          [
           "Ull",
           "Carl Albrecht Bernoulli",
           "Realismus"
          ],
          [
           "Das Liebhaber-Theater",
           "Carl Franz van der Velde",
           "Kunstepoche"
          ],
          [
           "Drei Frauen",
           "Carl Hauptmann",
           "Realismus"
          ],
          [
           "Einhart der Lächler",
           "Carl Hauptmann",
           "Realismus"
          ],
          [
           "Mathilde. Zeichnungen aus dem Leben einer armen Frau",
           "Carl Hauptmann",
           "Realismus"
          ],
          [
           "Nächte",
           "Carl Hauptmann",
           "Realismus"
          ],
          [
           "Von Verbrechen und Abenteuern",
           "Carl Hauptmann",
           "Realismus"
          ],
          [
           "Die häßliche Wikta",
           "Carl Hermann Busse",
           "Moderne"
          ],
          [
           "Jugendstürme",
           "Carl Hermann Busse",
           "Moderne"
          ],
          [
           "Die Epigonen",
           "Carl Leberecht Immermann",
           "Kunstepoche"
          ],
          [
           "Düsseldorfer Anfänge",
           "Carl Leberecht Immermann",
           "Kunstepoche"
          ],
          [
           "Münchhausen",
           "Carl Leberecht Immermann",
           "Kunstepoche"
          ],
          [
           "Conrad der Leutnant",
           "Carl Spitteler",
           "Realismus"
          ],
          [
           "Die Mädchenfeinde",
           "Carl Spitteler",
           "Realismus"
          ],
          [
           "Imago",
           "Carl Spitteler",
           "Realismus"
          ],
          [
           "Das Kajütenbuch oder Nationale Charakteristiken",
           "Charles Sealsfield, eigentlich Karl Anton Postl",
           "Kunstepoche"
          ],
          [
           "Die Erzählung des Obersten Morse",
           "Charles Sealsfield, eigentlich Karl Anton Postl",
           "Kunstepoche"
          ],
          [
           "Dosenstücke",
           "Christian August Fischer",
           "Kunstepoche"
          ],
          [
           "Hannchens Hin- und Herzüge",
           "Christian August Fischer",
           "Kunstepoche"
          ],
          [
           "Rinaldo Rinaldini, der Räuberhauptmann",
           "Christian August Vulpius",
           "Kunstepoche"
          ],
          [
           "Ausführliche Erzählung wie Ernst Haberfeld aus einem Bauer ein Freiherr geworden ist",
           "Christian Gotthilf Salzmann",
           "Kunstepoche"
          ],
          [
           "Aristipp und einige seiner Zeitgenossen",
           "Christoph Martin Wieland",
           "Kunstepoche"
          ],
          [
           "Der goldene Spiegel",
           "Christoph Martin Wieland",
           "Kunstepoche"
          ],
          [
           "Die Abenteuer des Don Sylvio von Rosalva",
           "Christoph Martin Wieland",
           "Kunstepoche"
          ],
          [
           "Erzählungen",
           "Christoph Martin Wieland",
           "Kunstepoche"
          ],
          [
           "Geschichte der Abderiten",
           "Christoph Martin Wieland",
           "Kunstepoche"
          ],
          [
           "Koxkox und Kikequetzel",
           "Christoph Martin Wieland",
           "Kunstepoche"
          ],
          [
           "Peregrinus Proteus",
           "Christoph Martin Wieland",
           "Kunstepoche"
          ],
          [
           "190 kleine Erzählungen für die Jugend",
           "Christoph von Schmid",
           "Kunstepoche"
          ],
          [
           "Erzählungen",
           "Christoph von Schmid",
           "Kunstepoche"
          ],
          [
           "Aus der Chronika eines fahrenden Schülers",
           "Clemens Brentano",
           "Kunstepoche"
          ],
          [
           "Die drei Nüsse",
           "Clemens Brentano",
           "Kunstepoche"
          ],
          [
           "Die mehreren Wehmüller und ungarischen Nationalgesichter",
           "Clemens Brentano",
           "Kunstepoche"
          ],
          [
           "Geschichte vom braven Kasperl und dem schönen Annerl",
           "Clemens Brentano",
           "Kunstepoche"
          ],
          [
           "Godwi oder Das steinerne Bild der Mutter",
           "Clemens Brentano",
           "Kunstepoche"
          ],
          [
           "Angela Borgia",
           "Conrad Ferdinand Meyer",
           "Vormärz"
          ],
          [
           "Das Amulett",
           "Conrad Ferdinand Meyer",
           "Vormärz"
          ],
          [
           "Das Leiden eines Knaben",
           "Conrad Ferdinand Meyer",
           "Vormärz"
          ],
          [
           "Der Heilige",
           "Conrad Ferdinand Meyer",
           "Vormärz"
          ],
          [
           "Der Schuß von der Kanzel",
           "Conrad Ferdinand Meyer",
           "Vormärz"
          ],
          [
           "Die Hochzeit des Mönchs",
           "Conrad Ferdinand Meyer",
           "Vormärz"
          ],
          [
           "Die Richterin",
           "Conrad Ferdinand Meyer",
           "Vormärz"
          ],
          [
           "Die Versuchung des Pescara",
           "Conrad Ferdinand Meyer",
           "Vormärz"
          ],
          [
           "Gustav Adolfs Page",
           "Conrad Ferdinand Meyer",
           "Vormärz"
          ],
          [
           "Jürg Jenatsch",
           "Conrad Ferdinand Meyer",
           "Vormärz"
          ],
          [
           "Plautus im Nonnenkloster",
           "Conrad Ferdinand Meyer",
           "Vormärz"
          ],
          [
           "Auf der Austernfischerjagd",
           "Detlev von Liliencron",
           "Realismus"
          ],
          [
           "Das Ehepaar Quint",
           "Detlev von Liliencron",
           "Realismus"
          ],
          [
           "Der letzte Gruß",
           "Detlev von Liliencron",
           "Realismus"
          ],
          [
           "Der Maecen",
           "Detlev von Liliencron",
           "Realismus"
          ],
          [
           "Die Dithmarschen",
           "Detlev von Liliencron",
           "Realismus"
          ],
          [
           "Die Könige von Norderoog und Süderoog",
           "Detlev von Liliencron",
           "Realismus"
          ],
          [
           "Die Schlacht bei Stellau. 1201",
           "Detlev von Liliencron",
           "Realismus"
          ],
          [
           "Die Spieluhr",
           "Detlev von Liliencron",
           "Realismus"
          ],
          [
           "Eine Sommerschlacht",
           "Detlev von Liliencron",
           "Realismus"
          ],
          [
           "Geert der Große von Holstein",
           "Detlev von Liliencron",
           "Realismus"
          ],
          [
           "Greggert Meinstorff",
           "Detlev von Liliencron",
           "Realismus"
          ],
          [
           "Hetzjagd",
           "Detlev von Liliencron",
           "Realismus"
          ],
          [
           "Kriegsnovellen",
           "Detlev von Liliencron",
           "Realismus"
          ],
          [
           "Letzte Ernte",
           "Detlev von Liliencron",
           "Realismus"
          ],
          [
           "Nächtlicher Angriff",
           "Detlev von Liliencron",
           "Realismus"
          ],
          [
           "Roggen und Weizen",
           "Detlev von Liliencron",
           "Realismus"
          ],
          [
           "Unter flatternden Fahnen",
           "Detlev von Liliencron",
           "Realismus"
          ],
          [
           "Das goldene Tor",
           "Diedrich Speckmann",
           "Moderne"
          ],
          [
           "Heidehof Lohe",
           "Diedrich Speckmann",
           "Moderne"
          ],
          [
           "Heidjers Heimkehr",
           "Diedrich Speckmann",
           "Moderne"
          ],
          [
           "Der Advokatenbauer",
           "Dietrich Theden",
           "Realismus"
          ],
          [
           "Die zweite Buße",
           "Dietrich Theden",
           "Realismus"
          ],
          [
           "Das Wyler Schlößchen. Die rothen Nelken. Ein Schrei\n",
           "Edmund Hoefer",
           "Vormärz"
          ],
          [
           "Bruchstücke eines Romans",
           "Eduard Mörike",
           "Kunstepoche"
          ],
          [
           "Der Schatz",
           "Eduard Mörike",
           "Kunstepoche"
          ],
          [
           "Lucie Gelmeroth",
           "Eduard Mörike",
           "Kunstepoche"
          ],
          [
           "Die weißen Götter - Erster Band",
           "Eduard Stucken",
           "Realismus"
          ],
          [
           "Bürgerlich und Romantisch",
           "Eduard von Bauernfeld",
           "Kunstepoche"
          ],
          [
           "Abendliche Häuser",
           "Eduard von Keyserling",
           "Realismus"
          ],
          [
           "Dumala",
           "Eduard von Keyserling",
           "Realismus"
          ],
          [
           "Feiertagskinder",
           "Eduard von Keyserling",
           "Realismus"
          ],
          [
           "Harmonie",
           "Eduard von Keyserling",
           "Realismus"
          ],
          [
           "Schwüle Tage",
           "Eduard von Keyserling",
           "Realismus"
          ],
          [
           "Wellen",
           "Eduard von Keyserling",
           "Realismus"
          ],
          [
           "Zwei Novellen",
           "Eduard von Keyserling",
           "Realismus"
          ],
          [
           "Bürgerin Louise",
           "Edward Stilgebauer",
           "Realismus"
          ],
          [
           "Irrgarten des Lebens",
           "Emil Ertl",
           "Realismus"
          ],
          [
           "Nachtschmetterlinge",
           "Emil Frommel",
           "Vormärz"
          ],
          [
           "Die Wallfahrt",
           "Emil Gött",
           "Realismus"
          ],
          [
           "Die Schmiede",
           "Emil Sandt",
           "Realismus"
          ],
          [
           "Die Europamüden",
           "Ernst Adolf Willkomm",
           "Kunstepoche"
          ],
          [
           "Erzählungen eines Wattenschiffers",
           "Ernst Adolf Willkomm",
           "Kunstepoche"
          ],
          [
           "Rheder und Matrose",
           "Ernst Adolf Willkomm",
           "Kunstepoche"
          ],
          [
           "Verirrte Seelen",
           "Ernst Adolf Willkomm",
           "Kunstepoche"
          ],
          [
           "Weisse Sclaven oder die Leiden des Volkes",
           "Ernst Adolf Willkomm",
           "Kunstepoche"
          ],
          [
           "Die Nachtwachen des Bonaventura",
           "Ernst August Friedrich Klingemann",
           "Kunstepoche"
          ],
          [
           "Der gestohlene Mond",
           "Ernst Barlach",
           "Realismus"
          ],
          [
           "Fürst Arno",
           "Ernst Eckstein",
           "Realismus"
          ],
          [
           "Nero",
           "Ernst Eckstein",
           "Realismus"
          ],
          [
           "Preisgekrönt",
           "Ernst Eckstein",
           "Realismus"
          ],
          [
           "Vielliebchen",
           "Ernst Eckstein",
           "Realismus"
          ],
          [
           "Die Elixiere des Teufels",
           "Ernst Theodor Amadeus Hoffmann",
           "Kunstepoche"
          ],
          [
           "Lebensansichten des Katers Murr",
           "Ernst Theodor Amadeus Hoffmann",
           "Kunstepoche"
          ],
          [
           "Archambauld",
           "Ernst von Wildenbruch",
           "Realismus"
          ],
          [
           "Neid",
           "Ernst von Wildenbruch",
           "Realismus"
          ],
          [
           "'s Meikatel und der Sexack",
           "Ernst von Wolzogen",
           "Realismus"
          ],
          [
           "Das dritte Geschlecht",
           "Ernst von Wolzogen",
           "Realismus"
          ],
          [
           "Der Bibelhase",
           "Ernst von Wolzogen",
           "Realismus"
          ],
          [
           "Der Kraft-Mayr",
           "Ernst von Wolzogen",
           "Realismus"
          ],
          [
           "Die Gloria-Hose",
           "Ernst von Wolzogen",
           "Realismus"
          ],
          [
           "Die Gloria-Hose und andere Novellen",
           "Ernst von Wolzogen",
           "Realismus"
          ],
          [
           "Drei Geschichten",
           "Ernst von Wolzogen",
           "Realismus"
          ],
          [
           "Das Duell",
           "Ernst Wichert",
           "Moderne"
          ],
          [
           "Das Grundstück",
           "Ernst Wichert",
           "Moderne"
          ],
          [
           "Der Bürgermeister von Thorn",
           "Ernst Wichert",
           "Moderne"
          ],
          [
           "Der Schaktarp",
           "Ernst Wichert",
           "Moderne"
          ],
          [
           "Der Väter Sünden",
           "Ernst Wichert",
           "Moderne"
          ],
          [
           "Der Wilddieb",
           "Ernst Wichert",
           "Moderne"
          ],
          [
           "Die Schwestern",
           "Ernst Wichert",
           "Moderne"
          ],
          [
           "Endrik Kraupatis",
           "Ernst Wichert",
           "Moderne"
          ],
          [
           "Ewe",
           "Ernst Wichert",
           "Moderne"
          ],
          [
           "Schuster Lange",
           "Ernst Wichert",
           "Moderne"
          ],
          [
           "Das Heiratsjahr",
           "Fedor von Zobeltitz",
           "Realismus"
          ],
          [
           "Der Beutezug der Liebe",
           "Fedor von Zobeltitz",
           "Realismus"
          ],
          [
           "Der Kurier des Kaisers",
           "Fedor von Zobeltitz",
           "Realismus"
          ],
          [
           "Der Telamone",
           "Fedor von Zobeltitz",
           "Realismus"
          ],
          [
           "Bis zum Tode getreu",
           "Felix Dahn",
           "Realismus"
          ],
          [
           "Kampf um Rom",
           "Felix Dahn",
           "Realismus"
          ],
          [
           "Odhin's Trost",
           "Felix Dahn",
           "Realismus"
          ],
          [
           "Das Schiff der Abenteuer",
           "Felix Hollaender",
           "Realismus"
          ],
          [
           "Der Weg des Thomas Truck",
           "Felix Hollaender",
           "Realismus"
          ],
          [
           "Die Briefe des Fräulein Brandt",
           "Felix Hollaender",
           "Realismus"
          ],
          [
           "Salomons Schwiegertochter",
           "Felix Hollaender",
           "Realismus"
          ],
          [
           "Sturmwind im Westen",
           "Felix Hollaender",
           "Realismus"
          ],
          [
           "»1906«",
           "Ferdinand Grautoff, Pseudonym Seestern",
           "Moderne"
          ],
          [
           "Bansai!",
           "Ferdinand Grautoff, Pseudonym Seestern",
           "Moderne"
          ],
          [
           "Die Steinklopfer",
           "Ferdinand von Saar",
           "Realismus"
          ],
          [
           "Innocens",
           "Ferdinand von Saar",
           "Realismus"
          ],
          [
           "Marianne",
           "Ferdinand von Saar",
           "Realismus"
          ],
          [
           "Schloß Kostenitz",
           "Ferdinand von Saar",
           "Realismus"
          ],
          [
           "Tambi",
           "Ferdinand von Saar",
           "Realismus"
          ],
          [
           "Tragik des Lebens",
           "Ferdinand von Saar",
           "Realismus"
          ],
          [
           "Erzählungen",
           "Frank Wedekind",
           "Realismus"
          ],
          [
           "Rabbi Esra",
           "Frank Wedekind",
           "Realismus"
          ],
          [
           "Moschele",
           "Franz Friedrich Alexander Hoffmann",
           "Vormärz"
          ],
          [
           "Grenzenlos!",
           "Franz Josef Zlatnik",
           "Moderne"
          ],
          [
           "Reich und arm",
           "Franz Michael Felder",
           "Realismus"
          ],
          [
           "Sieben Erzählungen",
           "Franz Stelzhamer",
           "Kunstepoche"
          ],
          [
           "Der Held von Trenton",
           "Franz Treller",
           "Realismus"
          ],
          [
           "Unter dem Römerhelm",
           "Franz Treller",
           "Realismus"
          ],
          [
           "Die neuen Argonauten",
           "Franz von Dingelstedt",
           "Vormärz"
          ],
          [
           "Die Brenta-Blume",
           "Franz von Gaudy",
           "Kunstepoche"
          ],
          [
           "Novellen und Erzählungen 1",
           "Franz von Gaudy",
           "Kunstepoche"
          ],
          [
           "Novellen und Erzählungen 2",
           "Franz von Gaudy",
           "Kunstepoche"
          ],
          [
           "Venetianische Novellen",
           "Franz von Gaudy",
           "Kunstepoche"
          ],
          [
           "Wildanger",
           "Franz von Kobell",
           "Kunstepoche"
          ],
          [
           "Die belohnte Wohlthat",
           "Franz Xaver Bronner",
           "Kunstepoche"
          ],
          [
           "Ein Mönchsleben aus der empfindsamen Zeit, Band 1",
           "Franz Xaver Bronner",
           "Kunstepoche"
          ],
          [
           "Ein Mönchsleben aus der empfindsamen Zeit, Band 2",
           "Franz Xaver Bronner",
           "Kunstepoche"
          ],
          [
           "Alte und neue Heimat",
           "Friedrich Armand Strubberg, Pseudonym Armand",
           "Kunstepoche"
          ],
          [
           "Die Rache des Mestizen",
           "Friedrich Armand Strubberg, Pseudonym Armand",
           "Kunstepoche"
          ],
          [
           "Saat und Ernte",
           "Friedrich Armand Strubberg, Pseudonym Armand",
           "Kunstepoche"
          ],
          [
           "Mittheilungen aus den geheimen Memoiren einer deutschen Sängerin",
           "Friedrich Bruckbräu",
           "Kunstepoche"
          ],
          [
           "Eine Geschichte vom Galgenmännlein",
           "Friedrich de la Motte Fouqué",
           "Kunstepoche"
          ],
          [
           "Sintram und seine Gefährten",
           "Friedrich de la Motte Fouqué",
           "Kunstepoche"
          ],
          [
           "Alle jagen John Mulligan",
           "Friedrich Gerstäcker",
           "Vormärz"
          ],
          [
           "Blau Wasser",
           "Friedrich Gerstäcker",
           "Vormärz"
          ],
          [
           "Das alte Haus",
           "Friedrich Gerstäcker",
           "Vormärz"
          ],
          [
           "Das Wrack",
           "Friedrich Gerstäcker",
           "Vormärz"
          ],
          [
           "Der Erbe",
           "Friedrich Gerstäcker",
           "Vormärz"
          ],
          [
           "Der erkaufte Henker",
           "Friedrich Gerstäcker",
           "Vormärz"
          ],
          [
           "Der Fischfang am Mississippi",
           "Friedrich Gerstäcker",
           "Vormärz"
          ],
          [
           "Der Flatbootmann",
           "Friedrich Gerstäcker",
           "Vormärz"
          ],
          [
           "Der Freischütz",
           "Friedrich Gerstäcker",
           "Vormärz"
          ],
          [
           "Der kleine Walfischfänger",
           "Friedrich Gerstäcker",
           "Vormärz"
          ],
          [
           "Der Kunstreiter",
           "Friedrich Gerstäcker",
           "Vormärz"
          ],
          [
           "Der Osage",
           "Friedrich Gerstäcker",
           "Vormärz"
          ],
          [
           "Der Schiffszimmermann",
           "Friedrich Gerstäcker",
           "Vormärz"
          ],
          [
           "Der tote Zimmermann",
           "Friedrich Gerstäcker",
           "Vormärz"
          ],
          [
           "Der Walfischfänger",
           "Friedrich Gerstäcker",
           "Vormärz"
          ],
          [
           "Der Wilddieb",
           "Friedrich Gerstäcker",
           "Vormärz"
          ],
          [
           "Die Ahnung",
           "Friedrich Gerstäcker",
           "Vormärz"
          ],
          [
           "Die Backwoodsmen Nordamerikas",
           "Friedrich Gerstäcker",
           "Vormärz"
          ],
          [
           "Die Blauen und Gelben",
           "Friedrich Gerstäcker",
           "Vormärz"
          ],
          [
           "Die Colonie",
           "Friedrich Gerstäcker",
           "Vormärz"
          ],
          [
           "Die Flucht über die Kordilleren",
           "Friedrich Gerstäcker",
           "Vormärz"
          ],
          [
           "Die Flußpiraten des Mississippi",
           "Friedrich Gerstäcker",
           "Vormärz"
          ],
          [
           "Die Moderatoren",
           "Friedrich Gerstäcker",
           "Vormärz"
          ],
          [
           "Die Nacht auf dem Walfisch",
           "Friedrich Gerstäcker",
           "Vormärz"
          ],
          [
           "Die Regulatoren in Arkansas",
           "Friedrich Gerstäcker",
           "Vormärz"
          ],
          [
           "Die Silbermine in den Ozarkgebirgen",
           "Friedrich Gerstäcker",
           "Vormärz"
          ],
          [
           "Die Sklavin",
           "Friedrich Gerstäcker",
           "Vormärz"
          ],
          [
           "Die Vertreibung der Mormonen aus Missouri",
           "Friedrich Gerstäcker",
           "Vormärz"
          ],
          [
           "Die Wolfsglocke",
           "Friedrich Gerstäcker",
           "Vormärz"
          ],
          [
           "General Franco",
           "Friedrich Gerstäcker",
           "Vormärz"
          ],
          [
           "Gold",
           "Friedrich Gerstäcker",
           "Vormärz"
          ],
          [
           "Hell und Dunkel",
           "Friedrich Gerstäcker",
           "Vormärz"
          ],
          [
           "Herr Schultze",
           "Friedrich Gerstäcker",
           "Vormärz"
          ],
          [
           "Herrn Mahlhuber's Reiseabenteuer",
           "Friedrich Gerstäcker",
           "Vormärz"
          ],
          [
           "Im Busch",
           "Friedrich Gerstäcker",
           "Vormärz"
          ],
          [
           "Im Eckfenster",
           "Friedrich Gerstäcker",
           "Vormärz"
          ],
          [
           "In der Südsee",
           "Friedrich Gerstäcker",
           "Vormärz"
          ],
          [
           "In Mexiko. Erster Band",
           "Friedrich Gerstäcker",
           "Vormärz"
          ],
          [
           "Irrfahrten",
           "Friedrich Gerstäcker",
           "Vormärz"
          ],
          [
           "Jack und Bill",
           "Friedrich Gerstäcker",
           "Vormärz"
          ],
          [
           "John Wells",
           "Friedrich Gerstäcker",
           "Vormärz"
          ],
          [
           "Pech!",
           "Friedrich Gerstäcker",
           "Vormärz"
          ],
          [
           "Schwarz und Weiß",
           "Friedrich Gerstäcker",
           "Vormärz"
          ],
          [
           "Señor Aguila",
           "Friedrich Gerstäcker",
           "Vormärz"
          ],
          [
           "So du mir, so ich dir",
           "Friedrich Gerstäcker",
           "Vormärz"
          ],
          [
           "Sträflinge",
           "Friedrich Gerstäcker",
           "Vormärz"
          ],
          [
           "Tahiti",
           "Friedrich Gerstäcker",
           "Vormärz"
          ],
          [
           "Unter dem Äquator",
           "Friedrich Gerstäcker",
           "Vormärz"
          ],
          [
           "Unter den Pehuenchen",
           "Friedrich Gerstäcker",
           "Vormärz"
          ],
          [
           "Verhängnisse",
           "Friedrich Gerstäcker",
           "Vormärz"
          ],
          [
           "Anna",
           "Friedrich Hebbel",
           "Vormärz"
          ],
          [
           "Aus meiner Jugend",
           "Friedrich Hebbel",
           "Vormärz"
          ],
          [
           "Barbier Zitterlein",
           "Friedrich Hebbel",
           "Vormärz"
          ],
          [
           "Der Schneidermeister Nepomuk Schlägel auf der Freudenjagd",
           "Friedrich Hebbel",
           "Vormärz"
          ],
          [
           "Die Kuh",
           "Friedrich Hebbel",
           "Vormärz"
          ],
          [
           "Die Obermedizinalrätin",
           "Friedrich Hebbel",
           "Vormärz"
          ],
          [
           "Eine Nacht im Jägerhause",
           "Friedrich Hebbel",
           "Vormärz"
          ],
          [
           "Herr Haidvogel und seine Familie",
           "Friedrich Hebbel",
           "Vormärz"
          ],
          [
           "Matteo",
           "Friedrich Hebbel",
           "Vormärz"
          ],
          [
           "Pauls merkwürdigste Nacht",
           "Friedrich Hebbel",
           "Vormärz"
          ],
          [
           "Schnock",
           "Friedrich Hebbel",
           "Vormärz"
          ],
          [
           "Treue Liebe",
           "Friedrich Hebbel",
           "Vormärz"
          ],
          [
           "Fragment von Hyperion",
           "Friedrich Hölderlin",
           "Kunstepoche"
          ],
          [
           "Hyperions Jugend",
           "Friedrich Hölderlin",
           "Kunstepoche"
          ],
          [
           "Geschichte eines Teutschen der neusten Zeit",
           "Friedrich Maximilian Klinger",
           "Kunstepoche"
          ],
          [
           "[Das philosophische Gespräch aus dem Geisterseher]",
           "Friedrich Schiller",
           "Kunstepoche"
          ],
          [
           "Der Verbrecher aus verlorener Ehre",
           "Friedrich Schiller",
           "Kunstepoche"
          ],
          [
           "Merkwürdiges Beispiel einer weiblichen Rache",
           "Friedrich Schiller",
           "Kunstepoche"
          ],
          [
           "Alles fließt",
           "Friedrich Spielhagen",
           "Vormärz"
          ],
          [
           "Allzeit voran",
           "Friedrich Spielhagen",
           "Vormärz"
          ],
          [
           "An der Heilquelle",
           "Friedrich Spielhagen",
           "Vormärz"
          ],
          [
           "Angela",
           "Friedrich Spielhagen",
           "Vormärz"
          ],
          [
           "Beiträge zur Theorie und Technik des Romans",
           "Friedrich Spielhagen",
           "Vormärz"
          ],
          [
           "Clara Vere",
           "Friedrich Spielhagen",
           "Vormärz"
          ],
          [
           "Das Skelet im Hause",
           "Friedrich Spielhagen",
           "Vormärz"
          ],
          [
           "Deutsche Pioniere",
           "Friedrich Spielhagen",
           "Vormärz"
          ],
          [
           "Die Dorfcoquette",
           "Friedrich Spielhagen",
           "Vormärz"
          ],
          [
           "Die von Hohenstein. Erster Band",
           "Friedrich Spielhagen",
           "Vormärz"
          ],
          [
           "Ein neuer Pharao",
           "Friedrich Spielhagen",
           "Vormärz"
          ],
          [
           "Faustulus",
           "Friedrich Spielhagen",
           "Vormärz"
          ],
          [
           "Frei geboren",
           "Friedrich Spielhagen",
           "Vormärz"
          ],
          [
           "Hammer und Amboß",
           "Friedrich Spielhagen",
           "Vormärz"
          ],
          [
           "Hans und Grete",
           "Friedrich Spielhagen",
           "Vormärz"
          ],
          [
           "Herrin",
           "Friedrich Spielhagen",
           "Vormärz"
          ],
          [
           "In der zwölften Stunde",
           "Friedrich Spielhagen",
           "Vormärz"
          ],
          [
           "In Reih' und Glied. Erster Theil",
           "Friedrich Spielhagen",
           "Vormärz"
          ],
          [
           "Opfer",
           "Friedrich Spielhagen",
           "Vormärz"
          ],
          [
           "Röschen vom Hofe",
           "Friedrich Spielhagen",
           "Vormärz"
          ],
          [
           "Selbstgerecht",
           "Friedrich Spielhagen",
           "Vormärz"
          ],
          [
           "Stumme des Himmels",
           "Friedrich Spielhagen",
           "Vormärz"
          ],
          [
           "Sturmflut",
           "Friedrich Spielhagen",
           "Vormärz"
          ],
          [
           "Uhlenhans",
           "Friedrich Spielhagen",
           "Vormärz"
          ],
          [
           "Ultimo",
           "Friedrich Spielhagen",
           "Vormärz"
          ],
          [
           "Unter Tannen",
           "Friedrich Spielhagen",
           "Vormärz"
          ],
          [
           "Was will das werden? Erster Theil",
           "Friedrich Spielhagen",
           "Vormärz"
          ],
          [
           "Zum Zeitvertreib",
           "Friedrich Spielhagen",
           "Vormärz"
          ],
          [
           "Faust: Erzählung in neun Briefen",
           "Friedrich von Bodenstedt",
           "Vormärz"
          ],
          [
           "Gräfin Helene",
           "Friedrich von Bodenstedt",
           "Vormärz"
          ],
          [
           "Am Kamin",
           "Friedrich Wilhelm Hackländer",
           "Vormärz"
          ],
          [
           "Europäisches Sklavenleben",
           "Friedrich Wilhelm Hackländer",
           "Vormärz"
          ],
          [
           "Humoristische Erzählungen",
           "Friedrich Wilhelm Hackländer",
           "Vormärz"
          ],
          [
           "Vier Könige / Bilder aus dem Soldatenleben",
           "Friedrich Wilhelm Hackländer",
           "Vormärz"
          ],
          [
           "Böhmische Novellen",
           "Fritz Mauthner",
           "Realismus"
          ],
          [
           "Das Durchhaus",
           "Fritz Stüber-Gunther",
           "Moderne"
          ],
          [
           "Stürme",
           "Georg Asmussen",
           "Realismus"
          ],
          [
           "Die Gred",
           "Georg Ebers",
           "Realismus"
          ],
          [
           "Im Schmiedefeuer",
           "Georg Ebers",
           "Realismus"
          ],
          [
           "Kleopatra",
           "Georg Ebers",
           "Realismus"
          ],
          [
           "Claus Störtebecker",
           "Georg Engel",
           "Realismus"
          ],
          [
           "Der verbotene Rausch",
           "Georg Engel",
           "Realismus"
          ],
          [
           "Die Last",
           "Georg Engel",
           "Realismus"
          ],
          [
           "Hann Klüth",
           "Georg Engel",
           "Realismus"
          ],
          [
           "Der Dieb",
           "Georg Heym",
           "Moderne"
          ],
          [
           "Der Dieb",
           "Georg Heym",
           "Moderne"
          ],
          [
           "Eine Fratze",
           "Georg Heym",
           "Moderne"
          ],
          [
           "Faust und Don Juan",
           "Georg Ludwig Hesekiel",
           "Vormärz"
          ],
          [
           "Der Kapuziner",
           "Georg Queri",
           "Moderne"
          ],
          [
           "Aus großen Höhen",
           "Georg von Ompteda",
           "Realismus"
          ],
          [
           "Das Haus",
           "Georg von Ompteda",
           "Realismus"
          ],
          [
           "Denise de Montmidi",
           "Georg von Ompteda",
           "Realismus"
          ],
          [
           "Der Horla",
           "Georg von Ompteda",
           "Realismus"
          ],
          [
           "Der Liebling",
           "Georg von Ompteda",
           "Realismus"
          ],
          [
           "Dickchen",
           "Georg von Ompteda",
           "Realismus"
          ],
          [
           "Die kleine Roque",
           "Georg von Ompteda",
           "Realismus"
          ],
          [
           "Die Schnepfe",
           "Georg von Ompteda",
           "Realismus"
          ],
          [
           "Die Schwestern Rondoli",
           "Georg von Ompteda",
           "Realismus"
          ],
          [
           "Die Tafelrunde",
           "Georg von Ompteda",
           "Realismus"
          ],
          [
           "Ein Menschenleben",
           "Georg von Ompteda",
           "Realismus"
          ],
          [
           "Ernst III.",
           "Georg von Ompteda",
           "Realismus"
          ],
          [
           "Fräulein Fifi",
           "Georg von Ompteda",
           "Realismus"
          ],
          [
           "Hans und Peter",
           "Georg von Ompteda",
           "Realismus"
          ],
          [
           "Herr Parent",
           "Georg von Ompteda",
           "Realismus"
          ],
          [
           "Margret und Ossana",
           "Georg von Ompteda",
           "Realismus"
          ],
          [
           "Maria da Caza",
           "Georg von Ompteda",
           "Realismus"
          ],
          [
           "Miß Harriet",
           "Georg von Ompteda",
           "Realismus"
          ],
          [
           "Mondschein",
           "Georg von Ompteda",
           "Realismus"
          ],
          [
           "Mont Oriol",
           "Georg von Ompteda",
           "Realismus"
          ],
          [
           "Nutzlose Schönheit",
           "Georg von Ompteda",
           "Realismus"
          ],
          [
           "Schnaps-Anton",
           "Georg von Ompteda",
           "Realismus"
          ],
          [
           "Stark wie der Tod",
           "Georg von Ompteda",
           "Realismus"
          ],
          [
           "Tag- und Nachtgeschichten",
           "Georg von Ompteda",
           "Realismus"
          ],
          [
           "Tugendpreis",
           "Georg von Ompteda",
           "Realismus"
          ],
          [
           "Unser Herz",
           "Georg von Ompteda",
           "Realismus"
          ],
          [
           "Fragment eines Romans",
           "Georg Weerth",
           "Vormärz"
          ],
          [
           "Don Juan",
           "Gerrit Engelke",
           "Moderne"
          ],
          [
           "Das schnellste Schiff der Flotte",
           "Gorch Fock, eigentlich Johann Kinau",
           "Moderne"
          ],
          [
           "Nach dem Sturm",
           "Gorch Fock, eigentlich Johann Kinau",
           "Moderne"
          ],
          [
           "Seefahrt ist not!",
           "Gorch Fock, eigentlich Johann Kinau",
           "Moderne"
          ],
          [
           "Martin Salander",
           "Gottfried Keller",
           "Vormärz"
          ],
          [
           "Nachgelassene Erzählungen",
           "Gottfried Keller",
           "Vormärz"
          ],
          [
           "Züricher Novellen",
           "Gottfried Keller",
           "Vormärz"
          ],
          [
           "Kreuz und Schwert",
           "Gregor Samarow, eigentlich Johann Ferdinand Martin Oskar Meding",
           "Vormärz"
          ],
          [
           "Ritter oder Dame",
           "Gregor Samarow, eigentlich Johann Ferdinand Martin Oskar Meding",
           "Vormärz"
          ],
          [
           "Aus dem Durchschnitt",
           "Gustav Falke",
           "Realismus"
          ],
          [
           "Der Mann im Nebel",
           "Gustav Falke",
           "Realismus"
          ],
          [
           "Die Kinder aus Ohlsens Gang",
           "Gustav Falke",
           "Realismus"
          ],
          [
           "Herr Purtaller und seine Tochter",
           "Gustav Falke",
           "Realismus"
          ],
          [
           "Landen und Stranden",
           "Gustav Falke",
           "Realismus"
          ],
          [
           "Die Ahnen",
           "Gustav Freytag",
           "Vormärz"
          ],
          [
           "Die verlorene Handschrift",
           "Gustav Freytag",
           "Vormärz"
          ],
          [
           "Soll und Haben",
           "Gustav Freytag",
           "Vormärz"
          ],
          [
           "Das grüne Gesicht",
           "Gustav Meyrink, eigentlich Gustav Meyer",
           "Realismus"
          ],
          [
           "Der Engel vom westlichen Fenster",
           "Gustav Meyrink, eigentlich Gustav Meyer",
           "Realismus"
          ],
          [
           "Der Golem",
           "Gustav Meyrink, eigentlich Gustav Meyer",
           "Realismus"
          ],
          [
           "Der Löwe Alois und andere Geschichten",
           "Gustav Meyrink, eigentlich Gustav Meyer",
           "Realismus"
          ],
          [
           "Der seltsame Gast",
           "Gustav Meyrink, eigentlich Gustav Meyer",
           "Realismus"
          ],
          [
           "Der weiße Dominikaner",
           "Gustav Meyrink, eigentlich Gustav Meyer",
           "Realismus"
          ],
          [
           "Des deutschen Spießers Wunderhorn",
           "Gustav Meyrink, eigentlich Gustav Meyer",
           "Realismus"
          ],
          [
           "Die Abenteuer des Polen Sendivogius",
           "Gustav Meyrink, eigentlich Gustav Meyer",
           "Realismus"
          ],
          [
           "Walpurgisnacht",
           "Gustav Meyrink, eigentlich Gustav Meyer",
           "Realismus"
          ],
          [
           "Ein Namenloser",
           "Gustav Sack",
           "Moderne"
          ],
          [
           "Ein verbummelter Student",
           "Gustav Sack",
           "Moderne"
          ],
          [
           "Arge Sitten",
           "Hans von Hopfen, eigentlich Hans Mayer",
           "Realismus"
          ],
          [
           "Der alte Praktikant",
           "Hans von Hopfen, eigentlich Hans Mayer",
           "Realismus"
          ],
          [
           "Die Geschichten des Majors",
           "Hans von Hopfen, eigentlich Hans Mayer",
           "Realismus"
          ],
          [
           "Die Heirath des Herrn von Waldenbergt",
           "Hans von Hopfen, eigentlich Hans Mayer",
           "Realismus"
          ],
          [
           "Peregretta",
           "Hans von Hopfen, eigentlich Hans Mayer",
           "Realismus"
          ],
          [
           "Robert Leichtfuß",
           "Hans von Hopfen, eigentlich Hans Mayer",
           "Realismus"
          ],
          [
           "Verdorben zu Paris",
           "Hans von Hopfen, eigentlich Hans Mayer",
           "Realismus"
          ],
          [
           "Miß Lydia",
           "Hans Wachenhusen",
           "Vormärz"
          ],
          [
           "Was die Straße verschlingt. Erster Band",
           "Hans Wachenhusen",
           "Vormärz"
          ],
          [
           "Das Dijon-Röschen",
           "Heinrich Clauren, eigentlich Karl Gottlieb Samuel Heun",
           "Kunstepoche"
          ],
          [
           "Das Raubschloß",
           "Heinrich Clauren, eigentlich Karl Gottlieb Samuel Heun",
           "Kunstepoche"
          ],
          [
           "Der Blutschatz",
           "Heinrich Clauren, eigentlich Karl Gottlieb Samuel Heun",
           "Kunstepoche"
          ],
          [
           "Der selige Papier-Müller",
           "Heinrich Clauren, eigentlich Karl Gottlieb Samuel Heun",
           "Kunstepoche"
          ],
          [
           "Die Gräfin Cherubim",
           "Heinrich Clauren, eigentlich Karl Gottlieb Samuel Heun",
           "Kunstepoche"
          ],
          [
           "Die Gränz-Kommission",
           "Heinrich Clauren, eigentlich Karl Gottlieb Samuel Heun",
           "Kunstepoche"
          ],
          [
           "Die Großmutter",
           "Heinrich Clauren, eigentlich Karl Gottlieb Samuel Heun",
           "Kunstepoche"
          ],
          [
           "Die Versuchung",
           "Heinrich Clauren, eigentlich Karl Gottlieb Samuel Heun",
           "Kunstepoche"
          ],
          [
           "Makk",
           "Heinrich Clauren, eigentlich Karl Gottlieb Samuel Heun",
           "Kunstepoche"
          ],
          [
           "Mimili",
           "Heinrich Clauren, eigentlich Karl Gottlieb Samuel Heun",
           "Kunstepoche"
          ],
          [
           "Berge und Menschen",
           "Heinrich Federer",
           "Realismus"
          ],
          [
           "Das letzte Stündlein des Papstes",
           "Heinrich Federer",
           "Realismus"
          ],
          [
           "Das Wunder in Holzschuhen",
           "Heinrich Federer",
           "Realismus"
          ],
          [
           "Der Fürchtemacher",
           "Heinrich Federer",
           "Realismus"
          ],
          [
           "Gebt mir meine Wildnis wieder",
           "Heinrich Federer",
           "Realismus"
          ],
          [
           "Jungfer Therese",
           "Heinrich Federer",
           "Realismus"
          ],
          [
           "Lachweiler Geschichten",
           "Heinrich Federer",
           "Realismus"
          ],
          [
           "Regina Lob",
           "Heinrich Federer",
           "Realismus"
          ],
          [
           "Sisto e Sesto (Erzählung)",
           "Heinrich Federer",
           "Realismus"
          ],
          [
           "Spitzbube über Spitzbube",
           "Heinrich Federer",
           "Realismus"
          ],
          [
           "Unter südlichen Sonnen und Menschen",
           "Heinrich Federer",
           "Realismus"
          ],
          [
           "Wander- und Wundergeschichten aus dem Süden",
           "Heinrich Federer",
           "Realismus"
          ],
          [
           "Zwei Skizzenblätter",
           "Heinrich Hart",
           "Realismus"
          ],
          [
           "Romanzero",
           "Heinrich Heine",
           "Kunstepoche"
          ],
          [
           "Das Glück",
           "Heinrich Laube",
           "Kunstepoche"
          ],
          [
           "Der deutsche Krieg. I. Buch, Junker Hans. 1. Theil",
           "Heinrich Laube",
           "Kunstepoche"
          ],
          [
           "Die Schauspielerin",
           "Heinrich Laube",
           "Kunstepoche"
          ],
          [
           "Liebesbriefe",
           "Heinrich Laube",
           "Kunstepoche"
          ],
          [
           "Novellen",
           "Heinrich Laube",
           "Kunstepoche"
          ],
          [
           "Fritz Reinhardt",
           "Heinrich Schaumberger",
           "Realismus"
          ],
          [
           "Gesalzene Krapfen",
           "Heinrich Schaumberger",
           "Realismus"
          ],
          [
           "Im Hirtenhaus",
           "Heinrich Schaumberger",
           "Realismus"
          ],
          [
           "Umsingen",
           "Heinrich Schaumberger",
           "Realismus"
          ],
          [
           "Das Brautschiff",
           "Heinrich Smidt",
           "Kunstepoche"
          ],
          [
           "Ein Seelenverkauf oder Was zahlt Ostindien? Dritter Theil",
           "Heinrich Smidt",
           "Kunstepoche"
          ],
          [
           "Jan Blaufink oder See und Theater",
           "Heinrich Smidt",
           "Kunstepoche"
          ],
          [
           "Meeresstille und hohe See",
           "Heinrich Smidt",
           "Kunstepoche"
          ],
          [
           "Seegeschichten und Marinebilder",
           "Heinrich Smidt",
           "Kunstepoche"
          ],
          [
           "Irmela",
           "Heinrich Steinhausen",
           "Realismus"
          ],
          [
           "Addrich im Moos",
           "Heinrich Zschokke",
           "Kunstepoche"
          ],
          [
           "Das Abenteuer der Neujahrsnacht",
           "Heinrich Zschokke",
           "Kunstepoche"
          ],
          [
           "Das Goldmacherdorf",
           "Heinrich Zschokke",
           "Kunstepoche"
          ],
          [
           "Der Flüchtling im Jura",
           "Heinrich Zschokke",
           "Kunstepoche"
          ],
          [
           "Der Freihof von Aarau",
           "Heinrich Zschokke",
           "Kunstepoche"
          ],
          [
           "Die Rose von Disentis",
           "Heinrich Zschokke",
           "Kunstepoche"
          ],
          [
           "Die Walpurgisnacht",
           "Heinrich Zschokke",
           "Kunstepoche"
          ],
          [
           "Ein Narr des Neunzehnten Jahrhunderts",
           "Heinrich Zschokke",
           "Kunstepoche"
          ],
          [
           "Hans Dampf in allen Gassen",
           "Heinrich Zschokke",
           "Kunstepoche"
          ],
          [
           "Der Begleiter",
           "Henry von Heiseler",
           "Moderne"
          ],
          [
           "Wawas Ende",
           "Henry von Heiseler",
           "Moderne"
          ],
          [
           "Der inwendige Garten",
           "Hermann Bahr",
           "Realismus"
          ],
          [
           "Die gute Schule",
           "Hermann Bahr",
           "Realismus"
          ],
          [
           "Die schöne Frau",
           "Hermann Bahr",
           "Realismus"
          ],
          [
           "Leander",
           "Hermann Bahr",
           "Realismus"
          ],
          [
           "12 Novellen",
           "Hermann Essig",
           "Moderne"
          ],
          [
           "Der Taifun",
           "Hermann Essig",
           "Moderne"
          ],
          [
           "Aus allen Winkeln",
           "Hermann Heiberg",
           "Realismus"
          ],
          [
           "Das Schicksal auf Moorheide",
           "Hermann Heiberg",
           "Realismus"
          ],
          [
           "Fluch der Schönheit",
           "Hermann Heiberg",
           "Realismus"
          ],
          [
           "Gesammelte kleinere Erzählungen - Band 2",
           "Hermann Kurz",
           "Vormärz"
          ],
          [
           "Gesammelte kleinere Erzählungen - Band 3",
           "Hermann Kurz",
           "Vormärz"
          ],
          [
           "Gesammelte kleinere Erzählungen - Band 4",
           "Hermann Kurz",
           "Vormärz"
          ],
          [
           "Byzantinische Novellen",
           "Hermann Lingg",
           "Vormärz"
          ],
          [
           "Kleine Erzählungen",
           "Hermann Löns",
           "Realismus"
          ],
          [
           "Fritz Beutel",
           "Hermann Marggraff",
           "Kunstepoche"
          ],
          [
           "Der tolle Professor",
           "Hermann Sudermann",
           "Realismus"
          ],
          [
           "Der verwandelte Fächer und zwei andere Novellen",
           "Hermann Sudermann",
           "Realismus"
          ],
          [
           "Es war",
           "Hermann Sudermann",
           "Realismus"
          ],
          [
           "Frau Sorge",
           "Hermann Sudermann",
           "Realismus"
          ],
          [
           "Geschwister",
           "Hermann Sudermann",
           "Realismus"
          ],
          [
           "Im Zwielicht",
           "Hermann Sudermann",
           "Realismus"
          ],
          [
           "Litauische Geschichten",
           "Hermann Sudermann",
           "Realismus"
          ],
          [
           "Das blaue Mal",
           "Hugo Bettauer",
           "Moderne"
          ],
          [
           "Der Kampf um Wien",
           "Hugo Bettauer",
           "Moderne"
          ],
          [
           "Die Freudlose Gasse",
           "Hugo Bettauer",
           "Moderne"
          ],
          [
           "Die Stadt ohne Juden",
           "Hugo Bettauer",
           "Moderne"
          ],
          [
           "Faustrecht",
           "Hugo Bettauer",
           "Moderne"
          ],
          [
           "Vergangenheit",
           "Hugo Salus",
           "Realismus"
          ],
          [
           "Das Märchen der 672. Nacht",
           "Hugo von Hofmannsthal",
           "Moderne"
          ],
          [
           "Die Frau ohne Schatten",
           "Hugo von Hofmannsthal",
           "Moderne"
          ],
          [
           "Erlebnis des Marschalls von Bassompierre",
           "Hugo von Hofmannsthal",
           "Moderne"
          ],
          [
           "Lucidor",
           "Hugo von Hofmannsthal",
           "Moderne"
          ],
          [
           "Reitergeschichte",
           "Hugo von Hofmannsthal",
           "Moderne"
          ],
          [
           "Tobias Guarnerius",
           "Ignaz Franz Castelli, Pseudonym Bruder Fatalis",
           "Kunstepoche"
          ],
          [
           "Deutsche Sagen",
           "Jacob Grimm",
           "Kunstepoche"
          ],
          [
           "An heiligen Wassern",
           "Jakob Christoph Heer",
           "Realismus"
          ],
          [
           "Der König der Bernina",
           "Jakob Christoph Heer",
           "Realismus"
          ],
          [
           "Der lange Balthasar",
           "Jakob Christoph Heer",
           "Realismus"
          ],
          [
           "Der Wetterwart",
           "Jakob Christoph Heer",
           "Realismus"
          ],
          [
           "Felix Notvest",
           "Jakob Christoph Heer",
           "Realismus"
          ],
          [
           "Laubgewind",
           "Jakob Christoph Heer",
           "Realismus"
          ],
          [
           "Tobias Heider",
           "Jakob Christoph Heer",
           "Realismus"
          ],
          [
           "Das königliche Spiel",
           "Jakob Julius David",
           "Realismus"
          ],
          [
           "Das Totenlied",
           "Jakob Julius David",
           "Realismus"
          ],
          [
           "Der Bettelvogt",
           "Jakob Julius David",
           "Realismus"
          ],
          [
           "Die Hanna",
           "Jakob Julius David",
           "Realismus"
          ],
          [
           "Die Tochter Fortunats",
           "Jakob Julius David",
           "Realismus"
          ],
          [
           "Die Troika",
           "Jakob Julius David",
           "Realismus"
          ],
          [
           "Ein Poet?",
           "Jakob Julius David",
           "Realismus"
          ],
          [
           "Halluzinationen",
           "Jakob Julius David",
           "Realismus"
          ],
          [
           "Schuß in der Nacht",
           "Jakob Julius David",
           "Realismus"
          ],
          [
           "Verstörte Zeit",
           "Jakob Julius David",
           "Realismus"
          ],
          [
           "Empfindsamster aller Romane",
           "Jakob Michael Reinhold Lenz",
           "Kunstepoche"
          ],
          [
           "Alexander in Babylon",
           "Jakob Wassermann",
           "Moderne"
          ],
          [
           "Caspar Hauser oder Die Trägheit des Herzens",
           "Jakob Wassermann",
           "Moderne"
          ],
          [
           "Christian Wahnschaffe",
           "Jakob Wassermann",
           "Moderne"
          ],
          [
           "Das Gänsemännchen",
           "Jakob Wassermann",
           "Moderne"
          ],
          [
           "Das Gold von Caxamalca",
           "Jakob Wassermann",
           "Moderne"
          ],
          [
           "Der Aufruhr um den Junker Ernst",
           "Jakob Wassermann",
           "Moderne"
          ],
          [
           "Der Fall Maurizius",
           "Jakob Wassermann",
           "Moderne"
          ],
          [
           "Der niegeküßte Mund und andere Erzählungen",
           "Jakob Wassermann",
           "Moderne"
          ],
          [
           "Die Geschichte der jungen Renate Fuchs",
           "Jakob Wassermann",
           "Moderne"
          ],
          [
           "Die Juden von Zirndorf",
           "Jakob Wassermann",
           "Moderne"
          ],
          [
           "Die Masken Erwin Reiners",
           "Jakob Wassermann",
           "Moderne"
          ],
          [
           "Die Pest im Vintschgau",
           "Jakob Wassermann",
           "Moderne"
          ],
          [
           "Die Schwestern",
           "Jakob Wassermann",
           "Moderne"
          ],
          [
           "Donna Johanna von Castilien",
           "Jakob Wassermann",
           "Moderne"
          ],
          [
           "Joseph Kerkhovens dritte Existenz",
           "Jakob Wassermann",
           "Moderne"
          ],
          [
           "Laudin und die Seinen",
           "Jakob Wassermann",
           "Moderne"
          ],
          [
           "Lukardis",
           "Jakob Wassermann",
           "Moderne"
          ],
          [
           "Mein Weg als Deutscher und Jude",
           "Jakob Wassermann",
           "Moderne"
          ],
          [
           "Melusine",
           "Jakob Wassermann",
           "Moderne"
          ],
          [
           "Schläfst du, Mutter?",
           "Jakob Wassermann",
           "Moderne"
          ],
          [
           "Ulrike",
           "Jakob Wassermann",
           "Moderne"
          ],
          [
           "Des Geburtshelfers Walther Vierneissel Nachtgedanken über seine verlorenen Fötus-Ideale",
           "Jean Paul, eigentlich Johann Paul Friedrich Richter",
           "Kunstepoche"
          ],
          [
           "Barthli der Korber",
           "Jeremias Gotthelf, eigentlich Albert Bitzius",
           "Kunstepoche"
          ],
          [
           "Das Erdbeerimareili",
           "Jeremias Gotthelf, eigentlich Albert Bitzius",
           "Kunstepoche"
          ],
          [
           "Die schwarze Spinne",
           "Jeremias Gotthelf, eigentlich Albert Bitzius",
           "Kunstepoche"
          ],
          [
           "Elsi, die seltsame Magd",
           "Jeremias Gotthelf, eigentlich Albert Bitzius",
           "Kunstepoche"
          ],
          [
           "Geld und Geist",
           "Jeremias Gotthelf, eigentlich Albert Bitzius",
           "Kunstepoche"
          ],
          [
           "Michels Brautschau",
           "Jeremias Gotthelf, eigentlich Albert Bitzius",
           "Kunstepoche"
          ],
          [
           "Uli der Pächter",
           "Jeremias Gotthelf, eigentlich Albert Bitzius",
           "Kunstepoche"
          ],
          [
           "Wie fünf Mädchen im Branntwein jämmerlich umkommen",
           "Jeremias Gotthelf, eigentlich Albert Bitzius",
           "Kunstepoche"
          ],
          [
           "Wie Uli der Knecht glücklich wird",
           "Jeremias Gotthelf, eigentlich Albert Bitzius",
           "Kunstepoche"
          ],
          [
           "Die Volkssagen der Altmark",
           "Jodocus Temme",
           "Kunstepoche"
          ],
          [
           "Die Volkssagen von Pommern und Rügen",
           "Jodocus Temme",
           "Kunstepoche"
          ],
          [
           "Arabella von Byrnswack",
           "Johann Gabriel Seidl",
           "Kunstepoche"
          ],
          [
           "Cornelia Fieramonti",
           "Johann Gabriel Seidl",
           "Kunstepoche"
          ],
          [
           "Das goldene Ringlein",
           "Johann Gabriel Seidl",
           "Kunstepoche"
          ],
          [
           "Der Leiermann",
           "Johann Gabriel Seidl",
           "Kunstepoche"
          ],
          [
           "Der tödliche Knopf",
           "Johann Gabriel Seidl",
           "Kunstepoche"
          ],
          [
           "Die Blaue",
           "Johann Gabriel Seidl",
           "Kunstepoche"
          ],
          [
           "Die Schweden vor Olmütz",
           "Johann Gabriel Seidl",
           "Kunstepoche"
          ],
          [
           "Juana",
           "Johann Gabriel Seidl",
           "Kunstepoche"
          ],
          [
           "Sie ist versorgt!",
           "Johann Gabriel Seidl",
           "Kunstepoche"
          ],
          [
           "Stumme Rache",
           "Johann Gabriel Seidl",
           "Kunstepoche"
          ],
          [
           "Die ewige Bürde/Der afrikanische Rechtsspruch",
           "Johann Gottfried Herder",
           "Kunstepoche"
          ],
          [
           "Die Sühne durchs Leben",
           "Johann Gottfried Kinkel",
           "Vormärz"
          ],
          [
           "Erzählungen",
           "Johann Gottfried Kinkel",
           "Vormärz"
          ],
          [
           "Rheinische Erzählungen",
           "Johann Gottfried Kinkel",
           "Vormärz"
          ],
          [
           "Siegfried von Lindenberg",
           "Johann Gottwerth Müller",
           "Kunstepoche"
          ],
          [
           "Herr Lorenz Stark",
           "Johann Jakob Engel",
           "Kunstepoche"
          ],
          [
           "Herr Lorenz Stark",
           "Johann Jakob Engel",
           "Kunstepoche"
          ],
          [
           "Ardinghello und die glückseeligen Inseln",
           "Johann Jakob Wilhelm Heinse",
           "Kunstepoche"
          ],
          [
           "Erzählungen für junge Damen und Dichter",
           "Johann Jakob Wilhelm Heinse",
           "Kunstepoche"
          ],
          [
           "Hildegard von Hohenthal",
           "Johann Jakob Wilhelm Heinse",
           "Kunstepoche"
          ],
          [
           "Der Ochsenhansl",
           "Johann Peter",
           "Realismus"
          ],
          [
           "Und dann rennen wir!",
           "Johann Peter",
           "Realismus"
          ],
          [
           "Wie mir die Lust zum Tanzen verging",
           "Johann Peter",
           "Realismus"
          ],
          [
           "Bassompierres Geschichte von der schönen Krämerin",
           "Johann Wolfgang von Goethe",
           "Kunstepoche"
          ],
          [
           "Der Mann von funfzig Jahren",
           "Johann Wolfgang von Goethe",
           "Kunstepoche"
          ],
          [
           "Der Prokurator",
           "Johann Wolfgang von Goethe",
           "Kunstepoche"
          ],
          [
           "Die gefährliche Wette",
           "Johann Wolfgang von Goethe",
           "Kunstepoche"
          ],
          [
           "Die Geschichte von Mignons Eltern",
           "Johann Wolfgang von Goethe",
           "Kunstepoche"
          ],
          [
           "Die pilgernde Törin",
           "Johann Wolfgang von Goethe",
           "Kunstepoche"
          ],
          [
           "Die wunderlichen Nachbarskinder",
           "Johann Wolfgang von Goethe",
           "Kunstepoche"
          ],
          [
           "Ferdinands Schuld und Wandlung",
           "Johann Wolfgang von Goethe",
           "Kunstepoche"
          ],
          [
           "Kleinere Novellen",
           "Johann Wolfgang von Goethe",
           "Kunstepoche"
          ],
          [
           "Nicht zu weit",
           "Johann Wolfgang von Goethe",
           "Kunstepoche"
          ],
          [
           "Novelle",
           "Johann Wolfgang von Goethe",
           "Kunstepoche"
          ],
          [
           "Sankt Joseph der Zweite",
           "Johann Wolfgang von Goethe",
           "Kunstepoche"
          ],
          [
           "Wer ist der Verräter?",
           "Johann Wolfgang von Goethe",
           "Kunstepoche"
          ],
          [
           "Der Überkater, Band 1",
           "Johannes Richard zur Megede",
           "Realismus"
          ],
          [
           "Der Überkater, Band 2",
           "Johannes Richard zur Megede",
           "Realismus"
          ],
          [
           "Novellenbuch. Erster Band",
           "Johannes Scherr",
           "Vormärz"
          ],
          [
           "Altdeutsch - Erster Band",
           "Josef Eduard Konrad Bischoff",
           "Vormärz"
          ],
          [
           "Bankrott",
           "Josef Eduard Konrad Bischoff",
           "Vormärz"
          ],
          [
           "Franz von Sickingen. Erster Theil",
           "Josef Eduard Konrad Bischoff",
           "Vormärz"
          ],
          [
           "Neudeutsch",
           "Josef Eduard Konrad Bischoff",
           "Vormärz"
          ],
          [
           "Achtspännig. Erster Theil",
           "Josef Rank",
           "Vormärz"
          ],
          [
           "Ein Dorfbrutus. Erster Teil",
           "Josef Rank",
           "Vormärz"
          ],
          [
           "Schön-Minnele. Erster Band",
           "Josef Rank",
           "Vormärz"
          ],
          [
           "Auch ich war in Arkadien",
           "Joseph Freiherr von Eichendorff",
           "Kunstepoche"
          ],
          [
           "Das Marmorbild",
           "Joseph Freiherr von Eichendorff",
           "Kunstepoche"
          ],
          [
           "Das Schloß Dürande",
           "Joseph Freiherr von Eichendorff",
           "Kunstepoche"
          ],
          [
           "Der Adel und die Revolution",
           "Joseph Freiherr von Eichendorff",
           "Kunstepoche"
          ],
          [
           "Die Zauberei im Herbste",
           "Joseph Freiherr von Eichendorff",
           "Kunstepoche"
          ],
          [
           "Viel Lärmen um Nichts",
           "Joseph Freiherr von Eichendorff",
           "Kunstepoche"
          ],
          [
           "Das Hünengrab",
           "Julius Hart",
           "Realismus"
          ],
          [
           "Das Heimweh",
           "Julius Mosen, eigentlich Julius Moses",
           "Kunstepoche"
          ],
          [
           "Meines Großvaters Brautwerbung / Ismael",
           "Julius Mosen, eigentlich Julius Moses",
           "Kunstepoche"
          ],
          [
           "Die Grandidiers",
           "Julius Rodenberg, eigentlich Levy",
           "Moderne"
          ],
          [
           "Das schwarze Weib",
           "Julius Wolff",
           "Realismus"
          ],
          [
           "Das Wildfangrecht",
           "Julius Wolff",
           "Realismus"
          ],
          [
           "Der Sülfmeister",
           "Julius Wolff",
           "Realismus"
          ],
          [
           "Lurlei",
           "Julius Wolff",
           "Realismus"
          ],
          [
           "Töchter",
           "Karl Adolph",
           "Realismus"
          ],
          [
           "Größenwahn",
           "Karl Bleibtreu",
           "Realismus"
          ],
          [
           "Der Pojaz",
           "Karl Emil Franzos",
           "Realismus"
          ],
          [
           "Die Juden von Barnow",
           "Karl Emil Franzos",
           "Realismus"
          ],
          [
           "Ein Kampf ums Recht",
           "Karl Emil Franzos",
           "Realismus"
          ],
          [
           "Judith Trachtenberg",
           "Karl Emil Franzos",
           "Realismus"
          ],
          [
           "Leib Weihnachtskuchen und sein Kind",
           "Karl Emil Franzos",
           "Realismus"
          ],
          [
           "Moschko von Parma",
           "Karl Emil Franzos",
           "Realismus"
          ],
          [
           "Novellen um Liebe und Ehe",
           "Karl Emil Franzos",
           "Realismus"
          ],
          [
           "Blasedow und seine Söhne. Erster Theil",
           "Karl Gutzkow",
           "Vormärz"
          ],
          [
           "Der Sadducäer von Amsterdam",
           "Karl Gutzkow",
           "Vormärz"
          ],
          [
           "Der Zauberer von Rom, 1. Buch",
           "Karl Gutzkow",
           "Vormärz"
          ],
          [
           "Die Kurstauben",
           "Karl Gutzkow",
           "Vormärz"
          ],
          [
           "Die Nihilisten",
           "Karl Gutzkow",
           "Vormärz"
          ],
          [
           "Die Ritter vom Geiste",
           "Karl Gutzkow",
           "Vormärz"
          ],
          [
           "Die Selbsttaufe",
           "Karl Gutzkow",
           "Vormärz"
          ],
          [
           "Eine Phantasieliebe",
           "Karl Gutzkow",
           "Vormärz"
          ],
          [
           "Imagina Unruh",
           "Karl Gutzkow",
           "Vormärz"
          ],
          [
           "Jean-Jacques",
           "Karl Gutzkow",
           "Vormärz"
          ],
          [
           "Seraphine",
           "Karl Gutzkow",
           "Vormärz"
          ],
          [
           "Das Zauberwasser und andere Erzählungen",
           "Karl May",
           "Realismus"
          ],
          [
           "Halbblut und andere Erzählungen",
           "Karl May",
           "Realismus"
          ],
          [
           "Kapitän Kaiman und andere Erzählungen",
           "Karl May",
           "Realismus"
          ],
          [
           "Andreas Hartknopf. Eine Allegorie",
           "Karl Philipp Moritz",
           "Kunstepoche"
          ],
          [
           "Andreas Hartknopfs Predigerjahre",
           "Karl Philipp Moritz",
           "Kunstepoche"
          ],
          [
           "Fortunat und seine Söhne",
           "Karl Simrock",
           "Kunstepoche"
          ],
          [
           "Der Jesuit",
           "Karl Spindler",
           "Kunstepoche"
          ],
          [
           "Der Jude",
           "Karl Spindler",
           "Kunstepoche"
          ],
          [
           "Der Vogelhändler von Imst",
           "Karl Spindler",
           "Kunstepoche"
          ],
          [
           "Herbstviolen",
           "Karl Spindler",
           "Kunstepoche"
          ],
          [
           "Putsch & Comp. Dritter Band",
           "Karl Spindler",
           "Kunstepoche"
          ],
          [
           "Putsch & Comp. Erster Band",
           "Karl Spindler",
           "Kunstepoche"
          ],
          [
           "Putsch & Comp. Vierter Band",
           "Karl Spindler",
           "Kunstepoche"
          ],
          [
           "Putsch & Comp. Zweiter Band",
           "Karl Spindler",
           "Kunstepoche"
          ],
          [
           "Regenbogenstrahlen. Erster Band",
           "Karl Spindler",
           "Kunstepoche"
          ],
          [
           "Tag und Nacht. Erster Band",
           "Karl Spindler",
           "Kunstepoche"
          ],
          [
           "Tag und Nacht. Zweiter Band",
           "Karl Spindler",
           "Kunstepoche"
          ],
          [
           "Mien Jungsparadies",
           "Klaus Groth",
           "Vormärz"
          ],
          [
           "Ruggiero, der Brigant",
           "Konrad Telman, eigentlich Konrad Zitelmann",
           "Realismus"
          ],
          [
           "Aspira. Der Roman einer Wolke",
           "Kurd Laßwitz",
           "Realismus"
          ],
          [
           "Bis zum Nullpunkt des Seins und andere Science-Fiction-Erzählungen",
           "Kurd Laßwitz",
           "Realismus"
          ],
          [
           "Gegen das Weltgesetz",
           "Kurd Laßwitz",
           "Realismus"
          ],
          [
           "Familie Dungs",
           "Kurt Aram, eigentlich Hans Fischer",
           "Realismus"
          ],
          [
           "Leda",
           "Kurt Aram, eigentlich Hans Fischer",
           "Realismus"
          ],
          [
           "Oh Ali!",
           "Kurt Aram, eigentlich Hans Fischer",
           "Realismus"
          ],
          [
           "Altdeutsche Novellen, Band 1",
           "Leo Greiner",
           "Moderne"
          ],
          [
           "Altdeutsche Novellen, Band 2",
           "Leo Greiner",
           "Moderne"
          ],
          [
           "Der Rettungsball",
           "Leo Leipziger",
           "Realismus"
          ],
          [
           "Die neuen Linden",
           "Leo Leipziger",
           "Realismus"
          ],
          [
           "Am Pflug",
           "Leopold Kompert",
           "Vormärz"
          ],
          [
           "Judith die Zweite",
           "Leopold Kompert",
           "Vormärz"
          ],
          [
           "Ohne Bewilligung",
           "Leopold Kompert",
           "Vormärz"
          ],
          [
           "Die Düvecke, oder die Leiden einer Königin",
           "Leopold Schefer",
           "Kunstepoche"
          ],
          [
           "Die Gräfin Ulfeld. Erster Band",
           "Leopold Schefer",
           "Kunstepoche"
          ],
          [
           "Génévion von Toulouse",
           "Leopold Schefer",
           "Kunstepoche"
          ],
          [
           "Das Erntefest",
           "Leopold von Sacher-Masoch",
           "Realismus"
          ],
          [
           "Lola",
           "Leopold von Sacher-Masoch",
           "Realismus"
          ],
          [
           "Matrena",
           "Leopold von Sacher-Masoch",
           "Realismus"
          ],
          [
           "Neue Erzählungen",
           "Leopold von Sacher-Masoch",
           "Realismus"
          ],
          [
           "Venus im Pelz",
           "Leopold von Sacher-Masoch",
           "Realismus"
          ],
          [
           "Zur Ehre Gottes!",
           "Leopold von Sacher-Masoch",
           "Realismus"
          ],
          [
           "Der Familienschild",
           "Levin Schücking",
           "Vormärz"
          ],
          [
           "Der hinkende Teufel",
           "Levin Schücking",
           "Vormärz"
          ],
          [
           "Der Kampf im Spessart",
           "Levin Schücking",
           "Vormärz"
          ],
          [
           "Deutsche Eroberungen",
           "Levin Schücking",
           "Vormärz"
          ],
          [
           "Gesammelte Erzählungen und Novellen. Dritter und vierter Theil",
           "Levin Schücking",
           "Vormärz"
          ],
          [
           "Gesammelte Erzählungen und Novellen. Erster und zweiter Theil",
           "Levin Schücking",
           "Vormärz"
          ],
          [
           "Gesammelte Erzählungen und Novellen. Fünfter und sechster Theil",
           "Levin Schücking",
           "Vormärz"
          ],
          [
           "Hart am Rande",
           "Levin Schücking",
           "Vormärz"
          ],
          [
           "Novellen (1846). Erster Band",
           "Levin Schücking",
           "Vormärz"
          ],
          [
           "Novellen (1846). Zweiter Band",
           "Levin Schücking",
           "Vormärz"
          ],
          [
           "Nürnberg",
           "Louise Otto-Peters",
           "Vormärz"
          ],
          [
           "Schloß und Fabrik",
           "Louise Otto-Peters",
           "Vormärz"
          ],
          [
           "Allerseelen",
           "Ludwig Anzengruber",
           "Realismus"
          ],
          [
           "Der Einsam",
           "Ludwig Anzengruber",
           "Realismus"
          ],
          [
           "Der Sternsteinhof",
           "Ludwig Anzengruber",
           "Realismus"
          ],
          [
           "Die Märchen des Steinklopferhanns",
           "Ludwig Anzengruber",
           "Realismus"
          ],
          [
           "Dorfgänge",
           "Ludwig Anzengruber",
           "Realismus"
          ],
          [
           "Drei Kleinere Erzählungen",
           "Ludwig Anzengruber",
           "Realismus"
          ],
          [
           "Hartingers alte Sixtin",
           "Ludwig Anzengruber",
           "Realismus"
          ],
          [
           "Jaggernaut",
           "Ludwig Anzengruber",
           "Realismus"
          ],
          [
           "Sein Spielzeug",
           "Ludwig Anzengruber",
           "Realismus"
          ],
          [
           "Vereinsamt",
           "Ludwig Anzengruber",
           "Realismus"
          ],
          [
           "Aus dem Leben und den Schriften des Magisters Herle und seines Freundes Mänle",
           "Ludwig Aurbacher",
           "Kunstepoche"
          ],
          [
           "Die schwäbische Bauernhochzeit",
           "Ludwig Aurbacher",
           "Kunstepoche"
          ],
          [
           "Erzählungen, Lieder und Sprüche aus dem »Allerley«",
           "Ludwig Aurbacher",
           "Kunstepoche"
          ],
          [
           "Deutsches Sagenbuch",
           "Ludwig Bechstein",
           "Kunstepoche"
          ],
          [
           "Bergheimat",
           "Ludwig Ganghofer",
           "Realismus"
          ],
          [
           "Das neue Wesen",
           "Ludwig Ganghofer",
           "Realismus"
          ],
          [
           "Der Ochsenkrieg",
           "Ludwig Ganghofer",
           "Realismus"
          ],
          [
           "Fliegender Sommer",
           "Ludwig Ganghofer",
           "Realismus"
          ],
          [
           "Schloß Hubertus",
           "Ludwig Ganghofer",
           "Realismus"
          ],
          [
           "1812",
           "Ludwig Rellstab",
           "Kunstepoche"
          ],
          [
           "Der Diplomat",
           "Ludwig Storch",
           "Kunstepoche"
          ],
          [
           "Orestes in Paris",
           "Ludwig Storch",
           "Kunstepoche"
          ],
          [
           "Andreas Vöst",
           "Ludwig Thoma",
           "Realismus"
          ],
          [
           "Der Ruepp",
           "Ludwig Thoma",
           "Realismus"
          ],
          [
           "Der Wittiber",
           "Ludwig Thoma",
           "Realismus"
          ],
          [
           "Kaspar Lorinser",
           "Ludwig Thoma",
           "Realismus"
          ],
          [
           "Weitere Erzählungen",
           "Ludwig Thoma",
           "Realismus"
          ],
          [
           "Abdallah",
           "Ludwig Tieck",
           "Kunstepoche"
          ],
          [
           "Almansur",
           "Ludwig Tieck",
           "Kunstepoche"
          ],
          [
           "Das grüne Band",
           "Ludwig Tieck",
           "Kunstepoche"
          ],
          [
           "Der Aufzug der Romanze",
           "Ludwig Tieck",
           "Kunstepoche"
          ],
          [
           "Der Jahrmarkt",
           "Ludwig Tieck",
           "Kunstepoche"
          ],
          [
           "Der junge Tischlermeister",
           "Ludwig Tieck",
           "Kunstepoche"
          ],
          [
           "Der Roman in Briefen",
           "Ludwig Tieck",
           "Kunstepoche"
          ],
          [
           "Die Brüder",
           "Ludwig Tieck",
           "Kunstepoche"
          ],
          [
           "Die Reisenden",
           "Ludwig Tieck",
           "Kunstepoche"
          ],
          [
           "Die sieben Weiber des Blaubart",
           "Ludwig Tieck",
           "Kunstepoche"
          ],
          [
           "Die Verlobung",
           "Ludwig Tieck",
           "Kunstepoche"
          ],
          [
           "Die Vogelscheuche",
           "Ludwig Tieck",
           "Kunstepoche"
          ],
          [
           "Eine Sommerreise",
           "Ludwig Tieck",
           "Kunstepoche"
          ],
          [
           "Geschichte des Herrn William Lovell",
           "Ludwig Tieck",
           "Kunstepoche"
          ],
          [
           "Glück giebt Verstand",
           "Ludwig Tieck",
           "Kunstepoche"
          ],
          [
           "Victoria Accorombona",
           "Ludwig Tieck",
           "Kunstepoche"
          ],
          [
           "Waldeinsamkeit",
           "Ludwig Tieck",
           "Kunstepoche"
          ],
          [
           "Wunderlichkeiten",
           "Ludwig Tieck",
           "Kunstepoche"
          ],
          [
           "Scala santa",
           "Max Burckhard",
           "Realismus"
          ],
          [
           "Die acht Gesichter am Biwasee",
           "Max Dauthendey",
           "Realismus"
          ],
          [
           "Geschichten aus den vier Winden",
           "Max Dauthendey",
           "Realismus"
          ],
          [
           "Josa Gerth",
           "Max Dauthendey",
           "Realismus"
          ],
          [
           "Lingam",
           "Max Dauthendey",
           "Realismus"
          ],
          [
           "Novellen und Erzählungen",
           "Max Dauthendey",
           "Realismus"
          ],
          [
           "Raubmenschen",
           "Max Dauthendey",
           "Realismus"
          ],
          [
           "Der Invalide",
           "Max Eyth",
           "Realismus"
          ],
          [
           "Die ersten Tanzschuhe",
           "Max Eyth",
           "Realismus"
          ],
          [
           "Madonna",
           "Max Eyth",
           "Realismus"
          ],
          [
           "Mönch und Landsknecht",
           "Max Eyth",
           "Realismus"
          ],
          [
           "Vorwort",
           "Max Eyth",
           "Realismus"
          ],
          [
           "Frauenherzen",
           "Max Ring",
           "Vormärz"
          ],
          [
           "Irrwege/Ein Staatsgeheimnis",
           "Max Ring",
           "Vormärz"
          ],
          [
           "John Milton und seine Zeit",
           "Max Ring",
           "Vormärz"
          ],
          [
           "Julie Eberhard",
           "Max Ring",
           "Vormärz"
          ],
          [
           "Lose Vögel",
           "Max Ring",
           "Vormärz"
          ],
          [
           "Aus der Junkerwelt",
           "Max Waldau",
           "Vormärz"
          ],
          [
           "'s Almstummerl",
           "Maximilian Schmidt",
           "Realismus"
          ],
          [
           "Der Bubenrichter von Mittenwald",
           "Maximilian Schmidt",
           "Realismus"
          ],
          [
           "Der Zuggeist oder die erste Zugspitzbesteigung",
           "Maximilian Schmidt",
           "Realismus"
          ],
          [
           "Die Ameisenhexe",
           "Maximilian Schmidt",
           "Realismus"
          ],
          [
           "Die Jachenauer in Griechenland",
           "Maximilian Schmidt",
           "Realismus"
          ],
          [
           "Maria Pettenpeck",
           "Maximilian Schmidt",
           "Realismus"
          ],
          [
           "Meister Martin",
           "Maximilian Schmidt",
           "Realismus"
          ],
          [
           "Das Glöcklein auf Rain",
           "Meinrad Lienert",
           "Realismus"
          ],
          [
           "Der König von Euland",
           "Meinrad Lienert",
           "Realismus"
          ],
          [
           "Der Pfeiferkönig. Eine Zürchergeschichte",
           "Meinrad Lienert",
           "Realismus"
          ],
          [
           "Was die Isar rauscht",
           "Michael Georg Conrad",
           "Realismus"
          ],
          [
           "Reise in die mittäglichen Provinzen von Frankreich im Jahre 1785-1786",
           "Moritz August von Thümmel",
           "Kunstepoche"
          ],
          [
           "Wilhelmine's Werdegang",
           "Moritz August von Thümmel",
           "Kunstepoche"
          ],
          [
           "Der Krieg um den Wald",
           "Moritz Hartmann",
           "Vormärz"
          ],
          [
           "Die Tobias-Vase",
           "Moritz Heimann",
           "Realismus"
          ],
          [
           "Dr. Wislizenus",
           "Moritz Heimann",
           "Realismus"
          ],
          [
           "Wintergespinst",
           "Moritz Heimann",
           "Realismus"
          ],
          [
           "Die Lehrlinge zu Sais",
           "Novalis, eigentlich Friedrich von Hardenberg",
           "Kunstepoche"
          ],
          [
           "Heinrich von Ofterdingen",
           "Novalis, eigentlich Friedrich von Hardenberg",
           "Kunstepoche"
          ],
          [
           "Der Sterngucker und die Pensionsmama",
           "Oskar Höcker",
           "Realismus"
          ],
          [
           "Deutsche Treue, welsche Tücke",
           "Oskar Höcker",
           "Realismus"
          ],
          [
           "Die Sonne von St. Moritz",
           "Oskar Höcker",
           "Realismus"
          ],
          [
           "Die verbotene Frucht",
           "Oskar Höcker",
           "Realismus"
          ],
          [
           "Erfindung der Buchdruckerkunst",
           "Oskar Höcker",
           "Realismus"
          ],
          [
           "Lebendig begraben",
           "Oskar Höcker",
           "Realismus"
          ],
          [
           "Närrische Käuze",
           "Oskar Höcker",
           "Realismus"
          ],
          [
           "Aus dem Tagebuch eines Hundes",
           "Oskar Panizza",
           "Realismus"
          ],
          [
           "Dämmrungsstücke",
           "Oskar Panizza",
           "Realismus"
          ],
          [
           "Das Verbrechen in Tavistock-Square",
           "Oskar Panizza",
           "Realismus"
          ],
          [
           "Visionen",
           "Oskar Panizza",
           "Realismus"
          ],
          [
           "Der bunte Vogel",
           "Otto Erich Hartleben",
           "Realismus"
          ],
          [
           "Die Geschichte vom abgerissenen Knopfe",
           "Otto Erich Hartleben",
           "Realismus"
          ],
          [
           "Die Serényi",
           "Otto Erich Hartleben",
           "Realismus"
          ],
          [
           "Vom Gastfreien Pastor",
           "Otto Erich Hartleben",
           "Realismus"
          ],
          [
           "Appelschnut",
           "Otto Ernst, eigentlich Otto Ernst Schmidt",
           "Realismus"
          ],
          [
           "Asmus Sempers Jugendland",
           "Otto Ernst, eigentlich Otto Ernst Schmidt",
           "Realismus"
          ],
          [
           "Der süße Willy",
           "Otto Ernst, eigentlich Otto Ernst Schmidt",
           "Realismus"
          ],
          [
           "Die Kunstreise nach Hümpeldorf",
           "Otto Ernst, eigentlich Otto Ernst Schmidt",
           "Realismus"
          ],
          [
           "Ein frohes Farbenspiel",
           "Otto Ernst, eigentlich Otto Ernst Schmidt",
           "Realismus"
          ],
          [
           "Himmel voller Geigen",
           "Otto Ernst, eigentlich Otto Ernst Schmidt",
           "Realismus"
          ],
          [
           "Semper der Jüngling",
           "Otto Ernst, eigentlich Otto Ernst Schmidt",
           "Realismus"
          ],
          [
           "Semper der Mann",
           "Otto Ernst, eigentlich Otto Ernst Schmidt",
           "Realismus"
          ],
          [
           "Das schöne Mädchen von Pao",
           "Otto Julius Bierbaum",
           "Realismus"
          ],
          [
           "Die Freiersfahrten und Freiersmeinungen des weiberfeindlichen Herrn Pankrazius Graunzer",
           "Otto Julius Bierbaum",
           "Realismus"
          ],
          [
           "Prinz Kuckuck",
           "Otto Julius Bierbaum",
           "Realismus"
          ],
          [
           "Stilpe. Ein Roman aus der Froschperspektive",
           "Otto Julius Bierbaum",
           "Realismus"
          ],
          [
           "Studenten-Beichten",
           "Otto Julius Bierbaum",
           "Realismus"
          ],
          [
           "Die Heiteretei und ihr Widerspiel",
           "Otto Ludwig",
           "Vormärz"
          ],
          [
           "Erzählungen",
           "Otto Roquette",
           "Vormärz"
          ],
          [
           "Luginsland",
           "Otto Roquette",
           "Vormärz"
          ],
          [
           "Orion",
           "Otto Roquette",
           "Vormärz"
          ],
          [
           "Das Vermächtnis des Pedlars",
           "Otto Ruppius",
           "Vormärz"
          ],
          [
           "Der Pedlar",
           "Otto Ruppius",
           "Vormärz"
          ],
          [
           "Allerleirauh",
           "Otto Stoessl",
           "Moderne"
          ],
          [
           "Die Schmiere",
           "Otto Stoessl",
           "Moderne"
          ],
          [
           "Egon und Danitza",
           "Otto Stoessl",
           "Moderne"
          ],
          [
           "Johannes Freudensprung",
           "Otto Stoessl",
           "Moderne"
          ],
          [
           "Menschendämmerung",
           "Otto Stoessl",
           "Moderne"
          ],
          [
           "Morgenrot",
           "Otto Stoessl",
           "Moderne"
          ],
          [
           "Nachtgeschichten",
           "Otto Stoessl",
           "Moderne"
          ],
          [
           "Negerkönigs Tochter",
           "Otto Stoessl",
           "Moderne"
          ],
          [
           "Sonjas letzter Name",
           "Otto Stoessl",
           "Moderne"
          ],
          [
           "Der Fremdling",
           "Paul Enderling",
           "Moderne"
          ],
          [
           "Das Glück von Lautenthal",
           "Paul Ernst",
           "Realismus"
          ],
          [
           "Der Nobelpreis",
           "Paul Ernst",
           "Realismus"
          ],
          [
           "Der Schatz im Morgenbrotstal",
           "Paul Ernst",
           "Realismus"
          ],
          [
           "Der schmale Weg zum Glück",
           "Paul Ernst",
           "Realismus"
          ],
          [
           "Der Tod des Cosimo",
           "Paul Ernst",
           "Realismus"
          ],
          [
           "Die Taufe",
           "Paul Ernst",
           "Realismus"
          ],
          [
           "Geschichten von deutscher Art",
           "Paul Ernst",
           "Realismus"
          ],
          [
           "Komödianten- und Spitzbubengeschichten",
           "Paul Ernst",
           "Realismus"
          ],
          [
           "Prinzessin des Ostens",
           "Paul Ernst",
           "Realismus"
          ],
          [
           "Achtzehnte Sammlung der Novellen",
           "Paul Heyse",
           "Vormärz"
          ],
          [
           "Andrea Delfin",
           "Paul Heyse",
           "Vormärz"
          ],
          [
           "Crone Stäudlin",
           "Paul Heyse",
           "Vormärz"
          ],
          [
           "Der Novellen zehnte Sammlung",
           "Paul Heyse",
           "Vormärz"
          ],
          [
           "Der Sohn seines Vaters und andere Novellen",
           "Paul Heyse",
           "Vormärz"
          ],
          [
           "Dreizehnte Sammlung der Novellen",
           "Paul Heyse",
           "Vormärz"
          ],
          [
           "Einzelne Novellen",
           "Paul Heyse",
           "Vormärz"
          ],
          [
           "Elfte Sammlung der Novellen",
           "Paul Heyse",
           "Vormärz"
          ],
          [
           "Fünf neue Novellen. Sechste Sammlung",
           "Paul Heyse",
           "Vormärz"
          ],
          [
           "Fünfte Sammlung der Novellen",
           "Paul Heyse",
           "Vormärz"
          ],
          [
           "Fünfzehnte Sammlung der Novellen",
           "Paul Heyse",
           "Vormärz"
          ],
          [
           "Gegen den Strom",
           "Paul Heyse",
           "Vormärz"
          ],
          [
           "Kinder der Welt",
           "Paul Heyse",
           "Vormärz"
          ],
          [
           "L' Arrabbiata",
           "Paul Heyse",
           "Vormärz"
          ],
          [
           "Letzte Novellen",
           "Paul Heyse",
           "Vormärz"
          ],
          [
           "Melusine und andere Novellen",
           "Paul Heyse",
           "Vormärz"
          ],
          [
           "Moralische Novellen. Achte Sammlung",
           "Paul Heyse",
           "Vormärz"
          ],
          [
           "Moralische Unmöglichkeiten und andere Novellen",
           "Paul Heyse",
           "Vormärz"
          ],
          [
           "Neue Novellen [2. Sammlung]",
           "Paul Heyse",
           "Vormärz"
          ],
          [
           "Neunte Sammlung der Novellen",
           "Paul Heyse",
           "Vormärz"
          ],
          [
           "Ninon und andere Novellen",
           "Paul Heyse",
           "Vormärz"
          ],
          [
           "Novellen [1. Sammlung]",
           "Paul Heyse",
           "Vormärz"
          ],
          [
           "Novellen in Versen",
           "Paul Heyse",
           "Vormärz"
          ],
          [
           "Novellen und Terzinen. Siebente Sammlung der Novellen",
           "Paul Heyse",
           "Vormärz"
          ],
          [
           "Novellen vom Gardasee",
           "Paul Heyse",
           "Vormärz"
          ],
          [
           "Sechzehnte Sammlung der Novellen",
           "Paul Heyse",
           "Vormärz"
          ],
          [
           "Siebenzehnte Sammlung der Novellen",
           "Paul Heyse",
           "Vormärz"
          ],
          [
           "Victoria regia und andere Novellen",
           "Paul Heyse",
           "Vormärz"
          ],
          [
           "Vier neue Novellen. Dritte Sammlung",
           "Paul Heyse",
           "Vormärz"
          ],
          [
           "Vier neue Novellen. Vierte Sammlung",
           "Paul Heyse",
           "Vormärz"
          ],
          [
           "Vierzehnte Sammlung der Novellen",
           "Paul Heyse",
           "Vormärz"
          ],
          [
           "Villa Falconieri und andere Novellen",
           "Paul Heyse",
           "Vormärz"
          ],
          [
           "Zwölfte Sammlung der Novellen",
           "Paul Heyse",
           "Vormärz"
          ],
          [
           "Altenroda",
           "Paul Keller",
           "Moderne"
          ],
          [
           "Das letzte Märchen",
           "Paul Keller",
           "Moderne"
          ],
          [
           "Von kleinen Leuten und großen Dingen",
           "Paul Keller",
           "Moderne"
          ],
          [
           "Blondes Gift",
           "Paul Langenscheidt",
           "Realismus"
          ],
          [
           "Graf Cohn",
           "Paul Langenscheidt",
           "Realismus"
          ],
          [
           "Kanaillen",
           "Paul Langenscheidt",
           "Realismus"
          ],
          [
           "Taumel",
           "Paul Langenscheidt",
           "Realismus"
          ],
          [
           "Der König von Sidon",
           "Paul Lindau",
           "Realismus"
          ],
          [
           "Die kleine Madonna",
           "Paul Lindau",
           "Realismus"
          ],
          [
           "Hängendes Moos",
           "Paul Lindau",
           "Realismus"
          ],
          [
           "Im Fieber",
           "Paul Lindau",
           "Realismus"
          ],
          [
           "Mayo",
           "Paul Lindau",
           "Realismus"
          ],
          [
           "Mein Freund Hilarius",
           "Paul Lindau",
           "Realismus"
          ],
          [
           "Toggenburg",
           "Paul Lindau",
           "Realismus"
          ],
          [
           "Tragische Geschichten",
           "Paul Lindau",
           "Realismus"
          ],
          [
           "Der Ruf aus dem Aether",
           "Paul Rosenhayn",
           "Moderne"
          ],
          [
           "Nachtanruf",
           "Paul Rosenhayn",
           "Moderne"
          ],
          [
           "Flora Mohr",
           "Paul Scheerbart",
           "Realismus"
          ],
          [
           "Immer mutig!",
           "Paul Scheerbart",
           "Realismus"
          ],
          [
           "Lesabéndio.",
           "Paul Scheerbart",
           "Realismus"
          ],
          [
           "Liwûna und Kaidôh. Ein Seelenroman",
           "Paul Scheerbart",
           "Realismus"
          ],
          [
           "Machtspäße.",
           "Paul Scheerbart",
           "Realismus"
          ],
          [
           "Tarub, Bagdads berühmte Köchin",
           "Paul Scheerbart",
           "Realismus"
          ],
          [
           "Der böse Baron von Krosigk",
           "Paul Schreckenbach",
           "Realismus"
          ],
          [
           "Der deutsche Herzog",
           "Paul Schreckenbach",
           "Realismus"
          ],
          [
           "Der getreue Kleist",
           "Paul Schreckenbach",
           "Realismus"
          ],
          [
           "Der König von Rothenburg",
           "Paul Schreckenbach",
           "Realismus"
          ],
          [
           "Die letzten Rudelsburger",
           "Paul Schreckenbach",
           "Realismus"
          ],
          [
           "Die von Wintzingerode",
           "Paul Schreckenbach",
           "Realismus"
          ],
          [
           "Michael Meyenburg",
           "Paul Schreckenbach",
           "Realismus"
          ],
          [
           "Um die Wartburg",
           "Paul Schreckenbach",
           "Realismus"
          ],
          [
           "Wildefüer",
           "Paul Schreckenbach",
           "Realismus"
          ],
          [
           "Die Schriften des Waldschulmeisters",
           "Peter Rosegger, eigentlich Roßegger",
           "Realismus"
          ],
          [
           "Felix der Begehrte",
           "Peter Rosegger, eigentlich Roßegger",
           "Realismus"
          ],
          [
           "Kleine Erzählungen",
           "Peter Rosegger, eigentlich Roßegger",
           "Realismus"
          ],
          [
           "Waldheimat. Erzählungen aus der Jugendzeit",
           "Peter Rosegger, eigentlich Roßegger",
           "Realismus"
          ],
          [
           "Zwei Menschen. Roman in Romanzen",
           "Richard Dehmel",
           "Realismus"
          ],
          [
           "Alpentragödie",
           "Richard Voß",
           "Realismus"
          ],
          [
           "Brutus, auch Du!",
           "Richard Voß",
           "Realismus"
          ],
          [
           "Die Mutter der Catonen",
           "Richard Voß",
           "Realismus"
          ],
          [
           "Die Rächerin und andere römische Novellen",
           "Richard Voß",
           "Realismus"
          ],
          [
           "Die Sabinerin",
           "Richard Voß",
           "Realismus"
          ],
          [
           "Felice Leste",
           "Richard Voß",
           "Realismus"
          ],
          [
           "Michael Cibula",
           "Richard Voß",
           "Realismus"
          ],
          [
           "Rolla",
           "Richard Voß",
           "Realismus"
          ],
          [
           "Römisches Fieber",
           "Richard Voß",
           "Realismus"
          ],
          [
           "Villa Falconieri",
           "Richard Voß",
           "Realismus"
          ],
          [
           "Zwei Menschen",
           "Richard Voß",
           "Realismus"
          ],
          [
           "Der heimliche Gast",
           "Robert Byr, eigentlich Karl Robert Emanuel von Bayer",
           "Realismus"
          ],
          [
           "Lydia",
           "Robert Byr, eigentlich Karl Robert Emanuel von Bayer",
           "Realismus"
          ],
          [
           "Das Engelchen. Erster Theil",
           "Robert Eduard Prutz",
           "Vormärz"
          ],
          [
           "Die verscherzte Himmelsmacht",
           "Robert Fuchs-Liska",
           "Realismus"
          ],
          [
           "Hatzicho der Wolf",
           "Robert Fuchs-Liska",
           "Realismus"
          ],
          [
           "Um die Freiheit",
           "Robert Schweichel",
           "Vormärz"
          ],
          [
           "Ums Herz",
           "Robert Schweichel",
           "Vormärz"
          ],
          [
           "Trug-Gold",
           "Rudolf Baumbach",
           "Realismus"
          ],
          [
           "Der Opfergang",
           "Rudolf G. Binding",
           "Realismus"
          ],
          [
           "Die Geige",
           "Rudolf G. Binding",
           "Realismus"
          ],
          [
           "Im Banne des Schwarzen Adlers",
           "Rudolf Gottschall",
           "Vormärz"
          ],
          [
           "Parasiten",
           "Rudolf Gottschall",
           "Vormärz"
          ],
          [
           "Romeo und Julie am Pregel",
           "Rudolf Gottschall",
           "Vormärz"
          ],
          [
           "Schulröschen",
           "Rudolf Gottschall",
           "Vormärz"
          ],
          [
           "Die Einkommensteuer",
           "Rudolf Hawel",
           "Realismus"
          ],
          [
           "Dr. Thorns Lebensabend",
           "Rudolf Hawel",
           "Realismus"
          ],
          [
           "Im Reiche der Homunkuliden",
           "Rudolf Hawel",
           "Realismus"
          ],
          [
           "Das Glückspendel",
           "Rudolf Lindau",
           "Vormärz"
          ],
          [
           "Der Gast",
           "Rudolf Lindau",
           "Vormärz"
          ],
          [
           "Der Hamal",
           "Rudolf Lindau",
           "Vormärz"
          ],
          [
           "Ein ganzes Leben",
           "Rudolf Lindau",
           "Vormärz"
          ],
          [
           "Erzählungen aus dem Osten",
           "Rudolf Lindau",
           "Vormärz"
          ],
          [
           "Liebesheiraten",
           "Rudolf Lindau",
           "Vormärz"
          ],
          [
           "Liquidiert",
           "Rudolf Lindau",
           "Vormärz"
          ],
          [
           "Morgenland und Abendland",
           "Rudolf Lindau",
           "Vormärz"
          ],
          [
           "Schweigen",
           "Rudolf Lindau",
           "Vormärz"
          ],
          [
           "Am Kaminfüür",
           "Rudolf von Tavel",
           "Realismus"
          ],
          [
           "Bernbiet",
           "Rudolf von Tavel",
           "Realismus"
          ],
          [
           "D' Haselmuus",
           "Rudolf von Tavel",
           "Realismus"
          ],
          [
           "De Houpme Lombach",
           "Rudolf von Tavel",
           "Realismus"
          ],
          [
           "Der Stärn vo Buebebärg",
           "Rudolf von Tavel",
           "Realismus"
          ],
          [
           "Götti und Gotteli",
           "Rudolf von Tavel",
           "Realismus"
          ],
          [
           "Gueti Gschpane",
           "Rudolf von Tavel",
           "Realismus"
          ],
          [
           "Heimgefunden",
           "Rudolf von Tavel",
           "Realismus"
          ],
          [
           "Heinz Tillmann",
           "Rudolf von Tavel",
           "Realismus"
          ],
          [
           "Jä gäll, so geit's",
           "Rudolf von Tavel",
           "Realismus"
          ],
          [
           "Meister und Ritter",
           "Rudolf von Tavel",
           "Realismus"
          ],
          [
           "Unspunne. Wie’s der Haselmuus wyter ergangen isch",
           "Rudolf von Tavel",
           "Realismus"
          ],
          [
           "Veteranezyt",
           "Rudolf von Tavel",
           "Realismus"
          ],
          [
           "Der graue Herrr",
           "Rudolph Stratz",
           "Realismus"
          ],
          [
           "Der mysteriöse Cavalier und andere Novellen",
           "Rudolph Stratz",
           "Realismus"
          ],
          [
           "Der weiße Tod",
           "Rudolph Stratz",
           "Realismus"
          ],
          [
           "Herzblut",
           "Rudolph Stratz",
           "Realismus"
          ],
          [
           "Hexenkessel",
           "Rudolph Stratz",
           "Realismus"
          ],
          [
           "Karussel Berlin",
           "Rudolph Stratz",
           "Realismus"
          ],
          [
           "König und Kärrner",
           "Rudolph Stratz",
           "Realismus"
          ],
          [
           "Madlene",
           "Rudolph Stratz",
           "Realismus"
          ],
          [
           "Montblanc",
           "Rudolph Stratz",
           "Realismus"
          ],
          [
           "Schloß Vogelöd",
           "Rudolph Stratz",
           "Realismus"
          ],
          [
           "Seine englische Frau",
           "Rudolph Stratz",
           "Realismus"
          ],
          [
           "Unter den Linden",
           "Rudolph Stratz",
           "Realismus"
          ],
          [
           "Der Ungemütliche",
           "Rupert Johann Hammerling",
           "Vormärz"
          ],
          [
           "Die Waldsängerin",
           "Rupert Johann Hammerling",
           "Vormärz"
          ],
          [
           "Mährchen und Erzählungen. Dritter Band",
           "Siegfried August Mahlmann",
           "Kunstepoche"
          ],
          [
           "Mährchen und Erzählungen. Erster Band",
           "Siegfried August Mahlmann",
           "Kunstepoche"
          ],
          [
           "Mährchen und Erzählungen. Zweiter Band",
           "Siegfried August Mahlmann",
           "Kunstepoche"
          ],
          [
           "Sebastopol",
           "Sir John Retcliffe, eigentlich Hermann Goedsche",
           "Vormärz"
          ],
          [
           "Androgyne",
           "Stanisław Przybyszewski",
           "Realismus"
          ],
          [
           "De Profundis",
           "Stanisław Przybyszewski",
           "Realismus"
          ],
          [
           "Der Schrei",
           "Stanisław Przybyszewski",
           "Realismus"
          ],
          [
           "Homo sapiens",
           "Stanisław Przybyszewski",
           "Realismus"
          ],
          [
           "Satans Kinder",
           "Stanisław Przybyszewski",
           "Realismus"
          ],
          [
           "Totenmesse",
           "Stanisław Przybyszewski",
           "Realismus"
          ],
          [
           "Chefredakteur Roth führt Krieg",
           "Stefan Grossmann",
           "Moderne"
          ],
          [
           "Der Vorleser der Kaiserin",
           "Stefan Grossmann",
           "Moderne"
          ],
          [
           "Die Partei",
           "Stefan Grossmann",
           "Moderne"
          ],
          [
           "Herzliche Grüße",
           "Stefan Grossmann",
           "Moderne"
          ],
          [
           "Lenchen Demuth und andere Novellen",
           "Stefan Grossmann",
           "Moderne"
          ],
          [
           "Die Göttin mit der Fackel",
           "Theodor Däubler",
           "Moderne"
          ],
          [
           "L'Africana",
           "Theodor Däubler",
           "Moderne"
          ],
          [
           "Cécile",
           "Theodor Fontane",
           "Vormärz"
          ],
          [
           "Der Stechlin",
           "Theodor Fontane",
           "Vormärz"
          ],
          [
           "Die Poggenpuhls",
           "Theodor Fontane",
           "Vormärz"
          ],
          [
           "Drei frühe Erzählungen",
           "Theodor Fontane",
           "Vormärz"
          ],
          [
           "Ellernklipp",
           "Theodor Fontane",
           "Vormärz"
          ],
          [
           "Frau Jenny Treibel",
           "Theodor Fontane",
           "Vormärz"
          ],
          [
           "Graf Petöfy",
           "Theodor Fontane",
           "Vormärz"
          ],
          [
           "Grete Minde",
           "Theodor Fontane",
           "Vormärz"
          ],
          [
           "L'Adultera",
           "Theodor Fontane",
           "Vormärz"
          ],
          [
           "Mathilde Möhring",
           "Theodor Fontane",
           "Vormärz"
          ],
          [
           "Quitt",
           "Theodor Fontane",
           "Vormärz"
          ],
          [
           "Stine",
           "Theodor Fontane",
           "Vormärz"
          ],
          [
           "Unwiederbringlich",
           "Theodor Fontane",
           "Vormärz"
          ],
          [
           "Vor dem Sturm",
           "Theodor Fontane",
           "Vormärz"
          ],
          [
           "Die von Kelles",
           "Theodor Hermann Pantenius",
           "Realismus"
          ],
          [
           "Im Gottesländchen",
           "Theodor Hermann Pantenius",
           "Realismus"
          ],
          [
           "Philosophische Erzählungen",
           "Theodor Herzl",
           "Realismus"
          ],
          [
           "Der Vogt von Sylt",
           "Theodor Mügge",
           "Kunstepoche"
          ],
          [
           "Randal",
           "Theodor Mügge",
           "Kunstepoche"
          ],
          [
           "Romantische Studien",
           "Theodor Mügge",
           "Kunstepoche"
          ],
          [
           "Schritt für Schritt",
           "Theodor Mügge",
           "Kunstepoche"
          ],
          [
           "Weihnachtsabend",
           "Theodor Mügge",
           "Kunstepoche"
          ],
          [
           "Madelon oder die Romantiker in Paris",
           "Theodor Mundt",
           "Kunstepoche"
          ],
          [
           "Madonna. Unterhaltungen mit einer Heiligen",
           "Theodor Mundt",
           "Kunstepoche"
          ],
          [
           "30 Novellen",
           "Theodor Storm",
           "Vormärz"
          ],
          [
           "Auf dem Staatshof",
           "Theodor Storm",
           "Vormärz"
          ],
          [
           "Auf der Universität",
           "Theodor Storm",
           "Vormärz"
          ],
          [
           "Beim Vetter Christian",
           "Theodor Storm",
           "Vormärz"
          ],
          [
           "Carsten Curator",
           "Theodor Storm",
           "Vormärz"
          ],
          [
           "Der Herr Etatsrat",
           "Theodor Storm",
           "Vormärz"
          ],
          [
           "Die Regentrude",
           "Theodor Storm",
           "Vormärz"
          ],
          [
           "Die Söhne des Senators",
           "Theodor Storm",
           "Vormärz"
          ],
          [
           "Draußen im Heidedorf",
           "Theodor Storm",
           "Vormärz"
          ],
          [
           "Drei weitere kleine Erzählungen",
           "Theodor Storm",
           "Vormärz"
          ],
          [
           "Dritter Band: Novellen",
           "Theodor Storm",
           "Vormärz"
          ],
          [
           "Eekenhof",
           "Theodor Storm",
           "Vormärz"
          ],
          [
           "Ein Bekenntnis",
           "Theodor Storm",
           "Vormärz"
          ],
          [
           "Ein Fest auf Haderslevhuus",
           "Theodor Storm",
           "Vormärz"
          ],
          [
           "Ein stiller Musikant",
           "Theodor Storm",
           "Vormärz"
          ],
          [
           "Eine Halligfahrt",
           "Theodor Storm",
           "Vormärz"
          ],
          [
           "Erster Band: Novellen",
           "Theodor Storm",
           "Vormärz"
          ],
          [
           "Es waren zwei Königskinder",
           "Theodor Storm",
           "Vormärz"
          ],
          [
           "Fünfter Band: Novellen",
           "Theodor Storm",
           "Vormärz"
          ],
          [
           "Geschichten aus der Tonne",
           "Theodor Storm",
           "Vormärz"
          ],
          [
           "Hans und Heinz Kirch",
           "Theodor Storm",
           "Vormärz"
          ],
          [
           "Hinzelmeier",
           "Theodor Storm",
           "Vormärz"
          ],
          [
           "Im Brauerhause",
           "Theodor Storm",
           "Vormärz"
          ],
          [
           "Im Nachbarhause links",
           "Theodor Storm",
           "Vormärz"
          ],
          [
           "Im Saal",
           "Theodor Storm",
           "Vormärz"
          ],
          [
           "Im Schloß",
           "Theodor Storm",
           "Vormärz"
          ],
          [
           "In St. Jürgen",
           "Theodor Storm",
           "Vormärz"
          ],
          [
           "Marthe und ihre Uhr",
           "Theodor Storm",
           "Vormärz"
          ],
          [
           "Neun Novellen und Erzählungen",
           "Theodor Storm",
           "Vormärz"
          ],
          [
           "Pole Poppenspäler",
           "Theodor Storm",
           "Vormärz"
          ],
          [
           "Psyche",
           "Theodor Storm",
           "Vormärz"
          ],
          [
           "Renate",
           "Theodor Storm",
           "Vormärz"
          ],
          [
           "Schweigen",
           "Theodor Storm",
           "Vormärz"
          ],
          [
           "Sechster Band: Novellen",
           "Theodor Storm",
           "Vormärz"
          ],
          [
           "Siebter Band: Novellen",
           "Theodor Storm",
           "Vormärz"
          ],
          [
           "Sylter Novelle",
           "Theodor Storm",
           "Vormärz"
          ],
          [
           "Veronika",
           "Theodor Storm",
           "Vormärz"
          ],
          [
           "Vierter Band: Novellen",
           "Theodor Storm",
           "Vormärz"
          ],
          [
           "Viola tricolor",
           "Theodor Storm",
           "Vormärz"
          ],
          [
           "Waldwinkel",
           "Theodor Storm",
           "Vormärz"
          ],
          [
           "weitere 8 Novellen",
           "Theodor Storm",
           "Vormärz"
          ],
          [
           "Zur Chronik von Grieshuus",
           "Theodor Storm",
           "Vormärz"
          ],
          [
           "Zur Wald- und Wasserfreude",
           "Theodor Storm",
           "Vormärz"
          ],
          [
           "Zweiter Band: Novellen",
           "Theodor Storm",
           "Vormärz"
          ],
          [
           "Aus alter Truhe",
           "Timm Kröger",
           "Realismus"
          ],
          [
           "Dem unbekannten Gott",
           "Timm Kröger",
           "Realismus"
          ],
          [
           "Eine stille Welt",
           "Timm Kröger",
           "Realismus"
          ],
          [
           "Aus dem Leben eines Geringen",
           "Ulrich Hegner",
           "Kunstepoche"
          ],
          [
           "Die Molkenkur",
           "Ulrich Hegner",
           "Kunstepoche"
          ],
          [
           "Saly's Revolutionstage",
           "Ulrich Hegner",
           "Kunstepoche"
          ],
          [
           "Der Kanzler Klaus von Bismarck",
           "Walter Flex",
           "Moderne"
          ],
          [
           "Novellen",
           "Walter Flex",
           "Moderne"
          ],
          [
           "Das Bild des Kaisers",
           "Wilhelm Hauff",
           "Kunstepoche"
          ],
          [
           "Der Mann im Mond",
           "Wilhelm Hauff",
           "Kunstepoche"
          ],
          [
           "Die Bettlerin vom Pont des Arts",
           "Wilhelm Hauff",
           "Kunstepoche"
          ],
          [
           "Die Bettlerin vom Pont des Arts",
           "Wilhelm Hauff",
           "Kunstepoche"
          ],
          [
           "Jud Süss",
           "Wilhelm Hauff",
           "Kunstepoche"
          ],
          [
           "Lichtenstein",
           "Wilhelm Hauff",
           "Kunstepoche"
          ],
          [
           "Lichtenstein",
           "Wilhelm Hauff",
           "Kunstepoche"
          ],
          [
           "Mitteilungen aus den Memoiren des Satan",
           "Wilhelm Hauff",
           "Kunstepoche"
          ],
          [
           "Mitteilungen aus den Memoiren des Satans",
           "Wilhelm Hauff",
           "Kunstepoche"
          ],
          [
           "Novellen",
           "Wilhelm Hauff",
           "Kunstepoche"
          ],
          [
           "Othello",
           "Wilhelm Hauff",
           "Kunstepoche"
          ],
          [
           "Phantasien und Skizzen",
           "Wilhelm Hauff",
           "Kunstepoche"
          ],
          [
           "Die Gerechtigkeit Gottes",
           "Wilhelm Heinrich Riehl",
           "Vormärz"
          ],
          [
           "Durch tausend Jahre, Band 1",
           "Wilhelm Heinrich Riehl",
           "Vormärz"
          ],
          [
           "Durch tausend Jahre, Band 2",
           "Wilhelm Heinrich Riehl",
           "Vormärz"
          ],
          [
           "Durch tausend Jahre, Band 3",
           "Wilhelm Heinrich Riehl",
           "Vormärz"
          ],
          [
           "Durch tausend Jahre, Band 4",
           "Wilhelm Heinrich Riehl",
           "Vormärz"
          ],
          [
           "Ein ganzer Mann",
           "Wilhelm Heinrich Riehl",
           "Vormärz"
          ],
          [
           "Kulturgeschichtliche Novellen",
           "Wilhelm Heinrich Riehl",
           "Vormärz"
          ],
          [
           "Bruder Rausch",
           "Wilhelm Hertz",
           "Realismus"
          ],
          [
           "Die Siegfriedsage in ihrer nordischen Gestalt",
           "Wilhelm Hertz",
           "Realismus"
          ],
          [
           "Poetische Erzählungen",
           "Wilhelm Hertz",
           "Realismus"
          ],
          [
           "Erzählungen",
           "Wilhelm Holzamer",
           "Realismus"
          ],
          [
           "Im Dorf und Draußen",
           "Wilhelm Holzamer",
           "Realismus"
          ],
          [
           "Auf dem Vestenstein",
           "Wilhelm Jensen",
           "Realismus"
          ],
          [
           "Die Juden von Cölln",
           "Wilhelm Jensen",
           "Realismus"
          ],
          [
           "Eine Schachpartie",
           "Wilhelm Jensen",
           "Realismus"
          ],
          [
           "Gradiva",
           "Wilhelm Jensen",
           "Realismus"
          ],
          [
           "Karin von Schweden",
           "Wilhelm Jensen",
           "Realismus"
          ],
          [
           "Die Bernsteinhexe",
           "Wilhelm Meinhold",
           "Kunstepoche"
          ],
          [
           "Heidenstamm",
           "Wilhelm Meyer-Förster",
           "Realismus"
          ],
          [
           "Lena S.",
           "Wilhelm Meyer-Förster",
           "Realismus"
          ],
          [
           "Der Kriminalkutter",
           "Wilhelm Poeck",
           "Realismus"
          ],
          [
           "Abu Telfan oder Die Heimkehr vom Mondgebirge",
           "Wilhelm Raabe",
           "Moderne"
          ],
          [
           "Alte Nester",
           "Wilhelm Raabe",
           "Moderne"
          ],
          [
           "Auf dem Altenteil",
           "Wilhelm Raabe",
           "Moderne"
          ],
          [
           "Der Dräumling",
           "Wilhelm Raabe",
           "Moderne"
          ],
          [
           "Der gute Tag",
           "Wilhelm Raabe",
           "Moderne"
          ],
          [
           "Der heilige Born",
           "Wilhelm Raabe",
           "Moderne"
          ],
          [
           "Der Hungerpastor",
           "Wilhelm Raabe",
           "Moderne"
          ],
          [
           "Der Schüdderump",
           "Wilhelm Raabe",
           "Moderne"
          ],
          [
           "Deutscher Adel",
           "Wilhelm Raabe",
           "Moderne"
          ],
          [
           "Deutscher Mondschein",
           "Wilhelm Raabe",
           "Moderne"
          ],
          [
           "Die Gänse von Bützow",
           "Wilhelm Raabe",
           "Moderne"
          ],
          [
           "Die Innerste",
           "Wilhelm Raabe",
           "Moderne"
          ],
          [
           "Die Leute aus dem Walde, ihre Sterne, Wege und Schicksale",
           "Wilhelm Raabe",
           "Moderne"
          ],
          [
           "Die schwarze Galeere",
           "Wilhelm Raabe",
           "Moderne"
          ],
          [
           "Ein Besuch",
           "Wilhelm Raabe",
           "Moderne"
          ],
          [
           "Eine Grabrede aus dem Jahr 1609",
           "Wilhelm Raabe",
           "Moderne"
          ],
          [
           "Else von der Tanne",
           "Wilhelm Raabe",
           "Moderne"
          ],
          [
           "Frau Salome",
           "Wilhelm Raabe",
           "Moderne"
          ],
          [
           "Halb Mär, halb mehr",
           "Wilhelm Raabe",
           "Moderne"
          ],
          [
           "Hastenbeck",
           "Wilhelm Raabe",
           "Moderne"
          ],
          [
           "Im alten Eisen",
           "Wilhelm Raabe",
           "Moderne"
          ],
          [
           "Keltische Knochen",
           "Wilhelm Raabe",
           "Moderne"
          ],
          [
           "Nach dem großen Kriege",
           "Wilhelm Raabe",
           "Moderne"
          ],
          [
           "Prinzessin Fisch",
           "Wilhelm Raabe",
           "Moderne"
          ],
          [
           "Unruhige Gäste",
           "Wilhelm Raabe",
           "Moderne"
          ],
          [
           "Verworrenes Leben. Novellen und Skizzen",
           "Wilhelm Raabe",
           "Moderne"
          ],
          [
           "Wunnigel",
           "Wilhelm Raabe",
           "Moderne"
          ],
          [
           "Der Grabenhäger",
           "Wilhelm von Polenz",
           "Realismus"
          ],
          [
           "Die Glocken von Krummseifenbach",
           "Wilhelm von Polenz",
           "Realismus"
          ],
          [
           "Wald",
           "Wilhelm von Polenz",
           "Realismus"
          ],
          [
           "Wurzellocker, Band 1",
           "Wilhelm von Polenz",
           "Realismus"
          ],
          [
           "Wurzellocker, Band 2",
           "Wilhelm von Polenz",
           "Realismus"
          ],
          [
           "Im Schatten des Todes",
           "Wilhelm Walloth",
           "Realismus"
          ],
          [
           "Als Kriegsfreiwilliger nach Frankreich",
           "Willibald Alexis, eigentlich Georg Wilhelm Heinrich Häring",
           "Kunstepoche"
          ],
          [
           "Cabanis",
           "Willibald Alexis, eigentlich Georg Wilhelm Heinrich Häring",
           "Kunstepoche"
          ],
          [
           "Der falsche Woldemar",
           "Willibald Alexis, eigentlich Georg Wilhelm Heinrich Häring",
           "Kunstepoche"
          ],
          [
           "Die Geächteten",
           "Willibald Alexis, eigentlich Georg Wilhelm Heinrich Häring",
           "Kunstepoche"
          ],
          [
           "Die Hosen des Herrn von Bredow",
           "Willibald Alexis, eigentlich Georg Wilhelm Heinrich Häring",
           "Kunstepoche"
          ],
          [
           "Isegrimm",
           "Willibald Alexis, eigentlich Georg Wilhelm Heinrich Häring",
           "Kunstepoche"
          ],
          [
           "Ja in Neapel",
           "Willibald Alexis, eigentlich Georg Wilhelm Heinrich Häring",
           "Kunstepoche"
          ],
          [
           "Pommersche Gespenster",
           "Willibald Alexis, eigentlich Georg Wilhelm Heinrich Häring",
           "Kunstepoche"
          ],
          [
           "Ruhe ist die erste Bürgerpflicht oder Vor Fünfzig Jahren",
           "Willibald Alexis, eigentlich Georg Wilhelm Heinrich Häring",
           "Kunstepoche"
          ],
          [
           "Walladmor",
           "Willibald Alexis, eigentlich Georg Wilhelm Heinrich Häring",
           "Kunstepoche"
          ],
          [
           "Das Leben auf der Walze",
           "Wolfgang Kirchbach",
           "Realismus"
          ]
         ],
         "hovertemplate": "gender=m<br>Dim 1=%{x}<br>Dim 2=%{y}<br>title=%{customdata[0]}<br>author=%{customdata[1]}<br>period=%{customdata[2]}<extra></extra>",
         "legendgroup": "m",
         "marker": {
          "color": "#053c6c",
          "symbol": "circle"
         },
         "mode": "markers",
         "name": "m",
         "showlegend": true,
         "type": "scattergl",
         "x": [
          -55.37551498413086,
          -55.57344436645508,
          -27.971378326416016,
          -7.181646823883057,
          -20.382305145263672,
          56.82705307006836,
          57.04499053955078,
          -20.63225555419922,
          33.320091247558594,
          -51.69991683959961,
          -39.0983772277832,
          38.54912185668945,
          4.0558037757873535,
          38.2378044128418,
          39.0684700012207,
          -6.063634395599365,
          2.9861392974853516,
          7.689560890197754,
          7.213662624359131,
          5.7411909103393555,
          62.985076904296875,
          -20.943145751953125,
          81.12065887451172,
          6.885019779205322,
          -77.20106506347656,
          -11.972789764404297,
          -79.02217864990234,
          -78.18589782714844,
          16.68157386779785,
          -78.54584503173828,
          -78.70339965820312,
          -70.25802612304688,
          -18.954465866088867,
          -19.239248275756836,
          -13.034613609313965,
          -15.918083190917969,
          15.094719886779785,
          14.613051414489746,
          15.00565242767334,
          14.533724784851074,
          -27.790006637573242,
          -18.103946685791016,
          -18.15013313293457,
          38.7841796875,
          27.81404685974121,
          27.81404685974121,
          -86.21907806396484,
          -86.21907806396484,
          -31.98495101928711,
          -13.167837142944336,
          -84.59391021728516,
          51.603172302246094,
          -84.63471221923828,
          26.730966567993164,
          37.6901741027832,
          37.613197326660156,
          37.763240814208984,
          -85.84623718261719,
          -85.98006439208984,
          -70.1586685180664,
          -23.60650634765625,
          20.476181030273438,
          -71.53118896484375,
          -68.93555450439453,
          1.4711793661117554,
          3.1051185131073,
          2.7551956176757812,
          2.7551956176757812,
          -14.235098838806152,
          2.1852972507476807,
          1.386258602142334,
          6.0836873054504395,
          6.120457649230957,
          -69.36538696289062,
          46.38985824584961,
          -75.24880981445312,
          -91.30793762207031,
          -91.30793762207031,
          -60.94537353515625,
          -33.42359924316406,
          48.782615661621094,
          -97.03118133544922,
          -97.03118133544922,
          -66.34217071533203,
          -33.17839431762695,
          74.34249877929688,
          -0.8751880526542664,
          -0.8751880526542664,
          -95.23158264160156,
          -95.23158264160156,
          55.5153694152832,
          55.37758255004883,
          -55.793617248535156,
          67.65029907226562,
          -65.13428497314453,
          -65.24253845214844,
          -78.30504608154297,
          37.52642822265625,
          36.39413070678711,
          -71.81912231445312,
          -16.783794403076172,
          -17.414674758911133,
          -19.3043155670166,
          -70.16769409179688,
          -6.57382345199585,
          -2.96620512008667,
          -18.309309005737305,
          -1.731441617012024,
          -1.731441617012024,
          -95.89546203613281,
          -95.89546203613281,
          -59.2080078125,
          -62.313114166259766,
          -47.9557991027832,
          -62.25623321533203,
          -47.70827865600586,
          -47.48023223876953,
          -0.9677034020423889,
          -0.9677034020423889,
          -94.2828369140625,
          -94.71759796142578,
          -18.392911911010742,
          0.26205259561538696,
          -0.26302462816238403,
          1.2232332229614258,
          1.1573457717895508,
          -33.84453582763672,
          31.826990127563477,
          -60.73682403564453,
          4.208413124084473,
          4.1302103996276855,
          3.6282660961151123,
          3.6282660961151123,
          75.7843246459961,
          -56.96211242675781,
          -74.0020523071289,
          -42.52472686767578,
          -43.56947326660156,
          -42.308467864990234,
          -30.482009887695312,
          -28.933189392089844,
          -71.84532928466797,
          -25.4218807220459,
          -33.93649673461914,
          -21.121973037719727,
          77.92606353759766,
          -71.6659164428711,
          -72.51396942138672,
          -33.02888870239258,
          -33.565406799316406,
          -33.65400695800781,
          0.8181714415550232,
          0.8181714415550232,
          3.7098941802978516,
          3.7098941802978516,
          -57.09896469116211,
          -61.665245056152344,
          -23.246084213256836,
          -22.009397506713867,
          -23.990230560302734,
          -61.771759033203125,
          -77.20162200927734,
          -80.4728012084961,
          41.75315856933594,
          88.24071502685547,
          55.3783073425293,
          46.85210037231445,
          8.866792678833008,
          -80.683837890625,
          67.4747314453125,
          -32.87482833862305,
          -64.97245025634766,
          -65.199462890625,
          -65.28511810302734,
          57.653141021728516,
          -79.26863098144531,
          -72.97909545898438,
          33.053428649902344,
          -65.4692611694336,
          -16.688007354736328,
          26.5798397064209,
          -2.894759178161621,
          72.56571197509766,
          72.29954528808594,
          -42.4366455078125,
          -22.759002685546875,
          73.81924438476562,
          -47.86992645263672,
          -71.98469543457031,
          -60.94345474243164,
          -49.96393966674805,
          -30.588403701782227,
          21.04973793029785,
          -30.14577865600586,
          70.49371337890625,
          -63.011505126953125,
          -50.36827087402344,
          -71.3759994506836,
          -40.36723327636719,
          -52.15242004394531,
          -22.073200225830078,
          51.249088287353516,
          28.058029174804688,
          24.39043426513672,
          54.36871337890625,
          48.80130386352539,
          81.17835235595703,
          84.30594635009766,
          62.1785774230957,
          77.1385726928711,
          53.64299392700195,
          67.96123504638672,
          77.72433471679688,
          49.06930160522461,
          84.3449935913086,
          62.29383087158203,
          76.49089813232422,
          88.50210571289062,
          79.44305419921875,
          87.13148498535156,
          47.2900276184082,
          67.2686538696289,
          35.98772430419922,
          77.35679626464844,
          78.30802154541016,
          -3.9378247261047363,
          89.57221221923828,
          53.14083480834961,
          57.0872802734375,
          39.85612106323242,
          61.31526565551758,
          78.56055450439453,
          -25.131603240966797,
          57.76630401611328,
          68.36163330078125,
          46.31640625,
          -37.6870231628418,
          64.5017318725586,
          14.329484939575195,
          26.63176727294922,
          58.51250076293945,
          67.62620544433594,
          90.7586669921875,
          45.76552963256836,
          67.37679290771484,
          66.75204467773438,
          -27.874406814575195,
          -51.40324783325195,
          72.5049819946289,
          -53.418941497802734,
          78.34320831298828,
          35.45998001098633,
          -11.536938667297363,
          -40.75315856933594,
          66.76512908935547,
          83.02800750732422,
          63.90185546875,
          63.927772521972656,
          85.48457336425781,
          48.55716323852539,
          62.62754821777344,
          -19.19060516357422,
          -19.800458908081055,
          -64.29427337646484,
          -68.71826934814453,
          -46.5870246887207,
          -58.732017517089844,
          -69.37333679199219,
          -74.36158752441406,
          -68.72766876220703,
          50.55806350708008,
          -78.6261978149414,
          -57.988948822021484,
          59.16203308105469,
          84.69145202636719,
          45.00731658935547,
          52.00651168823242,
          73.19628143310547,
          25.0535945892334,
          -66.28946685791016,
          -21.078039169311523,
          -26.6597957611084,
          -59.63109588623047,
          -4.1792826652526855,
          69.60245513916016,
          -66.2110366821289,
          -33.81700134277344,
          36.98276901245117,
          -15.139399528503418,
          -62.2800178527832,
          39.82014083862305,
          -50.40524673461914,
          -61.877845764160156,
          22.279340744018555,
          -57.834983825683594,
          60.470787048339844,
          17.941312789916992,
          60.418907165527344,
          42.227210998535156,
          -77.85459899902344,
          8.08384895324707,
          26.61721420288086,
          36.4169921875,
          36.331451416015625,
          24.025653839111328,
          24.077259063720703,
          59.16236877441406,
          75.83953094482422,
          37.588897705078125,
          36.13227462768555,
          78.53507232666016,
          74.75605010986328,
          35.6035041809082,
          44.71453857421875,
          54.084571838378906,
          78.2428207397461,
          78.21414947509766,
          54.30018997192383,
          35.761444091796875,
          35.73618698120117,
          64.57412719726562,
          50.15317916870117,
          -42.73206329345703,
          52.848175048828125,
          41.70951461791992,
          35.58027267456055,
          33.87260437011719,
          75.24335479736328,
          51.690181732177734,
          51.79843521118164,
          37.373268127441406,
          27.988224029541016,
          79.95675659179688,
          62.274566650390625,
          79.26919555664062,
          72.66551971435547,
          58.475677490234375,
          25.308969497680664,
          78.7150650024414,
          50.11991500854492,
          33.41366195678711,
          35.29533004760742,
          37.60996627807617,
          52.730506896972656,
          38.21173095703125,
          -7.053353786468506,
          29.870079040527344,
          37.249717712402344,
          61.546714782714844,
          41.64292526245117,
          80.67027282714844,
          53.429344177246094,
          37.604034423828125,
          -50.6861457824707,
          53.7806510925293,
          42.3325309753418,
          32.075584411621094,
          51.933841705322266,
          58.269779205322266,
          86.56375122070312,
          -6.968335151672363,
          38.145606994628906,
          -44.12055969238281,
          -33.697200775146484,
          -41.36318588256836,
          -45.82328414916992,
          -33.37760543823242,
          -40.733551025390625,
          -29.957843780517578,
          13.307821273803711,
          -44.327117919921875,
          28.77808952331543,
          -58.20614242553711,
          -48.460269927978516,
          -70.0335464477539,
          5.908178329467773,
          47.4267463684082,
          68.21764373779297,
          40.68905258178711,
          -25.263547897338867,
          -27.64849281311035,
          -64.6824722290039,
          -64.3765640258789,
          -39.0521240234375,
          -34.10881805419922,
          -75.4388427734375,
          -39.692996978759766,
          -51.3256721496582,
          -38.894439697265625,
          -31.980791091918945,
          -7.2535552978515625,
          -56.32513427734375,
          -69.59772491455078,
          -67.0609130859375,
          -52.099151611328125,
          -4.780234336853027,
          53.179874420166016,
          28.977176666259766,
          -51.620147705078125,
          -2.214550733566284,
          90.180419921875,
          77.01205444335938,
          3.5168678760528564,
          -25.760717391967773,
          14.59262466430664,
          73.2674331665039,
          -0.26393064856529236,
          41.56848907470703,
          -4.877063751220703,
          -58.98313903808594,
          48.948463439941406,
          66.40775299072266,
          46.34799575805664,
          -28.49245834350586,
          -34.12690734863281,
          -21.015439987182617,
          -35.024818420410156,
          -37.18571853637695,
          67.13630676269531,
          48.252567291259766,
          75.63129425048828,
          56.627017974853516,
          -16.014074325561523,
          -53.91048049926758,
          67.2518539428711,
          42.83369827270508,
          66.85148620605469,
          69.49729919433594,
          -29.735078811645508,
          -7.874897480010986,
          53.95125198364258,
          83.89710998535156,
          -11.538200378417969,
          83.86035919189453,
          24.164627075195312,
          64.20634460449219,
          -8.157763481140137,
          84.01190185546875,
          -81.10746765136719,
          69.0838851928711,
          44.796634674072266,
          41.83308029174805,
          37.36853790283203,
          37.52119827270508,
          64.84101867675781,
          57.82961654663086,
          58.396183013916016,
          26.669872283935547,
          60.189659118652344,
          62.84952926635742,
          56.76202392578125,
          44.98453903198242,
          -3.453596591949463,
          54.08552169799805,
          47.250450134277344,
          2.3652305603027344,
          50.00687789916992,
          -55.85367965698242,
          -66.78026580810547,
          -32.8231086730957,
          -66.85971069335938,
          -66.60406494140625,
          -13.76582145690918,
          82.79814147949219,
          52.57312774658203,
          54.70050048828125,
          -27.437255859375,
          58.634708404541016,
          -30.960838317871094,
          37.93254852294922,
          55.72049331665039,
          82.68981170654297,
          61.66872787475586,
          -30.563119888305664,
          -57.575904846191406,
          -62.9454231262207,
          34.58808517456055,
          -45.43009948730469,
          -17.76508331298828,
          -53.388824462890625,
          -29.290069580078125,
          64.4765396118164,
          -79.77962493896484,
          -25.336204528808594,
          -22.75242805480957,
          -10.264657020568848,
          -73.95321655273438,
          58.9796028137207,
          -39.10074996948242,
          81.47806549072266,
          73.68415832519531,
          -29.81276512145996,
          -40.09409713745117,
          59.153560638427734,
          9.427926063537598,
          61.22251892089844,
          -33.166534423828125,
          -21.5303955078125,
          -42.586917877197266,
          77.14460754394531,
          -36.45927810668945,
          -26.570323944091797,
          6.339990139007568,
          48.376197814941406,
          -23.964038848876953,
          28.303211212158203,
          67.23168182373047,
          28.824853897094727,
          37.6872673034668,
          48.81820297241211,
          47.76227569580078,
          48.43459701538086,
          -64.33098602294922,
          -52.95594787597656,
          -31.40406036376953,
          -51.493255615234375,
          -80.8395767211914,
          -46.311119079589844,
          -80.85357666015625,
          -25.635122299194336,
          -21.109647750854492,
          -14.46713924407959,
          -28.258256912231445,
          -49.702369689941406,
          -66.42628479003906,
          -65.80119323730469,
          82.70768737792969,
          62.07102584838867,
          64.56346130371094,
          68.74015808105469,
          59.754920959472656,
          14.786032676696777,
          52.40556335449219,
          34.82182693481445,
          47.21349334716797,
          28.608154296875,
          -46.38825988769531,
          87.43318176269531,
          -82.31470489501953,
          -82.81380462646484,
          -5.363147735595703,
          67.60948181152344,
          -78.16966247558594,
          -64.69761657714844,
          -63.96107864379883,
          -56.96049118041992,
          26.36629295349121,
          -26.414976119995117,
          -26.650651931762695,
          -81.80609893798828,
          -66.3497543334961,
          -24.500213623046875,
          -61.88943862915039,
          78.57928466796875,
          26.53874397277832,
          -31.966630935668945,
          -23.479290008544922,
          -71.60750579833984,
          94.34579467773438,
          -21.27364158630371,
          69.6077880859375,
          54.583919525146484,
          -30.991344451904297,
          68.40330505371094,
          -70.55024719238281,
          -44.765106201171875,
          53.88310623168945,
          94.37133026123047,
          80.69233703613281,
          77.50552368164062,
          30.097309112548828,
          69.71238708496094,
          51.186458587646484,
          -22.419206619262695,
          -27.137386322021484,
          76.90998840332031,
          -28.01251983642578,
          63.194217681884766,
          67.76937866210938,
          -32.97515869140625,
          61.5415153503418,
          85.49730682373047,
          86.05755615234375,
          78.3994140625,
          -34.96793746948242,
          -26.495519638061523,
          -34.42616271972656,
          47.44287109375,
          4.147953987121582,
          -54.4998893737793,
          -20.631389617919922,
          -30.9382266998291,
          -35.67112731933594,
          40.0202751159668,
          74.87660217285156,
          76.55602264404297,
          34.2861213684082,
          83.9464340209961,
          -34.56971740722656,
          75.3897933959961,
          -65.69892120361328,
          -31.770015716552734,
          -21.44780921936035,
          -36.60435104370117,
          12.901567459106445,
          42.26111602783203,
          69.46292877197266,
          77.22148895263672,
          52.613338470458984,
          35.587345123291016,
          27.045551300048828,
          50.81606674194336,
          53.74769592285156,
          53.6087760925293,
          46.528202056884766,
          59.07164001464844,
          29.268611907958984,
          56.33987045288086,
          65.07583618164062,
          -60.76553726196289,
          74.68773651123047,
          57.42871856689453,
          75.7734146118164,
          40.400421142578125,
          -26.084928512573242,
          -49.617225646972656,
          -26.090681076049805,
          -61.0869255065918,
          -48.94493103027344,
          -5.673016548156738,
          -57.683624267578125,
          46.94608688354492,
          -62.31808090209961,
          -41.4366569519043,
          -59.443756103515625,
          -30.71824073791504,
          -22.401058197021484,
          -21.88652992248535,
          -60.13893127441406,
          -24.117752075195312,
          -26.619701385498047,
          -27.77739906311035,
          -62.7360725402832,
          -39.791954040527344,
          -26.850610733032227,
          -48.90837860107422,
          -26.19413185119629,
          3.612499237060547,
          -39.51436996459961,
          -27.189720153808594,
          -55.72923278808594,
          60.814178466796875,
          72.96989440917969,
          -67.0071792602539,
          -21.085580825805664,
          -78.3678207397461,
          -12.771476745605469,
          -52.4466438293457,
          30.425973892211914,
          -70.38842010498047,
          -30.361757278442383,
          -34.44557189941406,
          -34.46280288696289,
          -46.73474884033203,
          56.735740661621094,
          -31.35310935974121,
          -71.1176986694336,
          45.71949005126953,
          45.760093688964844,
          27.425025939941406,
          -79.20780181884766,
          -76.31946563720703,
          -53.324913024902344,
          -33.00441360473633,
          -50.47169494628906,
          -5.6590471267700195,
          -42.4948616027832,
          -1.5231106281280518,
          -0.24137434363365173,
          0.6665354371070862,
          13.304944038391113,
          -37.731040954589844,
          -55.080650329589844,
          -46.369869232177734,
          12.430503845214844,
          -3.18723464012146,
          -5.596187591552734,
          -55.0773811340332,
          -49.304134368896484,
          -31.074588775634766,
          1.2042971849441528,
          -54.84140396118164,
          -0.24411320686340332,
          11.738243103027344,
          -53.99746322631836,
          -2.21321439743042,
          13.030231475830078,
          -49.98786163330078,
          -44.877952575683594,
          69.39903259277344,
          85.56989288330078,
          -21.720773696899414,
          -68.2462387084961,
          -54.87190246582031,
          -16.774839401245117,
          -55.507747650146484,
          -26.382417678833008,
          -79.74623107910156,
          -56.643707275390625,
          4.944703102111816,
          -51.78730773925781,
          39.697998046875,
          33.9542350769043,
          -19.631187438964844,
          -20.754079818725586,
          -20.810945510864258,
          -28.762067794799805,
          -31.1516056060791,
          -30.903120040893555,
          71.64956665039062,
          89.27442932128906,
          -31.04020118713379,
          -59.287723541259766,
          66.41680908203125,
          -63.415802001953125,
          -41.03390884399414,
          -41.873741149902344,
          -68.30017852783203,
          -74.60523986816406,
          -39.71928787231445,
          -21.82067108154297,
          -32.78712844848633,
          -34.972511291503906,
          -43.685604095458984,
          58.35042953491211,
          -12.935469627380371,
          -1.5138550996780396,
          73.3440933227539,
          -28.07248306274414,
          44.320438385009766,
          -64.13309478759766,
          90.07456970214844,
          40.42607879638672,
          56.42219161987305,
          -28.045408248901367,
          56.670955657958984,
          -18.952362060546875,
          57.663204193115234,
          48.73374557495117,
          87.52642822265625,
          80.14229583740234,
          -75.42853546142578,
          -76.94660949707031,
          -46.02410125732422,
          66.07852935791016,
          -41.45835876464844,
          -47.20389175415039,
          -47.07182693481445,
          64.20974731445312,
          64.21223449707031,
          -2.9433486461639404,
          -57.723628997802734,
          81.00811004638672,
          40.140037536621094,
          42.4001579284668,
          -31.326353073120117,
          72.48003387451172,
          -62.693607330322266,
          -6.309831619262695,
          61.601173400878906,
          4.199030876159668,
          -64.9586410522461,
          15.50028133392334,
          15.818488121032715,
          -38.687931060791016,
          -66.08428955078125,
          76.61957550048828,
          -17.54783058166504,
          -1.554848313331604,
          -65.54971313476562,
          -75.1500473022461,
          59.65801239013672,
          63.21369171142578,
          69.88675689697266,
          79.3453140258789,
          60.76832962036133,
          6.431537628173828,
          -37.32875061035156,
          69.23200225830078,
          -48.13563919067383,
          40.75367736816406,
          -52.64824676513672,
          -32.9896240234375,
          36.83240509033203,
          -46.72011184692383,
          -65.52616119384766,
          -37.00996398925781,
          -61.548980712890625,
          -59.17668914794922,
          33.36036682128906,
          -31.39866828918457,
          -22.681062698364258,
          54.80074691772461,
          -22.880239486694336,
          -67.36862182617188,
          -40.11491012573242,
          -2.276191473007202,
          -74.44161987304688,
          -40.34245300292969,
          -66.41935729980469,
          -27.619260787963867,
          17.343812942504883,
          -29.905221939086914,
          61.7342414855957,
          79.42671203613281,
          -11.316732406616211,
          45.88140106201172,
          51.62551498413086,
          58.98100662231445,
          54.823692321777344,
          88.54835510253906,
          -55.89539337158203,
          -79.3028793334961,
          -63.790802001953125,
          -30.04865264892578,
          -80.25843811035156,
          -79.088134765625,
          -32.4799690246582,
          55.94389343261719,
          72.31671905517578,
          62.726478576660156,
          -38.88169860839844,
          76.79920196533203,
          69.4189224243164,
          62.872013092041016,
          48.62617492675781,
          56.956790924072266,
          82.07357025146484,
          75.5162353515625,
          -67.28025817871094,
          -32.2728385925293,
          -18.882261276245117,
          -21.610445022583008,
          86.765625,
          -2.0853350162506104,
          -24.178144454956055,
          0.36534547805786133,
          -40.74074172973633,
          -68.47399139404297,
          -47.64747619628906,
          57.59153747558594,
          -10.521321296691895,
          -57.993553161621094,
          -19.207237243652344,
          -41.750980377197266,
          -31.483646392822266,
          21.454933166503906,
          -5.663334369659424,
          82.36331939697266,
          -21.154052734375,
          46.801815032958984,
          43.83765411376953,
          74.9253158569336,
          15.9769287109375,
          67.65143585205078,
          -13.713033676147461,
          -45.77670669555664,
          -14.166762351989746,
          43.341529846191406,
          -14.016231536865234,
          -0.05153438448905945,
          61.704254150390625,
          76.06562805175781,
          57.80735778808594,
          61.49485778808594,
          36.05479431152344,
          34.21510696411133,
          38.20060348510742,
          79.16677856445312,
          77.19529724121094,
          73.75862884521484,
          44.02971267700195,
          28.11541748046875,
          67.00946807861328,
          -58.23653030395508,
          -72.6503677368164,
          -34.30570983886719,
          -25.038105010986328,
          -24.96062469482422,
          -62.218746185302734,
          10.760880470275879,
          -39.50697708129883,
          56.97433853149414,
          43.19313430786133,
          45.66279983520508,
          25.69649887084961,
          75.80809020996094,
          55.51309585571289,
          34.03739929199219,
          57.27183532714844,
          49.826969146728516,
          43.433677673339844,
          77.17036437988281,
          -63.457069396972656,
          50.67108154296875,
          69.04669189453125,
          54.56410217285156,
          75.27821350097656,
          -36.210113525390625,
          -36.12120056152344,
          -28.222148895263672,
          -55.24679946899414,
          -26.530048370361328,
          15.841665267944336,
          -67.72144317626953,
          10.281807899475098,
          10.3990478515625,
          46.63847351074219,
          59.397789001464844,
          85.41797637939453,
          85.63890075683594,
          68.09686279296875,
          58.16377639770508,
          68.19699096679688,
          67.14200592041016,
          73.36560821533203,
          88.40174865722656,
          -26.283140182495117,
          -67.0634994506836,
          -67.54544830322266,
          -28.811298370361328,
          15.873836517333984,
          -80.79668426513672,
          67.15110778808594,
          -28.798734664916992,
          -62.54319763183594,
          -30.983840942382812,
          -51.95907974243164,
          -52.094871520996094,
          -52.90409851074219,
          -42.22945022583008,
          -74.67031860351562,
          74.15220642089844,
          -78.42932891845703,
          78.8720474243164,
          -6.5932841300964355,
          -19.029924392700195,
          58.9315071105957,
          60.23524856567383,
          60.17565155029297,
          84.57894134521484,
          -22.492176055908203,
          -31.558849334716797,
          -31.047677993774414,
          -31.758953094482422,
          47.60860824584961,
          89.10945892333984,
          -23.329959869384766,
          -44.85204315185547,
          -23.93512725830078,
          -21.319271087646484,
          -9.360424995422363,
          -51.00674819946289,
          -52.582275390625,
          -51.815345764160156,
          -52.02427291870117,
          -6.849753379821777,
          -60.93955993652344,
          -7.760588645935059,
          61.862667083740234,
          55.74970626831055,
          -38.65550231933594,
          -81.38218688964844,
          60.5240592956543,
          -49.29729080200195,
          -47.674991607666016,
          -52.69940948486328,
          15.436864852905273,
          15.380874633789062,
          34.52959060668945,
          54.03989791870117,
          -46.18703079223633,
          73.3729476928711,
          83.02203369140625,
          45.35576629638672,
          -17.30939292907715,
          -17.362958908081055,
          66.88162231445312,
          -34.78929901123047,
          29.575286865234375,
          64.12904357910156,
          12.496198654174805,
          23.55540657043457,
          83.25508117675781,
          -40.410057067871094,
          -40.78377151489258,
          62.14846420288086,
          -47.0357666015625,
          -46.67229080200195,
          -46.935062408447266,
          64.56014251708984,
          -41.331787109375,
          -41.32271957397461,
          -25.515399932861328,
          -40.35844421386719,
          53.717811584472656,
          83.90667724609375,
          -65.72164154052734,
          63.743160247802734,
          -41.55571365356445,
          78.17523193359375,
          59.58829879760742,
          45.052833557128906,
          59.41181182861328,
          44.161537170410156,
          49.466976165771484,
          46.572914123535156,
          81.2184829711914,
          -18.344614028930664,
          -59.56495666503906,
          -33.583160400390625,
          -28.807647705078125,
          -71.81439208984375,
          -33.29927444458008,
          -21.071380615234375,
          9.222101211547852,
          34.925907135009766,
          -67.97188568115234,
          -24.46556854248047,
          -24.465618133544922,
          64.064697265625,
          77.92241668701172,
          -32.89210510253906,
          58.480194091796875,
          75.92605590820312,
          65.52845764160156,
          -20.82426643371582,
          -23.973678588867188,
          52.34019088745117,
          43.40148162841797,
          45.718849182128906,
          19.73991584777832,
          68.55549621582031,
          -60.7027587890625,
          -15.164488792419434,
          26.352800369262695,
          43.96562957763672,
          -60.76838684082031,
          48.84223175048828,
          44.124813079833984,
          7.636684894561768,
          -58.94086837768555,
          -70.04299926757812,
          -9.56612777709961,
          21.054716110229492,
          21.180200576782227,
          -23.509733200073242,
          70.7344741821289,
          56.178470611572266,
          67.22222137451172,
          -36.84440231323242,
          35.05339050292969,
          -34.53520202636719,
          9.736061096191406,
          -26.87704849243164,
          35.51310729980469,
          -49.50959777832031,
          -29.363941192626953,
          63.06379699707031,
          -23.74813461303711,
          -23.70980453491211,
          82.97236633300781,
          -23.983623504638672,
          84.90335083007812,
          68.51386260986328,
          -66.0280990600586,
          -25.45291519165039,
          -62.41817092895508,
          -38.75526428222656,
          -22.91592788696289,
          87.63706970214844,
          -52.87152099609375,
          80.95899963378906,
          80.74295043945312,
          81.59539031982422,
          84.74404907226562,
          -15.988509178161621,
          75.3235092163086,
          -68.45552825927734,
          -66.10752868652344,
          -56.3253288269043,
          -32.89677429199219,
          66.00057983398438,
          39.756874084472656,
          65.98844909667969,
          -58.450069427490234,
          47.966060638427734,
          -50.86829376220703,
          34.54372024536133,
          53.87451934814453,
          14.352453231811523,
          52.444129943847656,
          -0.04765978828072548,
          -70.3489990234375,
          76.93391418457031,
          51.980194091796875,
          37.025718688964844,
          59.27130889892578,
          -70.0970687866211,
          -58.62104415893555,
          15.350186347961426,
          -19.20909881591797,
          -19.946813583374023,
          -52.02369689941406,
          47.56828689575195,
          -48.62852478027344,
          -66.12879180908203,
          -35.568946838378906,
          -65.411376953125,
          -48.93767166137695,
          -48.95136642456055,
          45.797977447509766,
          78.73237609863281,
          46.387081146240234,
          78.51223754882812,
          -66.7010269165039,
          -55.64990997314453,
          -65.91201782226562,
          45.27404022216797,
          -35.78406524658203,
          -29.6416015625,
          -75.18473815917969,
          -73.98394775390625,
          -24.048877716064453,
          -38.17326354980469,
          2.4124162197113037,
          -74.22032165527344,
          -54.25580978393555,
          -51.11958694458008,
          -71.00763702392578,
          -45.99981689453125,
          32.630367279052734,
          -56.98371505737305,
          -41.78511428833008,
          -44.545448303222656,
          -40.94638442993164,
          -45.119140625,
          -42.46397399902344,
          -45.51218795776367,
          -42.89122009277344,
          -42.25181579589844,
          -57.2818603515625,
          -18.756610870361328,
          60.36270523071289,
          -30.665752410888672,
          -44.17337417602539,
          -43.001609802246094,
          -42.524051666259766,
          -40.39560317993164,
          -35.47909927368164,
          -43.24805450439453,
          -21.16419219970703,
          -63.376670837402344,
          -31.93107032775879,
          -44.332489013671875,
          -66.51773071289062,
          -32.01707458496094,
          -43.66098403930664,
          -41.33884811401367,
          -64.42564392089844,
          -64.45852661132812,
          -43.63669967651367,
          -42.16340637207031,
          -32.366477966308594,
          -56.039180755615234,
          -56.734195709228516,
          -51.69443130493164,
          -73.38552856445312,
          -50.6156120300293,
          -50.479835510253906,
          29.118288040161133,
          76.58566284179688,
          -44.04862976074219,
          20.38115882873535,
          20.174222946166992,
          63.19544219970703,
          62.733707427978516,
          29.636810302734375,
          -18.0848445892334,
          -66.86328887939453,
          56.304386138916016,
          -55.169593811035156,
          -55.70197296142578,
          81.16376495361328,
          75.40884399414062,
          -69.42147827148438,
          -51.381534576416016,
          -70.89232635498047,
          -66.21576690673828,
          -70.79417419433594,
          -68.06805419921875,
          -53.00520324707031,
          -53.82646179199219,
          -67.97950744628906,
          -53.304386138916016,
          60.96406555175781,
          77.24205780029297,
          14.837911605834961,
          -19.453916549682617,
          56.06270217895508,
          -47.930870056152344,
          -59.4710693359375,
          79.13223266601562,
          -31.677907943725586,
          58.79714584350586,
          52.69307327270508,
          -56.8446044921875,
          -30.492137908935547,
          -41.20455551147461,
          -37.2630729675293,
          -49.90895080566406,
          -45.420833587646484,
          -47.9694938659668,
          -43.7440299987793,
          -68.63451385498047,
          -67.68143463134766,
          -27.281709671020508,
          77.44297790527344,
          -78.89695739746094,
          80.50695037841797,
          -10.41226863861084,
          -26.638076782226562,
          -41.86057662963867,
          -7.969239711761475,
          9.376604080200195,
          26.72272491455078,
          -56.03071212768555,
          -72.54354858398438,
          60.04521560668945,
          4.9683098793029785,
          42.23436737060547,
          76.71548461914062,
          -39.28491973876953,
          12.81086540222168,
          27.919347763061523,
          46.49471664428711,
          61.045406341552734,
          -17.394241333007812,
          -76.02737426757812,
          -17.14662742614746,
          -17.969636917114258,
          -18.785167694091797,
          -18.507070541381836,
          -17.764846801757812,
          40.3625602722168,
          -69.91938781738281,
          -16.815715789794922,
          -18.813854217529297,
          -18.811452865600586,
          -20.161590576171875,
          -21.63228416442871,
          -64.7823257446289,
          -62.75127410888672,
          -46.69968795776367,
          -69.01776885986328,
          -69.0163803100586,
          -69.77741241455078,
          -73.2060546875,
          -71.82456970214844,
          -63.48285675048828,
          -46.747005462646484,
          -31.66938018798828,
          33.42414093017578,
          58.98686218261719,
          42.4683837890625,
          39.633758544921875,
          40.56752014160156,
          -20.464859008789062,
          88.59258270263672,
          69.68214416503906,
          46.89760971069336,
          -42.842655181884766,
          -8.243546485900879,
          67.87203979492188,
          -59.4288215637207,
          66.10192108154297,
          -58.999488830566406,
          38.66428756713867,
          39.23207473754883,
          -28.93198013305664,
          10.755720138549805,
          -50.4005012512207,
          -22.0621395111084,
          27.9818172454834,
          77.79661560058594,
          -41.38714599609375,
          -50.73394012451172,
          -49.94535827636719,
          17.13494873046875,
          -41.70500564575195,
          26.534948348999023,
          -64.4424057006836,
          27.39958953857422,
          -64.0175552368164,
          -21.30156707763672,
          -33.459068298339844,
          -51.21721267700195,
          -20.15621566772461,
          -62.37568283081055,
          -19.22174644470215,
          20.688640594482422,
          -25.14423179626465,
          -27.416227340698242,
          -15.047027587890625,
          18.977657318115234,
          -22.290916442871094,
          69.19287872314453,
          55.303096771240234,
          74.2910385131836,
          72.43238067626953,
          68.1506118774414,
          74.19103240966797,
          85.14035034179688,
          69.90059661865234,
          70.4649887084961,
          -33.144805908203125,
          84.96632385253906,
          59.6022834777832,
          60.463401794433594,
          59.00167465209961,
          72.54067993164062,
          -23.8160400390625,
          57.857017517089844,
          -51.9965934753418,
          48.95648956298828,
          72.31754302978516,
          76.8029556274414,
          56.64982986450195,
          63.29878616333008,
          43.40870666503906,
          62.63691711425781,
          67.22685241699219,
          41.013633728027344,
          -51.42911148071289,
          61.92552185058594,
          73.4900131225586,
          56.84979248046875,
          71.6686782836914,
          -40.19499206542969,
          -40.18726348876953,
          28.877111434936523,
          60.1237907409668,
          -33.195735931396484,
          74.85807037353516,
          71.0567626953125,
          -52.409210205078125,
          13.451833724975586,
          70.5092544555664,
          -33.395591735839844,
          -74.39895629882812,
          -73.588134765625,
          -75.33220672607422,
          57.45884323120117,
          -74.97874450683594,
          -35.84687042236328,
          -67.73979949951172,
          34.32606506347656,
          31.890817642211914,
          -59.81211471557617,
          15.803980827331543,
          16.117441177368164,
          51.76664352416992,
          -31.85548973083496,
          -44.047760009765625,
          47.1685905456543,
          -40.3071403503418,
          -28.21776580810547,
          73.99915313720703,
          -0.6277729868888855,
          -69.54402923583984,
          -35.08628845214844,
          -34.55405807495117,
          -35.08578872680664,
          -49.977962493896484,
          -61.18500900268555,
          -60.38420867919922,
          73.96458435058594,
          43.23210144042969,
          12.251103401184082,
          48.32267379760742,
          4.502102375030518,
          -13.506678581237793,
          -76.43632507324219,
          81.06114196777344,
          56.18467330932617,
          -66.68363189697266,
          -33.85178756713867,
          -38.505977630615234,
          -35.14568328857422,
          3.7602689266204834,
          -39.972537994384766,
          -63.53116226196289,
          52.283233642578125,
          -53.29020309448242,
          66.73348236083984,
          -59.636260986328125,
          -33.03022003173828,
          -40.24357986450195,
          -48.49325942993164,
          55.182090759277344,
          65.2995376586914,
          17.65846061706543,
          -36.64744186401367,
          91.48854064941406,
          43.211666107177734,
          68.95053100585938,
          87.19054412841797,
          18.181255340576172,
          -6.646274566650391,
          -72.09292602539062,
          -52.288597106933594,
          69.69339752197266,
          -9.2683744430542,
          -51.61323928833008,
          -48.56259536743164,
          -54.049739837646484,
          -48.30377960205078,
          -24.326021194458008,
          65.36814880371094,
          21.542482376098633,
          -70.93156433105469,
          -71.04363250732422,
          -60.5860595703125,
          -58.24879455566406,
          -28.956867218017578,
          -20.0838680267334,
          -65.83135986328125,
          -41.20499801635742,
          -20.213090896606445,
          41.543033599853516,
          65.38493347167969,
          -21.611238479614258,
          -31.373653411865234,
          -56.934181213378906
         ],
         "xaxis": "x",
         "y": [
          10.685718536376953,
          10.483055114746094,
          -26.2664794921875,
          -41.45111083984375,
          -59.19698715209961,
          -11.416365623474121,
          -11.278753280639648,
          -59.39887237548828,
          -65.21208190917969,
          -4.218380451202393,
          34.89725112915039,
          -57.82056427001953,
          -34.68902587890625,
          -58.251888275146484,
          -57.97184371948242,
          -83.17290496826172,
          -35.160037994384766,
          -32.584693908691406,
          -32.854679107666016,
          -33.69926071166992,
          14.908710479736328,
          -56.75743103027344,
          23.996313095092773,
          -33.03706741333008,
          -30.37848472595215,
          -47.50059509277344,
          7.514888763427734,
          9.879457473754883,
          -61.57189178466797,
          9.249774932861328,
          8.900985717773438,
          30.685619354248047,
          -62.2158088684082,
          -62.20157241821289,
          -46.62198257446289,
          -44.76596450805664,
          -54.33100891113281,
          -56.66538619995117,
          -54.51619338989258,
          -56.7447509765625,
          -33.980770111083984,
          -40.3752555847168,
          -40.187129974365234,
          -52.98637008666992,
          -56.58478546142578,
          -56.58480453491211,
          11.329469680786133,
          11.329469680786133,
          -57.57164764404297,
          -48.50312042236328,
          12.73856258392334,
          -22.1584529876709,
          12.491764068603516,
          -56.46311569213867,
          -25.05425453186035,
          -24.56009864807129,
          -25.711217880249023,
          13.168776512145996,
          12.938713073730469,
          30.219249725341797,
          -35.14206314086914,
          -83.06539154052734,
          -24.84475326538086,
          30.589317321777344,
          -84.9518814086914,
          -83.68840789794922,
          -85.01197052001953,
          -85.01197052001953,
          -85.9623031616211,
          -83.1982421875,
          -83.21347045898438,
          -58.83327865600586,
          -58.539337158203125,
          -44.608497619628906,
          -56.066951751708984,
          7.881745338439941,
          49.50545883178711,
          49.50545883178711,
          32.68899917602539,
          3.315399646759033,
          -16.006757736206055,
          47.11219787597656,
          47.11219787597656,
          30.944812774658203,
          3.185661792755127,
          42.50706481933594,
          62.84744644165039,
          62.84744644165039,
          47.528648376464844,
          47.528648376464844,
          -23.07674789428711,
          -23.07244300842285,
          -53.060081481933594,
          -5.430535793304443,
          -18.524906158447266,
          -18.1721134185791,
          -31.97227668762207,
          -53.875648498535156,
          -54.02592086791992,
          11.28018569946289,
          37.085060119628906,
          37.95301818847656,
          37.4696044921875,
          -44.1187629699707,
          -69.54386138916016,
          -77.3812026977539,
          -50.34851837158203,
          61.543357849121094,
          61.543357849121094,
          48.519004821777344,
          48.519004821777344,
          34.98513412475586,
          37.62675857543945,
          64.39391326904297,
          37.70537185668945,
          65.95466613769531,
          64.56062316894531,
          60.60237121582031,
          60.60237121582031,
          48.43218231201172,
          49.081092834472656,
          -73.34707641601562,
          60.8779296875,
          61.7027587890625,
          57.92559051513672,
          58.071590423583984,
          -29.586742401123047,
          -65.0784683227539,
          -54.63056945800781,
          62.751258850097656,
          62.81783676147461,
          58.77896499633789,
          58.77896499633789,
          37.283973693847656,
          -36.931888580322266,
          -27.29802703857422,
          -37.86838912963867,
          -35.741512298583984,
          -38.134857177734375,
          77.1510009765625,
          85.30333709716797,
          5.456145763397217,
          87.25527954101562,
          76.65406799316406,
          -66.44093322753906,
          -27.17691421508789,
          6.167293548583984,
          22.091115951538086,
          15.652822494506836,
          14.84315013885498,
          14.691821098327637,
          61.998416900634766,
          61.998416900634766,
          59.709903717041016,
          59.709903717041016,
          -53.91390609741211,
          -34.52738571166992,
          -54.880577087402344,
          -55.9533576965332,
          -54.68486785888672,
          -57.232574462890625,
          -34.12740707397461,
          -3.796114921569824,
          95.99761962890625,
          -21.29397201538086,
          40.62099838256836,
          -59.59591293334961,
          -71.261962890625,
          -1.0695621967315674,
          8.002089500427246,
          -35.636383056640625,
          -38.128421783447266,
          -37.054100036621094,
          -36.65773010253906,
          -18.923702239990234,
          13.501384735107422,
          -0.4606761634349823,
          -69.38583374023438,
          29.665973663330078,
          -74.32874298095703,
          -51.651859283447266,
          -65.36468505859375,
          -30.654109954833984,
          -32.30213165283203,
          -67.90312194824219,
          -75.36984252929688,
          -34.43748092651367,
          14.526667594909668,
          -32.59126281738281,
          -35.01234436035156,
          -41.93566131591797,
          56.803768157958984,
          -52.65243148803711,
          65.84356689453125,
          50.7935791015625,
          18.91972541809082,
          -41.91162109375,
          40.82265090942383,
          63.423065185546875,
          -32.4510383605957,
          43.55773162841797,
          -18.12152099609375,
          -50.04551315307617,
          -74.53750610351562,
          -34.602413177490234,
          -15.983675003051758,
          -23.027551651000977,
          -14.819596290588379,
          -52.08020782470703,
          -28.851470947265625,
          -17.287601470947266,
          -3.1171698570251465,
          -27.4583740234375,
          -35.65440368652344,
          5.504373550415039,
          -6.735592365264893,
          32.553279876708984,
          -19.74538803100586,
          23.13103675842285,
          -9.807130813598633,
          -58.640663146972656,
          -21.91811752319336,
          -72.92626190185547,
          23.091503143310547,
          15.863775253295898,
          -74.92332458496094,
          -14.403641700744629,
          -11.842724800109863,
          79.50481414794922,
          -41.60409164428711,
          0.11245740950107574,
          -10.539188385009766,
          -57.95653533935547,
          -10.134428977966309,
          -7.42365837097168,
          -48.134376525878906,
          -57.26398849487305,
          32.426387786865234,
          -74.91131591796875,
          -53.93846893310547,
          29.969783782958984,
          -5.590157508850098,
          -18.910310745239258,
          -20.220808029174805,
          49.24336242675781,
          -56.70866775512695,
          81.01802062988281,
          35.71125030517578,
          -18.015472412109375,
          16.508947372436523,
          0.2931855022907257,
          -62.71874237060547,
          -67.15338897705078,
          15.407276153564453,
          -56.74005126953125,
          -1.623814582824707,
          24.453468322753906,
          24.41314125061035,
          -8.21381950378418,
          -20.805789947509766,
          -48.13948059082031,
          114.54669189453125,
          111.3564224243164,
          -32.07373046875,
          39.977481842041016,
          68.09712982177734,
          50.35548400878906,
          37.379432678222656,
          24.414997100830078,
          37.23463821411133,
          90.78636169433594,
          -5.109411716461182,
          52.442813873291016,
          46.254920959472656,
          5.506563663482666,
          96.98175811767578,
          75.33831024169922,
          41.41828536987305,
          -77.71232604980469,
          -46.35118103027344,
          -34.39675521850586,
          62.08915328979492,
          35.46132278442383,
          -78.00980377197266,
          -47.28261184692383,
          26.676218032836914,
          60.36784744262695,
          -47.33127975463867,
          -80.96314239501953,
          46.68056869506836,
          -72.06021881103516,
          32.63298797607422,
          -6.548248767852783,
          -66.71720886230469,
          -58.533546447753906,
          -57.21912384033203,
          -81.75067138671875,
          -56.77134323120117,
          -38.058937072753906,
          -5.715411186218262,
          -81.82030487060547,
          108.79536437988281,
          88.46202087402344,
          80.25936889648438,
          -65.14297485351562,
          -65.1502914428711,
          51.38099670410156,
          52.973793029785156,
          88.71463775634766,
          86.29075622558594,
          37.123111724853516,
          53.458866119384766,
          88.46807861328125,
          95.49370574951172,
          41.332942962646484,
          52.73560333251953,
          52.766475677490234,
          43.56772232055664,
          84.62410736083984,
          84.8368911743164,
          61.24787521362305,
          63.383941650390625,
          35.344539642333984,
          72.06297302246094,
          99.86602783203125,
          103.6483383178711,
          101.21138000488281,
          -18.305137634277344,
          47.444515228271484,
          77.39066314697266,
          79.89683532714844,
          110.53362274169922,
          19.349468231201172,
          17.28571319580078,
          54.89057540893555,
          61.66184616088867,
          35.87562561035156,
          -65.7387466430664,
          55.37883377075195,
          77.3232421875,
          100.16478729248047,
          102.36260986328125,
          85.25652313232422,
          -51.065269470214844,
          -42.04840087890625,
          -49.822593688964844,
          108.09709930419922,
          79.23590850830078,
          17.86661148071289,
          79.63914489746094,
          5.882582664489746,
          -49.980445861816406,
          -39.53208923339844,
          10.895818710327148,
          -49.58374786376953,
          90.62037658691406,
          103.47481536865234,
          91.6295394897461,
          5.815577030181885,
          -18.903133392333984,
          -78.3421859741211,
          -64.40254211425781,
          12.621936798095703,
          -45.44221878051758,
          -17.548269271850586,
          -2.032433271408081,
          -46.708770751953125,
          -19.235326766967773,
          -52.68132781982422,
          -42.54001235961914,
          11.77867603302002,
          109.5114517211914,
          -47.172889709472656,
          -51.129329681396484,
          11.142207145690918,
          -67.43603515625,
          -32.44804000854492,
          -17.137529373168945,
          -65.85476684570312,
          -50.53583908081055,
          89.26268005371094,
          -43.28546142578125,
          -43.00028610229492,
          61.20229721069336,
          74.32243347167969,
          1.4585539102554321,
          61.31726837158203,
          37.63641357421875,
          60.697792053222656,
          46.47520065307617,
          61.61118698120117,
          -30.720060348510742,
          -1.9015871286392212,
          -46.036338806152344,
          39.630985260009766,
          -87.41197204589844,
          81.2131118774414,
          107.79502868652344,
          -10.93287467956543,
          -79.64046478271484,
          -15.552201271057129,
          18.66484260559082,
          -50.6707878112793,
          96.48880004882812,
          -81.80523681640625,
          43.33644485473633,
          -55.90939712524414,
          -71.46200561523438,
          -54.476924896240234,
          44.229400634765625,
          -41.54207229614258,
          -22.04904556274414,
          -18.646778106689453,
          59.411922454833984,
          0.9366971254348755,
          107.18424987792969,
          63.41712951660156,
          44.02454376220703,
          -41.242820739746094,
          82.79048156738281,
          -21.665241241455078,
          71.77481079101562,
          -83.58098602294922,
          35.91801071166992,
          -1.5262417793273926,
          78.77326202392578,
          0.5411051511764526,
          5.497760772705078,
          51.600467681884766,
          -80.24934387207031,
          -17.552621841430664,
          -23.315855026245117,
          -84.27765655517578,
          -21.129581451416016,
          -79.66024780273438,
          -49.62407302856445,
          -80.55712890625,
          -21.7933349609375,
          -0.551390528678894,
          26.830013275146484,
          94.50751495361328,
          93.66559600830078,
          81.06031036376953,
          -54.952720642089844,
          56.278526306152344,
          73.4034194946289,
          74.27671813964844,
          111.34937286376953,
          58.17022705078125,
          59.96330642700195,
          73.48970031738281,
          91.44235229492188,
          -84.07567596435547,
          -34.54226303100586,
          93.5333023071289,
          -71.44646453857422,
          81.94952392578125,
          -31.201007843017578,
          -3.467153787612915,
          -67.0771255493164,
          -28.817201614379883,
          -28.656396865844727,
          -48.118804931640625,
          9.878697395324707,
          -16.917997360229492,
          59.95112609863281,
          99.19100189208984,
          10.338055610656738,
          -49.712650299072266,
          -68.4806900024414,
          -35.26210403442383,
          4.47487735748291,
          -9.288506507873535,
          -50.218116760253906,
          0.5534483790397644,
          48.63064956665039,
          -72.65278625488281,
          -53.17239761352539,
          -74.33595275878906,
          -25.37596893310547,
          46.012840270996094,
          58.10734558105469,
          12.811429023742676,
          96.94635772705078,
          103.72338104248047,
          -82.46748352050781,
          6.247751712799072,
          72.0452651977539,
          76.43885040283203,
          10.98153018951416,
          45.34474182128906,
          44.268680572509766,
          74.49008178710938,
          63.09991455078125,
          -75.49411010742188,
          52.15879440307617,
          -40.58510971069336,
          -70.78582000732422,
          21.341115951538086,
          34.1136589050293,
          -56.034690856933594,
          -57.373619079589844,
          -67.10043334960938,
          -33.71330642700195,
          96.13377380371094,
          -69.83697509765625,
          -17.320640563964844,
          -69.85919952392578,
          -38.773406982421875,
          -34.43634796142578,
          -33.942344665527344,
          -23.9718017578125,
          6.833789348602295,
          24.99665641784668,
          -64.25040435791016,
          48.706974029541016,
          -20.545751571655273,
          64.49615478515625,
          -20.526611328125,
          -36.858951568603516,
          75.847900390625,
          -45.95186233520508,
          -37.708213806152344,
          -21.00787353515625,
          50.12968063354492,
          49.799137115478516,
          29.4740047454834,
          -6.504403114318848,
          30.05994415283203,
          -30.606096267700195,
          30.943464279174805,
          -47.46587371826172,
          -13.014243125915527,
          89.43413543701172,
          -37.30083084106445,
          106.8216323852539,
          40.1915283203125,
          -4.759347915649414,
          0.47614142298698425,
          1.203991174697876,
          -80.05713653564453,
          46.343387603759766,
          -31.369277954101562,
          44.28055953979492,
          46.476951599121094,
          56.10457229614258,
          106.15644836425781,
          26.366180419921875,
          26.345138549804688,
          -2.263871908187866,
          -44.909751892089844,
          84.3836441040039,
          45.63254165649414,
          35.76638412475586,
          -57.683006286621094,
          -75.953125,
          85.49561309814453,
          -28.24642562866211,
          -17.032461166381836,
          85.73106384277344,
          44.97297286987305,
          77.50350189208984,
          -76.62203979492188,
          44.72559356689453,
          27.566923141479492,
          39.18832778930664,
          75.60839080810547,
          -17.09377670288086,
          30.266277313232422,
          29.256059646606445,
          -69.76712799072266,
          24.97282600402832,
          90.8837661743164,
          85.28189086914062,
          75.0110855102539,
          30.00313949584961,
          75.64494323730469,
          -45.55923080444336,
          43.878074645996094,
          68.81920623779297,
          60.051658630371094,
          10.617843627929688,
          10.355802536010742,
          31.112525939941406,
          68.10934448242188,
          77.23543548583984,
          68.565185546875,
          88.1379623413086,
          -77.32838439941406,
          22.157487869262695,
          85.4912109375,
          -76.7027816772461,
          67.51783752441406,
          -64.31554412841797,
          55.6278076171875,
          34.0406494140625,
          97.09066009521484,
          -13.722564697265625,
          66.66043090820312,
          54.42793655395508,
          8.88541316986084,
          71.6498031616211,
          84.97156524658203,
          66.90190887451172,
          -73.2073745727539,
          98.8314208984375,
          23.374961853027344,
          49.66753387451172,
          74.91671752929688,
          101.6001968383789,
          106.67805480957031,
          80.24169921875,
          69.89268493652344,
          70.51025390625,
          95.26832580566406,
          5.504251480102539,
          106.55437469482422,
          42.706485748291016,
          14.858787536621094,
          6.154316425323486,
          47.162967681884766,
          37.77524185180664,
          16.499032974243164,
          -67.31204223632812,
          70.96073913574219,
          22.899417877197266,
          67.78939819335938,
          50.01726150512695,
          -26.85123634338379,
          -64.48161315917969,
          -30.473766326904297,
          -42.12687683105469,
          -33.12828826904297,
          44.488948822021484,
          -6.68355655670166,
          28.92839813232422,
          108.57146453857422,
          -76.18228912353516,
          -6.527344226837158,
          -56.782901763916016,
          86.93386840820312,
          67.20311737060547,
          -32.860595703125,
          10.439435005187988,
          67.19097900390625,
          38.390480041503906,
          70.4420166015625,
          -67.53668212890625,
          10.472664833068848,
          88.11729431152344,
          -24.85712432861328,
          10.167861938476562,
          -16.243553161621094,
          7.0815887451171875,
          113.33817291259766,
          12.887309074401855,
          -83.79834747314453,
          48.51934051513672,
          105.88008880615234,
          36.247581481933594,
          75.57587432861328,
          87.22091674804688,
          87.16922760009766,
          67.68133544921875,
          -36.11094665527344,
          -47.20835494995117,
          35.28155517578125,
          -74.72181701660156,
          -74.70384979248047,
          111.9665298461914,
          1.0248764753341675,
          15.231718063354492,
          -20.497207641601562,
          -47.3723258972168,
          10.694642066955566,
          -56.71006393432617,
          33.261192321777344,
          -59.162384033203125,
          -57.26013946533203,
          -57.96827697753906,
          -45.50600814819336,
          -16.9776668548584,
          3.0097084045410156,
          69.44038391113281,
          -48.54359817504883,
          -56.626373291015625,
          -55.93244171142578,
          5.364060401916504,
          -15.2330961227417,
          -42.84403610229492,
          -58.42293167114258,
          3.978874444961548,
          -58.70336151123047,
          -48.558502197265625,
          2.5458338260650635,
          -57.31488037109375,
          -47.47795486450195,
          -20.42245864868164,
          -52.37683868408203,
          -21.862831115722656,
          -15.572218894958496,
          -80.60356903076172,
          -4.270853042602539,
          37.235260009765625,
          -81.7420883178711,
          55.81912612915039,
          100.52243041992188,
          -29.426870346069336,
          -17.233341217041016,
          -52.34223937988281,
          -6.790532112121582,
          -39.30656814575195,
          -41.03770446777344,
          116.55728149414062,
          109.30459594726562,
          110.0837631225586,
          79.75955200195312,
          48.220340728759766,
          49.63628005981445,
          42.71049118041992,
          7.153404235839844,
          29.91521453857422,
          49.24089431762695,
          -47.68501663208008,
          -48.10699462890625,
          -66.47979736328125,
          -58.80537414550781,
          26.62737274169922,
          -4.440096378326416,
          -10.140491485595703,
          78.30647277832031,
          -34.827762603759766,
          69.90550994873047,
          39.0172233581543,
          -43.98468780517578,
          -60.47303771972656,
          -63.712772369384766,
          27.694982528686523,
          -79.52893829345703,
          93.14044189453125,
          -34.64720916748047,
          -23.06344223022461,
          -57.817176818847656,
          -18.62681770324707,
          -79.57982635498047,
          -16.20313835144043,
          66.93119049072266,
          80.10900115966797,
          89.62183380126953,
          -5.2500739097595215,
          -27.142162322998047,
          8.30014705657959,
          12.385984420776367,
          -36.20820236206055,
          -45.430946350097656,
          -58.25714111328125,
          -37.176918029785156,
          -37.11582565307617,
          15.932879447937012,
          -51.86205291748047,
          -75.6859130859375,
          34.462158203125,
          0.7074080109596252,
          -52.141170501708984,
          -63.38225555419922,
          68.41110229492188,
          52.66971969604492,
          -30.148427963256836,
          -86.9050521850586,
          -16.720584869384766,
          -64.29084777832031,
          26.74983787536621,
          -80.37183380126953,
          -80.48806762695312,
          -9.302215576171875,
          46.07255935668945,
          -9.96116828918457,
          -71.81696319580078,
          -60.747955322265625,
          45.9009895324707,
          -1.1310230493545532,
          28.02326011657715,
          -6.4566216468811035,
          -46.97102355957031,
          45.78849411010742,
          29.985797882080078,
          -68.76838684082031,
          -44.655635833740234,
          -16.987560272216797,
          -8.640124320983887,
          -69.96903228759766,
          41.898033142089844,
          -39.673492431640625,
          -46.094722747802734,
          -13.148005485534668,
          6.933443546295166,
          -57.151981353759766,
          -40.190547943115234,
          -17.746427536010742,
          -73.91544342041016,
          47.202274322509766,
          74.31867980957031,
          -18.1761417388916,
          74.08279418945312,
          -10.541644096374512,
          -3.1788582801818848,
          -59.83522033691406,
          25.58936309814453,
          -50.51015853881836,
          5.528417587280273,
          -55.73698806762695,
          -80.2174301147461,
          -63.87205505371094,
          -47.90520095825195,
          46.03847885131836,
          -70.14502716064453,
          78.12018585205078,
          63.90886306762695,
          76.54946899414062,
          72.99545288085938,
          10.823989868164062,
          47.93669891357422,
          21.94763946533203,
          -46.57780838012695,
          43.548702239990234,
          21.70368003845215,
          23.282445907592773,
          34.89788818359375,
          51.66025161743164,
          60.49984359741211,
          38.17063522338867,
          32.50180435180664,
          -2.8320915699005127,
          -14.636876106262207,
          35.49394989013672,
          82.25017547607422,
          51.76523971557617,
          29.960519790649414,
          24.887128829956055,
          -47.942176818847656,
          65.561279296875,
          99.53429412841797,
          77.4243392944336,
          -9.169357299804688,
          -77.69954681396484,
          80.10631561279297,
          -64.07108306884766,
          38.01335906982422,
          23.75851058959961,
          9.237462043762207,
          77.27971649169922,
          -69.38800048828125,
          51.30378723144531,
          94.92276000976562,
          35.83430862426758,
          -43.194252014160156,
          -56.23041534423828,
          -50.59729766845703,
          31.267398834228516,
          73.34322357177734,
          78.68915557861328,
          -33.1017951965332,
          -5.178370952606201,
          -75.5145492553711,
          34.853878021240234,
          55.49225997924805,
          -63.520111083984375,
          56.0610237121582,
          -33.159603118896484,
          55.567325592041016,
          -77.53141784667969,
          64.00164794921875,
          25.19525718688965,
          37.50137710571289,
          60.50592041015625,
          99.41399383544922,
          100.09595489501953,
          99.12373352050781,
          -12.772993087768555,
          24.277976989746094,
          47.155269622802734,
          83.06941223144531,
          108.96965026855469,
          0.8322340846061707,
          47.19288635253906,
          -26.637575149536133,
          -60.68291473388672,
          -61.926544189453125,
          -61.883026123046875,
          34.531593322753906,
          -60.73838424682617,
          71.3484115600586,
          78.318603515625,
          94.15064239501953,
          90.05130004882812,
          107.68427276611328,
          -20.567216873168945,
          61.173038482666016,
          98.4057388305664,
          63.3238525390625,
          65.01348876953125,
          99.6103744506836,
          54.66236877441406,
          2.767834186553955,
          79.46107482910156,
          46.65806198120117,
          59.46568298339844,
          41.38377380371094,
          2.3471953868865967,
          1.7901763916015625,
          85.78163146972656,
          -45.77436828613281,
          101.9664535522461,
          -82.61654663085938,
          -31.139053344726562,
          -81.88910675048828,
          -81.94353485107422,
          -63.391990661621094,
          57.64887619018555,
          8.196403503417969,
          4.281004905700684,
          46.86126708984375,
          58.91178512573242,
          -38.65211486816406,
          28.462553024291992,
          -18.086395263671875,
          -18.907121658325195,
          73.76102447509766,
          22.357664108276367,
          -15.822707176208496,
          75.09534454345703,
          -71.14704132080078,
          16.311704635620117,
          -32.215702056884766,
          62.740562438964844,
          5.635005950927734,
          69.48460388183594,
          -28.471254348754883,
          -28.915321350097656,
          -31.48271369934082,
          36.74870300292969,
          -3.979173183441162,
          -18.91564178466797,
          25.28072166442871,
          22.724668502807617,
          -70.88990783691406,
          117.85746765136719,
          -41.49406051635742,
          -51.4888801574707,
          -51.519287109375,
          -19.38228416442871,
          -52.996360778808594,
          58.8220100402832,
          58.196495056152344,
          59.368629455566406,
          -48.477054595947266,
          -18.497631072998047,
          -66.35282135009766,
          64.28123474121094,
          103.858154296875,
          102.14169311523438,
          -83.39298248291016,
          -50.643638610839844,
          -48.435062408447266,
          -49.724674224853516,
          -49.32630920410156,
          -84.52999114990234,
          -57.209625244140625,
          -84.20973205566406,
          52.78824996948242,
          -44.1916389465332,
          -16.934904098510742,
          13.030119895935059,
          -55.64860153198242,
          -6.919583320617676,
          -5.932124614715576,
          22.049848556518555,
          -61.65180587768555,
          -61.655033111572266,
          -55.45809555053711,
          -37.140899658203125,
          25.117027282714844,
          52.485557556152344,
          10.239702224731445,
          -55.8482666015625,
          -68.82807159423828,
          -68.23001098632812,
          52.19308853149414,
          -41.02320861816406,
          104.20158386230469,
          -47.90285873413086,
          -44.71619415283203,
          -75.82678985595703,
          -19.532512664794922,
          16.732328414916992,
          -15.761659622192383,
          11.87955379486084,
          0.9099979996681213,
          0.8796543478965759,
          8.355269432067871,
          -33.55665588378906,
          -51.61653137207031,
          -51.45695877075195,
          75.17996978759766,
          35.49713134765625,
          78.89535522460938,
          -12.859399795532227,
          11.471957206726074,
          35.74724578857422,
          26.254362106323242,
          32.976680755615234,
          49.34504699707031,
          93.1940689086914,
          48.502174377441406,
          95.06343078613281,
          -47.38559341430664,
          90.40192413330078,
          26.86414909362793,
          115.87031555175781,
          -46.869529724121094,
          80.79743957519531,
          100.1517333984375,
          -26.369184494018555,
          82.0168685913086,
          115.04380798339844,
          -60.487674713134766,
          -62.17886734008789,
          -1.6496810913085938,
          -89.42530059814453,
          -89.4637222290039,
          33.32139587402344,
          -31.51144790649414,
          -57.43555450439453,
          59.73024368286133,
          4.970168590545654,
          55.028785705566406,
          -62.01005554199219,
          43.04499435424805,
          46.04033660888672,
          84.42961883544922,
          -48.02186965942383,
          -50.28437805175781,
          -7.788930892944336,
          31.180198669433594,
          -74.44225311279297,
          112.1932144165039,
          -48.9719352722168,
          32.19939422607422,
          -47.05538558959961,
          -48.786155700683594,
          -73.7158203125,
          -53.2729606628418,
          -27.209012985229492,
          -66.48697662353516,
          -81.80857849121094,
          -81.67292022705078,
          105.92132568359375,
          18.579259872436523,
          41.986934661865234,
          7.004390716552734,
          -58.69495391845703,
          99.64525604248047,
          -39.033477783203125,
          -60.420387268066406,
          96.38443756103516,
          -47.21638870239258,
          18.885412216186523,
          80.12828826904297,
          -44.67314529418945,
          -84.67234802246094,
          -83.5625,
          -15.366273880004883,
          -83.55731201171875,
          12.196474075317383,
          51.12867736816406,
          0.20229218900203705,
          -70.61488342285156,
          -51.390926361083984,
          68.9839096069336,
          108.06657409667969,
          8.506089210510254,
          -47.05874252319336,
          3.947584629058838,
          -18.325481414794922,
          3.7950596809387207,
          28.511341094970703,
          -80.16790771484375,
          19.2314510345459,
          -45.43796157836914,
          -39.55453872680664,
          -7.983790874481201,
          -71.00038146972656,
          -51.882686614990234,
          -68.26213073730469,
          1.6485320329666138,
          -45.78251266479492,
          85.22286224365234,
          -51.944881439208984,
          96.03248596191406,
          43.42518997192383,
          -45.241703033447266,
          61.47965621948242,
          -66.501708984375,
          2.9278762340545654,
          26.25750732421875,
          -16.109418869018555,
          -56.24449920654297,
          -35.02183532714844,
          2.8152852058410645,
          20.35775375366211,
          -77.75828552246094,
          -48.539730072021484,
          97.3521957397461,
          -32.554805755615234,
          -40.34048843383789,
          23.86649513244629,
          7.100663185119629,
          45.478759765625,
          -13.670409202575684,
          3.05875825881958,
          2.897158622741699,
          -62.32229995727539,
          -18.706758499145508,
          -60.70426940917969,
          -18.839303970336914,
          3.1532461643218994,
          55.77116012573242,
          -15.801321983337402,
          -62.52372360229492,
          -40.40376281738281,
          -42.78447723388672,
          20.7335205078125,
          21.73536491394043,
          -76.36817932128906,
          31.767719268798828,
          -49.51673889160156,
          21.418933868408203,
          48.4385986328125,
          51.22355270385742,
          3.952280282974243,
          -7.067311763763428,
          -70.29998779296875,
          -3.7154712677001953,
          -9.938828468322754,
          -3.224076509475708,
          -1.3239648342132568,
          -3.43070912361145,
          -13.437171936035156,
          16.559167861938477,
          26.819490432739258,
          -14.266599655151367,
          -5.052220821380615,
          96.483642578125,
          48.03908157348633,
          -39.54681396484375,
          18.7541561126709,
          26.088972091674805,
          16.45649528503418,
          -12.421271324157715,
          45.64424514770508,
          18.408937454223633,
          -66.41893005371094,
          -51.81185531616211,
          -36.82234573364258,
          19.248607635498047,
          -10.3497314453125,
          -37.46154022216797,
          16.684232711791992,
          -14.032103538513184,
          10.768762588500977,
          2.870453119277954,
          15.545135498046875,
          -2.5594100952148438,
          -63.49191665649414,
          -35.32907485961914,
          -36.47307586669922,
          -20.196046829223633,
          -6.97366189956665,
          -18.175695419311523,
          -19.491134643554688,
          -67.24984741210938,
          41.31108093261719,
          -16.9145565032959,
          -65.74879455566406,
          -65.57125091552734,
          6.3955559730529785,
          -17.134967803955078,
          -67.63908386230469,
          -55.80369567871094,
          -37.02096939086914,
          44.82474136352539,
          -48.95133972167969,
          -49.87885665893555,
          -27.3052978515625,
          29.584447860717773,
          -46.438743591308594,
          32.48934555053711,
          -3.3496477603912354,
          -9.463781356811523,
          -4.325132846832275,
          -13.789340019226074,
          32.15252685546875,
          30.529743194580078,
          -14.475268363952637,
          31.078594207763672,
          -12.601641654968262,
          -31.626964569091797,
          -76.21134185791016,
          115.03404235839844,
          -24.769269943237305,
          27.527799606323242,
          46.54179763793945,
          1.7502620220184326,
          -64.71636199951172,
          -42.43617248535156,
          78.07772064208984,
          51.054805755615234,
          28.308231353759766,
          41.43303680419922,
          -5.619596004486084,
          19.754636764526367,
          -16.34142303466797,
          -24.588314056396484,
          -51.549896240234375,
          12.47429370880127,
          41.21432876586914,
          98.77964782714844,
          49.44495391845703,
          -1.8070292472839355,
          20.455228805541992,
          -68.37712860107422,
          97.23823547363281,
          42.55314636230469,
          -69.84527587890625,
          -70.52299499511719,
          110.66551971435547,
          26.879356384277344,
          41.127220153808594,
          31.69382667541504,
          -48.87870407104492,
          84.58370208740234,
          42.03477096557617,
          -53.27322006225586,
          -41.977760314941406,
          -66.39300537109375,
          -43.53586196899414,
          9.642073631286621,
          -122.20699310302734,
          -3.4922945499420166,
          -123.18854522705078,
          -123.17832946777344,
          -123.5560302734375,
          -122.57891845703125,
          -124.25225830078125,
          -70.7690658569336,
          40.09457015991211,
          -121.6455307006836,
          -125.56501007080078,
          -124.60735321044922,
          -125.61705017089844,
          -49.92399978637695,
          43.41086959838867,
          -50.169097900390625,
          15.647947311401367,
          14.635766983032227,
          15.263888359069824,
          15.083473205566406,
          -29.697420120239258,
          -27.24631690979004,
          12.314984321594238,
          34.96759796142578,
          -70.3350830078125,
          96.81262969970703,
          34.93655776977539,
          -54.981136322021484,
          -53.991416931152344,
          -54.18027114868164,
          116.6202163696289,
          -16.326568603515625,
          -20.15774154663086,
          -74.05738830566406,
          31.91792869567871,
          -53.419368743896484,
          21.628725051879883,
          -8.86877155303955,
          -33.23208999633789,
          -9.390168190002441,
          -70.06932830810547,
          -69.3056411743164,
          -50.84177780151367,
          -52.828697204589844,
          -38.52352523803711,
          43.57575225830078,
          -50.03887176513672,
          -12.115325927734375,
          -68.6322250366211,
          -37.82117462158203,
          -38.67171096801758,
          -70.55091857910156,
          -67.9895248413086,
          -49.67087173461914,
          18.207347869873047,
          -50.96257400512695,
          18.15982437133789,
          102.98011016845703,
          72.2950668334961,
          22.806692123413086,
          -51.171443939208984,
          7.608674049377441,
          100.68379211425781,
          -52.349056243896484,
          -44.763179779052734,
          -43.12781524658203,
          -79.61021423339844,
          -77.98914337158203,
          104.80951690673828,
          20.835073471069336,
          -18.82462501525879,
          22.267162322998047,
          -33.1611213684082,
          5.933992862701416,
          21.753765106201172,
          1.8551616668701172,
          18.853349685668945,
          -31.387542724609375,
          36.09242248535156,
          1.5968307256698608,
          6.7597222328186035,
          -44.61219024658203,
          29.478954315185547,
          27.6010684967041,
          -74.79497528076172,
          31.25800323486328,
          28.19706916809082,
          88.13542175292969,
          -35.460365295410156,
          36.39724349975586,
          30.657207489013672,
          28.761014938354492,
          96.06929016113281,
          -10.802064895629883,
          6.115847110748291,
          99.392822265625,
          27.133758544921875,
          -10.569849967956543,
          20.879356384277344,
          -16.81754493713379,
          -33.45183181762695,
          49.320350646972656,
          49.50679397583008,
          105.16996002197266,
          61.83156204223633,
          36.672279357910156,
          20.38241958618164,
          -30.158674240112305,
          26.792905807495117,
          -78.18550109863281,
          -29.53367805480957,
          38.22504806518555,
          14.309130668640137,
          15.830517768859863,
          13.964742660522461,
          43.25962829589844,
          -2.376347780227661,
          -54.37337875366211,
          27.87211799621582,
          -72.94965362548828,
          -63.77840042114258,
          9.522845268249512,
          -49.09606170654297,
          -49.17778015136719,
          -37.603641510009766,
          62.425514221191406,
          48.77451705932617,
          -42.028560638427734,
          14.776350021362305,
          61.52214813232422,
          1.7463771104812622,
          -64.56488800048828,
          26.134340286254883,
          71.50252532958984,
          73.019775390625,
          73.34416961669922,
          49.321529388427734,
          -32.31785583496094,
          48.70566177368164,
          32.53593063354492,
          98.1336441040039,
          -60.96510696411133,
          -37.007606506347656,
          -52.22504806518555,
          -77.97808074951172,
          -23.984169006347656,
          28.472557067871094,
          -48.39125442504883,
          -49.244415283203125,
          -29.572294235229492,
          -49.30135726928711,
          -48.695125579833984,
          -71.88252258300781,
          69.59384155273438,
          16.228391647338867,
          83.36937713623047,
          -43.538089752197266,
          34.092952728271484,
          53.480342864990234,
          78.61307525634766,
          69.76063537597656,
          -56.348594665527344,
          57.79256820678711,
          -52.479347229003906,
          -77.59886169433594,
          74.82048797607422,
          -19.212581634521484,
          89.453369140625,
          52.74003601074219,
          -8.585677146911621,
          -77.4190444946289,
          -85.47069549560547,
          -32.23712921142578,
          -41.899322509765625,
          23.55948829650879,
          -85.49424743652344,
          -41.238346099853516,
          -54.99142074584961,
          -46.036216735839844,
          -55.29942321777344,
          79.3935317993164,
          59.74748611450195,
          -67.46521759033203,
          -38.46729278564453,
          -38.46311950683594,
          -8.271918296813965,
          -44.105770111083984,
          66.9752197265625,
          103.33699798583984,
          -47.203487396240234,
          50.37380599975586,
          104.11294555664062,
          -64.97107696533203,
          16.45484733581543,
          114.28741455078125,
          77.09259033203125,
          21.07939338684082
         ],
         "yaxis": "y"
        },
        {
         "customdata": [
          [
           "Geschichte des Fräuleins von Sternheim",
           "Sophie von La Roche",
           "Kunstepoche"
          ],
          [
           "Geschichte des Fräuleins von Sternheim",
           "Sophie von La Roche",
           "Kunstepoche"
          ],
          [
           "Florentin",
           "Dorothea Schlegel",
           "Kunstepoche"
          ],
          [
           "Mährchen",
           "Caroline Auguste Fischer",
           "Kunstepoche"
          ],
          [
           "Gemälde weiblicher Erziehung",
           "Karoline Rudolphi",
           "Kunstepoche"
          ],
          [
           "Gemälde weiblicher Erziehung",
           "Karoline Rudolphi",
           "Kunstepoche"
          ],
          [
           "Rahel",
           "Rahel Levin",
           "Kunstepoche"
          ],
          [
           "Rahel",
           "Rahel Levin",
           "Kunstepoche"
          ],
          [
           "Rahel",
           "Rahel Levin",
           "Kunstepoche"
          ],
          [
           "Jenny",
           "Fanny Lewald",
           "Vormärz"
          ],
          [
           "Jenny",
           "Fanny Lewald",
           "Vormärz"
          ],
          [
           "Der Prophet",
           "Amalie Schoppe",
           "Kunstepoche"
          ],
          [
           "Der Prophet",
           "Amalie Schoppe",
           "Kunstepoche"
          ],
          [
           "Der Prophet",
           "Amalie Schoppe",
           "Kunstepoche"
          ],
          [
           "Letzte Gaben",
           "Annette von Droste-Hülshoff",
           "Kunstepoche"
          ],
          [
           "Adele",
           "Fanny Lewald",
           "Vormärz"
          ],
          [
           "Die letzte Reckenburgerin",
           "Louise von François",
           "Vormärz"
          ],
          [
           "Die letzte Reckenburgerin",
           "Louise von François",
           "Vormärz"
          ],
          [
           "Heidi's Lehr- und Wanderjahre",
           "Johanna Spyri",
           "Vormärz"
          ],
          [
           "Bittersüß",
           "Ilse Frapan",
           "Realismus"
          ],
          [
           "Flügel auf!",
           "Ilse Frapan",
           "Realismus"
          ],
          [
           "Irrwisch-Fritze",
           "Adelheid Reinbold",
           "Kunstepoche"
          ],
          [
           "Die Judenbuche",
           "Annette von Droste-Hülshoff",
           "Kunstepoche"
          ],
          [
           "Reich zu reich und arm zu arm",
           "Claire von Glümer",
           "Vormärz"
          ],
          [
           "Der Striethast",
           "Emmy von Dincklage",
           "Vormärz"
          ],
          [
           "Die Tante",
           "Fanny Lewald",
           "Vormärz"
          ],
          [
           "Musikalische Orthodoxie",
           "Johanna Kinkel",
           "Kunstepoche"
          ],
          [
           "Eine fromme Lüge",
           "Luise von Gall",
           "Vormärz"
          ],
          [
           "Streit in der Liebe und Liebe im Streit",
           "Ottilie Wildermuth",
           "Vormärz"
          ],
          [
           "Zwei Erzählungen",
           "Elisabeth von Heyking",
           "Realismus"
          ],
          [
           "Yoshiwara",
           "Hermione von Preuschen",
           "Realismus"
          ],
          [
           "Als er heimkehrte",
           "Ada Christen, eigentlich Christiane von Breden",
           "Realismus"
          ],
          [
           "Der einsame Spatz",
           "Ada Christen, eigentlich Christiane von Breden",
           "Realismus"
          ],
          [
           "Jungfer Mutter",
           "Ada Christen, eigentlich Christiane von Breden",
           "Realismus"
          ],
          [
           "Käthes Federhut",
           "Ada Christen, eigentlich Christiane von Breden",
           "Realismus"
          ],
          [
           "Nachbar Krippelmacher",
           "Ada Christen, eigentlich Christiane von Breden",
           "Realismus"
          ],
          [
           "Rahel",
           "Ada Christen, eigentlich Christiane von Breden",
           "Realismus"
          ],
          [
           "Anna",
           "Adele Schopenhauer",
           "Kunstepoche"
          ],
          [
           "Die Schwingen des Lebens",
           "Agnes Franz",
           "Kunstepoche"
          ],
          [
           "Die Heilige und ihr Narr, Band 1",
           "Agnes Günther",
           "Realismus"
          ],
          [
           "Die Heilige und ihr Narr, Band 2",
           "Agnes Günther",
           "Realismus"
          ],
          [
           "Das kleine Dummerle und andere Erzählungen",
           "Agnes Sapper",
           "Realismus"
          ],
          [
           "Für kleine Mädchen",
           "Agnes Sapper",
           "Realismus"
          ],
          [
           "Die Bräutigame der Babette Bomberling",
           "Alice Berend",
           "Moderne"
          ],
          [
           "Frau Hempels Tochter",
           "Alice Berend",
           "Moderne"
          ],
          [
           "Bei uns zu Lande auf dem Lande",
           "Annette von Droste-Hülshoff",
           "Kunstepoche"
          ],
          [
           "Bei uns zulande auf dem Lande",
           "Annette von Droste-Hülshoff",
           "Kunstepoche"
          ],
          [
           "Der Familienschild",
           "Annette von Droste-Hülshoff",
           "Kunstepoche"
          ],
          [
           "Ledwina",
           "Annette von Droste-Hülshoff",
           "Kunstepoche"
          ],
          [
           "Westfälische Schilderungen",
           "Annette von Droste-Hülshoff",
           "Kunstepoche"
          ],
          [
           "Warenhaus Groß & Comp.",
           "Auguste Groner",
           "Realismus"
          ],
          [
           "Alf von Dülmen",
           "Benedikte Naubert",
           "Kunstepoche"
          ],
          [
           "Conrad und Siegfried von Feuchtwangen, Großmeister des deutschen Ordens",
           "Benedikte Naubert",
           "Kunstepoche"
          ],
          [
           "Die Amtmannin von Hohenweiler",
           "Benedikte Naubert",
           "Kunstepoche"
          ],
          [
           "Herrmann von Unna",
           "Benedikte Naubert",
           "Kunstepoche"
          ],
          [
           "In Moor und Marsch",
           "Bernhardine Schulze-Smidt",
           "Realismus"
          ],
          [
           "Pfadfinder",
           "Bernhardine Schulze-Smidt",
           "Realismus"
          ],
          [
           "Alte Liebe",
           "Bertha Behrens",
           "Realismus"
          ],
          [
           "Aus dem Leben meiner alten Freundin",
           "Bertha Behrens",
           "Realismus"
          ],
          [
           "Erzählungen",
           "Bertha Behrens",
           "Realismus"
          ],
          [
           "Mamsell Unnütz",
           "Bertha Behrens",
           "Realismus"
          ],
          [
           "Trudchens Heirat",
           "Bertha Behrens",
           "Realismus"
          ],
          [
           "Wie auch wir vergeben ...",
           "Bertha Behrens",
           "Realismus"
          ],
          [
           "Die Waffen nieder!",
           "Bertha von Suttner",
           "Realismus"
          ],
          [
           "Ermenegildens Flucht",
           "Bertha von Suttner",
           "Realismus"
          ],
          [
           "Franzl und Mirzl",
           "Bertha von Suttner",
           "Realismus"
          ],
          [
           "Langeweile",
           "Bertha von Suttner",
           "Realismus"
          ],
          [
           "Martha's Kinder",
           "Bertha von Suttner",
           "Realismus"
          ],
          [
           "Clemens Brentanos Frühlingskranz",
           "Bettina von Arnim",
           "Kunstepoche"
          ],
          [
           "Die Günderode",
           "Bettina von Arnim",
           "Kunstepoche"
          ],
          [
           "Goethes Briefwechsel mit einem Kinde",
           "Bettina von Arnim",
           "Kunstepoche"
          ],
          [
           "Geknechteter Wille",
           "Carola von Eynatten",
           "Realismus"
          ],
          [
           "Der Günstling",
           "Caroline Auguste Fischer",
           "Kunstepoche"
          ],
          [
           "Die Honigmonathe",
           "Caroline Auguste Fischer",
           "Kunstepoche"
          ],
          [
           "Gustavs Verirrungen",
           "Caroline Auguste Fischer",
           "Kunstepoche"
          ],
          [
           "Krauskopf und Goldlöckchen",
           "Caroline Auguste Fischer",
           "Kunstepoche"
          ],
          [
           "Margarethe",
           "Caroline Auguste Fischer",
           "Kunstepoche"
          ],
          [
           "Selim und Zoraïde",
           "Caroline Auguste Fischer",
           "Kunstepoche"
          ],
          [
           "Vierzehn Tage in Paris",
           "Caroline Auguste Fischer",
           "Kunstepoche"
          ],
          [
           "Agathocles",
           "Caroline Pichler",
           "Kunstepoche"
          ],
          [
           "Agnes von Lilien",
           "Caroline von Wolzogen",
           "Kunstepoche"
          ],
          [
           "Erzählungen",
           "Caroline von Wolzogen",
           "Kunstepoche"
          ],
          [
           "Als der Mond in Dorothees Zimmer schien",
           "Charlotte Niese",
           "Realismus"
          ],
          [
           "Die falschen Weihnachtsbäume",
           "Charlotte Niese",
           "Realismus"
          ],
          [
           "Die Geschichte von einem, der nichts durfte",
           "Charlotte Niese",
           "Realismus"
          ],
          [
           "Er und Sie",
           "Charlotte Niese",
           "Realismus"
          ],
          [
           "Es war gut so",
           "Charlotte Niese",
           "Realismus"
          ],
          [
           "Geschichten aus Holstein",
           "Charlotte Niese",
           "Realismus"
          ],
          [
           "Kajus Rungholt",
           "Charlotte Niese",
           "Realismus"
          ],
          [
           "Mamsell van Ehren",
           "Charlotte Niese",
           "Realismus"
          ],
          [
           "Mein Freund Kaspar und andere Erzählungen",
           "Charlotte Niese",
           "Realismus"
          ],
          [
           "Reifezeit",
           "Charlotte Niese",
           "Realismus"
          ],
          [
           "Erna",
           "Charlotte von Ahlefeld",
           "Kunstepoche"
          ],
          [
           "Gesammelte Erzählungen",
           "Charlotte von Ahlefeld",
           "Kunstepoche"
          ],
          [
           "Marie Müller",
           "Charlotte von Ahlefeld",
           "Kunstepoche"
          ],
          [
           "Gesühnt",
           "Claire von Glümer",
           "Vormärz"
          ],
          [
           "Die Graue Gasse",
           "Dora Duncker",
           "Realismus"
          ],
          [
           "Gross-Berlin",
           "Dora Duncker",
           "Realismus"
          ],
          [
           "Grossstadt",
           "Dora Duncker",
           "Realismus"
          ],
          [
           "Großstadt",
           "Dora Duncker",
           "Realismus"
          ],
          [
           "Jugend",
           "Dora Duncker",
           "Realismus"
          ],
          [
           "Lottes Glück / Totgelacht",
           "Dora Duncker",
           "Realismus"
          ],
          [
           "Marquise von Pompadour",
           "Dora Duncker",
           "Realismus"
          ],
          [
           "Mütter",
           "Dora Duncker",
           "Realismus"
          ],
          [
           "Florentin",
           "Dorothea Schlegel",
           "Kunstepoche"
          ],
          [
           "Florentin",
           "Dorothea Schlegel",
           "Kunstepoche"
          ],
          [
           "Das Eulenhaus",
           "E. Marlitt",
           "Vormärz"
          ],
          [
           "Das Geheimnis der alten Mamsell",
           "E. Marlitt",
           "Vormärz"
          ],
          [
           "Das Heideprinzeßchen",
           "E. Marlitt",
           "Vormärz"
          ],
          [
           "Die Frau mit den Karfunkelsteinen",
           "E. Marlitt",
           "Vormärz"
          ],
          [
           "Die zweite Frau",
           "E. Marlitt",
           "Vormärz"
          ],
          [
           "Die zwölf Apostel",
           "E. Marlitt",
           "Vormärz"
          ],
          [
           "Goldelse",
           "E. Marlitt",
           "Vormärz"
          ],
          [
           "Im Schillingshof",
           "E. Marlitt",
           "Vormärz"
          ],
          [
           "Reichsgräfin Gisela",
           "E. Marlitt",
           "Vormärz"
          ],
          [
           "Schulmeisters Marie",
           "E. Marlitt",
           "Vormärz"
          ],
          [
           "Thüringer Erzählungen",
           "E. Marlitt",
           "Vormärz"
          ],
          [
           "Adlerflug",
           "E. Werner, eigentlich Elisabeth Bürstenbinder",
           "Realismus"
          ],
          [
           "Ein Gottesurteil",
           "E. Werner, eigentlich Elisabeth Bürstenbinder",
           "Realismus"
          ],
          [
           "Fata Morgana",
           "E. Werner, eigentlich Elisabeth Bürstenbinder",
           "Realismus"
          ],
          [
           "Gebannt und erlöst",
           "E. Werner, eigentlich Elisabeth Bürstenbinder",
           "Realismus"
          ],
          [
           "Gesprengte Fesseln/Verdächtig",
           "E. Werner, eigentlich Elisabeth Bürstenbinder",
           "Realismus"
          ],
          [
           "Glück auf!",
           "E. Werner, eigentlich Elisabeth Bürstenbinder",
           "Realismus"
          ],
          [
           "Hexengold",
           "E. Werner, eigentlich Elisabeth Bürstenbinder",
           "Realismus"
          ],
          [
           "Siegwart",
           "E. Werner, eigentlich Elisabeth Bürstenbinder",
           "Realismus"
          ],
          [
           "Briefe, die ihn nicht erreichten",
           "Elisabeth von Heyking",
           "Realismus"
          ],
          [
           "Das vollkommene Glück",
           "Elisabeth von Heyking",
           "Realismus"
          ],
          [
           "Der Tag Anderer",
           "Elisabeth von Heyking",
           "Realismus"
          ],
          [
           "Tschun",
           "Elisabeth von Heyking",
           "Realismus"
          ],
          [
           "Weberin Schuld",
           "Elisabeth von Heyking",
           "Realismus"
          ],
          [
           "Papillon",
           "Elise Polko",
           "Vormärz"
          ],
          [
           "Aus dem Elend",
           "Emerenz Meier",
           "Moderne"
          ],
          [
           "Der Brechelbrei",
           "Emerenz Meier",
           "Moderne"
          ],
          [
           "Der Juhschroa",
           "Emerenz Meier",
           "Moderne"
          ],
          [
           "Die Madlhüttler",
           "Emerenz Meier",
           "Moderne"
          ],
          [
           "Heckenrosen",
           "Emilie Giehrl",
           "Realismus"
          ],
          [
           "Auf Rother Erde",
           "Fanny Lewald",
           "Vormärz"
          ],
          [
           "Clementine",
           "Fanny Lewald",
           "Vormärz"
          ],
          [
           "Diogena",
           "Fanny Lewald",
           "Vormärz"
          ],
          [
           "Eine Lebensfrage",
           "Fanny Lewald",
           "Vormärz"
          ],
          [
           "Von Geschlecht zu Geschlecht",
           "Fanny Lewald",
           "Vormärz"
          ],
          [
           "Wandlungen. Erster Band",
           "Fanny Lewald",
           "Vormärz"
          ],
          [
           "Daniella",
           "Ferdinande von Brackel",
           "Realismus"
          ],
          [
           "Die Tochter des Kunstreiters",
           "Ferdinande von Brackel",
           "Realismus"
          ],
          [
           "Kinder der Liebe",
           "Frances Külpe",
           "Realismus"
          ],
          [
           "Rote Tage",
           "Frances Külpe",
           "Realismus"
          ],
          [
           "Aus Nacht zum Licht",
           "Frida von Kronoff",
           "Realismus"
          ],
          [
           "Albert und Albertine",
           "Friederike Helene Unger",
           "Kunstepoche"
          ],
          [
           "Bekenntnisse einer schönen Seele",
           "Friederike Helene Unger",
           "Kunstepoche"
          ],
          [
           "Julchen Grünthal",
           "Friederike Helene Unger",
           "Kunstepoche"
          ],
          [
           "Amey",
           "Friederike Henriette Kraze",
           "Realismus"
          ],
          [
           "Jahr der Wandlung",
           "Friederike Henriette Kraze",
           "Realismus"
          ],
          [
           "Maria am Meer",
           "Friederike Henriette Kraze",
           "Realismus"
          ],
          [
           "Die Intellektuellen",
           "Grete Meisel-Heß",
           "Moderne"
          ],
          [
           "Christa Ruland",
           "Hedwig Dohm",
           "Moderne"
          ],
          [
           "Schicksale einer Seele",
           "Hedwig Dohm",
           "Moderne"
          ],
          [
           "Sibilla Dalmar",
           "Hedwig Dohm",
           "Moderne"
          ],
          [
           "Werde, die Du bist!",
           "Hedwig Dohm",
           "Moderne"
          ],
          [
           "Wie Frauen werden",
           "Hedwig Dohm",
           "Moderne"
          ],
          [
           "Flitter und Schein",
           "Hedwig Dransfeld",
           "Moderne"
          ],
          [
           "Frau Doktor Breuer",
           "Helene von Mühlau, eigentlich Hedwig von Mühlenfels, geb. Rathgeber",
           "Moderne"
          ],
          [
           "Erzählungen. Aus den Papieren der Herzogin von Nottingham",
           "Henriette von Paalzow",
           "Kunstepoche"
          ],
          [
           "Godwie-Castle",
           "Henriette von Paalzow",
           "Kunstepoche"
          ],
          [
           "Ste. Roche",
           "Henriette von Paalzow",
           "Kunstepoche"
          ],
          [
           "Aus dem Badener Land",
           "Hermine Villinger",
           "Realismus"
          ],
          [
           "Aus meiner Heimat",
           "Hermine Villinger",
           "Realismus"
          ],
          [
           "Annas Ehe",
           "Ida Boy-Ed",
           "Realismus"
          ],
          [
           "Die Opferschale",
           "Ida Boy-Ed",
           "Realismus"
          ],
          [
           "Ein königlicher Kaufmann",
           "Ida Boy-Ed",
           "Realismus"
          ],
          [
           "Empor!",
           "Ida Boy-Ed",
           "Realismus"
          ],
          [
           "Fanny Förster",
           "Ida Boy-Ed",
           "Realismus"
          ],
          [
           "Um ein Weib",
           "Ida Boy-Ed",
           "Realismus"
          ],
          [
           "Vor der Ehe",
           "Ida Boy-Ed",
           "Realismus"
          ],
          [
           "Zwei Männer",
           "Ida Boy-Ed",
           "Realismus"
          ],
          [
           "Gräfin Faustine",
           "Ida Hahn-Hahn",
           "Kunstepoche"
          ],
          [
           "Maria Regina - Band 1",
           "Ida Hahn-Hahn",
           "Kunstepoche"
          ],
          [
           "Maria Regina - Band 2",
           "Ida Hahn-Hahn",
           "Kunstepoche"
          ],
          [
           "Sibylle",
           "Ida Hahn-Hahn",
           "Kunstepoche"
          ],
          [
           "Arbeit",
           "Ilse Frapan",
           "Realismus"
          ],
          [
           "Querköpfe",
           "Ilse Frapan",
           "Realismus"
          ],
          [
           "Schreie. Novellen und Skizzen",
           "Ilse Frapan",
           "Realismus"
          ],
          [
           "Was der Alltag dichtet",
           "Ilse Frapan",
           "Realismus"
          ],
          [
           "Wir Frauen haben kein Vaterland",
           "Ilse Frapan",
           "Realismus"
          ],
          [
           "Zu Wasser und zu Lande",
           "Ilse Frapan",
           "Realismus"
          ],
          [
           "Zwischen Elbe und Alster",
           "Ilse Frapan",
           "Realismus"
          ],
          [
           "Guten Abend!",
           "Isabella Braun",
           "Vormärz"
          ],
          [
           "Erzählungen",
           "Johanna Kinkel",
           "Kunstepoche"
          ],
          [
           "Die Tante",
           "Johanna Schopenhauer",
           "Kunstepoche"
          ],
          [
           "Erzählungen",
           "Johanna Schopenhauer",
           "Kunstepoche"
          ],
          [
           "Gabriele",
           "Johanna Schopenhauer",
           "Kunstepoche"
          ],
          [
           "Leontine und Natalie",
           "Johanna Schopenhauer",
           "Kunstepoche"
          ],
          [
           "Richard Wood",
           "Johanna Schopenhauer",
           "Kunstepoche"
          ],
          [
           "Heidi kann brauchen, was es gelernt hat",
           "Johanna Spyri",
           "Vormärz"
          ],
          [
           "Heidis Lehr- und Wanderjahre",
           "Johanna Spyri",
           "Vormärz"
          ],
          [
           "Sina",
           "Johanna Spyri",
           "Vormärz"
          ],
          [
           "Die Rumplhanni",
           "Lena Christ",
           "Moderne"
          ],
          [
           "Lausdirndlgeschichten",
           "Lena Christ",
           "Moderne"
          ],
          [
           "Madam Bäurin",
           "Lena Christ",
           "Moderne"
          ],
          [
           "Mathias Bichler",
           "Lena Christ",
           "Moderne"
          ],
          [
           "Lebenssucher",
           "Lily Braun",
           "Realismus"
          ],
          [
           "Das Haus",
           "Lou Andreas-Salomé",
           "Realismus"
          ],
          [
           "Fenitschka / Eine Ausschweifung",
           "Lou Andreas-Salomé",
           "Realismus"
          ],
          [
           "Ruth",
           "Lou Andreas-Salomé",
           "Realismus"
          ],
          [
           "Aus dem Leben einer Frau",
           "Louise Aston",
           "Vormärz"
          ],
          [
           "Lydia",
           "Louise Aston",
           "Vormärz"
          ],
          [
           "Revolution und Contrerevolution",
           "Louise Aston",
           "Vormärz"
          ],
          [
           "Ausgewählte Novellen. Erster Band",
           "Louise von François",
           "Vormärz"
          ],
          [
           "Ausgewählte Novellen. Zweiter Band",
           "Louise von François",
           "Vormärz"
          ],
          [
           "Der Katzenjunker",
           "Louise von François",
           "Vormärz"
          ],
          [
           "Der Posten der Frau",
           "Louise von François",
           "Vormärz"
          ],
          [
           "Die Geschichte meines Urgroßvaters",
           "Louise von François",
           "Vormärz"
          ],
          [
           "Erzählungen",
           "Louise von François",
           "Vormärz"
          ],
          [
           "Hellstädt und andere Erzählungen",
           "Louise von François",
           "Vormärz"
          ],
          [
           "Judith, die Kluswirtin",
           "Louise von François",
           "Vormärz"
          ],
          [
           "Natur und Gnade nebst anderen Erzählungen",
           "Louise von François",
           "Vormärz"
          ],
          [
           "Phosphorus Hollunder",
           "Louise von François",
           "Vormärz"
          ],
          [
           "Stufenjahre eines Glücklichen",
           "Louise von François",
           "Vormärz"
          ],
          [
           "Der panische Schrecken",
           "Luise Glaß",
           "Realismus"
          ],
          [
           "Nach der Hochzeit",
           "Luise Mühlbach",
           "Vormärz"
          ],
          [
           "Der Major",
           "Luise Reinhardt",
           "Kunstepoche"
          ],
          [
           "Novellen. Dritter Band",
           "Luise Reinhardt",
           "Kunstepoche"
          ],
          [
           "Novellen. Erster Band",
           "Luise Reinhardt",
           "Kunstepoche"
          ],
          [
           "Novellen. Vierter Band",
           "Luise Reinhardt",
           "Kunstepoche"
          ],
          [
           "Novellen. Zweiter Band",
           "Luise Reinhardt",
           "Kunstepoche"
          ],
          [
           "Der neue Kreuzritter",
           "Luise von Gall",
           "Vormärz"
          ],
          [
           "Frauenleben. Erster Theil",
           "Luise von Gall",
           "Vormärz"
          ],
          [
           "Gegen den Strom. Erster Band",
           "Luise von Gall",
           "Vormärz"
          ],
          [
           "Der heilige Michael",
           "Malwida von Meysenbug",
           "Vormärz"
          ],
          [
           "Der Pfad der Äbtissin",
           "Malwida von Meysenbug",
           "Vormärz"
          ],
          [
           "Himmlische und irdische Liebe",
           "Malwida von Meysenbug",
           "Vormärz"
          ],
          [
           "Unerfüllt",
           "Malwida von Meysenbug",
           "Vormärz"
          ],
          [
           "Zu spät",
           "Malwida von Meysenbug",
           "Vormärz"
          ],
          [
           "Atlas",
           "Maria Janitschek",
           "Realismus"
          ],
          [
           "Der rote Teufel",
           "Maria Janitschek",
           "Realismus"
          ],
          [
           "Despotische Liebe",
           "Maria Janitschek",
           "Realismus"
          ],
          [
           "Die Amazonenschlacht",
           "Maria Janitschek",
           "Realismus"
          ],
          [
           "Die neue Eva",
           "Maria Janitschek",
           "Realismus"
          ],
          [
           "Es geistert",
           "Maria Janitschek",
           "Realismus"
          ],
          [
           "Frauenkraft",
           "Maria Janitschek",
           "Realismus"
          ],
          [
           "Klare Rechnung",
           "Maria Janitschek",
           "Realismus"
          ],
          [
           "Kreuzfahrer",
           "Maria Janitschek",
           "Realismus"
          ],
          [
           "Lilienzauber",
           "Maria Janitschek",
           "Realismus"
          ],
          [
           "Ninive",
           "Maria Janitschek",
           "Realismus"
          ],
          [
           "Poverino",
           "Maria Janitschek",
           "Realismus"
          ],
          [
           "Das Buch der Liebe",
           "Marie Eugenie Delle Grazie",
           "Realismus"
          ],
          [
           "Heilige und Menschen",
           "Marie Eugenie Delle Grazie",
           "Realismus"
          ],
          [
           "Wunder der Seele",
           "Marie Eugenie Delle Grazie",
           "Realismus"
          ],
          [
           "Dorf- und Stadtgeschichten",
           "Marie Nathusius",
           "Vormärz"
          ],
          [
           "Agave",
           "Marie von Ebner-Eschenbach",
           "Vormärz"
          ],
          [
           "Bozena",
           "Marie von Ebner-Eschenbach",
           "Vormärz"
          ],
          [
           "Das Gemeindekind",
           "Marie von Ebner-Eschenbach",
           "Vormärz"
          ],
          [
           "Das Schädliche",
           "Marie von Ebner-Eschenbach",
           "Vormärz"
          ],
          [
           "Der gute Mond",
           "Marie von Ebner-Eschenbach",
           "Vormärz"
          ],
          [
           "Der Herr Hofrat",
           "Marie von Ebner-Eschenbach",
           "Vormärz"
          ],
          [
           "Der Kreisphysikus",
           "Marie von Ebner-Eschenbach",
           "Vormärz"
          ],
          [
           "Der Vorzugsschüler",
           "Marie von Ebner-Eschenbach",
           "Vormärz"
          ],
          [
           "Die Freiherren von Gemperlein",
           "Marie von Ebner-Eschenbach",
           "Vormärz"
          ],
          [
           "Die Poesie des Unbewussten",
           "Marie von Ebner-Eschenbach",
           "Vormärz"
          ],
          [
           "Die schönsten Erzählungen",
           "Marie von Ebner-Eschenbach",
           "Vormärz"
          ],
          [
           "Ein kleiner Roman",
           "Marie von Ebner-Eschenbach",
           "Vormärz"
          ],
          [
           "Ein Spätgeborner",
           "Marie von Ebner-Eschenbach",
           "Vormärz"
          ],
          [
           "Er laßt die Hand küssen",
           "Marie von Ebner-Eschenbach",
           "Vormärz"
          ],
          [
           "Erzählungen, Autobiographisches",
           "Marie von Ebner-Eschenbach",
           "Vormärz"
          ],
          [
           "Ihr Traum",
           "Marie von Ebner-Eschenbach",
           "Vormärz"
          ],
          [
           "Krambambuli",
           "Marie von Ebner-Eschenbach",
           "Vormärz"
          ],
          [
           "Lotti, die Uhrmacherin",
           "Marie von Ebner-Eschenbach",
           "Vormärz"
          ],
          [
           "Maslans Frau",
           "Marie von Ebner-Eschenbach",
           "Vormärz"
          ],
          [
           "Nach dem Tode",
           "Marie von Ebner-Eschenbach",
           "Vormärz"
          ],
          [
           "Unsühnbar",
           "Marie von Ebner-Eschenbach",
           "Vormärz"
          ],
          [
           "Eigenthum",
           "Marie von Olfers",
           "Vormärz"
          ],
          [
           "Frost in Blüthen",
           "Marie von Olfers",
           "Vormärz"
          ],
          [
           "Jungfer Modeste",
           "Marie von Olfers",
           "Vormärz"
          ],
          [
           "Ob er wohl Fiekchen heirathen kann?",
           "Marie von Olfers",
           "Vormärz"
          ],
          [
           "Mein Weg zur Kunst",
           "Monika Hunnius",
           "Realismus"
          ],
          [
           "Der Rosenkavalier",
           "Ossip Schubin, eigentlich Lola Kirschner",
           "Realismus"
          ],
          [
           "Es fiel ein Reif in der Frühlingsnacht",
           "Ossip Schubin, eigentlich Lola Kirschner",
           "Realismus"
          ],
          [
           "Gräfin Erikas Lehr- und Wanderjahre",
           "Ossip Schubin, eigentlich Lola Kirschner",
           "Realismus"
          ],
          [
           "Marška",
           "Ossip Schubin, eigentlich Lola Kirschner",
           "Realismus"
          ],
          [
           "Maximum",
           "Ossip Schubin, eigentlich Lola Kirschner",
           "Realismus"
          ],
          [
           "Peterl",
           "Ossip Schubin, eigentlich Lola Kirschner",
           "Realismus"
          ],
          [
           "Schatten",
           "Ossip Schubin, eigentlich Lola Kirschner",
           "Realismus"
          ],
          [
           "Aus dem Frauenleben",
           "Ottilie Wildermuth",
           "Vormärz"
          ],
          [
           "Bilder und Geschichten aus Schwaben",
           "Ottilie Wildermuth",
           "Vormärz"
          ],
          [
           "Cherubino und Zephirine",
           "Ottilie Wildermuth",
           "Vormärz"
          ],
          [
           "Das Bäumlein im Walde",
           "Ottilie Wildermuth",
           "Vormärz"
          ],
          [
           "Das Feental",
           "Ottilie Wildermuth",
           "Vormärz"
          ],
          [
           "Der Peterli von Emmental",
           "Ottilie Wildermuth",
           "Vormärz"
          ],
          [
           "Die alte Freundin",
           "Ottilie Wildermuth",
           "Vormärz"
          ],
          [
           "Die Lehrjahre der zwei Schwestern",
           "Ottilie Wildermuth",
           "Vormärz"
          ],
          [
           "Die Verschmähte",
           "Ottilie Wildermuth",
           "Vormärz"
          ],
          [
           "Ein Herbsttag bei Weinsberg",
           "Ottilie Wildermuth",
           "Vormärz"
          ],
          [
           "Ein sonnenloses Leben",
           "Ottilie Wildermuth",
           "Vormärz"
          ],
          [
           "Eine Königin",
           "Ottilie Wildermuth",
           "Vormärz"
          ],
          [
           "Frau Luna",
           "Ottilie Wildermuth",
           "Vormärz"
          ],
          [
           "Jugendgabe",
           "Ottilie Wildermuth",
           "Vormärz"
          ],
          [
           "Krieg und Frieden",
           "Ottilie Wildermuth",
           "Vormärz"
          ],
          [
           "Mädchenbriefe",
           "Ottilie Wildermuth",
           "Vormärz"
          ],
          [
           "Morgen, Mittag und Abend",
           "Ottilie Wildermuth",
           "Vormärz"
          ],
          [
           "Perlen aus dem Sande",
           "Ottilie Wildermuth",
           "Vormärz"
          ],
          [
           "Todte Treue",
           "Ottilie Wildermuth",
           "Vormärz"
          ],
          [
           "Unabhängigkeit",
           "Ottilie Wildermuth",
           "Vormärz"
          ],
          [
           "Das höfliche Gespenst",
           "Sophie Albrecht",
           "Kunstepoche"
          ],
          [
           "Amanda und Eduard",
           "Sophie Mereau",
           "Kunstepoche"
          ],
          [
           "Das Blüthenalter der Empfindung",
           "Sophie Mereau",
           "Kunstepoche"
          ],
          [
           "Marie",
           "Sophie Mereau",
           "Kunstepoche"
          ],
          [
           "Evremont",
           "Sophie Tieck",
           "Kunstepoche"
          ],
          [
           "Wunderbilder und Träume",
           "Sophie Tieck",
           "Kunstepoche"
          ],
          [
           "Erscheinungen am See Oneida",
           "Sophie von La Roche",
           "Kunstepoche"
          ],
          [
           "Geschichte des Fräuleins von Sternheim",
           "Sophie von La Roche",
           "Kunstepoche"
          ],
          [
           "Moralische Erzählungen",
           "Sophie von La Roche",
           "Kunstepoche"
          ],
          [
           "Rosalie und Cleberg auf dem Lande",
           "Sophie von La Roche",
           "Kunstepoche"
          ],
          [
           "Rosaliens Briefe an ihre Freundin Mariane von St**",
           "Sophie von La Roche",
           "Kunstepoche"
          ],
          [
           "Onnen Visser - Der Schmugglersohn von Norderney",
           "Sophie Wörishöffer",
           "Realismus"
          ],
          [
           "Robert der Schiffsjunge",
           "Sophie Wörishöffer",
           "Realismus"
          ],
          [
           "Robert des Schiffsjungen Fahrten und Abenteuer auf der deutschen Handels- und Kriegsflotte",
           "Sophie Wörishöffer",
           "Realismus"
          ],
          [
           "Des Achmüllers Recht",
           "Therese Winkler",
           "Vormärz"
          ],
          [
           "Das Veferl vom Eibsee",
           "Tony Schumacher",
           "Realismus"
          ],
          [
           "Heimatzauber",
           "Tony Schumacher",
           "Realismus"
          ],
          [
           "Li und Lu und andere Erzählungen für die Jugend",
           "Tony Schumacher",
           "Realismus"
          ],
          [
           "Schwatzliesel und andere Erzählungen",
           "Tony Schumacher",
           "Realismus"
          ]
         ],
         "hovertemplate": "gender=f<br>Dim 1=%{x}<br>Dim 2=%{y}<br>title=%{customdata[0]}<br>author=%{customdata[1]}<br>period=%{customdata[2]}<extra></extra>",
         "legendgroup": "f",
         "marker": {
          "color": "#9d95b0",
          "symbol": "circle"
         },
         "mode": "markers",
         "name": "f",
         "showlegend": true,
         "type": "scattergl",
         "x": [
          -27.971424102783203,
          -7.181646823883057,
          -23.60650634765625,
          34.37049865722656,
          -25.425931930541992,
          -24.430461883544922,
          -17.3472957611084,
          -17.414674758911133,
          -19.3043155670166,
          -47.454227447509766,
          7.177994728088379,
          7.771994113922119,
          6.807796478271484,
          8.258950233459473,
          -16.273210525512695,
          6.669464111328125,
          -58.390254974365234,
          -57.687713623046875,
          -46.40008544921875,
          -28.240236282348633,
          -47.34893035888672,
          56.57020950317383,
          81.91498565673828,
          77.90737915039062,
          72.30538940429688,
          38.290584564208984,
          77.02649688720703,
          79.0318374633789,
          75.30884552001953,
          60.91423797607422,
          38.02569580078125,
          69.20063018798828,
          56.81037139892578,
          -22.506298065185547,
          45.187374114990234,
          56.722496032714844,
          51.63678741455078,
          -54.723976135253906,
          90.1881332397461,
          -17.729576110839844,
          -17.617055892944336,
          -66.01956939697266,
          0.6584755778312683,
          32.87751770019531,
          -32.942420959472656,
          41.150177001953125,
          63.55258560180664,
          83.25227355957031,
          64.05121612548828,
          87.78915405273438,
          -48.14899444580078,
          -37.944541931152344,
          -61.89491271972656,
          -28.923294067382812,
          -34.92152786254883,
          -67.88048553466797,
          -67.85566711425781,
          -42.535003662109375,
          -37.43256759643555,
          -38.71415328979492,
          -57.91768264770508,
          -29.6422176361084,
          -39.25495529174805,
          -29.314756393432617,
          52.03704071044922,
          60.3250617980957,
          52.60916519165039,
          -51.34834289550781,
          -34.84164047241211,
          -29.507034301757812,
          -37.816707611083984,
          -56.25068664550781,
          59.20063781738281,
          18.236669540405273,
          57.77035140991211,
          50.304847717285156,
          17.050140380859375,
          56.046630859375,
          62.46076583862305,
          -29.667707443237305,
          -40.80848693847656,
          -50.246490478515625,
          46.723201751708984,
          49.75046157836914,
          50.79837417602539,
          79.22054290771484,
          50.29973602294922,
          2.9796087741851807,
          -69.14269256591797,
          25.273067474365234,
          48.96685028076172,
          19.231319427490234,
          -59.74701690673828,
          -50.64595031738281,
          -12.50472640991211,
          43.96261215209961,
          -55.93363952636719,
          64.83613586425781,
          -52.836952209472656,
          -52.83988571166992,
          -12.062281608581543,
          68.99947357177734,
          -36.74813461303711,
          24.581422805786133,
          -24.444164276123047,
          -24.04197883605957,
          -56.57413101196289,
          -56.65413284301758,
          -33.39132308959961,
          -56.32405471801758,
          -56.03418731689453,
          65.84878540039062,
          -55.2557373046875,
          -37.26028823852539,
          -37.84468078613281,
          64.49864196777344,
          -36.297325134277344,
          7.370314121246338,
          -27.017436981201172,
          -41.31723403930664,
          -42.27591323852539,
          -48.491939544677734,
          -47.640018463134766,
          -45.916351318359375,
          -46.40446090698242,
          -17.780563354492188,
          57.92790985107422,
          -8.274003028869629,
          -73.72933959960938,
          38.78087615966797,
          68.37005615234375,
          63.11710739135742,
          54.79874038696289,
          54.32369613647461,
          55.31707000732422,
          34.149658203125,
          13.446737289428711,
          14.699379920959473,
          35.854774475097656,
          -45.224979400634766,
          -20.474380493164062,
          -72.39544677734375,
          -22.17837905883789,
          -47.8420295715332,
          -39.44348907470703,
          -33.0810661315918,
          62.21819305419922,
          -13.176803588867188,
          -21.293180465698242,
          -22.423213958740234,
          -55.04502868652344,
          -17.653085708618164,
          -24.949567794799805,
          -53.84729766845703,
          -44.87921142578125,
          -37.69391632080078,
          -38.17987823486328,
          49.59400939941406,
          34.490760803222656,
          -8.585264205932617,
          -53.23543930053711,
          -12.763810157775879,
          47.9903450012207,
          -23.593748092651367,
          -4.388715744018555,
          -32.08103561401367,
          -46.97629928588867,
          -55.52608871459961,
          -56.014835357666016,
          -29.13941192626953,
          -58.475955963134766,
          -59.91460037231445,
          -53.53202438354492,
          -52.451087951660156,
          -45.08565902709961,
          -44.27764129638672,
          -44.11286544799805,
          -28.275360107421875,
          -57.161476135253906,
          -23.780759811401367,
          -30.863685607910156,
          -67.03762817382812,
          47.37882614135742,
          2.4080324172973633,
          -23.11736297607422,
          15.17904281616211,
          -58.237125396728516,
          -46.4384651184082,
          -14.757410049438477,
          -37.260498046875,
          9.923307418823242,
          -46.70110321044922,
          -19.17880630493164,
          -46.387779235839844,
          -26.874197006225586,
          -22.871295928955078,
          45.69599151611328,
          17.24314308166504,
          -43.72119140625,
          -43.155696868896484,
          -47.89411163330078,
          16.254085540771484,
          -46.815574645996094,
          61.75028610229492,
          -13.901433944702148,
          -60.8607292175293,
          -59.25611877441406,
          -59.05678176879883,
          -5.436432361602783,
          66.82618713378906,
          31.03078842163086,
          -43.212589263916016,
          -29.45699691772461,
          -59.19519805908203,
          -29.100000381469727,
          78.69983673095703,
          -28.98493003845215,
          -50.35643768310547,
          -1.6328980922698975,
          -43.715484619140625,
          11.523218154907227,
          -23.282190322875977,
          -13.778573036193848,
          11.467259407043457,
          -3.002232313156128,
          -47.003814697265625,
          -2.7557435035705566,
          59.01017761230469,
          89.6341552734375,
          -8.17569351196289,
          9.710250854492188,
          62.967926025390625,
          73.99055480957031,
          -17.9571475982666,
          76.93714904785156,
          67.63047790527344,
          68.77348327636719,
          61.117881774902344,
          -7.342981338500977,
          72.707763671875,
          71.31301879882812,
          68.77314758300781,
          -6.331672191619873,
          53.21806335449219,
          -69.69417572021484,
          -44.35377502441406,
          -62.56153869628906,
          -7.374138832092285,
          -18.216751098632812,
          -58.030338287353516,
          -72.88920593261719,
          52.385494232177734,
          62.661834716796875,
          78.10151672363281,
          64.41863250732422,
          79.99624633789062,
          79.79686737060547,
          37.87932586669922,
          -56.81388473510742,
          37.32233428955078,
          81.16543579101562,
          69.07144927978516,
          -21.531763076782227,
          63.92306137084961,
          63.893035888671875,
          10.291089057922363,
          77.57425689697266,
          57.596073150634766,
          -58.10883712768555,
          73.42740631103516,
          37.00929641723633,
          60.807212829589844,
          73.00192260742188,
          -28.65336799621582,
          -4.092886447906494,
          59.254676818847656,
          -39.975341796875,
          42.96184539794922,
          -39.64927291870117,
          57.37874984741211,
          36.82627868652344,
          2.496039628982544,
          -76.9173355102539,
          81.4681167602539,
          58.126094818115234,
          72.21885681152344,
          79.09420776367188,
          -76.48406982421875,
          62.763912200927734,
          77.87301635742188,
          79.33781433105469,
          65.18472290039062,
          77.60529327392578,
          81.62572479248047,
          -50.07746887207031,
          71.4769515991211,
          47.43364715576172,
          52.908634185791016,
          -44.30820083618164,
          64.67119598388672,
          50.86354064941406,
          75.62434387207031,
          -17.13452911376953,
          61.537269592285156,
          81.34552764892578,
          -23.341379165649414,
          -35.1645622253418,
          -29.940378189086914,
          -29.76335906982422,
          -59.386268615722656,
          -59.376319885253906,
          -17.293041229248047,
          -28.785799026489258,
          -30.40125846862793,
          -29.903030395507812,
          25.30146026611328,
          18.381637573242188,
          -45.175052642822266,
          -45.1209602355957,
          63.04151916503906
         ],
         "xaxis": "x",
         "y": [
          -26.26637840270996,
          -41.45111083984375,
          -35.14206314086914,
          -63.902442932128906,
          -48.508644104003906,
          -33.175628662109375,
          36.82428741455078,
          37.95301818847656,
          37.4696044921875,
          -26.00822639465332,
          -57.13127136230469,
          -62.69499588012695,
          -62.885353088378906,
          -62.80396270751953,
          -82.2504653930664,
          -50.68922805786133,
          -56.35448455810547,
          -56.537471771240234,
          -61.8370475769043,
          -44.161617279052734,
          -7.88026237487793,
          -42.108665466308594,
          -17.8935604095459,
          -10.091076850891113,
          46.0227165222168,
          -49.038936614990234,
          -1.4642953872680664,
          -1.5792113542556763,
          50.71446228027344,
          -49.32638931274414,
          -42.515869140625,
          48.01477813720703,
          74.96502685546875,
          -72.90776824951172,
          78.06973266601562,
          77.30980682373047,
          81.4404067993164,
          17.67276954650879,
          -20.6251277923584,
          97.27989196777344,
          97.63463592529297,
          -2.3218135833740234,
          -67.72889709472656,
          -41.183265686035156,
          -48.926639556884766,
          -50.95075607299805,
          31.935394287109375,
          -19.53516960144043,
          -27.941221237182617,
          9.225828170776367,
          -13.307154655456543,
          14.042163848876953,
          -41.25981903076172,
          25.172218322753906,
          60.22105407714844,
          25.619550704956055,
          24.070951461791992,
          -12.654850006103516,
          -3.0956592559814453,
          -5.504323959350586,
          -1.510290265083313,
          -45.305850982666016,
          -4.993151664733887,
          46.631099700927734,
          62.20610427856445,
          6.896355152130127,
          59.82255172729492,
          22.23882293701172,
          4.06939172744751,
          52.87654495239258,
          -7.331297397613525,
          -6.987522125244141,
          8.818572044372559,
          -42.75944519042969,
          7.345747470855713,
          64.57391357421875,
          -43.43146896362305,
          62.52712631225586,
          11.666589736938477,
          51.4642219543457,
          0.0731232613325119,
          17.790700912475586,
          -25.534500122070312,
          69.21405029296875,
          72.34735107421875,
          -5.517342567443848,
          71.35236358642578,
          -49.75062942504883,
          -12.437784194946289,
          -51.00249099731445,
          -25.023435592651367,
          -43.475948333740234,
          -19.350547790527344,
          16.923471450805664,
          -62.73412322998047,
          -40.79341125488281,
          -23.846559524536133,
          -35.26396560668945,
          -14.88170051574707,
          -14.880574226379395,
          -58.497711181640625,
          -23.041202545166016,
          80.77559661865234,
          -73.02054595947266,
          -34.96510314941406,
          -35.73501205444336,
          41.65632247924805,
          41.94656753540039,
          47.62081527709961,
          46.18027877807617,
          45.50078201293945,
          -35.95143127441406,
          43.451263427734375,
          78.31890106201172,
          77.67317199707031,
          -29.585433959960938,
          79.42304229736328,
          -71.69377899169922,
          -57.77735137939453,
          47.728057861328125,
          48.06193542480469,
          38.14964294433594,
          38.436710357666016,
          36.77035140991211,
          35.95207977294922,
          -51.95579528808594,
          -41.2894287109375,
          -68.56795501708984,
          -25.8226318359375,
          -74.3060302734375,
          -31.610754013061523,
          -43.232337951660156,
          83.51233673095703,
          83.00688171386719,
          83.34117126464844,
          -61.60741424560547,
          -75.57601928710938,
          -50.15401840209961,
          -52.90859603881836,
          20.5935001373291,
          114.05753326416016,
          -9.08750057220459,
          79.82390594482422,
          27.362937927246094,
          33.12295150756836,
          -42.65971374511719,
          61.44614028930664,
          -61.99522399902344,
          -52.80524826049805,
          -36.76591491699219,
          41.043880462646484,
          -50.154415130615234,
          -74.43278503417969,
          42.76209259033203,
          -15.196845054626465,
          0.13542020320892334,
          -0.7115194797515869,
          -18.791536331176758,
          -41.1857795715332,
          -69.61367797851562,
          -1.6090433597564697,
          -44.86663055419922,
          91.96361541748047,
          101.23512268066406,
          -64.1008071899414,
          -67.28684997558594,
          -15.306632995605469,
          18.59783935546875,
          19.11082649230957,
          -38.12192153930664,
          -14.113441467285156,
          9.753722190856934,
          -1.962949275970459,
          -3.117640256881714,
          -5.069857120513916,
          55.16366958618164,
          55.06633377075195,
          26.743648529052734,
          -0.824718713760376,
          -72.0845947265625,
          -45.92942810058594,
          -2.5233654975891113,
          -19.540603637695312,
          -61.34225845336914,
          -72.70267486572266,
          -72.90187072753906,
          47.19473648071289,
          43.96542739868164,
          -64.39161682128906,
          59.78339385986328,
          -57.34880065917969,
          43.902713775634766,
          -75.65512084960938,
          -61.87301254272461,
          -47.343116760253906,
          -81.95542907714844,
          -23.995607376098633,
          -74.15101623535156,
          -35.2900390625,
          58.465049743652344,
          -18.52875328063965,
          -47.66111755371094,
          -10.094461441040039,
          -52.49412536621094,
          -58.39753341674805,
          -5.165009498596191,
          -56.60166549682617,
          -54.95546340942383,
          -84.52448272705078,
          -37.26357650756836,
          -65.2745361328125,
          56.29133605957031,
          80.82453155517578,
          -54.78986358642578,
          83.72201538085938,
          0.8450337648391724,
          84.23443603515625,
          -11.019003868103027,
          -52.35104751586914,
          -18.178142547607422,
          -65.86321258544922,
          -58.25883102416992,
          -60.97813034057617,
          -65.93399810791016,
          -51.779422760009766,
          6.413174629211426,
          -50.9826545715332,
          36.44746017456055,
          -22.384679794311523,
          -67.83280944824219,
          -58.480037689208984,
          -33.36042404174805,
          17.904438018798828,
          -65.91895294189453,
          -5.938287258148193,
          -25.533985137939453,
          -26.03461265563965,
          50.47465896606445,
          -52.62263107299805,
          43.08392333984375,
          -27.10446548461914,
          -24.11190414428711,
          -51.22633743286133,
          73.59921264648438,
          10.14688777923584,
          57.659603118896484,
          25.52251434326172,
          61.645999908447266,
          -66.90626525878906,
          -16.723947525024414,
          -5.426591873168945,
          -12.267496109008789,
          33.30641555786133,
          -3.219470977783203,
          -47.66134262084961,
          4.177499771118164,
          -13.273767471313477,
          84.15412902832031,
          -1.9066400527954102,
          -48.728309631347656,
          -19.76999282836914,
          50.42523956298828,
          110.59439086914062,
          29.654096603393555,
          61.26105499267578,
          -51.20289611816406,
          16.710369110107422,
          -43.78966522216797,
          -17.233251571655273,
          -12.876568794250488,
          -37.72053146362305,
          5.757972240447998,
          -13.705041885375977,
          27.362037658691406,
          -60.170528411865234,
          -35.473331451416016,
          57.811676025390625,
          -69.33930969238281,
          -13.639832496643066,
          -45.214595794677734,
          -49.18190002441406,
          -67.79745483398438,
          25.162084579467773,
          -1.6039016246795654,
          64.7060546875,
          60.24692153930664,
          4.463283061981201,
          25.232330322265625,
          -37.86614990234375,
          -4.104127407073975,
          19.01044464111328,
          -27.188304901123047,
          -4.833240509033203,
          -1.7772659063339233,
          -9.767943382263184,
          52.2904167175293,
          -23.982894897460938,
          -36.65481185913086,
          25.2282657623291,
          -30.094057083129883,
          -22.175960540771484,
          -1.8669716119766235,
          -44.597904205322266,
          0.4344806969165802,
          20.61252212524414,
          102.4995346069336,
          -36.78089141845703,
          22.729158401489258,
          23.152952194213867,
          15.05807876586914,
          14.894384384155273,
          95.82135009765625,
          99.40803527832031,
          97.97916412353516,
          98.6746597290039,
          -77.94237518310547,
          -72.68452453613281,
          -55.93124008178711,
          -56.38201141357422,
          -27.966228485107422
         ],
         "yaxis": "y"
        }
       ],
       "layout": {
        "height": 750,
        "legend": {
         "title": {
          "text": "gender"
         },
         "tracegroupgap": 0
        },
        "paper_bgcolor": "#feba67",
        "plot_bgcolor": "#ffbb91",
        "template": {
         "data": {
          "bar": [
           {
            "error_x": {
             "color": "#2a3f5f"
            },
            "error_y": {
             "color": "#2a3f5f"
            },
            "marker": {
             "line": {
              "color": "#E5ECF6",
              "width": 0.5
             },
             "pattern": {
              "fillmode": "overlay",
              "size": 10,
              "solidity": 0.2
             }
            },
            "type": "bar"
           }
          ],
          "barpolar": [
           {
            "marker": {
             "line": {
              "color": "#E5ECF6",
              "width": 0.5
             },
             "pattern": {
              "fillmode": "overlay",
              "size": 10,
              "solidity": 0.2
             }
            },
            "type": "barpolar"
           }
          ],
          "carpet": [
           {
            "aaxis": {
             "endlinecolor": "#2a3f5f",
             "gridcolor": "white",
             "linecolor": "white",
             "minorgridcolor": "white",
             "startlinecolor": "#2a3f5f"
            },
            "baxis": {
             "endlinecolor": "#2a3f5f",
             "gridcolor": "white",
             "linecolor": "white",
             "minorgridcolor": "white",
             "startlinecolor": "#2a3f5f"
            },
            "type": "carpet"
           }
          ],
          "choropleth": [
           {
            "colorbar": {
             "outlinewidth": 0,
             "ticks": ""
            },
            "type": "choropleth"
           }
          ],
          "contour": [
           {
            "colorbar": {
             "outlinewidth": 0,
             "ticks": ""
            },
            "colorscale": [
             [
              0,
              "#0d0887"
             ],
             [
              0.1111111111111111,
              "#46039f"
             ],
             [
              0.2222222222222222,
              "#7201a8"
             ],
             [
              0.3333333333333333,
              "#9c179e"
             ],
             [
              0.4444444444444444,
              "#bd3786"
             ],
             [
              0.5555555555555556,
              "#d8576b"
             ],
             [
              0.6666666666666666,
              "#ed7953"
             ],
             [
              0.7777777777777778,
              "#fb9f3a"
             ],
             [
              0.8888888888888888,
              "#fdca26"
             ],
             [
              1,
              "#f0f921"
             ]
            ],
            "type": "contour"
           }
          ],
          "contourcarpet": [
           {
            "colorbar": {
             "outlinewidth": 0,
             "ticks": ""
            },
            "type": "contourcarpet"
           }
          ],
          "heatmap": [
           {
            "colorbar": {
             "outlinewidth": 0,
             "ticks": ""
            },
            "colorscale": [
             [
              0,
              "#0d0887"
             ],
             [
              0.1111111111111111,
              "#46039f"
             ],
             [
              0.2222222222222222,
              "#7201a8"
             ],
             [
              0.3333333333333333,
              "#9c179e"
             ],
             [
              0.4444444444444444,
              "#bd3786"
             ],
             [
              0.5555555555555556,
              "#d8576b"
             ],
             [
              0.6666666666666666,
              "#ed7953"
             ],
             [
              0.7777777777777778,
              "#fb9f3a"
             ],
             [
              0.8888888888888888,
              "#fdca26"
             ],
             [
              1,
              "#f0f921"
             ]
            ],
            "type": "heatmap"
           }
          ],
          "heatmapgl": [
           {
            "colorbar": {
             "outlinewidth": 0,
             "ticks": ""
            },
            "colorscale": [
             [
              0,
              "#0d0887"
             ],
             [
              0.1111111111111111,
              "#46039f"
             ],
             [
              0.2222222222222222,
              "#7201a8"
             ],
             [
              0.3333333333333333,
              "#9c179e"
             ],
             [
              0.4444444444444444,
              "#bd3786"
             ],
             [
              0.5555555555555556,
              "#d8576b"
             ],
             [
              0.6666666666666666,
              "#ed7953"
             ],
             [
              0.7777777777777778,
              "#fb9f3a"
             ],
             [
              0.8888888888888888,
              "#fdca26"
             ],
             [
              1,
              "#f0f921"
             ]
            ],
            "type": "heatmapgl"
           }
          ],
          "histogram": [
           {
            "marker": {
             "pattern": {
              "fillmode": "overlay",
              "size": 10,
              "solidity": 0.2
             }
            },
            "type": "histogram"
           }
          ],
          "histogram2d": [
           {
            "colorbar": {
             "outlinewidth": 0,
             "ticks": ""
            },
            "colorscale": [
             [
              0,
              "#0d0887"
             ],
             [
              0.1111111111111111,
              "#46039f"
             ],
             [
              0.2222222222222222,
              "#7201a8"
             ],
             [
              0.3333333333333333,
              "#9c179e"
             ],
             [
              0.4444444444444444,
              "#bd3786"
             ],
             [
              0.5555555555555556,
              "#d8576b"
             ],
             [
              0.6666666666666666,
              "#ed7953"
             ],
             [
              0.7777777777777778,
              "#fb9f3a"
             ],
             [
              0.8888888888888888,
              "#fdca26"
             ],
             [
              1,
              "#f0f921"
             ]
            ],
            "type": "histogram2d"
           }
          ],
          "histogram2dcontour": [
           {
            "colorbar": {
             "outlinewidth": 0,
             "ticks": ""
            },
            "colorscale": [
             [
              0,
              "#0d0887"
             ],
             [
              0.1111111111111111,
              "#46039f"
             ],
             [
              0.2222222222222222,
              "#7201a8"
             ],
             [
              0.3333333333333333,
              "#9c179e"
             ],
             [
              0.4444444444444444,
              "#bd3786"
             ],
             [
              0.5555555555555556,
              "#d8576b"
             ],
             [
              0.6666666666666666,
              "#ed7953"
             ],
             [
              0.7777777777777778,
              "#fb9f3a"
             ],
             [
              0.8888888888888888,
              "#fdca26"
             ],
             [
              1,
              "#f0f921"
             ]
            ],
            "type": "histogram2dcontour"
           }
          ],
          "mesh3d": [
           {
            "colorbar": {
             "outlinewidth": 0,
             "ticks": ""
            },
            "type": "mesh3d"
           }
          ],
          "parcoords": [
           {
            "line": {
             "colorbar": {
              "outlinewidth": 0,
              "ticks": ""
             }
            },
            "type": "parcoords"
           }
          ],
          "pie": [
           {
            "automargin": true,
            "type": "pie"
           }
          ],
          "scatter": [
           {
            "fillpattern": {
             "fillmode": "overlay",
             "size": 10,
             "solidity": 0.2
            },
            "type": "scatter"
           }
          ],
          "scatter3d": [
           {
            "line": {
             "colorbar": {
              "outlinewidth": 0,
              "ticks": ""
             }
            },
            "marker": {
             "colorbar": {
              "outlinewidth": 0,
              "ticks": ""
             }
            },
            "type": "scatter3d"
           }
          ],
          "scattercarpet": [
           {
            "marker": {
             "colorbar": {
              "outlinewidth": 0,
              "ticks": ""
             }
            },
            "type": "scattercarpet"
           }
          ],
          "scattergeo": [
           {
            "marker": {
             "colorbar": {
              "outlinewidth": 0,
              "ticks": ""
             }
            },
            "type": "scattergeo"
           }
          ],
          "scattergl": [
           {
            "marker": {
             "colorbar": {
              "outlinewidth": 0,
              "ticks": ""
             }
            },
            "type": "scattergl"
           }
          ],
          "scattermapbox": [
           {
            "marker": {
             "colorbar": {
              "outlinewidth": 0,
              "ticks": ""
             }
            },
            "type": "scattermapbox"
           }
          ],
          "scatterpolar": [
           {
            "marker": {
             "colorbar": {
              "outlinewidth": 0,
              "ticks": ""
             }
            },
            "type": "scatterpolar"
           }
          ],
          "scatterpolargl": [
           {
            "marker": {
             "colorbar": {
              "outlinewidth": 0,
              "ticks": ""
             }
            },
            "type": "scatterpolargl"
           }
          ],
          "scatterternary": [
           {
            "marker": {
             "colorbar": {
              "outlinewidth": 0,
              "ticks": ""
             }
            },
            "type": "scatterternary"
           }
          ],
          "surface": [
           {
            "colorbar": {
             "outlinewidth": 0,
             "ticks": ""
            },
            "colorscale": [
             [
              0,
              "#0d0887"
             ],
             [
              0.1111111111111111,
              "#46039f"
             ],
             [
              0.2222222222222222,
              "#7201a8"
             ],
             [
              0.3333333333333333,
              "#9c179e"
             ],
             [
              0.4444444444444444,
              "#bd3786"
             ],
             [
              0.5555555555555556,
              "#d8576b"
             ],
             [
              0.6666666666666666,
              "#ed7953"
             ],
             [
              0.7777777777777778,
              "#fb9f3a"
             ],
             [
              0.8888888888888888,
              "#fdca26"
             ],
             [
              1,
              "#f0f921"
             ]
            ],
            "type": "surface"
           }
          ],
          "table": [
           {
            "cells": {
             "fill": {
              "color": "#EBF0F8"
             },
             "line": {
              "color": "white"
             }
            },
            "header": {
             "fill": {
              "color": "#C8D4E3"
             },
             "line": {
              "color": "white"
             }
            },
            "type": "table"
           }
          ]
         },
         "layout": {
          "annotationdefaults": {
           "arrowcolor": "#2a3f5f",
           "arrowhead": 0,
           "arrowwidth": 1
          },
          "autotypenumbers": "strict",
          "coloraxis": {
           "colorbar": {
            "outlinewidth": 0,
            "ticks": ""
           }
          },
          "colorscale": {
           "diverging": [
            [
             0,
             "#8e0152"
            ],
            [
             0.1,
             "#c51b7d"
            ],
            [
             0.2,
             "#de77ae"
            ],
            [
             0.3,
             "#f1b6da"
            ],
            [
             0.4,
             "#fde0ef"
            ],
            [
             0.5,
             "#f7f7f7"
            ],
            [
             0.6,
             "#e6f5d0"
            ],
            [
             0.7,
             "#b8e186"
            ],
            [
             0.8,
             "#7fbc41"
            ],
            [
             0.9,
             "#4d9221"
            ],
            [
             1,
             "#276419"
            ]
           ],
           "sequential": [
            [
             0,
             "#0d0887"
            ],
            [
             0.1111111111111111,
             "#46039f"
            ],
            [
             0.2222222222222222,
             "#7201a8"
            ],
            [
             0.3333333333333333,
             "#9c179e"
            ],
            [
             0.4444444444444444,
             "#bd3786"
            ],
            [
             0.5555555555555556,
             "#d8576b"
            ],
            [
             0.6666666666666666,
             "#ed7953"
            ],
            [
             0.7777777777777778,
             "#fb9f3a"
            ],
            [
             0.8888888888888888,
             "#fdca26"
            ],
            [
             1,
             "#f0f921"
            ]
           ],
           "sequentialminus": [
            [
             0,
             "#0d0887"
            ],
            [
             0.1111111111111111,
             "#46039f"
            ],
            [
             0.2222222222222222,
             "#7201a8"
            ],
            [
             0.3333333333333333,
             "#9c179e"
            ],
            [
             0.4444444444444444,
             "#bd3786"
            ],
            [
             0.5555555555555556,
             "#d8576b"
            ],
            [
             0.6666666666666666,
             "#ed7953"
            ],
            [
             0.7777777777777778,
             "#fb9f3a"
            ],
            [
             0.8888888888888888,
             "#fdca26"
            ],
            [
             1,
             "#f0f921"
            ]
           ]
          },
          "colorway": [
           "#636efa",
           "#EF553B",
           "#00cc96",
           "#ab63fa",
           "#FFA15A",
           "#19d3f3",
           "#FF6692",
           "#B6E880",
           "#FF97FF",
           "#FECB52"
          ],
          "font": {
           "color": "#2a3f5f"
          },
          "geo": {
           "bgcolor": "white",
           "lakecolor": "white",
           "landcolor": "#E5ECF6",
           "showlakes": true,
           "showland": true,
           "subunitcolor": "white"
          },
          "hoverlabel": {
           "align": "left"
          },
          "hovermode": "closest",
          "mapbox": {
           "style": "light"
          },
          "paper_bgcolor": "white",
          "plot_bgcolor": "#E5ECF6",
          "polar": {
           "angularaxis": {
            "gridcolor": "white",
            "linecolor": "white",
            "ticks": ""
           },
           "bgcolor": "#E5ECF6",
           "radialaxis": {
            "gridcolor": "white",
            "linecolor": "white",
            "ticks": ""
           }
          },
          "scene": {
           "xaxis": {
            "backgroundcolor": "#E5ECF6",
            "gridcolor": "white",
            "gridwidth": 2,
            "linecolor": "white",
            "showbackground": true,
            "ticks": "",
            "zerolinecolor": "white"
           },
           "yaxis": {
            "backgroundcolor": "#E5ECF6",
            "gridcolor": "white",
            "gridwidth": 2,
            "linecolor": "white",
            "showbackground": true,
            "ticks": "",
            "zerolinecolor": "white"
           },
           "zaxis": {
            "backgroundcolor": "#E5ECF6",
            "gridcolor": "white",
            "gridwidth": 2,
            "linecolor": "white",
            "showbackground": true,
            "ticks": "",
            "zerolinecolor": "white"
           }
          },
          "shapedefaults": {
           "line": {
            "color": "#2a3f5f"
           }
          },
          "ternary": {
           "aaxis": {
            "gridcolor": "white",
            "linecolor": "white",
            "ticks": ""
           },
           "baxis": {
            "gridcolor": "white",
            "linecolor": "white",
            "ticks": ""
           },
           "bgcolor": "#E5ECF6",
           "caxis": {
            "gridcolor": "white",
            "linecolor": "white",
            "ticks": ""
           }
          },
          "title": {
           "x": 0.05
          },
          "xaxis": {
           "automargin": true,
           "gridcolor": "white",
           "linecolor": "white",
           "ticks": "",
           "title": {
            "standoff": 15
           },
           "zerolinecolor": "white",
           "zerolinewidth": 2
          },
          "yaxis": {
           "automargin": true,
           "gridcolor": "white",
           "linecolor": "white",
           "ticks": "",
           "title": {
            "standoff": 15
           },
           "zerolinecolor": "white",
           "zerolinewidth": 2
          }
         }
        },
        "title": {
         "font": {
          "color": "#122630",
          "size": 28
         },
         "text": "Fig 4: A first exploration of the corpus based on MFW and gender",
         "yref": "paper"
        },
        "width": 1000,
        "xaxis": {
         "anchor": "y",
         "autorange": true,
         "domain": [
          0,
          1
         ],
         "range": [
          -108.7378751210354,
          106.07802404681665
         ],
         "showgrid": false,
         "title": {
          "text": "Dim 1"
         },
         "type": "linear"
        },
        "yaxis": {
         "anchor": "x",
         "autorange": true,
         "domain": [
          0,
          1
         ],
         "range": [
          -141.15029092217057,
          133.39070840263932
         ],
         "showgrid": false,
         "title": {
          "text": "Dim 2"
         },
         "type": "linear"
        }
       }
      },
      "image/png": "[encoded data removed]",
      "text/html": [
       "<div>                            <div id=\"01286b57-050c-4ae5-9b85-e56e4e8b6bd3\" class=\"plotly-graph-div\" style=\"height:750px; width:1000px;\"></div>            <script type=\"text/javascript\">                require([\"plotly\"], function(Plotly) {                    window.PLOTLYENV=window.PLOTLYENV || {};                                    if (document.getElementById(\"01286b57-050c-4ae5-9b85-e56e4e8b6bd3\")) {                    Plotly.newPlot(                        \"01286b57-050c-4ae5-9b85-e56e4e8b6bd3\",                        [{\"customdata\":[[\"Geschichte des Agathon\",\"Christoph Martin Wieland\",\"Kunstepoche\"],[\"Geschichte des Agathon\",\"Christoph Martin Wieland\",\"Kunstepoche\"],[\"Geschichte des Fr\\u00e4uleins von Sternheim\",\"Christoph Martin Wieland\",\"Kunstepoche\"],[\"Geschichte des Fr\\u00e4uleins von Sternheim\",\"Christoph Martin Wieland\",\"Kunstepoche\"],[\"Das Leben und die Meinungen des Herrn Magister Sebaldus Nothanker\",\"Friedrich Nicolai\",\"Kunstepoche\"],[\"Die Leiden des jungen Werthers\",\"Johann Wolfgang von Goethe\",\"Kunstepoche\"],[\"Die Leiden des jungen Werthers\",\"Johann Wolfgang von Goethe\",\"Kunstepoche\"],[\"Das Leben und die Meinungen des Herrn Magister Sebaldus Nothanker\",\"Friedrich Nicolai\",\"Kunstepoche\"],[\"Das Leben und die Meinungen des Herrn Magister Sebaldus Nothanker\",\"Friedrich Nicolai\",\"Kunstepoche\"],[\"Siegwart\",\"Johann Martin Miller\",\"Kunstepoche\"],[\"Siegwart\",\"Johann Martin Miller\",\"Kunstepoche\"],[\"Physiognomische Reisen \",\"Johann Karl August Mus\\u00e4us\",\"Kunstepoche\"],[\"Robinson der J\\u00fcngere\",\"Joachim Heinrich Campe\",\"Kunstepoche\"],[\"Physiognomische Reisen\",\"Johann Karl August Mus\\u00e4us\",\"Kunstepoche\"],[\"Physiognomische Reisen\",\"Johann Karl August Mus\\u00e4us\",\"Kunstepoche\"],[\"Physiognomische Reisen\",\"Johann Karl August Mus\\u00e4us\",\"Kunstepoche\"],[\"Robinson der J\\u00fcngere\",\"Joachim Heinrich Campe\",\"Kunstepoche\"],[\"Anton Reiser\",\"Karl Philipp Moritz\",\"Kunstepoche\"],[\"Anton Reiser\",\"Karl Philipp Moritz\",\"Kunstepoche\"],[\"Anton Reiser\",\"Karl Philipp Moritz\",\"Kunstepoche\"],[\"Wunderbare Reisen zu Wasser und Lande, Feldz\\u00fcge und lustige Abentheuer des Freyherrn von M\\u00fcnchhausen, wie er dieselben bey der Flasche im Cirkel seiner Freunde selbst zu erz\\u00e4hlen pflegt\",\"Rudolf Erich Raspe\",\"Kunstepoche\"],[\"Der Geisterseher\",\"Friedrich Schiller\",\"Kunstepoche\"],[\"Geister und Geisterseher oder Leben und fr\\u00fches Ende eines Nekromantisten\",\"Heinrich Zschokke\",\"Kunstepoche\"],[\"Anton Reiser\",\"Karl Philipp Moritz\",\"Kunstepoche\"],[\"Fausts Leben, Thaten und H\\u00f6llenfahrt\",\"Friedrich Maximilian Klinger\",\"Kunstepoche\"],[\"Eduard Allwills Briefsammlung\",\"Friedrich Heinrich Jacobi\",\"Kunstepoche\"],[\"Die unsichtbare Loge\",\"Jean Paul, eigentlich Johann Paul Friedrich Richter\",\"Kunstepoche\"],[\"Die unsichtbare Loge\",\"Jean Paul, eigentlich Johann Paul Friedrich Richter\",\"Kunstepoche\"],[\"Reinecke Fuchs\",\"Johann Wolfgang von Goethe\",\"Kunstepoche\"],[\"Hesperus, oder 45 Hundsposttage\",\"Jean Paul, eigentlich Johann Paul Friedrich Richter\",\"Kunstepoche\"],[\"Hesperus, oder 45 Hundsposttage\",\"Jean Paul, eigentlich Johann Paul Friedrich Richter\",\"Kunstepoche\"],[\"Hesperus, oder 45 Hundsposttage\",\"Jean Paul, eigentlich Johann Paul Friedrich Richter\",\"Kunstepoche\"],[\"Wilhelm Meisters Lehrjahre\",\"Johann Wolfgang von Goethe\",\"Kunstepoche\"],[\"Wilhelm Meisters Lehrjahre\",\"Johann Wolfgang von Goethe\",\"Kunstepoche\"],[\"Wilhelm Meisters Lehrjahre\",\"Johann Wolfgang von Goethe\",\"Kunstepoche\"],[\"William Lovell\",\"Ludwig Tieck\",\"Kunstepoche\"],[\"Biographien der Wahnsinnigen\",\"Christian Heinrich Spie\\u00df\",\"Kunstepoche\"],[\"Biographien der Wahnsinnigen\",\"Christian Heinrich Spie\\u00df\",\"Kunstepoche\"],[\"Biographien der Wahnsinnigen\",\"Christian Heinrich Spie\\u00df\",\"Kunstepoche\"],[\"Biographien der Wahnsinnigen\",\"Christian Heinrich Spie\\u00df\",\"Kunstepoche\"],[\"Wilhelm Meisters Lehrjahre\",\"Johann Wolfgang von Goethe\",\"Kunstepoche\"],[\"William Lovell\",\"Ludwig Tieck\",\"Kunstepoche\"],[\"William Lovell\",\"Ludwig Tieck\",\"Kunstepoche\"],[\"Hyperion oder der Eremit in Griechenland\",\"Friedrich H\\u00f6lderlin\",\"Kunstepoche\"],[\"Herzensergie\\u00dfungen eines kunstliebenden Klosterbruders\",\"Ludwig Tieck\",\"Kunstepoche\"],[\"Herzensergie\\u00dfungen eines kunstliebenden Klosterbruders\",\"Wilhelm Heinrich Wackenroder\",\"Kunstepoche\"],[\"Athenaeum\",\"August Wilhelm Schlegel\",\"Kunstepoche\"],[\"Athenaeum\",\"Friedrich Schlegel\",\"Kunstepoche\"],[\"Franz Sternbald's Wanderungen\",\"Ludwig Tieck\",\"Kunstepoche\"],[\"Franz Sternbalds Wanderungen\",\"Ludwig Tieck\",\"Kunstepoche\"],[\"Athenaeum\",\"August Wilhelm Schlegel\",\"Kunstepoche\"],[\"Hyperion oder der Eremit in Griechenland\",\"Friedrich H\\u00f6lderlin\",\"Kunstepoche\"],[\"Athenaeum\",\"Friedrich Schlegel\",\"Kunstepoche\"],[\"Lucinde\",\"Friedrich Schlegel\",\"Kunstepoche\"],[\"Die Jobsiade\",\"Karl Arnold Kortum\",\"Kunstepoche\"],[\"Die Jobsiade\",\"Karl Arnold Kortum\",\"Kunstepoche\"],[\"Die Jobsiade\",\"Karl Arnold Kortum\",\"Kunstepoche\"],[\"Athenaeum\",\"August Wilhelm Schlegel\",\"Kunstepoche\"],[\"Athenaeum\",\"Friedrich Schlegel\",\"Kunstepoche\"],[\"Titan\",\"Jean Paul, eigentlich Johann Paul Friedrich Richter\",\"Kunstepoche\"],[\"Florentin\",\"Friedrich Schlegel\",\"Kunstepoche\"],[\"Titan\",\"Jean Paul, eigentlich Johann Paul Friedrich Richter\",\"Kunstepoche\"],[\"Titan\",\"Jean Paul, eigentlich Johann Paul Friedrich Richter\",\"Kunstepoche\"],[\"Titan\",\"Jean Paul, eigentlich Johann Paul Friedrich Richter\",\"Kunstepoche\"],[\"Flegeljahre\",\"Jean Paul, eigentlich Johann Paul Friedrich Richter\",\"Kunstepoche\"],[\"Flegeljahre\",\"Jean Paul, eigentlich Johann Paul Friedrich Richter\",\"Kunstepoche\"],[\"Flegeljahre\",\"Jean Paul, eigentlich Johann Paul Friedrich Richter\",\"Kunstepoche\"],[\"Nachtwachen\",\"Ernst August Friedrich Klingemann\",\"Kunstepoche\"],[\"Flegeljahre\",\"Jean Paul, eigentlich Johann Paul Friedrich Richter\",\"Kunstepoche\"],[\"D. Katzenbergers Badereise\",\"Jean Paul, eigentlich Johann Paul Friedrich Richter\",\"Kunstepoche\"],[\"D. Katzenbergers Badereise\",\"Jean Paul, eigentlich Johann Paul Friedrich Richter\",\"Kunstepoche\"],[\"Die Wahlverwandtschaften\",\"Johann Wolfgang von Goethe\",\"Kunstepoche\"],[\"Die Wahlverwandtschaften\",\"Johann Wolfgang von Goethe\",\"Kunstepoche\"],[\"Ini\",\"Julius von Vo\\u00df\",\"Kunstepoche\"],[\"Undine\",\"Friedrich de la Motte Fouqu\\u00e9\",\"Kunstepoche\"],[\"Schatzk\\u00e4stlein des rheinischen Hausfreundes\",\"Johann Peter Hebel\",\"Kunstepoche\"],[\"Kinder- und Haus-M\\u00e4rchen\",\"Jacob Grimm\",\"Kunstepoche\"],[\"Kinder- und Haus-M\\u00e4rchen\",\"Jacob Grimm\",\"Kunstepoche\"],[\"Phantasus\",\"Ludwig Tieck\",\"Kunstepoche\"],[\"Phantasus\",\"Ludwig Tieck\",\"Kunstepoche\"],[\"Peter Schlemihl's wundersame Geschichte\",\"Friedrich de la Motte Fouqu\\u00e9\",\"Kunstepoche\"],[\"Kinder- und Haus-M\\u00e4rchen\",\"Jacob Grimm\",\"Kunstepoche\"],[\"Kinder- und Haus-M\\u00e4rchen\",\"Jacob Grimm\",\"Kunstepoche\"],[\"Ahnung und Gegenwart\",\"Joseph Freiherr von Eichendorff\",\"Kunstepoche\"],[\"Phantasus\",\"Ludwig Tieck\",\"Kunstepoche\"],[\"Der tolle Invalide auf dem Fort Ratonneau\",\"Achim von Arnim\",\"Kunstepoche\"],[\"Kinder- und Haus-M\\u00e4rchen\",\"Jacob Grimm\",\"Kunstepoche\"],[\"Kinder- und Haus-M\\u00e4rchen\",\"Jacob Grimm\",\"Kunstepoche\"],[\"Kinder- und Haus-M\\u00e4rchen\",\"Jacob Grimm\",\"Kunstepoche\"],[\"Kinder- und Haus-M\\u00e4rchen\",\"Jacob Grimm\",\"Kunstepoche\"],[\"Pha\\u00ebthon\",\"Wilhelm Waiblinger\",\"Kunstepoche\"],[\"Pha\\u00ebthon\",\"Wilhelm Waiblinger\",\"Kunstepoche\"],[\"Aus dem Leben eines Taugenichts und das Marmorbild\",\"Joseph Freiherr von Eichendorff\",\"Kunstepoche\"],[\"Phantasien im Bremer Rathskeller\",\"Wilhelm Hauff\",\"Kunstepoche\"],[\"Maler Nolten\",\"Eduard M\\u00f6rike\",\"Kunstepoche\"],[\"Maler Nolten\",\"Eduard M\\u00f6rike\",\"Kunstepoche\"],[\"Briefe eines Narren an eine N\\u00e4rrin\",\"Karl Gutzkow\",\"Vorm\\u00e4rz\"],[\"Das junge Europa\",\"Heinrich Laube\",\"Kunstepoche\"],[\"Das junge Europa\",\"Heinrich Laube\",\"Kunstepoche\"],[\"Dichter und ihre Gesellen\",\"Joseph Freiherr von Eichendorff\",\"Kunstepoche\"],[\"Rahel\",\"Karl August Varnhagen von Ense\",\"Kunstepoche\"],[\"Rahel\",\"Karl August Varnhagen von Ense\",\"Kunstepoche\"],[\"Rahel\",\"Karl August Varnhagen von Ense\",\"Kunstepoche\"],[\"\\u00d6ffentliche Charaktere\",\"Karl Gutzkow\",\"Vorm\\u00e4rz\"],[\"Wally, die Zweiflerin\",\"Karl Gutzkow\",\"Vorm\\u00e4rz\"],[\"Das junge Europa\",\"Heinrich Laube\",\"Kunstepoche\"],[\"Das junge Europa\",\"Heinrich Laube\",\"Kunstepoche\"],[\"Kinder und Hausm\\u00e4rchen\",\"Jacob Grimm\",\"Kunstepoche\"],[\"Kinder und Hausm\\u00e4rchen\",\"Jacob Grimm\",\"Kunstepoche\"],[\"Kinder und Hausm\\u00e4rchen\",\"Jacob Grimm\",\"Kunstepoche\"],[\"Kinder und Hausm\\u00e4rchen\",\"Jacob Grimm\",\"Kunstepoche\"],[\"Denkw\\u00fcrdigkeiten und vermischte Schriften\",\"Karl August Varnhagen von Ense\",\"Kunstepoche\"],[\"Denkw\\u00fcrdigkeiten und vermischte Schriften\",\"Karl August Varnhagen von Ense\",\"Kunstepoche\"],[\"Die sch\\u00f6nsten Sagen des klassischen Alterthums\",\"Gustav Schwab\",\"Kunstepoche\"],[\"Denkw\\u00fcrdigkeiten und vermischte Schriften\",\"Karl August Varnhagen von Ense\",\"Kunstepoche\"],[\"Die sch\\u00f6nsten Sagen des klassischen Alterthums\",\"Gustav Schwab\",\"Kunstepoche\"],[\"Die sch\\u00f6nsten Sagen des klassischen Alterthums\",\"Gustav Schwab\",\"Kunstepoche\"],[\"Kinder und Hausm\\u00e4rchen\",\"Jacob Grimm\",\"Kunstepoche\"],[\"Kinder und Hausm\\u00e4rchen\",\"Jacob Grimm\",\"Kunstepoche\"],[\"Kinder und Hausm\\u00e4rchen\",\"Jacob Grimm\",\"Kunstepoche\"],[\"Kinder und Hausm\\u00e4rchen\",\"Jacob Grimm\",\"Kunstepoche\"],[\"Bilder und Sagen aus der Schweiz\",\"Jeremias Gotthelf, eigentlich Albert Bitzius\",\"Kunstepoche\"],[\"Kinder und Hausm\\u00e4rchen\",\"Jacob Grimm\",\"Kunstepoche\"],[\"Kinder und Hausm\\u00e4rchen\",\"Jacob Grimm\",\"Kunstepoche\"],[\"Kinder und Hausm\\u00e4rchen\",\"Jacob Grimm\",\"Kunstepoche\"],[\"Kinder und Hausm\\u00e4rchen\",\"Jacob Grimm\",\"Kunstepoche\"],[\"Maria Schweidler die Bernsteinhexe\",\"Wilhelm Meinhold\",\"Kunstepoche\"],[\"Polizei-Geschichten\",\"Ernst Dronke\",\"Vorm\\u00e4rz\"],[\"Leben und Thaten des ber\\u00fchmten Ritters Schnapphahnski\",\"Georg Weerth\",\"Vorm\\u00e4rz\"],[\"Kinder und Hausm\\u00e4rchen\",\"Jacob Grimm\",\"Kunstepoche\"],[\"Kinder und Hausm\\u00e4rchen\",\"Jacob Grimm\",\"Kunstepoche\"],[\"Kinder und Hausm\\u00e4rchen\",\"Jacob Grimm\",\"Kunstepoche\"],[\"Kinder und Hausm\\u00e4rchen\",\"Jacob Grimm\",\"Kunstepoche\"],[\"Immensee\",\"Theodor Storm\",\"Vorm\\u00e4rz\"],[\"Bunte Steine\",\"Adalbert Stifter\",\"Kunstepoche\"],[\"Bunte Steine\",\"Adalbert Stifter\",\"Kunstepoche\"],[\"Der gr\\u00fcne Heinrich\",\"Gottfried Keller\",\"Vorm\\u00e4rz\"],[\"Der gr\\u00fcne Heinrich\",\"Gottfried Keller\",\"Vorm\\u00e4rz\"],[\"Der gr\\u00fcne Heinrich\",\"Gottfried Keller\",\"Vorm\\u00e4rz\"],[\"Der Dunkelgraf\",\"Ludwig Bechstein\",\"Kunstepoche\"],[\"Der Amerika-M\\u00fcde\",\"Ferdinand K\\u00fcrnberger\",\"Vorm\\u00e4rz\"],[\"Der gr\\u00fcne Heinrich\",\"Gottfried Keller\",\"Vorm\\u00e4rz\"],[\"Der Sonnenwirth\",\"Hermann Kurz\",\"Vorm\\u00e4rz\"],[\"Ekkehard\",\"Joseph Victor von Scheffel\",\"Vorm\\u00e4rz\"],[\"Novellen\",\"Paul Heyse\",\"Vorm\\u00e4rz\"],[\"Mozart auf der Reise nach Prag\",\"Eduard M\\u00f6rike\",\"Kunstepoche\"],[\"Die Leute von Seldwyla\",\"Gottfried Keller\",\"Vorm\\u00e4rz\"],[\"Zwischen Himmel und Erde\",\"Otto Ludwig\",\"Vorm\\u00e4rz\"],[\"Der Nachsommer\",\"Adalbert Stifter\",\"Kunstepoche\"],[\"Der Nachsommer\",\"Adalbert Stifter\",\"Kunstepoche\"],[\"Der Nachsommer\",\"Adalbert Stifter\",\"Kunstepoche\"],[\"Kinder und Hausm\\u00e4rchen\",\"Jacob Grimm\",\"Kunstepoche\"],[\"Kinder und Hausm\\u00e4rchen\",\"Jacob Grimm\",\"Kunstepoche\"],[\"Kinder und Hausm\\u00e4rchen\",\"Jacob Grimm\",\"Kunstepoche\"],[\"Kinder und Hausm\\u00e4rchen\",\"Jacob Grimm\",\"Kunstepoche\"],[\"Die Chronik der Sperlingsgasse\",\"Wilhelm Raabe\",\"Moderne\"],[\"Problematische Naturen\",\"Friedrich Spielhagen\",\"Vorm\\u00e4rz\"],[\"Problematische Naturen\",\"Friedrich Spielhagen\",\"Vorm\\u00e4rz\"],[\"Problematische Naturen\",\"Friedrich Spielhagen\",\"Vorm\\u00e4rz\"],[\"Problematische Naturen\",\"Friedrich Spielhagen\",\"Vorm\\u00e4rz\"],[\"Eine Aegyptische K\\u00f6nigstochter\",\"Georg Ebers\",\"Realismus\"],[\"Eine Aegyptische K\\u00f6nigstochter\",\"Georg Ebers\",\"Realismus\"],[\"Eine Aegyptische K\\u00f6nigstochter\",\"Georg Ebers\",\"Realismus\"],[\"Max und Moritz\",\"Wilhelm Busch\",\"Realismus\"],[\"Die Verlobung von St. Domingo\",\"Heinrich von Kleist\",\"Kunstepoche\"],[\"Die neue Melusine\",\"Johann Wolfgang von Goethe\",\"Kunstepoche\"],[\"Sieben Legenden\",\"Gottfried Keller\",\"Vorm\\u00e4rz\"],[\"Waldwinkel, Pole Poppensp\\u00e4ler\",\"Theodor Storm\",\"Vorm\\u00e4rz\"],[\"Georg Jenatsch. Eine alte B\\u00fcndnergeschichte\",\"Conrad Ferdinand Meyer\",\"Vorm\\u00e4rz\"],[\"Das Herrenrecht\",\"Daniel Spitzer\",\"Realismus\"],[\"Novellen aus \\u00d6sterreich\",\"Ferdinand von Saar\",\"Realismus\"],[\"Die neuen Serapionsbr\\u00fcder\",\"Karl Gutzkow\",\"Vorm\\u00e4rz\"],[\"Die neuen Serapionsbr\\u00fcder\",\"Karl Gutzkow\",\"Vorm\\u00e4rz\"],[\"Die neuen Serapionsbr\\u00fcder\",\"Karl Gutzkow\",\"Vorm\\u00e4rz\"],[\"Aquis submersus\",\"Theodor Storm\",\"Vorm\\u00e4rz\"],[\"Auch Einer\",\"Friedrich Theodor Vischer\",\"Kunstepoche\"],[\"Auch Einer\",\"Friedrich Theodor Vischer\",\"Kunstepoche\"],[\"Die Prinzessin von Portugal\",\"Alfred Mei\\u00dfner\",\"Vorm\\u00e4rz\"],[\"Das Sinngedicht\",\"Gottfried Keller\",\"Vorm\\u00e4rz\"],[\"Schach von Wuthenow\",\"Theodor Fontane\",\"Vorm\\u00e4rz\"],[\"Unterm Birnbaum\",\"Theodor Fontane\",\"Vorm\\u00e4rz\"],[\"John Riew', Ein Fest auf Haderslevhuus\",\"Theodor Storm\",\"Vorm\\u00e4rz\"],[\"B\\u00f6tjer Basch\",\"Theodor Storm\",\"Vorm\\u00e4rz\"],[\"Ein Doppelg\\u00e4nger\",\"Theodor Storm\",\"Vorm\\u00e4rz\"],[\"Irrungen, Wirrungen\",\"Theodor Fontane\",\"Vorm\\u00e4rz\"],[\"Der Schimmelreiter\",\"Theodor Storm\",\"Vorm\\u00e4rz\"],[\"Papa Hamlet\",\"Arno Holz\",\"Realismus\"],[\"Adam Mensch\",\"Hermann Conradi\",\"Realismus\"],[\"Das Odfeld\",\"Wilhelm Raabe\",\"Moderne\"],[\"Seifenblasen\",\"Kurd La\\u00dfwitz\",\"Realismus\"],[\"Stopfkuchen\",\"Wilhelm Raabe\",\"Moderne\"],[\"Durchs Wilde Kurdistan\",\"Karl May\",\"Realismus\"],[\"Von vor und nach der Reise\",\"Theodor Fontane\",\"Vorm\\u00e4rz\"],[\"Der B\\u00fcttnerbauer\",\"Wilhelm von Polenz\",\"Realismus\"],[\"Der Medizinmann\",\"Robert Kraft\",\"Realismus\"],[\"Effi Briest\",\"Theodor Fontane\",\"Vorm\\u00e4rz\"],[\"Die Akten des Vogelsangs\",\"Wilhelm Raabe\",\"Moderne\"],[\"Auf zwei Planeten\",\"Kurd La\\u00dfwitz\",\"Realismus\"],[\"Auf zwei Planeten\",\"Kurd La\\u00dfwitz\",\"Realismus\"],[\"Stilpe\",\"Otto Julius Bierbaum\",\"Realismus\"],[\"Der Stechlin\",\"Theodor Fontane\",\"Vorm\\u00e4rz\"],[\"Muspilli\",\"Arnold Hagenauer\",\"Moderne\"],[\"Die Poggenpuhls\",\"Theodor Fontane\",\"Vorm\\u00e4rz\"],[\"Beate und Mareile\",\"Eduard von Keyserling\",\"Realismus\"],[\"Brigitta\",\"Adalbert Stifter\",\"Kunstepoche\"],[\"Peter Schlemihl's wundersame Geschichte\",\"Adelbert von Chamisso\",\"Kunstepoche\"],[\"Der Fl\\u00fcchtling\",\"Adolf Pichler\",\"Vorm\\u00e4rz\"],[\"Die katholische M\\u00fchle\",\"Adolf Widmann\",\"Vorm\\u00e4rz\"],[\"Scholastika\",\"Alexander von Ungern-Sternberg\",\"Kunstepoche\"],[\"Der M\\u00fcller vom H\\u00f6ft\",\"Alfred Mei\\u00dfner\",\"Vorm\\u00e4rz\"],[\"Eine Nacht\",\"Bernhard Abeken, Pseudonym Ernst Andolt\",\"Vorm\\u00e4rz\"],[\"Rolof, der Rekrut\",\"Edmund Hoefer\",\"Vorm\\u00e4rz\"],[\"Mozart auf der Reise nach Prag\",\"Eduard M\\u00f6rike\",\"Kunstepoche\"],[\"Ansas und Grita\",\"Ernst Wichert\",\"Moderne\"],[\"Der Drache\",\"Ferdinand K\\u00fcrnberger\",\"Vorm\\u00e4rz\"],[\"Der arme Spielmann\",\"Franz Grillparzer\",\"Kunstepoche\"],[\"Germelshausen\",\"Friedrich Gerst\\u00e4cker\",\"Vorm\\u00e4rz\"],[\"Die Marzipan-Lise\",\"Friedrich Halm, eigentlich Eligius von M\\u00fcnch-Bellinghausen\",\"Kunstepoche\"],[\"Der graue John\",\"Friedrich von Heyden\",\"Kunstepoche\"],[\"Zwei N\\u00e4chte\",\"Friedrich Wilhelm Hackl\\u00e4nder\",\"Vorm\\u00e4rz\"],[\"Romeo und Julia auf dem Dorfe\",\"Gottfried Keller\",\"Vorm\\u00e4rz\"],[\"Das Kind\",\"Herman Grimm\",\"Vorm\\u00e4rz\"],[\"Die beiden Tubus\",\"Hermann Kurz\",\"Vorm\\u00e4rz\"],[\"Ein adeliges Fr\\u00e4ulein\",\"Hieronymus Lorm, eigentlich Heinrich Landesmann\",\"Vorm\\u00e4rz\"],[\"Der Notar in der Falle\",\"Jeremias Gotthelf, eigentlich Albert Bitzius\",\"Kunstepoche\"],[\"Kurt von Koppigen\",\"Jeremias Gotthelf, eigentlich Albert Bitzius\",\"Kunstepoche\"],[\"Die Gl\\u00fccksritter\",\"Joseph Freiherr von Eichendorff\",\"Kunstepoche\"],[\"Samuel Brinks letzte Liebesgeschichte\",\"Joseph Schreyvogel\",\"Kunstepoche\"],[\"Hugideo\",\"Joseph Victor von Scheffel\",\"Vorm\\u00e4rz\"],[\"Vetter Isidor\",\"Julius Grosse\",\"Vorm\\u00e4rz\"],[\"Reiz und Liebe\",\"Karl August Varnhagen von Ense\",\"Kunstepoche\"],[\"Die Engel-Ehe\",\"Karl Spindler\",\"Kunstepoche\"],[\"Eine Verlorene\",\"Leopold Kompert\",\"Vorm\\u00e4rz\"],[\"Don Juan von Kolomea\",\"Leopold von Sacher-Masoch\",\"Realismus\"],[\"Des Lebens \\u00dcberflu\\u00df\",\"Ludwig Tieck\",\"Kunstepoche\"],[\"Die Gem\\u00e4lde\",\"Ludwig Tieck\",\"Kunstepoche\"],[\"Der Sieg des Schwachen\",\"Melchior Meyr\",\"Kunstepoche\"],[\"Das Schlo\\u00df im Gebirge\",\"Moritz Hartmann\",\"Vorm\\u00e4rz\"],[\"Der Weinh\\u00fcter von Meran\",\"Paul Heyse\",\"Vorm\\u00e4rz\"],[\"Am Malanger Fjord\",\"Theodor M\\u00fcgge\",\"Kunstepoche\"],[\"Eine Malerarbeit\",\"Theodor Storm\",\"Vorm\\u00e4rz\"],[\"Phantasien im Bremer Ratskeller\",\"Wilhelm Hauff\",\"Kunstepoche\"],[\"Das letzte Recht\",\"Wilhelm Raabe\",\"Moderne\"],[\"Fr\\u00e4ulein Else\",\"Arthur Schnitzler\",\"Realismus\"],[\"Der Kinderball\",\"Abraham Emanuel Fr\\u00f6hlich\",\"Kunstepoche\"],[\"Die Versch\\u00fcttung im Hauenstein\",\"Abraham Emanuel Fr\\u00f6hlich\",\"Kunstepoche\"],[\"Armut, Reichtum, Schuld und Bu\\u00dfe der Gr\\u00e4fin Dolores\",\"Achim von Arnim\",\"Kunstepoche\"],[\"Der Wintergarten\",\"Achim von Arnim\",\"Kunstepoche\"],[\"Die drei liebreichen Schwestern und der gl\\u00fcckliche F\\u00e4rber\",\"Achim von Arnim\",\"Kunstepoche\"],[\"Die Kronenw\\u00e4chter\",\"Achim von Arnim\",\"Kunstepoche\"],[\"Die Majoratsherren\",\"Achim von Arnim\",\"Kunstepoche\"],[\"Erz\\u00e4hlungen\",\"Achim von Arnim\",\"Kunstepoche\"],[\"Isabella von \\u00c4gypten\",\"Achim von Arnim\",\"Kunstepoche\"],[\"verschiedene Novellen\",\"Achim von Arnim\",\"Kunstepoche\"],[\"Der fromme Spruch\",\"Adalbert Stifter\",\"Kunstepoche\"],[\"Der heilige Abend\",\"Adalbert Stifter\",\"Kunstepoche\"],[\"Der Kuss von Sentze\",\"Adalbert Stifter\",\"Kunstepoche\"],[\"Der Ku\\u00df von Sentze\",\"Adalbert Stifter\",\"Kunstepoche\"],[\"Der Waldbrunnen\",\"Adalbert Stifter\",\"Kunstepoche\"],[\"Nachkommenschaften\",\"Adalbert Stifter\",\"Kunstepoche\"],[\"Prokopus\",\"Adalbert Stifter\",\"Kunstepoche\"],[\"Studien\",\"Adalbert Stifter\",\"Kunstepoche\"],[\"Witiko\",\"Adalbert Stifter\",\"Kunstepoche\"],[\"Bauerngeselchtes\",\"Adam Karrillon\",\"Realismus\"],[\"Die M\\u00fchle zu Husterloh\",\"Adam Karrillon\",\"Realismus\"],[\"Michael Hely\",\"Adam Karrillon\",\"Realismus\"],[\"O Domina mea\",\"Adam Karrillon\",\"Realismus\"],[\"Der gro\\u00dfe Schwabenzug\",\"Adam M\\u00fcller-Guttenbrunn\",\"Realismus\"],[\"Die Glocken der Heimat\",\"Adam M\\u00fcller-Guttenbrunn\",\"Realismus\"],[\"Meister Jakob und seine Kinder\",\"Adam M\\u00fcller-Guttenbrunn\",\"Realismus\"],[\"Adelberts Fabel\",\"Adelbert von Chamisso\",\"Kunstepoche\"],[\"Schlitzwang\",\"Adolf Glaser, Pseudonym Rainald Reimar\",\"Vorm\\u00e4rz\"],[\"Wulfhilde\",\"Adolf Glaser, Pseudonym Rainald Reimar\",\"Vorm\\u00e4rz\"],[\"Der jung M\\u00fcnch Ylsan\",\"Adolf Pichler\",\"Vorm\\u00e4rz\"],[\"Der lateinische Bauer\",\"Adolf Pichler\",\"Vorm\\u00e4rz\"],[\"Die Brautnacht\",\"Adolf Pichler\",\"Vorm\\u00e4rz\"],[\"Frau Elsa\",\"Adolf Pichler\",\"Vorm\\u00e4rz\"],[\"Herr Rochus\",\"Adolf Pichler\",\"Vorm\\u00e4rz\"],[\"Janos und Jonas\",\"Adolf Pichler\",\"Vorm\\u00e4rz\"],[\"Letzte Alpenrosen\",\"Adolf Pichler\",\"Vorm\\u00e4rz\"],[\"Der Wille zum Leben\\u002fUntrennbar\",\"Adolf Wilbrandt\",\"Realismus\"],[\"Hermann Ifinger\",\"Adolf Wilbrandt\",\"Realismus\"],[\"Benjamin Noldmanns Geschichte der Aufkl\\u00e4rung in Abyssinien\",\"Adolph Freiherr Knigge\",\"Kunstepoche\"],[\"Die Reise nach Braunschweig\",\"Adolph Freiherr Knigge\",\"Kunstepoche\"],[\"Josephs von Wurmbrands ... politisches Glaubensbekenntnis\",\"Adolph Freiherr Knigge\",\"Kunstepoche\"],[\"Friedemann Bach\",\"Albert Emil Brachvogel\",\"Vorm\\u00e4rz\"],[\"Oberst von Steuben \\u2013 des gro\\u00dfen K\\u00f6nigs Adjutant\",\"Albert Emil Brachvogel\",\"Vorm\\u00e4rz\"],[\"Vater Milon und andere Erz\\u00e4hlungen\",\"Alexander von Oppeln-Bronikowski\",\"Kunstepoche\"],[\"Die Zerissenen\",\"Alexander von Ungern-Sternberg\",\"Kunstepoche\"],[\"Vierter Theil: Elf Novellen\",\"Alexander von Ungern-Sternberg\",\"Kunstepoche\"],[\"Der Flursch\\u00fctz\",\"Alfred Bock\",\"Realismus\"],[\"Lord Byron\",\"Alfred Schirokauer\",\"Moderne\"],[\"Die Finsternis und ihr Eigentum\",\"Anton von Perfall\",\"Realismus\"],[\"Klippen\",\"Anton von Perfall\",\"Realismus\"],[\"Das Schlo\\u00df im Moor\",\"Arthur Achleitner\",\"Realismus\"],[\"Der Finanzer\",\"Arthur Achleitner\",\"Realismus\"],[\"Die Dobratschrose\",\"Arthur Achleitner\",\"Realismus\"],[\"Familie Lugm\\u00fcller\",\"Arthur Achleitner\",\"Realismus\"],[\"Clemens und seine M\\u00e4dchen\",\"Arthur Kahane\",\"Moderne\"],[\"Der Schauspieler\",\"Arthur Kahane\",\"Moderne\"],[\"Die Thimigs\",\"Arthur Kahane\",\"Moderne\"],[\"Amerika\",\"Arthur Schnitzler\",\"Realismus\"],[\"Andreas Thameyers letzter Brief\",\"Arthur Schnitzler\",\"Realismus\"],[\"Blumen\",\"Arthur Schnitzler\",\"Realismus\"],[\"Casanovas Heimfahrt\",\"Arthur Schnitzler\",\"Realismus\"],[\"Casanovas Heimfahrt\",\"Arthur Schnitzler\",\"Realismus\"],[\"Das neue Lied\",\"Arthur Schnitzler\",\"Realismus\"],[\"Das Schicksal des Freiherrn von Leisenbohg\",\"Arthur Schnitzler\",\"Realismus\"],[\"Das Tagebuch der Redegonda\",\"Arthur Schnitzler\",\"Realismus\"],[\"Der Andere\",\"Arthur Schnitzler\",\"Realismus\"],[\"Der blinde Geronimo und sein Bruder\",\"Arthur Schnitzler\",\"Realismus\"],[\"Der Ehrentag\",\"Arthur Schnitzler\",\"Realismus\"],[\"Der Empfindsame\",\"Arthur Schnitzler\",\"Realismus\"],[\"Der F\\u00fcrst ist im Hause\",\"Arthur Schnitzler\",\"Realismus\"],[\"Der letzte Brief eines Literaten\",\"Arthur Schnitzler\",\"Realismus\"],[\"Der M\\u00f6rder\",\"Arthur Schnitzler\",\"Realismus\"],[\"Der M\\u00f6rder\",\"Arthur Schnitzler\",\"Realismus\"],[\"Der Sekundant\",\"Arthur Schnitzler\",\"Realismus\"],[\"Der Sohn\",\"Arthur Schnitzler\",\"Realismus\"],[\"Der Sohn\",\"Arthur Schnitzler\",\"Realismus\"],[\"Der Tod des Junggesellen\",\"Arthur Schnitzler\",\"Realismus\"],[\"Der tote Gabriel\",\"Arthur Schnitzler\",\"Realismus\"],[\"Der Weg ins Freie\",\"Arthur Schnitzler\",\"Realismus\"],[\"Der Witwer\",\"Arthur Schnitzler\",\"Realismus\"],[\"Die Braut\",\"Arthur Schnitzler\",\"Realismus\"],[\"Die drei Elixire\",\"Arthur Schnitzler\",\"Realismus\"],[\"Die dreifache Warnung\",\"Arthur Schnitzler\",\"Realismus\"],[\"Die Frau des Richters\",\"Arthur Schnitzler\",\"Realismus\"],[\"Die Frau des Weisen\",\"Arthur Schnitzler\",\"Realismus\"],[\"Die Fremde\",\"Arthur Schnitzler\",\"Realismus\"],[\"Die griechische T\\u00e4nzerin\",\"Arthur Schnitzler\",\"Realismus\"],[\"Die gr\\u00fcne Krawatte\",\"Arthur Schnitzler\",\"Realismus\"],[\"Die Hirtenfl\\u00f6te\",\"Arthur Schnitzler\",\"Realismus\"],[\"Die kleine Kom\\u00f6die\",\"Arthur Schnitzler\",\"Realismus\"],[\"Die N\\u00e4chste\",\"Arthur Schnitzler\",\"Realismus\"],[\"Die Toten schweigen\",\"Arthur Schnitzler\",\"Realismus\"],[\"Die Weissagung\",\"Arthur Schnitzler\",\"Realismus\"],[\"Doktor Gr\\u00e4sler, Badearzt\",\"Arthur Schnitzler\",\"Realismus\"],[\"Ein Abschied\",\"Arthur Schnitzler\",\"Realismus\"],[\"Ein Erfolg\",\"Arthur Schnitzler\",\"Realismus\"],[\"Er wartet auf den vazierenden Gott\",\"Arthur Schnitzler\",\"Realismus\"],[\"Erbschaft\",\"Arthur Schnitzler\",\"Realismus\"],[\"Exzentrik\",\"Arthur Schnitzler\",\"Realismus\"],[\"Flucht in die Finsternis\",\"Arthur Schnitzler\",\"Realismus\"],[\"Frau Beate und ihr Sohn\",\"Arthur Schnitzler\",\"Realismus\"],[\"Frau Berta Garlan\",\"Arthur Schnitzler\",\"Realismus\"],[\"Geschichte eines Genies\",\"Arthur Schnitzler\",\"Realismus\"],[\"Kom\\u00f6diantinnen\",\"Arthur Schnitzler\",\"Realismus\"],[\"Leutnant Gustl\",\"Arthur Schnitzler\",\"Realismus\"],[\"Mein Freund Ypsilon\",\"Arthur Schnitzler\",\"Realismus\"],[\"Reichtum\",\"Arthur Schnitzler\",\"Realismus\"],[\"Spiel im Morgengrauen\",\"Arthur Schnitzler\",\"Realismus\"],[\"Sterben\",\"Arthur Schnitzler\",\"Realismus\"],[\"Therese\",\"Arthur Schnitzler\",\"Realismus\"],[\"Traumnovelle\",\"Arthur Schnitzler\",\"Realismus\"],[\"Um eine Stunde\",\"Arthur Schnitzler\",\"Realismus\"],[\"Welch eine Melodie\",\"Arthur Schnitzler\",\"Realismus\"],[\"Wohltaten Still und Rein gegeben\",\"Arthur Schnitzler\",\"Realismus\"],[\"Carmen\",\"Arthur Schurig\",\"Realismus\"],[\"Der Doppelg\\u00e4nger. Neun neue Beethoven-Novellen\",\"Arthur Schurig\",\"Realismus\"],[\"Der Roman von Tristan und Isolde\",\"Arthur Schurig\",\"Realismus\"],[\"Ehrlos?\",\"Arthur Zapp\",\"Realismus\"],[\"Bankhaus Reichenbach\",\"Artur Landsberger\",\"Moderne\"],[\"Das Blut\",\"Artur Landsberger\",\"Moderne\"],[\"Emil\",\"Artur Landsberger\",\"Moderne\"],[\"Ha\\u00df\",\"Artur Landsberger\",\"Moderne\"],[\"Liebe und Bananen\",\"Artur Landsberger\",\"Moderne\"],[\"Mensch und Richter\",\"Artur Landsberger\",\"Moderne\"],[\"Raffke & Cie.\",\"Artur Landsberger\",\"Moderne\"],[\"Um den Sohn\",\"Artur Landsberger\",\"Moderne\"],[\"Villa im Tiergarten\",\"Artur Landsberger\",\"Moderne\"],[\"Der Beinbruch\",\"August Friedrich Ernst Langbein\",\"Kunstepoche\"],[\"Norika\",\"August Hagen\",\"Kunstepoche\"],[\"Allerlei Geister\",\"August Kopisch\",\"Kunstepoche\"],[\"Wenn die Sonne sinkt\",\"August Trinius\",\"Realismus\"],[\"Die Tochter des Regiments und andere Novellen\",\"Balduin Groller\",\"Realismus\"],[\"Eine Panik und andre humoristische Erz\\u00e4hlungen\",\"Balduin Groller\",\"Realismus\"],[\"Ganz zuf\\u00e4llig und andere humoristische Novellen\",\"Balduin Groller\",\"Realismus\"],[\"In schlechter Form und andere Novellen\",\"Balduin Groller\",\"Realismus\"],[\"T\\u00f6te sie!\",\"Balduin Groller\",\"Realismus\"],[\"Das Monogramm\",\"Balduin M\\u00f6llhausen\",\"Vorm\\u00e4rz\"],[\"Das Mormonenm\\u00e4dchen - Band 1\",\"Balduin M\\u00f6llhausen\",\"Vorm\\u00e4rz\"],[\"Das Mormonenm\\u00e4dchen - Band 2\",\"Balduin M\\u00f6llhausen\",\"Vorm\\u00e4rz\"],[\"Der F\\u00e4hrmann am Kanadian\",\"Balduin M\\u00f6llhausen\",\"Vorm\\u00e4rz\"],[\"Der Majordomo\",\"Balduin M\\u00f6llhausen\",\"Vorm\\u00e4rz\"],[\"Der Vaquero\",\"Balduin M\\u00f6llhausen\",\"Vorm\\u00e4rz\"],[\"Die beiden Jachten\",\"Balduin M\\u00f6llhausen\",\"Vorm\\u00e4rz\"],[\"Die Familie Melville\",\"Balduin M\\u00f6llhausen\",\"Vorm\\u00e4rz\"],[\"Die Hy\\u00e4nen des Kapitals\",\"Balduin M\\u00f6llhausen\",\"Vorm\\u00e4rz\"],[\"Die Mandanen - Waise\",\"Balduin M\\u00f6llhausen\",\"Vorm\\u00e4rz\"],[\"Barf\\u00fc\\u00dfele\",\"Berthold Auerbach\",\"Vorm\\u00e4rz\"],[\"Landolin von Reutersh\\u00f6fen\",\"Berthold Auerbach\",\"Vorm\\u00e4rz\"],[\"Schwarzw\\u00e4lder Dorfgeschichten\",\"Berthold Auerbach\",\"Vorm\\u00e4rz\"],[\"B\\u00fcrgerziel\",\"Carl Albrecht Bernoulli\",\"Realismus\"],[\"Ull\",\"Carl Albrecht Bernoulli\",\"Realismus\"],[\"Das Liebhaber-Theater\",\"Carl Franz van der Velde\",\"Kunstepoche\"],[\"Drei Frauen\",\"Carl Hauptmann\",\"Realismus\"],[\"Einhart der L\\u00e4chler\",\"Carl Hauptmann\",\"Realismus\"],[\"Mathilde. Zeichnungen aus dem Leben einer armen Frau\",\"Carl Hauptmann\",\"Realismus\"],[\"N\\u00e4chte\",\"Carl Hauptmann\",\"Realismus\"],[\"Von Verbrechen und Abenteuern\",\"Carl Hauptmann\",\"Realismus\"],[\"Die h\\u00e4\\u00dfliche Wikta\",\"Carl Hermann Busse\",\"Moderne\"],[\"Jugendst\\u00fcrme\",\"Carl Hermann Busse\",\"Moderne\"],[\"Die Epigonen\",\"Carl Leberecht Immermann\",\"Kunstepoche\"],[\"D\\u00fcsseldorfer Anf\\u00e4nge\",\"Carl Leberecht Immermann\",\"Kunstepoche\"],[\"M\\u00fcnchhausen\",\"Carl Leberecht Immermann\",\"Kunstepoche\"],[\"Conrad der Leutnant\",\"Carl Spitteler\",\"Realismus\"],[\"Die M\\u00e4dchenfeinde\",\"Carl Spitteler\",\"Realismus\"],[\"Imago\",\"Carl Spitteler\",\"Realismus\"],[\"Das Kaj\\u00fctenbuch oder Nationale Charakteristiken\",\"Charles Sealsfield, eigentlich Karl Anton Postl\",\"Kunstepoche\"],[\"Die Erz\\u00e4hlung des Obersten Morse\",\"Charles Sealsfield, eigentlich Karl Anton Postl\",\"Kunstepoche\"],[\"Dosenst\\u00fccke\",\"Christian August Fischer\",\"Kunstepoche\"],[\"Hannchens Hin- und Herz\\u00fcge\",\"Christian August Fischer\",\"Kunstepoche\"],[\"Rinaldo Rinaldini, der R\\u00e4uberhauptmann\",\"Christian August Vulpius\",\"Kunstepoche\"],[\"Ausf\\u00fchrliche Erz\\u00e4hlung wie Ernst Haberfeld aus einem Bauer ein Freiherr geworden ist\",\"Christian Gotthilf Salzmann\",\"Kunstepoche\"],[\"Aristipp und einige seiner Zeitgenossen\",\"Christoph Martin Wieland\",\"Kunstepoche\"],[\"Der goldene Spiegel\",\"Christoph Martin Wieland\",\"Kunstepoche\"],[\"Die Abenteuer des Don Sylvio von Rosalva\",\"Christoph Martin Wieland\",\"Kunstepoche\"],[\"Erz\\u00e4hlungen\",\"Christoph Martin Wieland\",\"Kunstepoche\"],[\"Geschichte der Abderiten\",\"Christoph Martin Wieland\",\"Kunstepoche\"],[\"Koxkox und Kikequetzel\",\"Christoph Martin Wieland\",\"Kunstepoche\"],[\"Peregrinus Proteus\",\"Christoph Martin Wieland\",\"Kunstepoche\"],[\"190 kleine Erz\\u00e4hlungen f\\u00fcr die Jugend\",\"Christoph von Schmid\",\"Kunstepoche\"],[\"Erz\\u00e4hlungen\",\"Christoph von Schmid\",\"Kunstepoche\"],[\"Aus der Chronika eines fahrenden Sch\\u00fclers\",\"Clemens Brentano\",\"Kunstepoche\"],[\"Die drei N\\u00fcsse\",\"Clemens Brentano\",\"Kunstepoche\"],[\"Die mehreren Wehm\\u00fcller und ungarischen Nationalgesichter\",\"Clemens Brentano\",\"Kunstepoche\"],[\"Geschichte vom braven Kasperl und dem sch\\u00f6nen Annerl\",\"Clemens Brentano\",\"Kunstepoche\"],[\"Godwi oder Das steinerne Bild der Mutter\",\"Clemens Brentano\",\"Kunstepoche\"],[\"Angela Borgia\",\"Conrad Ferdinand Meyer\",\"Vorm\\u00e4rz\"],[\"Das Amulett\",\"Conrad Ferdinand Meyer\",\"Vorm\\u00e4rz\"],[\"Das Leiden eines Knaben\",\"Conrad Ferdinand Meyer\",\"Vorm\\u00e4rz\"],[\"Der Heilige\",\"Conrad Ferdinand Meyer\",\"Vorm\\u00e4rz\"],[\"Der Schu\\u00df von der Kanzel\",\"Conrad Ferdinand Meyer\",\"Vorm\\u00e4rz\"],[\"Die Hochzeit des M\\u00f6nchs\",\"Conrad Ferdinand Meyer\",\"Vorm\\u00e4rz\"],[\"Die Richterin\",\"Conrad Ferdinand Meyer\",\"Vorm\\u00e4rz\"],[\"Die Versuchung des Pescara\",\"Conrad Ferdinand Meyer\",\"Vorm\\u00e4rz\"],[\"Gustav Adolfs Page\",\"Conrad Ferdinand Meyer\",\"Vorm\\u00e4rz\"],[\"J\\u00fcrg Jenatsch\",\"Conrad Ferdinand Meyer\",\"Vorm\\u00e4rz\"],[\"Plautus im Nonnenkloster\",\"Conrad Ferdinand Meyer\",\"Vorm\\u00e4rz\"],[\"Auf der Austernfischerjagd\",\"Detlev von Liliencron\",\"Realismus\"],[\"Das Ehepaar Quint\",\"Detlev von Liliencron\",\"Realismus\"],[\"Der letzte Gru\\u00df\",\"Detlev von Liliencron\",\"Realismus\"],[\"Der Maecen\",\"Detlev von Liliencron\",\"Realismus\"],[\"Die Dithmarschen\",\"Detlev von Liliencron\",\"Realismus\"],[\"Die K\\u00f6nige von Norderoog und S\\u00fcderoog\",\"Detlev von Liliencron\",\"Realismus\"],[\"Die Schlacht bei Stellau. 1201\",\"Detlev von Liliencron\",\"Realismus\"],[\"Die Spieluhr\",\"Detlev von Liliencron\",\"Realismus\"],[\"Eine Sommerschlacht\",\"Detlev von Liliencron\",\"Realismus\"],[\"Geert der Gro\\u00dfe von Holstein\",\"Detlev von Liliencron\",\"Realismus\"],[\"Greggert Meinstorff\",\"Detlev von Liliencron\",\"Realismus\"],[\"Hetzjagd\",\"Detlev von Liliencron\",\"Realismus\"],[\"Kriegsnovellen\",\"Detlev von Liliencron\",\"Realismus\"],[\"Letzte Ernte\",\"Detlev von Liliencron\",\"Realismus\"],[\"N\\u00e4chtlicher Angriff\",\"Detlev von Liliencron\",\"Realismus\"],[\"Roggen und Weizen\",\"Detlev von Liliencron\",\"Realismus\"],[\"Unter flatternden Fahnen\",\"Detlev von Liliencron\",\"Realismus\"],[\"Das goldene Tor\",\"Diedrich Speckmann\",\"Moderne\"],[\"Heidehof Lohe\",\"Diedrich Speckmann\",\"Moderne\"],[\"Heidjers Heimkehr\",\"Diedrich Speckmann\",\"Moderne\"],[\"Der Advokatenbauer\",\"Dietrich Theden\",\"Realismus\"],[\"Die zweite Bu\\u00dfe\",\"Dietrich Theden\",\"Realismus\"],[\"Das Wyler Schl\\u00f6\\u00dfchen. Die rothen Nelken. Ein Schrei\\n\",\"Edmund Hoefer\",\"Vorm\\u00e4rz\"],[\"Bruchst\\u00fccke eines Romans\",\"Eduard M\\u00f6rike\",\"Kunstepoche\"],[\"Der Schatz\",\"Eduard M\\u00f6rike\",\"Kunstepoche\"],[\"Lucie Gelmeroth\",\"Eduard M\\u00f6rike\",\"Kunstepoche\"],[\"Die wei\\u00dfen G\\u00f6tter - Erster Band\",\"Eduard Stucken\",\"Realismus\"],[\"B\\u00fcrgerlich und Romantisch\",\"Eduard von Bauernfeld\",\"Kunstepoche\"],[\"Abendliche H\\u00e4user\",\"Eduard von Keyserling\",\"Realismus\"],[\"Dumala\",\"Eduard von Keyserling\",\"Realismus\"],[\"Feiertagskinder\",\"Eduard von Keyserling\",\"Realismus\"],[\"Harmonie\",\"Eduard von Keyserling\",\"Realismus\"],[\"Schw\\u00fcle Tage\",\"Eduard von Keyserling\",\"Realismus\"],[\"Wellen\",\"Eduard von Keyserling\",\"Realismus\"],[\"Zwei Novellen\",\"Eduard von Keyserling\",\"Realismus\"],[\"B\\u00fcrgerin Louise\",\"Edward Stilgebauer\",\"Realismus\"],[\"Irrgarten des Lebens\",\"Emil Ertl\",\"Realismus\"],[\"Nachtschmetterlinge\",\"Emil Frommel\",\"Vorm\\u00e4rz\"],[\"Die Wallfahrt\",\"Emil G\\u00f6tt\",\"Realismus\"],[\"Die Schmiede\",\"Emil Sandt\",\"Realismus\"],[\"Die Europam\\u00fcden\",\"Ernst Adolf Willkomm\",\"Kunstepoche\"],[\"Erz\\u00e4hlungen eines Wattenschiffers\",\"Ernst Adolf Willkomm\",\"Kunstepoche\"],[\"Rheder und Matrose\",\"Ernst Adolf Willkomm\",\"Kunstepoche\"],[\"Verirrte Seelen\",\"Ernst Adolf Willkomm\",\"Kunstepoche\"],[\"Weisse Sclaven oder die Leiden des Volkes\",\"Ernst Adolf Willkomm\",\"Kunstepoche\"],[\"Die Nachtwachen des Bonaventura\",\"Ernst August Friedrich Klingemann\",\"Kunstepoche\"],[\"Der gestohlene Mond\",\"Ernst Barlach\",\"Realismus\"],[\"F\\u00fcrst Arno\",\"Ernst Eckstein\",\"Realismus\"],[\"Nero\",\"Ernst Eckstein\",\"Realismus\"],[\"Preisgekr\\u00f6nt\",\"Ernst Eckstein\",\"Realismus\"],[\"Vielliebchen\",\"Ernst Eckstein\",\"Realismus\"],[\"Die Elixiere des Teufels\",\"Ernst Theodor Amadeus Hoffmann\",\"Kunstepoche\"],[\"Lebensansichten des Katers Murr\",\"Ernst Theodor Amadeus Hoffmann\",\"Kunstepoche\"],[\"Archambauld\",\"Ernst von Wildenbruch\",\"Realismus\"],[\"Neid\",\"Ernst von Wildenbruch\",\"Realismus\"],[\"'s Meikatel und der Sexack\",\"Ernst von Wolzogen\",\"Realismus\"],[\"Das dritte Geschlecht\",\"Ernst von Wolzogen\",\"Realismus\"],[\"Der Bibelhase\",\"Ernst von Wolzogen\",\"Realismus\"],[\"Der Kraft-Mayr\",\"Ernst von Wolzogen\",\"Realismus\"],[\"Die Gloria-Hose\",\"Ernst von Wolzogen\",\"Realismus\"],[\"Die Gloria-Hose und andere Novellen\",\"Ernst von Wolzogen\",\"Realismus\"],[\"Drei Geschichten\",\"Ernst von Wolzogen\",\"Realismus\"],[\"Das Duell\",\"Ernst Wichert\",\"Moderne\"],[\"Das Grundst\\u00fcck\",\"Ernst Wichert\",\"Moderne\"],[\"Der B\\u00fcrgermeister von Thorn\",\"Ernst Wichert\",\"Moderne\"],[\"Der Schaktarp\",\"Ernst Wichert\",\"Moderne\"],[\"Der V\\u00e4ter S\\u00fcnden\",\"Ernst Wichert\",\"Moderne\"],[\"Der Wilddieb\",\"Ernst Wichert\",\"Moderne\"],[\"Die Schwestern\",\"Ernst Wichert\",\"Moderne\"],[\"Endrik Kraupatis\",\"Ernst Wichert\",\"Moderne\"],[\"Ewe\",\"Ernst Wichert\",\"Moderne\"],[\"Schuster Lange\",\"Ernst Wichert\",\"Moderne\"],[\"Das Heiratsjahr\",\"Fedor von Zobeltitz\",\"Realismus\"],[\"Der Beutezug der Liebe\",\"Fedor von Zobeltitz\",\"Realismus\"],[\"Der Kurier des Kaisers\",\"Fedor von Zobeltitz\",\"Realismus\"],[\"Der Telamone\",\"Fedor von Zobeltitz\",\"Realismus\"],[\"Bis zum Tode getreu\",\"Felix Dahn\",\"Realismus\"],[\"Kampf um Rom\",\"Felix Dahn\",\"Realismus\"],[\"Odhin's Trost\",\"Felix Dahn\",\"Realismus\"],[\"Das Schiff der Abenteuer\",\"Felix Hollaender\",\"Realismus\"],[\"Der Weg des Thomas Truck\",\"Felix Hollaender\",\"Realismus\"],[\"Die Briefe des Fr\\u00e4ulein Brandt\",\"Felix Hollaender\",\"Realismus\"],[\"Salomons Schwiegertochter\",\"Felix Hollaender\",\"Realismus\"],[\"Sturmwind im Westen\",\"Felix Hollaender\",\"Realismus\"],[\"\\u00bb1906\\u00ab\",\"Ferdinand Grautoff, Pseudonym Seestern\",\"Moderne\"],[\"Bansai!\",\"Ferdinand Grautoff, Pseudonym Seestern\",\"Moderne\"],[\"Die Steinklopfer\",\"Ferdinand von Saar\",\"Realismus\"],[\"Innocens\",\"Ferdinand von Saar\",\"Realismus\"],[\"Marianne\",\"Ferdinand von Saar\",\"Realismus\"],[\"Schlo\\u00df Kostenitz\",\"Ferdinand von Saar\",\"Realismus\"],[\"Tambi\",\"Ferdinand von Saar\",\"Realismus\"],[\"Tragik des Lebens\",\"Ferdinand von Saar\",\"Realismus\"],[\"Erz\\u00e4hlungen\",\"Frank Wedekind\",\"Realismus\"],[\"Rabbi Esra\",\"Frank Wedekind\",\"Realismus\"],[\"Moschele\",\"Franz Friedrich Alexander Hoffmann\",\"Vorm\\u00e4rz\"],[\"Grenzenlos!\",\"Franz Josef Zlatnik\",\"Moderne\"],[\"Reich und arm\",\"Franz Michael Felder\",\"Realismus\"],[\"Sieben Erz\\u00e4hlungen\",\"Franz Stelzhamer\",\"Kunstepoche\"],[\"Der Held von Trenton\",\"Franz Treller\",\"Realismus\"],[\"Unter dem R\\u00f6merhelm\",\"Franz Treller\",\"Realismus\"],[\"Die neuen Argonauten\",\"Franz von Dingelstedt\",\"Vorm\\u00e4rz\"],[\"Die Brenta-Blume\",\"Franz von Gaudy\",\"Kunstepoche\"],[\"Novellen und Erz\\u00e4hlungen 1\",\"Franz von Gaudy\",\"Kunstepoche\"],[\"Novellen und Erz\\u00e4hlungen 2\",\"Franz von Gaudy\",\"Kunstepoche\"],[\"Venetianische Novellen\",\"Franz von Gaudy\",\"Kunstepoche\"],[\"Wildanger\",\"Franz von Kobell\",\"Kunstepoche\"],[\"Die belohnte Wohlthat\",\"Franz Xaver Bronner\",\"Kunstepoche\"],[\"Ein M\\u00f6nchsleben aus der empfindsamen Zeit, Band 1\",\"Franz Xaver Bronner\",\"Kunstepoche\"],[\"Ein M\\u00f6nchsleben aus der empfindsamen Zeit, Band 2\",\"Franz Xaver Bronner\",\"Kunstepoche\"],[\"Alte und neue Heimat\",\"Friedrich Armand Strubberg, Pseudonym Armand\",\"Kunstepoche\"],[\"Die Rache des Mestizen\",\"Friedrich Armand Strubberg, Pseudonym Armand\",\"Kunstepoche\"],[\"Saat und Ernte\",\"Friedrich Armand Strubberg, Pseudonym Armand\",\"Kunstepoche\"],[\"Mittheilungen aus den geheimen Memoiren einer deutschen S\\u00e4ngerin\",\"Friedrich Bruckbr\\u00e4u\",\"Kunstepoche\"],[\"Eine Geschichte vom Galgenm\\u00e4nnlein\",\"Friedrich de la Motte Fouqu\\u00e9\",\"Kunstepoche\"],[\"Sintram und seine Gef\\u00e4hrten\",\"Friedrich de la Motte Fouqu\\u00e9\",\"Kunstepoche\"],[\"Alle jagen John Mulligan\",\"Friedrich Gerst\\u00e4cker\",\"Vorm\\u00e4rz\"],[\"Blau Wasser\",\"Friedrich Gerst\\u00e4cker\",\"Vorm\\u00e4rz\"],[\"Das alte Haus\",\"Friedrich Gerst\\u00e4cker\",\"Vorm\\u00e4rz\"],[\"Das Wrack\",\"Friedrich Gerst\\u00e4cker\",\"Vorm\\u00e4rz\"],[\"Der Erbe\",\"Friedrich Gerst\\u00e4cker\",\"Vorm\\u00e4rz\"],[\"Der erkaufte Henker\",\"Friedrich Gerst\\u00e4cker\",\"Vorm\\u00e4rz\"],[\"Der Fischfang am Mississippi\",\"Friedrich Gerst\\u00e4cker\",\"Vorm\\u00e4rz\"],[\"Der Flatbootmann\",\"Friedrich Gerst\\u00e4cker\",\"Vorm\\u00e4rz\"],[\"Der Freisch\\u00fctz\",\"Friedrich Gerst\\u00e4cker\",\"Vorm\\u00e4rz\"],[\"Der kleine Walfischf\\u00e4nger\",\"Friedrich Gerst\\u00e4cker\",\"Vorm\\u00e4rz\"],[\"Der Kunstreiter\",\"Friedrich Gerst\\u00e4cker\",\"Vorm\\u00e4rz\"],[\"Der Osage\",\"Friedrich Gerst\\u00e4cker\",\"Vorm\\u00e4rz\"],[\"Der Schiffszimmermann\",\"Friedrich Gerst\\u00e4cker\",\"Vorm\\u00e4rz\"],[\"Der tote Zimmermann\",\"Friedrich Gerst\\u00e4cker\",\"Vorm\\u00e4rz\"],[\"Der Walfischf\\u00e4nger\",\"Friedrich Gerst\\u00e4cker\",\"Vorm\\u00e4rz\"],[\"Der Wilddieb\",\"Friedrich Gerst\\u00e4cker\",\"Vorm\\u00e4rz\"],[\"Die Ahnung\",\"Friedrich Gerst\\u00e4cker\",\"Vorm\\u00e4rz\"],[\"Die Backwoodsmen Nordamerikas\",\"Friedrich Gerst\\u00e4cker\",\"Vorm\\u00e4rz\"],[\"Die Blauen und Gelben\",\"Friedrich Gerst\\u00e4cker\",\"Vorm\\u00e4rz\"],[\"Die Colonie\",\"Friedrich Gerst\\u00e4cker\",\"Vorm\\u00e4rz\"],[\"Die Flucht \\u00fcber die Kordilleren\",\"Friedrich Gerst\\u00e4cker\",\"Vorm\\u00e4rz\"],[\"Die Flu\\u00dfpiraten des Mississippi\",\"Friedrich Gerst\\u00e4cker\",\"Vorm\\u00e4rz\"],[\"Die Moderatoren\",\"Friedrich Gerst\\u00e4cker\",\"Vorm\\u00e4rz\"],[\"Die Nacht auf dem Walfisch\",\"Friedrich Gerst\\u00e4cker\",\"Vorm\\u00e4rz\"],[\"Die Regulatoren in Arkansas\",\"Friedrich Gerst\\u00e4cker\",\"Vorm\\u00e4rz\"],[\"Die Silbermine in den Ozarkgebirgen\",\"Friedrich Gerst\\u00e4cker\",\"Vorm\\u00e4rz\"],[\"Die Sklavin\",\"Friedrich Gerst\\u00e4cker\",\"Vorm\\u00e4rz\"],[\"Die Vertreibung der Mormonen aus Missouri\",\"Friedrich Gerst\\u00e4cker\",\"Vorm\\u00e4rz\"],[\"Die Wolfsglocke\",\"Friedrich Gerst\\u00e4cker\",\"Vorm\\u00e4rz\"],[\"General Franco\",\"Friedrich Gerst\\u00e4cker\",\"Vorm\\u00e4rz\"],[\"Gold\",\"Friedrich Gerst\\u00e4cker\",\"Vorm\\u00e4rz\"],[\"Hell und Dunkel\",\"Friedrich Gerst\\u00e4cker\",\"Vorm\\u00e4rz\"],[\"Herr Schultze\",\"Friedrich Gerst\\u00e4cker\",\"Vorm\\u00e4rz\"],[\"Herrn Mahlhuber's Reiseabenteuer\",\"Friedrich Gerst\\u00e4cker\",\"Vorm\\u00e4rz\"],[\"Im Busch\",\"Friedrich Gerst\\u00e4cker\",\"Vorm\\u00e4rz\"],[\"Im Eckfenster\",\"Friedrich Gerst\\u00e4cker\",\"Vorm\\u00e4rz\"],[\"In der S\\u00fcdsee\",\"Friedrich Gerst\\u00e4cker\",\"Vorm\\u00e4rz\"],[\"In Mexiko. Erster Band\",\"Friedrich Gerst\\u00e4cker\",\"Vorm\\u00e4rz\"],[\"Irrfahrten\",\"Friedrich Gerst\\u00e4cker\",\"Vorm\\u00e4rz\"],[\"Jack und Bill\",\"Friedrich Gerst\\u00e4cker\",\"Vorm\\u00e4rz\"],[\"John Wells\",\"Friedrich Gerst\\u00e4cker\",\"Vorm\\u00e4rz\"],[\"Pech!\",\"Friedrich Gerst\\u00e4cker\",\"Vorm\\u00e4rz\"],[\"Schwarz und Wei\\u00df\",\"Friedrich Gerst\\u00e4cker\",\"Vorm\\u00e4rz\"],[\"Se\\u00f1or Aguila\",\"Friedrich Gerst\\u00e4cker\",\"Vorm\\u00e4rz\"],[\"So du mir, so ich dir\",\"Friedrich Gerst\\u00e4cker\",\"Vorm\\u00e4rz\"],[\"Str\\u00e4flinge\",\"Friedrich Gerst\\u00e4cker\",\"Vorm\\u00e4rz\"],[\"Tahiti\",\"Friedrich Gerst\\u00e4cker\",\"Vorm\\u00e4rz\"],[\"Unter dem \\u00c4quator\",\"Friedrich Gerst\\u00e4cker\",\"Vorm\\u00e4rz\"],[\"Unter den Pehuenchen\",\"Friedrich Gerst\\u00e4cker\",\"Vorm\\u00e4rz\"],[\"Verh\\u00e4ngnisse\",\"Friedrich Gerst\\u00e4cker\",\"Vorm\\u00e4rz\"],[\"Anna\",\"Friedrich Hebbel\",\"Vorm\\u00e4rz\"],[\"Aus meiner Jugend\",\"Friedrich Hebbel\",\"Vorm\\u00e4rz\"],[\"Barbier Zitterlein\",\"Friedrich Hebbel\",\"Vorm\\u00e4rz\"],[\"Der Schneidermeister Nepomuk Schl\\u00e4gel auf der Freudenjagd\",\"Friedrich Hebbel\",\"Vorm\\u00e4rz\"],[\"Die Kuh\",\"Friedrich Hebbel\",\"Vorm\\u00e4rz\"],[\"Die Obermedizinalr\\u00e4tin\",\"Friedrich Hebbel\",\"Vorm\\u00e4rz\"],[\"Eine Nacht im J\\u00e4gerhause\",\"Friedrich Hebbel\",\"Vorm\\u00e4rz\"],[\"Herr Haidvogel und seine Familie\",\"Friedrich Hebbel\",\"Vorm\\u00e4rz\"],[\"Matteo\",\"Friedrich Hebbel\",\"Vorm\\u00e4rz\"],[\"Pauls merkw\\u00fcrdigste Nacht\",\"Friedrich Hebbel\",\"Vorm\\u00e4rz\"],[\"Schnock\",\"Friedrich Hebbel\",\"Vorm\\u00e4rz\"],[\"Treue Liebe\",\"Friedrich Hebbel\",\"Vorm\\u00e4rz\"],[\"Fragment von Hyperion\",\"Friedrich H\\u00f6lderlin\",\"Kunstepoche\"],[\"Hyperions Jugend\",\"Friedrich H\\u00f6lderlin\",\"Kunstepoche\"],[\"Geschichte eines Teutschen der neusten Zeit\",\"Friedrich Maximilian Klinger\",\"Kunstepoche\"],[\"[Das philosophische Gespr\\u00e4ch aus dem Geisterseher]\",\"Friedrich Schiller\",\"Kunstepoche\"],[\"Der Verbrecher aus verlorener Ehre\",\"Friedrich Schiller\",\"Kunstepoche\"],[\"Merkw\\u00fcrdiges Beispiel einer weiblichen Rache\",\"Friedrich Schiller\",\"Kunstepoche\"],[\"Alles flie\\u00dft\",\"Friedrich Spielhagen\",\"Vorm\\u00e4rz\"],[\"Allzeit voran\",\"Friedrich Spielhagen\",\"Vorm\\u00e4rz\"],[\"An der Heilquelle\",\"Friedrich Spielhagen\",\"Vorm\\u00e4rz\"],[\"Angela\",\"Friedrich Spielhagen\",\"Vorm\\u00e4rz\"],[\"Beitr\\u00e4ge zur Theorie und Technik des Romans\",\"Friedrich Spielhagen\",\"Vorm\\u00e4rz\"],[\"Clara Vere\",\"Friedrich Spielhagen\",\"Vorm\\u00e4rz\"],[\"Das Skelet im Hause\",\"Friedrich Spielhagen\",\"Vorm\\u00e4rz\"],[\"Deutsche Pioniere\",\"Friedrich Spielhagen\",\"Vorm\\u00e4rz\"],[\"Die Dorfcoquette\",\"Friedrich Spielhagen\",\"Vorm\\u00e4rz\"],[\"Die von Hohenstein. Erster Band\",\"Friedrich Spielhagen\",\"Vorm\\u00e4rz\"],[\"Ein neuer Pharao\",\"Friedrich Spielhagen\",\"Vorm\\u00e4rz\"],[\"Faustulus\",\"Friedrich Spielhagen\",\"Vorm\\u00e4rz\"],[\"Frei geboren\",\"Friedrich Spielhagen\",\"Vorm\\u00e4rz\"],[\"Hammer und Ambo\\u00df\",\"Friedrich Spielhagen\",\"Vorm\\u00e4rz\"],[\"Hans und Grete\",\"Friedrich Spielhagen\",\"Vorm\\u00e4rz\"],[\"Herrin\",\"Friedrich Spielhagen\",\"Vorm\\u00e4rz\"],[\"In der zw\\u00f6lften Stunde\",\"Friedrich Spielhagen\",\"Vorm\\u00e4rz\"],[\"In Reih' und Glied. Erster Theil\",\"Friedrich Spielhagen\",\"Vorm\\u00e4rz\"],[\"Opfer\",\"Friedrich Spielhagen\",\"Vorm\\u00e4rz\"],[\"R\\u00f6schen vom Hofe\",\"Friedrich Spielhagen\",\"Vorm\\u00e4rz\"],[\"Selbstgerecht\",\"Friedrich Spielhagen\",\"Vorm\\u00e4rz\"],[\"Stumme des Himmels\",\"Friedrich Spielhagen\",\"Vorm\\u00e4rz\"],[\"Sturmflut\",\"Friedrich Spielhagen\",\"Vorm\\u00e4rz\"],[\"Uhlenhans\",\"Friedrich Spielhagen\",\"Vorm\\u00e4rz\"],[\"Ultimo\",\"Friedrich Spielhagen\",\"Vorm\\u00e4rz\"],[\"Unter Tannen\",\"Friedrich Spielhagen\",\"Vorm\\u00e4rz\"],[\"Was will das werden? Erster Theil\",\"Friedrich Spielhagen\",\"Vorm\\u00e4rz\"],[\"Zum Zeitvertreib\",\"Friedrich Spielhagen\",\"Vorm\\u00e4rz\"],[\"Faust: Erz\\u00e4hlung in neun Briefen\",\"Friedrich von Bodenstedt\",\"Vorm\\u00e4rz\"],[\"Gr\\u00e4fin Helene\",\"Friedrich von Bodenstedt\",\"Vorm\\u00e4rz\"],[\"Am Kamin\",\"Friedrich Wilhelm Hackl\\u00e4nder\",\"Vorm\\u00e4rz\"],[\"Europ\\u00e4isches Sklavenleben\",\"Friedrich Wilhelm Hackl\\u00e4nder\",\"Vorm\\u00e4rz\"],[\"Humoristische Erz\\u00e4hlungen\",\"Friedrich Wilhelm Hackl\\u00e4nder\",\"Vorm\\u00e4rz\"],[\"Vier K\\u00f6nige \\u002f Bilder aus dem Soldatenleben\",\"Friedrich Wilhelm Hackl\\u00e4nder\",\"Vorm\\u00e4rz\"],[\"B\\u00f6hmische Novellen\",\"Fritz Mauthner\",\"Realismus\"],[\"Das Durchhaus\",\"Fritz St\\u00fcber-Gunther\",\"Moderne\"],[\"St\\u00fcrme\",\"Georg Asmussen\",\"Realismus\"],[\"Die Gred\",\"Georg Ebers\",\"Realismus\"],[\"Im Schmiedefeuer\",\"Georg Ebers\",\"Realismus\"],[\"Kleopatra\",\"Georg Ebers\",\"Realismus\"],[\"Claus St\\u00f6rtebecker\",\"Georg Engel\",\"Realismus\"],[\"Der verbotene Rausch\",\"Georg Engel\",\"Realismus\"],[\"Die Last\",\"Georg Engel\",\"Realismus\"],[\"Hann Kl\\u00fcth\",\"Georg Engel\",\"Realismus\"],[\"Der Dieb\",\"Georg Heym\",\"Moderne\"],[\"Der Dieb\",\"Georg Heym\",\"Moderne\"],[\"Eine Fratze\",\"Georg Heym\",\"Moderne\"],[\"Faust und Don Juan\",\"Georg Ludwig Hesekiel\",\"Vorm\\u00e4rz\"],[\"Der Kapuziner\",\"Georg Queri\",\"Moderne\"],[\"Aus gro\\u00dfen H\\u00f6hen\",\"Georg von Ompteda\",\"Realismus\"],[\"Das Haus\",\"Georg von Ompteda\",\"Realismus\"],[\"Denise de Montmidi\",\"Georg von Ompteda\",\"Realismus\"],[\"Der Horla\",\"Georg von Ompteda\",\"Realismus\"],[\"Der Liebling\",\"Georg von Ompteda\",\"Realismus\"],[\"Dickchen\",\"Georg von Ompteda\",\"Realismus\"],[\"Die kleine Roque\",\"Georg von Ompteda\",\"Realismus\"],[\"Die Schnepfe\",\"Georg von Ompteda\",\"Realismus\"],[\"Die Schwestern Rondoli\",\"Georg von Ompteda\",\"Realismus\"],[\"Die Tafelrunde\",\"Georg von Ompteda\",\"Realismus\"],[\"Ein Menschenleben\",\"Georg von Ompteda\",\"Realismus\"],[\"Ernst III.\",\"Georg von Ompteda\",\"Realismus\"],[\"Fr\\u00e4ulein Fifi\",\"Georg von Ompteda\",\"Realismus\"],[\"Hans und Peter\",\"Georg von Ompteda\",\"Realismus\"],[\"Herr Parent\",\"Georg von Ompteda\",\"Realismus\"],[\"Margret und Ossana\",\"Georg von Ompteda\",\"Realismus\"],[\"Maria da Caza\",\"Georg von Ompteda\",\"Realismus\"],[\"Mi\\u00df Harriet\",\"Georg von Ompteda\",\"Realismus\"],[\"Mondschein\",\"Georg von Ompteda\",\"Realismus\"],[\"Mont Oriol\",\"Georg von Ompteda\",\"Realismus\"],[\"Nutzlose Sch\\u00f6nheit\",\"Georg von Ompteda\",\"Realismus\"],[\"Schnaps-Anton\",\"Georg von Ompteda\",\"Realismus\"],[\"Stark wie der Tod\",\"Georg von Ompteda\",\"Realismus\"],[\"Tag- und Nachtgeschichten\",\"Georg von Ompteda\",\"Realismus\"],[\"Tugendpreis\",\"Georg von Ompteda\",\"Realismus\"],[\"Unser Herz\",\"Georg von Ompteda\",\"Realismus\"],[\"Fragment eines Romans\",\"Georg Weerth\",\"Vorm\\u00e4rz\"],[\"Don Juan\",\"Gerrit Engelke\",\"Moderne\"],[\"Das schnellste Schiff der Flotte\",\"Gorch Fock, eigentlich Johann Kinau\",\"Moderne\"],[\"Nach dem Sturm\",\"Gorch Fock, eigentlich Johann Kinau\",\"Moderne\"],[\"Seefahrt ist not!\",\"Gorch Fock, eigentlich Johann Kinau\",\"Moderne\"],[\"Martin Salander\",\"Gottfried Keller\",\"Vorm\\u00e4rz\"],[\"Nachgelassene Erz\\u00e4hlungen\",\"Gottfried Keller\",\"Vorm\\u00e4rz\"],[\"Z\\u00fcricher Novellen\",\"Gottfried Keller\",\"Vorm\\u00e4rz\"],[\"Kreuz und Schwert\",\"Gregor Samarow, eigentlich Johann Ferdinand Martin Oskar Meding\",\"Vorm\\u00e4rz\"],[\"Ritter oder Dame\",\"Gregor Samarow, eigentlich Johann Ferdinand Martin Oskar Meding\",\"Vorm\\u00e4rz\"],[\"Aus dem Durchschnitt\",\"Gustav Falke\",\"Realismus\"],[\"Der Mann im Nebel\",\"Gustav Falke\",\"Realismus\"],[\"Die Kinder aus Ohlsens Gang\",\"Gustav Falke\",\"Realismus\"],[\"Herr Purtaller und seine Tochter\",\"Gustav Falke\",\"Realismus\"],[\"Landen und Stranden\",\"Gustav Falke\",\"Realismus\"],[\"Die Ahnen\",\"Gustav Freytag\",\"Vorm\\u00e4rz\"],[\"Die verlorene Handschrift\",\"Gustav Freytag\",\"Vorm\\u00e4rz\"],[\"Soll und Haben\",\"Gustav Freytag\",\"Vorm\\u00e4rz\"],[\"Das gr\\u00fcne Gesicht\",\"Gustav Meyrink, eigentlich Gustav Meyer\",\"Realismus\"],[\"Der Engel vom westlichen Fenster\",\"Gustav Meyrink, eigentlich Gustav Meyer\",\"Realismus\"],[\"Der Golem\",\"Gustav Meyrink, eigentlich Gustav Meyer\",\"Realismus\"],[\"Der L\\u00f6we Alois und andere Geschichten\",\"Gustav Meyrink, eigentlich Gustav Meyer\",\"Realismus\"],[\"Der seltsame Gast\",\"Gustav Meyrink, eigentlich Gustav Meyer\",\"Realismus\"],[\"Der wei\\u00dfe Dominikaner\",\"Gustav Meyrink, eigentlich Gustav Meyer\",\"Realismus\"],[\"Des deutschen Spie\\u00dfers Wunderhorn\",\"Gustav Meyrink, eigentlich Gustav Meyer\",\"Realismus\"],[\"Die Abenteuer des Polen Sendivogius\",\"Gustav Meyrink, eigentlich Gustav Meyer\",\"Realismus\"],[\"Walpurgisnacht\",\"Gustav Meyrink, eigentlich Gustav Meyer\",\"Realismus\"],[\"Ein Namenloser\",\"Gustav Sack\",\"Moderne\"],[\"Ein verbummelter Student\",\"Gustav Sack\",\"Moderne\"],[\"Arge Sitten\",\"Hans von Hopfen, eigentlich Hans Mayer\",\"Realismus\"],[\"Der alte Praktikant\",\"Hans von Hopfen, eigentlich Hans Mayer\",\"Realismus\"],[\"Die Geschichten des Majors\",\"Hans von Hopfen, eigentlich Hans Mayer\",\"Realismus\"],[\"Die Heirath des Herrn von Waldenbergt\",\"Hans von Hopfen, eigentlich Hans Mayer\",\"Realismus\"],[\"Peregretta\",\"Hans von Hopfen, eigentlich Hans Mayer\",\"Realismus\"],[\"Robert Leichtfu\\u00df\",\"Hans von Hopfen, eigentlich Hans Mayer\",\"Realismus\"],[\"Verdorben zu Paris\",\"Hans von Hopfen, eigentlich Hans Mayer\",\"Realismus\"],[\"Mi\\u00df Lydia\",\"Hans Wachenhusen\",\"Vorm\\u00e4rz\"],[\"Was die Stra\\u00dfe verschlingt. Erster Band\",\"Hans Wachenhusen\",\"Vorm\\u00e4rz\"],[\"Das Dijon-R\\u00f6schen\",\"Heinrich Clauren, eigentlich Karl Gottlieb Samuel Heun\",\"Kunstepoche\"],[\"Das Raubschlo\\u00df\",\"Heinrich Clauren, eigentlich Karl Gottlieb Samuel Heun\",\"Kunstepoche\"],[\"Der Blutschatz\",\"Heinrich Clauren, eigentlich Karl Gottlieb Samuel Heun\",\"Kunstepoche\"],[\"Der selige Papier-M\\u00fcller\",\"Heinrich Clauren, eigentlich Karl Gottlieb Samuel Heun\",\"Kunstepoche\"],[\"Die Gr\\u00e4fin Cherubim\",\"Heinrich Clauren, eigentlich Karl Gottlieb Samuel Heun\",\"Kunstepoche\"],[\"Die Gr\\u00e4nz-Kommission\",\"Heinrich Clauren, eigentlich Karl Gottlieb Samuel Heun\",\"Kunstepoche\"],[\"Die Gro\\u00dfmutter\",\"Heinrich Clauren, eigentlich Karl Gottlieb Samuel Heun\",\"Kunstepoche\"],[\"Die Versuchung\",\"Heinrich Clauren, eigentlich Karl Gottlieb Samuel Heun\",\"Kunstepoche\"],[\"Makk\",\"Heinrich Clauren, eigentlich Karl Gottlieb Samuel Heun\",\"Kunstepoche\"],[\"Mimili\",\"Heinrich Clauren, eigentlich Karl Gottlieb Samuel Heun\",\"Kunstepoche\"],[\"Berge und Menschen\",\"Heinrich Federer\",\"Realismus\"],[\"Das letzte St\\u00fcndlein des Papstes\",\"Heinrich Federer\",\"Realismus\"],[\"Das Wunder in Holzschuhen\",\"Heinrich Federer\",\"Realismus\"],[\"Der F\\u00fcrchtemacher\",\"Heinrich Federer\",\"Realismus\"],[\"Gebt mir meine Wildnis wieder\",\"Heinrich Federer\",\"Realismus\"],[\"Jungfer Therese\",\"Heinrich Federer\",\"Realismus\"],[\"Lachweiler Geschichten\",\"Heinrich Federer\",\"Realismus\"],[\"Regina Lob\",\"Heinrich Federer\",\"Realismus\"],[\"Sisto e Sesto (Erz\\u00e4hlung)\",\"Heinrich Federer\",\"Realismus\"],[\"Spitzbube \\u00fcber Spitzbube\",\"Heinrich Federer\",\"Realismus\"],[\"Unter s\\u00fcdlichen Sonnen und Menschen\",\"Heinrich Federer\",\"Realismus\"],[\"Wander- und Wundergeschichten aus dem S\\u00fcden\",\"Heinrich Federer\",\"Realismus\"],[\"Zwei Skizzenbl\\u00e4tter\",\"Heinrich Hart\",\"Realismus\"],[\"Romanzero\",\"Heinrich Heine\",\"Kunstepoche\"],[\"Das Gl\\u00fcck\",\"Heinrich Laube\",\"Kunstepoche\"],[\"Der deutsche Krieg. I. Buch, Junker Hans. 1. Theil\",\"Heinrich Laube\",\"Kunstepoche\"],[\"Die Schauspielerin\",\"Heinrich Laube\",\"Kunstepoche\"],[\"Liebesbriefe\",\"Heinrich Laube\",\"Kunstepoche\"],[\"Novellen\",\"Heinrich Laube\",\"Kunstepoche\"],[\"Fritz Reinhardt\",\"Heinrich Schaumberger\",\"Realismus\"],[\"Gesalzene Krapfen\",\"Heinrich Schaumberger\",\"Realismus\"],[\"Im Hirtenhaus\",\"Heinrich Schaumberger\",\"Realismus\"],[\"Umsingen\",\"Heinrich Schaumberger\",\"Realismus\"],[\"Das Brautschiff\",\"Heinrich Smidt\",\"Kunstepoche\"],[\"Ein Seelenverkauf oder Was zahlt Ostindien? Dritter Theil\",\"Heinrich Smidt\",\"Kunstepoche\"],[\"Jan Blaufink oder See und Theater\",\"Heinrich Smidt\",\"Kunstepoche\"],[\"Meeresstille und hohe See\",\"Heinrich Smidt\",\"Kunstepoche\"],[\"Seegeschichten und Marinebilder\",\"Heinrich Smidt\",\"Kunstepoche\"],[\"Irmela\",\"Heinrich Steinhausen\",\"Realismus\"],[\"Addrich im Moos\",\"Heinrich Zschokke\",\"Kunstepoche\"],[\"Das Abenteuer der Neujahrsnacht\",\"Heinrich Zschokke\",\"Kunstepoche\"],[\"Das Goldmacherdorf\",\"Heinrich Zschokke\",\"Kunstepoche\"],[\"Der Fl\\u00fcchtling im Jura\",\"Heinrich Zschokke\",\"Kunstepoche\"],[\"Der Freihof von Aarau\",\"Heinrich Zschokke\",\"Kunstepoche\"],[\"Die Rose von Disentis\",\"Heinrich Zschokke\",\"Kunstepoche\"],[\"Die Walpurgisnacht\",\"Heinrich Zschokke\",\"Kunstepoche\"],[\"Ein Narr des Neunzehnten Jahrhunderts\",\"Heinrich Zschokke\",\"Kunstepoche\"],[\"Hans Dampf in allen Gassen\",\"Heinrich Zschokke\",\"Kunstepoche\"],[\"Der Begleiter\",\"Henry von Heiseler\",\"Moderne\"],[\"Wawas Ende\",\"Henry von Heiseler\",\"Moderne\"],[\"Der inwendige Garten\",\"Hermann Bahr\",\"Realismus\"],[\"Die gute Schule\",\"Hermann Bahr\",\"Realismus\"],[\"Die sch\\u00f6ne Frau\",\"Hermann Bahr\",\"Realismus\"],[\"Leander\",\"Hermann Bahr\",\"Realismus\"],[\"12 Novellen\",\"Hermann Essig\",\"Moderne\"],[\"Der Taifun\",\"Hermann Essig\",\"Moderne\"],[\"Aus allen Winkeln\",\"Hermann Heiberg\",\"Realismus\"],[\"Das Schicksal auf Moorheide\",\"Hermann Heiberg\",\"Realismus\"],[\"Fluch der Sch\\u00f6nheit\",\"Hermann Heiberg\",\"Realismus\"],[\"Gesammelte kleinere Erz\\u00e4hlungen - Band 2\",\"Hermann Kurz\",\"Vorm\\u00e4rz\"],[\"Gesammelte kleinere Erz\\u00e4hlungen - Band 3\",\"Hermann Kurz\",\"Vorm\\u00e4rz\"],[\"Gesammelte kleinere Erz\\u00e4hlungen - Band 4\",\"Hermann Kurz\",\"Vorm\\u00e4rz\"],[\"Byzantinische Novellen\",\"Hermann Lingg\",\"Vorm\\u00e4rz\"],[\"Kleine Erz\\u00e4hlungen\",\"Hermann L\\u00f6ns\",\"Realismus\"],[\"Fritz Beutel\",\"Hermann Marggraff\",\"Kunstepoche\"],[\"Der tolle Professor\",\"Hermann Sudermann\",\"Realismus\"],[\"Der verwandelte F\\u00e4cher und zwei andere Novellen\",\"Hermann Sudermann\",\"Realismus\"],[\"Es war\",\"Hermann Sudermann\",\"Realismus\"],[\"Frau Sorge\",\"Hermann Sudermann\",\"Realismus\"],[\"Geschwister\",\"Hermann Sudermann\",\"Realismus\"],[\"Im Zwielicht\",\"Hermann Sudermann\",\"Realismus\"],[\"Litauische Geschichten\",\"Hermann Sudermann\",\"Realismus\"],[\"Das blaue Mal\",\"Hugo Bettauer\",\"Moderne\"],[\"Der Kampf um Wien\",\"Hugo Bettauer\",\"Moderne\"],[\"Die Freudlose Gasse\",\"Hugo Bettauer\",\"Moderne\"],[\"Die Stadt ohne Juden\",\"Hugo Bettauer\",\"Moderne\"],[\"Faustrecht\",\"Hugo Bettauer\",\"Moderne\"],[\"Vergangenheit\",\"Hugo Salus\",\"Realismus\"],[\"Das M\\u00e4rchen der 672. Nacht\",\"Hugo von Hofmannsthal\",\"Moderne\"],[\"Die Frau ohne Schatten\",\"Hugo von Hofmannsthal\",\"Moderne\"],[\"Erlebnis des Marschalls von Bassompierre\",\"Hugo von Hofmannsthal\",\"Moderne\"],[\"Lucidor\",\"Hugo von Hofmannsthal\",\"Moderne\"],[\"Reitergeschichte\",\"Hugo von Hofmannsthal\",\"Moderne\"],[\"Tobias Guarnerius\",\"Ignaz Franz Castelli, Pseudonym Bruder Fatalis\",\"Kunstepoche\"],[\"Deutsche Sagen\",\"Jacob Grimm\",\"Kunstepoche\"],[\"An heiligen Wassern\",\"Jakob Christoph Heer\",\"Realismus\"],[\"Der K\\u00f6nig der Bernina\",\"Jakob Christoph Heer\",\"Realismus\"],[\"Der lange Balthasar\",\"Jakob Christoph Heer\",\"Realismus\"],[\"Der Wetterwart\",\"Jakob Christoph Heer\",\"Realismus\"],[\"Felix Notvest\",\"Jakob Christoph Heer\",\"Realismus\"],[\"Laubgewind\",\"Jakob Christoph Heer\",\"Realismus\"],[\"Tobias Heider\",\"Jakob Christoph Heer\",\"Realismus\"],[\"Das k\\u00f6nigliche Spiel\",\"Jakob Julius David\",\"Realismus\"],[\"Das Totenlied\",\"Jakob Julius David\",\"Realismus\"],[\"Der Bettelvogt\",\"Jakob Julius David\",\"Realismus\"],[\"Die Hanna\",\"Jakob Julius David\",\"Realismus\"],[\"Die Tochter Fortunats\",\"Jakob Julius David\",\"Realismus\"],[\"Die Troika\",\"Jakob Julius David\",\"Realismus\"],[\"Ein Poet?\",\"Jakob Julius David\",\"Realismus\"],[\"Halluzinationen\",\"Jakob Julius David\",\"Realismus\"],[\"Schu\\u00df in der Nacht\",\"Jakob Julius David\",\"Realismus\"],[\"Verst\\u00f6rte Zeit\",\"Jakob Julius David\",\"Realismus\"],[\"Empfindsamster aller Romane\",\"Jakob Michael Reinhold Lenz\",\"Kunstepoche\"],[\"Alexander in Babylon\",\"Jakob Wassermann\",\"Moderne\"],[\"Caspar Hauser oder Die Tr\\u00e4gheit des Herzens\",\"Jakob Wassermann\",\"Moderne\"],[\"Christian Wahnschaffe\",\"Jakob Wassermann\",\"Moderne\"],[\"Das G\\u00e4nsem\\u00e4nnchen\",\"Jakob Wassermann\",\"Moderne\"],[\"Das Gold von Caxamalca\",\"Jakob Wassermann\",\"Moderne\"],[\"Der Aufruhr um den Junker Ernst\",\"Jakob Wassermann\",\"Moderne\"],[\"Der Fall Maurizius\",\"Jakob Wassermann\",\"Moderne\"],[\"Der niegek\\u00fc\\u00dfte Mund und andere Erz\\u00e4hlungen\",\"Jakob Wassermann\",\"Moderne\"],[\"Die Geschichte der jungen Renate Fuchs\",\"Jakob Wassermann\",\"Moderne\"],[\"Die Juden von Zirndorf\",\"Jakob Wassermann\",\"Moderne\"],[\"Die Masken Erwin Reiners\",\"Jakob Wassermann\",\"Moderne\"],[\"Die Pest im Vintschgau\",\"Jakob Wassermann\",\"Moderne\"],[\"Die Schwestern\",\"Jakob Wassermann\",\"Moderne\"],[\"Donna Johanna von Castilien\",\"Jakob Wassermann\",\"Moderne\"],[\"Joseph Kerkhovens dritte Existenz\",\"Jakob Wassermann\",\"Moderne\"],[\"Laudin und die Seinen\",\"Jakob Wassermann\",\"Moderne\"],[\"Lukardis\",\"Jakob Wassermann\",\"Moderne\"],[\"Mein Weg als Deutscher und Jude\",\"Jakob Wassermann\",\"Moderne\"],[\"Melusine\",\"Jakob Wassermann\",\"Moderne\"],[\"Schl\\u00e4fst du, Mutter?\",\"Jakob Wassermann\",\"Moderne\"],[\"Ulrike\",\"Jakob Wassermann\",\"Moderne\"],[\"Des Geburtshelfers Walther Vierneissel Nachtgedanken \\u00fcber seine verlorenen F\\u00f6tus-Ideale\",\"Jean Paul, eigentlich Johann Paul Friedrich Richter\",\"Kunstepoche\"],[\"Barthli der Korber\",\"Jeremias Gotthelf, eigentlich Albert Bitzius\",\"Kunstepoche\"],[\"Das Erdbeerimareili\",\"Jeremias Gotthelf, eigentlich Albert Bitzius\",\"Kunstepoche\"],[\"Die schwarze Spinne\",\"Jeremias Gotthelf, eigentlich Albert Bitzius\",\"Kunstepoche\"],[\"Elsi, die seltsame Magd\",\"Jeremias Gotthelf, eigentlich Albert Bitzius\",\"Kunstepoche\"],[\"Geld und Geist\",\"Jeremias Gotthelf, eigentlich Albert Bitzius\",\"Kunstepoche\"],[\"Michels Brautschau\",\"Jeremias Gotthelf, eigentlich Albert Bitzius\",\"Kunstepoche\"],[\"Uli der P\\u00e4chter\",\"Jeremias Gotthelf, eigentlich Albert Bitzius\",\"Kunstepoche\"],[\"Wie f\\u00fcnf M\\u00e4dchen im Branntwein j\\u00e4mmerlich umkommen\",\"Jeremias Gotthelf, eigentlich Albert Bitzius\",\"Kunstepoche\"],[\"Wie Uli der Knecht gl\\u00fccklich wird\",\"Jeremias Gotthelf, eigentlich Albert Bitzius\",\"Kunstepoche\"],[\"Die Volkssagen der Altmark\",\"Jodocus Temme\",\"Kunstepoche\"],[\"Die Volkssagen von Pommern und R\\u00fcgen\",\"Jodocus Temme\",\"Kunstepoche\"],[\"Arabella von Byrnswack\",\"Johann Gabriel Seidl\",\"Kunstepoche\"],[\"Cornelia Fieramonti\",\"Johann Gabriel Seidl\",\"Kunstepoche\"],[\"Das goldene Ringlein\",\"Johann Gabriel Seidl\",\"Kunstepoche\"],[\"Der Leiermann\",\"Johann Gabriel Seidl\",\"Kunstepoche\"],[\"Der t\\u00f6dliche Knopf\",\"Johann Gabriel Seidl\",\"Kunstepoche\"],[\"Die Blaue\",\"Johann Gabriel Seidl\",\"Kunstepoche\"],[\"Die Schweden vor Olm\\u00fctz\",\"Johann Gabriel Seidl\",\"Kunstepoche\"],[\"Juana\",\"Johann Gabriel Seidl\",\"Kunstepoche\"],[\"Sie ist versorgt!\",\"Johann Gabriel Seidl\",\"Kunstepoche\"],[\"Stumme Rache\",\"Johann Gabriel Seidl\",\"Kunstepoche\"],[\"Die ewige B\\u00fcrde\\u002fDer afrikanische Rechtsspruch\",\"Johann Gottfried Herder\",\"Kunstepoche\"],[\"Die S\\u00fchne durchs Leben\",\"Johann Gottfried Kinkel\",\"Vorm\\u00e4rz\"],[\"Erz\\u00e4hlungen\",\"Johann Gottfried Kinkel\",\"Vorm\\u00e4rz\"],[\"Rheinische Erz\\u00e4hlungen\",\"Johann Gottfried Kinkel\",\"Vorm\\u00e4rz\"],[\"Siegfried von Lindenberg\",\"Johann Gottwerth M\\u00fcller\",\"Kunstepoche\"],[\"Herr Lorenz Stark\",\"Johann Jakob Engel\",\"Kunstepoche\"],[\"Herr Lorenz Stark\",\"Johann Jakob Engel\",\"Kunstepoche\"],[\"Ardinghello und die gl\\u00fcckseeligen Inseln\",\"Johann Jakob Wilhelm Heinse\",\"Kunstepoche\"],[\"Erz\\u00e4hlungen f\\u00fcr junge Damen und Dichter\",\"Johann Jakob Wilhelm Heinse\",\"Kunstepoche\"],[\"Hildegard von Hohenthal\",\"Johann Jakob Wilhelm Heinse\",\"Kunstepoche\"],[\"Der Ochsenhansl\",\"Johann Peter\",\"Realismus\"],[\"Und dann rennen wir!\",\"Johann Peter\",\"Realismus\"],[\"Wie mir die Lust zum Tanzen verging\",\"Johann Peter\",\"Realismus\"],[\"Bassompierres Geschichte von der sch\\u00f6nen Kr\\u00e4merin\",\"Johann Wolfgang von Goethe\",\"Kunstepoche\"],[\"Der Mann von funfzig Jahren\",\"Johann Wolfgang von Goethe\",\"Kunstepoche\"],[\"Der Prokurator\",\"Johann Wolfgang von Goethe\",\"Kunstepoche\"],[\"Die gef\\u00e4hrliche Wette\",\"Johann Wolfgang von Goethe\",\"Kunstepoche\"],[\"Die Geschichte von Mignons Eltern\",\"Johann Wolfgang von Goethe\",\"Kunstepoche\"],[\"Die pilgernde T\\u00f6rin\",\"Johann Wolfgang von Goethe\",\"Kunstepoche\"],[\"Die wunderlichen Nachbarskinder\",\"Johann Wolfgang von Goethe\",\"Kunstepoche\"],[\"Ferdinands Schuld und Wandlung\",\"Johann Wolfgang von Goethe\",\"Kunstepoche\"],[\"Kleinere Novellen\",\"Johann Wolfgang von Goethe\",\"Kunstepoche\"],[\"Nicht zu weit\",\"Johann Wolfgang von Goethe\",\"Kunstepoche\"],[\"Novelle\",\"Johann Wolfgang von Goethe\",\"Kunstepoche\"],[\"Sankt Joseph der Zweite\",\"Johann Wolfgang von Goethe\",\"Kunstepoche\"],[\"Wer ist der Verr\\u00e4ter?\",\"Johann Wolfgang von Goethe\",\"Kunstepoche\"],[\"Der \\u00dcberkater, Band 1\",\"Johannes Richard zur Megede\",\"Realismus\"],[\"Der \\u00dcberkater, Band 2\",\"Johannes Richard zur Megede\",\"Realismus\"],[\"Novellenbuch. Erster Band\",\"Johannes Scherr\",\"Vorm\\u00e4rz\"],[\"Altdeutsch - Erster Band\",\"Josef Eduard Konrad Bischoff\",\"Vorm\\u00e4rz\"],[\"Bankrott\",\"Josef Eduard Konrad Bischoff\",\"Vorm\\u00e4rz\"],[\"Franz von Sickingen. Erster Theil\",\"Josef Eduard Konrad Bischoff\",\"Vorm\\u00e4rz\"],[\"Neudeutsch\",\"Josef Eduard Konrad Bischoff\",\"Vorm\\u00e4rz\"],[\"Achtsp\\u00e4nnig. Erster Theil\",\"Josef Rank\",\"Vorm\\u00e4rz\"],[\"Ein Dorfbrutus. Erster Teil\",\"Josef Rank\",\"Vorm\\u00e4rz\"],[\"Sch\\u00f6n-Minnele. Erster Band\",\"Josef Rank\",\"Vorm\\u00e4rz\"],[\"Auch ich war in Arkadien\",\"Joseph Freiherr von Eichendorff\",\"Kunstepoche\"],[\"Das Marmorbild\",\"Joseph Freiherr von Eichendorff\",\"Kunstepoche\"],[\"Das Schlo\\u00df D\\u00fcrande\",\"Joseph Freiherr von Eichendorff\",\"Kunstepoche\"],[\"Der Adel und die Revolution\",\"Joseph Freiherr von Eichendorff\",\"Kunstepoche\"],[\"Die Zauberei im Herbste\",\"Joseph Freiherr von Eichendorff\",\"Kunstepoche\"],[\"Viel L\\u00e4rmen um Nichts\",\"Joseph Freiherr von Eichendorff\",\"Kunstepoche\"],[\"Das H\\u00fcnengrab\",\"Julius Hart\",\"Realismus\"],[\"Das Heimweh\",\"Julius Mosen, eigentlich Julius Moses\",\"Kunstepoche\"],[\"Meines Gro\\u00dfvaters Brautwerbung \\u002f Ismael\",\"Julius Mosen, eigentlich Julius Moses\",\"Kunstepoche\"],[\"Die Grandidiers\",\"Julius Rodenberg, eigentlich Levy\",\"Moderne\"],[\"Das schwarze Weib\",\"Julius Wolff\",\"Realismus\"],[\"Das Wildfangrecht\",\"Julius Wolff\",\"Realismus\"],[\"Der S\\u00fclfmeister\",\"Julius Wolff\",\"Realismus\"],[\"Lurlei\",\"Julius Wolff\",\"Realismus\"],[\"T\\u00f6chter\",\"Karl Adolph\",\"Realismus\"],[\"Gr\\u00f6\\u00dfenwahn\",\"Karl Bleibtreu\",\"Realismus\"],[\"Der Pojaz\",\"Karl Emil Franzos\",\"Realismus\"],[\"Die Juden von Barnow\",\"Karl Emil Franzos\",\"Realismus\"],[\"Ein Kampf ums Recht\",\"Karl Emil Franzos\",\"Realismus\"],[\"Judith Trachtenberg\",\"Karl Emil Franzos\",\"Realismus\"],[\"Leib Weihnachtskuchen und sein Kind\",\"Karl Emil Franzos\",\"Realismus\"],[\"Moschko von Parma\",\"Karl Emil Franzos\",\"Realismus\"],[\"Novellen um Liebe und Ehe\",\"Karl Emil Franzos\",\"Realismus\"],[\"Blasedow und seine S\\u00f6hne. Erster Theil\",\"Karl Gutzkow\",\"Vorm\\u00e4rz\"],[\"Der Sadduc\\u00e4er von Amsterdam\",\"Karl Gutzkow\",\"Vorm\\u00e4rz\"],[\"Der Zauberer von Rom, 1. Buch\",\"Karl Gutzkow\",\"Vorm\\u00e4rz\"],[\"Die Kurstauben\",\"Karl Gutzkow\",\"Vorm\\u00e4rz\"],[\"Die Nihilisten\",\"Karl Gutzkow\",\"Vorm\\u00e4rz\"],[\"Die Ritter vom Geiste\",\"Karl Gutzkow\",\"Vorm\\u00e4rz\"],[\"Die Selbsttaufe\",\"Karl Gutzkow\",\"Vorm\\u00e4rz\"],[\"Eine Phantasieliebe\",\"Karl Gutzkow\",\"Vorm\\u00e4rz\"],[\"Imagina Unruh\",\"Karl Gutzkow\",\"Vorm\\u00e4rz\"],[\"Jean-Jacques\",\"Karl Gutzkow\",\"Vorm\\u00e4rz\"],[\"Seraphine\",\"Karl Gutzkow\",\"Vorm\\u00e4rz\"],[\"Das Zauberwasser und andere Erz\\u00e4hlungen\",\"Karl May\",\"Realismus\"],[\"Halbblut und andere Erz\\u00e4hlungen\",\"Karl May\",\"Realismus\"],[\"Kapit\\u00e4n Kaiman und andere Erz\\u00e4hlungen\",\"Karl May\",\"Realismus\"],[\"Andreas Hartknopf. Eine Allegorie\",\"Karl Philipp Moritz\",\"Kunstepoche\"],[\"Andreas Hartknopfs Predigerjahre\",\"Karl Philipp Moritz\",\"Kunstepoche\"],[\"Fortunat und seine S\\u00f6hne\",\"Karl Simrock\",\"Kunstepoche\"],[\"Der Jesuit\",\"Karl Spindler\",\"Kunstepoche\"],[\"Der Jude\",\"Karl Spindler\",\"Kunstepoche\"],[\"Der Vogelh\\u00e4ndler von Imst\",\"Karl Spindler\",\"Kunstepoche\"],[\"Herbstviolen\",\"Karl Spindler\",\"Kunstepoche\"],[\"Putsch & Comp. Dritter Band\",\"Karl Spindler\",\"Kunstepoche\"],[\"Putsch & Comp. Erster Band\",\"Karl Spindler\",\"Kunstepoche\"],[\"Putsch & Comp. Vierter Band\",\"Karl Spindler\",\"Kunstepoche\"],[\"Putsch & Comp. Zweiter Band\",\"Karl Spindler\",\"Kunstepoche\"],[\"Regenbogenstrahlen. Erster Band\",\"Karl Spindler\",\"Kunstepoche\"],[\"Tag und Nacht. Erster Band\",\"Karl Spindler\",\"Kunstepoche\"],[\"Tag und Nacht. Zweiter Band\",\"Karl Spindler\",\"Kunstepoche\"],[\"Mien Jungsparadies\",\"Klaus Groth\",\"Vorm\\u00e4rz\"],[\"Ruggiero, der Brigant\",\"Konrad Telman, eigentlich Konrad Zitelmann\",\"Realismus\"],[\"Aspira. Der Roman einer Wolke\",\"Kurd La\\u00dfwitz\",\"Realismus\"],[\"Bis zum Nullpunkt des Seins und andere Science-Fiction-Erz\\u00e4hlungen\",\"Kurd La\\u00dfwitz\",\"Realismus\"],[\"Gegen das Weltgesetz\",\"Kurd La\\u00dfwitz\",\"Realismus\"],[\"Familie Dungs\",\"Kurt Aram, eigentlich Hans Fischer\",\"Realismus\"],[\"Leda\",\"Kurt Aram, eigentlich Hans Fischer\",\"Realismus\"],[\"Oh Ali!\",\"Kurt Aram, eigentlich Hans Fischer\",\"Realismus\"],[\"Altdeutsche Novellen, Band 1\",\"Leo Greiner\",\"Moderne\"],[\"Altdeutsche Novellen, Band 2\",\"Leo Greiner\",\"Moderne\"],[\"Der Rettungsball\",\"Leo Leipziger\",\"Realismus\"],[\"Die neuen Linden\",\"Leo Leipziger\",\"Realismus\"],[\"Am Pflug\",\"Leopold Kompert\",\"Vorm\\u00e4rz\"],[\"Judith die Zweite\",\"Leopold Kompert\",\"Vorm\\u00e4rz\"],[\"Ohne Bewilligung\",\"Leopold Kompert\",\"Vorm\\u00e4rz\"],[\"Die D\\u00fcvecke, oder die Leiden einer K\\u00f6nigin\",\"Leopold Schefer\",\"Kunstepoche\"],[\"Die Gr\\u00e4fin Ulfeld. Erster Band\",\"Leopold Schefer\",\"Kunstepoche\"],[\"G\\u00e9n\\u00e9vion von Toulouse\",\"Leopold Schefer\",\"Kunstepoche\"],[\"Das Erntefest\",\"Leopold von Sacher-Masoch\",\"Realismus\"],[\"Lola\",\"Leopold von Sacher-Masoch\",\"Realismus\"],[\"Matrena\",\"Leopold von Sacher-Masoch\",\"Realismus\"],[\"Neue Erz\\u00e4hlungen\",\"Leopold von Sacher-Masoch\",\"Realismus\"],[\"Venus im Pelz\",\"Leopold von Sacher-Masoch\",\"Realismus\"],[\"Zur Ehre Gottes!\",\"Leopold von Sacher-Masoch\",\"Realismus\"],[\"Der Familienschild\",\"Levin Sch\\u00fccking\",\"Vorm\\u00e4rz\"],[\"Der hinkende Teufel\",\"Levin Sch\\u00fccking\",\"Vorm\\u00e4rz\"],[\"Der Kampf im Spessart\",\"Levin Sch\\u00fccking\",\"Vorm\\u00e4rz\"],[\"Deutsche Eroberungen\",\"Levin Sch\\u00fccking\",\"Vorm\\u00e4rz\"],[\"Gesammelte Erz\\u00e4hlungen und Novellen. Dritter und vierter Theil\",\"Levin Sch\\u00fccking\",\"Vorm\\u00e4rz\"],[\"Gesammelte Erz\\u00e4hlungen und Novellen. Erster und zweiter Theil\",\"Levin Sch\\u00fccking\",\"Vorm\\u00e4rz\"],[\"Gesammelte Erz\\u00e4hlungen und Novellen. F\\u00fcnfter und sechster Theil\",\"Levin Sch\\u00fccking\",\"Vorm\\u00e4rz\"],[\"Hart am Rande\",\"Levin Sch\\u00fccking\",\"Vorm\\u00e4rz\"],[\"Novellen (1846). Erster Band\",\"Levin Sch\\u00fccking\",\"Vorm\\u00e4rz\"],[\"Novellen (1846). Zweiter Band\",\"Levin Sch\\u00fccking\",\"Vorm\\u00e4rz\"],[\"N\\u00fcrnberg\",\"Louise Otto-Peters\",\"Vorm\\u00e4rz\"],[\"Schlo\\u00df und Fabrik\",\"Louise Otto-Peters\",\"Vorm\\u00e4rz\"],[\"Allerseelen\",\"Ludwig Anzengruber\",\"Realismus\"],[\"Der Einsam\",\"Ludwig Anzengruber\",\"Realismus\"],[\"Der Sternsteinhof\",\"Ludwig Anzengruber\",\"Realismus\"],[\"Die M\\u00e4rchen des Steinklopferhanns\",\"Ludwig Anzengruber\",\"Realismus\"],[\"Dorfg\\u00e4nge\",\"Ludwig Anzengruber\",\"Realismus\"],[\"Drei Kleinere Erz\\u00e4hlungen\",\"Ludwig Anzengruber\",\"Realismus\"],[\"Hartingers alte Sixtin\",\"Ludwig Anzengruber\",\"Realismus\"],[\"Jaggernaut\",\"Ludwig Anzengruber\",\"Realismus\"],[\"Sein Spielzeug\",\"Ludwig Anzengruber\",\"Realismus\"],[\"Vereinsamt\",\"Ludwig Anzengruber\",\"Realismus\"],[\"Aus dem Leben und den Schriften des Magisters Herle und seines Freundes M\\u00e4nle\",\"Ludwig Aurbacher\",\"Kunstepoche\"],[\"Die schw\\u00e4bische Bauernhochzeit\",\"Ludwig Aurbacher\",\"Kunstepoche\"],[\"Erz\\u00e4hlungen, Lieder und Spr\\u00fcche aus dem \\u00bbAllerley\\u00ab\",\"Ludwig Aurbacher\",\"Kunstepoche\"],[\"Deutsches Sagenbuch\",\"Ludwig Bechstein\",\"Kunstepoche\"],[\"Bergheimat\",\"Ludwig Ganghofer\",\"Realismus\"],[\"Das neue Wesen\",\"Ludwig Ganghofer\",\"Realismus\"],[\"Der Ochsenkrieg\",\"Ludwig Ganghofer\",\"Realismus\"],[\"Fliegender Sommer\",\"Ludwig Ganghofer\",\"Realismus\"],[\"Schlo\\u00df Hubertus\",\"Ludwig Ganghofer\",\"Realismus\"],[\"1812\",\"Ludwig Rellstab\",\"Kunstepoche\"],[\"Der Diplomat\",\"Ludwig Storch\",\"Kunstepoche\"],[\"Orestes in Paris\",\"Ludwig Storch\",\"Kunstepoche\"],[\"Andreas V\\u00f6st\",\"Ludwig Thoma\",\"Realismus\"],[\"Der Ruepp\",\"Ludwig Thoma\",\"Realismus\"],[\"Der Wittiber\",\"Ludwig Thoma\",\"Realismus\"],[\"Kaspar Lorinser\",\"Ludwig Thoma\",\"Realismus\"],[\"Weitere Erz\\u00e4hlungen\",\"Ludwig Thoma\",\"Realismus\"],[\"Abdallah\",\"Ludwig Tieck\",\"Kunstepoche\"],[\"Almansur\",\"Ludwig Tieck\",\"Kunstepoche\"],[\"Das gr\\u00fcne Band\",\"Ludwig Tieck\",\"Kunstepoche\"],[\"Der Aufzug der Romanze\",\"Ludwig Tieck\",\"Kunstepoche\"],[\"Der Jahrmarkt\",\"Ludwig Tieck\",\"Kunstepoche\"],[\"Der junge Tischlermeister\",\"Ludwig Tieck\",\"Kunstepoche\"],[\"Der Roman in Briefen\",\"Ludwig Tieck\",\"Kunstepoche\"],[\"Die Br\\u00fcder\",\"Ludwig Tieck\",\"Kunstepoche\"],[\"Die Reisenden\",\"Ludwig Tieck\",\"Kunstepoche\"],[\"Die sieben Weiber des Blaubart\",\"Ludwig Tieck\",\"Kunstepoche\"],[\"Die Verlobung\",\"Ludwig Tieck\",\"Kunstepoche\"],[\"Die Vogelscheuche\",\"Ludwig Tieck\",\"Kunstepoche\"],[\"Eine Sommerreise\",\"Ludwig Tieck\",\"Kunstepoche\"],[\"Geschichte des Herrn William Lovell\",\"Ludwig Tieck\",\"Kunstepoche\"],[\"Gl\\u00fcck giebt Verstand\",\"Ludwig Tieck\",\"Kunstepoche\"],[\"Victoria Accorombona\",\"Ludwig Tieck\",\"Kunstepoche\"],[\"Waldeinsamkeit\",\"Ludwig Tieck\",\"Kunstepoche\"],[\"Wunderlichkeiten\",\"Ludwig Tieck\",\"Kunstepoche\"],[\"Scala santa\",\"Max Burckhard\",\"Realismus\"],[\"Die acht Gesichter am Biwasee\",\"Max Dauthendey\",\"Realismus\"],[\"Geschichten aus den vier Winden\",\"Max Dauthendey\",\"Realismus\"],[\"Josa Gerth\",\"Max Dauthendey\",\"Realismus\"],[\"Lingam\",\"Max Dauthendey\",\"Realismus\"],[\"Novellen und Erz\\u00e4hlungen\",\"Max Dauthendey\",\"Realismus\"],[\"Raubmenschen\",\"Max Dauthendey\",\"Realismus\"],[\"Der Invalide\",\"Max Eyth\",\"Realismus\"],[\"Die ersten Tanzschuhe\",\"Max Eyth\",\"Realismus\"],[\"Madonna\",\"Max Eyth\",\"Realismus\"],[\"M\\u00f6nch und Landsknecht\",\"Max Eyth\",\"Realismus\"],[\"Vorwort\",\"Max Eyth\",\"Realismus\"],[\"Frauenherzen\",\"Max Ring\",\"Vorm\\u00e4rz\"],[\"Irrwege\\u002fEin Staatsgeheimnis\",\"Max Ring\",\"Vorm\\u00e4rz\"],[\"John Milton und seine Zeit\",\"Max Ring\",\"Vorm\\u00e4rz\"],[\"Julie Eberhard\",\"Max Ring\",\"Vorm\\u00e4rz\"],[\"Lose V\\u00f6gel\",\"Max Ring\",\"Vorm\\u00e4rz\"],[\"Aus der Junkerwelt\",\"Max Waldau\",\"Vorm\\u00e4rz\"],[\"'s Almstummerl\",\"Maximilian Schmidt\",\"Realismus\"],[\"Der Bubenrichter von Mittenwald\",\"Maximilian Schmidt\",\"Realismus\"],[\"Der Zuggeist oder die erste Zugspitzbesteigung\",\"Maximilian Schmidt\",\"Realismus\"],[\"Die Ameisenhexe\",\"Maximilian Schmidt\",\"Realismus\"],[\"Die Jachenauer in Griechenland\",\"Maximilian Schmidt\",\"Realismus\"],[\"Maria Pettenpeck\",\"Maximilian Schmidt\",\"Realismus\"],[\"Meister Martin\",\"Maximilian Schmidt\",\"Realismus\"],[\"Das Gl\\u00f6cklein auf Rain\",\"Meinrad Lienert\",\"Realismus\"],[\"Der K\\u00f6nig von Euland\",\"Meinrad Lienert\",\"Realismus\"],[\"Der Pfeiferk\\u00f6nig. Eine Z\\u00fcrchergeschichte\",\"Meinrad Lienert\",\"Realismus\"],[\"Was die Isar rauscht\",\"Michael Georg Conrad\",\"Realismus\"],[\"Reise in die mitt\\u00e4glichen Provinzen von Frankreich im Jahre 1785-1786\",\"Moritz August von Th\\u00fcmmel\",\"Kunstepoche\"],[\"Wilhelmine's Werdegang\",\"Moritz August von Th\\u00fcmmel\",\"Kunstepoche\"],[\"Der Krieg um den Wald\",\"Moritz Hartmann\",\"Vorm\\u00e4rz\"],[\"Die Tobias-Vase\",\"Moritz Heimann\",\"Realismus\"],[\"Dr. Wislizenus\",\"Moritz Heimann\",\"Realismus\"],[\"Wintergespinst\",\"Moritz Heimann\",\"Realismus\"],[\"Die Lehrlinge zu Sais\",\"Novalis, eigentlich Friedrich von Hardenberg\",\"Kunstepoche\"],[\"Heinrich von Ofterdingen\",\"Novalis, eigentlich Friedrich von Hardenberg\",\"Kunstepoche\"],[\"Der Sterngucker und die Pensionsmama\",\"Oskar H\\u00f6cker\",\"Realismus\"],[\"Deutsche Treue, welsche T\\u00fccke\",\"Oskar H\\u00f6cker\",\"Realismus\"],[\"Die Sonne von St. Moritz\",\"Oskar H\\u00f6cker\",\"Realismus\"],[\"Die verbotene Frucht\",\"Oskar H\\u00f6cker\",\"Realismus\"],[\"Erfindung der Buchdruckerkunst\",\"Oskar H\\u00f6cker\",\"Realismus\"],[\"Lebendig begraben\",\"Oskar H\\u00f6cker\",\"Realismus\"],[\"N\\u00e4rrische K\\u00e4uze\",\"Oskar H\\u00f6cker\",\"Realismus\"],[\"Aus dem Tagebuch eines Hundes\",\"Oskar Panizza\",\"Realismus\"],[\"D\\u00e4mmrungsst\\u00fccke\",\"Oskar Panizza\",\"Realismus\"],[\"Das Verbrechen in Tavistock-Square\",\"Oskar Panizza\",\"Realismus\"],[\"Visionen\",\"Oskar Panizza\",\"Realismus\"],[\"Der bunte Vogel\",\"Otto Erich Hartleben\",\"Realismus\"],[\"Die Geschichte vom abgerissenen Knopfe\",\"Otto Erich Hartleben\",\"Realismus\"],[\"Die Ser\\u00e9nyi\",\"Otto Erich Hartleben\",\"Realismus\"],[\"Vom Gastfreien Pastor\",\"Otto Erich Hartleben\",\"Realismus\"],[\"Appelschnut\",\"Otto Ernst, eigentlich Otto Ernst Schmidt\",\"Realismus\"],[\"Asmus Sempers Jugendland\",\"Otto Ernst, eigentlich Otto Ernst Schmidt\",\"Realismus\"],[\"Der s\\u00fc\\u00dfe Willy\",\"Otto Ernst, eigentlich Otto Ernst Schmidt\",\"Realismus\"],[\"Die Kunstreise nach H\\u00fcmpeldorf\",\"Otto Ernst, eigentlich Otto Ernst Schmidt\",\"Realismus\"],[\"Ein frohes Farbenspiel\",\"Otto Ernst, eigentlich Otto Ernst Schmidt\",\"Realismus\"],[\"Himmel voller Geigen\",\"Otto Ernst, eigentlich Otto Ernst Schmidt\",\"Realismus\"],[\"Semper der J\\u00fcngling\",\"Otto Ernst, eigentlich Otto Ernst Schmidt\",\"Realismus\"],[\"Semper der Mann\",\"Otto Ernst, eigentlich Otto Ernst Schmidt\",\"Realismus\"],[\"Das sch\\u00f6ne M\\u00e4dchen von Pao\",\"Otto Julius Bierbaum\",\"Realismus\"],[\"Die Freiersfahrten und Freiersmeinungen des weiberfeindlichen Herrn Pankrazius Graunzer\",\"Otto Julius Bierbaum\",\"Realismus\"],[\"Prinz Kuckuck\",\"Otto Julius Bierbaum\",\"Realismus\"],[\"Stilpe. Ein Roman aus der Froschperspektive\",\"Otto Julius Bierbaum\",\"Realismus\"],[\"Studenten-Beichten\",\"Otto Julius Bierbaum\",\"Realismus\"],[\"Die Heiteretei und ihr Widerspiel\",\"Otto Ludwig\",\"Vorm\\u00e4rz\"],[\"Erz\\u00e4hlungen\",\"Otto Roquette\",\"Vorm\\u00e4rz\"],[\"Luginsland\",\"Otto Roquette\",\"Vorm\\u00e4rz\"],[\"Orion\",\"Otto Roquette\",\"Vorm\\u00e4rz\"],[\"Das Verm\\u00e4chtnis des Pedlars\",\"Otto Ruppius\",\"Vorm\\u00e4rz\"],[\"Der Pedlar\",\"Otto Ruppius\",\"Vorm\\u00e4rz\"],[\"Allerleirauh\",\"Otto Stoessl\",\"Moderne\"],[\"Die Schmiere\",\"Otto Stoessl\",\"Moderne\"],[\"Egon und Danitza\",\"Otto Stoessl\",\"Moderne\"],[\"Johannes Freudensprung\",\"Otto Stoessl\",\"Moderne\"],[\"Menschend\\u00e4mmerung\",\"Otto Stoessl\",\"Moderne\"],[\"Morgenrot\",\"Otto Stoessl\",\"Moderne\"],[\"Nachtgeschichten\",\"Otto Stoessl\",\"Moderne\"],[\"Negerk\\u00f6nigs Tochter\",\"Otto Stoessl\",\"Moderne\"],[\"Sonjas letzter Name\",\"Otto Stoessl\",\"Moderne\"],[\"Der Fremdling\",\"Paul Enderling\",\"Moderne\"],[\"Das Gl\\u00fcck von Lautenthal\",\"Paul Ernst\",\"Realismus\"],[\"Der Nobelpreis\",\"Paul Ernst\",\"Realismus\"],[\"Der Schatz im Morgenbrotstal\",\"Paul Ernst\",\"Realismus\"],[\"Der schmale Weg zum Gl\\u00fcck\",\"Paul Ernst\",\"Realismus\"],[\"Der Tod des Cosimo\",\"Paul Ernst\",\"Realismus\"],[\"Die Taufe\",\"Paul Ernst\",\"Realismus\"],[\"Geschichten von deutscher Art\",\"Paul Ernst\",\"Realismus\"],[\"Kom\\u00f6dianten- und Spitzbubengeschichten\",\"Paul Ernst\",\"Realismus\"],[\"Prinzessin des Ostens\",\"Paul Ernst\",\"Realismus\"],[\"Achtzehnte Sammlung der Novellen\",\"Paul Heyse\",\"Vorm\\u00e4rz\"],[\"Andrea Delfin\",\"Paul Heyse\",\"Vorm\\u00e4rz\"],[\"Crone St\\u00e4udlin\",\"Paul Heyse\",\"Vorm\\u00e4rz\"],[\"Der Novellen zehnte Sammlung\",\"Paul Heyse\",\"Vorm\\u00e4rz\"],[\"Der Sohn seines Vaters und andere Novellen\",\"Paul Heyse\",\"Vorm\\u00e4rz\"],[\"Dreizehnte Sammlung der Novellen\",\"Paul Heyse\",\"Vorm\\u00e4rz\"],[\"Einzelne Novellen\",\"Paul Heyse\",\"Vorm\\u00e4rz\"],[\"Elfte Sammlung der Novellen\",\"Paul Heyse\",\"Vorm\\u00e4rz\"],[\"F\\u00fcnf neue Novellen. Sechste Sammlung\",\"Paul Heyse\",\"Vorm\\u00e4rz\"],[\"F\\u00fcnfte Sammlung der Novellen\",\"Paul Heyse\",\"Vorm\\u00e4rz\"],[\"F\\u00fcnfzehnte Sammlung der Novellen\",\"Paul Heyse\",\"Vorm\\u00e4rz\"],[\"Gegen den Strom\",\"Paul Heyse\",\"Vorm\\u00e4rz\"],[\"Kinder der Welt\",\"Paul Heyse\",\"Vorm\\u00e4rz\"],[\"L' Arrabbiata\",\"Paul Heyse\",\"Vorm\\u00e4rz\"],[\"Letzte Novellen\",\"Paul Heyse\",\"Vorm\\u00e4rz\"],[\"Melusine und andere Novellen\",\"Paul Heyse\",\"Vorm\\u00e4rz\"],[\"Moralische Novellen. Achte Sammlung\",\"Paul Heyse\",\"Vorm\\u00e4rz\"],[\"Moralische Unm\\u00f6glichkeiten und andere Novellen\",\"Paul Heyse\",\"Vorm\\u00e4rz\"],[\"Neue Novellen [2. Sammlung]\",\"Paul Heyse\",\"Vorm\\u00e4rz\"],[\"Neunte Sammlung der Novellen\",\"Paul Heyse\",\"Vorm\\u00e4rz\"],[\"Ninon und andere Novellen\",\"Paul Heyse\",\"Vorm\\u00e4rz\"],[\"Novellen [1. Sammlung]\",\"Paul Heyse\",\"Vorm\\u00e4rz\"],[\"Novellen in Versen\",\"Paul Heyse\",\"Vorm\\u00e4rz\"],[\"Novellen und Terzinen. Siebente Sammlung der Novellen\",\"Paul Heyse\",\"Vorm\\u00e4rz\"],[\"Novellen vom Gardasee\",\"Paul Heyse\",\"Vorm\\u00e4rz\"],[\"Sechzehnte Sammlung der Novellen\",\"Paul Heyse\",\"Vorm\\u00e4rz\"],[\"Siebenzehnte Sammlung der Novellen\",\"Paul Heyse\",\"Vorm\\u00e4rz\"],[\"Victoria regia und andere Novellen\",\"Paul Heyse\",\"Vorm\\u00e4rz\"],[\"Vier neue Novellen. Dritte Sammlung\",\"Paul Heyse\",\"Vorm\\u00e4rz\"],[\"Vier neue Novellen. Vierte Sammlung\",\"Paul Heyse\",\"Vorm\\u00e4rz\"],[\"Vierzehnte Sammlung der Novellen\",\"Paul Heyse\",\"Vorm\\u00e4rz\"],[\"Villa Falconieri und andere Novellen\",\"Paul Heyse\",\"Vorm\\u00e4rz\"],[\"Zw\\u00f6lfte Sammlung der Novellen\",\"Paul Heyse\",\"Vorm\\u00e4rz\"],[\"Altenroda\",\"Paul Keller\",\"Moderne\"],[\"Das letzte M\\u00e4rchen\",\"Paul Keller\",\"Moderne\"],[\"Von kleinen Leuten und gro\\u00dfen Dingen\",\"Paul Keller\",\"Moderne\"],[\"Blondes Gift\",\"Paul Langenscheidt\",\"Realismus\"],[\"Graf Cohn\",\"Paul Langenscheidt\",\"Realismus\"],[\"Kanaillen\",\"Paul Langenscheidt\",\"Realismus\"],[\"Taumel\",\"Paul Langenscheidt\",\"Realismus\"],[\"Der K\\u00f6nig von Sidon\",\"Paul Lindau\",\"Realismus\"],[\"Die kleine Madonna\",\"Paul Lindau\",\"Realismus\"],[\"H\\u00e4ngendes Moos\",\"Paul Lindau\",\"Realismus\"],[\"Im Fieber\",\"Paul Lindau\",\"Realismus\"],[\"Mayo\",\"Paul Lindau\",\"Realismus\"],[\"Mein Freund Hilarius\",\"Paul Lindau\",\"Realismus\"],[\"Toggenburg\",\"Paul Lindau\",\"Realismus\"],[\"Tragische Geschichten\",\"Paul Lindau\",\"Realismus\"],[\"Der Ruf aus dem Aether\",\"Paul Rosenhayn\",\"Moderne\"],[\"Nachtanruf\",\"Paul Rosenhayn\",\"Moderne\"],[\"Flora Mohr\",\"Paul Scheerbart\",\"Realismus\"],[\"Immer mutig!\",\"Paul Scheerbart\",\"Realismus\"],[\"Lesab\\u00e9ndio.\",\"Paul Scheerbart\",\"Realismus\"],[\"Liw\\u00fbna und Kaid\\u00f4h. Ein Seelenroman\",\"Paul Scheerbart\",\"Realismus\"],[\"Machtsp\\u00e4\\u00dfe.\",\"Paul Scheerbart\",\"Realismus\"],[\"Tarub, Bagdads ber\\u00fchmte K\\u00f6chin\",\"Paul Scheerbart\",\"Realismus\"],[\"Der b\\u00f6se Baron von Krosigk\",\"Paul Schreckenbach\",\"Realismus\"],[\"Der deutsche Herzog\",\"Paul Schreckenbach\",\"Realismus\"],[\"Der getreue Kleist\",\"Paul Schreckenbach\",\"Realismus\"],[\"Der K\\u00f6nig von Rothenburg\",\"Paul Schreckenbach\",\"Realismus\"],[\"Die letzten Rudelsburger\",\"Paul Schreckenbach\",\"Realismus\"],[\"Die von Wintzingerode\",\"Paul Schreckenbach\",\"Realismus\"],[\"Michael Meyenburg\",\"Paul Schreckenbach\",\"Realismus\"],[\"Um die Wartburg\",\"Paul Schreckenbach\",\"Realismus\"],[\"Wildef\\u00fcer\",\"Paul Schreckenbach\",\"Realismus\"],[\"Die Schriften des Waldschulmeisters\",\"Peter Rosegger, eigentlich Ro\\u00dfegger\",\"Realismus\"],[\"Felix der Begehrte\",\"Peter Rosegger, eigentlich Ro\\u00dfegger\",\"Realismus\"],[\"Kleine Erz\\u00e4hlungen\",\"Peter Rosegger, eigentlich Ro\\u00dfegger\",\"Realismus\"],[\"Waldheimat. Erz\\u00e4hlungen aus der Jugendzeit\",\"Peter Rosegger, eigentlich Ro\\u00dfegger\",\"Realismus\"],[\"Zwei Menschen. Roman in Romanzen\",\"Richard Dehmel\",\"Realismus\"],[\"Alpentrag\\u00f6die\",\"Richard Vo\\u00df\",\"Realismus\"],[\"Brutus, auch Du!\",\"Richard Vo\\u00df\",\"Realismus\"],[\"Die Mutter der Catonen\",\"Richard Vo\\u00df\",\"Realismus\"],[\"Die R\\u00e4cherin und andere r\\u00f6mische Novellen\",\"Richard Vo\\u00df\",\"Realismus\"],[\"Die Sabinerin\",\"Richard Vo\\u00df\",\"Realismus\"],[\"Felice Leste\",\"Richard Vo\\u00df\",\"Realismus\"],[\"Michael Cibula\",\"Richard Vo\\u00df\",\"Realismus\"],[\"Rolla\",\"Richard Vo\\u00df\",\"Realismus\"],[\"R\\u00f6misches Fieber\",\"Richard Vo\\u00df\",\"Realismus\"],[\"Villa Falconieri\",\"Richard Vo\\u00df\",\"Realismus\"],[\"Zwei Menschen\",\"Richard Vo\\u00df\",\"Realismus\"],[\"Der heimliche Gast\",\"Robert Byr, eigentlich Karl Robert Emanuel von Bayer\",\"Realismus\"],[\"Lydia\",\"Robert Byr, eigentlich Karl Robert Emanuel von Bayer\",\"Realismus\"],[\"Das Engelchen. Erster Theil\",\"Robert Eduard Prutz\",\"Vorm\\u00e4rz\"],[\"Die verscherzte Himmelsmacht\",\"Robert Fuchs-Liska\",\"Realismus\"],[\"Hatzicho der Wolf\",\"Robert Fuchs-Liska\",\"Realismus\"],[\"Um die Freiheit\",\"Robert Schweichel\",\"Vorm\\u00e4rz\"],[\"Ums Herz\",\"Robert Schweichel\",\"Vorm\\u00e4rz\"],[\"Trug-Gold\",\"Rudolf Baumbach\",\"Realismus\"],[\"Der Opfergang\",\"Rudolf G. Binding\",\"Realismus\"],[\"Die Geige\",\"Rudolf G. Binding\",\"Realismus\"],[\"Im Banne des Schwarzen Adlers\",\"Rudolf Gottschall\",\"Vorm\\u00e4rz\"],[\"Parasiten\",\"Rudolf Gottschall\",\"Vorm\\u00e4rz\"],[\"Romeo und Julie am Pregel\",\"Rudolf Gottschall\",\"Vorm\\u00e4rz\"],[\"Schulr\\u00f6schen\",\"Rudolf Gottschall\",\"Vorm\\u00e4rz\"],[\"Die Einkommensteuer\",\"Rudolf Hawel\",\"Realismus\"],[\"Dr. Thorns Lebensabend\",\"Rudolf Hawel\",\"Realismus\"],[\"Im Reiche der Homunkuliden\",\"Rudolf Hawel\",\"Realismus\"],[\"Das Gl\\u00fcckspendel\",\"Rudolf Lindau\",\"Vorm\\u00e4rz\"],[\"Der Gast\",\"Rudolf Lindau\",\"Vorm\\u00e4rz\"],[\"Der Hamal\",\"Rudolf Lindau\",\"Vorm\\u00e4rz\"],[\"Ein ganzes Leben\",\"Rudolf Lindau\",\"Vorm\\u00e4rz\"],[\"Erz\\u00e4hlungen aus dem Osten\",\"Rudolf Lindau\",\"Vorm\\u00e4rz\"],[\"Liebesheiraten\",\"Rudolf Lindau\",\"Vorm\\u00e4rz\"],[\"Liquidiert\",\"Rudolf Lindau\",\"Vorm\\u00e4rz\"],[\"Morgenland und Abendland\",\"Rudolf Lindau\",\"Vorm\\u00e4rz\"],[\"Schweigen\",\"Rudolf Lindau\",\"Vorm\\u00e4rz\"],[\"Am Kaminf\\u00fc\\u00fcr\",\"Rudolf von Tavel\",\"Realismus\"],[\"Bernbiet\",\"Rudolf von Tavel\",\"Realismus\"],[\"D' Haselmuus\",\"Rudolf von Tavel\",\"Realismus\"],[\"De Houpme Lombach\",\"Rudolf von Tavel\",\"Realismus\"],[\"Der St\\u00e4rn vo Buebeb\\u00e4rg\",\"Rudolf von Tavel\",\"Realismus\"],[\"G\\u00f6tti und Gotteli\",\"Rudolf von Tavel\",\"Realismus\"],[\"Gueti Gschpane\",\"Rudolf von Tavel\",\"Realismus\"],[\"Heimgefunden\",\"Rudolf von Tavel\",\"Realismus\"],[\"Heinz Tillmann\",\"Rudolf von Tavel\",\"Realismus\"],[\"J\\u00e4 g\\u00e4ll, so geit's\",\"Rudolf von Tavel\",\"Realismus\"],[\"Meister und Ritter\",\"Rudolf von Tavel\",\"Realismus\"],[\"Unspunne. Wie\\u2019s der Haselmuus wyter ergangen isch\",\"Rudolf von Tavel\",\"Realismus\"],[\"Veteranezyt\",\"Rudolf von Tavel\",\"Realismus\"],[\"Der graue Herrr\",\"Rudolph Stratz\",\"Realismus\"],[\"Der mysteri\\u00f6se Cavalier und andere Novellen\",\"Rudolph Stratz\",\"Realismus\"],[\"Der wei\\u00dfe Tod\",\"Rudolph Stratz\",\"Realismus\"],[\"Herzblut\",\"Rudolph Stratz\",\"Realismus\"],[\"Hexenkessel\",\"Rudolph Stratz\",\"Realismus\"],[\"Karussel Berlin\",\"Rudolph Stratz\",\"Realismus\"],[\"K\\u00f6nig und K\\u00e4rrner\",\"Rudolph Stratz\",\"Realismus\"],[\"Madlene\",\"Rudolph Stratz\",\"Realismus\"],[\"Montblanc\",\"Rudolph Stratz\",\"Realismus\"],[\"Schlo\\u00df Vogel\\u00f6d\",\"Rudolph Stratz\",\"Realismus\"],[\"Seine englische Frau\",\"Rudolph Stratz\",\"Realismus\"],[\"Unter den Linden\",\"Rudolph Stratz\",\"Realismus\"],[\"Der Ungem\\u00fctliche\",\"Rupert Johann Hammerling\",\"Vorm\\u00e4rz\"],[\"Die Walds\\u00e4ngerin\",\"Rupert Johann Hammerling\",\"Vorm\\u00e4rz\"],[\"M\\u00e4hrchen und Erz\\u00e4hlungen. Dritter Band\",\"Siegfried August Mahlmann\",\"Kunstepoche\"],[\"M\\u00e4hrchen und Erz\\u00e4hlungen. Erster Band\",\"Siegfried August Mahlmann\",\"Kunstepoche\"],[\"M\\u00e4hrchen und Erz\\u00e4hlungen. Zweiter Band\",\"Siegfried August Mahlmann\",\"Kunstepoche\"],[\"Sebastopol\",\"Sir John Retcliffe, eigentlich Hermann Goedsche\",\"Vorm\\u00e4rz\"],[\"Androgyne\",\"Stanis\\u0142aw Przybyszewski\",\"Realismus\"],[\"De Profundis\",\"Stanis\\u0142aw Przybyszewski\",\"Realismus\"],[\"Der Schrei\",\"Stanis\\u0142aw Przybyszewski\",\"Realismus\"],[\"Homo sapiens\",\"Stanis\\u0142aw Przybyszewski\",\"Realismus\"],[\"Satans Kinder\",\"Stanis\\u0142aw Przybyszewski\",\"Realismus\"],[\"Totenmesse\",\"Stanis\\u0142aw Przybyszewski\",\"Realismus\"],[\"Chefredakteur Roth f\\u00fchrt Krieg\",\"Stefan Grossmann\",\"Moderne\"],[\"Der Vorleser der Kaiserin\",\"Stefan Grossmann\",\"Moderne\"],[\"Die Partei\",\"Stefan Grossmann\",\"Moderne\"],[\"Herzliche Gr\\u00fc\\u00dfe\",\"Stefan Grossmann\",\"Moderne\"],[\"Lenchen Demuth und andere Novellen\",\"Stefan Grossmann\",\"Moderne\"],[\"Die G\\u00f6ttin mit der Fackel\",\"Theodor D\\u00e4ubler\",\"Moderne\"],[\"L'Africana\",\"Theodor D\\u00e4ubler\",\"Moderne\"],[\"C\\u00e9cile\",\"Theodor Fontane\",\"Vorm\\u00e4rz\"],[\"Der Stechlin\",\"Theodor Fontane\",\"Vorm\\u00e4rz\"],[\"Die Poggenpuhls\",\"Theodor Fontane\",\"Vorm\\u00e4rz\"],[\"Drei fr\\u00fche Erz\\u00e4hlungen\",\"Theodor Fontane\",\"Vorm\\u00e4rz\"],[\"Ellernklipp\",\"Theodor Fontane\",\"Vorm\\u00e4rz\"],[\"Frau Jenny Treibel\",\"Theodor Fontane\",\"Vorm\\u00e4rz\"],[\"Graf Pet\\u00f6fy\",\"Theodor Fontane\",\"Vorm\\u00e4rz\"],[\"Grete Minde\",\"Theodor Fontane\",\"Vorm\\u00e4rz\"],[\"L'Adultera\",\"Theodor Fontane\",\"Vorm\\u00e4rz\"],[\"Mathilde M\\u00f6hring\",\"Theodor Fontane\",\"Vorm\\u00e4rz\"],[\"Quitt\",\"Theodor Fontane\",\"Vorm\\u00e4rz\"],[\"Stine\",\"Theodor Fontane\",\"Vorm\\u00e4rz\"],[\"Unwiederbringlich\",\"Theodor Fontane\",\"Vorm\\u00e4rz\"],[\"Vor dem Sturm\",\"Theodor Fontane\",\"Vorm\\u00e4rz\"],[\"Die von Kelles\",\"Theodor Hermann Pantenius\",\"Realismus\"],[\"Im Gottesl\\u00e4ndchen\",\"Theodor Hermann Pantenius\",\"Realismus\"],[\"Philosophische Erz\\u00e4hlungen\",\"Theodor Herzl\",\"Realismus\"],[\"Der Vogt von Sylt\",\"Theodor M\\u00fcgge\",\"Kunstepoche\"],[\"Randal\",\"Theodor M\\u00fcgge\",\"Kunstepoche\"],[\"Romantische Studien\",\"Theodor M\\u00fcgge\",\"Kunstepoche\"],[\"Schritt f\\u00fcr Schritt\",\"Theodor M\\u00fcgge\",\"Kunstepoche\"],[\"Weihnachtsabend\",\"Theodor M\\u00fcgge\",\"Kunstepoche\"],[\"Madelon oder die Romantiker in Paris\",\"Theodor Mundt\",\"Kunstepoche\"],[\"Madonna. Unterhaltungen mit einer Heiligen\",\"Theodor Mundt\",\"Kunstepoche\"],[\"30 Novellen\",\"Theodor Storm\",\"Vorm\\u00e4rz\"],[\"Auf dem Staatshof\",\"Theodor Storm\",\"Vorm\\u00e4rz\"],[\"Auf der Universit\\u00e4t\",\"Theodor Storm\",\"Vorm\\u00e4rz\"],[\"Beim Vetter Christian\",\"Theodor Storm\",\"Vorm\\u00e4rz\"],[\"Carsten Curator\",\"Theodor Storm\",\"Vorm\\u00e4rz\"],[\"Der Herr Etatsrat\",\"Theodor Storm\",\"Vorm\\u00e4rz\"],[\"Die Regentrude\",\"Theodor Storm\",\"Vorm\\u00e4rz\"],[\"Die S\\u00f6hne des Senators\",\"Theodor Storm\",\"Vorm\\u00e4rz\"],[\"Drau\\u00dfen im Heidedorf\",\"Theodor Storm\",\"Vorm\\u00e4rz\"],[\"Drei weitere kleine Erz\\u00e4hlungen\",\"Theodor Storm\",\"Vorm\\u00e4rz\"],[\"Dritter Band: Novellen\",\"Theodor Storm\",\"Vorm\\u00e4rz\"],[\"Eekenhof\",\"Theodor Storm\",\"Vorm\\u00e4rz\"],[\"Ein Bekenntnis\",\"Theodor Storm\",\"Vorm\\u00e4rz\"],[\"Ein Fest auf Haderslevhuus\",\"Theodor Storm\",\"Vorm\\u00e4rz\"],[\"Ein stiller Musikant\",\"Theodor Storm\",\"Vorm\\u00e4rz\"],[\"Eine Halligfahrt\",\"Theodor Storm\",\"Vorm\\u00e4rz\"],[\"Erster Band: Novellen\",\"Theodor Storm\",\"Vorm\\u00e4rz\"],[\"Es waren zwei K\\u00f6nigskinder\",\"Theodor Storm\",\"Vorm\\u00e4rz\"],[\"F\\u00fcnfter Band: Novellen\",\"Theodor Storm\",\"Vorm\\u00e4rz\"],[\"Geschichten aus der Tonne\",\"Theodor Storm\",\"Vorm\\u00e4rz\"],[\"Hans und Heinz Kirch\",\"Theodor Storm\",\"Vorm\\u00e4rz\"],[\"Hinzelmeier\",\"Theodor Storm\",\"Vorm\\u00e4rz\"],[\"Im Brauerhause\",\"Theodor Storm\",\"Vorm\\u00e4rz\"],[\"Im Nachbarhause links\",\"Theodor Storm\",\"Vorm\\u00e4rz\"],[\"Im Saal\",\"Theodor Storm\",\"Vorm\\u00e4rz\"],[\"Im Schlo\\u00df\",\"Theodor Storm\",\"Vorm\\u00e4rz\"],[\"In St. J\\u00fcrgen\",\"Theodor Storm\",\"Vorm\\u00e4rz\"],[\"Marthe und ihre Uhr\",\"Theodor Storm\",\"Vorm\\u00e4rz\"],[\"Neun Novellen und Erz\\u00e4hlungen\",\"Theodor Storm\",\"Vorm\\u00e4rz\"],[\"Pole Poppensp\\u00e4ler\",\"Theodor Storm\",\"Vorm\\u00e4rz\"],[\"Psyche\",\"Theodor Storm\",\"Vorm\\u00e4rz\"],[\"Renate\",\"Theodor Storm\",\"Vorm\\u00e4rz\"],[\"Schweigen\",\"Theodor Storm\",\"Vorm\\u00e4rz\"],[\"Sechster Band: Novellen\",\"Theodor Storm\",\"Vorm\\u00e4rz\"],[\"Siebter Band: Novellen\",\"Theodor Storm\",\"Vorm\\u00e4rz\"],[\"Sylter Novelle\",\"Theodor Storm\",\"Vorm\\u00e4rz\"],[\"Veronika\",\"Theodor Storm\",\"Vorm\\u00e4rz\"],[\"Vierter Band: Novellen\",\"Theodor Storm\",\"Vorm\\u00e4rz\"],[\"Viola tricolor\",\"Theodor Storm\",\"Vorm\\u00e4rz\"],[\"Waldwinkel\",\"Theodor Storm\",\"Vorm\\u00e4rz\"],[\"weitere 8 Novellen\",\"Theodor Storm\",\"Vorm\\u00e4rz\"],[\"Zur Chronik von Grieshuus\",\"Theodor Storm\",\"Vorm\\u00e4rz\"],[\"Zur Wald- und Wasserfreude\",\"Theodor Storm\",\"Vorm\\u00e4rz\"],[\"Zweiter Band: Novellen\",\"Theodor Storm\",\"Vorm\\u00e4rz\"],[\"Aus alter Truhe\",\"Timm Kr\\u00f6ger\",\"Realismus\"],[\"Dem unbekannten Gott\",\"Timm Kr\\u00f6ger\",\"Realismus\"],[\"Eine stille Welt\",\"Timm Kr\\u00f6ger\",\"Realismus\"],[\"Aus dem Leben eines Geringen\",\"Ulrich Hegner\",\"Kunstepoche\"],[\"Die Molkenkur\",\"Ulrich Hegner\",\"Kunstepoche\"],[\"Saly's Revolutionstage\",\"Ulrich Hegner\",\"Kunstepoche\"],[\"Der Kanzler Klaus von Bismarck\",\"Walter Flex\",\"Moderne\"],[\"Novellen\",\"Walter Flex\",\"Moderne\"],[\"Das Bild des Kaisers\",\"Wilhelm Hauff\",\"Kunstepoche\"],[\"Der Mann im Mond\",\"Wilhelm Hauff\",\"Kunstepoche\"],[\"Die Bettlerin vom Pont des Arts\",\"Wilhelm Hauff\",\"Kunstepoche\"],[\"Die Bettlerin vom Pont des Arts\",\"Wilhelm Hauff\",\"Kunstepoche\"],[\"Jud S\\u00fcss\",\"Wilhelm Hauff\",\"Kunstepoche\"],[\"Lichtenstein\",\"Wilhelm Hauff\",\"Kunstepoche\"],[\"Lichtenstein\",\"Wilhelm Hauff\",\"Kunstepoche\"],[\"Mitteilungen aus den Memoiren des Satan\",\"Wilhelm Hauff\",\"Kunstepoche\"],[\"Mitteilungen aus den Memoiren des Satans\",\"Wilhelm Hauff\",\"Kunstepoche\"],[\"Novellen\",\"Wilhelm Hauff\",\"Kunstepoche\"],[\"Othello\",\"Wilhelm Hauff\",\"Kunstepoche\"],[\"Phantasien und Skizzen\",\"Wilhelm Hauff\",\"Kunstepoche\"],[\"Die Gerechtigkeit Gottes\",\"Wilhelm Heinrich Riehl\",\"Vorm\\u00e4rz\"],[\"Durch tausend Jahre, Band 1\",\"Wilhelm Heinrich Riehl\",\"Vorm\\u00e4rz\"],[\"Durch tausend Jahre, Band 2\",\"Wilhelm Heinrich Riehl\",\"Vorm\\u00e4rz\"],[\"Durch tausend Jahre, Band 3\",\"Wilhelm Heinrich Riehl\",\"Vorm\\u00e4rz\"],[\"Durch tausend Jahre, Band 4\",\"Wilhelm Heinrich Riehl\",\"Vorm\\u00e4rz\"],[\"Ein ganzer Mann\",\"Wilhelm Heinrich Riehl\",\"Vorm\\u00e4rz\"],[\"Kulturgeschichtliche Novellen\",\"Wilhelm Heinrich Riehl\",\"Vorm\\u00e4rz\"],[\"Bruder Rausch\",\"Wilhelm Hertz\",\"Realismus\"],[\"Die Siegfriedsage in ihrer nordischen Gestalt\",\"Wilhelm Hertz\",\"Realismus\"],[\"Poetische Erz\\u00e4hlungen\",\"Wilhelm Hertz\",\"Realismus\"],[\"Erz\\u00e4hlungen\",\"Wilhelm Holzamer\",\"Realismus\"],[\"Im Dorf und Drau\\u00dfen\",\"Wilhelm Holzamer\",\"Realismus\"],[\"Auf dem Vestenstein\",\"Wilhelm Jensen\",\"Realismus\"],[\"Die Juden von C\\u00f6lln\",\"Wilhelm Jensen\",\"Realismus\"],[\"Eine Schachpartie\",\"Wilhelm Jensen\",\"Realismus\"],[\"Gradiva\",\"Wilhelm Jensen\",\"Realismus\"],[\"Karin von Schweden\",\"Wilhelm Jensen\",\"Realismus\"],[\"Die Bernsteinhexe\",\"Wilhelm Meinhold\",\"Kunstepoche\"],[\"Heidenstamm\",\"Wilhelm Meyer-F\\u00f6rster\",\"Realismus\"],[\"Lena S.\",\"Wilhelm Meyer-F\\u00f6rster\",\"Realismus\"],[\"Der Kriminalkutter\",\"Wilhelm Poeck\",\"Realismus\"],[\"Abu Telfan oder Die Heimkehr vom Mondgebirge\",\"Wilhelm Raabe\",\"Moderne\"],[\"Alte Nester\",\"Wilhelm Raabe\",\"Moderne\"],[\"Auf dem Altenteil\",\"Wilhelm Raabe\",\"Moderne\"],[\"Der Dr\\u00e4umling\",\"Wilhelm Raabe\",\"Moderne\"],[\"Der gute Tag\",\"Wilhelm Raabe\",\"Moderne\"],[\"Der heilige Born\",\"Wilhelm Raabe\",\"Moderne\"],[\"Der Hungerpastor\",\"Wilhelm Raabe\",\"Moderne\"],[\"Der Sch\\u00fcdderump\",\"Wilhelm Raabe\",\"Moderne\"],[\"Deutscher Adel\",\"Wilhelm Raabe\",\"Moderne\"],[\"Deutscher Mondschein\",\"Wilhelm Raabe\",\"Moderne\"],[\"Die G\\u00e4nse von B\\u00fctzow\",\"Wilhelm Raabe\",\"Moderne\"],[\"Die Innerste\",\"Wilhelm Raabe\",\"Moderne\"],[\"Die Leute aus dem Walde, ihre Sterne, Wege und Schicksale\",\"Wilhelm Raabe\",\"Moderne\"],[\"Die schwarze Galeere\",\"Wilhelm Raabe\",\"Moderne\"],[\"Ein Besuch\",\"Wilhelm Raabe\",\"Moderne\"],[\"Eine Grabrede aus dem Jahr 1609\",\"Wilhelm Raabe\",\"Moderne\"],[\"Else von der Tanne\",\"Wilhelm Raabe\",\"Moderne\"],[\"Frau Salome\",\"Wilhelm Raabe\",\"Moderne\"],[\"Halb M\\u00e4r, halb mehr\",\"Wilhelm Raabe\",\"Moderne\"],[\"Hastenbeck\",\"Wilhelm Raabe\",\"Moderne\"],[\"Im alten Eisen\",\"Wilhelm Raabe\",\"Moderne\"],[\"Keltische Knochen\",\"Wilhelm Raabe\",\"Moderne\"],[\"Nach dem gro\\u00dfen Kriege\",\"Wilhelm Raabe\",\"Moderne\"],[\"Prinzessin Fisch\",\"Wilhelm Raabe\",\"Moderne\"],[\"Unruhige G\\u00e4ste\",\"Wilhelm Raabe\",\"Moderne\"],[\"Verworrenes Leben. Novellen und Skizzen\",\"Wilhelm Raabe\",\"Moderne\"],[\"Wunnigel\",\"Wilhelm Raabe\",\"Moderne\"],[\"Der Grabenh\\u00e4ger\",\"Wilhelm von Polenz\",\"Realismus\"],[\"Die Glocken von Krummseifenbach\",\"Wilhelm von Polenz\",\"Realismus\"],[\"Wald\",\"Wilhelm von Polenz\",\"Realismus\"],[\"Wurzellocker, Band 1\",\"Wilhelm von Polenz\",\"Realismus\"],[\"Wurzellocker, Band 2\",\"Wilhelm von Polenz\",\"Realismus\"],[\"Im Schatten des Todes\",\"Wilhelm Walloth\",\"Realismus\"],[\"Als Kriegsfreiwilliger nach Frankreich\",\"Willibald Alexis, eigentlich Georg Wilhelm Heinrich H\\u00e4ring\",\"Kunstepoche\"],[\"Cabanis\",\"Willibald Alexis, eigentlich Georg Wilhelm Heinrich H\\u00e4ring\",\"Kunstepoche\"],[\"Der falsche Woldemar\",\"Willibald Alexis, eigentlich Georg Wilhelm Heinrich H\\u00e4ring\",\"Kunstepoche\"],[\"Die Ge\\u00e4chteten\",\"Willibald Alexis, eigentlich Georg Wilhelm Heinrich H\\u00e4ring\",\"Kunstepoche\"],[\"Die Hosen des Herrn von Bredow\",\"Willibald Alexis, eigentlich Georg Wilhelm Heinrich H\\u00e4ring\",\"Kunstepoche\"],[\"Isegrimm\",\"Willibald Alexis, eigentlich Georg Wilhelm Heinrich H\\u00e4ring\",\"Kunstepoche\"],[\"Ja in Neapel\",\"Willibald Alexis, eigentlich Georg Wilhelm Heinrich H\\u00e4ring\",\"Kunstepoche\"],[\"Pommersche Gespenster\",\"Willibald Alexis, eigentlich Georg Wilhelm Heinrich H\\u00e4ring\",\"Kunstepoche\"],[\"Ruhe ist die erste B\\u00fcrgerpflicht oder Vor F\\u00fcnfzig Jahren\",\"Willibald Alexis, eigentlich Georg Wilhelm Heinrich H\\u00e4ring\",\"Kunstepoche\"],[\"Walladmor\",\"Willibald Alexis, eigentlich Georg Wilhelm Heinrich H\\u00e4ring\",\"Kunstepoche\"],[\"Das Leben auf der Walze\",\"Wolfgang Kirchbach\",\"Realismus\"]],\"hovertemplate\":\"gender=m\\u003cbr\\u003eDim 1=%{x}\\u003cbr\\u003eDim 2=%{y}\\u003cbr\\u003etitle=%{customdata[0]}\\u003cbr\\u003eauthor=%{customdata[1]}\\u003cbr\\u003eperiod=%{customdata[2]}\\u003cextra\\u003e\\u003c\\u002fextra\\u003e\",\"legendgroup\":\"m\",\"marker\":{\"color\":\"#053c6c\",\"symbol\":\"circle\"},\"mode\":\"markers\",\"name\":\"m\",\"showlegend\":true,\"x\":[-55.37551498413086,-55.57344436645508,-27.971378326416016,-7.181646823883057,-20.382305145263672,56.82705307006836,57.04499053955078,-20.63225555419922,33.320091247558594,-51.69991683959961,-39.0983772277832,38.54912185668945,4.0558037757873535,38.2378044128418,39.0684700012207,-6.063634395599365,2.9861392974853516,7.689560890197754,7.213662624359131,5.7411909103393555,62.985076904296875,-20.943145751953125,81.12065887451172,6.885019779205322,-77.20106506347656,-11.972789764404297,-79.02217864990234,-78.18589782714844,16.68157386779785,-78.54584503173828,-78.70339965820312,-70.25802612304688,-18.954465866088867,-19.239248275756836,-13.034613609313965,-15.918083190917969,15.094719886779785,14.613051414489746,15.00565242767334,14.533724784851074,-27.790006637573242,-18.103946685791016,-18.15013313293457,38.7841796875,27.81404685974121,27.81404685974121,-86.21907806396484,-86.21907806396484,-31.98495101928711,-13.167837142944336,-84.59391021728516,51.603172302246094,-84.63471221923828,26.730966567993164,37.6901741027832,37.613197326660156,37.763240814208984,-85.84623718261719,-85.98006439208984,-70.1586685180664,-23.60650634765625,20.476181030273438,-71.53118896484375,-68.93555450439453,1.4711793661117554,3.1051185131073,2.7551956176757812,2.7551956176757812,-14.235098838806152,2.1852972507476807,1.386258602142334,6.0836873054504395,6.120457649230957,-69.36538696289062,46.38985824584961,-75.24880981445312,-91.30793762207031,-91.30793762207031,-60.94537353515625,-33.42359924316406,48.782615661621094,-97.03118133544922,-97.03118133544922,-66.34217071533203,-33.17839431762695,74.34249877929688,-0.8751880526542664,-0.8751880526542664,-95.23158264160156,-95.23158264160156,55.5153694152832,55.37758255004883,-55.793617248535156,67.65029907226562,-65.13428497314453,-65.24253845214844,-78.30504608154297,37.52642822265625,36.39413070678711,-71.81912231445312,-16.783794403076172,-17.414674758911133,-19.3043155670166,-70.16769409179688,-6.57382345199585,-2.96620512008667,-18.309309005737305,-1.731441617012024,-1.731441617012024,-95.89546203613281,-95.89546203613281,-59.2080078125,-62.313114166259766,-47.9557991027832,-62.25623321533203,-47.70827865600586,-47.48023223876953,-0.9677034020423889,-0.9677034020423889,-94.2828369140625,-94.71759796142578,-18.392911911010742,0.26205259561538696,-0.26302462816238403,1.2232332229614258,1.1573457717895508,-33.84453582763672,31.826990127563477,-60.73682403564453,4.208413124084473,4.1302103996276855,3.6282660961151123,3.6282660961151123,75.7843246459961,-56.96211242675781,-74.0020523071289,-42.52472686767578,-43.56947326660156,-42.308467864990234,-30.482009887695312,-28.933189392089844,-71.84532928466797,-25.4218807220459,-33.93649673461914,-21.121973037719727,77.92606353759766,-71.6659164428711,-72.51396942138672,-33.02888870239258,-33.565406799316406,-33.65400695800781,0.8181714415550232,0.8181714415550232,3.7098941802978516,3.7098941802978516,-57.09896469116211,-61.665245056152344,-23.246084213256836,-22.009397506713867,-23.990230560302734,-61.771759033203125,-77.20162200927734,-80.4728012084961,41.75315856933594,88.24071502685547,55.3783073425293,46.85210037231445,8.866792678833008,-80.683837890625,67.4747314453125,-32.87482833862305,-64.97245025634766,-65.199462890625,-65.28511810302734,57.653141021728516,-79.26863098144531,-72.97909545898438,33.053428649902344,-65.4692611694336,-16.688007354736328,26.5798397064209,-2.894759178161621,72.56571197509766,72.29954528808594,-42.4366455078125,-22.759002685546875,73.81924438476562,-47.86992645263672,-71.98469543457031,-60.94345474243164,-49.96393966674805,-30.588403701782227,21.04973793029785,-30.14577865600586,70.49371337890625,-63.011505126953125,-50.36827087402344,-71.3759994506836,-40.36723327636719,-52.15242004394531,-22.073200225830078,51.249088287353516,28.058029174804688,24.39043426513672,54.36871337890625,48.80130386352539,81.17835235595703,84.30594635009766,62.1785774230957,77.1385726928711,53.64299392700195,67.96123504638672,77.72433471679688,49.06930160522461,84.3449935913086,62.29383087158203,76.49089813232422,88.50210571289062,79.44305419921875,87.13148498535156,47.2900276184082,67.2686538696289,35.98772430419922,77.35679626464844,78.30802154541016,-3.9378247261047363,89.57221221923828,53.14083480834961,57.0872802734375,39.85612106323242,61.31526565551758,78.56055450439453,-25.131603240966797,57.76630401611328,68.36163330078125,46.31640625,-37.6870231628418,64.5017318725586,14.329484939575195,26.63176727294922,58.51250076293945,67.62620544433594,90.7586669921875,45.76552963256836,67.37679290771484,66.75204467773438,-27.874406814575195,-51.40324783325195,72.5049819946289,-53.418941497802734,78.34320831298828,35.45998001098633,-11.536938667297363,-40.75315856933594,66.76512908935547,83.02800750732422,63.90185546875,63.927772521972656,85.48457336425781,48.55716323852539,62.62754821777344,-19.19060516357422,-19.800458908081055,-64.29427337646484,-68.71826934814453,-46.5870246887207,-58.732017517089844,-69.37333679199219,-74.36158752441406,-68.72766876220703,50.55806350708008,-78.6261978149414,-57.988948822021484,59.16203308105469,84.69145202636719,45.00731658935547,52.00651168823242,73.19628143310547,25.0535945892334,-66.28946685791016,-21.078039169311523,-26.6597957611084,-59.63109588623047,-4.1792826652526855,69.60245513916016,-66.2110366821289,-33.81700134277344,36.98276901245117,-15.139399528503418,-62.2800178527832,39.82014083862305,-50.40524673461914,-61.877845764160156,22.279340744018555,-57.834983825683594,60.470787048339844,17.941312789916992,60.418907165527344,42.227210998535156,-77.85459899902344,8.08384895324707,26.61721420288086,36.4169921875,36.331451416015625,24.025653839111328,24.077259063720703,59.16236877441406,75.83953094482422,37.588897705078125,36.13227462768555,78.53507232666016,74.75605010986328,35.6035041809082,44.71453857421875,54.084571838378906,78.2428207397461,78.21414947509766,54.30018997192383,35.761444091796875,35.73618698120117,64.57412719726562,50.15317916870117,-42.73206329345703,52.848175048828125,41.70951461791992,35.58027267456055,33.87260437011719,75.24335479736328,51.690181732177734,51.79843521118164,37.373268127441406,27.988224029541016,79.95675659179688,62.274566650390625,79.26919555664062,72.66551971435547,58.475677490234375,25.308969497680664,78.7150650024414,50.11991500854492,33.41366195678711,35.29533004760742,37.60996627807617,52.730506896972656,38.21173095703125,-7.053353786468506,29.870079040527344,37.249717712402344,61.546714782714844,41.64292526245117,80.67027282714844,53.429344177246094,37.604034423828125,-50.6861457824707,53.7806510925293,42.3325309753418,32.075584411621094,51.933841705322266,58.269779205322266,86.56375122070312,-6.968335151672363,38.145606994628906,-44.12055969238281,-33.697200775146484,-41.36318588256836,-45.82328414916992,-33.37760543823242,-40.733551025390625,-29.957843780517578,13.307821273803711,-44.327117919921875,28.77808952331543,-58.20614242553711,-48.460269927978516,-70.0335464477539,5.908178329467773,47.4267463684082,68.21764373779297,40.68905258178711,-25.263547897338867,-27.64849281311035,-64.6824722290039,-64.3765640258789,-39.0521240234375,-34.10881805419922,-75.4388427734375,-39.692996978759766,-51.3256721496582,-38.894439697265625,-31.980791091918945,-7.2535552978515625,-56.32513427734375,-69.59772491455078,-67.0609130859375,-52.099151611328125,-4.780234336853027,53.179874420166016,28.977176666259766,-51.620147705078125,-2.214550733566284,90.180419921875,77.01205444335938,3.5168678760528564,-25.760717391967773,14.59262466430664,73.2674331665039,-0.26393064856529236,41.56848907470703,-4.877063751220703,-58.98313903808594,48.948463439941406,66.40775299072266,46.34799575805664,-28.49245834350586,-34.12690734863281,-21.015439987182617,-35.024818420410156,-37.18571853637695,67.13630676269531,48.252567291259766,75.63129425048828,56.627017974853516,-16.014074325561523,-53.91048049926758,67.2518539428711,42.83369827270508,66.85148620605469,69.49729919433594,-29.735078811645508,-7.874897480010986,53.95125198364258,83.89710998535156,-11.538200378417969,83.86035919189453,24.164627075195312,64.20634460449219,-8.157763481140137,84.01190185546875,-81.10746765136719,69.0838851928711,44.796634674072266,41.83308029174805,37.36853790283203,37.52119827270508,64.84101867675781,57.82961654663086,58.396183013916016,26.669872283935547,60.189659118652344,62.84952926635742,56.76202392578125,44.98453903198242,-3.453596591949463,54.08552169799805,47.250450134277344,2.3652305603027344,50.00687789916992,-55.85367965698242,-66.78026580810547,-32.8231086730957,-66.85971069335938,-66.60406494140625,-13.76582145690918,82.79814147949219,52.57312774658203,54.70050048828125,-27.437255859375,58.634708404541016,-30.960838317871094,37.93254852294922,55.72049331665039,82.68981170654297,61.66872787475586,-30.563119888305664,-57.575904846191406,-62.9454231262207,34.58808517456055,-45.43009948730469,-17.76508331298828,-53.388824462890625,-29.290069580078125,64.4765396118164,-79.77962493896484,-25.336204528808594,-22.75242805480957,-10.264657020568848,-73.95321655273438,58.9796028137207,-39.10074996948242,81.47806549072266,73.68415832519531,-29.81276512145996,-40.09409713745117,59.153560638427734,9.427926063537598,61.22251892089844,-33.166534423828125,-21.5303955078125,-42.586917877197266,77.14460754394531,-36.45927810668945,-26.570323944091797,6.339990139007568,48.376197814941406,-23.964038848876953,28.303211212158203,67.23168182373047,28.824853897094727,37.6872673034668,48.81820297241211,47.76227569580078,48.43459701538086,-64.33098602294922,-52.95594787597656,-31.40406036376953,-51.493255615234375,-80.8395767211914,-46.311119079589844,-80.85357666015625,-25.635122299194336,-21.109647750854492,-14.46713924407959,-28.258256912231445,-49.702369689941406,-66.42628479003906,-65.80119323730469,82.70768737792969,62.07102584838867,64.56346130371094,68.74015808105469,59.754920959472656,14.786032676696777,52.40556335449219,34.82182693481445,47.21349334716797,28.608154296875,-46.38825988769531,87.43318176269531,-82.31470489501953,-82.81380462646484,-5.363147735595703,67.60948181152344,-78.16966247558594,-64.69761657714844,-63.96107864379883,-56.96049118041992,26.36629295349121,-26.414976119995117,-26.650651931762695,-81.80609893798828,-66.3497543334961,-24.500213623046875,-61.88943862915039,78.57928466796875,26.53874397277832,-31.966630935668945,-23.479290008544922,-71.60750579833984,94.34579467773438,-21.27364158630371,69.6077880859375,54.583919525146484,-30.991344451904297,68.40330505371094,-70.55024719238281,-44.765106201171875,53.88310623168945,94.37133026123047,80.69233703613281,77.50552368164062,30.097309112548828,69.71238708496094,51.186458587646484,-22.419206619262695,-27.137386322021484,76.90998840332031,-28.01251983642578,63.194217681884766,67.76937866210938,-32.97515869140625,61.5415153503418,85.49730682373047,86.05755615234375,78.3994140625,-34.96793746948242,-26.495519638061523,-34.42616271972656,47.44287109375,4.147953987121582,-54.4998893737793,-20.631389617919922,-30.9382266998291,-35.67112731933594,40.0202751159668,74.87660217285156,76.55602264404297,34.2861213684082,83.9464340209961,-34.56971740722656,75.3897933959961,-65.69892120361328,-31.770015716552734,-21.44780921936035,-36.60435104370117,12.901567459106445,42.26111602783203,69.46292877197266,77.22148895263672,52.613338470458984,35.587345123291016,27.045551300048828,50.81606674194336,53.74769592285156,53.6087760925293,46.528202056884766,59.07164001464844,29.268611907958984,56.33987045288086,65.07583618164062,-60.76553726196289,74.68773651123047,57.42871856689453,75.7734146118164,40.400421142578125,-26.084928512573242,-49.617225646972656,-26.090681076049805,-61.0869255065918,-48.94493103027344,-5.673016548156738,-57.683624267578125,46.94608688354492,-62.31808090209961,-41.4366569519043,-59.443756103515625,-30.71824073791504,-22.401058197021484,-21.88652992248535,-60.13893127441406,-24.117752075195312,-26.619701385498047,-27.77739906311035,-62.7360725402832,-39.791954040527344,-26.850610733032227,-48.90837860107422,-26.19413185119629,3.612499237060547,-39.51436996459961,-27.189720153808594,-55.72923278808594,60.814178466796875,72.96989440917969,-67.0071792602539,-21.085580825805664,-78.3678207397461,-12.771476745605469,-52.4466438293457,30.425973892211914,-70.38842010498047,-30.361757278442383,-34.44557189941406,-34.46280288696289,-46.73474884033203,56.735740661621094,-31.35310935974121,-71.1176986694336,45.71949005126953,45.760093688964844,27.425025939941406,-79.20780181884766,-76.31946563720703,-53.324913024902344,-33.00441360473633,-50.47169494628906,-5.6590471267700195,-42.4948616027832,-1.5231106281280518,-0.24137434363365173,0.6665354371070862,13.304944038391113,-37.731040954589844,-55.080650329589844,-46.369869232177734,12.430503845214844,-3.18723464012146,-5.596187591552734,-55.0773811340332,-49.304134368896484,-31.074588775634766,1.2042971849441528,-54.84140396118164,-0.24411320686340332,11.738243103027344,-53.99746322631836,-2.21321439743042,13.030231475830078,-49.98786163330078,-44.877952575683594,69.39903259277344,85.56989288330078,-21.720773696899414,-68.2462387084961,-54.87190246582031,-16.774839401245117,-55.507747650146484,-26.382417678833008,-79.74623107910156,-56.643707275390625,4.944703102111816,-51.78730773925781,39.697998046875,33.9542350769043,-19.631187438964844,-20.754079818725586,-20.810945510864258,-28.762067794799805,-31.1516056060791,-30.903120040893555,71.64956665039062,89.27442932128906,-31.04020118713379,-59.287723541259766,66.41680908203125,-63.415802001953125,-41.03390884399414,-41.873741149902344,-68.30017852783203,-74.60523986816406,-39.71928787231445,-21.82067108154297,-32.78712844848633,-34.972511291503906,-43.685604095458984,58.35042953491211,-12.935469627380371,-1.5138550996780396,73.3440933227539,-28.07248306274414,44.320438385009766,-64.13309478759766,90.07456970214844,40.42607879638672,56.42219161987305,-28.045408248901367,56.670955657958984,-18.952362060546875,57.663204193115234,48.73374557495117,87.52642822265625,80.14229583740234,-75.42853546142578,-76.94660949707031,-46.02410125732422,66.07852935791016,-41.45835876464844,-47.20389175415039,-47.07182693481445,64.20974731445312,64.21223449707031,-2.9433486461639404,-57.723628997802734,81.00811004638672,40.140037536621094,42.4001579284668,-31.326353073120117,72.48003387451172,-62.693607330322266,-6.309831619262695,61.601173400878906,4.199030876159668,-64.9586410522461,15.50028133392334,15.818488121032715,-38.687931060791016,-66.08428955078125,76.61957550048828,-17.54783058166504,-1.554848313331604,-65.54971313476562,-75.1500473022461,59.65801239013672,63.21369171142578,69.88675689697266,79.3453140258789,60.76832962036133,6.431537628173828,-37.32875061035156,69.23200225830078,-48.13563919067383,40.75367736816406,-52.64824676513672,-32.9896240234375,36.83240509033203,-46.72011184692383,-65.52616119384766,-37.00996398925781,-61.548980712890625,-59.17668914794922,33.36036682128906,-31.39866828918457,-22.681062698364258,54.80074691772461,-22.880239486694336,-67.36862182617188,-40.11491012573242,-2.276191473007202,-74.44161987304688,-40.34245300292969,-66.41935729980469,-27.619260787963867,17.343812942504883,-29.905221939086914,61.7342414855957,79.42671203613281,-11.316732406616211,45.88140106201172,51.62551498413086,58.98100662231445,54.823692321777344,88.54835510253906,-55.89539337158203,-79.3028793334961,-63.790802001953125,-30.04865264892578,-80.25843811035156,-79.088134765625,-32.4799690246582,55.94389343261719,72.31671905517578,62.726478576660156,-38.88169860839844,76.79920196533203,69.4189224243164,62.872013092041016,48.62617492675781,56.956790924072266,82.07357025146484,75.5162353515625,-67.28025817871094,-32.2728385925293,-18.882261276245117,-21.610445022583008,86.765625,-2.0853350162506104,-24.178144454956055,0.36534547805786133,-40.74074172973633,-68.47399139404297,-47.64747619628906,57.59153747558594,-10.521321296691895,-57.993553161621094,-19.207237243652344,-41.750980377197266,-31.483646392822266,21.454933166503906,-5.663334369659424,82.36331939697266,-21.154052734375,46.801815032958984,43.83765411376953,74.9253158569336,15.9769287109375,67.65143585205078,-13.713033676147461,-45.77670669555664,-14.166762351989746,43.341529846191406,-14.016231536865234,-0.05153438448905945,61.704254150390625,76.06562805175781,57.80735778808594,61.49485778808594,36.05479431152344,34.21510696411133,38.20060348510742,79.16677856445312,77.19529724121094,73.75862884521484,44.02971267700195,28.11541748046875,67.00946807861328,-58.23653030395508,-72.6503677368164,-34.30570983886719,-25.038105010986328,-24.96062469482422,-62.218746185302734,10.760880470275879,-39.50697708129883,56.97433853149414,43.19313430786133,45.66279983520508,25.69649887084961,75.80809020996094,55.51309585571289,34.03739929199219,57.27183532714844,49.826969146728516,43.433677673339844,77.17036437988281,-63.457069396972656,50.67108154296875,69.04669189453125,54.56410217285156,75.27821350097656,-36.210113525390625,-36.12120056152344,-28.222148895263672,-55.24679946899414,-26.530048370361328,15.841665267944336,-67.72144317626953,10.281807899475098,10.3990478515625,46.63847351074219,59.397789001464844,85.41797637939453,85.63890075683594,68.09686279296875,58.16377639770508,68.19699096679688,67.14200592041016,73.36560821533203,88.40174865722656,-26.283140182495117,-67.0634994506836,-67.54544830322266,-28.811298370361328,15.873836517333984,-80.79668426513672,67.15110778808594,-28.798734664916992,-62.54319763183594,-30.983840942382812,-51.95907974243164,-52.094871520996094,-52.90409851074219,-42.22945022583008,-74.67031860351562,74.15220642089844,-78.42932891845703,78.8720474243164,-6.5932841300964355,-19.029924392700195,58.9315071105957,60.23524856567383,60.17565155029297,84.57894134521484,-22.492176055908203,-31.558849334716797,-31.047677993774414,-31.758953094482422,47.60860824584961,89.10945892333984,-23.329959869384766,-44.85204315185547,-23.93512725830078,-21.319271087646484,-9.360424995422363,-51.00674819946289,-52.582275390625,-51.815345764160156,-52.02427291870117,-6.849753379821777,-60.93955993652344,-7.760588645935059,61.862667083740234,55.74970626831055,-38.65550231933594,-81.38218688964844,60.5240592956543,-49.29729080200195,-47.674991607666016,-52.69940948486328,15.436864852905273,15.380874633789062,34.52959060668945,54.03989791870117,-46.18703079223633,73.3729476928711,83.02203369140625,45.35576629638672,-17.30939292907715,-17.362958908081055,66.88162231445312,-34.78929901123047,29.575286865234375,64.12904357910156,12.496198654174805,23.55540657043457,83.25508117675781,-40.410057067871094,-40.78377151489258,62.14846420288086,-47.0357666015625,-46.67229080200195,-46.935062408447266,64.56014251708984,-41.331787109375,-41.32271957397461,-25.515399932861328,-40.35844421386719,53.717811584472656,83.90667724609375,-65.72164154052734,63.743160247802734,-41.55571365356445,78.17523193359375,59.58829879760742,45.052833557128906,59.41181182861328,44.161537170410156,49.466976165771484,46.572914123535156,81.2184829711914,-18.344614028930664,-59.56495666503906,-33.583160400390625,-28.807647705078125,-71.81439208984375,-33.29927444458008,-21.071380615234375,9.222101211547852,34.925907135009766,-67.97188568115234,-24.46556854248047,-24.465618133544922,64.064697265625,77.92241668701172,-32.89210510253906,58.480194091796875,75.92605590820312,65.52845764160156,-20.82426643371582,-23.973678588867188,52.34019088745117,43.40148162841797,45.718849182128906,19.73991584777832,68.55549621582031,-60.7027587890625,-15.164488792419434,26.352800369262695,43.96562957763672,-60.76838684082031,48.84223175048828,44.124813079833984,7.636684894561768,-58.94086837768555,-70.04299926757812,-9.56612777709961,21.054716110229492,21.180200576782227,-23.509733200073242,70.7344741821289,56.178470611572266,67.22222137451172,-36.84440231323242,35.05339050292969,-34.53520202636719,9.736061096191406,-26.87704849243164,35.51310729980469,-49.50959777832031,-29.363941192626953,63.06379699707031,-23.74813461303711,-23.70980453491211,82.97236633300781,-23.983623504638672,84.90335083007812,68.51386260986328,-66.0280990600586,-25.45291519165039,-62.41817092895508,-38.75526428222656,-22.91592788696289,87.63706970214844,-52.87152099609375,80.95899963378906,80.74295043945312,81.59539031982422,84.74404907226562,-15.988509178161621,75.3235092163086,-68.45552825927734,-66.10752868652344,-56.3253288269043,-32.89677429199219,66.00057983398438,39.756874084472656,65.98844909667969,-58.450069427490234,47.966060638427734,-50.86829376220703,34.54372024536133,53.87451934814453,14.352453231811523,52.444129943847656,-0.04765978828072548,-70.3489990234375,76.93391418457031,51.980194091796875,37.025718688964844,59.27130889892578,-70.0970687866211,-58.62104415893555,15.350186347961426,-19.20909881591797,-19.946813583374023,-52.02369689941406,47.56828689575195,-48.62852478027344,-66.12879180908203,-35.568946838378906,-65.411376953125,-48.93767166137695,-48.95136642456055,45.797977447509766,78.73237609863281,46.387081146240234,78.51223754882812,-66.7010269165039,-55.64990997314453,-65.91201782226562,45.27404022216797,-35.78406524658203,-29.6416015625,-75.18473815917969,-73.98394775390625,-24.048877716064453,-38.17326354980469,2.4124162197113037,-74.22032165527344,-54.25580978393555,-51.11958694458008,-71.00763702392578,-45.99981689453125,32.630367279052734,-56.98371505737305,-41.78511428833008,-44.545448303222656,-40.94638442993164,-45.119140625,-42.46397399902344,-45.51218795776367,-42.89122009277344,-42.25181579589844,-57.2818603515625,-18.756610870361328,60.36270523071289,-30.665752410888672,-44.17337417602539,-43.001609802246094,-42.524051666259766,-40.39560317993164,-35.47909927368164,-43.24805450439453,-21.16419219970703,-63.376670837402344,-31.93107032775879,-44.332489013671875,-66.51773071289062,-32.01707458496094,-43.66098403930664,-41.33884811401367,-64.42564392089844,-64.45852661132812,-43.63669967651367,-42.16340637207031,-32.366477966308594,-56.039180755615234,-56.734195709228516,-51.69443130493164,-73.38552856445312,-50.6156120300293,-50.479835510253906,29.118288040161133,76.58566284179688,-44.04862976074219,20.38115882873535,20.174222946166992,63.19544219970703,62.733707427978516,29.636810302734375,-18.0848445892334,-66.86328887939453,56.304386138916016,-55.169593811035156,-55.70197296142578,81.16376495361328,75.40884399414062,-69.42147827148438,-51.381534576416016,-70.89232635498047,-66.21576690673828,-70.79417419433594,-68.06805419921875,-53.00520324707031,-53.82646179199219,-67.97950744628906,-53.304386138916016,60.96406555175781,77.24205780029297,14.837911605834961,-19.453916549682617,56.06270217895508,-47.930870056152344,-59.4710693359375,79.13223266601562,-31.677907943725586,58.79714584350586,52.69307327270508,-56.8446044921875,-30.492137908935547,-41.20455551147461,-37.2630729675293,-49.90895080566406,-45.420833587646484,-47.9694938659668,-43.7440299987793,-68.63451385498047,-67.68143463134766,-27.281709671020508,77.44297790527344,-78.89695739746094,80.50695037841797,-10.41226863861084,-26.638076782226562,-41.86057662963867,-7.969239711761475,9.376604080200195,26.72272491455078,-56.03071212768555,-72.54354858398438,60.04521560668945,4.9683098793029785,42.23436737060547,76.71548461914062,-39.28491973876953,12.81086540222168,27.919347763061523,46.49471664428711,61.045406341552734,-17.394241333007812,-76.02737426757812,-17.14662742614746,-17.969636917114258,-18.785167694091797,-18.507070541381836,-17.764846801757812,40.3625602722168,-69.91938781738281,-16.815715789794922,-18.813854217529297,-18.811452865600586,-20.161590576171875,-21.63228416442871,-64.7823257446289,-62.75127410888672,-46.69968795776367,-69.01776885986328,-69.0163803100586,-69.77741241455078,-73.2060546875,-71.82456970214844,-63.48285675048828,-46.747005462646484,-31.66938018798828,33.42414093017578,58.98686218261719,42.4683837890625,39.633758544921875,40.56752014160156,-20.464859008789062,88.59258270263672,69.68214416503906,46.89760971069336,-42.842655181884766,-8.243546485900879,67.87203979492188,-59.4288215637207,66.10192108154297,-58.999488830566406,38.66428756713867,39.23207473754883,-28.93198013305664,10.755720138549805,-50.4005012512207,-22.0621395111084,27.9818172454834,77.79661560058594,-41.38714599609375,-50.73394012451172,-49.94535827636719,17.13494873046875,-41.70500564575195,26.534948348999023,-64.4424057006836,27.39958953857422,-64.0175552368164,-21.30156707763672,-33.459068298339844,-51.21721267700195,-20.15621566772461,-62.37568283081055,-19.22174644470215,20.688640594482422,-25.14423179626465,-27.416227340698242,-15.047027587890625,18.977657318115234,-22.290916442871094,69.19287872314453,55.303096771240234,74.2910385131836,72.43238067626953,68.1506118774414,74.19103240966797,85.14035034179688,69.90059661865234,70.4649887084961,-33.144805908203125,84.96632385253906,59.6022834777832,60.463401794433594,59.00167465209961,72.54067993164062,-23.8160400390625,57.857017517089844,-51.9965934753418,48.95648956298828,72.31754302978516,76.8029556274414,56.64982986450195,63.29878616333008,43.40870666503906,62.63691711425781,67.22685241699219,41.013633728027344,-51.42911148071289,61.92552185058594,73.4900131225586,56.84979248046875,71.6686782836914,-40.19499206542969,-40.18726348876953,28.877111434936523,60.1237907409668,-33.195735931396484,74.85807037353516,71.0567626953125,-52.409210205078125,13.451833724975586,70.5092544555664,-33.395591735839844,-74.39895629882812,-73.588134765625,-75.33220672607422,57.45884323120117,-74.97874450683594,-35.84687042236328,-67.73979949951172,34.32606506347656,31.890817642211914,-59.81211471557617,15.803980827331543,16.117441177368164,51.76664352416992,-31.85548973083496,-44.047760009765625,47.1685905456543,-40.3071403503418,-28.21776580810547,73.99915313720703,-0.6277729868888855,-69.54402923583984,-35.08628845214844,-34.55405807495117,-35.08578872680664,-49.977962493896484,-61.18500900268555,-60.38420867919922,73.96458435058594,43.23210144042969,12.251103401184082,48.32267379760742,4.502102375030518,-13.506678581237793,-76.43632507324219,81.06114196777344,56.18467330932617,-66.68363189697266,-33.85178756713867,-38.505977630615234,-35.14568328857422,3.7602689266204834,-39.972537994384766,-63.53116226196289,52.283233642578125,-53.29020309448242,66.73348236083984,-59.636260986328125,-33.03022003173828,-40.24357986450195,-48.49325942993164,55.182090759277344,65.2995376586914,17.65846061706543,-36.64744186401367,91.48854064941406,43.211666107177734,68.95053100585938,87.19054412841797,18.181255340576172,-6.646274566650391,-72.09292602539062,-52.288597106933594,69.69339752197266,-9.2683744430542,-51.61323928833008,-48.56259536743164,-54.049739837646484,-48.30377960205078,-24.326021194458008,65.36814880371094,21.542482376098633,-70.93156433105469,-71.04363250732422,-60.5860595703125,-58.24879455566406,-28.956867218017578,-20.0838680267334,-65.83135986328125,-41.20499801635742,-20.213090896606445,41.543033599853516,65.38493347167969,-21.611238479614258,-31.373653411865234,-56.934181213378906],\"xaxis\":\"x\",\"y\":[10.685718536376953,10.483055114746094,-26.2664794921875,-41.45111083984375,-59.19698715209961,-11.416365623474121,-11.278753280639648,-59.39887237548828,-65.21208190917969,-4.218380451202393,34.89725112915039,-57.82056427001953,-34.68902587890625,-58.251888275146484,-57.97184371948242,-83.17290496826172,-35.160037994384766,-32.584693908691406,-32.854679107666016,-33.69926071166992,14.908710479736328,-56.75743103027344,23.996313095092773,-33.03706741333008,-30.37848472595215,-47.50059509277344,7.514888763427734,9.879457473754883,-61.57189178466797,9.249774932861328,8.900985717773438,30.685619354248047,-62.2158088684082,-62.20157241821289,-46.62198257446289,-44.76596450805664,-54.33100891113281,-56.66538619995117,-54.51619338989258,-56.7447509765625,-33.980770111083984,-40.3752555847168,-40.187129974365234,-52.98637008666992,-56.58478546142578,-56.58480453491211,11.329469680786133,11.329469680786133,-57.57164764404297,-48.50312042236328,12.73856258392334,-22.1584529876709,12.491764068603516,-56.46311569213867,-25.05425453186035,-24.56009864807129,-25.711217880249023,13.168776512145996,12.938713073730469,30.219249725341797,-35.14206314086914,-83.06539154052734,-24.84475326538086,30.589317321777344,-84.9518814086914,-83.68840789794922,-85.01197052001953,-85.01197052001953,-85.9623031616211,-83.1982421875,-83.21347045898438,-58.83327865600586,-58.539337158203125,-44.608497619628906,-56.066951751708984,7.881745338439941,49.50545883178711,49.50545883178711,32.68899917602539,3.315399646759033,-16.006757736206055,47.11219787597656,47.11219787597656,30.944812774658203,3.185661792755127,42.50706481933594,62.84744644165039,62.84744644165039,47.528648376464844,47.528648376464844,-23.07674789428711,-23.07244300842285,-53.060081481933594,-5.430535793304443,-18.524906158447266,-18.1721134185791,-31.97227668762207,-53.875648498535156,-54.02592086791992,11.28018569946289,37.085060119628906,37.95301818847656,37.4696044921875,-44.1187629699707,-69.54386138916016,-77.3812026977539,-50.34851837158203,61.543357849121094,61.543357849121094,48.519004821777344,48.519004821777344,34.98513412475586,37.62675857543945,64.39391326904297,37.70537185668945,65.95466613769531,64.56062316894531,60.60237121582031,60.60237121582031,48.43218231201172,49.081092834472656,-73.34707641601562,60.8779296875,61.7027587890625,57.92559051513672,58.071590423583984,-29.586742401123047,-65.0784683227539,-54.63056945800781,62.751258850097656,62.81783676147461,58.77896499633789,58.77896499633789,37.283973693847656,-36.931888580322266,-27.29802703857422,-37.86838912963867,-35.741512298583984,-38.134857177734375,77.1510009765625,85.30333709716797,5.456145763397217,87.25527954101562,76.65406799316406,-66.44093322753906,-27.17691421508789,6.167293548583984,22.091115951538086,15.652822494506836,14.84315013885498,14.691821098327637,61.998416900634766,61.998416900634766,59.709903717041016,59.709903717041016,-53.91390609741211,-34.52738571166992,-54.880577087402344,-55.9533576965332,-54.68486785888672,-57.232574462890625,-34.12740707397461,-3.796114921569824,95.99761962890625,-21.29397201538086,40.62099838256836,-59.59591293334961,-71.261962890625,-1.0695621967315674,8.002089500427246,-35.636383056640625,-38.128421783447266,-37.054100036621094,-36.65773010253906,-18.923702239990234,13.501384735107422,-0.4606761634349823,-69.38583374023438,29.665973663330078,-74.32874298095703,-51.651859283447266,-65.36468505859375,-30.654109954833984,-32.30213165283203,-67.90312194824219,-75.36984252929688,-34.43748092651367,14.526667594909668,-32.59126281738281,-35.01234436035156,-41.93566131591797,56.803768157958984,-52.65243148803711,65.84356689453125,50.7935791015625,18.91972541809082,-41.91162109375,40.82265090942383,63.423065185546875,-32.4510383605957,43.55773162841797,-18.12152099609375,-50.04551315307617,-74.53750610351562,-34.602413177490234,-15.983675003051758,-23.027551651000977,-14.819596290588379,-52.08020782470703,-28.851470947265625,-17.287601470947266,-3.1171698570251465,-27.4583740234375,-35.65440368652344,5.504373550415039,-6.735592365264893,32.553279876708984,-19.74538803100586,23.13103675842285,-9.807130813598633,-58.640663146972656,-21.91811752319336,-72.92626190185547,23.091503143310547,15.863775253295898,-74.92332458496094,-14.403641700744629,-11.842724800109863,79.50481414794922,-41.60409164428711,0.11245740950107574,-10.539188385009766,-57.95653533935547,-10.134428977966309,-7.42365837097168,-48.134376525878906,-57.26398849487305,32.426387786865234,-74.91131591796875,-53.93846893310547,29.969783782958984,-5.590157508850098,-18.910310745239258,-20.220808029174805,49.24336242675781,-56.70866775512695,81.01802062988281,35.71125030517578,-18.015472412109375,16.508947372436523,0.2931855022907257,-62.71874237060547,-67.15338897705078,15.407276153564453,-56.74005126953125,-1.623814582824707,24.453468322753906,24.41314125061035,-8.21381950378418,-20.805789947509766,-48.13948059082031,114.54669189453125,111.3564224243164,-32.07373046875,39.977481842041016,68.09712982177734,50.35548400878906,37.379432678222656,24.414997100830078,37.23463821411133,90.78636169433594,-5.109411716461182,52.442813873291016,46.254920959472656,5.506563663482666,96.98175811767578,75.33831024169922,41.41828536987305,-77.71232604980469,-46.35118103027344,-34.39675521850586,62.08915328979492,35.46132278442383,-78.00980377197266,-47.28261184692383,26.676218032836914,60.36784744262695,-47.33127975463867,-80.96314239501953,46.68056869506836,-72.06021881103516,32.63298797607422,-6.548248767852783,-66.71720886230469,-58.533546447753906,-57.21912384033203,-81.75067138671875,-56.77134323120117,-38.058937072753906,-5.715411186218262,-81.82030487060547,108.79536437988281,88.46202087402344,80.25936889648438,-65.14297485351562,-65.1502914428711,51.38099670410156,52.973793029785156,88.71463775634766,86.29075622558594,37.123111724853516,53.458866119384766,88.46807861328125,95.49370574951172,41.332942962646484,52.73560333251953,52.766475677490234,43.56772232055664,84.62410736083984,84.8368911743164,61.24787521362305,63.383941650390625,35.344539642333984,72.06297302246094,99.86602783203125,103.6483383178711,101.21138000488281,-18.305137634277344,47.444515228271484,77.39066314697266,79.89683532714844,110.53362274169922,19.349468231201172,17.28571319580078,54.89057540893555,61.66184616088867,35.87562561035156,-65.7387466430664,55.37883377075195,77.3232421875,100.16478729248047,102.36260986328125,85.25652313232422,-51.065269470214844,-42.04840087890625,-49.822593688964844,108.09709930419922,79.23590850830078,17.86661148071289,79.63914489746094,5.882582664489746,-49.980445861816406,-39.53208923339844,10.895818710327148,-49.58374786376953,90.62037658691406,103.47481536865234,91.6295394897461,5.815577030181885,-18.903133392333984,-78.3421859741211,-64.40254211425781,12.621936798095703,-45.44221878051758,-17.548269271850586,-2.032433271408081,-46.708770751953125,-19.235326766967773,-52.68132781982422,-42.54001235961914,11.77867603302002,109.5114517211914,-47.172889709472656,-51.129329681396484,11.142207145690918,-67.43603515625,-32.44804000854492,-17.137529373168945,-65.85476684570312,-50.53583908081055,89.26268005371094,-43.28546142578125,-43.00028610229492,61.20229721069336,74.32243347167969,1.4585539102554321,61.31726837158203,37.63641357421875,60.697792053222656,46.47520065307617,61.61118698120117,-30.720060348510742,-1.9015871286392212,-46.036338806152344,39.630985260009766,-87.41197204589844,81.2131118774414,107.79502868652344,-10.93287467956543,-79.64046478271484,-15.552201271057129,18.66484260559082,-50.6707878112793,96.48880004882812,-81.80523681640625,43.33644485473633,-55.90939712524414,-71.46200561523438,-54.476924896240234,44.229400634765625,-41.54207229614258,-22.04904556274414,-18.646778106689453,59.411922454833984,0.9366971254348755,107.18424987792969,63.41712951660156,44.02454376220703,-41.242820739746094,82.79048156738281,-21.665241241455078,71.77481079101562,-83.58098602294922,35.91801071166992,-1.5262417793273926,78.77326202392578,0.5411051511764526,5.497760772705078,51.600467681884766,-80.24934387207031,-17.552621841430664,-23.315855026245117,-84.27765655517578,-21.129581451416016,-79.66024780273438,-49.62407302856445,-80.55712890625,-21.7933349609375,-0.551390528678894,26.830013275146484,94.50751495361328,93.66559600830078,81.06031036376953,-54.952720642089844,56.278526306152344,73.4034194946289,74.27671813964844,111.34937286376953,58.17022705078125,59.96330642700195,73.48970031738281,91.44235229492188,-84.07567596435547,-34.54226303100586,93.5333023071289,-71.44646453857422,81.94952392578125,-31.201007843017578,-3.467153787612915,-67.0771255493164,-28.817201614379883,-28.656396865844727,-48.118804931640625,9.878697395324707,-16.917997360229492,59.95112609863281,99.19100189208984,10.338055610656738,-49.712650299072266,-68.4806900024414,-35.26210403442383,4.47487735748291,-9.288506507873535,-50.218116760253906,0.5534483790397644,48.63064956665039,-72.65278625488281,-53.17239761352539,-74.33595275878906,-25.37596893310547,46.012840270996094,58.10734558105469,12.811429023742676,96.94635772705078,103.72338104248047,-82.46748352050781,6.247751712799072,72.0452651977539,76.43885040283203,10.98153018951416,45.34474182128906,44.268680572509766,74.49008178710938,63.09991455078125,-75.49411010742188,52.15879440307617,-40.58510971069336,-70.78582000732422,21.341115951538086,34.1136589050293,-56.034690856933594,-57.373619079589844,-67.10043334960938,-33.71330642700195,96.13377380371094,-69.83697509765625,-17.320640563964844,-69.85919952392578,-38.773406982421875,-34.43634796142578,-33.942344665527344,-23.9718017578125,6.833789348602295,24.99665641784668,-64.25040435791016,48.706974029541016,-20.545751571655273,64.49615478515625,-20.526611328125,-36.858951568603516,75.847900390625,-45.95186233520508,-37.708213806152344,-21.00787353515625,50.12968063354492,49.799137115478516,29.4740047454834,-6.504403114318848,30.05994415283203,-30.606096267700195,30.943464279174805,-47.46587371826172,-13.014243125915527,89.43413543701172,-37.30083084106445,106.8216323852539,40.1915283203125,-4.759347915649414,0.47614142298698425,1.203991174697876,-80.05713653564453,46.343387603759766,-31.369277954101562,44.28055953979492,46.476951599121094,56.10457229614258,106.15644836425781,26.366180419921875,26.345138549804688,-2.263871908187866,-44.909751892089844,84.3836441040039,45.63254165649414,35.76638412475586,-57.683006286621094,-75.953125,85.49561309814453,-28.24642562866211,-17.032461166381836,85.73106384277344,44.97297286987305,77.50350189208984,-76.62203979492188,44.72559356689453,27.566923141479492,39.18832778930664,75.60839080810547,-17.09377670288086,30.266277313232422,29.256059646606445,-69.76712799072266,24.97282600402832,90.8837661743164,85.28189086914062,75.0110855102539,30.00313949584961,75.64494323730469,-45.55923080444336,43.878074645996094,68.81920623779297,60.051658630371094,10.617843627929688,10.355802536010742,31.112525939941406,68.10934448242188,77.23543548583984,68.565185546875,88.1379623413086,-77.32838439941406,22.157487869262695,85.4912109375,-76.7027816772461,67.51783752441406,-64.31554412841797,55.6278076171875,34.0406494140625,97.09066009521484,-13.722564697265625,66.66043090820312,54.42793655395508,8.88541316986084,71.6498031616211,84.97156524658203,66.90190887451172,-73.2073745727539,98.8314208984375,23.374961853027344,49.66753387451172,74.91671752929688,101.6001968383789,106.67805480957031,80.24169921875,69.89268493652344,70.51025390625,95.26832580566406,5.504251480102539,106.55437469482422,42.706485748291016,14.858787536621094,6.154316425323486,47.162967681884766,37.77524185180664,16.499032974243164,-67.31204223632812,70.96073913574219,22.899417877197266,67.78939819335938,50.01726150512695,-26.85123634338379,-64.48161315917969,-30.473766326904297,-42.12687683105469,-33.12828826904297,44.488948822021484,-6.68355655670166,28.92839813232422,108.57146453857422,-76.18228912353516,-6.527344226837158,-56.782901763916016,86.93386840820312,67.20311737060547,-32.860595703125,10.439435005187988,67.19097900390625,38.390480041503906,70.4420166015625,-67.53668212890625,10.472664833068848,88.11729431152344,-24.85712432861328,10.167861938476562,-16.243553161621094,7.0815887451171875,113.33817291259766,12.887309074401855,-83.79834747314453,48.51934051513672,105.88008880615234,36.247581481933594,75.57587432861328,87.22091674804688,87.16922760009766,67.68133544921875,-36.11094665527344,-47.20835494995117,35.28155517578125,-74.72181701660156,-74.70384979248047,111.9665298461914,1.0248764753341675,15.231718063354492,-20.497207641601562,-47.3723258972168,10.694642066955566,-56.71006393432617,33.261192321777344,-59.162384033203125,-57.26013946533203,-57.96827697753906,-45.50600814819336,-16.9776668548584,3.0097084045410156,69.44038391113281,-48.54359817504883,-56.626373291015625,-55.93244171142578,5.364060401916504,-15.2330961227417,-42.84403610229492,-58.42293167114258,3.978874444961548,-58.70336151123047,-48.558502197265625,2.5458338260650635,-57.31488037109375,-47.47795486450195,-20.42245864868164,-52.37683868408203,-21.862831115722656,-15.572218894958496,-80.60356903076172,-4.270853042602539,37.235260009765625,-81.7420883178711,55.81912612915039,100.52243041992188,-29.426870346069336,-17.233341217041016,-52.34223937988281,-6.790532112121582,-39.30656814575195,-41.03770446777344,116.55728149414062,109.30459594726562,110.0837631225586,79.75955200195312,48.220340728759766,49.63628005981445,42.71049118041992,7.153404235839844,29.91521453857422,49.24089431762695,-47.68501663208008,-48.10699462890625,-66.47979736328125,-58.80537414550781,26.62737274169922,-4.440096378326416,-10.140491485595703,78.30647277832031,-34.827762603759766,69.90550994873047,39.0172233581543,-43.98468780517578,-60.47303771972656,-63.712772369384766,27.694982528686523,-79.52893829345703,93.14044189453125,-34.64720916748047,-23.06344223022461,-57.817176818847656,-18.62681770324707,-79.57982635498047,-16.20313835144043,66.93119049072266,80.10900115966797,89.62183380126953,-5.2500739097595215,-27.142162322998047,8.30014705657959,12.385984420776367,-36.20820236206055,-45.430946350097656,-58.25714111328125,-37.176918029785156,-37.11582565307617,15.932879447937012,-51.86205291748047,-75.6859130859375,34.462158203125,0.7074080109596252,-52.141170501708984,-63.38225555419922,68.41110229492188,52.66971969604492,-30.148427963256836,-86.9050521850586,-16.720584869384766,-64.29084777832031,26.74983787536621,-80.37183380126953,-80.48806762695312,-9.302215576171875,46.07255935668945,-9.96116828918457,-71.81696319580078,-60.747955322265625,45.9009895324707,-1.1310230493545532,28.02326011657715,-6.4566216468811035,-46.97102355957031,45.78849411010742,29.985797882080078,-68.76838684082031,-44.655635833740234,-16.987560272216797,-8.640124320983887,-69.96903228759766,41.898033142089844,-39.673492431640625,-46.094722747802734,-13.148005485534668,6.933443546295166,-57.151981353759766,-40.190547943115234,-17.746427536010742,-73.91544342041016,47.202274322509766,74.31867980957031,-18.1761417388916,74.08279418945312,-10.541644096374512,-3.1788582801818848,-59.83522033691406,25.58936309814453,-50.51015853881836,5.528417587280273,-55.73698806762695,-80.2174301147461,-63.87205505371094,-47.90520095825195,46.03847885131836,-70.14502716064453,78.12018585205078,63.90886306762695,76.54946899414062,72.99545288085938,10.823989868164062,47.93669891357422,21.94763946533203,-46.57780838012695,43.548702239990234,21.70368003845215,23.282445907592773,34.89788818359375,51.66025161743164,60.49984359741211,38.17063522338867,32.50180435180664,-2.8320915699005127,-14.636876106262207,35.49394989013672,82.25017547607422,51.76523971557617,29.960519790649414,24.887128829956055,-47.942176818847656,65.561279296875,99.53429412841797,77.4243392944336,-9.169357299804688,-77.69954681396484,80.10631561279297,-64.07108306884766,38.01335906982422,23.75851058959961,9.237462043762207,77.27971649169922,-69.38800048828125,51.30378723144531,94.92276000976562,35.83430862426758,-43.194252014160156,-56.23041534423828,-50.59729766845703,31.267398834228516,73.34322357177734,78.68915557861328,-33.1017951965332,-5.178370952606201,-75.5145492553711,34.853878021240234,55.49225997924805,-63.520111083984375,56.0610237121582,-33.159603118896484,55.567325592041016,-77.53141784667969,64.00164794921875,25.19525718688965,37.50137710571289,60.50592041015625,99.41399383544922,100.09595489501953,99.12373352050781,-12.772993087768555,24.277976989746094,47.155269622802734,83.06941223144531,108.96965026855469,0.8322340846061707,47.19288635253906,-26.637575149536133,-60.68291473388672,-61.926544189453125,-61.883026123046875,34.531593322753906,-60.73838424682617,71.3484115600586,78.318603515625,94.15064239501953,90.05130004882812,107.68427276611328,-20.567216873168945,61.173038482666016,98.4057388305664,63.3238525390625,65.01348876953125,99.6103744506836,54.66236877441406,2.767834186553955,79.46107482910156,46.65806198120117,59.46568298339844,41.38377380371094,2.3471953868865967,1.7901763916015625,85.78163146972656,-45.77436828613281,101.9664535522461,-82.61654663085938,-31.139053344726562,-81.88910675048828,-81.94353485107422,-63.391990661621094,57.64887619018555,8.196403503417969,4.281004905700684,46.86126708984375,58.91178512573242,-38.65211486816406,28.462553024291992,-18.086395263671875,-18.907121658325195,73.76102447509766,22.357664108276367,-15.822707176208496,75.09534454345703,-71.14704132080078,16.311704635620117,-32.215702056884766,62.740562438964844,5.635005950927734,69.48460388183594,-28.471254348754883,-28.915321350097656,-31.48271369934082,36.74870300292969,-3.979173183441162,-18.91564178466797,25.28072166442871,22.724668502807617,-70.88990783691406,117.85746765136719,-41.49406051635742,-51.4888801574707,-51.519287109375,-19.38228416442871,-52.996360778808594,58.8220100402832,58.196495056152344,59.368629455566406,-48.477054595947266,-18.497631072998047,-66.35282135009766,64.28123474121094,103.858154296875,102.14169311523438,-83.39298248291016,-50.643638610839844,-48.435062408447266,-49.724674224853516,-49.32630920410156,-84.52999114990234,-57.209625244140625,-84.20973205566406,52.78824996948242,-44.1916389465332,-16.934904098510742,13.030119895935059,-55.64860153198242,-6.919583320617676,-5.932124614715576,22.049848556518555,-61.65180587768555,-61.655033111572266,-55.45809555053711,-37.140899658203125,25.117027282714844,52.485557556152344,10.239702224731445,-55.8482666015625,-68.82807159423828,-68.23001098632812,52.19308853149414,-41.02320861816406,104.20158386230469,-47.90285873413086,-44.71619415283203,-75.82678985595703,-19.532512664794922,16.732328414916992,-15.761659622192383,11.87955379486084,0.9099979996681213,0.8796543478965759,8.355269432067871,-33.55665588378906,-51.61653137207031,-51.45695877075195,75.17996978759766,35.49713134765625,78.89535522460938,-12.859399795532227,11.471957206726074,35.74724578857422,26.254362106323242,32.976680755615234,49.34504699707031,93.1940689086914,48.502174377441406,95.06343078613281,-47.38559341430664,90.40192413330078,26.86414909362793,115.87031555175781,-46.869529724121094,80.79743957519531,100.1517333984375,-26.369184494018555,82.0168685913086,115.04380798339844,-60.487674713134766,-62.17886734008789,-1.6496810913085938,-89.42530059814453,-89.4637222290039,33.32139587402344,-31.51144790649414,-57.43555450439453,59.73024368286133,4.970168590545654,55.028785705566406,-62.01005554199219,43.04499435424805,46.04033660888672,84.42961883544922,-48.02186965942383,-50.28437805175781,-7.788930892944336,31.180198669433594,-74.44225311279297,112.1932144165039,-48.9719352722168,32.19939422607422,-47.05538558959961,-48.786155700683594,-73.7158203125,-53.2729606628418,-27.209012985229492,-66.48697662353516,-81.80857849121094,-81.67292022705078,105.92132568359375,18.579259872436523,41.986934661865234,7.004390716552734,-58.69495391845703,99.64525604248047,-39.033477783203125,-60.420387268066406,96.38443756103516,-47.21638870239258,18.885412216186523,80.12828826904297,-44.67314529418945,-84.67234802246094,-83.5625,-15.366273880004883,-83.55731201171875,12.196474075317383,51.12867736816406,0.20229218900203705,-70.61488342285156,-51.390926361083984,68.9839096069336,108.06657409667969,8.506089210510254,-47.05874252319336,3.947584629058838,-18.325481414794922,3.7950596809387207,28.511341094970703,-80.16790771484375,19.2314510345459,-45.43796157836914,-39.55453872680664,-7.983790874481201,-71.00038146972656,-51.882686614990234,-68.26213073730469,1.6485320329666138,-45.78251266479492,85.22286224365234,-51.944881439208984,96.03248596191406,43.42518997192383,-45.241703033447266,61.47965621948242,-66.501708984375,2.9278762340545654,26.25750732421875,-16.109418869018555,-56.24449920654297,-35.02183532714844,2.8152852058410645,20.35775375366211,-77.75828552246094,-48.539730072021484,97.3521957397461,-32.554805755615234,-40.34048843383789,23.86649513244629,7.100663185119629,45.478759765625,-13.670409202575684,3.05875825881958,2.897158622741699,-62.32229995727539,-18.706758499145508,-60.70426940917969,-18.839303970336914,3.1532461643218994,55.77116012573242,-15.801321983337402,-62.52372360229492,-40.40376281738281,-42.78447723388672,20.7335205078125,21.73536491394043,-76.36817932128906,31.767719268798828,-49.51673889160156,21.418933868408203,48.4385986328125,51.22355270385742,3.952280282974243,-7.067311763763428,-70.29998779296875,-3.7154712677001953,-9.938828468322754,-3.224076509475708,-1.3239648342132568,-3.43070912361145,-13.437171936035156,16.559167861938477,26.819490432739258,-14.266599655151367,-5.052220821380615,96.483642578125,48.03908157348633,-39.54681396484375,18.7541561126709,26.088972091674805,16.45649528503418,-12.421271324157715,45.64424514770508,18.408937454223633,-66.41893005371094,-51.81185531616211,-36.82234573364258,19.248607635498047,-10.3497314453125,-37.46154022216797,16.684232711791992,-14.032103538513184,10.768762588500977,2.870453119277954,15.545135498046875,-2.5594100952148438,-63.49191665649414,-35.32907485961914,-36.47307586669922,-20.196046829223633,-6.97366189956665,-18.175695419311523,-19.491134643554688,-67.24984741210938,41.31108093261719,-16.9145565032959,-65.74879455566406,-65.57125091552734,6.3955559730529785,-17.134967803955078,-67.63908386230469,-55.80369567871094,-37.02096939086914,44.82474136352539,-48.95133972167969,-49.87885665893555,-27.3052978515625,29.584447860717773,-46.438743591308594,32.48934555053711,-3.3496477603912354,-9.463781356811523,-4.325132846832275,-13.789340019226074,32.15252685546875,30.529743194580078,-14.475268363952637,31.078594207763672,-12.601641654968262,-31.626964569091797,-76.21134185791016,115.03404235839844,-24.769269943237305,27.527799606323242,46.54179763793945,1.7502620220184326,-64.71636199951172,-42.43617248535156,78.07772064208984,51.054805755615234,28.308231353759766,41.43303680419922,-5.619596004486084,19.754636764526367,-16.34142303466797,-24.588314056396484,-51.549896240234375,12.47429370880127,41.21432876586914,98.77964782714844,49.44495391845703,-1.8070292472839355,20.455228805541992,-68.37712860107422,97.23823547363281,42.55314636230469,-69.84527587890625,-70.52299499511719,110.66551971435547,26.879356384277344,41.127220153808594,31.69382667541504,-48.87870407104492,84.58370208740234,42.03477096557617,-53.27322006225586,-41.977760314941406,-66.39300537109375,-43.53586196899414,9.642073631286621,-122.20699310302734,-3.4922945499420166,-123.18854522705078,-123.17832946777344,-123.5560302734375,-122.57891845703125,-124.25225830078125,-70.7690658569336,40.09457015991211,-121.6455307006836,-125.56501007080078,-124.60735321044922,-125.61705017089844,-49.92399978637695,43.41086959838867,-50.169097900390625,15.647947311401367,14.635766983032227,15.263888359069824,15.083473205566406,-29.697420120239258,-27.24631690979004,12.314984321594238,34.96759796142578,-70.3350830078125,96.81262969970703,34.93655776977539,-54.981136322021484,-53.991416931152344,-54.18027114868164,116.6202163696289,-16.326568603515625,-20.15774154663086,-74.05738830566406,31.91792869567871,-53.419368743896484,21.628725051879883,-8.86877155303955,-33.23208999633789,-9.390168190002441,-70.06932830810547,-69.3056411743164,-50.84177780151367,-52.828697204589844,-38.52352523803711,43.57575225830078,-50.03887176513672,-12.115325927734375,-68.6322250366211,-37.82117462158203,-38.67171096801758,-70.55091857910156,-67.9895248413086,-49.67087173461914,18.207347869873047,-50.96257400512695,18.15982437133789,102.98011016845703,72.2950668334961,22.806692123413086,-51.171443939208984,7.608674049377441,100.68379211425781,-52.349056243896484,-44.763179779052734,-43.12781524658203,-79.61021423339844,-77.98914337158203,104.80951690673828,20.835073471069336,-18.82462501525879,22.267162322998047,-33.1611213684082,5.933992862701416,21.753765106201172,1.8551616668701172,18.853349685668945,-31.387542724609375,36.09242248535156,1.5968307256698608,6.7597222328186035,-44.61219024658203,29.478954315185547,27.6010684967041,-74.79497528076172,31.25800323486328,28.19706916809082,88.13542175292969,-35.460365295410156,36.39724349975586,30.657207489013672,28.761014938354492,96.06929016113281,-10.802064895629883,6.115847110748291,99.392822265625,27.133758544921875,-10.569849967956543,20.879356384277344,-16.81754493713379,-33.45183181762695,49.320350646972656,49.50679397583008,105.16996002197266,61.83156204223633,36.672279357910156,20.38241958618164,-30.158674240112305,26.792905807495117,-78.18550109863281,-29.53367805480957,38.22504806518555,14.309130668640137,15.830517768859863,13.964742660522461,43.25962829589844,-2.376347780227661,-54.37337875366211,27.87211799621582,-72.94965362548828,-63.77840042114258,9.522845268249512,-49.09606170654297,-49.17778015136719,-37.603641510009766,62.425514221191406,48.77451705932617,-42.028560638427734,14.776350021362305,61.52214813232422,1.7463771104812622,-64.56488800048828,26.134340286254883,71.50252532958984,73.019775390625,73.34416961669922,49.321529388427734,-32.31785583496094,48.70566177368164,32.53593063354492,98.1336441040039,-60.96510696411133,-37.007606506347656,-52.22504806518555,-77.97808074951172,-23.984169006347656,28.472557067871094,-48.39125442504883,-49.244415283203125,-29.572294235229492,-49.30135726928711,-48.695125579833984,-71.88252258300781,69.59384155273438,16.228391647338867,83.36937713623047,-43.538089752197266,34.092952728271484,53.480342864990234,78.61307525634766,69.76063537597656,-56.348594665527344,57.79256820678711,-52.479347229003906,-77.59886169433594,74.82048797607422,-19.212581634521484,89.453369140625,52.74003601074219,-8.585677146911621,-77.4190444946289,-85.47069549560547,-32.23712921142578,-41.899322509765625,23.55948829650879,-85.49424743652344,-41.238346099853516,-54.99142074584961,-46.036216735839844,-55.29942321777344,79.3935317993164,59.74748611450195,-67.46521759033203,-38.46729278564453,-38.46311950683594,-8.271918296813965,-44.105770111083984,66.9752197265625,103.33699798583984,-47.203487396240234,50.37380599975586,104.11294555664062,-64.97107696533203,16.45484733581543,114.28741455078125,77.09259033203125,21.07939338684082],\"yaxis\":\"y\",\"type\":\"scattergl\"},{\"customdata\":[[\"Geschichte des Fr\\u00e4uleins von Sternheim\",\"Sophie von La Roche\",\"Kunstepoche\"],[\"Geschichte des Fr\\u00e4uleins von Sternheim\",\"Sophie von La Roche\",\"Kunstepoche\"],[\"Florentin\",\"Dorothea Schlegel\",\"Kunstepoche\"],[\"M\\u00e4hrchen\",\"Caroline Auguste Fischer\",\"Kunstepoche\"],[\"Gem\\u00e4lde weiblicher Erziehung\",\"Karoline Rudolphi\",\"Kunstepoche\"],[\"Gem\\u00e4lde weiblicher Erziehung\",\"Karoline Rudolphi\",\"Kunstepoche\"],[\"Rahel\",\"Rahel Levin\",\"Kunstepoche\"],[\"Rahel\",\"Rahel Levin\",\"Kunstepoche\"],[\"Rahel\",\"Rahel Levin\",\"Kunstepoche\"],[\"Jenny\",\"Fanny Lewald\",\"Vorm\\u00e4rz\"],[\"Jenny\",\"Fanny Lewald\",\"Vorm\\u00e4rz\"],[\"Der Prophet\",\"Amalie Schoppe\",\"Kunstepoche\"],[\"Der Prophet\",\"Amalie Schoppe\",\"Kunstepoche\"],[\"Der Prophet\",\"Amalie Schoppe\",\"Kunstepoche\"],[\"Letzte Gaben\",\"Annette von Droste-H\\u00fclshoff\",\"Kunstepoche\"],[\"Adele\",\"Fanny Lewald\",\"Vorm\\u00e4rz\"],[\"Die letzte Reckenburgerin\",\"Louise von Fran\\u00e7ois\",\"Vorm\\u00e4rz\"],[\"Die letzte Reckenburgerin\",\"Louise von Fran\\u00e7ois\",\"Vorm\\u00e4rz\"],[\"Heidi's Lehr- und Wanderjahre\",\"Johanna Spyri\",\"Vorm\\u00e4rz\"],[\"Bitters\\u00fc\\u00df\",\"Ilse Frapan\",\"Realismus\"],[\"Fl\\u00fcgel auf!\",\"Ilse Frapan\",\"Realismus\"],[\"Irrwisch-Fritze\",\"Adelheid Reinbold\",\"Kunstepoche\"],[\"Die Judenbuche\",\"Annette von Droste-H\\u00fclshoff\",\"Kunstepoche\"],[\"Reich zu reich und arm zu arm\",\"Claire von Gl\\u00fcmer\",\"Vorm\\u00e4rz\"],[\"Der Striethast\",\"Emmy von Dincklage\",\"Vorm\\u00e4rz\"],[\"Die Tante\",\"Fanny Lewald\",\"Vorm\\u00e4rz\"],[\"Musikalische Orthodoxie\",\"Johanna Kinkel\",\"Kunstepoche\"],[\"Eine fromme L\\u00fcge\",\"Luise von Gall\",\"Vorm\\u00e4rz\"],[\"Streit in der Liebe und Liebe im Streit\",\"Ottilie Wildermuth\",\"Vorm\\u00e4rz\"],[\"Zwei Erz\\u00e4hlungen\",\"Elisabeth von Heyking\",\"Realismus\"],[\"Yoshiwara\",\"Hermione von Preuschen\",\"Realismus\"],[\"Als er heimkehrte\",\"Ada Christen, eigentlich Christiane von Breden\",\"Realismus\"],[\"Der einsame Spatz\",\"Ada Christen, eigentlich Christiane von Breden\",\"Realismus\"],[\"Jungfer Mutter\",\"Ada Christen, eigentlich Christiane von Breden\",\"Realismus\"],[\"K\\u00e4thes Federhut\",\"Ada Christen, eigentlich Christiane von Breden\",\"Realismus\"],[\"Nachbar Krippelmacher\",\"Ada Christen, eigentlich Christiane von Breden\",\"Realismus\"],[\"Rahel\",\"Ada Christen, eigentlich Christiane von Breden\",\"Realismus\"],[\"Anna\",\"Adele Schopenhauer\",\"Kunstepoche\"],[\"Die Schwingen des Lebens\",\"Agnes Franz\",\"Kunstepoche\"],[\"Die Heilige und ihr Narr, Band 1\",\"Agnes G\\u00fcnther\",\"Realismus\"],[\"Die Heilige und ihr Narr, Band 2\",\"Agnes G\\u00fcnther\",\"Realismus\"],[\"Das kleine Dummerle und andere Erz\\u00e4hlungen\",\"Agnes Sapper\",\"Realismus\"],[\"F\\u00fcr kleine M\\u00e4dchen\",\"Agnes Sapper\",\"Realismus\"],[\"Die Br\\u00e4utigame der Babette Bomberling\",\"Alice Berend\",\"Moderne\"],[\"Frau Hempels Tochter\",\"Alice Berend\",\"Moderne\"],[\"Bei uns zu Lande auf dem Lande\",\"Annette von Droste-H\\u00fclshoff\",\"Kunstepoche\"],[\"Bei uns zulande auf dem Lande\",\"Annette von Droste-H\\u00fclshoff\",\"Kunstepoche\"],[\"Der Familienschild\",\"Annette von Droste-H\\u00fclshoff\",\"Kunstepoche\"],[\"Ledwina\",\"Annette von Droste-H\\u00fclshoff\",\"Kunstepoche\"],[\"Westf\\u00e4lische Schilderungen\",\"Annette von Droste-H\\u00fclshoff\",\"Kunstepoche\"],[\"Warenhaus Gro\\u00df & Comp.\",\"Auguste Groner\",\"Realismus\"],[\"Alf von D\\u00fclmen\",\"Benedikte Naubert\",\"Kunstepoche\"],[\"Conrad und Siegfried von Feuchtwangen, Gro\\u00dfmeister des deutschen Ordens\",\"Benedikte Naubert\",\"Kunstepoche\"],[\"Die Amtmannin von Hohenweiler\",\"Benedikte Naubert\",\"Kunstepoche\"],[\"Herrmann von Unna\",\"Benedikte Naubert\",\"Kunstepoche\"],[\"In Moor und Marsch\",\"Bernhardine Schulze-Smidt\",\"Realismus\"],[\"Pfadfinder\",\"Bernhardine Schulze-Smidt\",\"Realismus\"],[\"Alte Liebe\",\"Bertha Behrens\",\"Realismus\"],[\"Aus dem Leben meiner alten Freundin\",\"Bertha Behrens\",\"Realismus\"],[\"Erz\\u00e4hlungen\",\"Bertha Behrens\",\"Realismus\"],[\"Mamsell Unn\\u00fctz\",\"Bertha Behrens\",\"Realismus\"],[\"Trudchens Heirat\",\"Bertha Behrens\",\"Realismus\"],[\"Wie auch wir vergeben ...\",\"Bertha Behrens\",\"Realismus\"],[\"Die Waffen nieder!\",\"Bertha von Suttner\",\"Realismus\"],[\"Ermenegildens Flucht\",\"Bertha von Suttner\",\"Realismus\"],[\"Franzl und Mirzl\",\"Bertha von Suttner\",\"Realismus\"],[\"Langeweile\",\"Bertha von Suttner\",\"Realismus\"],[\"Martha's Kinder\",\"Bertha von Suttner\",\"Realismus\"],[\"Clemens Brentanos Fr\\u00fchlingskranz\",\"Bettina von Arnim\",\"Kunstepoche\"],[\"Die G\\u00fcnderode\",\"Bettina von Arnim\",\"Kunstepoche\"],[\"Goethes Briefwechsel mit einem Kinde\",\"Bettina von Arnim\",\"Kunstepoche\"],[\"Geknechteter Wille\",\"Carola von Eynatten\",\"Realismus\"],[\"Der G\\u00fcnstling\",\"Caroline Auguste Fischer\",\"Kunstepoche\"],[\"Die Honigmonathe\",\"Caroline Auguste Fischer\",\"Kunstepoche\"],[\"Gustavs Verirrungen\",\"Caroline Auguste Fischer\",\"Kunstepoche\"],[\"Krauskopf und Goldl\\u00f6ckchen\",\"Caroline Auguste Fischer\",\"Kunstepoche\"],[\"Margarethe\",\"Caroline Auguste Fischer\",\"Kunstepoche\"],[\"Selim und Zora\\u00efde\",\"Caroline Auguste Fischer\",\"Kunstepoche\"],[\"Vierzehn Tage in Paris\",\"Caroline Auguste Fischer\",\"Kunstepoche\"],[\"Agathocles\",\"Caroline Pichler\",\"Kunstepoche\"],[\"Agnes von Lilien\",\"Caroline von Wolzogen\",\"Kunstepoche\"],[\"Erz\\u00e4hlungen\",\"Caroline von Wolzogen\",\"Kunstepoche\"],[\"Als der Mond in Dorothees Zimmer schien\",\"Charlotte Niese\",\"Realismus\"],[\"Die falschen Weihnachtsb\\u00e4ume\",\"Charlotte Niese\",\"Realismus\"],[\"Die Geschichte von einem, der nichts durfte\",\"Charlotte Niese\",\"Realismus\"],[\"Er und Sie\",\"Charlotte Niese\",\"Realismus\"],[\"Es war gut so\",\"Charlotte Niese\",\"Realismus\"],[\"Geschichten aus Holstein\",\"Charlotte Niese\",\"Realismus\"],[\"Kajus Rungholt\",\"Charlotte Niese\",\"Realismus\"],[\"Mamsell van Ehren\",\"Charlotte Niese\",\"Realismus\"],[\"Mein Freund Kaspar und andere Erz\\u00e4hlungen\",\"Charlotte Niese\",\"Realismus\"],[\"Reifezeit\",\"Charlotte Niese\",\"Realismus\"],[\"Erna\",\"Charlotte von Ahlefeld\",\"Kunstepoche\"],[\"Gesammelte Erz\\u00e4hlungen\",\"Charlotte von Ahlefeld\",\"Kunstepoche\"],[\"Marie M\\u00fcller\",\"Charlotte von Ahlefeld\",\"Kunstepoche\"],[\"Ges\\u00fchnt\",\"Claire von Gl\\u00fcmer\",\"Vorm\\u00e4rz\"],[\"Die Graue Gasse\",\"Dora Duncker\",\"Realismus\"],[\"Gross-Berlin\",\"Dora Duncker\",\"Realismus\"],[\"Grossstadt\",\"Dora Duncker\",\"Realismus\"],[\"Gro\\u00dfstadt\",\"Dora Duncker\",\"Realismus\"],[\"Jugend\",\"Dora Duncker\",\"Realismus\"],[\"Lottes Gl\\u00fcck \\u002f Totgelacht\",\"Dora Duncker\",\"Realismus\"],[\"Marquise von Pompadour\",\"Dora Duncker\",\"Realismus\"],[\"M\\u00fctter\",\"Dora Duncker\",\"Realismus\"],[\"Florentin\",\"Dorothea Schlegel\",\"Kunstepoche\"],[\"Florentin\",\"Dorothea Schlegel\",\"Kunstepoche\"],[\"Das Eulenhaus\",\"E. Marlitt\",\"Vorm\\u00e4rz\"],[\"Das Geheimnis der alten Mamsell\",\"E. Marlitt\",\"Vorm\\u00e4rz\"],[\"Das Heideprinze\\u00dfchen\",\"E. Marlitt\",\"Vorm\\u00e4rz\"],[\"Die Frau mit den Karfunkelsteinen\",\"E. Marlitt\",\"Vorm\\u00e4rz\"],[\"Die zweite Frau\",\"E. Marlitt\",\"Vorm\\u00e4rz\"],[\"Die zw\\u00f6lf Apostel\",\"E. Marlitt\",\"Vorm\\u00e4rz\"],[\"Goldelse\",\"E. Marlitt\",\"Vorm\\u00e4rz\"],[\"Im Schillingshof\",\"E. Marlitt\",\"Vorm\\u00e4rz\"],[\"Reichsgr\\u00e4fin Gisela\",\"E. Marlitt\",\"Vorm\\u00e4rz\"],[\"Schulmeisters Marie\",\"E. Marlitt\",\"Vorm\\u00e4rz\"],[\"Th\\u00fcringer Erz\\u00e4hlungen\",\"E. Marlitt\",\"Vorm\\u00e4rz\"],[\"Adlerflug\",\"E. Werner, eigentlich Elisabeth B\\u00fcrstenbinder\",\"Realismus\"],[\"Ein Gottesurteil\",\"E. Werner, eigentlich Elisabeth B\\u00fcrstenbinder\",\"Realismus\"],[\"Fata Morgana\",\"E. Werner, eigentlich Elisabeth B\\u00fcrstenbinder\",\"Realismus\"],[\"Gebannt und erl\\u00f6st\",\"E. Werner, eigentlich Elisabeth B\\u00fcrstenbinder\",\"Realismus\"],[\"Gesprengte Fesseln\\u002fVerd\\u00e4chtig\",\"E. Werner, eigentlich Elisabeth B\\u00fcrstenbinder\",\"Realismus\"],[\"Gl\\u00fcck auf!\",\"E. Werner, eigentlich Elisabeth B\\u00fcrstenbinder\",\"Realismus\"],[\"Hexengold\",\"E. Werner, eigentlich Elisabeth B\\u00fcrstenbinder\",\"Realismus\"],[\"Siegwart\",\"E. Werner, eigentlich Elisabeth B\\u00fcrstenbinder\",\"Realismus\"],[\"Briefe, die ihn nicht erreichten\",\"Elisabeth von Heyking\",\"Realismus\"],[\"Das vollkommene Gl\\u00fcck\",\"Elisabeth von Heyking\",\"Realismus\"],[\"Der Tag Anderer\",\"Elisabeth von Heyking\",\"Realismus\"],[\"Tschun\",\"Elisabeth von Heyking\",\"Realismus\"],[\"Weberin Schuld\",\"Elisabeth von Heyking\",\"Realismus\"],[\"Papillon\",\"Elise Polko\",\"Vorm\\u00e4rz\"],[\"Aus dem Elend\",\"Emerenz Meier\",\"Moderne\"],[\"Der Brechelbrei\",\"Emerenz Meier\",\"Moderne\"],[\"Der Juhschroa\",\"Emerenz Meier\",\"Moderne\"],[\"Die Madlh\\u00fcttler\",\"Emerenz Meier\",\"Moderne\"],[\"Heckenrosen\",\"Emilie Giehrl\",\"Realismus\"],[\"Auf Rother Erde\",\"Fanny Lewald\",\"Vorm\\u00e4rz\"],[\"Clementine\",\"Fanny Lewald\",\"Vorm\\u00e4rz\"],[\"Diogena\",\"Fanny Lewald\",\"Vorm\\u00e4rz\"],[\"Eine Lebensfrage\",\"Fanny Lewald\",\"Vorm\\u00e4rz\"],[\"Von Geschlecht zu Geschlecht\",\"Fanny Lewald\",\"Vorm\\u00e4rz\"],[\"Wandlungen. Erster Band\",\"Fanny Lewald\",\"Vorm\\u00e4rz\"],[\"Daniella\",\"Ferdinande von Brackel\",\"Realismus\"],[\"Die Tochter des Kunstreiters\",\"Ferdinande von Brackel\",\"Realismus\"],[\"Kinder der Liebe\",\"Frances K\\u00fclpe\",\"Realismus\"],[\"Rote Tage\",\"Frances K\\u00fclpe\",\"Realismus\"],[\"Aus Nacht zum Licht\",\"Frida von Kronoff\",\"Realismus\"],[\"Albert und Albertine\",\"Friederike Helene Unger\",\"Kunstepoche\"],[\"Bekenntnisse einer sch\\u00f6nen Seele\",\"Friederike Helene Unger\",\"Kunstepoche\"],[\"Julchen Gr\\u00fcnthal\",\"Friederike Helene Unger\",\"Kunstepoche\"],[\"Amey\",\"Friederike Henriette Kraze\",\"Realismus\"],[\"Jahr der Wandlung\",\"Friederike Henriette Kraze\",\"Realismus\"],[\"Maria am Meer\",\"Friederike Henriette Kraze\",\"Realismus\"],[\"Die Intellektuellen\",\"Grete Meisel-He\\u00df\",\"Moderne\"],[\"Christa Ruland\",\"Hedwig Dohm\",\"Moderne\"],[\"Schicksale einer Seele\",\"Hedwig Dohm\",\"Moderne\"],[\"Sibilla Dalmar\",\"Hedwig Dohm\",\"Moderne\"],[\"Werde, die Du bist!\",\"Hedwig Dohm\",\"Moderne\"],[\"Wie Frauen werden\",\"Hedwig Dohm\",\"Moderne\"],[\"Flitter und Schein\",\"Hedwig Dransfeld\",\"Moderne\"],[\"Frau Doktor Breuer\",\"Helene von M\\u00fchlau, eigentlich Hedwig von M\\u00fchlenfels, geb. Rathgeber\",\"Moderne\"],[\"Erz\\u00e4hlungen. Aus den Papieren der Herzogin von Nottingham\",\"Henriette von Paalzow\",\"Kunstepoche\"],[\"Godwie-Castle\",\"Henriette von Paalzow\",\"Kunstepoche\"],[\"Ste. Roche\",\"Henriette von Paalzow\",\"Kunstepoche\"],[\"Aus dem Badener Land\",\"Hermine Villinger\",\"Realismus\"],[\"Aus meiner Heimat\",\"Hermine Villinger\",\"Realismus\"],[\"Annas Ehe\",\"Ida Boy-Ed\",\"Realismus\"],[\"Die Opferschale\",\"Ida Boy-Ed\",\"Realismus\"],[\"Ein k\\u00f6niglicher Kaufmann\",\"Ida Boy-Ed\",\"Realismus\"],[\"Empor!\",\"Ida Boy-Ed\",\"Realismus\"],[\"Fanny F\\u00f6rster\",\"Ida Boy-Ed\",\"Realismus\"],[\"Um ein Weib\",\"Ida Boy-Ed\",\"Realismus\"],[\"Vor der Ehe\",\"Ida Boy-Ed\",\"Realismus\"],[\"Zwei M\\u00e4nner\",\"Ida Boy-Ed\",\"Realismus\"],[\"Gr\\u00e4fin Faustine\",\"Ida Hahn-Hahn\",\"Kunstepoche\"],[\"Maria Regina - Band 1\",\"Ida Hahn-Hahn\",\"Kunstepoche\"],[\"Maria Regina - Band 2\",\"Ida Hahn-Hahn\",\"Kunstepoche\"],[\"Sibylle\",\"Ida Hahn-Hahn\",\"Kunstepoche\"],[\"Arbeit\",\"Ilse Frapan\",\"Realismus\"],[\"Querk\\u00f6pfe\",\"Ilse Frapan\",\"Realismus\"],[\"Schreie. Novellen und Skizzen\",\"Ilse Frapan\",\"Realismus\"],[\"Was der Alltag dichtet\",\"Ilse Frapan\",\"Realismus\"],[\"Wir Frauen haben kein Vaterland\",\"Ilse Frapan\",\"Realismus\"],[\"Zu Wasser und zu Lande\",\"Ilse Frapan\",\"Realismus\"],[\"Zwischen Elbe und Alster\",\"Ilse Frapan\",\"Realismus\"],[\"Guten Abend!\",\"Isabella Braun\",\"Vorm\\u00e4rz\"],[\"Erz\\u00e4hlungen\",\"Johanna Kinkel\",\"Kunstepoche\"],[\"Die Tante\",\"Johanna Schopenhauer\",\"Kunstepoche\"],[\"Erz\\u00e4hlungen\",\"Johanna Schopenhauer\",\"Kunstepoche\"],[\"Gabriele\",\"Johanna Schopenhauer\",\"Kunstepoche\"],[\"Leontine und Natalie\",\"Johanna Schopenhauer\",\"Kunstepoche\"],[\"Richard Wood\",\"Johanna Schopenhauer\",\"Kunstepoche\"],[\"Heidi kann brauchen, was es gelernt hat\",\"Johanna Spyri\",\"Vorm\\u00e4rz\"],[\"Heidis Lehr- und Wanderjahre\",\"Johanna Spyri\",\"Vorm\\u00e4rz\"],[\"Sina\",\"Johanna Spyri\",\"Vorm\\u00e4rz\"],[\"Die Rumplhanni\",\"Lena Christ\",\"Moderne\"],[\"Lausdirndlgeschichten\",\"Lena Christ\",\"Moderne\"],[\"Madam B\\u00e4urin\",\"Lena Christ\",\"Moderne\"],[\"Mathias Bichler\",\"Lena Christ\",\"Moderne\"],[\"Lebenssucher\",\"Lily Braun\",\"Realismus\"],[\"Das Haus\",\"Lou Andreas-Salom\\u00e9\",\"Realismus\"],[\"Fenitschka \\u002f Eine Ausschweifung\",\"Lou Andreas-Salom\\u00e9\",\"Realismus\"],[\"Ruth\",\"Lou Andreas-Salom\\u00e9\",\"Realismus\"],[\"Aus dem Leben einer Frau\",\"Louise Aston\",\"Vorm\\u00e4rz\"],[\"Lydia\",\"Louise Aston\",\"Vorm\\u00e4rz\"],[\"Revolution und Contrerevolution\",\"Louise Aston\",\"Vorm\\u00e4rz\"],[\"Ausgew\\u00e4hlte Novellen. Erster Band\",\"Louise von Fran\\u00e7ois\",\"Vorm\\u00e4rz\"],[\"Ausgew\\u00e4hlte Novellen. Zweiter Band\",\"Louise von Fran\\u00e7ois\",\"Vorm\\u00e4rz\"],[\"Der Katzenjunker\",\"Louise von Fran\\u00e7ois\",\"Vorm\\u00e4rz\"],[\"Der Posten der Frau\",\"Louise von Fran\\u00e7ois\",\"Vorm\\u00e4rz\"],[\"Die Geschichte meines Urgro\\u00dfvaters\",\"Louise von Fran\\u00e7ois\",\"Vorm\\u00e4rz\"],[\"Erz\\u00e4hlungen\",\"Louise von Fran\\u00e7ois\",\"Vorm\\u00e4rz\"],[\"Hellst\\u00e4dt und andere Erz\\u00e4hlungen\",\"Louise von Fran\\u00e7ois\",\"Vorm\\u00e4rz\"],[\"Judith, die Kluswirtin\",\"Louise von Fran\\u00e7ois\",\"Vorm\\u00e4rz\"],[\"Natur und Gnade nebst anderen Erz\\u00e4hlungen\",\"Louise von Fran\\u00e7ois\",\"Vorm\\u00e4rz\"],[\"Phosphorus Hollunder\",\"Louise von Fran\\u00e7ois\",\"Vorm\\u00e4rz\"],[\"Stufenjahre eines Gl\\u00fccklichen\",\"Louise von Fran\\u00e7ois\",\"Vorm\\u00e4rz\"],[\"Der panische Schrecken\",\"Luise Gla\\u00df\",\"Realismus\"],[\"Nach der Hochzeit\",\"Luise M\\u00fchlbach\",\"Vorm\\u00e4rz\"],[\"Der Major\",\"Luise Reinhardt\",\"Kunstepoche\"],[\"Novellen. Dritter Band\",\"Luise Reinhardt\",\"Kunstepoche\"],[\"Novellen. Erster Band\",\"Luise Reinhardt\",\"Kunstepoche\"],[\"Novellen. Vierter Band\",\"Luise Reinhardt\",\"Kunstepoche\"],[\"Novellen. Zweiter Band\",\"Luise Reinhardt\",\"Kunstepoche\"],[\"Der neue Kreuzritter\",\"Luise von Gall\",\"Vorm\\u00e4rz\"],[\"Frauenleben. Erster Theil\",\"Luise von Gall\",\"Vorm\\u00e4rz\"],[\"Gegen den Strom. Erster Band\",\"Luise von Gall\",\"Vorm\\u00e4rz\"],[\"Der heilige Michael\",\"Malwida von Meysenbug\",\"Vorm\\u00e4rz\"],[\"Der Pfad der \\u00c4btissin\",\"Malwida von Meysenbug\",\"Vorm\\u00e4rz\"],[\"Himmlische und irdische Liebe\",\"Malwida von Meysenbug\",\"Vorm\\u00e4rz\"],[\"Unerf\\u00fcllt\",\"Malwida von Meysenbug\",\"Vorm\\u00e4rz\"],[\"Zu sp\\u00e4t\",\"Malwida von Meysenbug\",\"Vorm\\u00e4rz\"],[\"Atlas\",\"Maria Janitschek\",\"Realismus\"],[\"Der rote Teufel\",\"Maria Janitschek\",\"Realismus\"],[\"Despotische Liebe\",\"Maria Janitschek\",\"Realismus\"],[\"Die Amazonenschlacht\",\"Maria Janitschek\",\"Realismus\"],[\"Die neue Eva\",\"Maria Janitschek\",\"Realismus\"],[\"Es geistert\",\"Maria Janitschek\",\"Realismus\"],[\"Frauenkraft\",\"Maria Janitschek\",\"Realismus\"],[\"Klare Rechnung\",\"Maria Janitschek\",\"Realismus\"],[\"Kreuzfahrer\",\"Maria Janitschek\",\"Realismus\"],[\"Lilienzauber\",\"Maria Janitschek\",\"Realismus\"],[\"Ninive\",\"Maria Janitschek\",\"Realismus\"],[\"Poverino\",\"Maria Janitschek\",\"Realismus\"],[\"Das Buch der Liebe\",\"Marie Eugenie Delle Grazie\",\"Realismus\"],[\"Heilige und Menschen\",\"Marie Eugenie Delle Grazie\",\"Realismus\"],[\"Wunder der Seele\",\"Marie Eugenie Delle Grazie\",\"Realismus\"],[\"Dorf- und Stadtgeschichten\",\"Marie Nathusius\",\"Vorm\\u00e4rz\"],[\"Agave\",\"Marie von Ebner-Eschenbach\",\"Vorm\\u00e4rz\"],[\"Bozena\",\"Marie von Ebner-Eschenbach\",\"Vorm\\u00e4rz\"],[\"Das Gemeindekind\",\"Marie von Ebner-Eschenbach\",\"Vorm\\u00e4rz\"],[\"Das Sch\\u00e4dliche\",\"Marie von Ebner-Eschenbach\",\"Vorm\\u00e4rz\"],[\"Der gute Mond\",\"Marie von Ebner-Eschenbach\",\"Vorm\\u00e4rz\"],[\"Der Herr Hofrat\",\"Marie von Ebner-Eschenbach\",\"Vorm\\u00e4rz\"],[\"Der Kreisphysikus\",\"Marie von Ebner-Eschenbach\",\"Vorm\\u00e4rz\"],[\"Der Vorzugssch\\u00fcler\",\"Marie von Ebner-Eschenbach\",\"Vorm\\u00e4rz\"],[\"Die Freiherren von Gemperlein\",\"Marie von Ebner-Eschenbach\",\"Vorm\\u00e4rz\"],[\"Die Poesie des Unbewussten\",\"Marie von Ebner-Eschenbach\",\"Vorm\\u00e4rz\"],[\"Die sch\\u00f6nsten Erz\\u00e4hlungen\",\"Marie von Ebner-Eschenbach\",\"Vorm\\u00e4rz\"],[\"Ein kleiner Roman\",\"Marie von Ebner-Eschenbach\",\"Vorm\\u00e4rz\"],[\"Ein Sp\\u00e4tgeborner\",\"Marie von Ebner-Eschenbach\",\"Vorm\\u00e4rz\"],[\"Er la\\u00dft die Hand k\\u00fcssen\",\"Marie von Ebner-Eschenbach\",\"Vorm\\u00e4rz\"],[\"Erz\\u00e4hlungen, Autobiographisches\",\"Marie von Ebner-Eschenbach\",\"Vorm\\u00e4rz\"],[\"Ihr Traum\",\"Marie von Ebner-Eschenbach\",\"Vorm\\u00e4rz\"],[\"Krambambuli\",\"Marie von Ebner-Eschenbach\",\"Vorm\\u00e4rz\"],[\"Lotti, die Uhrmacherin\",\"Marie von Ebner-Eschenbach\",\"Vorm\\u00e4rz\"],[\"Maslans Frau\",\"Marie von Ebner-Eschenbach\",\"Vorm\\u00e4rz\"],[\"Nach dem Tode\",\"Marie von Ebner-Eschenbach\",\"Vorm\\u00e4rz\"],[\"Uns\\u00fchnbar\",\"Marie von Ebner-Eschenbach\",\"Vorm\\u00e4rz\"],[\"Eigenthum\",\"Marie von Olfers\",\"Vorm\\u00e4rz\"],[\"Frost in Bl\\u00fcthen\",\"Marie von Olfers\",\"Vorm\\u00e4rz\"],[\"Jungfer Modeste\",\"Marie von Olfers\",\"Vorm\\u00e4rz\"],[\"Ob er wohl Fiekchen heirathen kann?\",\"Marie von Olfers\",\"Vorm\\u00e4rz\"],[\"Mein Weg zur Kunst\",\"Monika Hunnius\",\"Realismus\"],[\"Der Rosenkavalier\",\"Ossip Schubin, eigentlich Lola Kirschner\",\"Realismus\"],[\"Es fiel ein Reif in der Fr\\u00fchlingsnacht\",\"Ossip Schubin, eigentlich Lola Kirschner\",\"Realismus\"],[\"Gr\\u00e4fin Erikas Lehr- und Wanderjahre\",\"Ossip Schubin, eigentlich Lola Kirschner\",\"Realismus\"],[\"Mar\\u0161ka\",\"Ossip Schubin, eigentlich Lola Kirschner\",\"Realismus\"],[\"Maximum\",\"Ossip Schubin, eigentlich Lola Kirschner\",\"Realismus\"],[\"Peterl\",\"Ossip Schubin, eigentlich Lola Kirschner\",\"Realismus\"],[\"Schatten\",\"Ossip Schubin, eigentlich Lola Kirschner\",\"Realismus\"],[\"Aus dem Frauenleben\",\"Ottilie Wildermuth\",\"Vorm\\u00e4rz\"],[\"Bilder und Geschichten aus Schwaben\",\"Ottilie Wildermuth\",\"Vorm\\u00e4rz\"],[\"Cherubino und Zephirine\",\"Ottilie Wildermuth\",\"Vorm\\u00e4rz\"],[\"Das B\\u00e4umlein im Walde\",\"Ottilie Wildermuth\",\"Vorm\\u00e4rz\"],[\"Das Feental\",\"Ottilie Wildermuth\",\"Vorm\\u00e4rz\"],[\"Der Peterli von Emmental\",\"Ottilie Wildermuth\",\"Vorm\\u00e4rz\"],[\"Die alte Freundin\",\"Ottilie Wildermuth\",\"Vorm\\u00e4rz\"],[\"Die Lehrjahre der zwei Schwestern\",\"Ottilie Wildermuth\",\"Vorm\\u00e4rz\"],[\"Die Verschm\\u00e4hte\",\"Ottilie Wildermuth\",\"Vorm\\u00e4rz\"],[\"Ein Herbsttag bei Weinsberg\",\"Ottilie Wildermuth\",\"Vorm\\u00e4rz\"],[\"Ein sonnenloses Leben\",\"Ottilie Wildermuth\",\"Vorm\\u00e4rz\"],[\"Eine K\\u00f6nigin\",\"Ottilie Wildermuth\",\"Vorm\\u00e4rz\"],[\"Frau Luna\",\"Ottilie Wildermuth\",\"Vorm\\u00e4rz\"],[\"Jugendgabe\",\"Ottilie Wildermuth\",\"Vorm\\u00e4rz\"],[\"Krieg und Frieden\",\"Ottilie Wildermuth\",\"Vorm\\u00e4rz\"],[\"M\\u00e4dchenbriefe\",\"Ottilie Wildermuth\",\"Vorm\\u00e4rz\"],[\"Morgen, Mittag und Abend\",\"Ottilie Wildermuth\",\"Vorm\\u00e4rz\"],[\"Perlen aus dem Sande\",\"Ottilie Wildermuth\",\"Vorm\\u00e4rz\"],[\"Todte Treue\",\"Ottilie Wildermuth\",\"Vorm\\u00e4rz\"],[\"Unabh\\u00e4ngigkeit\",\"Ottilie Wildermuth\",\"Vorm\\u00e4rz\"],[\"Das h\\u00f6fliche Gespenst\",\"Sophie Albrecht\",\"Kunstepoche\"],[\"Amanda und Eduard\",\"Sophie Mereau\",\"Kunstepoche\"],[\"Das Bl\\u00fcthenalter der Empfindung\",\"Sophie Mereau\",\"Kunstepoche\"],[\"Marie\",\"Sophie Mereau\",\"Kunstepoche\"],[\"Evremont\",\"Sophie Tieck\",\"Kunstepoche\"],[\"Wunderbilder und Tr\\u00e4ume\",\"Sophie Tieck\",\"Kunstepoche\"],[\"Erscheinungen am See Oneida\",\"Sophie von La Roche\",\"Kunstepoche\"],[\"Geschichte des Fr\\u00e4uleins von Sternheim\",\"Sophie von La Roche\",\"Kunstepoche\"],[\"Moralische Erz\\u00e4hlungen\",\"Sophie von La Roche\",\"Kunstepoche\"],[\"Rosalie und Cleberg auf dem Lande\",\"Sophie von La Roche\",\"Kunstepoche\"],[\"Rosaliens Briefe an ihre Freundin Mariane von St**\",\"Sophie von La Roche\",\"Kunstepoche\"],[\"Onnen Visser - Der Schmugglersohn von Norderney\",\"Sophie W\\u00f6rish\\u00f6ffer\",\"Realismus\"],[\"Robert der Schiffsjunge\",\"Sophie W\\u00f6rish\\u00f6ffer\",\"Realismus\"],[\"Robert des Schiffsjungen Fahrten und Abenteuer auf der deutschen Handels- und Kriegsflotte\",\"Sophie W\\u00f6rish\\u00f6ffer\",\"Realismus\"],[\"Des Achm\\u00fcllers Recht\",\"Therese Winkler\",\"Vorm\\u00e4rz\"],[\"Das Veferl vom Eibsee\",\"Tony Schumacher\",\"Realismus\"],[\"Heimatzauber\",\"Tony Schumacher\",\"Realismus\"],[\"Li und Lu und andere Erz\\u00e4hlungen f\\u00fcr die Jugend\",\"Tony Schumacher\",\"Realismus\"],[\"Schwatzliesel und andere Erz\\u00e4hlungen\",\"Tony Schumacher\",\"Realismus\"]],\"hovertemplate\":\"gender=f\\u003cbr\\u003eDim 1=%{x}\\u003cbr\\u003eDim 2=%{y}\\u003cbr\\u003etitle=%{customdata[0]}\\u003cbr\\u003eauthor=%{customdata[1]}\\u003cbr\\u003eperiod=%{customdata[2]}\\u003cextra\\u003e\\u003c\\u002fextra\\u003e\",\"legendgroup\":\"f\",\"marker\":{\"color\":\"#9d95b0\",\"symbol\":\"circle\"},\"mode\":\"markers\",\"name\":\"f\",\"showlegend\":true,\"x\":[-27.971424102783203,-7.181646823883057,-23.60650634765625,34.37049865722656,-25.425931930541992,-24.430461883544922,-17.3472957611084,-17.414674758911133,-19.3043155670166,-47.454227447509766,7.177994728088379,7.771994113922119,6.807796478271484,8.258950233459473,-16.273210525512695,6.669464111328125,-58.390254974365234,-57.687713623046875,-46.40008544921875,-28.240236282348633,-47.34893035888672,56.57020950317383,81.91498565673828,77.90737915039062,72.30538940429688,38.290584564208984,77.02649688720703,79.0318374633789,75.30884552001953,60.91423797607422,38.02569580078125,69.20063018798828,56.81037139892578,-22.506298065185547,45.187374114990234,56.722496032714844,51.63678741455078,-54.723976135253906,90.1881332397461,-17.729576110839844,-17.617055892944336,-66.01956939697266,0.6584755778312683,32.87751770019531,-32.942420959472656,41.150177001953125,63.55258560180664,83.25227355957031,64.05121612548828,87.78915405273438,-48.14899444580078,-37.944541931152344,-61.89491271972656,-28.923294067382812,-34.92152786254883,-67.88048553466797,-67.85566711425781,-42.535003662109375,-37.43256759643555,-38.71415328979492,-57.91768264770508,-29.6422176361084,-39.25495529174805,-29.314756393432617,52.03704071044922,60.3250617980957,52.60916519165039,-51.34834289550781,-34.84164047241211,-29.507034301757812,-37.816707611083984,-56.25068664550781,59.20063781738281,18.236669540405273,57.77035140991211,50.304847717285156,17.050140380859375,56.046630859375,62.46076583862305,-29.667707443237305,-40.80848693847656,-50.246490478515625,46.723201751708984,49.75046157836914,50.79837417602539,79.22054290771484,50.29973602294922,2.9796087741851807,-69.14269256591797,25.273067474365234,48.96685028076172,19.231319427490234,-59.74701690673828,-50.64595031738281,-12.50472640991211,43.96261215209961,-55.93363952636719,64.83613586425781,-52.836952209472656,-52.83988571166992,-12.062281608581543,68.99947357177734,-36.74813461303711,24.581422805786133,-24.444164276123047,-24.04197883605957,-56.57413101196289,-56.65413284301758,-33.39132308959961,-56.32405471801758,-56.03418731689453,65.84878540039062,-55.2557373046875,-37.26028823852539,-37.84468078613281,64.49864196777344,-36.297325134277344,7.370314121246338,-27.017436981201172,-41.31723403930664,-42.27591323852539,-48.491939544677734,-47.640018463134766,-45.916351318359375,-46.40446090698242,-17.780563354492188,57.92790985107422,-8.274003028869629,-73.72933959960938,38.78087615966797,68.37005615234375,63.11710739135742,54.79874038696289,54.32369613647461,55.31707000732422,34.149658203125,13.446737289428711,14.699379920959473,35.854774475097656,-45.224979400634766,-20.474380493164062,-72.39544677734375,-22.17837905883789,-47.8420295715332,-39.44348907470703,-33.0810661315918,62.21819305419922,-13.176803588867188,-21.293180465698242,-22.423213958740234,-55.04502868652344,-17.653085708618164,-24.949567794799805,-53.84729766845703,-44.87921142578125,-37.69391632080078,-38.17987823486328,49.59400939941406,34.490760803222656,-8.585264205932617,-53.23543930053711,-12.763810157775879,47.9903450012207,-23.593748092651367,-4.388715744018555,-32.08103561401367,-46.97629928588867,-55.52608871459961,-56.014835357666016,-29.13941192626953,-58.475955963134766,-59.91460037231445,-53.53202438354492,-52.451087951660156,-45.08565902709961,-44.27764129638672,-44.11286544799805,-28.275360107421875,-57.161476135253906,-23.780759811401367,-30.863685607910156,-67.03762817382812,47.37882614135742,2.4080324172973633,-23.11736297607422,15.17904281616211,-58.237125396728516,-46.4384651184082,-14.757410049438477,-37.260498046875,9.923307418823242,-46.70110321044922,-19.17880630493164,-46.387779235839844,-26.874197006225586,-22.871295928955078,45.69599151611328,17.24314308166504,-43.72119140625,-43.155696868896484,-47.89411163330078,16.254085540771484,-46.815574645996094,61.75028610229492,-13.901433944702148,-60.8607292175293,-59.25611877441406,-59.05678176879883,-5.436432361602783,66.82618713378906,31.03078842163086,-43.212589263916016,-29.45699691772461,-59.19519805908203,-29.100000381469727,78.69983673095703,-28.98493003845215,-50.35643768310547,-1.6328980922698975,-43.715484619140625,11.523218154907227,-23.282190322875977,-13.778573036193848,11.467259407043457,-3.002232313156128,-47.003814697265625,-2.7557435035705566,59.01017761230469,89.6341552734375,-8.17569351196289,9.710250854492188,62.967926025390625,73.99055480957031,-17.9571475982666,76.93714904785156,67.63047790527344,68.77348327636719,61.117881774902344,-7.342981338500977,72.707763671875,71.31301879882812,68.77314758300781,-6.331672191619873,53.21806335449219,-69.69417572021484,-44.35377502441406,-62.56153869628906,-7.374138832092285,-18.216751098632812,-58.030338287353516,-72.88920593261719,52.385494232177734,62.661834716796875,78.10151672363281,64.41863250732422,79.99624633789062,79.79686737060547,37.87932586669922,-56.81388473510742,37.32233428955078,81.16543579101562,69.07144927978516,-21.531763076782227,63.92306137084961,63.893035888671875,10.291089057922363,77.57425689697266,57.596073150634766,-58.10883712768555,73.42740631103516,37.00929641723633,60.807212829589844,73.00192260742188,-28.65336799621582,-4.092886447906494,59.254676818847656,-39.975341796875,42.96184539794922,-39.64927291870117,57.37874984741211,36.82627868652344,2.496039628982544,-76.9173355102539,81.4681167602539,58.126094818115234,72.21885681152344,79.09420776367188,-76.48406982421875,62.763912200927734,77.87301635742188,79.33781433105469,65.18472290039062,77.60529327392578,81.62572479248047,-50.07746887207031,71.4769515991211,47.43364715576172,52.908634185791016,-44.30820083618164,64.67119598388672,50.86354064941406,75.62434387207031,-17.13452911376953,61.537269592285156,81.34552764892578,-23.341379165649414,-35.1645622253418,-29.940378189086914,-29.76335906982422,-59.386268615722656,-59.376319885253906,-17.293041229248047,-28.785799026489258,-30.40125846862793,-29.903030395507812,25.30146026611328,18.381637573242188,-45.175052642822266,-45.1209602355957,63.04151916503906],\"xaxis\":\"x\",\"y\":[-26.26637840270996,-41.45111083984375,-35.14206314086914,-63.902442932128906,-48.508644104003906,-33.175628662109375,36.82428741455078,37.95301818847656,37.4696044921875,-26.00822639465332,-57.13127136230469,-62.69499588012695,-62.885353088378906,-62.80396270751953,-82.2504653930664,-50.68922805786133,-56.35448455810547,-56.537471771240234,-61.8370475769043,-44.161617279052734,-7.88026237487793,-42.108665466308594,-17.8935604095459,-10.091076850891113,46.0227165222168,-49.038936614990234,-1.4642953872680664,-1.5792113542556763,50.71446228027344,-49.32638931274414,-42.515869140625,48.01477813720703,74.96502685546875,-72.90776824951172,78.06973266601562,77.30980682373047,81.4404067993164,17.67276954650879,-20.6251277923584,97.27989196777344,97.63463592529297,-2.3218135833740234,-67.72889709472656,-41.183265686035156,-48.926639556884766,-50.95075607299805,31.935394287109375,-19.53516960144043,-27.941221237182617,9.225828170776367,-13.307154655456543,14.042163848876953,-41.25981903076172,25.172218322753906,60.22105407714844,25.619550704956055,24.070951461791992,-12.654850006103516,-3.0956592559814453,-5.504323959350586,-1.510290265083313,-45.305850982666016,-4.993151664733887,46.631099700927734,62.20610427856445,6.896355152130127,59.82255172729492,22.23882293701172,4.06939172744751,52.87654495239258,-7.331297397613525,-6.987522125244141,8.818572044372559,-42.75944519042969,7.345747470855713,64.57391357421875,-43.43146896362305,62.52712631225586,11.666589736938477,51.4642219543457,0.0731232613325119,17.790700912475586,-25.534500122070312,69.21405029296875,72.34735107421875,-5.517342567443848,71.35236358642578,-49.75062942504883,-12.437784194946289,-51.00249099731445,-25.023435592651367,-43.475948333740234,-19.350547790527344,16.923471450805664,-62.73412322998047,-40.79341125488281,-23.846559524536133,-35.26396560668945,-14.88170051574707,-14.880574226379395,-58.497711181640625,-23.041202545166016,80.77559661865234,-73.02054595947266,-34.96510314941406,-35.73501205444336,41.65632247924805,41.94656753540039,47.62081527709961,46.18027877807617,45.50078201293945,-35.95143127441406,43.451263427734375,78.31890106201172,77.67317199707031,-29.585433959960938,79.42304229736328,-71.69377899169922,-57.77735137939453,47.728057861328125,48.06193542480469,38.14964294433594,38.436710357666016,36.77035140991211,35.95207977294922,-51.95579528808594,-41.2894287109375,-68.56795501708984,-25.8226318359375,-74.3060302734375,-31.610754013061523,-43.232337951660156,83.51233673095703,83.00688171386719,83.34117126464844,-61.60741424560547,-75.57601928710938,-50.15401840209961,-52.90859603881836,20.5935001373291,114.05753326416016,-9.08750057220459,79.82390594482422,27.362937927246094,33.12295150756836,-42.65971374511719,61.44614028930664,-61.99522399902344,-52.80524826049805,-36.76591491699219,41.043880462646484,-50.154415130615234,-74.43278503417969,42.76209259033203,-15.196845054626465,0.13542020320892334,-0.7115194797515869,-18.791536331176758,-41.1857795715332,-69.61367797851562,-1.6090433597564697,-44.86663055419922,91.96361541748047,101.23512268066406,-64.1008071899414,-67.28684997558594,-15.306632995605469,18.59783935546875,19.11082649230957,-38.12192153930664,-14.113441467285156,9.753722190856934,-1.962949275970459,-3.117640256881714,-5.069857120513916,55.16366958618164,55.06633377075195,26.743648529052734,-0.824718713760376,-72.0845947265625,-45.92942810058594,-2.5233654975891113,-19.540603637695312,-61.34225845336914,-72.70267486572266,-72.90187072753906,47.19473648071289,43.96542739868164,-64.39161682128906,59.78339385986328,-57.34880065917969,43.902713775634766,-75.65512084960938,-61.87301254272461,-47.343116760253906,-81.95542907714844,-23.995607376098633,-74.15101623535156,-35.2900390625,58.465049743652344,-18.52875328063965,-47.66111755371094,-10.094461441040039,-52.49412536621094,-58.39753341674805,-5.165009498596191,-56.60166549682617,-54.95546340942383,-84.52448272705078,-37.26357650756836,-65.2745361328125,56.29133605957031,80.82453155517578,-54.78986358642578,83.72201538085938,0.8450337648391724,84.23443603515625,-11.019003868103027,-52.35104751586914,-18.178142547607422,-65.86321258544922,-58.25883102416992,-60.97813034057617,-65.93399810791016,-51.779422760009766,6.413174629211426,-50.9826545715332,36.44746017456055,-22.384679794311523,-67.83280944824219,-58.480037689208984,-33.36042404174805,17.904438018798828,-65.91895294189453,-5.938287258148193,-25.533985137939453,-26.03461265563965,50.47465896606445,-52.62263107299805,43.08392333984375,-27.10446548461914,-24.11190414428711,-51.22633743286133,73.59921264648438,10.14688777923584,57.659603118896484,25.52251434326172,61.645999908447266,-66.90626525878906,-16.723947525024414,-5.426591873168945,-12.267496109008789,33.30641555786133,-3.219470977783203,-47.66134262084961,4.177499771118164,-13.273767471313477,84.15412902832031,-1.9066400527954102,-48.728309631347656,-19.76999282836914,50.42523956298828,110.59439086914062,29.654096603393555,61.26105499267578,-51.20289611816406,16.710369110107422,-43.78966522216797,-17.233251571655273,-12.876568794250488,-37.72053146362305,5.757972240447998,-13.705041885375977,27.362037658691406,-60.170528411865234,-35.473331451416016,57.811676025390625,-69.33930969238281,-13.639832496643066,-45.214595794677734,-49.18190002441406,-67.79745483398438,25.162084579467773,-1.6039016246795654,64.7060546875,60.24692153930664,4.463283061981201,25.232330322265625,-37.86614990234375,-4.104127407073975,19.01044464111328,-27.188304901123047,-4.833240509033203,-1.7772659063339233,-9.767943382263184,52.2904167175293,-23.982894897460938,-36.65481185913086,25.2282657623291,-30.094057083129883,-22.175960540771484,-1.8669716119766235,-44.597904205322266,0.4344806969165802,20.61252212524414,102.4995346069336,-36.78089141845703,22.729158401489258,23.152952194213867,15.05807876586914,14.894384384155273,95.82135009765625,99.40803527832031,97.97916412353516,98.6746597290039,-77.94237518310547,-72.68452453613281,-55.93124008178711,-56.38201141357422,-27.966228485107422],\"yaxis\":\"y\",\"type\":\"scattergl\"}],                        {\"template\":{\"data\":{\"histogram2dcontour\":[{\"type\":\"histogram2dcontour\",\"colorbar\":{\"outlinewidth\":0,\"ticks\":\"\"},\"colorscale\":[[0.0,\"#0d0887\"],[0.1111111111111111,\"#46039f\"],[0.2222222222222222,\"#7201a8\"],[0.3333333333333333,\"#9c179e\"],[0.4444444444444444,\"#bd3786\"],[0.5555555555555556,\"#d8576b\"],[0.6666666666666666,\"#ed7953\"],[0.7777777777777778,\"#fb9f3a\"],[0.8888888888888888,\"#fdca26\"],[1.0,\"#f0f921\"]]}],\"choropleth\":[{\"type\":\"choropleth\",\"colorbar\":{\"outlinewidth\":0,\"ticks\":\"\"}}],\"histogram2d\":[{\"type\":\"histogram2d\",\"colorbar\":{\"outlinewidth\":0,\"ticks\":\"\"},\"colorscale\":[[0.0,\"#0d0887\"],[0.1111111111111111,\"#46039f\"],[0.2222222222222222,\"#7201a8\"],[0.3333333333333333,\"#9c179e\"],[0.4444444444444444,\"#bd3786\"],[0.5555555555555556,\"#d8576b\"],[0.6666666666666666,\"#ed7953\"],[0.7777777777777778,\"#fb9f3a\"],[0.8888888888888888,\"#fdca26\"],[1.0,\"#f0f921\"]]}],\"heatmap\":[{\"type\":\"heatmap\",\"colorbar\":{\"outlinewidth\":0,\"ticks\":\"\"},\"colorscale\":[[0.0,\"#0d0887\"],[0.1111111111111111,\"#46039f\"],[0.2222222222222222,\"#7201a8\"],[0.3333333333333333,\"#9c179e\"],[0.4444444444444444,\"#bd3786\"],[0.5555555555555556,\"#d8576b\"],[0.6666666666666666,\"#ed7953\"],[0.7777777777777778,\"#fb9f3a\"],[0.8888888888888888,\"#fdca26\"],[1.0,\"#f0f921\"]]}],\"heatmapgl\":[{\"type\":\"heatmapgl\",\"colorbar\":{\"outlinewidth\":0,\"ticks\":\"\"},\"colorscale\":[[0.0,\"#0d0887\"],[0.1111111111111111,\"#46039f\"],[0.2222222222222222,\"#7201a8\"],[0.3333333333333333,\"#9c179e\"],[0.4444444444444444,\"#bd3786\"],[0.5555555555555556,\"#d8576b\"],[0.6666666666666666,\"#ed7953\"],[0.7777777777777778,\"#fb9f3a\"],[0.8888888888888888,\"#fdca26\"],[1.0,\"#f0f921\"]]}],\"contourcarpet\":[{\"type\":\"contourcarpet\",\"colorbar\":{\"outlinewidth\":0,\"ticks\":\"\"}}],\"contour\":[{\"type\":\"contour\",\"colorbar\":{\"outlinewidth\":0,\"ticks\":\"\"},\"colorscale\":[[0.0,\"#0d0887\"],[0.1111111111111111,\"#46039f\"],[0.2222222222222222,\"#7201a8\"],[0.3333333333333333,\"#9c179e\"],[0.4444444444444444,\"#bd3786\"],[0.5555555555555556,\"#d8576b\"],[0.6666666666666666,\"#ed7953\"],[0.7777777777777778,\"#fb9f3a\"],[0.8888888888888888,\"#fdca26\"],[1.0,\"#f0f921\"]]}],\"surface\":[{\"type\":\"surface\",\"colorbar\":{\"outlinewidth\":0,\"ticks\":\"\"},\"colorscale\":[[0.0,\"#0d0887\"],[0.1111111111111111,\"#46039f\"],[0.2222222222222222,\"#7201a8\"],[0.3333333333333333,\"#9c179e\"],[0.4444444444444444,\"#bd3786\"],[0.5555555555555556,\"#d8576b\"],[0.6666666666666666,\"#ed7953\"],[0.7777777777777778,\"#fb9f3a\"],[0.8888888888888888,\"#fdca26\"],[1.0,\"#f0f921\"]]}],\"mesh3d\":[{\"type\":\"mesh3d\",\"colorbar\":{\"outlinewidth\":0,\"ticks\":\"\"}}],\"scatter\":[{\"fillpattern\":{\"fillmode\":\"overlay\",\"size\":10,\"solidity\":0.2},\"type\":\"scatter\"}],\"parcoords\":[{\"type\":\"parcoords\",\"line\":{\"colorbar\":{\"outlinewidth\":0,\"ticks\":\"\"}}}],\"scatterpolargl\":[{\"type\":\"scatterpolargl\",\"marker\":{\"colorbar\":{\"outlinewidth\":0,\"ticks\":\"\"}}}],\"bar\":[{\"error_x\":{\"color\":\"#2a3f5f\"},\"error_y\":{\"color\":\"#2a3f5f\"},\"marker\":{\"line\":{\"color\":\"#E5ECF6\",\"width\":0.5},\"pattern\":{\"fillmode\":\"overlay\",\"size\":10,\"solidity\":0.2}},\"type\":\"bar\"}],\"scattergeo\":[{\"type\":\"scattergeo\",\"marker\":{\"colorbar\":{\"outlinewidth\":0,\"ticks\":\"\"}}}],\"scatterpolar\":[{\"type\":\"scatterpolar\",\"marker\":{\"colorbar\":{\"outlinewidth\":0,\"ticks\":\"\"}}}],\"histogram\":[{\"marker\":{\"pattern\":{\"fillmode\":\"overlay\",\"size\":10,\"solidity\":0.2}},\"type\":\"histogram\"}],\"scattergl\":[{\"type\":\"scattergl\",\"marker\":{\"colorbar\":{\"outlinewidth\":0,\"ticks\":\"\"}}}],\"scatter3d\":[{\"type\":\"scatter3d\",\"line\":{\"colorbar\":{\"outlinewidth\":0,\"ticks\":\"\"}},\"marker\":{\"colorbar\":{\"outlinewidth\":0,\"ticks\":\"\"}}}],\"scattermapbox\":[{\"type\":\"scattermapbox\",\"marker\":{\"colorbar\":{\"outlinewidth\":0,\"ticks\":\"\"}}}],\"scatterternary\":[{\"type\":\"scatterternary\",\"marker\":{\"colorbar\":{\"outlinewidth\":0,\"ticks\":\"\"}}}],\"scattercarpet\":[{\"type\":\"scattercarpet\",\"marker\":{\"colorbar\":{\"outlinewidth\":0,\"ticks\":\"\"}}}],\"carpet\":[{\"aaxis\":{\"endlinecolor\":\"#2a3f5f\",\"gridcolor\":\"white\",\"linecolor\":\"white\",\"minorgridcolor\":\"white\",\"startlinecolor\":\"#2a3f5f\"},\"baxis\":{\"endlinecolor\":\"#2a3f5f\",\"gridcolor\":\"white\",\"linecolor\":\"white\",\"minorgridcolor\":\"white\",\"startlinecolor\":\"#2a3f5f\"},\"type\":\"carpet\"}],\"table\":[{\"cells\":{\"fill\":{\"color\":\"#EBF0F8\"},\"line\":{\"color\":\"white\"}},\"header\":{\"fill\":{\"color\":\"#C8D4E3\"},\"line\":{\"color\":\"white\"}},\"type\":\"table\"}],\"barpolar\":[{\"marker\":{\"line\":{\"color\":\"#E5ECF6\",\"width\":0.5},\"pattern\":{\"fillmode\":\"overlay\",\"size\":10,\"solidity\":0.2}},\"type\":\"barpolar\"}],\"pie\":[{\"automargin\":true,\"type\":\"pie\"}]},\"layout\":{\"autotypenumbers\":\"strict\",\"colorway\":[\"#636efa\",\"#EF553B\",\"#00cc96\",\"#ab63fa\",\"#FFA15A\",\"#19d3f3\",\"#FF6692\",\"#B6E880\",\"#FF97FF\",\"#FECB52\"],\"font\":{\"color\":\"#2a3f5f\"},\"hovermode\":\"closest\",\"hoverlabel\":{\"align\":\"left\"},\"paper_bgcolor\":\"white\",\"plot_bgcolor\":\"#E5ECF6\",\"polar\":{\"bgcolor\":\"#E5ECF6\",\"angularaxis\":{\"gridcolor\":\"white\",\"linecolor\":\"white\",\"ticks\":\"\"},\"radialaxis\":{\"gridcolor\":\"white\",\"linecolor\":\"white\",\"ticks\":\"\"}},\"ternary\":{\"bgcolor\":\"#E5ECF6\",\"aaxis\":{\"gridcolor\":\"white\",\"linecolor\":\"white\",\"ticks\":\"\"},\"baxis\":{\"gridcolor\":\"white\",\"linecolor\":\"white\",\"ticks\":\"\"},\"caxis\":{\"gridcolor\":\"white\",\"linecolor\":\"white\",\"ticks\":\"\"}},\"coloraxis\":{\"colorbar\":{\"outlinewidth\":0,\"ticks\":\"\"}},\"colorscale\":{\"sequential\":[[0.0,\"#0d0887\"],[0.1111111111111111,\"#46039f\"],[0.2222222222222222,\"#7201a8\"],[0.3333333333333333,\"#9c179e\"],[0.4444444444444444,\"#bd3786\"],[0.5555555555555556,\"#d8576b\"],[0.6666666666666666,\"#ed7953\"],[0.7777777777777778,\"#fb9f3a\"],[0.8888888888888888,\"#fdca26\"],[1.0,\"#f0f921\"]],\"sequentialminus\":[[0.0,\"#0d0887\"],[0.1111111111111111,\"#46039f\"],[0.2222222222222222,\"#7201a8\"],[0.3333333333333333,\"#9c179e\"],[0.4444444444444444,\"#bd3786\"],[0.5555555555555556,\"#d8576b\"],[0.6666666666666666,\"#ed7953\"],[0.7777777777777778,\"#fb9f3a\"],[0.8888888888888888,\"#fdca26\"],[1.0,\"#f0f921\"]],\"diverging\":[[0,\"#8e0152\"],[0.1,\"#c51b7d\"],[0.2,\"#de77ae\"],[0.3,\"#f1b6da\"],[0.4,\"#fde0ef\"],[0.5,\"#f7f7f7\"],[0.6,\"#e6f5d0\"],[0.7,\"#b8e186\"],[0.8,\"#7fbc41\"],[0.9,\"#4d9221\"],[1,\"#276419\"]]},\"xaxis\":{\"gridcolor\":\"white\",\"linecolor\":\"white\",\"ticks\":\"\",\"title\":{\"standoff\":15},\"zerolinecolor\":\"white\",\"automargin\":true,\"zerolinewidth\":2},\"yaxis\":{\"gridcolor\":\"white\",\"linecolor\":\"white\",\"ticks\":\"\",\"title\":{\"standoff\":15},\"zerolinecolor\":\"white\",\"automargin\":true,\"zerolinewidth\":2},\"scene\":{\"xaxis\":{\"backgroundcolor\":\"#E5ECF6\",\"gridcolor\":\"white\",\"linecolor\":\"white\",\"showbackground\":true,\"ticks\":\"\",\"zerolinecolor\":\"white\",\"gridwidth\":2},\"yaxis\":{\"backgroundcolor\":\"#E5ECF6\",\"gridcolor\":\"white\",\"linecolor\":\"white\",\"showbackground\":true,\"ticks\":\"\",\"zerolinecolor\":\"white\",\"gridwidth\":2},\"zaxis\":{\"backgroundcolor\":\"#E5ECF6\",\"gridcolor\":\"white\",\"linecolor\":\"white\",\"showbackground\":true,\"ticks\":\"\",\"zerolinecolor\":\"white\",\"gridwidth\":2}},\"shapedefaults\":{\"line\":{\"color\":\"#2a3f5f\"}},\"annotationdefaults\":{\"arrowcolor\":\"#2a3f5f\",\"arrowhead\":0,\"arrowwidth\":1},\"geo\":{\"bgcolor\":\"white\",\"landcolor\":\"#E5ECF6\",\"subunitcolor\":\"white\",\"showland\":true,\"showlakes\":true,\"lakecolor\":\"white\"},\"title\":{\"x\":0.05},\"mapbox\":{\"style\":\"light\"}}},\"xaxis\":{\"anchor\":\"y\",\"domain\":[0.0,1.0],\"title\":{\"text\":\"Dim 1\"},\"showgrid\":false},\"yaxis\":{\"anchor\":\"x\",\"domain\":[0.0,1.0],\"title\":{\"text\":\"Dim 2\"},\"showgrid\":false},\"legend\":{\"title\":{\"text\":\"gender\"},\"tracegroupgap\":0},\"title\":{\"text\":\"Fig 4: A first exploration of the corpus based on MFW and gender\",\"font\":{\"color\":\"#122630\",\"size\":28},\"yref\":\"paper\"},\"plot_bgcolor\":\"#ffbb91\",\"paper_bgcolor\":\"#feba67\",\"height\":750,\"width\":1000},                        {\"responsive\": true}                    ).then(function(){\n",
       "                            \n",
       "var gd = document.getElementById('01286b57-050c-4ae5-9b85-e56e4e8b6bd3');\n",
       "var x = new MutationObserver(function (mutations, observer) {{\n",
       "        var display = window.getComputedStyle(gd).display;\n",
       "        if (!display || display === 'none') {{\n",
       "            console.log([gd, 'removed!']);\n",
       "            Plotly.purge(gd);\n",
       "            observer.disconnect();\n",
       "        }}\n",
       "}});\n",
       "\n",
       "// Listen for the removal of the full notebook cells\n",
       "var notebookContainer = gd.closest('#notebook-container');\n",
       "if (notebookContainer) {{\n",
       "    x.observe(notebookContainer, {childList: true});\n",
       "}}\n",
       "\n",
       "// Listen for the clearing of the current output cell\n",
       "var outputEl = gd.closest('.output');\n",
       "if (outputEl) {{\n",
       "    x.observe(outputEl, {childList: true});\n",
       "}}\n",
       "\n",
       "                        })                };                });            </script>        </div>"
      ]
     },
     "metadata": {},
     "output_type": "display_data"
    }
   ],
   "source": [
    "make_tsne(X, 2000, 10, 5000)"
   ]
  },
  {
   "cell_type": "code",
   "execution_count": 16,
   "id": "42d0d781-f009-4238-887d-7a2411db0ba8",
   "metadata": {
    "tags": []
   },
   "outputs": [],
   "source": [
    "# for dim in [500, 1000, 1500, 2000]:    \n",
    "#     for perp in [10, 30, 50, 70]:\n",
    "#         for iteration in [1000, 2000, 3000, 4000, 5000]:\n",
    "#             make_tsne(X, dim, perp, iteration)"
   ]
  }
 ],
 "metadata": {
  "kernelspec": {
   "display_name": "Python 3 (ipykernel)",
   "language": "python",
   "name": "python3"
  },
  "language_info": {
   "codemirror_mode": {
    "name": "ipython",
    "version": 3
   },
   "file_extension": ".py",
   "mimetype": "text/x-python",
   "name": "python",
   "nbconvert_exporter": "python",
   "pygments_lexer": "ipython3",
   "version": "3.9.17"
  }
 },
 "nbformat": 4,
 "nbformat_minor": 5
}

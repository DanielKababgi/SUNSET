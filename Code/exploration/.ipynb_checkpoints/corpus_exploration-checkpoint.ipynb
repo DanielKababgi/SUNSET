{
 "cells": [
  {
   "cell_type": "markdown",
   "id": "57bd471a-ee1d-4dc2-be49-0e2aa669e93d",
   "metadata": {},
   "source": [
    "# Corpus_exploration"
   ]
  },
  {
   "cell_type": "code",
   "execution_count": 1,
   "id": "7d2e28f7-ac8b-455b-8558-e0705a87f135",
   "metadata": {
    "tags": []
   },
   "outputs": [],
   "source": [
    "import pandas as pd\n",
    "import os"
   ]
  },
  {
   "cell_type": "code",
   "execution_count": 2,
   "id": "515cf01d-3cc2-4584-9c40-dd8bcedd59a0",
   "metadata": {
    "tags": []
   },
   "outputs": [],
   "source": [
    "df = pd.read_csv(\"metadata.csv\", sep = \";\")\n",
    "df_authors = pd.read_csv(\"src/author_table.tsv\", sep = \"\\t\")"
   ]
  },
  {
   "cell_type": "code",
   "execution_count": 3,
   "id": "969ff7fb-e809-4921-bdda-43242363c1d3",
   "metadata": {
    "tags": []
   },
   "outputs": [
    {
     "data": {
      "text/plain": [
       "372"
      ]
     },
     "execution_count": 3,
     "metadata": {},
     "output_type": "execute_result"
    }
   ],
   "source": [
    "len(df[\"author\"].unique())"
   ]
  },
  {
   "cell_type": "code",
   "execution_count": 4,
   "id": "3894c99a-386c-43ac-965b-80418c651d06",
   "metadata": {
    "tags": []
   },
   "outputs": [],
   "source": [
    "gender = []\n",
    "\n",
    "for author in list(df[\"author\"]):\n",
    "    gender.append(df_authors.loc[df_authors[\"Voller_Name\"]==author, \"Geschlecht\"].values[0])\n",
    "    \n",
    "nationality= []\n",
    "\n",
    "for author in list(df[\"author\"]):\n",
    "    nationality.append(df_authors.loc[df_authors[\"Voller_Name\"]==author, \"Nationalität\"].values[0])"
   ]
  },
  {
   "cell_type": "code",
   "execution_count": 5,
   "id": "6a5a376b-5921-4db9-b1e6-8c2f4458345b",
   "metadata": {
    "tags": []
   },
   "outputs": [],
   "source": [
    "df[\"gender\"]=gender\n",
    "df[\"nationality\"] = nationality"
   ]
  },
  {
   "cell_type": "code",
   "execution_count": 6,
   "id": "ada01610-827d-4406-bafe-3edf6a07da15",
   "metadata": {
    "tags": []
   },
   "outputs": [
    {
     "data": {
      "text/plain": [
       "1764"
      ]
     },
     "execution_count": 6,
     "metadata": {},
     "output_type": "execute_result"
    }
   ],
   "source": [
    "len(df)"
   ]
  },
  {
   "cell_type": "code",
   "execution_count": 7,
   "id": "847926fd-4ca3-4e2a-b122-04198bb7d83f",
   "metadata": {
    "tags": []
   },
   "outputs": [
    {
     "data": {
      "text/html": [
       "<div>\n",
       "<style scoped>\n",
       "    .dataframe tbody tr th:only-of-type {\n",
       "        vertical-align: middle;\n",
       "    }\n",
       "\n",
       "    .dataframe tbody tr th {\n",
       "        vertical-align: top;\n",
       "    }\n",
       "\n",
       "    .dataframe thead th {\n",
       "        text-align: right;\n",
       "    }\n",
       "</style>\n",
       "<table border=\"1\" class=\"dataframe\">\n",
       "  <thead>\n",
       "    <tr style=\"text-align: right;\">\n",
       "      <th></th>\n",
       "      <th>Unnamed: 0</th>\n",
       "      <th>title</th>\n",
       "      <th>author</th>\n",
       "      <th>filename</th>\n",
       "      <th>pubyear</th>\n",
       "      <th>genre</th>\n",
       "      <th>sources</th>\n",
       "      <th>gender</th>\n",
       "      <th>nationality</th>\n",
       "    </tr>\n",
       "  </thead>\n",
       "  <tbody>\n",
       "    <tr>\n",
       "      <th>0</th>\n",
       "      <td>40</td>\n",
       "      <td>Geschichte des Agathon</td>\n",
       "      <td>Christoph Martin Wieland</td>\n",
       "      <td>wieland_agathon01_1766.txt</td>\n",
       "      <td>1767.0</td>\n",
       "      <td>Prosa</td>\n",
       "      <td>https://www.deutschestextarchiv.de/book/show/w...</td>\n",
       "      <td>m</td>\n",
       "      <td>DEU</td>\n",
       "    </tr>\n",
       "    <tr>\n",
       "      <th>1</th>\n",
       "      <td>41</td>\n",
       "      <td>Geschichte des Agathon</td>\n",
       "      <td>Christoph Martin Wieland</td>\n",
       "      <td>wieland_agathon02_1767.txt</td>\n",
       "      <td>1767.0</td>\n",
       "      <td>Prosa</td>\n",
       "      <td>https://www.deutschestextarchiv.de/book/show/w...</td>\n",
       "      <td>m</td>\n",
       "      <td>DEU</td>\n",
       "    </tr>\n",
       "    <tr>\n",
       "      <th>2</th>\n",
       "      <td>38</td>\n",
       "      <td>Geschichte des Fräuleins von Sternheim</td>\n",
       "      <td>Christoph Martin Wieland</td>\n",
       "      <td>laroche_geschichte01_1771.txt</td>\n",
       "      <td>1771.0</td>\n",
       "      <td>Roman</td>\n",
       "      <td>https://www.deutschestextarchiv.de/book/show/l...</td>\n",
       "      <td>m</td>\n",
       "      <td>DEU</td>\n",
       "    </tr>\n",
       "    <tr>\n",
       "      <th>3</th>\n",
       "      <td>39</td>\n",
       "      <td>Geschichte des Fräuleins von Sternheim</td>\n",
       "      <td>Christoph Martin Wieland</td>\n",
       "      <td>laroche_geschichte02_1771.txt</td>\n",
       "      <td>1771.0</td>\n",
       "      <td>Roman</td>\n",
       "      <td>https://www.deutschestextarchiv.de/book/show/l...</td>\n",
       "      <td>m</td>\n",
       "      <td>DEU</td>\n",
       "    </tr>\n",
       "    <tr>\n",
       "      <th>4</th>\n",
       "      <td>237</td>\n",
       "      <td>Geschichte des Fräuleins von Sternheim</td>\n",
       "      <td>Sophie von La Roche</td>\n",
       "      <td>laroche_geschichte01_1771.txt</td>\n",
       "      <td>1771.0</td>\n",
       "      <td>Roman</td>\n",
       "      <td>https://www.deutschestextarchiv.de/book/show/l...</td>\n",
       "      <td>f</td>\n",
       "      <td>DEU</td>\n",
       "    </tr>\n",
       "  </tbody>\n",
       "</table>\n",
       "</div>"
      ],
      "text/plain": [
       "   Unnamed: 0                                   title  \\\n",
       "0          40                  Geschichte des Agathon   \n",
       "1          41                  Geschichte des Agathon   \n",
       "2          38  Geschichte des Fräuleins von Sternheim   \n",
       "3          39  Geschichte des Fräuleins von Sternheim   \n",
       "4         237  Geschichte des Fräuleins von Sternheim   \n",
       "\n",
       "                     author                       filename  pubyear  \\\n",
       "0  Christoph Martin Wieland     wieland_agathon01_1766.txt   1767.0   \n",
       "1  Christoph Martin Wieland     wieland_agathon02_1767.txt   1767.0   \n",
       "2  Christoph Martin Wieland  laroche_geschichte01_1771.txt   1771.0   \n",
       "3  Christoph Martin Wieland  laroche_geschichte02_1771.txt   1771.0   \n",
       "4       Sophie von La Roche  laroche_geschichte01_1771.txt   1771.0   \n",
       "\n",
       "             genre                                            sources gender  \\\n",
       "0            Prosa  https://www.deutschestextarchiv.de/book/show/w...      m   \n",
       "1            Prosa  https://www.deutschestextarchiv.de/book/show/w...      m   \n",
       "2            Roman  https://www.deutschestextarchiv.de/book/show/l...      m   \n",
       "3            Roman  https://www.deutschestextarchiv.de/book/show/l...      m   \n",
       "4            Roman  https://www.deutschestextarchiv.de/book/show/l...      f   \n",
       "\n",
       "  nationality  \n",
       "0         DEU  \n",
       "1         DEU  \n",
       "2         DEU  \n",
       "3         DEU  \n",
       "4         DEU  "
      ]
     },
     "execution_count": 7,
     "metadata": {},
     "output_type": "execute_result"
    }
   ],
   "source": [
    "df.head()"
   ]
  },
  {
   "cell_type": "code",
   "execution_count": 8,
   "id": "a59a60cd-7e48-4d3c-b292-fc7d963c3c22",
   "metadata": {
    "tags": []
   },
   "outputs": [],
   "source": [
    "import plotly.express as px "
   ]
  },
  {
   "cell_type": "code",
   "execution_count": 25,
   "id": "b841bef6-1823-42c0-be6a-23601abf0cd2",
   "metadata": {
    "tags": []
   },
   "outputs": [
    {
     "data": {
      "application/vnd.plotly.v1+json": {
       "config": {
        "plotlyServerURL": "https://plot.ly"
       },
       "data": [
        {
         "alignmentgroup": "True",
         "bingroup": "x",
         "hovertemplate": "gender=%{x}<br>count=%{y}<extra></extra>",
         "legendgroup": "m",
         "marker": {
          "color": "#053c6c",
          "pattern": {
           "shape": ""
          }
         },
         "name": "m",
         "offsetgroup": "m",
         "orientation": "v",
         "showlegend": true,
         "type": "histogram",
         "x": [
          "m",
          "m",
          "m",
          "m",
          "m",
          "m",
          "m",
          "m",
          "m",
          "m",
          "m",
          "m",
          "m",
          "m",
          "m",
          "m",
          "m",
          "m",
          "m",
          "m",
          "m",
          "m",
          "m",
          "m",
          "m",
          "m",
          "m",
          "m",
          "m",
          "m",
          "m",
          "m",
          "m",
          "m",
          "m",
          "m",
          "m",
          "m",
          "m",
          "m",
          "m",
          "m",
          "m",
          "m",
          "m",
          "m",
          "m",
          "m",
          "m",
          "m",
          "m",
          "m",
          "m",
          "m",
          "m",
          "m",
          "m",
          "m",
          "m",
          "m",
          "m",
          "m",
          "m",
          "m",
          "m",
          "m",
          "m",
          "m",
          "m",
          "m",
          "m",
          "m",
          "m",
          "m",
          "m",
          "m",
          "m",
          "m",
          "m",
          "m",
          "m",
          "m",
          "m",
          "m",
          "m",
          "m",
          "m",
          "m",
          "m",
          "m",
          "m",
          "m",
          "m",
          "m",
          "m",
          "m",
          "m",
          "m",
          "m",
          "m",
          "m",
          "m",
          "m",
          "m",
          "m",
          "m",
          "m",
          "m",
          "m",
          "m",
          "m",
          "m",
          "m",
          "m",
          "m",
          "m",
          "m",
          "m",
          "m",
          "m",
          "m",
          "m",
          "m",
          "m",
          "m",
          "m",
          "m",
          "m",
          "m",
          "m",
          "m",
          "m",
          "m",
          "m",
          "m",
          "m",
          "m",
          "m",
          "m",
          "m",
          "m",
          "m",
          "m",
          "m",
          "m",
          "m",
          "m",
          "m",
          "m",
          "m",
          "m",
          "m",
          "m",
          "m",
          "m",
          "m",
          "m",
          "m",
          "m",
          "m",
          "m",
          "m",
          "m",
          "m",
          "m",
          "m",
          "m",
          "m",
          "m",
          "m",
          "m",
          "m",
          "m",
          "m",
          "m",
          "m",
          "m",
          "m",
          "m",
          "m",
          "m",
          "m",
          "m",
          "m",
          "m",
          "m",
          "m",
          "m",
          "m",
          "m",
          "m",
          "m",
          "m",
          "m",
          "m",
          "m",
          "m",
          "m",
          "m",
          "m",
          "m",
          "m",
          "m",
          "m",
          "m",
          "m",
          "m",
          "m",
          "m",
          "m",
          "m",
          "m",
          "m",
          "m",
          "m",
          "m",
          "m",
          "m",
          "m",
          "m",
          "m",
          "m",
          "m",
          "m",
          "m",
          "m",
          "m",
          "m",
          "m",
          "m",
          "m",
          "m",
          "m",
          "m",
          "m",
          "m",
          "m",
          "m",
          "m",
          "m",
          "m",
          "m",
          "m",
          "m",
          "m",
          "m",
          "m",
          "m",
          "m",
          "m",
          "m",
          "m",
          "m",
          "m",
          "m",
          "m",
          "m",
          "m",
          "m",
          "m",
          "m",
          "m",
          "m",
          "m",
          "m",
          "m",
          "m",
          "m",
          "m",
          "m",
          "m",
          "m",
          "m",
          "m",
          "m",
          "m",
          "m",
          "m",
          "m",
          "m",
          "m",
          "m",
          "m",
          "m",
          "m",
          "m",
          "m",
          "m",
          "m",
          "m",
          "m",
          "m",
          "m",
          "m",
          "m",
          "m",
          "m",
          "m",
          "m",
          "m",
          "m",
          "m",
          "m",
          "m",
          "m",
          "m",
          "m",
          "m",
          "m",
          "m",
          "m",
          "m",
          "m",
          "m",
          "m",
          "m",
          "m",
          "m",
          "m",
          "m",
          "m",
          "m",
          "m",
          "m",
          "m",
          "m",
          "m",
          "m",
          "m",
          "m",
          "m",
          "m",
          "m",
          "m",
          "m",
          "m",
          "m",
          "m",
          "m",
          "m",
          "m",
          "m",
          "m",
          "m",
          "m",
          "m",
          "m",
          "m",
          "m",
          "m",
          "m",
          "m",
          "m",
          "m",
          "m",
          "m",
          "m",
          "m",
          "m",
          "m",
          "m",
          "m",
          "m",
          "m",
          "m",
          "m",
          "m",
          "m",
          "m",
          "m",
          "m",
          "m",
          "m",
          "m",
          "m",
          "m",
          "m",
          "m",
          "m",
          "m",
          "m",
          "m",
          "m",
          "m",
          "m",
          "m",
          "m",
          "m",
          "m",
          "m",
          "m",
          "m",
          "m",
          "m",
          "m",
          "m",
          "m",
          "m",
          "m",
          "m",
          "m",
          "m",
          "m",
          "m",
          "m",
          "m",
          "m",
          "m",
          "m",
          "m",
          "m",
          "m",
          "m",
          "m",
          "m",
          "m",
          "m",
          "m",
          "m",
          "m",
          "m",
          "m",
          "m",
          "m",
          "m",
          "m",
          "m",
          "m",
          "m",
          "m",
          "m",
          "m",
          "m",
          "m",
          "m",
          "m",
          "m",
          "m",
          "m",
          "m",
          "m",
          "m",
          "m",
          "m",
          "m",
          "m",
          "m",
          "m",
          "m",
          "m",
          "m",
          "m",
          "m",
          "m",
          "m",
          "m",
          "m",
          "m",
          "m",
          "m",
          "m",
          "m",
          "m",
          "m",
          "m",
          "m",
          "m",
          "m",
          "m",
          "m",
          "m",
          "m",
          "m",
          "m",
          "m",
          "m",
          "m",
          "m",
          "m",
          "m",
          "m",
          "m",
          "m",
          "m",
          "m",
          "m",
          "m",
          "m",
          "m",
          "m",
          "m",
          "m",
          "m",
          "m",
          "m",
          "m",
          "m",
          "m",
          "m",
          "m",
          "m",
          "m",
          "m",
          "m",
          "m",
          "m",
          "m",
          "m",
          "m",
          "m",
          "m",
          "m",
          "m",
          "m",
          "m",
          "m",
          "m",
          "m",
          "m",
          "m",
          "m",
          "m",
          "m",
          "m",
          "m",
          "m",
          "m",
          "m",
          "m",
          "m",
          "m",
          "m",
          "m",
          "m",
          "m",
          "m",
          "m",
          "m",
          "m",
          "m",
          "m",
          "m",
          "m",
          "m",
          "m",
          "m",
          "m",
          "m",
          "m",
          "m",
          "m",
          "m",
          "m",
          "m",
          "m",
          "m",
          "m",
          "m",
          "m",
          "m",
          "m",
          "m",
          "m",
          "m",
          "m",
          "m",
          "m",
          "m",
          "m",
          "m",
          "m",
          "m",
          "m",
          "m",
          "m",
          "m",
          "m",
          "m",
          "m",
          "m",
          "m",
          "m",
          "m",
          "m",
          "m",
          "m",
          "m",
          "m",
          "m",
          "m",
          "m",
          "m",
          "m",
          "m",
          "m",
          "m",
          "m",
          "m",
          "m",
          "m",
          "m",
          "m",
          "m",
          "m",
          "m",
          "m",
          "m",
          "m",
          "m",
          "m",
          "m",
          "m",
          "m",
          "m",
          "m",
          "m",
          "m",
          "m",
          "m",
          "m",
          "m",
          "m",
          "m",
          "m",
          "m",
          "m",
          "m",
          "m",
          "m",
          "m",
          "m",
          "m",
          "m",
          "m",
          "m",
          "m",
          "m",
          "m",
          "m",
          "m",
          "m",
          "m",
          "m",
          "m",
          "m",
          "m",
          "m",
          "m",
          "m",
          "m",
          "m",
          "m",
          "m",
          "m",
          "m",
          "m",
          "m",
          "m",
          "m",
          "m",
          "m",
          "m",
          "m",
          "m",
          "m",
          "m",
          "m",
          "m",
          "m",
          "m",
          "m",
          "m",
          "m",
          "m",
          "m",
          "m",
          "m",
          "m",
          "m",
          "m",
          "m",
          "m",
          "m",
          "m",
          "m",
          "m",
          "m",
          "m",
          "m",
          "m",
          "m",
          "m",
          "m",
          "m",
          "m",
          "m",
          "m",
          "m",
          "m",
          "m",
          "m",
          "m",
          "m",
          "m",
          "m",
          "m",
          "m",
          "m",
          "m",
          "m",
          "m",
          "m",
          "m",
          "m",
          "m",
          "m",
          "m",
          "m",
          "m",
          "m",
          "m",
          "m",
          "m",
          "m",
          "m",
          "m",
          "m",
          "m",
          "m",
          "m",
          "m",
          "m",
          "m",
          "m",
          "m",
          "m",
          "m",
          "m",
          "m",
          "m",
          "m",
          "m",
          "m",
          "m",
          "m",
          "m",
          "m",
          "m",
          "m",
          "m",
          "m",
          "m",
          "m",
          "m",
          "m",
          "m",
          "m",
          "m",
          "m",
          "m",
          "m",
          "m",
          "m",
          "m",
          "m",
          "m",
          "m",
          "m",
          "m",
          "m",
          "m",
          "m",
          "m",
          "m",
          "m",
          "m",
          "m",
          "m",
          "m",
          "m",
          "m",
          "m",
          "m",
          "m",
          "m",
          "m",
          "m",
          "m",
          "m",
          "m",
          "m",
          "m",
          "m",
          "m",
          "m",
          "m",
          "m",
          "m",
          "m",
          "m",
          "m",
          "m",
          "m",
          "m",
          "m",
          "m",
          "m",
          "m",
          "m",
          "m",
          "m",
          "m",
          "m",
          "m",
          "m",
          "m",
          "m",
          "m",
          "m",
          "m",
          "m",
          "m",
          "m",
          "m",
          "m",
          "m",
          "m",
          "m",
          "m",
          "m",
          "m",
          "m",
          "m",
          "m",
          "m",
          "m",
          "m",
          "m",
          "m",
          "m",
          "m",
          "m",
          "m",
          "m",
          "m",
          "m",
          "m",
          "m",
          "m",
          "m",
          "m",
          "m",
          "m",
          "m",
          "m",
          "m",
          "m",
          "m",
          "m",
          "m",
          "m",
          "m",
          "m",
          "m",
          "m",
          "m",
          "m",
          "m",
          "m",
          "m",
          "m",
          "m",
          "m",
          "m",
          "m",
          "m",
          "m",
          "m",
          "m",
          "m",
          "m",
          "m",
          "m",
          "m",
          "m",
          "m",
          "m",
          "m",
          "m",
          "m",
          "m",
          "m",
          "m",
          "m",
          "m",
          "m",
          "m",
          "m",
          "m",
          "m",
          "m",
          "m",
          "m",
          "m",
          "m",
          "m",
          "m",
          "m",
          "m",
          "m",
          "m",
          "m",
          "m",
          "m",
          "m",
          "m",
          "m",
          "m",
          "m",
          "m",
          "m",
          "m",
          "m",
          "m",
          "m",
          "m",
          "m",
          "m",
          "m",
          "m",
          "m",
          "m",
          "m",
          "m",
          "m",
          "m",
          "m",
          "m",
          "m",
          "m",
          "m",
          "m",
          "m",
          "m",
          "m",
          "m",
          "m",
          "m",
          "m",
          "m",
          "m",
          "m",
          "m",
          "m",
          "m",
          "m",
          "m",
          "m",
          "m",
          "m",
          "m",
          "m",
          "m",
          "m",
          "m",
          "m",
          "m",
          "m",
          "m",
          "m",
          "m",
          "m",
          "m",
          "m",
          "m",
          "m",
          "m",
          "m",
          "m",
          "m",
          "m",
          "m",
          "m",
          "m",
          "m",
          "m",
          "m",
          "m",
          "m",
          "m",
          "m",
          "m",
          "m",
          "m",
          "m",
          "m",
          "m",
          "m",
          "m",
          "m",
          "m",
          "m",
          "m",
          "m",
          "m",
          "m",
          "m",
          "m",
          "m",
          "m",
          "m",
          "m",
          "m",
          "m",
          "m",
          "m",
          "m",
          "m",
          "m",
          "m",
          "m",
          "m",
          "m",
          "m",
          "m",
          "m",
          "m",
          "m",
          "m",
          "m",
          "m",
          "m",
          "m",
          "m",
          "m",
          "m",
          "m",
          "m",
          "m",
          "m",
          "m",
          "m",
          "m",
          "m",
          "m",
          "m",
          "m",
          "m",
          "m",
          "m",
          "m",
          "m",
          "m",
          "m",
          "m",
          "m",
          "m",
          "m",
          "m",
          "m",
          "m",
          "m",
          "m",
          "m",
          "m",
          "m",
          "m",
          "m",
          "m",
          "m",
          "m",
          "m",
          "m",
          "m",
          "m",
          "m",
          "m",
          "m",
          "m",
          "m",
          "m",
          "m",
          "m",
          "m",
          "m",
          "m",
          "m",
          "m",
          "m",
          "m",
          "m",
          "m",
          "m",
          "m",
          "m",
          "m",
          "m",
          "m",
          "m",
          "m",
          "m",
          "m",
          "m",
          "m",
          "m",
          "m",
          "m",
          "m",
          "m",
          "m",
          "m",
          "m",
          "m",
          "m",
          "m",
          "m",
          "m",
          "m",
          "m",
          "m",
          "m",
          "m",
          "m",
          "m",
          "m",
          "m",
          "m",
          "m",
          "m",
          "m",
          "m",
          "m",
          "m",
          "m",
          "m",
          "m",
          "m",
          "m",
          "m",
          "m",
          "m",
          "m",
          "m",
          "m",
          "m",
          "m",
          "m",
          "m",
          "m",
          "m",
          "m",
          "m",
          "m",
          "m",
          "m",
          "m",
          "m",
          "m",
          "m",
          "m",
          "m",
          "m",
          "m",
          "m",
          "m",
          "m",
          "m",
          "m",
          "m",
          "m",
          "m",
          "m",
          "m",
          "m",
          "m",
          "m",
          "m",
          "m",
          "m",
          "m",
          "m",
          "m",
          "m",
          "m",
          "m",
          "m",
          "m",
          "m",
          "m",
          "m",
          "m",
          "m",
          "m",
          "m",
          "m",
          "m",
          "m",
          "m",
          "m",
          "m",
          "m",
          "m",
          "m",
          "m",
          "m",
          "m",
          "m",
          "m",
          "m",
          "m",
          "m",
          "m",
          "m",
          "m",
          "m",
          "m",
          "m",
          "m",
          "m",
          "m",
          "m",
          "m",
          "m",
          "m",
          "m",
          "m",
          "m",
          "m",
          "m",
          "m",
          "m",
          "m",
          "m",
          "m",
          "m",
          "m",
          "m",
          "m",
          "m",
          "m",
          "m",
          "m",
          "m",
          "m",
          "m",
          "m",
          "m",
          "m",
          "m",
          "m",
          "m",
          "m",
          "m",
          "m",
          "m",
          "m",
          "m",
          "m",
          "m",
          "m",
          "m",
          "m",
          "m",
          "m",
          "m",
          "m",
          "m",
          "m",
          "m",
          "m",
          "m",
          "m",
          "m",
          "m",
          "m",
          "m",
          "m",
          "m",
          "m",
          "m",
          "m",
          "m",
          "m",
          "m",
          "m",
          "m",
          "m",
          "m",
          "m",
          "m",
          "m",
          "m",
          "m",
          "m",
          "m",
          "m",
          "m",
          "m",
          "m",
          "m",
          "m",
          "m",
          "m",
          "m",
          "m",
          "m",
          "m",
          "m",
          "m",
          "m",
          "m",
          "m",
          "m",
          "m",
          "m",
          "m",
          "m",
          "m",
          "m",
          "m",
          "m",
          "m",
          "m",
          "m",
          "m",
          "m",
          "m",
          "m",
          "m",
          "m",
          "m",
          "m",
          "m",
          "m",
          "m",
          "m",
          "m",
          "m",
          "m",
          "m",
          "m",
          "m",
          "m",
          "m",
          "m",
          "m",
          "m",
          "m",
          "m",
          "m",
          "m",
          "m",
          "m",
          "m",
          "m",
          "m",
          "m",
          "m",
          "m",
          "m",
          "m",
          "m",
          "m",
          "m",
          "m",
          "m",
          "m",
          "m",
          "m",
          "m",
          "m",
          "m",
          "m",
          "m",
          "m",
          "m",
          "m",
          "m",
          "m",
          "m",
          "m",
          "m",
          "m",
          "m",
          "m",
          "m",
          "m",
          "m",
          "m",
          "m",
          "m",
          "m",
          "m",
          "m",
          "m",
          "m",
          "m",
          "m",
          "m",
          "m",
          "m",
          "m",
          "m",
          "m",
          "m",
          "m",
          "m",
          "m",
          "m",
          "m",
          "m",
          "m",
          "m",
          "m",
          "m",
          "m",
          "m",
          "m",
          "m",
          "m",
          "m",
          "m",
          "m",
          "m",
          "m",
          "m",
          "m",
          "m",
          "m",
          "m",
          "m",
          "m",
          "m",
          "m",
          "m",
          "m",
          "m",
          "m",
          "m",
          "m",
          "m",
          "m",
          "m",
          "m"
         ],
         "xaxis": "x",
         "yaxis": "y"
        },
        {
         "alignmentgroup": "True",
         "bingroup": "x",
         "hovertemplate": "gender=%{x}<br>count=%{y}<extra></extra>",
         "legendgroup": "f",
         "marker": {
          "color": "#9d95b0",
          "pattern": {
           "shape": ""
          }
         },
         "name": "f",
         "offsetgroup": "f",
         "orientation": "v",
         "showlegend": true,
         "type": "histogram",
         "x": [
          "f",
          "f",
          "f",
          "f",
          "f",
          "f",
          "f",
          "f",
          "f",
          "f",
          "f",
          "f",
          "f",
          "f",
          "f",
          "f",
          "f",
          "f",
          "f",
          "f",
          "f",
          "f",
          "f",
          "f",
          "f",
          "f",
          "f",
          "f",
          "f",
          "f",
          "f",
          "f",
          "f",
          "f",
          "f",
          "f",
          "f",
          "f",
          "f",
          "f",
          "f",
          "f",
          "f",
          "f",
          "f",
          "f",
          "f",
          "f",
          "f",
          "f",
          "f",
          "f",
          "f",
          "f",
          "f",
          "f",
          "f",
          "f",
          "f",
          "f",
          "f",
          "f",
          "f",
          "f",
          "f",
          "f",
          "f",
          "f",
          "f",
          "f",
          "f",
          "f",
          "f",
          "f",
          "f",
          "f",
          "f",
          "f",
          "f",
          "f",
          "f",
          "f",
          "f",
          "f",
          "f",
          "f",
          "f",
          "f",
          "f",
          "f",
          "f",
          "f",
          "f",
          "f",
          "f",
          "f",
          "f",
          "f",
          "f",
          "f",
          "f",
          "f",
          "f",
          "f",
          "f",
          "f",
          "f",
          "f",
          "f",
          "f",
          "f",
          "f",
          "f",
          "f",
          "f",
          "f",
          "f",
          "f",
          "f",
          "f",
          "f",
          "f",
          "f",
          "f",
          "f",
          "f",
          "f",
          "f",
          "f",
          "f",
          "f",
          "f",
          "f",
          "f",
          "f",
          "f",
          "f",
          "f",
          "f",
          "f",
          "f",
          "f",
          "f",
          "f",
          "f",
          "f",
          "f",
          "f",
          "f",
          "f",
          "f",
          "f",
          "f",
          "f",
          "f",
          "f",
          "f",
          "f",
          "f",
          "f",
          "f",
          "f",
          "f",
          "f",
          "f",
          "f",
          "f",
          "f",
          "f",
          "f",
          "f",
          "f",
          "f",
          "f",
          "f",
          "f",
          "f",
          "f",
          "f",
          "f",
          "f",
          "f",
          "f",
          "f",
          "f",
          "f",
          "f",
          "f",
          "f",
          "f",
          "f",
          "f",
          "f",
          "f",
          "f",
          "f",
          "f",
          "f",
          "f",
          "f",
          "f",
          "f",
          "f",
          "f",
          "f",
          "f",
          "f",
          "f",
          "f",
          "f",
          "f",
          "f",
          "f",
          "f",
          "f",
          "f",
          "f",
          "f",
          "f",
          "f",
          "f",
          "f",
          "f",
          "f",
          "f",
          "f",
          "f",
          "f",
          "f",
          "f",
          "f",
          "f",
          "f",
          "f",
          "f",
          "f",
          "f",
          "f",
          "f",
          "f",
          "f",
          "f",
          "f",
          "f",
          "f",
          "f",
          "f",
          "f",
          "f",
          "f",
          "f",
          "f",
          "f",
          "f",
          "f",
          "f",
          "f",
          "f",
          "f",
          "f",
          "f",
          "f",
          "f",
          "f",
          "f",
          "f",
          "f",
          "f",
          "f",
          "f",
          "f",
          "f",
          "f",
          "f",
          "f",
          "f",
          "f",
          "f",
          "f",
          "f",
          "f",
          "f",
          "f",
          "f",
          "f",
          "f",
          "f",
          "f",
          "f",
          "f",
          "f",
          "f",
          "f",
          "f",
          "f",
          "f",
          "f",
          "f",
          "f",
          "f",
          "f",
          "f",
          "f",
          "f",
          "f",
          "f",
          "f",
          "f",
          "f",
          "f",
          "f",
          "f",
          "f",
          "f",
          "f",
          "f",
          "f",
          "f",
          "f",
          "f"
         ],
         "xaxis": "x",
         "yaxis": "y"
        }
       ],
       "layout": {
        "barmode": "relative",
        "height": 500,
        "legend": {
         "title": {
          "text": "gender"
         },
         "tracegroupgap": 0
        },
        "paper_bgcolor": "#feba67",
        "plot_bgcolor": "#ffbb91",
        "template": {
         "data": {
          "bar": [
           {
            "error_x": {
             "color": "#2a3f5f"
            },
            "error_y": {
             "color": "#2a3f5f"
            },
            "marker": {
             "line": {
              "color": "#E5ECF6",
              "width": 0.5
             },
             "pattern": {
              "fillmode": "overlay",
              "size": 10,
              "solidity": 0.2
             }
            },
            "type": "bar"
           }
          ],
          "barpolar": [
           {
            "marker": {
             "line": {
              "color": "#E5ECF6",
              "width": 0.5
             },
             "pattern": {
              "fillmode": "overlay",
              "size": 10,
              "solidity": 0.2
             }
            },
            "type": "barpolar"
           }
          ],
          "carpet": [
           {
            "aaxis": {
             "endlinecolor": "#2a3f5f",
             "gridcolor": "white",
             "linecolor": "white",
             "minorgridcolor": "white",
             "startlinecolor": "#2a3f5f"
            },
            "baxis": {
             "endlinecolor": "#2a3f5f",
             "gridcolor": "white",
             "linecolor": "white",
             "minorgridcolor": "white",
             "startlinecolor": "#2a3f5f"
            },
            "type": "carpet"
           }
          ],
          "choropleth": [
           {
            "colorbar": {
             "outlinewidth": 0,
             "ticks": ""
            },
            "type": "choropleth"
           }
          ],
          "contour": [
           {
            "colorbar": {
             "outlinewidth": 0,
             "ticks": ""
            },
            "colorscale": [
             [
              0,
              "#0d0887"
             ],
             [
              0.1111111111111111,
              "#46039f"
             ],
             [
              0.2222222222222222,
              "#7201a8"
             ],
             [
              0.3333333333333333,
              "#9c179e"
             ],
             [
              0.4444444444444444,
              "#bd3786"
             ],
             [
              0.5555555555555556,
              "#d8576b"
             ],
             [
              0.6666666666666666,
              "#ed7953"
             ],
             [
              0.7777777777777778,
              "#fb9f3a"
             ],
             [
              0.8888888888888888,
              "#fdca26"
             ],
             [
              1,
              "#f0f921"
             ]
            ],
            "type": "contour"
           }
          ],
          "contourcarpet": [
           {
            "colorbar": {
             "outlinewidth": 0,
             "ticks": ""
            },
            "type": "contourcarpet"
           }
          ],
          "heatmap": [
           {
            "colorbar": {
             "outlinewidth": 0,
             "ticks": ""
            },
            "colorscale": [
             [
              0,
              "#0d0887"
             ],
             [
              0.1111111111111111,
              "#46039f"
             ],
             [
              0.2222222222222222,
              "#7201a8"
             ],
             [
              0.3333333333333333,
              "#9c179e"
             ],
             [
              0.4444444444444444,
              "#bd3786"
             ],
             [
              0.5555555555555556,
              "#d8576b"
             ],
             [
              0.6666666666666666,
              "#ed7953"
             ],
             [
              0.7777777777777778,
              "#fb9f3a"
             ],
             [
              0.8888888888888888,
              "#fdca26"
             ],
             [
              1,
              "#f0f921"
             ]
            ],
            "type": "heatmap"
           }
          ],
          "heatmapgl": [
           {
            "colorbar": {
             "outlinewidth": 0,
             "ticks": ""
            },
            "colorscale": [
             [
              0,
              "#0d0887"
             ],
             [
              0.1111111111111111,
              "#46039f"
             ],
             [
              0.2222222222222222,
              "#7201a8"
             ],
             [
              0.3333333333333333,
              "#9c179e"
             ],
             [
              0.4444444444444444,
              "#bd3786"
             ],
             [
              0.5555555555555556,
              "#d8576b"
             ],
             [
              0.6666666666666666,
              "#ed7953"
             ],
             [
              0.7777777777777778,
              "#fb9f3a"
             ],
             [
              0.8888888888888888,
              "#fdca26"
             ],
             [
              1,
              "#f0f921"
             ]
            ],
            "type": "heatmapgl"
           }
          ],
          "histogram": [
           {
            "marker": {
             "pattern": {
              "fillmode": "overlay",
              "size": 10,
              "solidity": 0.2
             }
            },
            "type": "histogram"
           }
          ],
          "histogram2d": [
           {
            "colorbar": {
             "outlinewidth": 0,
             "ticks": ""
            },
            "colorscale": [
             [
              0,
              "#0d0887"
             ],
             [
              0.1111111111111111,
              "#46039f"
             ],
             [
              0.2222222222222222,
              "#7201a8"
             ],
             [
              0.3333333333333333,
              "#9c179e"
             ],
             [
              0.4444444444444444,
              "#bd3786"
             ],
             [
              0.5555555555555556,
              "#d8576b"
             ],
             [
              0.6666666666666666,
              "#ed7953"
             ],
             [
              0.7777777777777778,
              "#fb9f3a"
             ],
             [
              0.8888888888888888,
              "#fdca26"
             ],
             [
              1,
              "#f0f921"
             ]
            ],
            "type": "histogram2d"
           }
          ],
          "histogram2dcontour": [
           {
            "colorbar": {
             "outlinewidth": 0,
             "ticks": ""
            },
            "colorscale": [
             [
              0,
              "#0d0887"
             ],
             [
              0.1111111111111111,
              "#46039f"
             ],
             [
              0.2222222222222222,
              "#7201a8"
             ],
             [
              0.3333333333333333,
              "#9c179e"
             ],
             [
              0.4444444444444444,
              "#bd3786"
             ],
             [
              0.5555555555555556,
              "#d8576b"
             ],
             [
              0.6666666666666666,
              "#ed7953"
             ],
             [
              0.7777777777777778,
              "#fb9f3a"
             ],
             [
              0.8888888888888888,
              "#fdca26"
             ],
             [
              1,
              "#f0f921"
             ]
            ],
            "type": "histogram2dcontour"
           }
          ],
          "mesh3d": [
           {
            "colorbar": {
             "outlinewidth": 0,
             "ticks": ""
            },
            "type": "mesh3d"
           }
          ],
          "parcoords": [
           {
            "line": {
             "colorbar": {
              "outlinewidth": 0,
              "ticks": ""
             }
            },
            "type": "parcoords"
           }
          ],
          "pie": [
           {
            "automargin": true,
            "type": "pie"
           }
          ],
          "scatter": [
           {
            "fillpattern": {
             "fillmode": "overlay",
             "size": 10,
             "solidity": 0.2
            },
            "type": "scatter"
           }
          ],
          "scatter3d": [
           {
            "line": {
             "colorbar": {
              "outlinewidth": 0,
              "ticks": ""
             }
            },
            "marker": {
             "colorbar": {
              "outlinewidth": 0,
              "ticks": ""
             }
            },
            "type": "scatter3d"
           }
          ],
          "scattercarpet": [
           {
            "marker": {
             "colorbar": {
              "outlinewidth": 0,
              "ticks": ""
             }
            },
            "type": "scattercarpet"
           }
          ],
          "scattergeo": [
           {
            "marker": {
             "colorbar": {
              "outlinewidth": 0,
              "ticks": ""
             }
            },
            "type": "scattergeo"
           }
          ],
          "scattergl": [
           {
            "marker": {
             "colorbar": {
              "outlinewidth": 0,
              "ticks": ""
             }
            },
            "type": "scattergl"
           }
          ],
          "scattermapbox": [
           {
            "marker": {
             "colorbar": {
              "outlinewidth": 0,
              "ticks": ""
             }
            },
            "type": "scattermapbox"
           }
          ],
          "scatterpolar": [
           {
            "marker": {
             "colorbar": {
              "outlinewidth": 0,
              "ticks": ""
             }
            },
            "type": "scatterpolar"
           }
          ],
          "scatterpolargl": [
           {
            "marker": {
             "colorbar": {
              "outlinewidth": 0,
              "ticks": ""
             }
            },
            "type": "scatterpolargl"
           }
          ],
          "scatterternary": [
           {
            "marker": {
             "colorbar": {
              "outlinewidth": 0,
              "ticks": ""
             }
            },
            "type": "scatterternary"
           }
          ],
          "surface": [
           {
            "colorbar": {
             "outlinewidth": 0,
             "ticks": ""
            },
            "colorscale": [
             [
              0,
              "#0d0887"
             ],
             [
              0.1111111111111111,
              "#46039f"
             ],
             [
              0.2222222222222222,
              "#7201a8"
             ],
             [
              0.3333333333333333,
              "#9c179e"
             ],
             [
              0.4444444444444444,
              "#bd3786"
             ],
             [
              0.5555555555555556,
              "#d8576b"
             ],
             [
              0.6666666666666666,
              "#ed7953"
             ],
             [
              0.7777777777777778,
              "#fb9f3a"
             ],
             [
              0.8888888888888888,
              "#fdca26"
             ],
             [
              1,
              "#f0f921"
             ]
            ],
            "type": "surface"
           }
          ],
          "table": [
           {
            "cells": {
             "fill": {
              "color": "#EBF0F8"
             },
             "line": {
              "color": "white"
             }
            },
            "header": {
             "fill": {
              "color": "#C8D4E3"
             },
             "line": {
              "color": "white"
             }
            },
            "type": "table"
           }
          ]
         },
         "layout": {
          "annotationdefaults": {
           "arrowcolor": "#2a3f5f",
           "arrowhead": 0,
           "arrowwidth": 1
          },
          "autotypenumbers": "strict",
          "coloraxis": {
           "colorbar": {
            "outlinewidth": 0,
            "ticks": ""
           }
          },
          "colorscale": {
           "diverging": [
            [
             0,
             "#8e0152"
            ],
            [
             0.1,
             "#c51b7d"
            ],
            [
             0.2,
             "#de77ae"
            ],
            [
             0.3,
             "#f1b6da"
            ],
            [
             0.4,
             "#fde0ef"
            ],
            [
             0.5,
             "#f7f7f7"
            ],
            [
             0.6,
             "#e6f5d0"
            ],
            [
             0.7,
             "#b8e186"
            ],
            [
             0.8,
             "#7fbc41"
            ],
            [
             0.9,
             "#4d9221"
            ],
            [
             1,
             "#276419"
            ]
           ],
           "sequential": [
            [
             0,
             "#0d0887"
            ],
            [
             0.1111111111111111,
             "#46039f"
            ],
            [
             0.2222222222222222,
             "#7201a8"
            ],
            [
             0.3333333333333333,
             "#9c179e"
            ],
            [
             0.4444444444444444,
             "#bd3786"
            ],
            [
             0.5555555555555556,
             "#d8576b"
            ],
            [
             0.6666666666666666,
             "#ed7953"
            ],
            [
             0.7777777777777778,
             "#fb9f3a"
            ],
            [
             0.8888888888888888,
             "#fdca26"
            ],
            [
             1,
             "#f0f921"
            ]
           ],
           "sequentialminus": [
            [
             0,
             "#0d0887"
            ],
            [
             0.1111111111111111,
             "#46039f"
            ],
            [
             0.2222222222222222,
             "#7201a8"
            ],
            [
             0.3333333333333333,
             "#9c179e"
            ],
            [
             0.4444444444444444,
             "#bd3786"
            ],
            [
             0.5555555555555556,
             "#d8576b"
            ],
            [
             0.6666666666666666,
             "#ed7953"
            ],
            [
             0.7777777777777778,
             "#fb9f3a"
            ],
            [
             0.8888888888888888,
             "#fdca26"
            ],
            [
             1,
             "#f0f921"
            ]
           ]
          },
          "colorway": [
           "#636efa",
           "#EF553B",
           "#00cc96",
           "#ab63fa",
           "#FFA15A",
           "#19d3f3",
           "#FF6692",
           "#B6E880",
           "#FF97FF",
           "#FECB52"
          ],
          "font": {
           "color": "#2a3f5f"
          },
          "geo": {
           "bgcolor": "white",
           "lakecolor": "white",
           "landcolor": "#E5ECF6",
           "showlakes": true,
           "showland": true,
           "subunitcolor": "white"
          },
          "hoverlabel": {
           "align": "left"
          },
          "hovermode": "closest",
          "mapbox": {
           "style": "light"
          },
          "paper_bgcolor": "white",
          "plot_bgcolor": "#E5ECF6",
          "polar": {
           "angularaxis": {
            "gridcolor": "white",
            "linecolor": "white",
            "ticks": ""
           },
           "bgcolor": "#E5ECF6",
           "radialaxis": {
            "gridcolor": "white",
            "linecolor": "white",
            "ticks": ""
           }
          },
          "scene": {
           "xaxis": {
            "backgroundcolor": "#E5ECF6",
            "gridcolor": "white",
            "gridwidth": 2,
            "linecolor": "white",
            "showbackground": true,
            "ticks": "",
            "zerolinecolor": "white"
           },
           "yaxis": {
            "backgroundcolor": "#E5ECF6",
            "gridcolor": "white",
            "gridwidth": 2,
            "linecolor": "white",
            "showbackground": true,
            "ticks": "",
            "zerolinecolor": "white"
           },
           "zaxis": {
            "backgroundcolor": "#E5ECF6",
            "gridcolor": "white",
            "gridwidth": 2,
            "linecolor": "white",
            "showbackground": true,
            "ticks": "",
            "zerolinecolor": "white"
           }
          },
          "shapedefaults": {
           "line": {
            "color": "#2a3f5f"
           }
          },
          "ternary": {
           "aaxis": {
            "gridcolor": "white",
            "linecolor": "white",
            "ticks": ""
           },
           "baxis": {
            "gridcolor": "white",
            "linecolor": "white",
            "ticks": ""
           },
           "bgcolor": "#E5ECF6",
           "caxis": {
            "gridcolor": "white",
            "linecolor": "white",
            "ticks": ""
           }
          },
          "title": {
           "x": 0.05
          },
          "xaxis": {
           "automargin": true,
           "gridcolor": "white",
           "linecolor": "white",
           "ticks": "",
           "title": {
            "standoff": 15
           },
           "zerolinecolor": "white",
           "zerolinewidth": 2
          },
          "yaxis": {
           "automargin": true,
           "gridcolor": "white",
           "linecolor": "white",
           "ticks": "",
           "title": {
            "standoff": 15
           },
           "zerolinecolor": "white",
           "zerolinewidth": 2
          }
         }
        },
        "title": {
         "font": {
          "color": "#122630",
          "size": 28
         },
         "text": "Fig 2: Distribution of texts by<br>male and female authors",
         "yref": "paper"
        },
        "width": 500,
        "xaxis": {
         "anchor": "y",
         "autorange": true,
         "categoryarray": [
          "m",
          "f"
         ],
         "categoryorder": "array",
         "domain": [
          0,
          1
         ],
         "range": [
          -0.5,
          1.5
         ],
         "showgrid": false,
         "title": {
          "text": "gender"
         },
         "type": "category"
        },
        "yaxis": {
         "anchor": "x",
         "autorange": true,
         "domain": [
          0,
          1
         ],
         "range": [
          0,
          1520
         ],
         "showgrid": false,
         "title": {
          "text": "count"
         }
        }
       }
      },
      "image/png": "[encoded data removed]",
      "text/html": [
       "<div>                            <div id=\"d27882cc-eb66-4bea-8a8c-12e2bb1486af\" class=\"plotly-graph-div\" style=\"height:500px; width:500px;\"></div>            <script type=\"text/javascript\">                require([\"plotly\"], function(Plotly) {                    window.PLOTLYENV=window.PLOTLYENV || {};                                    if (document.getElementById(\"d27882cc-eb66-4bea-8a8c-12e2bb1486af\")) {                    Plotly.newPlot(                        \"d27882cc-eb66-4bea-8a8c-12e2bb1486af\",                        [{\"alignmentgroup\":\"True\",\"bingroup\":\"x\",\"hovertemplate\":\"gender=%{x}\\u003cbr\\u003ecount=%{y}\\u003cextra\\u003e\\u003c\\u002fextra\\u003e\",\"legendgroup\":\"m\",\"marker\":{\"color\":\"#053c6c\",\"pattern\":{\"shape\":\"\"}},\"name\":\"m\",\"offsetgroup\":\"m\",\"orientation\":\"v\",\"showlegend\":true,\"x\":[\"m\",\"m\",\"m\",\"m\",\"m\",\"m\",\"m\",\"m\",\"m\",\"m\",\"m\",\"m\",\"m\",\"m\",\"m\",\"m\",\"m\",\"m\",\"m\",\"m\",\"m\",\"m\",\"m\",\"m\",\"m\",\"m\",\"m\",\"m\",\"m\",\"m\",\"m\",\"m\",\"m\",\"m\",\"m\",\"m\",\"m\",\"m\",\"m\",\"m\",\"m\",\"m\",\"m\",\"m\",\"m\",\"m\",\"m\",\"m\",\"m\",\"m\",\"m\",\"m\",\"m\",\"m\",\"m\",\"m\",\"m\",\"m\",\"m\",\"m\",\"m\",\"m\",\"m\",\"m\",\"m\",\"m\",\"m\",\"m\",\"m\",\"m\",\"m\",\"m\",\"m\",\"m\",\"m\",\"m\",\"m\",\"m\",\"m\",\"m\",\"m\",\"m\",\"m\",\"m\",\"m\",\"m\",\"m\",\"m\",\"m\",\"m\",\"m\",\"m\",\"m\",\"m\",\"m\",\"m\",\"m\",\"m\",\"m\",\"m\",\"m\",\"m\",\"m\",\"m\",\"m\",\"m\",\"m\",\"m\",\"m\",\"m\",\"m\",\"m\",\"m\",\"m\",\"m\",\"m\",\"m\",\"m\",\"m\",\"m\",\"m\",\"m\",\"m\",\"m\",\"m\",\"m\",\"m\",\"m\",\"m\",\"m\",\"m\",\"m\",\"m\",\"m\",\"m\",\"m\",\"m\",\"m\",\"m\",\"m\",\"m\",\"m\",\"m\",\"m\",\"m\",\"m\",\"m\",\"m\",\"m\",\"m\",\"m\",\"m\",\"m\",\"m\",\"m\",\"m\",\"m\",\"m\",\"m\",\"m\",\"m\",\"m\",\"m\",\"m\",\"m\",\"m\",\"m\",\"m\",\"m\",\"m\",\"m\",\"m\",\"m\",\"m\",\"m\",\"m\",\"m\",\"m\",\"m\",\"m\",\"m\",\"m\",\"m\",\"m\",\"m\",\"m\",\"m\",\"m\",\"m\",\"m\",\"m\",\"m\",\"m\",\"m\",\"m\",\"m\",\"m\",\"m\",\"m\",\"m\",\"m\",\"m\",\"m\",\"m\",\"m\",\"m\",\"m\",\"m\",\"m\",\"m\",\"m\",\"m\",\"m\",\"m\",\"m\",\"m\",\"m\",\"m\",\"m\",\"m\",\"m\",\"m\",\"m\",\"m\",\"m\",\"m\",\"m\",\"m\",\"m\",\"m\",\"m\",\"m\",\"m\",\"m\",\"m\",\"m\",\"m\",\"m\",\"m\",\"m\",\"m\",\"m\",\"m\",\"m\",\"m\",\"m\",\"m\",\"m\",\"m\",\"m\",\"m\",\"m\",\"m\",\"m\",\"m\",\"m\",\"m\",\"m\",\"m\",\"m\",\"m\",\"m\",\"m\",\"m\",\"m\",\"m\",\"m\",\"m\",\"m\",\"m\",\"m\",\"m\",\"m\",\"m\",\"m\",\"m\",\"m\",\"m\",\"m\",\"m\",\"m\",\"m\",\"m\",\"m\",\"m\",\"m\",\"m\",\"m\",\"m\",\"m\",\"m\",\"m\",\"m\",\"m\",\"m\",\"m\",\"m\",\"m\",\"m\",\"m\",\"m\",\"m\",\"m\",\"m\",\"m\",\"m\",\"m\",\"m\",\"m\",\"m\",\"m\",\"m\",\"m\",\"m\",\"m\",\"m\",\"m\",\"m\",\"m\",\"m\",\"m\",\"m\",\"m\",\"m\",\"m\",\"m\",\"m\",\"m\",\"m\",\"m\",\"m\",\"m\",\"m\",\"m\",\"m\",\"m\",\"m\",\"m\",\"m\",\"m\",\"m\",\"m\",\"m\",\"m\",\"m\",\"m\",\"m\",\"m\",\"m\",\"m\",\"m\",\"m\",\"m\",\"m\",\"m\",\"m\",\"m\",\"m\",\"m\",\"m\",\"m\",\"m\",\"m\",\"m\",\"m\",\"m\",\"m\",\"m\",\"m\",\"m\",\"m\",\"m\",\"m\",\"m\",\"m\",\"m\",\"m\",\"m\",\"m\",\"m\",\"m\",\"m\",\"m\",\"m\",\"m\",\"m\",\"m\",\"m\",\"m\",\"m\",\"m\",\"m\",\"m\",\"m\",\"m\",\"m\",\"m\",\"m\",\"m\",\"m\",\"m\",\"m\",\"m\",\"m\",\"m\",\"m\",\"m\",\"m\",\"m\",\"m\",\"m\",\"m\",\"m\",\"m\",\"m\",\"m\",\"m\",\"m\",\"m\",\"m\",\"m\",\"m\",\"m\",\"m\",\"m\",\"m\",\"m\",\"m\",\"m\",\"m\",\"m\",\"m\",\"m\",\"m\",\"m\",\"m\",\"m\",\"m\",\"m\",\"m\",\"m\",\"m\",\"m\",\"m\",\"m\",\"m\",\"m\",\"m\",\"m\",\"m\",\"m\",\"m\",\"m\",\"m\",\"m\",\"m\",\"m\",\"m\",\"m\",\"m\",\"m\",\"m\",\"m\",\"m\",\"m\",\"m\",\"m\",\"m\",\"m\",\"m\",\"m\",\"m\",\"m\",\"m\",\"m\",\"m\",\"m\",\"m\",\"m\",\"m\",\"m\",\"m\",\"m\",\"m\",\"m\",\"m\",\"m\",\"m\",\"m\",\"m\",\"m\",\"m\",\"m\",\"m\",\"m\",\"m\",\"m\",\"m\",\"m\",\"m\",\"m\",\"m\",\"m\",\"m\",\"m\",\"m\",\"m\",\"m\",\"m\",\"m\",\"m\",\"m\",\"m\",\"m\",\"m\",\"m\",\"m\",\"m\",\"m\",\"m\",\"m\",\"m\",\"m\",\"m\",\"m\",\"m\",\"m\",\"m\",\"m\",\"m\",\"m\",\"m\",\"m\",\"m\",\"m\",\"m\",\"m\",\"m\",\"m\",\"m\",\"m\",\"m\",\"m\",\"m\",\"m\",\"m\",\"m\",\"m\",\"m\",\"m\",\"m\",\"m\",\"m\",\"m\",\"m\",\"m\",\"m\",\"m\",\"m\",\"m\",\"m\",\"m\",\"m\",\"m\",\"m\",\"m\",\"m\",\"m\",\"m\",\"m\",\"m\",\"m\",\"m\",\"m\",\"m\",\"m\",\"m\",\"m\",\"m\",\"m\",\"m\",\"m\",\"m\",\"m\",\"m\",\"m\",\"m\",\"m\",\"m\",\"m\",\"m\",\"m\",\"m\",\"m\",\"m\",\"m\",\"m\",\"m\",\"m\",\"m\",\"m\",\"m\",\"m\",\"m\",\"m\",\"m\",\"m\",\"m\",\"m\",\"m\",\"m\",\"m\",\"m\",\"m\",\"m\",\"m\",\"m\",\"m\",\"m\",\"m\",\"m\",\"m\",\"m\",\"m\",\"m\",\"m\",\"m\",\"m\",\"m\",\"m\",\"m\",\"m\",\"m\",\"m\",\"m\",\"m\",\"m\",\"m\",\"m\",\"m\",\"m\",\"m\",\"m\",\"m\",\"m\",\"m\",\"m\",\"m\",\"m\",\"m\",\"m\",\"m\",\"m\",\"m\",\"m\",\"m\",\"m\",\"m\",\"m\",\"m\",\"m\",\"m\",\"m\",\"m\",\"m\",\"m\",\"m\",\"m\",\"m\",\"m\",\"m\",\"m\",\"m\",\"m\",\"m\",\"m\",\"m\",\"m\",\"m\",\"m\",\"m\",\"m\",\"m\",\"m\",\"m\",\"m\",\"m\",\"m\",\"m\",\"m\",\"m\",\"m\",\"m\",\"m\",\"m\",\"m\",\"m\",\"m\",\"m\",\"m\",\"m\",\"m\",\"m\",\"m\",\"m\",\"m\",\"m\",\"m\",\"m\",\"m\",\"m\",\"m\",\"m\",\"m\",\"m\",\"m\",\"m\",\"m\",\"m\",\"m\",\"m\",\"m\",\"m\",\"m\",\"m\",\"m\",\"m\",\"m\",\"m\",\"m\",\"m\",\"m\",\"m\",\"m\",\"m\",\"m\",\"m\",\"m\",\"m\",\"m\",\"m\",\"m\",\"m\",\"m\",\"m\",\"m\",\"m\",\"m\",\"m\",\"m\",\"m\",\"m\",\"m\",\"m\",\"m\",\"m\",\"m\",\"m\",\"m\",\"m\",\"m\",\"m\",\"m\",\"m\",\"m\",\"m\",\"m\",\"m\",\"m\",\"m\",\"m\",\"m\",\"m\",\"m\",\"m\",\"m\",\"m\",\"m\",\"m\",\"m\",\"m\",\"m\",\"m\",\"m\",\"m\",\"m\",\"m\",\"m\",\"m\",\"m\",\"m\",\"m\",\"m\",\"m\",\"m\",\"m\",\"m\",\"m\",\"m\",\"m\",\"m\",\"m\",\"m\",\"m\",\"m\",\"m\",\"m\",\"m\",\"m\",\"m\",\"m\",\"m\",\"m\",\"m\",\"m\",\"m\",\"m\",\"m\",\"m\",\"m\",\"m\",\"m\",\"m\",\"m\",\"m\",\"m\",\"m\",\"m\",\"m\",\"m\",\"m\",\"m\",\"m\",\"m\",\"m\",\"m\",\"m\",\"m\",\"m\",\"m\",\"m\",\"m\",\"m\",\"m\",\"m\",\"m\",\"m\",\"m\",\"m\",\"m\",\"m\",\"m\",\"m\",\"m\",\"m\",\"m\",\"m\",\"m\",\"m\",\"m\",\"m\",\"m\",\"m\",\"m\",\"m\",\"m\",\"m\",\"m\",\"m\",\"m\",\"m\",\"m\",\"m\",\"m\",\"m\",\"m\",\"m\",\"m\",\"m\",\"m\",\"m\",\"m\",\"m\",\"m\",\"m\",\"m\",\"m\",\"m\",\"m\",\"m\",\"m\",\"m\",\"m\",\"m\",\"m\",\"m\",\"m\",\"m\",\"m\",\"m\",\"m\",\"m\",\"m\",\"m\",\"m\",\"m\",\"m\",\"m\",\"m\",\"m\",\"m\",\"m\",\"m\",\"m\",\"m\",\"m\",\"m\",\"m\",\"m\",\"m\",\"m\",\"m\",\"m\",\"m\",\"m\",\"m\",\"m\",\"m\",\"m\",\"m\",\"m\",\"m\",\"m\",\"m\",\"m\",\"m\",\"m\",\"m\",\"m\",\"m\",\"m\",\"m\",\"m\",\"m\",\"m\",\"m\",\"m\",\"m\",\"m\",\"m\",\"m\",\"m\",\"m\",\"m\",\"m\",\"m\",\"m\",\"m\",\"m\",\"m\",\"m\",\"m\",\"m\",\"m\",\"m\",\"m\",\"m\",\"m\",\"m\",\"m\",\"m\",\"m\",\"m\",\"m\",\"m\",\"m\",\"m\",\"m\",\"m\",\"m\",\"m\",\"m\",\"m\",\"m\",\"m\",\"m\",\"m\",\"m\",\"m\",\"m\",\"m\",\"m\",\"m\",\"m\",\"m\",\"m\",\"m\",\"m\",\"m\",\"m\",\"m\",\"m\",\"m\",\"m\",\"m\",\"m\",\"m\",\"m\",\"m\",\"m\",\"m\",\"m\",\"m\",\"m\",\"m\",\"m\",\"m\",\"m\",\"m\",\"m\",\"m\",\"m\",\"m\",\"m\",\"m\",\"m\",\"m\",\"m\",\"m\",\"m\",\"m\",\"m\",\"m\",\"m\",\"m\",\"m\",\"m\",\"m\",\"m\",\"m\",\"m\",\"m\",\"m\",\"m\",\"m\",\"m\",\"m\",\"m\",\"m\",\"m\",\"m\",\"m\",\"m\",\"m\",\"m\",\"m\",\"m\",\"m\",\"m\",\"m\",\"m\",\"m\",\"m\",\"m\",\"m\",\"m\",\"m\",\"m\",\"m\",\"m\",\"m\",\"m\",\"m\",\"m\",\"m\",\"m\",\"m\",\"m\",\"m\",\"m\",\"m\",\"m\",\"m\",\"m\",\"m\",\"m\",\"m\",\"m\",\"m\",\"m\",\"m\",\"m\",\"m\",\"m\",\"m\",\"m\",\"m\",\"m\",\"m\",\"m\",\"m\",\"m\",\"m\",\"m\",\"m\",\"m\",\"m\",\"m\",\"m\",\"m\",\"m\",\"m\",\"m\",\"m\",\"m\",\"m\",\"m\",\"m\",\"m\",\"m\",\"m\",\"m\",\"m\",\"m\",\"m\",\"m\",\"m\",\"m\",\"m\",\"m\",\"m\",\"m\",\"m\",\"m\",\"m\",\"m\",\"m\",\"m\",\"m\",\"m\",\"m\",\"m\",\"m\",\"m\",\"m\",\"m\",\"m\",\"m\",\"m\",\"m\",\"m\",\"m\",\"m\",\"m\",\"m\",\"m\",\"m\",\"m\",\"m\",\"m\",\"m\",\"m\",\"m\",\"m\",\"m\",\"m\",\"m\",\"m\",\"m\",\"m\",\"m\",\"m\",\"m\",\"m\",\"m\",\"m\",\"m\",\"m\",\"m\",\"m\",\"m\",\"m\",\"m\",\"m\",\"m\",\"m\",\"m\",\"m\",\"m\",\"m\",\"m\",\"m\",\"m\",\"m\",\"m\",\"m\",\"m\",\"m\",\"m\",\"m\",\"m\",\"m\",\"m\",\"m\",\"m\",\"m\",\"m\",\"m\",\"m\",\"m\",\"m\",\"m\",\"m\",\"m\",\"m\",\"m\",\"m\",\"m\",\"m\",\"m\",\"m\",\"m\",\"m\",\"m\",\"m\",\"m\",\"m\",\"m\",\"m\",\"m\",\"m\",\"m\",\"m\",\"m\",\"m\",\"m\",\"m\",\"m\",\"m\",\"m\",\"m\",\"m\",\"m\",\"m\",\"m\",\"m\",\"m\",\"m\",\"m\",\"m\",\"m\",\"m\",\"m\",\"m\",\"m\",\"m\",\"m\",\"m\",\"m\",\"m\",\"m\",\"m\",\"m\",\"m\",\"m\",\"m\",\"m\",\"m\",\"m\",\"m\",\"m\",\"m\",\"m\",\"m\",\"m\",\"m\",\"m\",\"m\",\"m\",\"m\",\"m\",\"m\",\"m\",\"m\",\"m\",\"m\",\"m\",\"m\",\"m\",\"m\",\"m\",\"m\",\"m\",\"m\",\"m\",\"m\",\"m\",\"m\",\"m\",\"m\",\"m\",\"m\",\"m\",\"m\",\"m\",\"m\",\"m\",\"m\",\"m\",\"m\",\"m\",\"m\",\"m\",\"m\",\"m\",\"m\",\"m\",\"m\",\"m\",\"m\",\"m\",\"m\",\"m\",\"m\",\"m\",\"m\",\"m\",\"m\",\"m\",\"m\",\"m\",\"m\",\"m\",\"m\",\"m\",\"m\",\"m\",\"m\",\"m\",\"m\",\"m\",\"m\",\"m\",\"m\",\"m\",\"m\",\"m\",\"m\",\"m\",\"m\",\"m\",\"m\",\"m\",\"m\",\"m\",\"m\",\"m\",\"m\",\"m\",\"m\",\"m\",\"m\",\"m\",\"m\",\"m\",\"m\",\"m\",\"m\",\"m\",\"m\",\"m\",\"m\",\"m\",\"m\",\"m\",\"m\",\"m\",\"m\",\"m\",\"m\",\"m\",\"m\",\"m\",\"m\",\"m\",\"m\",\"m\",\"m\",\"m\",\"m\",\"m\",\"m\",\"m\",\"m\",\"m\",\"m\",\"m\",\"m\",\"m\",\"m\",\"m\",\"m\",\"m\",\"m\",\"m\",\"m\",\"m\",\"m\",\"m\",\"m\",\"m\",\"m\",\"m\",\"m\",\"m\",\"m\",\"m\",\"m\",\"m\",\"m\",\"m\",\"m\",\"m\",\"m\",\"m\",\"m\",\"m\",\"m\",\"m\",\"m\",\"m\",\"m\",\"m\",\"m\",\"m\",\"m\",\"m\",\"m\",\"m\",\"m\",\"m\",\"m\",\"m\",\"m\"],\"xaxis\":\"x\",\"yaxis\":\"y\",\"type\":\"histogram\"},{\"alignmentgroup\":\"True\",\"bingroup\":\"x\",\"hovertemplate\":\"gender=%{x}\\u003cbr\\u003ecount=%{y}\\u003cextra\\u003e\\u003c\\u002fextra\\u003e\",\"legendgroup\":\"f\",\"marker\":{\"color\":\"#9d95b0\",\"pattern\":{\"shape\":\"\"}},\"name\":\"f\",\"offsetgroup\":\"f\",\"orientation\":\"v\",\"showlegend\":true,\"x\":[\"f\",\"f\",\"f\",\"f\",\"f\",\"f\",\"f\",\"f\",\"f\",\"f\",\"f\",\"f\",\"f\",\"f\",\"f\",\"f\",\"f\",\"f\",\"f\",\"f\",\"f\",\"f\",\"f\",\"f\",\"f\",\"f\",\"f\",\"f\",\"f\",\"f\",\"f\",\"f\",\"f\",\"f\",\"f\",\"f\",\"f\",\"f\",\"f\",\"f\",\"f\",\"f\",\"f\",\"f\",\"f\",\"f\",\"f\",\"f\",\"f\",\"f\",\"f\",\"f\",\"f\",\"f\",\"f\",\"f\",\"f\",\"f\",\"f\",\"f\",\"f\",\"f\",\"f\",\"f\",\"f\",\"f\",\"f\",\"f\",\"f\",\"f\",\"f\",\"f\",\"f\",\"f\",\"f\",\"f\",\"f\",\"f\",\"f\",\"f\",\"f\",\"f\",\"f\",\"f\",\"f\",\"f\",\"f\",\"f\",\"f\",\"f\",\"f\",\"f\",\"f\",\"f\",\"f\",\"f\",\"f\",\"f\",\"f\",\"f\",\"f\",\"f\",\"f\",\"f\",\"f\",\"f\",\"f\",\"f\",\"f\",\"f\",\"f\",\"f\",\"f\",\"f\",\"f\",\"f\",\"f\",\"f\",\"f\",\"f\",\"f\",\"f\",\"f\",\"f\",\"f\",\"f\",\"f\",\"f\",\"f\",\"f\",\"f\",\"f\",\"f\",\"f\",\"f\",\"f\",\"f\",\"f\",\"f\",\"f\",\"f\",\"f\",\"f\",\"f\",\"f\",\"f\",\"f\",\"f\",\"f\",\"f\",\"f\",\"f\",\"f\",\"f\",\"f\",\"f\",\"f\",\"f\",\"f\",\"f\",\"f\",\"f\",\"f\",\"f\",\"f\",\"f\",\"f\",\"f\",\"f\",\"f\",\"f\",\"f\",\"f\",\"f\",\"f\",\"f\",\"f\",\"f\",\"f\",\"f\",\"f\",\"f\",\"f\",\"f\",\"f\",\"f\",\"f\",\"f\",\"f\",\"f\",\"f\",\"f\",\"f\",\"f\",\"f\",\"f\",\"f\",\"f\",\"f\",\"f\",\"f\",\"f\",\"f\",\"f\",\"f\",\"f\",\"f\",\"f\",\"f\",\"f\",\"f\",\"f\",\"f\",\"f\",\"f\",\"f\",\"f\",\"f\",\"f\",\"f\",\"f\",\"f\",\"f\",\"f\",\"f\",\"f\",\"f\",\"f\",\"f\",\"f\",\"f\",\"f\",\"f\",\"f\",\"f\",\"f\",\"f\",\"f\",\"f\",\"f\",\"f\",\"f\",\"f\",\"f\",\"f\",\"f\",\"f\",\"f\",\"f\",\"f\",\"f\",\"f\",\"f\",\"f\",\"f\",\"f\",\"f\",\"f\",\"f\",\"f\",\"f\",\"f\",\"f\",\"f\",\"f\",\"f\",\"f\",\"f\",\"f\",\"f\",\"f\",\"f\",\"f\",\"f\",\"f\",\"f\",\"f\",\"f\",\"f\",\"f\",\"f\",\"f\",\"f\",\"f\",\"f\",\"f\",\"f\",\"f\",\"f\",\"f\",\"f\",\"f\",\"f\",\"f\",\"f\",\"f\",\"f\",\"f\",\"f\",\"f\",\"f\",\"f\",\"f\",\"f\",\"f\",\"f\",\"f\",\"f\",\"f\",\"f\",\"f\",\"f\",\"f\",\"f\",\"f\",\"f\",\"f\",\"f\",\"f\",\"f\"],\"xaxis\":\"x\",\"yaxis\":\"y\",\"type\":\"histogram\"}],                        {\"template\":{\"data\":{\"histogram2dcontour\":[{\"type\":\"histogram2dcontour\",\"colorbar\":{\"outlinewidth\":0,\"ticks\":\"\"},\"colorscale\":[[0.0,\"#0d0887\"],[0.1111111111111111,\"#46039f\"],[0.2222222222222222,\"#7201a8\"],[0.3333333333333333,\"#9c179e\"],[0.4444444444444444,\"#bd3786\"],[0.5555555555555556,\"#d8576b\"],[0.6666666666666666,\"#ed7953\"],[0.7777777777777778,\"#fb9f3a\"],[0.8888888888888888,\"#fdca26\"],[1.0,\"#f0f921\"]]}],\"choropleth\":[{\"type\":\"choropleth\",\"colorbar\":{\"outlinewidth\":0,\"ticks\":\"\"}}],\"histogram2d\":[{\"type\":\"histogram2d\",\"colorbar\":{\"outlinewidth\":0,\"ticks\":\"\"},\"colorscale\":[[0.0,\"#0d0887\"],[0.1111111111111111,\"#46039f\"],[0.2222222222222222,\"#7201a8\"],[0.3333333333333333,\"#9c179e\"],[0.4444444444444444,\"#bd3786\"],[0.5555555555555556,\"#d8576b\"],[0.6666666666666666,\"#ed7953\"],[0.7777777777777778,\"#fb9f3a\"],[0.8888888888888888,\"#fdca26\"],[1.0,\"#f0f921\"]]}],\"heatmap\":[{\"type\":\"heatmap\",\"colorbar\":{\"outlinewidth\":0,\"ticks\":\"\"},\"colorscale\":[[0.0,\"#0d0887\"],[0.1111111111111111,\"#46039f\"],[0.2222222222222222,\"#7201a8\"],[0.3333333333333333,\"#9c179e\"],[0.4444444444444444,\"#bd3786\"],[0.5555555555555556,\"#d8576b\"],[0.6666666666666666,\"#ed7953\"],[0.7777777777777778,\"#fb9f3a\"],[0.8888888888888888,\"#fdca26\"],[1.0,\"#f0f921\"]]}],\"heatmapgl\":[{\"type\":\"heatmapgl\",\"colorbar\":{\"outlinewidth\":0,\"ticks\":\"\"},\"colorscale\":[[0.0,\"#0d0887\"],[0.1111111111111111,\"#46039f\"],[0.2222222222222222,\"#7201a8\"],[0.3333333333333333,\"#9c179e\"],[0.4444444444444444,\"#bd3786\"],[0.5555555555555556,\"#d8576b\"],[0.6666666666666666,\"#ed7953\"],[0.7777777777777778,\"#fb9f3a\"],[0.8888888888888888,\"#fdca26\"],[1.0,\"#f0f921\"]]}],\"contourcarpet\":[{\"type\":\"contourcarpet\",\"colorbar\":{\"outlinewidth\":0,\"ticks\":\"\"}}],\"contour\":[{\"type\":\"contour\",\"colorbar\":{\"outlinewidth\":0,\"ticks\":\"\"},\"colorscale\":[[0.0,\"#0d0887\"],[0.1111111111111111,\"#46039f\"],[0.2222222222222222,\"#7201a8\"],[0.3333333333333333,\"#9c179e\"],[0.4444444444444444,\"#bd3786\"],[0.5555555555555556,\"#d8576b\"],[0.6666666666666666,\"#ed7953\"],[0.7777777777777778,\"#fb9f3a\"],[0.8888888888888888,\"#fdca26\"],[1.0,\"#f0f921\"]]}],\"surface\":[{\"type\":\"surface\",\"colorbar\":{\"outlinewidth\":0,\"ticks\":\"\"},\"colorscale\":[[0.0,\"#0d0887\"],[0.1111111111111111,\"#46039f\"],[0.2222222222222222,\"#7201a8\"],[0.3333333333333333,\"#9c179e\"],[0.4444444444444444,\"#bd3786\"],[0.5555555555555556,\"#d8576b\"],[0.6666666666666666,\"#ed7953\"],[0.7777777777777778,\"#fb9f3a\"],[0.8888888888888888,\"#fdca26\"],[1.0,\"#f0f921\"]]}],\"mesh3d\":[{\"type\":\"mesh3d\",\"colorbar\":{\"outlinewidth\":0,\"ticks\":\"\"}}],\"scatter\":[{\"fillpattern\":{\"fillmode\":\"overlay\",\"size\":10,\"solidity\":0.2},\"type\":\"scatter\"}],\"parcoords\":[{\"type\":\"parcoords\",\"line\":{\"colorbar\":{\"outlinewidth\":0,\"ticks\":\"\"}}}],\"scatterpolargl\":[{\"type\":\"scatterpolargl\",\"marker\":{\"colorbar\":{\"outlinewidth\":0,\"ticks\":\"\"}}}],\"bar\":[{\"error_x\":{\"color\":\"#2a3f5f\"},\"error_y\":{\"color\":\"#2a3f5f\"},\"marker\":{\"line\":{\"color\":\"#E5ECF6\",\"width\":0.5},\"pattern\":{\"fillmode\":\"overlay\",\"size\":10,\"solidity\":0.2}},\"type\":\"bar\"}],\"scattergeo\":[{\"type\":\"scattergeo\",\"marker\":{\"colorbar\":{\"outlinewidth\":0,\"ticks\":\"\"}}}],\"scatterpolar\":[{\"type\":\"scatterpolar\",\"marker\":{\"colorbar\":{\"outlinewidth\":0,\"ticks\":\"\"}}}],\"histogram\":[{\"marker\":{\"pattern\":{\"fillmode\":\"overlay\",\"size\":10,\"solidity\":0.2}},\"type\":\"histogram\"}],\"scattergl\":[{\"type\":\"scattergl\",\"marker\":{\"colorbar\":{\"outlinewidth\":0,\"ticks\":\"\"}}}],\"scatter3d\":[{\"type\":\"scatter3d\",\"line\":{\"colorbar\":{\"outlinewidth\":0,\"ticks\":\"\"}},\"marker\":{\"colorbar\":{\"outlinewidth\":0,\"ticks\":\"\"}}}],\"scattermapbox\":[{\"type\":\"scattermapbox\",\"marker\":{\"colorbar\":{\"outlinewidth\":0,\"ticks\":\"\"}}}],\"scatterternary\":[{\"type\":\"scatterternary\",\"marker\":{\"colorbar\":{\"outlinewidth\":0,\"ticks\":\"\"}}}],\"scattercarpet\":[{\"type\":\"scattercarpet\",\"marker\":{\"colorbar\":{\"outlinewidth\":0,\"ticks\":\"\"}}}],\"carpet\":[{\"aaxis\":{\"endlinecolor\":\"#2a3f5f\",\"gridcolor\":\"white\",\"linecolor\":\"white\",\"minorgridcolor\":\"white\",\"startlinecolor\":\"#2a3f5f\"},\"baxis\":{\"endlinecolor\":\"#2a3f5f\",\"gridcolor\":\"white\",\"linecolor\":\"white\",\"minorgridcolor\":\"white\",\"startlinecolor\":\"#2a3f5f\"},\"type\":\"carpet\"}],\"table\":[{\"cells\":{\"fill\":{\"color\":\"#EBF0F8\"},\"line\":{\"color\":\"white\"}},\"header\":{\"fill\":{\"color\":\"#C8D4E3\"},\"line\":{\"color\":\"white\"}},\"type\":\"table\"}],\"barpolar\":[{\"marker\":{\"line\":{\"color\":\"#E5ECF6\",\"width\":0.5},\"pattern\":{\"fillmode\":\"overlay\",\"size\":10,\"solidity\":0.2}},\"type\":\"barpolar\"}],\"pie\":[{\"automargin\":true,\"type\":\"pie\"}]},\"layout\":{\"autotypenumbers\":\"strict\",\"colorway\":[\"#636efa\",\"#EF553B\",\"#00cc96\",\"#ab63fa\",\"#FFA15A\",\"#19d3f3\",\"#FF6692\",\"#B6E880\",\"#FF97FF\",\"#FECB52\"],\"font\":{\"color\":\"#2a3f5f\"},\"hovermode\":\"closest\",\"hoverlabel\":{\"align\":\"left\"},\"paper_bgcolor\":\"white\",\"plot_bgcolor\":\"#E5ECF6\",\"polar\":{\"bgcolor\":\"#E5ECF6\",\"angularaxis\":{\"gridcolor\":\"white\",\"linecolor\":\"white\",\"ticks\":\"\"},\"radialaxis\":{\"gridcolor\":\"white\",\"linecolor\":\"white\",\"ticks\":\"\"}},\"ternary\":{\"bgcolor\":\"#E5ECF6\",\"aaxis\":{\"gridcolor\":\"white\",\"linecolor\":\"white\",\"ticks\":\"\"},\"baxis\":{\"gridcolor\":\"white\",\"linecolor\":\"white\",\"ticks\":\"\"},\"caxis\":{\"gridcolor\":\"white\",\"linecolor\":\"white\",\"ticks\":\"\"}},\"coloraxis\":{\"colorbar\":{\"outlinewidth\":0,\"ticks\":\"\"}},\"colorscale\":{\"sequential\":[[0.0,\"#0d0887\"],[0.1111111111111111,\"#46039f\"],[0.2222222222222222,\"#7201a8\"],[0.3333333333333333,\"#9c179e\"],[0.4444444444444444,\"#bd3786\"],[0.5555555555555556,\"#d8576b\"],[0.6666666666666666,\"#ed7953\"],[0.7777777777777778,\"#fb9f3a\"],[0.8888888888888888,\"#fdca26\"],[1.0,\"#f0f921\"]],\"sequentialminus\":[[0.0,\"#0d0887\"],[0.1111111111111111,\"#46039f\"],[0.2222222222222222,\"#7201a8\"],[0.3333333333333333,\"#9c179e\"],[0.4444444444444444,\"#bd3786\"],[0.5555555555555556,\"#d8576b\"],[0.6666666666666666,\"#ed7953\"],[0.7777777777777778,\"#fb9f3a\"],[0.8888888888888888,\"#fdca26\"],[1.0,\"#f0f921\"]],\"diverging\":[[0,\"#8e0152\"],[0.1,\"#c51b7d\"],[0.2,\"#de77ae\"],[0.3,\"#f1b6da\"],[0.4,\"#fde0ef\"],[0.5,\"#f7f7f7\"],[0.6,\"#e6f5d0\"],[0.7,\"#b8e186\"],[0.8,\"#7fbc41\"],[0.9,\"#4d9221\"],[1,\"#276419\"]]},\"xaxis\":{\"gridcolor\":\"white\",\"linecolor\":\"white\",\"ticks\":\"\",\"title\":{\"standoff\":15},\"zerolinecolor\":\"white\",\"automargin\":true,\"zerolinewidth\":2},\"yaxis\":{\"gridcolor\":\"white\",\"linecolor\":\"white\",\"ticks\":\"\",\"title\":{\"standoff\":15},\"zerolinecolor\":\"white\",\"automargin\":true,\"zerolinewidth\":2},\"scene\":{\"xaxis\":{\"backgroundcolor\":\"#E5ECF6\",\"gridcolor\":\"white\",\"linecolor\":\"white\",\"showbackground\":true,\"ticks\":\"\",\"zerolinecolor\":\"white\",\"gridwidth\":2},\"yaxis\":{\"backgroundcolor\":\"#E5ECF6\",\"gridcolor\":\"white\",\"linecolor\":\"white\",\"showbackground\":true,\"ticks\":\"\",\"zerolinecolor\":\"white\",\"gridwidth\":2},\"zaxis\":{\"backgroundcolor\":\"#E5ECF6\",\"gridcolor\":\"white\",\"linecolor\":\"white\",\"showbackground\":true,\"ticks\":\"\",\"zerolinecolor\":\"white\",\"gridwidth\":2}},\"shapedefaults\":{\"line\":{\"color\":\"#2a3f5f\"}},\"annotationdefaults\":{\"arrowcolor\":\"#2a3f5f\",\"arrowhead\":0,\"arrowwidth\":1},\"geo\":{\"bgcolor\":\"white\",\"landcolor\":\"#E5ECF6\",\"subunitcolor\":\"white\",\"showland\":true,\"showlakes\":true,\"lakecolor\":\"white\"},\"title\":{\"x\":0.05},\"mapbox\":{\"style\":\"light\"}}},\"xaxis\":{\"anchor\":\"y\",\"domain\":[0.0,1.0],\"title\":{\"text\":\"gender\"},\"categoryorder\":\"array\",\"categoryarray\":[\"m\",\"f\"],\"showgrid\":false},\"yaxis\":{\"anchor\":\"x\",\"domain\":[0.0,1.0],\"title\":{\"text\":\"count\"},\"showgrid\":false},\"legend\":{\"title\":{\"text\":\"gender\"},\"tracegroupgap\":0},\"title\":{\"text\":\"Fig 2: Distribution of texts by\\u003cbr\\u003emale and female authors\",\"font\":{\"color\":\"#122630\",\"size\":28},\"yref\":\"paper\"},\"barmode\":\"relative\",\"plot_bgcolor\":\"#ffbb91\",\"paper_bgcolor\":\"#feba67\",\"width\":500,\"height\":500},                        {\"responsive\": true}                    ).then(function(){\n",
       "                            \n",
       "var gd = document.getElementById('d27882cc-eb66-4bea-8a8c-12e2bb1486af');\n",
       "var x = new MutationObserver(function (mutations, observer) {{\n",
       "        var display = window.getComputedStyle(gd).display;\n",
       "        if (!display || display === 'none') {{\n",
       "            console.log([gd, 'removed!']);\n",
       "            Plotly.purge(gd);\n",
       "            observer.disconnect();\n",
       "        }}\n",
       "}});\n",
       "\n",
       "// Listen for the removal of the full notebook cells\n",
       "var notebookContainer = gd.closest('#notebook-container');\n",
       "if (notebookContainer) {{\n",
       "    x.observe(notebookContainer, {childList: true});\n",
       "}}\n",
       "\n",
       "// Listen for the clearing of the current output cell\n",
       "var outputEl = gd.closest('.output');\n",
       "if (outputEl) {{\n",
       "    x.observe(outputEl, {childList: true});\n",
       "}}\n",
       "\n",
       "                        })                };                });            </script>        </div>"
      ]
     },
     "metadata": {},
     "output_type": "display_data"
    }
   ],
   "source": [
    "fig = px.histogram(df,\n",
    "                   x=\"gender\",\n",
    "                   color=\"gender\",\n",
    "                   color_discrete_sequence=['#053c6c', '#9d95b0'],\n",
    "                   title=\"Fig 2: Distribution of texts by<br>male and female authors\")\n",
    "fig.update_layout({\"plot_bgcolor\":\"#ffbb91\", \"paper_bgcolor\":\"#feba67\", \"width\":500, \"height\":500},\n",
    "                  xaxis=dict(showgrid=False),\n",
    "                  yaxis=dict(showgrid=False),\n",
    "                  title_font_color=\"#122630\",\n",
    "                  title=dict(font=dict(size=28), yref='paper')\n",
    "                  )\n",
    "fig.show()"
   ]
  },
  {
   "cell_type": "code",
   "execution_count": 10,
   "id": "1b3f32be-7812-41f8-b340-53cecaba640b",
   "metadata": {
    "tags": []
   },
   "outputs": [
    {
     "data": {
      "application/vnd.plotly.v1+json": {
       "config": {
        "plotlyServerURL": "https://plot.ly"
       },
       "data": [
        {
         "alignmentgroup": "True",
         "bingroup": "x",
         "hovertemplate": "nationality=%{x}<br>count=%{y}<extra></extra>",
         "legendgroup": "DEU",
         "marker": {
          "color": "#053c6c",
          "pattern": {
           "shape": ""
          }
         },
         "name": "DEU",
         "offsetgroup": "DEU",
         "orientation": "v",
         "showlegend": true,
         "type": "histogram",
         "x": [
          "DEU",
          "DEU",
          "DEU",
          "DEU",
          "DEU",
          "DEU",
          "DEU",
          "DEU",
          "DEU",
          "DEU",
          "DEU",
          "DEU",
          "DEU",
          "DEU",
          "DEU",
          "DEU",
          "DEU",
          "DEU",
          "DEU",
          "DEU",
          "DEU",
          "DEU",
          "DEU",
          "DEU",
          "DEU",
          "DEU",
          "DEU",
          "DEU",
          "DEU",
          "DEU",
          "DEU",
          "DEU",
          "DEU",
          "DEU",
          "DEU",
          "DEU",
          "DEU",
          "DEU",
          "DEU",
          "DEU",
          "DEU",
          "DEU",
          "DEU",
          "DEU",
          "DEU",
          "DEU",
          "DEU",
          "DEU",
          "DEU",
          "DEU",
          "DEU",
          "DEU",
          "DEU",
          "DEU",
          "DEU",
          "DEU",
          "DEU",
          "DEU",
          "DEU",
          "DEU",
          "DEU",
          "DEU",
          "DEU",
          "DEU",
          "DEU",
          "DEU",
          "DEU",
          "DEU",
          "DEU",
          "DEU",
          "DEU",
          "DEU",
          "DEU",
          "DEU",
          "DEU",
          "DEU",
          "DEU",
          "DEU",
          "DEU",
          "DEU",
          "DEU",
          "DEU",
          "DEU",
          "DEU",
          "DEU",
          "DEU",
          "DEU",
          "DEU",
          "DEU",
          "DEU",
          "DEU",
          "DEU",
          "DEU",
          "DEU",
          "DEU",
          "DEU",
          "DEU",
          "DEU",
          "DEU",
          "DEU",
          "DEU",
          "DEU",
          "DEU",
          "DEU",
          "DEU",
          "DEU",
          "DEU",
          "DEU",
          "DEU",
          "DEU",
          "DEU",
          "DEU",
          "DEU",
          "DEU",
          "DEU",
          "DEU",
          "DEU",
          "DEU",
          "DEU",
          "DEU",
          "DEU",
          "DEU",
          "DEU",
          "DEU",
          "DEU",
          "DEU",
          "DEU",
          "DEU",
          "DEU",
          "DEU",
          "DEU",
          "DEU",
          "DEU",
          "DEU",
          "DEU",
          "DEU",
          "DEU",
          "DEU",
          "DEU",
          "DEU",
          "DEU",
          "DEU",
          "DEU",
          "DEU",
          "DEU",
          "DEU",
          "DEU",
          "DEU",
          "DEU",
          "DEU",
          "DEU",
          "DEU",
          "DEU",
          "DEU",
          "DEU",
          "DEU",
          "DEU",
          "DEU",
          "DEU",
          "DEU",
          "DEU",
          "DEU",
          "DEU",
          "DEU",
          "DEU",
          "DEU",
          "DEU",
          "DEU",
          "DEU",
          "DEU",
          "DEU",
          "DEU",
          "DEU",
          "DEU",
          "DEU",
          "DEU",
          "DEU",
          "DEU",
          "DEU",
          "DEU",
          "DEU",
          "DEU",
          "DEU",
          "DEU",
          "DEU",
          "DEU",
          "DEU",
          "DEU",
          "DEU",
          "DEU",
          "DEU",
          "DEU",
          "DEU",
          "DEU",
          "DEU",
          "DEU",
          "DEU",
          "DEU",
          "DEU",
          "DEU",
          "DEU",
          "DEU",
          "DEU",
          "DEU",
          "DEU",
          "DEU",
          "DEU",
          "DEU",
          "DEU",
          "DEU",
          "DEU",
          "DEU",
          "DEU",
          "DEU",
          "DEU",
          "DEU",
          "DEU",
          "DEU",
          "DEU",
          "DEU",
          "DEU",
          "DEU",
          "DEU",
          "DEU",
          "DEU",
          "DEU",
          "DEU",
          "DEU",
          "DEU",
          "DEU",
          "DEU",
          "DEU",
          "DEU",
          "DEU",
          "DEU",
          "DEU",
          "DEU",
          "DEU",
          "DEU",
          "DEU",
          "DEU",
          "DEU",
          "DEU",
          "DEU",
          "DEU",
          "DEU",
          "DEU",
          "DEU",
          "DEU",
          "DEU",
          "DEU",
          "DEU",
          "DEU",
          "DEU",
          "DEU",
          "DEU",
          "DEU",
          "DEU",
          "DEU",
          "DEU",
          "DEU",
          "DEU",
          "DEU",
          "DEU",
          "DEU",
          "DEU",
          "DEU",
          "DEU",
          "DEU",
          "DEU",
          "DEU",
          "DEU",
          "DEU",
          "DEU",
          "DEU",
          "DEU",
          "DEU",
          "DEU",
          "DEU",
          "DEU",
          "DEU",
          "DEU",
          "DEU",
          "DEU",
          "DEU",
          "DEU",
          "DEU",
          "DEU",
          "DEU",
          "DEU",
          "DEU",
          "DEU",
          "DEU",
          "DEU",
          "DEU",
          "DEU",
          "DEU",
          "DEU",
          "DEU",
          "DEU",
          "DEU",
          "DEU",
          "DEU",
          "DEU",
          "DEU",
          "DEU",
          "DEU",
          "DEU",
          "DEU",
          "DEU",
          "DEU",
          "DEU",
          "DEU",
          "DEU",
          "DEU",
          "DEU",
          "DEU",
          "DEU",
          "DEU",
          "DEU",
          "DEU",
          "DEU",
          "DEU",
          "DEU",
          "DEU",
          "DEU",
          "DEU",
          "DEU",
          "DEU",
          "DEU",
          "DEU",
          "DEU",
          "DEU",
          "DEU",
          "DEU",
          "DEU",
          "DEU",
          "DEU",
          "DEU",
          "DEU",
          "DEU",
          "DEU",
          "DEU",
          "DEU",
          "DEU",
          "DEU",
          "DEU",
          "DEU",
          "DEU",
          "DEU",
          "DEU",
          "DEU",
          "DEU",
          "DEU",
          "DEU",
          "DEU",
          "DEU",
          "DEU",
          "DEU",
          "DEU",
          "DEU",
          "DEU",
          "DEU",
          "DEU",
          "DEU",
          "DEU",
          "DEU",
          "DEU",
          "DEU",
          "DEU",
          "DEU",
          "DEU",
          "DEU",
          "DEU",
          "DEU",
          "DEU",
          "DEU",
          "DEU",
          "DEU",
          "DEU",
          "DEU",
          "DEU",
          "DEU",
          "DEU",
          "DEU",
          "DEU",
          "DEU",
          "DEU",
          "DEU",
          "DEU",
          "DEU",
          "DEU",
          "DEU",
          "DEU",
          "DEU",
          "DEU",
          "DEU",
          "DEU",
          "DEU",
          "DEU",
          "DEU",
          "DEU",
          "DEU",
          "DEU",
          "DEU",
          "DEU",
          "DEU",
          "DEU",
          "DEU",
          "DEU",
          "DEU",
          "DEU",
          "DEU",
          "DEU",
          "DEU",
          "DEU",
          "DEU",
          "DEU",
          "DEU",
          "DEU",
          "DEU",
          "DEU",
          "DEU",
          "DEU",
          "DEU",
          "DEU",
          "DEU",
          "DEU",
          "DEU",
          "DEU",
          "DEU",
          "DEU",
          "DEU",
          "DEU",
          "DEU",
          "DEU",
          "DEU",
          "DEU",
          "DEU",
          "DEU",
          "DEU",
          "DEU",
          "DEU",
          "DEU",
          "DEU",
          "DEU",
          "DEU",
          "DEU",
          "DEU",
          "DEU",
          "DEU",
          "DEU",
          "DEU",
          "DEU",
          "DEU",
          "DEU",
          "DEU",
          "DEU",
          "DEU",
          "DEU",
          "DEU",
          "DEU",
          "DEU",
          "DEU",
          "DEU",
          "DEU",
          "DEU",
          "DEU",
          "DEU",
          "DEU",
          "DEU",
          "DEU",
          "DEU",
          "DEU",
          "DEU",
          "DEU",
          "DEU",
          "DEU",
          "DEU",
          "DEU",
          "DEU",
          "DEU",
          "DEU",
          "DEU",
          "DEU",
          "DEU",
          "DEU",
          "DEU",
          "DEU",
          "DEU",
          "DEU",
          "DEU",
          "DEU",
          "DEU",
          "DEU",
          "DEU",
          "DEU",
          "DEU",
          "DEU",
          "DEU",
          "DEU",
          "DEU",
          "DEU",
          "DEU",
          "DEU",
          "DEU",
          "DEU",
          "DEU",
          "DEU",
          "DEU",
          "DEU",
          "DEU",
          "DEU",
          "DEU",
          "DEU",
          "DEU",
          "DEU",
          "DEU",
          "DEU",
          "DEU",
          "DEU",
          "DEU",
          "DEU",
          "DEU",
          "DEU",
          "DEU",
          "DEU",
          "DEU",
          "DEU",
          "DEU",
          "DEU",
          "DEU",
          "DEU",
          "DEU",
          "DEU",
          "DEU",
          "DEU",
          "DEU",
          "DEU",
          "DEU",
          "DEU",
          "DEU",
          "DEU",
          "DEU",
          "DEU",
          "DEU",
          "DEU",
          "DEU",
          "DEU",
          "DEU",
          "DEU",
          "DEU",
          "DEU",
          "DEU",
          "DEU",
          "DEU",
          "DEU",
          "DEU",
          "DEU",
          "DEU",
          "DEU",
          "DEU",
          "DEU",
          "DEU",
          "DEU",
          "DEU",
          "DEU",
          "DEU",
          "DEU",
          "DEU",
          "DEU",
          "DEU",
          "DEU",
          "DEU",
          "DEU",
          "DEU",
          "DEU",
          "DEU",
          "DEU",
          "DEU",
          "DEU",
          "DEU",
          "DEU",
          "DEU",
          "DEU",
          "DEU",
          "DEU",
          "DEU",
          "DEU",
          "DEU",
          "DEU",
          "DEU",
          "DEU",
          "DEU",
          "DEU",
          "DEU",
          "DEU",
          "DEU",
          "DEU",
          "DEU",
          "DEU",
          "DEU",
          "DEU",
          "DEU",
          "DEU",
          "DEU",
          "DEU",
          "DEU",
          "DEU",
          "DEU",
          "DEU",
          "DEU",
          "DEU",
          "DEU",
          "DEU",
          "DEU",
          "DEU",
          "DEU",
          "DEU",
          "DEU",
          "DEU",
          "DEU",
          "DEU",
          "DEU",
          "DEU",
          "DEU",
          "DEU",
          "DEU",
          "DEU",
          "DEU",
          "DEU",
          "DEU",
          "DEU",
          "DEU",
          "DEU",
          "DEU",
          "DEU",
          "DEU",
          "DEU",
          "DEU",
          "DEU",
          "DEU",
          "DEU",
          "DEU",
          "DEU",
          "DEU",
          "DEU",
          "DEU",
          "DEU",
          "DEU",
          "DEU",
          "DEU",
          "DEU",
          "DEU",
          "DEU",
          "DEU",
          "DEU",
          "DEU",
          "DEU",
          "DEU",
          "DEU",
          "DEU",
          "DEU",
          "DEU",
          "DEU",
          "DEU",
          "DEU",
          "DEU",
          "DEU",
          "DEU",
          "DEU",
          "DEU",
          "DEU",
          "DEU",
          "DEU",
          "DEU",
          "DEU",
          "DEU",
          "DEU",
          "DEU",
          "DEU",
          "DEU",
          "DEU",
          "DEU",
          "DEU",
          "DEU",
          "DEU",
          "DEU",
          "DEU",
          "DEU",
          "DEU",
          "DEU",
          "DEU",
          "DEU",
          "DEU",
          "DEU",
          "DEU",
          "DEU",
          "DEU",
          "DEU",
          "DEU",
          "DEU",
          "DEU",
          "DEU",
          "DEU",
          "DEU",
          "DEU",
          "DEU",
          "DEU",
          "DEU",
          "DEU",
          "DEU",
          "DEU",
          "DEU",
          "DEU",
          "DEU",
          "DEU",
          "DEU",
          "DEU",
          "DEU",
          "DEU",
          "DEU",
          "DEU",
          "DEU",
          "DEU",
          "DEU",
          "DEU",
          "DEU",
          "DEU",
          "DEU",
          "DEU",
          "DEU",
          "DEU",
          "DEU",
          "DEU",
          "DEU",
          "DEU",
          "DEU",
          "DEU",
          "DEU",
          "DEU",
          "DEU",
          "DEU",
          "DEU",
          "DEU",
          "DEU",
          "DEU",
          "DEU",
          "DEU",
          "DEU",
          "DEU",
          "DEU",
          "DEU",
          "DEU",
          "DEU",
          "DEU",
          "DEU",
          "DEU",
          "DEU",
          "DEU",
          "DEU",
          "DEU",
          "DEU",
          "DEU",
          "DEU",
          "DEU",
          "DEU",
          "DEU",
          "DEU",
          "DEU",
          "DEU",
          "DEU",
          "DEU",
          "DEU",
          "DEU",
          "DEU",
          "DEU",
          "DEU",
          "DEU",
          "DEU",
          "DEU",
          "DEU",
          "DEU",
          "DEU",
          "DEU",
          "DEU",
          "DEU",
          "DEU",
          "DEU",
          "DEU",
          "DEU",
          "DEU",
          "DEU",
          "DEU",
          "DEU",
          "DEU",
          "DEU",
          "DEU",
          "DEU",
          "DEU",
          "DEU",
          "DEU",
          "DEU",
          "DEU",
          "DEU",
          "DEU",
          "DEU",
          "DEU",
          "DEU",
          "DEU",
          "DEU",
          "DEU",
          "DEU",
          "DEU",
          "DEU",
          "DEU",
          "DEU",
          "DEU",
          "DEU",
          "DEU",
          "DEU",
          "DEU",
          "DEU",
          "DEU",
          "DEU",
          "DEU",
          "DEU",
          "DEU",
          "DEU",
          "DEU",
          "DEU",
          "DEU",
          "DEU",
          "DEU",
          "DEU",
          "DEU",
          "DEU",
          "DEU",
          "DEU",
          "DEU",
          "DEU",
          "DEU",
          "DEU",
          "DEU",
          "DEU",
          "DEU",
          "DEU",
          "DEU",
          "DEU",
          "DEU",
          "DEU",
          "DEU",
          "DEU",
          "DEU",
          "DEU",
          "DEU",
          "DEU",
          "DEU",
          "DEU",
          "DEU",
          "DEU",
          "DEU",
          "DEU",
          "DEU",
          "DEU",
          "DEU",
          "DEU",
          "DEU",
          "DEU",
          "DEU",
          "DEU",
          "DEU",
          "DEU",
          "DEU",
          "DEU",
          "DEU",
          "DEU",
          "DEU",
          "DEU",
          "DEU",
          "DEU",
          "DEU",
          "DEU",
          "DEU",
          "DEU",
          "DEU",
          "DEU",
          "DEU",
          "DEU",
          "DEU",
          "DEU",
          "DEU",
          "DEU",
          "DEU",
          "DEU",
          "DEU",
          "DEU",
          "DEU",
          "DEU",
          "DEU",
          "DEU",
          "DEU",
          "DEU",
          "DEU",
          "DEU",
          "DEU",
          "DEU",
          "DEU",
          "DEU",
          "DEU",
          "DEU",
          "DEU",
          "DEU",
          "DEU",
          "DEU",
          "DEU",
          "DEU",
          "DEU",
          "DEU",
          "DEU",
          "DEU",
          "DEU",
          "DEU",
          "DEU",
          "DEU",
          "DEU",
          "DEU",
          "DEU",
          "DEU",
          "DEU",
          "DEU",
          "DEU",
          "DEU",
          "DEU",
          "DEU",
          "DEU",
          "DEU",
          "DEU",
          "DEU",
          "DEU",
          "DEU",
          "DEU",
          "DEU",
          "DEU",
          "DEU",
          "DEU",
          "DEU",
          "DEU",
          "DEU",
          "DEU",
          "DEU",
          "DEU",
          "DEU",
          "DEU",
          "DEU",
          "DEU",
          "DEU",
          "DEU",
          "DEU",
          "DEU",
          "DEU",
          "DEU",
          "DEU",
          "DEU",
          "DEU",
          "DEU",
          "DEU",
          "DEU",
          "DEU",
          "DEU",
          "DEU",
          "DEU",
          "DEU",
          "DEU",
          "DEU",
          "DEU",
          "DEU",
          "DEU",
          "DEU",
          "DEU",
          "DEU",
          "DEU",
          "DEU",
          "DEU",
          "DEU",
          "DEU",
          "DEU",
          "DEU",
          "DEU",
          "DEU",
          "DEU",
          "DEU",
          "DEU",
          "DEU",
          "DEU",
          "DEU",
          "DEU",
          "DEU",
          "DEU",
          "DEU",
          "DEU",
          "DEU",
          "DEU",
          "DEU",
          "DEU",
          "DEU",
          "DEU",
          "DEU",
          "DEU",
          "DEU",
          "DEU",
          "DEU",
          "DEU",
          "DEU",
          "DEU",
          "DEU",
          "DEU",
          "DEU",
          "DEU",
          "DEU",
          "DEU",
          "DEU",
          "DEU",
          "DEU",
          "DEU",
          "DEU",
          "DEU",
          "DEU",
          "DEU",
          "DEU",
          "DEU",
          "DEU",
          "DEU",
          "DEU",
          "DEU",
          "DEU",
          "DEU",
          "DEU",
          "DEU",
          "DEU",
          "DEU",
          "DEU",
          "DEU",
          "DEU",
          "DEU",
          "DEU",
          "DEU",
          "DEU",
          "DEU",
          "DEU",
          "DEU",
          "DEU",
          "DEU",
          "DEU",
          "DEU",
          "DEU",
          "DEU",
          "DEU",
          "DEU",
          "DEU",
          "DEU",
          "DEU",
          "DEU",
          "DEU",
          "DEU",
          "DEU",
          "DEU",
          "DEU",
          "DEU",
          "DEU",
          "DEU",
          "DEU",
          "DEU",
          "DEU",
          "DEU",
          "DEU",
          "DEU",
          "DEU",
          "DEU",
          "DEU",
          "DEU",
          "DEU",
          "DEU",
          "DEU",
          "DEU",
          "DEU",
          "DEU",
          "DEU",
          "DEU",
          "DEU",
          "DEU",
          "DEU",
          "DEU",
          "DEU",
          "DEU",
          "DEU",
          "DEU",
          "DEU",
          "DEU",
          "DEU",
          "DEU",
          "DEU",
          "DEU",
          "DEU",
          "DEU",
          "DEU",
          "DEU",
          "DEU",
          "DEU",
          "DEU",
          "DEU",
          "DEU",
          "DEU",
          "DEU",
          "DEU",
          "DEU",
          "DEU",
          "DEU",
          "DEU",
          "DEU",
          "DEU",
          "DEU",
          "DEU",
          "DEU",
          "DEU",
          "DEU",
          "DEU",
          "DEU",
          "DEU",
          "DEU",
          "DEU",
          "DEU",
          "DEU",
          "DEU",
          "DEU",
          "DEU",
          "DEU",
          "DEU",
          "DEU",
          "DEU",
          "DEU",
          "DEU",
          "DEU",
          "DEU",
          "DEU",
          "DEU",
          "DEU",
          "DEU",
          "DEU",
          "DEU",
          "DEU",
          "DEU",
          "DEU",
          "DEU",
          "DEU",
          "DEU",
          "DEU",
          "DEU",
          "DEU",
          "DEU",
          "DEU",
          "DEU",
          "DEU",
          "DEU",
          "DEU",
          "DEU",
          "DEU",
          "DEU",
          "DEU",
          "DEU",
          "DEU",
          "DEU",
          "DEU",
          "DEU",
          "DEU",
          "DEU",
          "DEU",
          "DEU",
          "DEU",
          "DEU",
          "DEU",
          "DEU",
          "DEU",
          "DEU",
          "DEU",
          "DEU",
          "DEU",
          "DEU",
          "DEU",
          "DEU",
          "DEU",
          "DEU",
          "DEU",
          "DEU",
          "DEU",
          "DEU",
          "DEU",
          "DEU",
          "DEU",
          "DEU",
          "DEU",
          "DEU",
          "DEU",
          "DEU",
          "DEU",
          "DEU",
          "DEU",
          "DEU",
          "DEU",
          "DEU",
          "DEU",
          "DEU",
          "DEU",
          "DEU",
          "DEU",
          "DEU",
          "DEU",
          "DEU",
          "DEU",
          "DEU",
          "DEU",
          "DEU",
          "DEU",
          "DEU",
          "DEU",
          "DEU",
          "DEU",
          "DEU",
          "DEU",
          "DEU",
          "DEU",
          "DEU",
          "DEU",
          "DEU",
          "DEU",
          "DEU",
          "DEU",
          "DEU",
          "DEU",
          "DEU",
          "DEU",
          "DEU",
          "DEU",
          "DEU",
          "DEU",
          "DEU",
          "DEU",
          "DEU",
          "DEU",
          "DEU",
          "DEU",
          "DEU",
          "DEU",
          "DEU",
          "DEU",
          "DEU",
          "DEU",
          "DEU",
          "DEU",
          "DEU",
          "DEU",
          "DEU",
          "DEU",
          "DEU",
          "DEU",
          "DEU",
          "DEU",
          "DEU",
          "DEU",
          "DEU",
          "DEU",
          "DEU",
          "DEU",
          "DEU",
          "DEU",
          "DEU",
          "DEU",
          "DEU",
          "DEU",
          "DEU",
          "DEU",
          "DEU",
          "DEU",
          "DEU",
          "DEU",
          "DEU",
          "DEU",
          "DEU",
          "DEU",
          "DEU",
          "DEU",
          "DEU",
          "DEU",
          "DEU",
          "DEU",
          "DEU",
          "DEU",
          "DEU",
          "DEU",
          "DEU",
          "DEU",
          "DEU",
          "DEU",
          "DEU",
          "DEU",
          "DEU",
          "DEU",
          "DEU",
          "DEU",
          "DEU",
          "DEU",
          "DEU",
          "DEU",
          "DEU",
          "DEU",
          "DEU",
          "DEU",
          "DEU",
          "DEU",
          "DEU",
          "DEU",
          "DEU",
          "DEU",
          "DEU",
          "DEU",
          "DEU",
          "DEU",
          "DEU",
          "DEU",
          "DEU",
          "DEU",
          "DEU",
          "DEU",
          "DEU",
          "DEU",
          "DEU",
          "DEU",
          "DEU",
          "DEU",
          "DEU",
          "DEU",
          "DEU",
          "DEU",
          "DEU",
          "DEU",
          "DEU",
          "DEU",
          "DEU",
          "DEU",
          "DEU",
          "DEU",
          "DEU",
          "DEU",
          "DEU",
          "DEU",
          "DEU",
          "DEU",
          "DEU",
          "DEU",
          "DEU",
          "DEU",
          "DEU",
          "DEU",
          "DEU",
          "DEU",
          "DEU",
          "DEU",
          "DEU",
          "DEU",
          "DEU",
          "DEU",
          "DEU",
          "DEU",
          "DEU",
          "DEU",
          "DEU",
          "DEU",
          "DEU",
          "DEU",
          "DEU",
          "DEU",
          "DEU",
          "DEU",
          "DEU"
         ],
         "xaxis": "x",
         "yaxis": "y"
        },
        {
         "alignmentgroup": "True",
         "bingroup": "x",
         "hovertemplate": "nationality=%{x}<br>count=%{y}<extra></extra>",
         "legendgroup": "CHE",
         "marker": {
          "color": "#9d95b0",
          "pattern": {
           "shape": ""
          }
         },
         "name": "CHE",
         "offsetgroup": "CHE",
         "orientation": "v",
         "showlegend": true,
         "type": "histogram",
         "x": [
          "CHE",
          "CHE",
          "CHE",
          "CHE",
          "CHE",
          "CHE",
          "CHE",
          "CHE",
          "CHE",
          "CHE",
          "CHE",
          "CHE",
          "CHE",
          "CHE",
          "CHE",
          "CHE",
          "CHE",
          "CHE",
          "CHE",
          "CHE",
          "CHE",
          "CHE",
          "CHE",
          "CHE",
          "CHE",
          "CHE",
          "CHE",
          "CHE",
          "CHE",
          "CHE",
          "CHE",
          "CHE",
          "CHE",
          "CHE",
          "CHE",
          "CHE",
          "CHE",
          "CHE",
          "CHE",
          "CHE",
          "CHE",
          "CHE",
          "CHE",
          "CHE",
          "CHE",
          "CHE",
          "CHE",
          "CHE",
          "CHE",
          "CHE",
          "CHE",
          "CHE",
          "CHE",
          "CHE",
          "CHE",
          "CHE",
          "CHE",
          "CHE",
          "CHE",
          "CHE",
          "CHE",
          "CHE",
          "CHE",
          "CHE",
          "CHE",
          "CHE",
          "CHE",
          "CHE",
          "CHE",
          "CHE",
          "CHE",
          "CHE",
          "CHE",
          "CHE",
          "CHE",
          "CHE",
          "CHE",
          "CHE",
          "CHE",
          "CHE",
          "CHE",
          "CHE",
          "CHE",
          "CHE",
          "CHE",
          "CHE",
          "CHE",
          "CHE",
          "CHE",
          "CHE",
          "CHE",
          "CHE",
          "CHE",
          "CHE",
          "CHE",
          "CHE",
          "CHE",
          "CHE",
          "CHE"
         ],
         "xaxis": "x",
         "yaxis": "y"
        },
        {
         "alignmentgroup": "True",
         "bingroup": "x",
         "hovertemplate": "nationality=%{x}<br>count=%{y}<extra></extra>",
         "legendgroup": "AUT",
         "marker": {
          "color": "#bea7bb",
          "pattern": {
           "shape": ""
          }
         },
         "name": "AUT",
         "offsetgroup": "AUT",
         "orientation": "v",
         "showlegend": true,
         "type": "histogram",
         "x": [
          "AUT",
          "AUT",
          "AUT",
          "AUT",
          "AUT",
          "AUT",
          "AUT",
          "AUT",
          "AUT",
          "AUT",
          "AUT",
          "AUT",
          "AUT",
          "AUT",
          "AUT",
          "AUT",
          "AUT",
          "AUT",
          "AUT",
          "AUT",
          "AUT",
          "AUT",
          "AUT",
          "AUT",
          "AUT",
          "AUT",
          "AUT",
          "AUT",
          "AUT",
          "AUT",
          "AUT",
          "AUT",
          "AUT",
          "AUT",
          "AUT",
          "AUT",
          "AUT",
          "AUT",
          "AUT",
          "AUT",
          "AUT",
          "AUT",
          "AUT",
          "AUT",
          "AUT",
          "AUT",
          "AUT",
          "AUT",
          "AUT",
          "AUT",
          "AUT",
          "AUT",
          "AUT",
          "AUT",
          "AUT",
          "AUT",
          "AUT",
          "AUT",
          "AUT",
          "AUT",
          "AUT",
          "AUT",
          "AUT",
          "AUT",
          "AUT",
          "AUT",
          "AUT",
          "AUT",
          "AUT",
          "AUT",
          "AUT",
          "AUT",
          "AUT",
          "AUT",
          "AUT",
          "AUT",
          "AUT",
          "AUT",
          "AUT",
          "AUT",
          "AUT",
          "AUT",
          "AUT",
          "AUT",
          "AUT",
          "AUT",
          "AUT",
          "AUT",
          "AUT",
          "AUT",
          "AUT",
          "AUT",
          "AUT",
          "AUT",
          "AUT",
          "AUT",
          "AUT",
          "AUT",
          "AUT",
          "AUT",
          "AUT",
          "AUT",
          "AUT",
          "AUT",
          "AUT",
          "AUT",
          "AUT",
          "AUT",
          "AUT",
          "AUT",
          "AUT",
          "AUT",
          "AUT",
          "AUT",
          "AUT",
          "AUT",
          "AUT",
          "AUT",
          "AUT",
          "AUT",
          "AUT",
          "AUT",
          "AUT",
          "AUT",
          "AUT",
          "AUT",
          "AUT",
          "AUT",
          "AUT",
          "AUT",
          "AUT",
          "AUT",
          "AUT",
          "AUT",
          "AUT",
          "AUT",
          "AUT",
          "AUT",
          "AUT",
          "AUT",
          "AUT",
          "AUT",
          "AUT",
          "AUT",
          "AUT",
          "AUT",
          "AUT",
          "AUT",
          "AUT",
          "AUT",
          "AUT",
          "AUT",
          "AUT",
          "AUT",
          "AUT",
          "AUT",
          "AUT",
          "AUT",
          "AUT",
          "AUT",
          "AUT",
          "AUT",
          "AUT",
          "AUT",
          "AUT",
          "AUT",
          "AUT",
          "AUT",
          "AUT",
          "AUT",
          "AUT",
          "AUT",
          "AUT",
          "AUT",
          "AUT",
          "AUT",
          "AUT",
          "AUT",
          "AUT",
          "AUT",
          "AUT",
          "AUT",
          "AUT",
          "AUT",
          "AUT",
          "AUT",
          "AUT",
          "AUT",
          "AUT",
          "AUT",
          "AUT",
          "AUT",
          "AUT",
          "AUT",
          "AUT",
          "AUT",
          "AUT",
          "AUT",
          "AUT",
          "AUT",
          "AUT",
          "AUT",
          "AUT",
          "AUT",
          "AUT",
          "AUT",
          "AUT",
          "AUT",
          "AUT",
          "AUT",
          "AUT",
          "AUT",
          "AUT",
          "AUT",
          "AUT",
          "AUT",
          "AUT",
          "AUT",
          "AUT",
          "AUT",
          "AUT",
          "AUT",
          "AUT",
          "AUT",
          "AUT",
          "AUT",
          "AUT",
          "AUT",
          "AUT",
          "AUT",
          "AUT",
          "AUT",
          "AUT",
          "AUT",
          "AUT",
          "AUT",
          "AUT",
          "AUT",
          "AUT",
          "AUT",
          "AUT",
          "AUT",
          "AUT",
          "AUT",
          "AUT",
          "AUT",
          "AUT",
          "AUT",
          "AUT",
          "AUT",
          "AUT",
          "AUT",
          "AUT",
          "AUT",
          "AUT",
          "AUT",
          "AUT",
          "AUT",
          "AUT",
          "AUT",
          "AUT",
          "AUT",
          "AUT",
          "AUT",
          "AUT",
          "AUT",
          "AUT",
          "AUT",
          "AUT",
          "AUT",
          "AUT",
          "AUT",
          "AUT",
          "AUT",
          "AUT"
         ],
         "xaxis": "x",
         "yaxis": "y"
        },
        {
         "alignmentgroup": "True",
         "bingroup": "x",
         "hovertemplate": "nationality=%{x}<br>count=%{y}<extra></extra>",
         "legendgroup": "POL",
         "marker": {
          "color": "#f2c1a6",
          "pattern": {
           "shape": ""
          }
         },
         "name": "POL",
         "offsetgroup": "POL",
         "orientation": "v",
         "showlegend": true,
         "type": "histogram",
         "x": [
          "POL",
          "POL",
          "POL",
          "POL",
          "POL",
          "POL"
         ],
         "xaxis": "x",
         "yaxis": "y"
        }
       ],
       "layout": {
        "barmode": "relative",
        "height": 650,
        "legend": {
         "title": {
          "text": "nationality"
         },
         "tracegroupgap": 0
        },
        "paper_bgcolor": "#feba67",
        "plot_bgcolor": "#ffbb91",
        "template": {
         "data": {
          "bar": [
           {
            "error_x": {
             "color": "#2a3f5f"
            },
            "error_y": {
             "color": "#2a3f5f"
            },
            "marker": {
             "line": {
              "color": "#E5ECF6",
              "width": 0.5
             },
             "pattern": {
              "fillmode": "overlay",
              "size": 10,
              "solidity": 0.2
             }
            },
            "type": "bar"
           }
          ],
          "barpolar": [
           {
            "marker": {
             "line": {
              "color": "#E5ECF6",
              "width": 0.5
             },
             "pattern": {
              "fillmode": "overlay",
              "size": 10,
              "solidity": 0.2
             }
            },
            "type": "barpolar"
           }
          ],
          "carpet": [
           {
            "aaxis": {
             "endlinecolor": "#2a3f5f",
             "gridcolor": "white",
             "linecolor": "white",
             "minorgridcolor": "white",
             "startlinecolor": "#2a3f5f"
            },
            "baxis": {
             "endlinecolor": "#2a3f5f",
             "gridcolor": "white",
             "linecolor": "white",
             "minorgridcolor": "white",
             "startlinecolor": "#2a3f5f"
            },
            "type": "carpet"
           }
          ],
          "choropleth": [
           {
            "colorbar": {
             "outlinewidth": 0,
             "ticks": ""
            },
            "type": "choropleth"
           }
          ],
          "contour": [
           {
            "colorbar": {
             "outlinewidth": 0,
             "ticks": ""
            },
            "colorscale": [
             [
              0,
              "#0d0887"
             ],
             [
              0.1111111111111111,
              "#46039f"
             ],
             [
              0.2222222222222222,
              "#7201a8"
             ],
             [
              0.3333333333333333,
              "#9c179e"
             ],
             [
              0.4444444444444444,
              "#bd3786"
             ],
             [
              0.5555555555555556,
              "#d8576b"
             ],
             [
              0.6666666666666666,
              "#ed7953"
             ],
             [
              0.7777777777777778,
              "#fb9f3a"
             ],
             [
              0.8888888888888888,
              "#fdca26"
             ],
             [
              1,
              "#f0f921"
             ]
            ],
            "type": "contour"
           }
          ],
          "contourcarpet": [
           {
            "colorbar": {
             "outlinewidth": 0,
             "ticks": ""
            },
            "type": "contourcarpet"
           }
          ],
          "heatmap": [
           {
            "colorbar": {
             "outlinewidth": 0,
             "ticks": ""
            },
            "colorscale": [
             [
              0,
              "#0d0887"
             ],
             [
              0.1111111111111111,
              "#46039f"
             ],
             [
              0.2222222222222222,
              "#7201a8"
             ],
             [
              0.3333333333333333,
              "#9c179e"
             ],
             [
              0.4444444444444444,
              "#bd3786"
             ],
             [
              0.5555555555555556,
              "#d8576b"
             ],
             [
              0.6666666666666666,
              "#ed7953"
             ],
             [
              0.7777777777777778,
              "#fb9f3a"
             ],
             [
              0.8888888888888888,
              "#fdca26"
             ],
             [
              1,
              "#f0f921"
             ]
            ],
            "type": "heatmap"
           }
          ],
          "heatmapgl": [
           {
            "colorbar": {
             "outlinewidth": 0,
             "ticks": ""
            },
            "colorscale": [
             [
              0,
              "#0d0887"
             ],
             [
              0.1111111111111111,
              "#46039f"
             ],
             [
              0.2222222222222222,
              "#7201a8"
             ],
             [
              0.3333333333333333,
              "#9c179e"
             ],
             [
              0.4444444444444444,
              "#bd3786"
             ],
             [
              0.5555555555555556,
              "#d8576b"
             ],
             [
              0.6666666666666666,
              "#ed7953"
             ],
             [
              0.7777777777777778,
              "#fb9f3a"
             ],
             [
              0.8888888888888888,
              "#fdca26"
             ],
             [
              1,
              "#f0f921"
             ]
            ],
            "type": "heatmapgl"
           }
          ],
          "histogram": [
           {
            "marker": {
             "pattern": {
              "fillmode": "overlay",
              "size": 10,
              "solidity": 0.2
             }
            },
            "type": "histogram"
           }
          ],
          "histogram2d": [
           {
            "colorbar": {
             "outlinewidth": 0,
             "ticks": ""
            },
            "colorscale": [
             [
              0,
              "#0d0887"
             ],
             [
              0.1111111111111111,
              "#46039f"
             ],
             [
              0.2222222222222222,
              "#7201a8"
             ],
             [
              0.3333333333333333,
              "#9c179e"
             ],
             [
              0.4444444444444444,
              "#bd3786"
             ],
             [
              0.5555555555555556,
              "#d8576b"
             ],
             [
              0.6666666666666666,
              "#ed7953"
             ],
             [
              0.7777777777777778,
              "#fb9f3a"
             ],
             [
              0.8888888888888888,
              "#fdca26"
             ],
             [
              1,
              "#f0f921"
             ]
            ],
            "type": "histogram2d"
           }
          ],
          "histogram2dcontour": [
           {
            "colorbar": {
             "outlinewidth": 0,
             "ticks": ""
            },
            "colorscale": [
             [
              0,
              "#0d0887"
             ],
             [
              0.1111111111111111,
              "#46039f"
             ],
             [
              0.2222222222222222,
              "#7201a8"
             ],
             [
              0.3333333333333333,
              "#9c179e"
             ],
             [
              0.4444444444444444,
              "#bd3786"
             ],
             [
              0.5555555555555556,
              "#d8576b"
             ],
             [
              0.6666666666666666,
              "#ed7953"
             ],
             [
              0.7777777777777778,
              "#fb9f3a"
             ],
             [
              0.8888888888888888,
              "#fdca26"
             ],
             [
              1,
              "#f0f921"
             ]
            ],
            "type": "histogram2dcontour"
           }
          ],
          "mesh3d": [
           {
            "colorbar": {
             "outlinewidth": 0,
             "ticks": ""
            },
            "type": "mesh3d"
           }
          ],
          "parcoords": [
           {
            "line": {
             "colorbar": {
              "outlinewidth": 0,
              "ticks": ""
             }
            },
            "type": "parcoords"
           }
          ],
          "pie": [
           {
            "automargin": true,
            "type": "pie"
           }
          ],
          "scatter": [
           {
            "fillpattern": {
             "fillmode": "overlay",
             "size": 10,
             "solidity": 0.2
            },
            "type": "scatter"
           }
          ],
          "scatter3d": [
           {
            "line": {
             "colorbar": {
              "outlinewidth": 0,
              "ticks": ""
             }
            },
            "marker": {
             "colorbar": {
              "outlinewidth": 0,
              "ticks": ""
             }
            },
            "type": "scatter3d"
           }
          ],
          "scattercarpet": [
           {
            "marker": {
             "colorbar": {
              "outlinewidth": 0,
              "ticks": ""
             }
            },
            "type": "scattercarpet"
           }
          ],
          "scattergeo": [
           {
            "marker": {
             "colorbar": {
              "outlinewidth": 0,
              "ticks": ""
             }
            },
            "type": "scattergeo"
           }
          ],
          "scattergl": [
           {
            "marker": {
             "colorbar": {
              "outlinewidth": 0,
              "ticks": ""
             }
            },
            "type": "scattergl"
           }
          ],
          "scattermapbox": [
           {
            "marker": {
             "colorbar": {
              "outlinewidth": 0,
              "ticks": ""
             }
            },
            "type": "scattermapbox"
           }
          ],
          "scatterpolar": [
           {
            "marker": {
             "colorbar": {
              "outlinewidth": 0,
              "ticks": ""
             }
            },
            "type": "scatterpolar"
           }
          ],
          "scatterpolargl": [
           {
            "marker": {
             "colorbar": {
              "outlinewidth": 0,
              "ticks": ""
             }
            },
            "type": "scatterpolargl"
           }
          ],
          "scatterternary": [
           {
            "marker": {
             "colorbar": {
              "outlinewidth": 0,
              "ticks": ""
             }
            },
            "type": "scatterternary"
           }
          ],
          "surface": [
           {
            "colorbar": {
             "outlinewidth": 0,
             "ticks": ""
            },
            "colorscale": [
             [
              0,
              "#0d0887"
             ],
             [
              0.1111111111111111,
              "#46039f"
             ],
             [
              0.2222222222222222,
              "#7201a8"
             ],
             [
              0.3333333333333333,
              "#9c179e"
             ],
             [
              0.4444444444444444,
              "#bd3786"
             ],
             [
              0.5555555555555556,
              "#d8576b"
             ],
             [
              0.6666666666666666,
              "#ed7953"
             ],
             [
              0.7777777777777778,
              "#fb9f3a"
             ],
             [
              0.8888888888888888,
              "#fdca26"
             ],
             [
              1,
              "#f0f921"
             ]
            ],
            "type": "surface"
           }
          ],
          "table": [
           {
            "cells": {
             "fill": {
              "color": "#EBF0F8"
             },
             "line": {
              "color": "white"
             }
            },
            "header": {
             "fill": {
              "color": "#C8D4E3"
             },
             "line": {
              "color": "white"
             }
            },
            "type": "table"
           }
          ]
         },
         "layout": {
          "annotationdefaults": {
           "arrowcolor": "#2a3f5f",
           "arrowhead": 0,
           "arrowwidth": 1
          },
          "autotypenumbers": "strict",
          "coloraxis": {
           "colorbar": {
            "outlinewidth": 0,
            "ticks": ""
           }
          },
          "colorscale": {
           "diverging": [
            [
             0,
             "#8e0152"
            ],
            [
             0.1,
             "#c51b7d"
            ],
            [
             0.2,
             "#de77ae"
            ],
            [
             0.3,
             "#f1b6da"
            ],
            [
             0.4,
             "#fde0ef"
            ],
            [
             0.5,
             "#f7f7f7"
            ],
            [
             0.6,
             "#e6f5d0"
            ],
            [
             0.7,
             "#b8e186"
            ],
            [
             0.8,
             "#7fbc41"
            ],
            [
             0.9,
             "#4d9221"
            ],
            [
             1,
             "#276419"
            ]
           ],
           "sequential": [
            [
             0,
             "#0d0887"
            ],
            [
             0.1111111111111111,
             "#46039f"
            ],
            [
             0.2222222222222222,
             "#7201a8"
            ],
            [
             0.3333333333333333,
             "#9c179e"
            ],
            [
             0.4444444444444444,
             "#bd3786"
            ],
            [
             0.5555555555555556,
             "#d8576b"
            ],
            [
             0.6666666666666666,
             "#ed7953"
            ],
            [
             0.7777777777777778,
             "#fb9f3a"
            ],
            [
             0.8888888888888888,
             "#fdca26"
            ],
            [
             1,
             "#f0f921"
            ]
           ],
           "sequentialminus": [
            [
             0,
             "#0d0887"
            ],
            [
             0.1111111111111111,
             "#46039f"
            ],
            [
             0.2222222222222222,
             "#7201a8"
            ],
            [
             0.3333333333333333,
             "#9c179e"
            ],
            [
             0.4444444444444444,
             "#bd3786"
            ],
            [
             0.5555555555555556,
             "#d8576b"
            ],
            [
             0.6666666666666666,
             "#ed7953"
            ],
            [
             0.7777777777777778,
             "#fb9f3a"
            ],
            [
             0.8888888888888888,
             "#fdca26"
            ],
            [
             1,
             "#f0f921"
            ]
           ]
          },
          "colorway": [
           "#636efa",
           "#EF553B",
           "#00cc96",
           "#ab63fa",
           "#FFA15A",
           "#19d3f3",
           "#FF6692",
           "#B6E880",
           "#FF97FF",
           "#FECB52"
          ],
          "font": {
           "color": "#2a3f5f"
          },
          "geo": {
           "bgcolor": "white",
           "lakecolor": "white",
           "landcolor": "#E5ECF6",
           "showlakes": true,
           "showland": true,
           "subunitcolor": "white"
          },
          "hoverlabel": {
           "align": "left"
          },
          "hovermode": "closest",
          "mapbox": {
           "style": "light"
          },
          "paper_bgcolor": "white",
          "plot_bgcolor": "#E5ECF6",
          "polar": {
           "angularaxis": {
            "gridcolor": "white",
            "linecolor": "white",
            "ticks": ""
           },
           "bgcolor": "#E5ECF6",
           "radialaxis": {
            "gridcolor": "white",
            "linecolor": "white",
            "ticks": ""
           }
          },
          "scene": {
           "xaxis": {
            "backgroundcolor": "#E5ECF6",
            "gridcolor": "white",
            "gridwidth": 2,
            "linecolor": "white",
            "showbackground": true,
            "ticks": "",
            "zerolinecolor": "white"
           },
           "yaxis": {
            "backgroundcolor": "#E5ECF6",
            "gridcolor": "white",
            "gridwidth": 2,
            "linecolor": "white",
            "showbackground": true,
            "ticks": "",
            "zerolinecolor": "white"
           },
           "zaxis": {
            "backgroundcolor": "#E5ECF6",
            "gridcolor": "white",
            "gridwidth": 2,
            "linecolor": "white",
            "showbackground": true,
            "ticks": "",
            "zerolinecolor": "white"
           }
          },
          "shapedefaults": {
           "line": {
            "color": "#2a3f5f"
           }
          },
          "ternary": {
           "aaxis": {
            "gridcolor": "white",
            "linecolor": "white",
            "ticks": ""
           },
           "baxis": {
            "gridcolor": "white",
            "linecolor": "white",
            "ticks": ""
           },
           "bgcolor": "#E5ECF6",
           "caxis": {
            "gridcolor": "white",
            "linecolor": "white",
            "ticks": ""
           }
          },
          "title": {
           "x": 0.05
          },
          "xaxis": {
           "automargin": true,
           "gridcolor": "white",
           "linecolor": "white",
           "ticks": "",
           "title": {
            "standoff": 15
           },
           "zerolinecolor": "white",
           "zerolinewidth": 2
          },
          "yaxis": {
           "automargin": true,
           "gridcolor": "white",
           "linecolor": "white",
           "ticks": "",
           "title": {
            "standoff": 15
           },
           "zerolinecolor": "white",
           "zerolinewidth": 2
          }
         }
        },
        "title": {
         "font": {
          "color": "#122630",
          "size": 28
         },
         "text": "Fig 1: Distribution of texts by nationality of<br>author",
         "yref": "paper"
        },
        "width": 750,
        "xaxis": {
         "anchor": "y",
         "autorange": true,
         "categoryarray": [
          "DEU",
          "CHE",
          "AUT",
          "POL"
         ],
         "categoryorder": "total descending",
         "domain": [
          0,
          1
         ],
         "range": [
          -0.5,
          3.5
         ],
         "showgrid": false,
         "title": {
          "text": "nationality"
         },
         "type": "category"
        },
        "yaxis": {
         "anchor": "x",
         "autorange": true,
         "domain": [
          0,
          1
         ],
         "range": [
          0,
          1456.842105263158
         ],
         "showgrid": false,
         "title": {
          "text": "count"
         }
        }
       }
      },
      "image/png": "[encoded data removed]",
      "text/html": [
       "<div>                            <div id=\"e74d9c9d-bc75-4ef4-b652-3b3e1114b524\" class=\"plotly-graph-div\" style=\"height:650px; width:750px;\"></div>            <script type=\"text/javascript\">                require([\"plotly\"], function(Plotly) {                    window.PLOTLYENV=window.PLOTLYENV || {};                                    if (document.getElementById(\"e74d9c9d-bc75-4ef4-b652-3b3e1114b524\")) {                    Plotly.newPlot(                        \"e74d9c9d-bc75-4ef4-b652-3b3e1114b524\",                        [{\"alignmentgroup\":\"True\",\"bingroup\":\"x\",\"hovertemplate\":\"nationality=%{x}\\u003cbr\\u003ecount=%{y}\\u003cextra\\u003e\\u003c\\u002fextra\\u003e\",\"legendgroup\":\"DEU\",\"marker\":{\"color\":\"#053c6c\",\"pattern\":{\"shape\":\"\"}},\"name\":\"DEU\",\"offsetgroup\":\"DEU\",\"orientation\":\"v\",\"showlegend\":true,\"x\":[\"DEU\",\"DEU\",\"DEU\",\"DEU\",\"DEU\",\"DEU\",\"DEU\",\"DEU\",\"DEU\",\"DEU\",\"DEU\",\"DEU\",\"DEU\",\"DEU\",\"DEU\",\"DEU\",\"DEU\",\"DEU\",\"DEU\",\"DEU\",\"DEU\",\"DEU\",\"DEU\",\"DEU\",\"DEU\",\"DEU\",\"DEU\",\"DEU\",\"DEU\",\"DEU\",\"DEU\",\"DEU\",\"DEU\",\"DEU\",\"DEU\",\"DEU\",\"DEU\",\"DEU\",\"DEU\",\"DEU\",\"DEU\",\"DEU\",\"DEU\",\"DEU\",\"DEU\",\"DEU\",\"DEU\",\"DEU\",\"DEU\",\"DEU\",\"DEU\",\"DEU\",\"DEU\",\"DEU\",\"DEU\",\"DEU\",\"DEU\",\"DEU\",\"DEU\",\"DEU\",\"DEU\",\"DEU\",\"DEU\",\"DEU\",\"DEU\",\"DEU\",\"DEU\",\"DEU\",\"DEU\",\"DEU\",\"DEU\",\"DEU\",\"DEU\",\"DEU\",\"DEU\",\"DEU\",\"DEU\",\"DEU\",\"DEU\",\"DEU\",\"DEU\",\"DEU\",\"DEU\",\"DEU\",\"DEU\",\"DEU\",\"DEU\",\"DEU\",\"DEU\",\"DEU\",\"DEU\",\"DEU\",\"DEU\",\"DEU\",\"DEU\",\"DEU\",\"DEU\",\"DEU\",\"DEU\",\"DEU\",\"DEU\",\"DEU\",\"DEU\",\"DEU\",\"DEU\",\"DEU\",\"DEU\",\"DEU\",\"DEU\",\"DEU\",\"DEU\",\"DEU\",\"DEU\",\"DEU\",\"DEU\",\"DEU\",\"DEU\",\"DEU\",\"DEU\",\"DEU\",\"DEU\",\"DEU\",\"DEU\",\"DEU\",\"DEU\",\"DEU\",\"DEU\",\"DEU\",\"DEU\",\"DEU\",\"DEU\",\"DEU\",\"DEU\",\"DEU\",\"DEU\",\"DEU\",\"DEU\",\"DEU\",\"DEU\",\"DEU\",\"DEU\",\"DEU\",\"DEU\",\"DEU\",\"DEU\",\"DEU\",\"DEU\",\"DEU\",\"DEU\",\"DEU\",\"DEU\",\"DEU\",\"DEU\",\"DEU\",\"DEU\",\"DEU\",\"DEU\",\"DEU\",\"DEU\",\"DEU\",\"DEU\",\"DEU\",\"DEU\",\"DEU\",\"DEU\",\"DEU\",\"DEU\",\"DEU\",\"DEU\",\"DEU\",\"DEU\",\"DEU\",\"DEU\",\"DEU\",\"DEU\",\"DEU\",\"DEU\",\"DEU\",\"DEU\",\"DEU\",\"DEU\",\"DEU\",\"DEU\",\"DEU\",\"DEU\",\"DEU\",\"DEU\",\"DEU\",\"DEU\",\"DEU\",\"DEU\",\"DEU\",\"DEU\",\"DEU\",\"DEU\",\"DEU\",\"DEU\",\"DEU\",\"DEU\",\"DEU\",\"DEU\",\"DEU\",\"DEU\",\"DEU\",\"DEU\",\"DEU\",\"DEU\",\"DEU\",\"DEU\",\"DEU\",\"DEU\",\"DEU\",\"DEU\",\"DEU\",\"DEU\",\"DEU\",\"DEU\",\"DEU\",\"DEU\",\"DEU\",\"DEU\",\"DEU\",\"DEU\",\"DEU\",\"DEU\",\"DEU\",\"DEU\",\"DEU\",\"DEU\",\"DEU\",\"DEU\",\"DEU\",\"DEU\",\"DEU\",\"DEU\",\"DEU\",\"DEU\",\"DEU\",\"DEU\",\"DEU\",\"DEU\",\"DEU\",\"DEU\",\"DEU\",\"DEU\",\"DEU\",\"DEU\",\"DEU\",\"DEU\",\"DEU\",\"DEU\",\"DEU\",\"DEU\",\"DEU\",\"DEU\",\"DEU\",\"DEU\",\"DEU\",\"DEU\",\"DEU\",\"DEU\",\"DEU\",\"DEU\",\"DEU\",\"DEU\",\"DEU\",\"DEU\",\"DEU\",\"DEU\",\"DEU\",\"DEU\",\"DEU\",\"DEU\",\"DEU\",\"DEU\",\"DEU\",\"DEU\",\"DEU\",\"DEU\",\"DEU\",\"DEU\",\"DEU\",\"DEU\",\"DEU\",\"DEU\",\"DEU\",\"DEU\",\"DEU\",\"DEU\",\"DEU\",\"DEU\",\"DEU\",\"DEU\",\"DEU\",\"DEU\",\"DEU\",\"DEU\",\"DEU\",\"DEU\",\"DEU\",\"DEU\",\"DEU\",\"DEU\",\"DEU\",\"DEU\",\"DEU\",\"DEU\",\"DEU\",\"DEU\",\"DEU\",\"DEU\",\"DEU\",\"DEU\",\"DEU\",\"DEU\",\"DEU\",\"DEU\",\"DEU\",\"DEU\",\"DEU\",\"DEU\",\"DEU\",\"DEU\",\"DEU\",\"DEU\",\"DEU\",\"DEU\",\"DEU\",\"DEU\",\"DEU\",\"DEU\",\"DEU\",\"DEU\",\"DEU\",\"DEU\",\"DEU\",\"DEU\",\"DEU\",\"DEU\",\"DEU\",\"DEU\",\"DEU\",\"DEU\",\"DEU\",\"DEU\",\"DEU\",\"DEU\",\"DEU\",\"DEU\",\"DEU\",\"DEU\",\"DEU\",\"DEU\",\"DEU\",\"DEU\",\"DEU\",\"DEU\",\"DEU\",\"DEU\",\"DEU\",\"DEU\",\"DEU\",\"DEU\",\"DEU\",\"DEU\",\"DEU\",\"DEU\",\"DEU\",\"DEU\",\"DEU\",\"DEU\",\"DEU\",\"DEU\",\"DEU\",\"DEU\",\"DEU\",\"DEU\",\"DEU\",\"DEU\",\"DEU\",\"DEU\",\"DEU\",\"DEU\",\"DEU\",\"DEU\",\"DEU\",\"DEU\",\"DEU\",\"DEU\",\"DEU\",\"DEU\",\"DEU\",\"DEU\",\"DEU\",\"DEU\",\"DEU\",\"DEU\",\"DEU\",\"DEU\",\"DEU\",\"DEU\",\"DEU\",\"DEU\",\"DEU\",\"DEU\",\"DEU\",\"DEU\",\"DEU\",\"DEU\",\"DEU\",\"DEU\",\"DEU\",\"DEU\",\"DEU\",\"DEU\",\"DEU\",\"DEU\",\"DEU\",\"DEU\",\"DEU\",\"DEU\",\"DEU\",\"DEU\",\"DEU\",\"DEU\",\"DEU\",\"DEU\",\"DEU\",\"DEU\",\"DEU\",\"DEU\",\"DEU\",\"DEU\",\"DEU\",\"DEU\",\"DEU\",\"DEU\",\"DEU\",\"DEU\",\"DEU\",\"DEU\",\"DEU\",\"DEU\",\"DEU\",\"DEU\",\"DEU\",\"DEU\",\"DEU\",\"DEU\",\"DEU\",\"DEU\",\"DEU\",\"DEU\",\"DEU\",\"DEU\",\"DEU\",\"DEU\",\"DEU\",\"DEU\",\"DEU\",\"DEU\",\"DEU\",\"DEU\",\"DEU\",\"DEU\",\"DEU\",\"DEU\",\"DEU\",\"DEU\",\"DEU\",\"DEU\",\"DEU\",\"DEU\",\"DEU\",\"DEU\",\"DEU\",\"DEU\",\"DEU\",\"DEU\",\"DEU\",\"DEU\",\"DEU\",\"DEU\",\"DEU\",\"DEU\",\"DEU\",\"DEU\",\"DEU\",\"DEU\",\"DEU\",\"DEU\",\"DEU\",\"DEU\",\"DEU\",\"DEU\",\"DEU\",\"DEU\",\"DEU\",\"DEU\",\"DEU\",\"DEU\",\"DEU\",\"DEU\",\"DEU\",\"DEU\",\"DEU\",\"DEU\",\"DEU\",\"DEU\",\"DEU\",\"DEU\",\"DEU\",\"DEU\",\"DEU\",\"DEU\",\"DEU\",\"DEU\",\"DEU\",\"DEU\",\"DEU\",\"DEU\",\"DEU\",\"DEU\",\"DEU\",\"DEU\",\"DEU\",\"DEU\",\"DEU\",\"DEU\",\"DEU\",\"DEU\",\"DEU\",\"DEU\",\"DEU\",\"DEU\",\"DEU\",\"DEU\",\"DEU\",\"DEU\",\"DEU\",\"DEU\",\"DEU\",\"DEU\",\"DEU\",\"DEU\",\"DEU\",\"DEU\",\"DEU\",\"DEU\",\"DEU\",\"DEU\",\"DEU\",\"DEU\",\"DEU\",\"DEU\",\"DEU\",\"DEU\",\"DEU\",\"DEU\",\"DEU\",\"DEU\",\"DEU\",\"DEU\",\"DEU\",\"DEU\",\"DEU\",\"DEU\",\"DEU\",\"DEU\",\"DEU\",\"DEU\",\"DEU\",\"DEU\",\"DEU\",\"DEU\",\"DEU\",\"DEU\",\"DEU\",\"DEU\",\"DEU\",\"DEU\",\"DEU\",\"DEU\",\"DEU\",\"DEU\",\"DEU\",\"DEU\",\"DEU\",\"DEU\",\"DEU\",\"DEU\",\"DEU\",\"DEU\",\"DEU\",\"DEU\",\"DEU\",\"DEU\",\"DEU\",\"DEU\",\"DEU\",\"DEU\",\"DEU\",\"DEU\",\"DEU\",\"DEU\",\"DEU\",\"DEU\",\"DEU\",\"DEU\",\"DEU\",\"DEU\",\"DEU\",\"DEU\",\"DEU\",\"DEU\",\"DEU\",\"DEU\",\"DEU\",\"DEU\",\"DEU\",\"DEU\",\"DEU\",\"DEU\",\"DEU\",\"DEU\",\"DEU\",\"DEU\",\"DEU\",\"DEU\",\"DEU\",\"DEU\",\"DEU\",\"DEU\",\"DEU\",\"DEU\",\"DEU\",\"DEU\",\"DEU\",\"DEU\",\"DEU\",\"DEU\",\"DEU\",\"DEU\",\"DEU\",\"DEU\",\"DEU\",\"DEU\",\"DEU\",\"DEU\",\"DEU\",\"DEU\",\"DEU\",\"DEU\",\"DEU\",\"DEU\",\"DEU\",\"DEU\",\"DEU\",\"DEU\",\"DEU\",\"DEU\",\"DEU\",\"DEU\",\"DEU\",\"DEU\",\"DEU\",\"DEU\",\"DEU\",\"DEU\",\"DEU\",\"DEU\",\"DEU\",\"DEU\",\"DEU\",\"DEU\",\"DEU\",\"DEU\",\"DEU\",\"DEU\",\"DEU\",\"DEU\",\"DEU\",\"DEU\",\"DEU\",\"DEU\",\"DEU\",\"DEU\",\"DEU\",\"DEU\",\"DEU\",\"DEU\",\"DEU\",\"DEU\",\"DEU\",\"DEU\",\"DEU\",\"DEU\",\"DEU\",\"DEU\",\"DEU\",\"DEU\",\"DEU\",\"DEU\",\"DEU\",\"DEU\",\"DEU\",\"DEU\",\"DEU\",\"DEU\",\"DEU\",\"DEU\",\"DEU\",\"DEU\",\"DEU\",\"DEU\",\"DEU\",\"DEU\",\"DEU\",\"DEU\",\"DEU\",\"DEU\",\"DEU\",\"DEU\",\"DEU\",\"DEU\",\"DEU\",\"DEU\",\"DEU\",\"DEU\",\"DEU\",\"DEU\",\"DEU\",\"DEU\",\"DEU\",\"DEU\",\"DEU\",\"DEU\",\"DEU\",\"DEU\",\"DEU\",\"DEU\",\"DEU\",\"DEU\",\"DEU\",\"DEU\",\"DEU\",\"DEU\",\"DEU\",\"DEU\",\"DEU\",\"DEU\",\"DEU\",\"DEU\",\"DEU\",\"DEU\",\"DEU\",\"DEU\",\"DEU\",\"DEU\",\"DEU\",\"DEU\",\"DEU\",\"DEU\",\"DEU\",\"DEU\",\"DEU\",\"DEU\",\"DEU\",\"DEU\",\"DEU\",\"DEU\",\"DEU\",\"DEU\",\"DEU\",\"DEU\",\"DEU\",\"DEU\",\"DEU\",\"DEU\",\"DEU\",\"DEU\",\"DEU\",\"DEU\",\"DEU\",\"DEU\",\"DEU\",\"DEU\",\"DEU\",\"DEU\",\"DEU\",\"DEU\",\"DEU\",\"DEU\",\"DEU\",\"DEU\",\"DEU\",\"DEU\",\"DEU\",\"DEU\",\"DEU\",\"DEU\",\"DEU\",\"DEU\",\"DEU\",\"DEU\",\"DEU\",\"DEU\",\"DEU\",\"DEU\",\"DEU\",\"DEU\",\"DEU\",\"DEU\",\"DEU\",\"DEU\",\"DEU\",\"DEU\",\"DEU\",\"DEU\",\"DEU\",\"DEU\",\"DEU\",\"DEU\",\"DEU\",\"DEU\",\"DEU\",\"DEU\",\"DEU\",\"DEU\",\"DEU\",\"DEU\",\"DEU\",\"DEU\",\"DEU\",\"DEU\",\"DEU\",\"DEU\",\"DEU\",\"DEU\",\"DEU\",\"DEU\",\"DEU\",\"DEU\",\"DEU\",\"DEU\",\"DEU\",\"DEU\",\"DEU\",\"DEU\",\"DEU\",\"DEU\",\"DEU\",\"DEU\",\"DEU\",\"DEU\",\"DEU\",\"DEU\",\"DEU\",\"DEU\",\"DEU\",\"DEU\",\"DEU\",\"DEU\",\"DEU\",\"DEU\",\"DEU\",\"DEU\",\"DEU\",\"DEU\",\"DEU\",\"DEU\",\"DEU\",\"DEU\",\"DEU\",\"DEU\",\"DEU\",\"DEU\",\"DEU\",\"DEU\",\"DEU\",\"DEU\",\"DEU\",\"DEU\",\"DEU\",\"DEU\",\"DEU\",\"DEU\",\"DEU\",\"DEU\",\"DEU\",\"DEU\",\"DEU\",\"DEU\",\"DEU\",\"DEU\",\"DEU\",\"DEU\",\"DEU\",\"DEU\",\"DEU\",\"DEU\",\"DEU\",\"DEU\",\"DEU\",\"DEU\",\"DEU\",\"DEU\",\"DEU\",\"DEU\",\"DEU\",\"DEU\",\"DEU\",\"DEU\",\"DEU\",\"DEU\",\"DEU\",\"DEU\",\"DEU\",\"DEU\",\"DEU\",\"DEU\",\"DEU\",\"DEU\",\"DEU\",\"DEU\",\"DEU\",\"DEU\",\"DEU\",\"DEU\",\"DEU\",\"DEU\",\"DEU\",\"DEU\",\"DEU\",\"DEU\",\"DEU\",\"DEU\",\"DEU\",\"DEU\",\"DEU\",\"DEU\",\"DEU\",\"DEU\",\"DEU\",\"DEU\",\"DEU\",\"DEU\",\"DEU\",\"DEU\",\"DEU\",\"DEU\",\"DEU\",\"DEU\",\"DEU\",\"DEU\",\"DEU\",\"DEU\",\"DEU\",\"DEU\",\"DEU\",\"DEU\",\"DEU\",\"DEU\",\"DEU\",\"DEU\",\"DEU\",\"DEU\",\"DEU\",\"DEU\",\"DEU\",\"DEU\",\"DEU\",\"DEU\",\"DEU\",\"DEU\",\"DEU\",\"DEU\",\"DEU\",\"DEU\",\"DEU\",\"DEU\",\"DEU\",\"DEU\",\"DEU\",\"DEU\",\"DEU\",\"DEU\",\"DEU\",\"DEU\",\"DEU\",\"DEU\",\"DEU\",\"DEU\",\"DEU\",\"DEU\",\"DEU\",\"DEU\",\"DEU\",\"DEU\",\"DEU\",\"DEU\",\"DEU\",\"DEU\",\"DEU\",\"DEU\",\"DEU\",\"DEU\",\"DEU\",\"DEU\",\"DEU\",\"DEU\",\"DEU\",\"DEU\",\"DEU\",\"DEU\",\"DEU\",\"DEU\",\"DEU\",\"DEU\",\"DEU\",\"DEU\",\"DEU\",\"DEU\",\"DEU\",\"DEU\",\"DEU\",\"DEU\",\"DEU\",\"DEU\",\"DEU\",\"DEU\",\"DEU\",\"DEU\",\"DEU\",\"DEU\",\"DEU\",\"DEU\",\"DEU\",\"DEU\",\"DEU\",\"DEU\",\"DEU\",\"DEU\",\"DEU\",\"DEU\",\"DEU\",\"DEU\",\"DEU\",\"DEU\",\"DEU\",\"DEU\",\"DEU\",\"DEU\",\"DEU\",\"DEU\",\"DEU\",\"DEU\",\"DEU\",\"DEU\",\"DEU\",\"DEU\",\"DEU\",\"DEU\",\"DEU\",\"DEU\",\"DEU\",\"DEU\",\"DEU\",\"DEU\",\"DEU\",\"DEU\",\"DEU\",\"DEU\",\"DEU\",\"DEU\",\"DEU\",\"DEU\",\"DEU\",\"DEU\",\"DEU\",\"DEU\",\"DEU\",\"DEU\",\"DEU\",\"DEU\",\"DEU\",\"DEU\",\"DEU\",\"DEU\",\"DEU\",\"DEU\",\"DEU\",\"DEU\",\"DEU\",\"DEU\",\"DEU\",\"DEU\",\"DEU\",\"DEU\",\"DEU\",\"DEU\",\"DEU\",\"DEU\",\"DEU\",\"DEU\",\"DEU\",\"DEU\",\"DEU\",\"DEU\",\"DEU\",\"DEU\",\"DEU\",\"DEU\",\"DEU\",\"DEU\",\"DEU\",\"DEU\",\"DEU\",\"DEU\",\"DEU\",\"DEU\",\"DEU\",\"DEU\",\"DEU\",\"DEU\",\"DEU\",\"DEU\",\"DEU\",\"DEU\",\"DEU\",\"DEU\",\"DEU\",\"DEU\",\"DEU\",\"DEU\",\"DEU\",\"DEU\",\"DEU\",\"DEU\",\"DEU\",\"DEU\",\"DEU\",\"DEU\",\"DEU\",\"DEU\",\"DEU\",\"DEU\",\"DEU\",\"DEU\",\"DEU\",\"DEU\",\"DEU\",\"DEU\",\"DEU\",\"DEU\",\"DEU\",\"DEU\",\"DEU\",\"DEU\",\"DEU\",\"DEU\",\"DEU\",\"DEU\",\"DEU\",\"DEU\",\"DEU\",\"DEU\",\"DEU\",\"DEU\",\"DEU\",\"DEU\",\"DEU\",\"DEU\",\"DEU\",\"DEU\",\"DEU\",\"DEU\",\"DEU\",\"DEU\",\"DEU\",\"DEU\",\"DEU\",\"DEU\",\"DEU\",\"DEU\",\"DEU\",\"DEU\",\"DEU\",\"DEU\",\"DEU\",\"DEU\",\"DEU\",\"DEU\",\"DEU\",\"DEU\",\"DEU\",\"DEU\",\"DEU\",\"DEU\",\"DEU\",\"DEU\",\"DEU\",\"DEU\",\"DEU\",\"DEU\",\"DEU\",\"DEU\",\"DEU\",\"DEU\",\"DEU\",\"DEU\",\"DEU\",\"DEU\",\"DEU\",\"DEU\",\"DEU\",\"DEU\",\"DEU\",\"DEU\",\"DEU\",\"DEU\",\"DEU\",\"DEU\",\"DEU\",\"DEU\",\"DEU\",\"DEU\",\"DEU\",\"DEU\",\"DEU\",\"DEU\",\"DEU\",\"DEU\",\"DEU\",\"DEU\",\"DEU\",\"DEU\",\"DEU\",\"DEU\",\"DEU\",\"DEU\",\"DEU\",\"DEU\",\"DEU\",\"DEU\",\"DEU\",\"DEU\",\"DEU\",\"DEU\",\"DEU\",\"DEU\",\"DEU\",\"DEU\",\"DEU\",\"DEU\",\"DEU\",\"DEU\",\"DEU\",\"DEU\",\"DEU\",\"DEU\",\"DEU\",\"DEU\",\"DEU\",\"DEU\",\"DEU\",\"DEU\",\"DEU\",\"DEU\",\"DEU\",\"DEU\",\"DEU\",\"DEU\",\"DEU\",\"DEU\",\"DEU\",\"DEU\",\"DEU\",\"DEU\",\"DEU\",\"DEU\",\"DEU\",\"DEU\",\"DEU\",\"DEU\",\"DEU\",\"DEU\",\"DEU\",\"DEU\",\"DEU\",\"DEU\",\"DEU\",\"DEU\",\"DEU\",\"DEU\",\"DEU\",\"DEU\",\"DEU\",\"DEU\",\"DEU\",\"DEU\",\"DEU\",\"DEU\",\"DEU\",\"DEU\",\"DEU\",\"DEU\",\"DEU\",\"DEU\",\"DEU\",\"DEU\",\"DEU\",\"DEU\",\"DEU\",\"DEU\",\"DEU\",\"DEU\",\"DEU\",\"DEU\",\"DEU\",\"DEU\",\"DEU\",\"DEU\",\"DEU\",\"DEU\",\"DEU\",\"DEU\",\"DEU\",\"DEU\",\"DEU\",\"DEU\",\"DEU\",\"DEU\",\"DEU\",\"DEU\",\"DEU\",\"DEU\",\"DEU\",\"DEU\",\"DEU\",\"DEU\",\"DEU\",\"DEU\",\"DEU\",\"DEU\",\"DEU\",\"DEU\",\"DEU\",\"DEU\",\"DEU\",\"DEU\",\"DEU\",\"DEU\",\"DEU\",\"DEU\",\"DEU\",\"DEU\",\"DEU\",\"DEU\",\"DEU\",\"DEU\",\"DEU\",\"DEU\",\"DEU\",\"DEU\",\"DEU\",\"DEU\",\"DEU\",\"DEU\",\"DEU\",\"DEU\",\"DEU\",\"DEU\",\"DEU\",\"DEU\",\"DEU\",\"DEU\",\"DEU\",\"DEU\",\"DEU\",\"DEU\",\"DEU\",\"DEU\",\"DEU\"],\"xaxis\":\"x\",\"yaxis\":\"y\",\"type\":\"histogram\"},{\"alignmentgroup\":\"True\",\"bingroup\":\"x\",\"hovertemplate\":\"nationality=%{x}\\u003cbr\\u003ecount=%{y}\\u003cextra\\u003e\\u003c\\u002fextra\\u003e\",\"legendgroup\":\"CHE\",\"marker\":{\"color\":\"#9d95b0\",\"pattern\":{\"shape\":\"\"}},\"name\":\"CHE\",\"offsetgroup\":\"CHE\",\"orientation\":\"v\",\"showlegend\":true,\"x\":[\"CHE\",\"CHE\",\"CHE\",\"CHE\",\"CHE\",\"CHE\",\"CHE\",\"CHE\",\"CHE\",\"CHE\",\"CHE\",\"CHE\",\"CHE\",\"CHE\",\"CHE\",\"CHE\",\"CHE\",\"CHE\",\"CHE\",\"CHE\",\"CHE\",\"CHE\",\"CHE\",\"CHE\",\"CHE\",\"CHE\",\"CHE\",\"CHE\",\"CHE\",\"CHE\",\"CHE\",\"CHE\",\"CHE\",\"CHE\",\"CHE\",\"CHE\",\"CHE\",\"CHE\",\"CHE\",\"CHE\",\"CHE\",\"CHE\",\"CHE\",\"CHE\",\"CHE\",\"CHE\",\"CHE\",\"CHE\",\"CHE\",\"CHE\",\"CHE\",\"CHE\",\"CHE\",\"CHE\",\"CHE\",\"CHE\",\"CHE\",\"CHE\",\"CHE\",\"CHE\",\"CHE\",\"CHE\",\"CHE\",\"CHE\",\"CHE\",\"CHE\",\"CHE\",\"CHE\",\"CHE\",\"CHE\",\"CHE\",\"CHE\",\"CHE\",\"CHE\",\"CHE\",\"CHE\",\"CHE\",\"CHE\",\"CHE\",\"CHE\",\"CHE\",\"CHE\",\"CHE\",\"CHE\",\"CHE\",\"CHE\",\"CHE\",\"CHE\",\"CHE\",\"CHE\",\"CHE\",\"CHE\",\"CHE\",\"CHE\",\"CHE\",\"CHE\",\"CHE\",\"CHE\",\"CHE\"],\"xaxis\":\"x\",\"yaxis\":\"y\",\"type\":\"histogram\"},{\"alignmentgroup\":\"True\",\"bingroup\":\"x\",\"hovertemplate\":\"nationality=%{x}\\u003cbr\\u003ecount=%{y}\\u003cextra\\u003e\\u003c\\u002fextra\\u003e\",\"legendgroup\":\"AUT\",\"marker\":{\"color\":\"#bea7bb\",\"pattern\":{\"shape\":\"\"}},\"name\":\"AUT\",\"offsetgroup\":\"AUT\",\"orientation\":\"v\",\"showlegend\":true,\"x\":[\"AUT\",\"AUT\",\"AUT\",\"AUT\",\"AUT\",\"AUT\",\"AUT\",\"AUT\",\"AUT\",\"AUT\",\"AUT\",\"AUT\",\"AUT\",\"AUT\",\"AUT\",\"AUT\",\"AUT\",\"AUT\",\"AUT\",\"AUT\",\"AUT\",\"AUT\",\"AUT\",\"AUT\",\"AUT\",\"AUT\",\"AUT\",\"AUT\",\"AUT\",\"AUT\",\"AUT\",\"AUT\",\"AUT\",\"AUT\",\"AUT\",\"AUT\",\"AUT\",\"AUT\",\"AUT\",\"AUT\",\"AUT\",\"AUT\",\"AUT\",\"AUT\",\"AUT\",\"AUT\",\"AUT\",\"AUT\",\"AUT\",\"AUT\",\"AUT\",\"AUT\",\"AUT\",\"AUT\",\"AUT\",\"AUT\",\"AUT\",\"AUT\",\"AUT\",\"AUT\",\"AUT\",\"AUT\",\"AUT\",\"AUT\",\"AUT\",\"AUT\",\"AUT\",\"AUT\",\"AUT\",\"AUT\",\"AUT\",\"AUT\",\"AUT\",\"AUT\",\"AUT\",\"AUT\",\"AUT\",\"AUT\",\"AUT\",\"AUT\",\"AUT\",\"AUT\",\"AUT\",\"AUT\",\"AUT\",\"AUT\",\"AUT\",\"AUT\",\"AUT\",\"AUT\",\"AUT\",\"AUT\",\"AUT\",\"AUT\",\"AUT\",\"AUT\",\"AUT\",\"AUT\",\"AUT\",\"AUT\",\"AUT\",\"AUT\",\"AUT\",\"AUT\",\"AUT\",\"AUT\",\"AUT\",\"AUT\",\"AUT\",\"AUT\",\"AUT\",\"AUT\",\"AUT\",\"AUT\",\"AUT\",\"AUT\",\"AUT\",\"AUT\",\"AUT\",\"AUT\",\"AUT\",\"AUT\",\"AUT\",\"AUT\",\"AUT\",\"AUT\",\"AUT\",\"AUT\",\"AUT\",\"AUT\",\"AUT\",\"AUT\",\"AUT\",\"AUT\",\"AUT\",\"AUT\",\"AUT\",\"AUT\",\"AUT\",\"AUT\",\"AUT\",\"AUT\",\"AUT\",\"AUT\",\"AUT\",\"AUT\",\"AUT\",\"AUT\",\"AUT\",\"AUT\",\"AUT\",\"AUT\",\"AUT\",\"AUT\",\"AUT\",\"AUT\",\"AUT\",\"AUT\",\"AUT\",\"AUT\",\"AUT\",\"AUT\",\"AUT\",\"AUT\",\"AUT\",\"AUT\",\"AUT\",\"AUT\",\"AUT\",\"AUT\",\"AUT\",\"AUT\",\"AUT\",\"AUT\",\"AUT\",\"AUT\",\"AUT\",\"AUT\",\"AUT\",\"AUT\",\"AUT\",\"AUT\",\"AUT\",\"AUT\",\"AUT\",\"AUT\",\"AUT\",\"AUT\",\"AUT\",\"AUT\",\"AUT\",\"AUT\",\"AUT\",\"AUT\",\"AUT\",\"AUT\",\"AUT\",\"AUT\",\"AUT\",\"AUT\",\"AUT\",\"AUT\",\"AUT\",\"AUT\",\"AUT\",\"AUT\",\"AUT\",\"AUT\",\"AUT\",\"AUT\",\"AUT\",\"AUT\",\"AUT\",\"AUT\",\"AUT\",\"AUT\",\"AUT\",\"AUT\",\"AUT\",\"AUT\",\"AUT\",\"AUT\",\"AUT\",\"AUT\",\"AUT\",\"AUT\",\"AUT\",\"AUT\",\"AUT\",\"AUT\",\"AUT\",\"AUT\",\"AUT\",\"AUT\",\"AUT\",\"AUT\",\"AUT\",\"AUT\",\"AUT\",\"AUT\",\"AUT\",\"AUT\",\"AUT\",\"AUT\",\"AUT\",\"AUT\",\"AUT\",\"AUT\",\"AUT\",\"AUT\",\"AUT\",\"AUT\",\"AUT\",\"AUT\",\"AUT\",\"AUT\",\"AUT\",\"AUT\",\"AUT\",\"AUT\",\"AUT\",\"AUT\",\"AUT\",\"AUT\",\"AUT\",\"AUT\",\"AUT\",\"AUT\",\"AUT\",\"AUT\",\"AUT\",\"AUT\",\"AUT\",\"AUT\",\"AUT\"],\"xaxis\":\"x\",\"yaxis\":\"y\",\"type\":\"histogram\"},{\"alignmentgroup\":\"True\",\"bingroup\":\"x\",\"hovertemplate\":\"nationality=%{x}\\u003cbr\\u003ecount=%{y}\\u003cextra\\u003e\\u003c\\u002fextra\\u003e\",\"legendgroup\":\"POL\",\"marker\":{\"color\":\"#f2c1a6\",\"pattern\":{\"shape\":\"\"}},\"name\":\"POL\",\"offsetgroup\":\"POL\",\"orientation\":\"v\",\"showlegend\":true,\"x\":[\"POL\",\"POL\",\"POL\",\"POL\",\"POL\",\"POL\"],\"xaxis\":\"x\",\"yaxis\":\"y\",\"type\":\"histogram\"}],                        {\"template\":{\"data\":{\"histogram2dcontour\":[{\"type\":\"histogram2dcontour\",\"colorbar\":{\"outlinewidth\":0,\"ticks\":\"\"},\"colorscale\":[[0.0,\"#0d0887\"],[0.1111111111111111,\"#46039f\"],[0.2222222222222222,\"#7201a8\"],[0.3333333333333333,\"#9c179e\"],[0.4444444444444444,\"#bd3786\"],[0.5555555555555556,\"#d8576b\"],[0.6666666666666666,\"#ed7953\"],[0.7777777777777778,\"#fb9f3a\"],[0.8888888888888888,\"#fdca26\"],[1.0,\"#f0f921\"]]}],\"choropleth\":[{\"type\":\"choropleth\",\"colorbar\":{\"outlinewidth\":0,\"ticks\":\"\"}}],\"histogram2d\":[{\"type\":\"histogram2d\",\"colorbar\":{\"outlinewidth\":0,\"ticks\":\"\"},\"colorscale\":[[0.0,\"#0d0887\"],[0.1111111111111111,\"#46039f\"],[0.2222222222222222,\"#7201a8\"],[0.3333333333333333,\"#9c179e\"],[0.4444444444444444,\"#bd3786\"],[0.5555555555555556,\"#d8576b\"],[0.6666666666666666,\"#ed7953\"],[0.7777777777777778,\"#fb9f3a\"],[0.8888888888888888,\"#fdca26\"],[1.0,\"#f0f921\"]]}],\"heatmap\":[{\"type\":\"heatmap\",\"colorbar\":{\"outlinewidth\":0,\"ticks\":\"\"},\"colorscale\":[[0.0,\"#0d0887\"],[0.1111111111111111,\"#46039f\"],[0.2222222222222222,\"#7201a8\"],[0.3333333333333333,\"#9c179e\"],[0.4444444444444444,\"#bd3786\"],[0.5555555555555556,\"#d8576b\"],[0.6666666666666666,\"#ed7953\"],[0.7777777777777778,\"#fb9f3a\"],[0.8888888888888888,\"#fdca26\"],[1.0,\"#f0f921\"]]}],\"heatmapgl\":[{\"type\":\"heatmapgl\",\"colorbar\":{\"outlinewidth\":0,\"ticks\":\"\"},\"colorscale\":[[0.0,\"#0d0887\"],[0.1111111111111111,\"#46039f\"],[0.2222222222222222,\"#7201a8\"],[0.3333333333333333,\"#9c179e\"],[0.4444444444444444,\"#bd3786\"],[0.5555555555555556,\"#d8576b\"],[0.6666666666666666,\"#ed7953\"],[0.7777777777777778,\"#fb9f3a\"],[0.8888888888888888,\"#fdca26\"],[1.0,\"#f0f921\"]]}],\"contourcarpet\":[{\"type\":\"contourcarpet\",\"colorbar\":{\"outlinewidth\":0,\"ticks\":\"\"}}],\"contour\":[{\"type\":\"contour\",\"colorbar\":{\"outlinewidth\":0,\"ticks\":\"\"},\"colorscale\":[[0.0,\"#0d0887\"],[0.1111111111111111,\"#46039f\"],[0.2222222222222222,\"#7201a8\"],[0.3333333333333333,\"#9c179e\"],[0.4444444444444444,\"#bd3786\"],[0.5555555555555556,\"#d8576b\"],[0.6666666666666666,\"#ed7953\"],[0.7777777777777778,\"#fb9f3a\"],[0.8888888888888888,\"#fdca26\"],[1.0,\"#f0f921\"]]}],\"surface\":[{\"type\":\"surface\",\"colorbar\":{\"outlinewidth\":0,\"ticks\":\"\"},\"colorscale\":[[0.0,\"#0d0887\"],[0.1111111111111111,\"#46039f\"],[0.2222222222222222,\"#7201a8\"],[0.3333333333333333,\"#9c179e\"],[0.4444444444444444,\"#bd3786\"],[0.5555555555555556,\"#d8576b\"],[0.6666666666666666,\"#ed7953\"],[0.7777777777777778,\"#fb9f3a\"],[0.8888888888888888,\"#fdca26\"],[1.0,\"#f0f921\"]]}],\"mesh3d\":[{\"type\":\"mesh3d\",\"colorbar\":{\"outlinewidth\":0,\"ticks\":\"\"}}],\"scatter\":[{\"fillpattern\":{\"fillmode\":\"overlay\",\"size\":10,\"solidity\":0.2},\"type\":\"scatter\"}],\"parcoords\":[{\"type\":\"parcoords\",\"line\":{\"colorbar\":{\"outlinewidth\":0,\"ticks\":\"\"}}}],\"scatterpolargl\":[{\"type\":\"scatterpolargl\",\"marker\":{\"colorbar\":{\"outlinewidth\":0,\"ticks\":\"\"}}}],\"bar\":[{\"error_x\":{\"color\":\"#2a3f5f\"},\"error_y\":{\"color\":\"#2a3f5f\"},\"marker\":{\"line\":{\"color\":\"#E5ECF6\",\"width\":0.5},\"pattern\":{\"fillmode\":\"overlay\",\"size\":10,\"solidity\":0.2}},\"type\":\"bar\"}],\"scattergeo\":[{\"type\":\"scattergeo\",\"marker\":{\"colorbar\":{\"outlinewidth\":0,\"ticks\":\"\"}}}],\"scatterpolar\":[{\"type\":\"scatterpolar\",\"marker\":{\"colorbar\":{\"outlinewidth\":0,\"ticks\":\"\"}}}],\"histogram\":[{\"marker\":{\"pattern\":{\"fillmode\":\"overlay\",\"size\":10,\"solidity\":0.2}},\"type\":\"histogram\"}],\"scattergl\":[{\"type\":\"scattergl\",\"marker\":{\"colorbar\":{\"outlinewidth\":0,\"ticks\":\"\"}}}],\"scatter3d\":[{\"type\":\"scatter3d\",\"line\":{\"colorbar\":{\"outlinewidth\":0,\"ticks\":\"\"}},\"marker\":{\"colorbar\":{\"outlinewidth\":0,\"ticks\":\"\"}}}],\"scattermapbox\":[{\"type\":\"scattermapbox\",\"marker\":{\"colorbar\":{\"outlinewidth\":0,\"ticks\":\"\"}}}],\"scatterternary\":[{\"type\":\"scatterternary\",\"marker\":{\"colorbar\":{\"outlinewidth\":0,\"ticks\":\"\"}}}],\"scattercarpet\":[{\"type\":\"scattercarpet\",\"marker\":{\"colorbar\":{\"outlinewidth\":0,\"ticks\":\"\"}}}],\"carpet\":[{\"aaxis\":{\"endlinecolor\":\"#2a3f5f\",\"gridcolor\":\"white\",\"linecolor\":\"white\",\"minorgridcolor\":\"white\",\"startlinecolor\":\"#2a3f5f\"},\"baxis\":{\"endlinecolor\":\"#2a3f5f\",\"gridcolor\":\"white\",\"linecolor\":\"white\",\"minorgridcolor\":\"white\",\"startlinecolor\":\"#2a3f5f\"},\"type\":\"carpet\"}],\"table\":[{\"cells\":{\"fill\":{\"color\":\"#EBF0F8\"},\"line\":{\"color\":\"white\"}},\"header\":{\"fill\":{\"color\":\"#C8D4E3\"},\"line\":{\"color\":\"white\"}},\"type\":\"table\"}],\"barpolar\":[{\"marker\":{\"line\":{\"color\":\"#E5ECF6\",\"width\":0.5},\"pattern\":{\"fillmode\":\"overlay\",\"size\":10,\"solidity\":0.2}},\"type\":\"barpolar\"}],\"pie\":[{\"automargin\":true,\"type\":\"pie\"}]},\"layout\":{\"autotypenumbers\":\"strict\",\"colorway\":[\"#636efa\",\"#EF553B\",\"#00cc96\",\"#ab63fa\",\"#FFA15A\",\"#19d3f3\",\"#FF6692\",\"#B6E880\",\"#FF97FF\",\"#FECB52\"],\"font\":{\"color\":\"#2a3f5f\"},\"hovermode\":\"closest\",\"hoverlabel\":{\"align\":\"left\"},\"paper_bgcolor\":\"white\",\"plot_bgcolor\":\"#E5ECF6\",\"polar\":{\"bgcolor\":\"#E5ECF6\",\"angularaxis\":{\"gridcolor\":\"white\",\"linecolor\":\"white\",\"ticks\":\"\"},\"radialaxis\":{\"gridcolor\":\"white\",\"linecolor\":\"white\",\"ticks\":\"\"}},\"ternary\":{\"bgcolor\":\"#E5ECF6\",\"aaxis\":{\"gridcolor\":\"white\",\"linecolor\":\"white\",\"ticks\":\"\"},\"baxis\":{\"gridcolor\":\"white\",\"linecolor\":\"white\",\"ticks\":\"\"},\"caxis\":{\"gridcolor\":\"white\",\"linecolor\":\"white\",\"ticks\":\"\"}},\"coloraxis\":{\"colorbar\":{\"outlinewidth\":0,\"ticks\":\"\"}},\"colorscale\":{\"sequential\":[[0.0,\"#0d0887\"],[0.1111111111111111,\"#46039f\"],[0.2222222222222222,\"#7201a8\"],[0.3333333333333333,\"#9c179e\"],[0.4444444444444444,\"#bd3786\"],[0.5555555555555556,\"#d8576b\"],[0.6666666666666666,\"#ed7953\"],[0.7777777777777778,\"#fb9f3a\"],[0.8888888888888888,\"#fdca26\"],[1.0,\"#f0f921\"]],\"sequentialminus\":[[0.0,\"#0d0887\"],[0.1111111111111111,\"#46039f\"],[0.2222222222222222,\"#7201a8\"],[0.3333333333333333,\"#9c179e\"],[0.4444444444444444,\"#bd3786\"],[0.5555555555555556,\"#d8576b\"],[0.6666666666666666,\"#ed7953\"],[0.7777777777777778,\"#fb9f3a\"],[0.8888888888888888,\"#fdca26\"],[1.0,\"#f0f921\"]],\"diverging\":[[0,\"#8e0152\"],[0.1,\"#c51b7d\"],[0.2,\"#de77ae\"],[0.3,\"#f1b6da\"],[0.4,\"#fde0ef\"],[0.5,\"#f7f7f7\"],[0.6,\"#e6f5d0\"],[0.7,\"#b8e186\"],[0.8,\"#7fbc41\"],[0.9,\"#4d9221\"],[1,\"#276419\"]]},\"xaxis\":{\"gridcolor\":\"white\",\"linecolor\":\"white\",\"ticks\":\"\",\"title\":{\"standoff\":15},\"zerolinecolor\":\"white\",\"automargin\":true,\"zerolinewidth\":2},\"yaxis\":{\"gridcolor\":\"white\",\"linecolor\":\"white\",\"ticks\":\"\",\"title\":{\"standoff\":15},\"zerolinecolor\":\"white\",\"automargin\":true,\"zerolinewidth\":2},\"scene\":{\"xaxis\":{\"backgroundcolor\":\"#E5ECF6\",\"gridcolor\":\"white\",\"linecolor\":\"white\",\"showbackground\":true,\"ticks\":\"\",\"zerolinecolor\":\"white\",\"gridwidth\":2},\"yaxis\":{\"backgroundcolor\":\"#E5ECF6\",\"gridcolor\":\"white\",\"linecolor\":\"white\",\"showbackground\":true,\"ticks\":\"\",\"zerolinecolor\":\"white\",\"gridwidth\":2},\"zaxis\":{\"backgroundcolor\":\"#E5ECF6\",\"gridcolor\":\"white\",\"linecolor\":\"white\",\"showbackground\":true,\"ticks\":\"\",\"zerolinecolor\":\"white\",\"gridwidth\":2}},\"shapedefaults\":{\"line\":{\"color\":\"#2a3f5f\"}},\"annotationdefaults\":{\"arrowcolor\":\"#2a3f5f\",\"arrowhead\":0,\"arrowwidth\":1},\"geo\":{\"bgcolor\":\"white\",\"landcolor\":\"#E5ECF6\",\"subunitcolor\":\"white\",\"showland\":true,\"showlakes\":true,\"lakecolor\":\"white\"},\"title\":{\"x\":0.05},\"mapbox\":{\"style\":\"light\"}}},\"xaxis\":{\"anchor\":\"y\",\"domain\":[0.0,1.0],\"title\":{\"text\":\"nationality\"},\"categoryorder\":\"total descending\",\"categoryarray\":[\"DEU\",\"CHE\",\"AUT\",\"POL\"],\"showgrid\":false},\"yaxis\":{\"anchor\":\"x\",\"domain\":[0.0,1.0],\"title\":{\"text\":\"count\"},\"showgrid\":false},\"legend\":{\"title\":{\"text\":\"nationality\"},\"tracegroupgap\":0},\"title\":{\"text\":\"Fig 1: Distribution of texts by nationality of\\u003cbr\\u003eauthor\",\"font\":{\"color\":\"#122630\",\"size\":28},\"yref\":\"paper\"},\"barmode\":\"relative\",\"plot_bgcolor\":\"#ffbb91\",\"paper_bgcolor\":\"#feba67\",\"width\":750,\"height\":650},                        {\"responsive\": true}                    ).then(function(){\n",
       "                            \n",
       "var gd = document.getElementById('e74d9c9d-bc75-4ef4-b652-3b3e1114b524');\n",
       "var x = new MutationObserver(function (mutations, observer) {{\n",
       "        var display = window.getComputedStyle(gd).display;\n",
       "        if (!display || display === 'none') {{\n",
       "            console.log([gd, 'removed!']);\n",
       "            Plotly.purge(gd);\n",
       "            observer.disconnect();\n",
       "        }}\n",
       "}});\n",
       "\n",
       "// Listen for the removal of the full notebook cells\n",
       "var notebookContainer = gd.closest('#notebook-container');\n",
       "if (notebookContainer) {{\n",
       "    x.observe(notebookContainer, {childList: true});\n",
       "}}\n",
       "\n",
       "// Listen for the clearing of the current output cell\n",
       "var outputEl = gd.closest('.output');\n",
       "if (outputEl) {{\n",
       "    x.observe(outputEl, {childList: true});\n",
       "}}\n",
       "\n",
       "                        })                };                });            </script>        </div>"
      ]
     },
     "metadata": {},
     "output_type": "display_data"
    }
   ],
   "source": [
    "fig = px.histogram(df,\n",
    "                   x=\"nationality\",\n",
    "                   color=\"nationality\",\n",
    "                   color_discrete_sequence=['#053c6c','#9d95b0','#bea7bb', '#f2c1a6'],\n",
    "                   title=\"Fig 1: Distribution of texts by nationality of<br>author\")\n",
    "fig.update_xaxes(categoryorder=\"total descending\")\n",
    "fig.update_layout({\"plot_bgcolor\":\"#ffbb91\", \"paper_bgcolor\":\"#feba67\", \"width\":750, \"height\":650},\n",
    "                  xaxis=dict(showgrid=False),\n",
    "                  yaxis=dict(showgrid=False),\n",
    "                  title_font_color=\"#122630\",\n",
    "                  title=dict(font=dict(size=28), yref='paper')\n",
    "                  )\n",
    "fig.show()"
   ]
  },
  {
   "cell_type": "code",
   "execution_count": 11,
   "id": "6a5e6eb4-1372-4643-8021-03cc0256eb10",
   "metadata": {
    "tags": []
   },
   "outputs": [
    {
     "data": {
      "application/vnd.plotly.v1+json": {
       "config": {
        "plotlyServerURL": "https://plot.ly"
       },
       "data": [
        {
         "alignmentgroup": "True",
         "bingroup": "x",
         "hovertemplate": "gender=m<br>nationality=%{x}<br>count=%{y}<extra></extra>",
         "legendgroup": "m",
         "marker": {
          "color": "#636efa",
          "pattern": {
           "shape": ""
          }
         },
         "name": "m",
         "offsetgroup": "m",
         "orientation": "v",
         "showlegend": true,
         "type": "histogram",
         "x": [
          "DEU",
          "DEU",
          "DEU",
          "DEU",
          "DEU",
          "DEU",
          "DEU",
          "DEU",
          "DEU",
          "DEU",
          "DEU",
          "DEU",
          "DEU",
          "DEU",
          "DEU",
          "DEU",
          "DEU",
          "DEU",
          "DEU",
          "DEU",
          "DEU",
          "DEU",
          "CHE",
          "DEU",
          "DEU",
          "DEU",
          "DEU",
          "DEU",
          "DEU",
          "DEU",
          "DEU",
          "DEU",
          "DEU",
          "DEU",
          "DEU",
          "DEU",
          "DEU",
          "DEU",
          "DEU",
          "DEU",
          "DEU",
          "DEU",
          "DEU",
          "DEU",
          "DEU",
          "DEU",
          "DEU",
          "DEU",
          "DEU",
          "DEU",
          "DEU",
          "DEU",
          "DEU",
          "DEU",
          "DEU",
          "DEU",
          "DEU",
          "DEU",
          "DEU",
          "DEU",
          "DEU",
          "DEU",
          "DEU",
          "DEU",
          "DEU",
          "DEU",
          "DEU",
          "DEU",
          "DEU",
          "DEU",
          "DEU",
          "DEU",
          "DEU",
          "DEU",
          "DEU",
          "DEU",
          "DEU",
          "DEU",
          "DEU",
          "DEU",
          "DEU",
          "DEU",
          "DEU",
          "DEU",
          "DEU",
          "DEU",
          "DEU",
          "DEU",
          "DEU",
          "DEU",
          "DEU",
          "DEU",
          "DEU",
          "DEU",
          "DEU",
          "DEU",
          "DEU",
          "DEU",
          "DEU",
          "DEU",
          "DEU",
          "DEU",
          "DEU",
          "DEU",
          "DEU",
          "DEU",
          "DEU",
          "DEU",
          "DEU",
          "DEU",
          "DEU",
          "DEU",
          "DEU",
          "DEU",
          "DEU",
          "DEU",
          "DEU",
          "DEU",
          "DEU",
          "DEU",
          "DEU",
          "CHE",
          "DEU",
          "DEU",
          "DEU",
          "DEU",
          "DEU",
          "DEU",
          "DEU",
          "DEU",
          "DEU",
          "DEU",
          "DEU",
          "DEU",
          "AUT",
          "AUT",
          "CHE",
          "CHE",
          "CHE",
          "DEU",
          "AUT",
          "CHE",
          "DEU",
          "DEU",
          "DEU",
          "DEU",
          "CHE",
          "DEU",
          "AUT",
          "AUT",
          "AUT",
          "DEU",
          "DEU",
          "DEU",
          "DEU",
          "DEU",
          "DEU",
          "DEU",
          "DEU",
          "DEU",
          "DEU",
          "DEU",
          "DEU",
          "DEU",
          "DEU",
          "DEU",
          "CHE",
          "DEU",
          "CHE",
          "AUT",
          "AUT",
          "DEU",
          "DEU",
          "DEU",
          "DEU",
          "DEU",
          "DEU",
          "AUT",
          "CHE",
          "DEU",
          "DEU",
          "DEU",
          "DEU",
          "DEU",
          "DEU",
          "DEU",
          "DEU",
          "DEU",
          "DEU",
          "DEU",
          "DEU",
          "DEU",
          "DEU",
          "DEU",
          "DEU",
          "DEU",
          "DEU",
          "DEU",
          "DEU",
          "DEU",
          "DEU",
          "AUT",
          "DEU",
          "DEU",
          "AUT",
          "DEU",
          "AUT",
          "DEU",
          "DEU",
          "AUT",
          "DEU",
          "DEU",
          "DEU",
          "DEU",
          "AUT",
          "AUT",
          "DEU",
          "AUT",
          "DEU",
          "DEU",
          "CHE",
          "DEU",
          "DEU",
          "AUT",
          "CHE",
          "CHE",
          "DEU",
          "AUT",
          "DEU",
          "DEU",
          "DEU",
          "DEU",
          "AUT",
          "AUT",
          "DEU",
          "DEU",
          "DEU",
          "AUT",
          "DEU",
          "DEU",
          "DEU",
          "DEU",
          "DEU",
          "AUT",
          "CHE",
          "CHE",
          "DEU",
          "DEU",
          "DEU",
          "DEU",
          "DEU",
          "DEU",
          "DEU",
          "DEU",
          "AUT",
          "AUT",
          "AUT",
          "AUT",
          "AUT",
          "AUT",
          "AUT",
          "AUT",
          "AUT",
          "DEU",
          "DEU",
          "DEU",
          "DEU",
          "AUT",
          "AUT",
          "AUT",
          "DEU",
          "DEU",
          "DEU",
          "AUT",
          "AUT",
          "AUT",
          "AUT",
          "AUT",
          "AUT",
          "AUT",
          "DEU",
          "DEU",
          "DEU",
          "DEU",
          "DEU",
          "DEU",
          "DEU",
          "DEU",
          "DEU",
          "DEU",
          "DEU",
          "DEU",
          "DEU",
          "DEU",
          "DEU",
          "DEU",
          "DEU",
          "DEU",
          "DEU",
          "DEU",
          "DEU",
          "AUT",
          "AUT",
          "AUT",
          "AUT",
          "AUT",
          "AUT",
          "AUT",
          "AUT",
          "AUT",
          "AUT",
          "AUT",
          "AUT",
          "AUT",
          "AUT",
          "AUT",
          "AUT",
          "AUT",
          "AUT",
          "AUT",
          "AUT",
          "AUT",
          "AUT",
          "AUT",
          "AUT",
          "AUT",
          "AUT",
          "AUT",
          "AUT",
          "AUT",
          "AUT",
          "AUT",
          "AUT",
          "AUT",
          "AUT",
          "AUT",
          "AUT",
          "AUT",
          "AUT",
          "AUT",
          "AUT",
          "AUT",
          "AUT",
          "AUT",
          "AUT",
          "AUT",
          "AUT",
          "AUT",
          "AUT",
          "AUT",
          "AUT",
          "AUT",
          "AUT",
          "AUT",
          "AUT",
          "AUT",
          "AUT",
          "AUT",
          "DEU",
          "DEU",
          "DEU",
          "DEU",
          "DEU",
          "DEU",
          "DEU",
          "DEU",
          "DEU",
          "DEU",
          "DEU",
          "DEU",
          "DEU",
          "DEU",
          "DEU",
          "DEU",
          "DEU",
          "AUT",
          "AUT",
          "AUT",
          "AUT",
          "AUT",
          "DEU",
          "DEU",
          "DEU",
          "DEU",
          "DEU",
          "DEU",
          "DEU",
          "DEU",
          "DEU",
          "DEU",
          "DEU",
          "DEU",
          "DEU",
          "CHE",
          "CHE",
          "DEU",
          "DEU",
          "DEU",
          "DEU",
          "DEU",
          "DEU",
          "DEU",
          "DEU",
          "DEU",
          "DEU",
          "DEU",
          "CHE",
          "CHE",
          "CHE",
          "AUT",
          "AUT",
          "DEU",
          "DEU",
          "DEU",
          "DEU",
          "DEU",
          "DEU",
          "DEU",
          "DEU",
          "DEU",
          "DEU",
          "DEU",
          "DEU",
          "DEU",
          "DEU",
          "DEU",
          "DEU",
          "DEU",
          "DEU",
          "CHE",
          "CHE",
          "CHE",
          "CHE",
          "CHE",
          "CHE",
          "CHE",
          "CHE",
          "CHE",
          "CHE",
          "CHE",
          "DEU",
          "DEU",
          "DEU",
          "DEU",
          "DEU",
          "DEU",
          "DEU",
          "DEU",
          "DEU",
          "DEU",
          "DEU",
          "DEU",
          "DEU",
          "DEU",
          "DEU",
          "DEU",
          "DEU",
          "DEU",
          "DEU",
          "DEU",
          "DEU",
          "DEU",
          "DEU",
          "DEU",
          "DEU",
          "DEU",
          "DEU",
          "AUT",
          "DEU",
          "DEU",
          "DEU",
          "DEU",
          "DEU",
          "DEU",
          "DEU",
          "DEU",
          "AUT",
          "DEU",
          "DEU",
          "DEU",
          "DEU",
          "DEU",
          "DEU",
          "DEU",
          "DEU",
          "DEU",
          "DEU",
          "DEU",
          "DEU",
          "DEU",
          "DEU",
          "DEU",
          "DEU",
          "DEU",
          "DEU",
          "DEU",
          "DEU",
          "DEU",
          "DEU",
          "DEU",
          "DEU",
          "DEU",
          "DEU",
          "DEU",
          "DEU",
          "DEU",
          "DEU",
          "DEU",
          "DEU",
          "DEU",
          "DEU",
          "DEU",
          "DEU",
          "DEU",
          "DEU",
          "DEU",
          "DEU",
          "DEU",
          "DEU",
          "DEU",
          "DEU",
          "DEU",
          "DEU",
          "DEU",
          "DEU",
          "DEU",
          "AUT",
          "AUT",
          "AUT",
          "AUT",
          "AUT",
          "AUT",
          "DEU",
          "DEU",
          "DEU",
          "AUT",
          "AUT",
          "AUT",
          "DEU",
          "DEU",
          "DEU",
          "DEU",
          "DEU",
          "DEU",
          "DEU",
          "DEU",
          "CHE",
          "CHE",
          "CHE",
          "DEU",
          "DEU",
          "DEU",
          "DEU",
          "DEU",
          "DEU",
          "DEU",
          "DEU",
          "DEU",
          "DEU",
          "DEU",
          "DEU",
          "DEU",
          "DEU",
          "DEU",
          "DEU",
          "DEU",
          "DEU",
          "DEU",
          "DEU",
          "DEU",
          "DEU",
          "DEU",
          "DEU",
          "DEU",
          "DEU",
          "DEU",
          "DEU",
          "DEU",
          "DEU",
          "DEU",
          "DEU",
          "DEU",
          "DEU",
          "DEU",
          "DEU",
          "DEU",
          "DEU",
          "DEU",
          "DEU",
          "DEU",
          "DEU",
          "DEU",
          "DEU",
          "DEU",
          "DEU",
          "DEU",
          "DEU",
          "DEU",
          "DEU",
          "DEU",
          "DEU",
          "DEU",
          "DEU",
          "DEU",
          "DEU",
          "DEU",
          "DEU",
          "DEU",
          "DEU",
          "DEU",
          "DEU",
          "DEU",
          "DEU",
          "DEU",
          "DEU",
          "DEU",
          "DEU",
          "DEU",
          "DEU",
          "DEU",
          "DEU",
          "DEU",
          "DEU",
          "DEU",
          "DEU",
          "DEU",
          "DEU",
          "DEU",
          "DEU",
          "DEU",
          "DEU",
          "DEU",
          "DEU",
          "DEU",
          "DEU",
          "DEU",
          "DEU",
          "DEU",
          "DEU",
          "DEU",
          "DEU",
          "DEU",
          "DEU",
          "DEU",
          "DEU",
          "DEU",
          "DEU",
          "DEU",
          "DEU",
          "DEU",
          "DEU",
          "DEU",
          "DEU",
          "DEU",
          "DEU",
          "DEU",
          "DEU",
          "DEU",
          "AUT",
          "DEU",
          "DEU",
          "DEU",
          "DEU",
          "DEU",
          "DEU",
          "DEU",
          "DEU",
          "DEU",
          "DEU",
          "DEU",
          "DEU",
          "DEU",
          "DEU",
          "DEU",
          "DEU",
          "DEU",
          "DEU",
          "DEU",
          "DEU",
          "DEU",
          "DEU",
          "DEU",
          "DEU",
          "DEU",
          "DEU",
          "DEU",
          "DEU",
          "DEU",
          "DEU",
          "DEU",
          "DEU",
          "DEU",
          "DEU",
          "DEU",
          "DEU",
          "DEU",
          "DEU",
          "DEU",
          "DEU",
          "DEU",
          "DEU",
          "DEU",
          "DEU",
          "CHE",
          "CHE",
          "CHE",
          "DEU",
          "DEU",
          "DEU",
          "DEU",
          "DEU",
          "DEU",
          "DEU",
          "DEU",
          "DEU",
          "DEU",
          "AUT",
          "AUT",
          "AUT",
          "AUT",
          "AUT",
          "AUT",
          "AUT",
          "AUT",
          "AUT",
          "DEU",
          "DEU",
          "DEU",
          "DEU",
          "DEU",
          "DEU",
          "DEU",
          "DEU",
          "DEU",
          "DEU",
          "DEU",
          "DEU",
          "DEU",
          "DEU",
          "DEU",
          "DEU",
          "DEU",
          "DEU",
          "DEU",
          "DEU",
          "DEU",
          "CHE",
          "CHE",
          "CHE",
          "CHE",
          "CHE",
          "CHE",
          "CHE",
          "CHE",
          "CHE",
          "CHE",
          "CHE",
          "CHE",
          "DEU",
          "DEU",
          "DEU",
          "DEU",
          "DEU",
          "DEU",
          "DEU",
          "DEU",
          "DEU",
          "DEU",
          "DEU",
          "DEU",
          "DEU",
          "DEU",
          "DEU",
          "DEU",
          "DEU",
          "CHE",
          "CHE",
          "CHE",
          "CHE",
          "CHE",
          "CHE",
          "CHE",
          "CHE",
          "CHE",
          "DEU",
          "DEU",
          "AUT",
          "AUT",
          "AUT",
          "AUT",
          "DEU",
          "DEU",
          "DEU",
          "DEU",
          "DEU",
          "DEU",
          "DEU",
          "DEU",
          "DEU",
          "DEU",
          "DEU",
          "DEU",
          "DEU",
          "DEU",
          "DEU",
          "DEU",
          "DEU",
          "DEU",
          "AUT",
          "AUT",
          "AUT",
          "AUT",
          "AUT",
          "AUT",
          "AUT",
          "AUT",
          "AUT",
          "AUT",
          "AUT",
          "AUT",
          "DEU",
          "CHE",
          "CHE",
          "CHE",
          "CHE",
          "CHE",
          "CHE",
          "CHE",
          "AUT",
          "AUT",
          "AUT",
          "AUT",
          "AUT",
          "AUT",
          "AUT",
          "AUT",
          "AUT",
          "AUT",
          "DEU",
          "DEU",
          "DEU",
          "DEU",
          "DEU",
          "DEU",
          "DEU",
          "DEU",
          "DEU",
          "DEU",
          "DEU",
          "DEU",
          "DEU",
          "DEU",
          "DEU",
          "DEU",
          "DEU",
          "DEU",
          "DEU",
          "DEU",
          "DEU",
          "DEU",
          "DEU",
          "CHE",
          "CHE",
          "CHE",
          "CHE",
          "CHE",
          "CHE",
          "CHE",
          "CHE",
          "CHE",
          "DEU",
          "DEU",
          "AUT",
          "AUT",
          "AUT",
          "AUT",
          "AUT",
          "AUT",
          "AUT",
          "AUT",
          "AUT",
          "AUT",
          "DEU",
          "DEU",
          "DEU",
          "DEU",
          "DEU",
          "DEU",
          "DEU",
          "DEU",
          "DEU",
          "DEU",
          "AUT",
          "AUT",
          "AUT",
          "DEU",
          "DEU",
          "DEU",
          "DEU",
          "DEU",
          "DEU",
          "DEU",
          "DEU",
          "DEU",
          "DEU",
          "DEU",
          "DEU",
          "DEU",
          "DEU",
          "DEU",
          "DEU",
          "DEU",
          "DEU",
          "DEU",
          "DEU",
          "AUT",
          "AUT",
          "AUT",
          "DEU",
          "DEU",
          "DEU",
          "DEU",
          "DEU",
          "DEU",
          "DEU",
          "DEU",
          "DEU",
          "DEU",
          "DEU",
          "DEU",
          "DEU",
          "DEU",
          "AUT",
          "DEU",
          "AUT",
          "AUT",
          "AUT",
          "AUT",
          "AUT",
          "AUT",
          "AUT",
          "DEU",
          "DEU",
          "DEU",
          "DEU",
          "DEU",
          "DEU",
          "DEU",
          "DEU",
          "DEU",
          "DEU",
          "DEU",
          "DEU",
          "DEU",
          "DEU",
          "DEU",
          "DEU",
          "DEU",
          "DEU",
          "DEU",
          "DEU",
          "DEU",
          "DEU",
          "DEU",
          "DEU",
          "DEU",
          "DEU",
          "DEU",
          "DEU",
          "DEU",
          "DEU",
          "DEU",
          "DEU",
          "DEU",
          "DEU",
          "DEU",
          "DEU",
          "AUT",
          "AUT",
          "DEU",
          "DEU",
          "AUT",
          "AUT",
          "AUT",
          "DEU",
          "DEU",
          "DEU",
          "AUT",
          "AUT",
          "AUT",
          "AUT",
          "AUT",
          "AUT",
          "DEU",
          "DEU",
          "DEU",
          "DEU",
          "DEU",
          "DEU",
          "DEU",
          "DEU",
          "DEU",
          "DEU",
          "DEU",
          "DEU",
          "AUT",
          "AUT",
          "AUT",
          "AUT",
          "AUT",
          "AUT",
          "AUT",
          "AUT",
          "AUT",
          "AUT",
          "DEU",
          "DEU",
          "DEU",
          "DEU",
          "DEU",
          "DEU",
          "DEU",
          "DEU",
          "DEU",
          "DEU",
          "DEU",
          "DEU",
          "DEU",
          "DEU",
          "DEU",
          "DEU",
          "DEU",
          "DEU",
          "DEU",
          "DEU",
          "DEU",
          "DEU",
          "DEU",
          "DEU",
          "DEU",
          "DEU",
          "DEU",
          "DEU",
          "DEU",
          "DEU",
          "DEU",
          "DEU",
          "DEU",
          "DEU",
          "DEU",
          "AUT",
          "DEU",
          "DEU",
          "DEU",
          "DEU",
          "DEU",
          "DEU",
          "DEU",
          "DEU",
          "DEU",
          "DEU",
          "DEU",
          "DEU",
          "DEU",
          "DEU",
          "DEU",
          "DEU",
          "DEU",
          "DEU",
          "DEU",
          "DEU",
          "DEU",
          "DEU",
          "DEU",
          "DEU",
          "CHE",
          "CHE",
          "CHE",
          "DEU",
          "DEU",
          "DEU",
          "AUT",
          "DEU",
          "DEU",
          "DEU",
          "DEU",
          "DEU",
          "DEU",
          "DEU",
          "DEU",
          "DEU",
          "DEU",
          "DEU",
          "DEU",
          "DEU",
          "DEU",
          "DEU",
          "DEU",
          "DEU",
          "DEU",
          "DEU",
          "DEU",
          "DEU",
          "DEU",
          "DEU",
          "DEU",
          "DEU",
          "DEU",
          "DEU",
          "DEU",
          "DEU",
          "DEU",
          "DEU",
          "DEU",
          "DEU",
          "DEU",
          "DEU",
          "DEU",
          "DEU",
          "DEU",
          "DEU",
          "AUT",
          "AUT",
          "AUT",
          "AUT",
          "AUT",
          "AUT",
          "AUT",
          "AUT",
          "AUT",
          "DEU",
          "DEU",
          "DEU",
          "DEU",
          "DEU",
          "DEU",
          "DEU",
          "DEU",
          "DEU",
          "DEU",
          "DEU",
          "DEU",
          "DEU",
          "DEU",
          "DEU",
          "DEU",
          "DEU",
          "DEU",
          "DEU",
          "DEU",
          "DEU",
          "DEU",
          "DEU",
          "DEU",
          "DEU",
          "DEU",
          "DEU",
          "DEU",
          "DEU",
          "DEU",
          "DEU",
          "DEU",
          "DEU",
          "DEU",
          "DEU",
          "DEU",
          "DEU",
          "DEU",
          "DEU",
          "DEU",
          "DEU",
          "DEU",
          "DEU",
          "DEU",
          "DEU",
          "DEU",
          "DEU",
          "DEU",
          "DEU",
          "DEU",
          "DEU",
          "DEU",
          "DEU",
          "DEU",
          "DEU",
          "DEU",
          "DEU",
          "DEU",
          "DEU",
          "DEU",
          "DEU",
          "DEU",
          "DEU",
          "DEU",
          "DEU",
          "DEU",
          "DEU",
          "DEU",
          "DEU",
          "DEU",
          "DEU",
          "DEU",
          "DEU",
          "DEU",
          "DEU",
          "AUT",
          "AUT",
          "AUT",
          "AUT",
          "DEU",
          "DEU",
          "DEU",
          "DEU",
          "DEU",
          "DEU",
          "DEU",
          "DEU",
          "DEU",
          "DEU",
          "DEU",
          "DEU",
          "AUT",
          "AUT",
          "DEU",
          "DEU",
          "DEU",
          "DEU",
          "DEU",
          "DEU",
          "DEU",
          "DEU",
          "DEU",
          "DEU",
          "DEU",
          "DEU",
          "AUT",
          "AUT",
          "AUT",
          "DEU",
          "DEU",
          "DEU",
          "DEU",
          "DEU",
          "DEU",
          "DEU",
          "DEU",
          "DEU",
          "CHE",
          "CHE",
          "CHE",
          "CHE",
          "CHE",
          "CHE",
          "CHE",
          "CHE",
          "CHE",
          "CHE",
          "CHE",
          "CHE",
          "CHE",
          "DEU",
          "DEU",
          "DEU",
          "DEU",
          "DEU",
          "DEU",
          "DEU",
          "DEU",
          "DEU",
          "DEU",
          "DEU",
          "DEU",
          "CHE",
          "CHE",
          "DEU",
          "DEU",
          "DEU",
          "DEU",
          "POL",
          "POL",
          "POL",
          "POL",
          "POL",
          "POL",
          "AUT",
          "AUT",
          "AUT",
          "AUT",
          "AUT",
          "AUT",
          "AUT",
          "DEU",
          "DEU",
          "DEU",
          "DEU",
          "DEU",
          "DEU",
          "DEU",
          "DEU",
          "DEU",
          "DEU",
          "DEU",
          "DEU",
          "DEU",
          "DEU",
          "DEU",
          "DEU",
          "AUT",
          "DEU",
          "DEU",
          "DEU",
          "DEU",
          "DEU",
          "DEU",
          "DEU",
          "DEU",
          "DEU",
          "DEU",
          "DEU",
          "DEU",
          "DEU",
          "DEU",
          "DEU",
          "DEU",
          "DEU",
          "DEU",
          "DEU",
          "DEU",
          "DEU",
          "DEU",
          "DEU",
          "DEU",
          "DEU",
          "DEU",
          "DEU",
          "DEU",
          "DEU",
          "DEU",
          "DEU",
          "DEU",
          "DEU",
          "DEU",
          "DEU",
          "DEU",
          "DEU",
          "DEU",
          "DEU",
          "DEU",
          "DEU",
          "DEU",
          "DEU",
          "DEU",
          "DEU",
          "DEU",
          "DEU",
          "DEU",
          "DEU",
          "DEU",
          "DEU",
          "DEU",
          "DEU",
          "DEU",
          "CHE",
          "CHE",
          "CHE",
          "DEU",
          "DEU",
          "DEU",
          "DEU",
          "DEU",
          "DEU",
          "DEU",
          "DEU",
          "DEU",
          "DEU",
          "DEU",
          "DEU",
          "DEU",
          "DEU",
          "DEU",
          "DEU",
          "DEU",
          "DEU",
          "DEU",
          "DEU",
          "DEU",
          "DEU",
          "DEU",
          "DEU",
          "DEU",
          "DEU",
          "DEU",
          "DEU",
          "DEU",
          "DEU",
          "DEU",
          "DEU",
          "DEU",
          "DEU",
          "DEU",
          "DEU",
          "DEU",
          "DEU",
          "DEU",
          "DEU",
          "DEU",
          "DEU",
          "DEU",
          "DEU",
          "DEU",
          "DEU",
          "DEU",
          "DEU",
          "DEU",
          "DEU",
          "DEU",
          "DEU",
          "DEU",
          "DEU",
          "DEU",
          "DEU",
          "DEU",
          "DEU",
          "DEU",
          "DEU",
          "DEU",
          "DEU",
          "DEU",
          "DEU",
          "DEU",
          "DEU",
          "DEU",
          "DEU",
          "DEU",
          "DEU",
          "DEU",
          "DEU",
          "DEU",
          "DEU",
          "DEU",
          "DEU",
          "DEU",
          "DEU",
          "DEU"
         ],
         "xaxis": "x",
         "yaxis": "y"
        },
        {
         "alignmentgroup": "True",
         "bingroup": "x",
         "hovertemplate": "gender=f<br>nationality=%{x}<br>count=%{y}<extra></extra>",
         "legendgroup": "f",
         "marker": {
          "color": "#EF553B",
          "pattern": {
           "shape": ""
          }
         },
         "name": "f",
         "offsetgroup": "f",
         "orientation": "v",
         "showlegend": true,
         "type": "histogram",
         "x": [
          "DEU",
          "DEU",
          "DEU",
          "DEU",
          "DEU",
          "DEU",
          "DEU",
          "DEU",
          "DEU",
          "DEU",
          "DEU",
          "DEU",
          "DEU",
          "DEU",
          "DEU",
          "DEU",
          "DEU",
          "DEU",
          "CHE",
          "DEU",
          "DEU",
          "DEU",
          "DEU",
          "DEU",
          "DEU",
          "DEU",
          "DEU",
          "DEU",
          "DEU",
          "DEU",
          "DEU",
          "AUT",
          "AUT",
          "AUT",
          "AUT",
          "AUT",
          "AUT",
          "DEU",
          "DEU",
          "DEU",
          "DEU",
          "DEU",
          "DEU",
          "DEU",
          "DEU",
          "DEU",
          "DEU",
          "DEU",
          "DEU",
          "DEU",
          "AUT",
          "DEU",
          "DEU",
          "DEU",
          "DEU",
          "DEU",
          "DEU",
          "DEU",
          "DEU",
          "DEU",
          "DEU",
          "DEU",
          "DEU",
          "AUT",
          "AUT",
          "AUT",
          "AUT",
          "AUT",
          "DEU",
          "DEU",
          "DEU",
          "DEU",
          "DEU",
          "DEU",
          "DEU",
          "DEU",
          "DEU",
          "DEU",
          "DEU",
          "AUT",
          "DEU",
          "DEU",
          "DEU",
          "DEU",
          "DEU",
          "DEU",
          "DEU",
          "DEU",
          "DEU",
          "DEU",
          "DEU",
          "DEU",
          "DEU",
          "DEU",
          "DEU",
          "DEU",
          "DEU",
          "DEU",
          "DEU",
          "DEU",
          "DEU",
          "DEU",
          "DEU",
          "DEU",
          "DEU",
          "DEU",
          "DEU",
          "DEU",
          "DEU",
          "DEU",
          "DEU",
          "DEU",
          "DEU",
          "DEU",
          "DEU",
          "DEU",
          "DEU",
          "DEU",
          "DEU",
          "DEU",
          "DEU",
          "DEU",
          "DEU",
          "DEU",
          "DEU",
          "DEU",
          "DEU",
          "DEU",
          "DEU",
          "DEU",
          "DEU",
          "DEU",
          "DEU",
          "DEU",
          "DEU",
          "DEU",
          "DEU",
          "DEU",
          "DEU",
          "DEU",
          "DEU",
          "DEU",
          "DEU",
          "DEU",
          "DEU",
          "DEU",
          "DEU",
          "DEU",
          "DEU",
          "DEU",
          "DEU",
          "DEU",
          "DEU",
          "AUT",
          "DEU",
          "DEU",
          "DEU",
          "DEU",
          "DEU",
          "DEU",
          "DEU",
          "DEU",
          "DEU",
          "DEU",
          "DEU",
          "DEU",
          "DEU",
          "DEU",
          "DEU",
          "DEU",
          "DEU",
          "DEU",
          "DEU",
          "DEU",
          "DEU",
          "DEU",
          "DEU",
          "DEU",
          "DEU",
          "DEU",
          "DEU",
          "DEU",
          "DEU",
          "DEU",
          "DEU",
          "DEU",
          "DEU",
          "DEU",
          "DEU",
          "DEU",
          "DEU",
          "DEU",
          "CHE",
          "CHE",
          "CHE",
          "DEU",
          "DEU",
          "DEU",
          "DEU",
          "DEU",
          "DEU",
          "DEU",
          "DEU",
          "DEU",
          "DEU",
          "DEU",
          "DEU",
          "DEU",
          "DEU",
          "DEU",
          "DEU",
          "DEU",
          "DEU",
          "DEU",
          "DEU",
          "DEU",
          "DEU",
          "DEU",
          "DEU",
          "DEU",
          "DEU",
          "DEU",
          "DEU",
          "DEU",
          "DEU",
          "DEU",
          "DEU",
          "DEU",
          "DEU",
          "DEU",
          "DEU",
          "DEU",
          "AUT",
          "AUT",
          "AUT",
          "AUT",
          "AUT",
          "AUT",
          "AUT",
          "AUT",
          "AUT",
          "AUT",
          "AUT",
          "AUT",
          "AUT",
          "AUT",
          "AUT",
          "DEU",
          "AUT",
          "AUT",
          "AUT",
          "AUT",
          "AUT",
          "AUT",
          "AUT",
          "AUT",
          "AUT",
          "AUT",
          "AUT",
          "AUT",
          "AUT",
          "AUT",
          "AUT",
          "AUT",
          "AUT",
          "AUT",
          "AUT",
          "AUT",
          "AUT",
          "DEU",
          "DEU",
          "DEU",
          "DEU",
          "DEU",
          "DEU",
          "DEU",
          "DEU",
          "DEU",
          "DEU",
          "DEU",
          "DEU",
          "DEU",
          "DEU",
          "DEU",
          "DEU",
          "DEU",
          "DEU",
          "DEU",
          "DEU",
          "DEU",
          "DEU",
          "DEU",
          "DEU",
          "DEU",
          "DEU",
          "DEU",
          "DEU",
          "DEU",
          "DEU",
          "DEU",
          "DEU",
          "DEU",
          "DEU",
          "DEU",
          "DEU",
          "DEU",
          "DEU",
          "DEU",
          "DEU",
          "DEU",
          "DEU",
          "DEU",
          "DEU",
          "DEU",
          "DEU",
          "DEU",
          "DEU",
          "DEU",
          "DEU",
          "DEU"
         ],
         "xaxis": "x",
         "yaxis": "y"
        }
       ],
       "layout": {
        "autosize": true,
        "barmode": "relative",
        "legend": {
         "title": {
          "text": "gender"
         },
         "tracegroupgap": 0
        },
        "margin": {
         "t": 60
        },
        "template": {
         "data": {
          "bar": [
           {
            "error_x": {
             "color": "#2a3f5f"
            },
            "error_y": {
             "color": "#2a3f5f"
            },
            "marker": {
             "line": {
              "color": "#E5ECF6",
              "width": 0.5
             },
             "pattern": {
              "fillmode": "overlay",
              "size": 10,
              "solidity": 0.2
             }
            },
            "type": "bar"
           }
          ],
          "barpolar": [
           {
            "marker": {
             "line": {
              "color": "#E5ECF6",
              "width": 0.5
             },
             "pattern": {
              "fillmode": "overlay",
              "size": 10,
              "solidity": 0.2
             }
            },
            "type": "barpolar"
           }
          ],
          "carpet": [
           {
            "aaxis": {
             "endlinecolor": "#2a3f5f",
             "gridcolor": "white",
             "linecolor": "white",
             "minorgridcolor": "white",
             "startlinecolor": "#2a3f5f"
            },
            "baxis": {
             "endlinecolor": "#2a3f5f",
             "gridcolor": "white",
             "linecolor": "white",
             "minorgridcolor": "white",
             "startlinecolor": "#2a3f5f"
            },
            "type": "carpet"
           }
          ],
          "choropleth": [
           {
            "colorbar": {
             "outlinewidth": 0,
             "ticks": ""
            },
            "type": "choropleth"
           }
          ],
          "contour": [
           {
            "colorbar": {
             "outlinewidth": 0,
             "ticks": ""
            },
            "colorscale": [
             [
              0,
              "#0d0887"
             ],
             [
              0.1111111111111111,
              "#46039f"
             ],
             [
              0.2222222222222222,
              "#7201a8"
             ],
             [
              0.3333333333333333,
              "#9c179e"
             ],
             [
              0.4444444444444444,
              "#bd3786"
             ],
             [
              0.5555555555555556,
              "#d8576b"
             ],
             [
              0.6666666666666666,
              "#ed7953"
             ],
             [
              0.7777777777777778,
              "#fb9f3a"
             ],
             [
              0.8888888888888888,
              "#fdca26"
             ],
             [
              1,
              "#f0f921"
             ]
            ],
            "type": "contour"
           }
          ],
          "contourcarpet": [
           {
            "colorbar": {
             "outlinewidth": 0,
             "ticks": ""
            },
            "type": "contourcarpet"
           }
          ],
          "heatmap": [
           {
            "colorbar": {
             "outlinewidth": 0,
             "ticks": ""
            },
            "colorscale": [
             [
              0,
              "#0d0887"
             ],
             [
              0.1111111111111111,
              "#46039f"
             ],
             [
              0.2222222222222222,
              "#7201a8"
             ],
             [
              0.3333333333333333,
              "#9c179e"
             ],
             [
              0.4444444444444444,
              "#bd3786"
             ],
             [
              0.5555555555555556,
              "#d8576b"
             ],
             [
              0.6666666666666666,
              "#ed7953"
             ],
             [
              0.7777777777777778,
              "#fb9f3a"
             ],
             [
              0.8888888888888888,
              "#fdca26"
             ],
             [
              1,
              "#f0f921"
             ]
            ],
            "type": "heatmap"
           }
          ],
          "heatmapgl": [
           {
            "colorbar": {
             "outlinewidth": 0,
             "ticks": ""
            },
            "colorscale": [
             [
              0,
              "#0d0887"
             ],
             [
              0.1111111111111111,
              "#46039f"
             ],
             [
              0.2222222222222222,
              "#7201a8"
             ],
             [
              0.3333333333333333,
              "#9c179e"
             ],
             [
              0.4444444444444444,
              "#bd3786"
             ],
             [
              0.5555555555555556,
              "#d8576b"
             ],
             [
              0.6666666666666666,
              "#ed7953"
             ],
             [
              0.7777777777777778,
              "#fb9f3a"
             ],
             [
              0.8888888888888888,
              "#fdca26"
             ],
             [
              1,
              "#f0f921"
             ]
            ],
            "type": "heatmapgl"
           }
          ],
          "histogram": [
           {
            "marker": {
             "pattern": {
              "fillmode": "overlay",
              "size": 10,
              "solidity": 0.2
             }
            },
            "type": "histogram"
           }
          ],
          "histogram2d": [
           {
            "colorbar": {
             "outlinewidth": 0,
             "ticks": ""
            },
            "colorscale": [
             [
              0,
              "#0d0887"
             ],
             [
              0.1111111111111111,
              "#46039f"
             ],
             [
              0.2222222222222222,
              "#7201a8"
             ],
             [
              0.3333333333333333,
              "#9c179e"
             ],
             [
              0.4444444444444444,
              "#bd3786"
             ],
             [
              0.5555555555555556,
              "#d8576b"
             ],
             [
              0.6666666666666666,
              "#ed7953"
             ],
             [
              0.7777777777777778,
              "#fb9f3a"
             ],
             [
              0.8888888888888888,
              "#fdca26"
             ],
             [
              1,
              "#f0f921"
             ]
            ],
            "type": "histogram2d"
           }
          ],
          "histogram2dcontour": [
           {
            "colorbar": {
             "outlinewidth": 0,
             "ticks": ""
            },
            "colorscale": [
             [
              0,
              "#0d0887"
             ],
             [
              0.1111111111111111,
              "#46039f"
             ],
             [
              0.2222222222222222,
              "#7201a8"
             ],
             [
              0.3333333333333333,
              "#9c179e"
             ],
             [
              0.4444444444444444,
              "#bd3786"
             ],
             [
              0.5555555555555556,
              "#d8576b"
             ],
             [
              0.6666666666666666,
              "#ed7953"
             ],
             [
              0.7777777777777778,
              "#fb9f3a"
             ],
             [
              0.8888888888888888,
              "#fdca26"
             ],
             [
              1,
              "#f0f921"
             ]
            ],
            "type": "histogram2dcontour"
           }
          ],
          "mesh3d": [
           {
            "colorbar": {
             "outlinewidth": 0,
             "ticks": ""
            },
            "type": "mesh3d"
           }
          ],
          "parcoords": [
           {
            "line": {
             "colorbar": {
              "outlinewidth": 0,
              "ticks": ""
             }
            },
            "type": "parcoords"
           }
          ],
          "pie": [
           {
            "automargin": true,
            "type": "pie"
           }
          ],
          "scatter": [
           {
            "fillpattern": {
             "fillmode": "overlay",
             "size": 10,
             "solidity": 0.2
            },
            "type": "scatter"
           }
          ],
          "scatter3d": [
           {
            "line": {
             "colorbar": {
              "outlinewidth": 0,
              "ticks": ""
             }
            },
            "marker": {
             "colorbar": {
              "outlinewidth": 0,
              "ticks": ""
             }
            },
            "type": "scatter3d"
           }
          ],
          "scattercarpet": [
           {
            "marker": {
             "colorbar": {
              "outlinewidth": 0,
              "ticks": ""
             }
            },
            "type": "scattercarpet"
           }
          ],
          "scattergeo": [
           {
            "marker": {
             "colorbar": {
              "outlinewidth": 0,
              "ticks": ""
             }
            },
            "type": "scattergeo"
           }
          ],
          "scattergl": [
           {
            "marker": {
             "colorbar": {
              "outlinewidth": 0,
              "ticks": ""
             }
            },
            "type": "scattergl"
           }
          ],
          "scattermapbox": [
           {
            "marker": {
             "colorbar": {
              "outlinewidth": 0,
              "ticks": ""
             }
            },
            "type": "scattermapbox"
           }
          ],
          "scatterpolar": [
           {
            "marker": {
             "colorbar": {
              "outlinewidth": 0,
              "ticks": ""
             }
            },
            "type": "scatterpolar"
           }
          ],
          "scatterpolargl": [
           {
            "marker": {
             "colorbar": {
              "outlinewidth": 0,
              "ticks": ""
             }
            },
            "type": "scatterpolargl"
           }
          ],
          "scatterternary": [
           {
            "marker": {
             "colorbar": {
              "outlinewidth": 0,
              "ticks": ""
             }
            },
            "type": "scatterternary"
           }
          ],
          "surface": [
           {
            "colorbar": {
             "outlinewidth": 0,
             "ticks": ""
            },
            "colorscale": [
             [
              0,
              "#0d0887"
             ],
             [
              0.1111111111111111,
              "#46039f"
             ],
             [
              0.2222222222222222,
              "#7201a8"
             ],
             [
              0.3333333333333333,
              "#9c179e"
             ],
             [
              0.4444444444444444,
              "#bd3786"
             ],
             [
              0.5555555555555556,
              "#d8576b"
             ],
             [
              0.6666666666666666,
              "#ed7953"
             ],
             [
              0.7777777777777778,
              "#fb9f3a"
             ],
             [
              0.8888888888888888,
              "#fdca26"
             ],
             [
              1,
              "#f0f921"
             ]
            ],
            "type": "surface"
           }
          ],
          "table": [
           {
            "cells": {
             "fill": {
              "color": "#EBF0F8"
             },
             "line": {
              "color": "white"
             }
            },
            "header": {
             "fill": {
              "color": "#C8D4E3"
             },
             "line": {
              "color": "white"
             }
            },
            "type": "table"
           }
          ]
         },
         "layout": {
          "annotationdefaults": {
           "arrowcolor": "#2a3f5f",
           "arrowhead": 0,
           "arrowwidth": 1
          },
          "autotypenumbers": "strict",
          "coloraxis": {
           "colorbar": {
            "outlinewidth": 0,
            "ticks": ""
           }
          },
          "colorscale": {
           "diverging": [
            [
             0,
             "#8e0152"
            ],
            [
             0.1,
             "#c51b7d"
            ],
            [
             0.2,
             "#de77ae"
            ],
            [
             0.3,
             "#f1b6da"
            ],
            [
             0.4,
             "#fde0ef"
            ],
            [
             0.5,
             "#f7f7f7"
            ],
            [
             0.6,
             "#e6f5d0"
            ],
            [
             0.7,
             "#b8e186"
            ],
            [
             0.8,
             "#7fbc41"
            ],
            [
             0.9,
             "#4d9221"
            ],
            [
             1,
             "#276419"
            ]
           ],
           "sequential": [
            [
             0,
             "#0d0887"
            ],
            [
             0.1111111111111111,
             "#46039f"
            ],
            [
             0.2222222222222222,
             "#7201a8"
            ],
            [
             0.3333333333333333,
             "#9c179e"
            ],
            [
             0.4444444444444444,
             "#bd3786"
            ],
            [
             0.5555555555555556,
             "#d8576b"
            ],
            [
             0.6666666666666666,
             "#ed7953"
            ],
            [
             0.7777777777777778,
             "#fb9f3a"
            ],
            [
             0.8888888888888888,
             "#fdca26"
            ],
            [
             1,
             "#f0f921"
            ]
           ],
           "sequentialminus": [
            [
             0,
             "#0d0887"
            ],
            [
             0.1111111111111111,
             "#46039f"
            ],
            [
             0.2222222222222222,
             "#7201a8"
            ],
            [
             0.3333333333333333,
             "#9c179e"
            ],
            [
             0.4444444444444444,
             "#bd3786"
            ],
            [
             0.5555555555555556,
             "#d8576b"
            ],
            [
             0.6666666666666666,
             "#ed7953"
            ],
            [
             0.7777777777777778,
             "#fb9f3a"
            ],
            [
             0.8888888888888888,
             "#fdca26"
            ],
            [
             1,
             "#f0f921"
            ]
           ]
          },
          "colorway": [
           "#636efa",
           "#EF553B",
           "#00cc96",
           "#ab63fa",
           "#FFA15A",
           "#19d3f3",
           "#FF6692",
           "#B6E880",
           "#FF97FF",
           "#FECB52"
          ],
          "font": {
           "color": "#2a3f5f"
          },
          "geo": {
           "bgcolor": "white",
           "lakecolor": "white",
           "landcolor": "#E5ECF6",
           "showlakes": true,
           "showland": true,
           "subunitcolor": "white"
          },
          "hoverlabel": {
           "align": "left"
          },
          "hovermode": "closest",
          "mapbox": {
           "style": "light"
          },
          "paper_bgcolor": "white",
          "plot_bgcolor": "#E5ECF6",
          "polar": {
           "angularaxis": {
            "gridcolor": "white",
            "linecolor": "white",
            "ticks": ""
           },
           "bgcolor": "#E5ECF6",
           "radialaxis": {
            "gridcolor": "white",
            "linecolor": "white",
            "ticks": ""
           }
          },
          "scene": {
           "xaxis": {
            "backgroundcolor": "#E5ECF6",
            "gridcolor": "white",
            "gridwidth": 2,
            "linecolor": "white",
            "showbackground": true,
            "ticks": "",
            "zerolinecolor": "white"
           },
           "yaxis": {
            "backgroundcolor": "#E5ECF6",
            "gridcolor": "white",
            "gridwidth": 2,
            "linecolor": "white",
            "showbackground": true,
            "ticks": "",
            "zerolinecolor": "white"
           },
           "zaxis": {
            "backgroundcolor": "#E5ECF6",
            "gridcolor": "white",
            "gridwidth": 2,
            "linecolor": "white",
            "showbackground": true,
            "ticks": "",
            "zerolinecolor": "white"
           }
          },
          "shapedefaults": {
           "line": {
            "color": "#2a3f5f"
           }
          },
          "ternary": {
           "aaxis": {
            "gridcolor": "white",
            "linecolor": "white",
            "ticks": ""
           },
           "baxis": {
            "gridcolor": "white",
            "linecolor": "white",
            "ticks": ""
           },
           "bgcolor": "#E5ECF6",
           "caxis": {
            "gridcolor": "white",
            "linecolor": "white",
            "ticks": ""
           }
          },
          "title": {
           "x": 0.05
          },
          "xaxis": {
           "automargin": true,
           "gridcolor": "white",
           "linecolor": "white",
           "ticks": "",
           "title": {
            "standoff": 15
           },
           "zerolinecolor": "white",
           "zerolinewidth": 2
          },
          "yaxis": {
           "automargin": true,
           "gridcolor": "white",
           "linecolor": "white",
           "ticks": "",
           "title": {
            "standoff": 15
           },
           "zerolinecolor": "white",
           "zerolinewidth": 2
          }
         }
        },
        "xaxis": {
         "anchor": "y",
         "autorange": true,
         "domain": [
          0,
          1
         ],
         "range": [
          -0.5,
          3.5
         ],
         "title": {
          "text": "nationality"
         },
         "type": "category"
        },
        "yaxis": {
         "anchor": "x",
         "autorange": true,
         "domain": [
          0,
          1
         ],
         "range": [
          0,
          1456.842105263158
         ],
         "title": {
          "text": "count"
         }
        }
       }
      },
      "image/png": "[encoded data removed]",
      "text/html": [
       "<div>                            <div id=\"900aed7b-4402-4d17-bd00-73f0f2c76c7d\" class=\"plotly-graph-div\" style=\"height:525px; width:100%;\"></div>            <script type=\"text/javascript\">                require([\"plotly\"], function(Plotly) {                    window.PLOTLYENV=window.PLOTLYENV || {};                                    if (document.getElementById(\"900aed7b-4402-4d17-bd00-73f0f2c76c7d\")) {                    Plotly.newPlot(                        \"900aed7b-4402-4d17-bd00-73f0f2c76c7d\",                        [{\"alignmentgroup\":\"True\",\"bingroup\":\"x\",\"hovertemplate\":\"gender=m\\u003cbr\\u003enationality=%{x}\\u003cbr\\u003ecount=%{y}\\u003cextra\\u003e\\u003c\\u002fextra\\u003e\",\"legendgroup\":\"m\",\"marker\":{\"color\":\"#636efa\",\"pattern\":{\"shape\":\"\"}},\"name\":\"m\",\"offsetgroup\":\"m\",\"orientation\":\"v\",\"showlegend\":true,\"x\":[\"DEU\",\"DEU\",\"DEU\",\"DEU\",\"DEU\",\"DEU\",\"DEU\",\"DEU\",\"DEU\",\"DEU\",\"DEU\",\"DEU\",\"DEU\",\"DEU\",\"DEU\",\"DEU\",\"DEU\",\"DEU\",\"DEU\",\"DEU\",\"DEU\",\"DEU\",\"CHE\",\"DEU\",\"DEU\",\"DEU\",\"DEU\",\"DEU\",\"DEU\",\"DEU\",\"DEU\",\"DEU\",\"DEU\",\"DEU\",\"DEU\",\"DEU\",\"DEU\",\"DEU\",\"DEU\",\"DEU\",\"DEU\",\"DEU\",\"DEU\",\"DEU\",\"DEU\",\"DEU\",\"DEU\",\"DEU\",\"DEU\",\"DEU\",\"DEU\",\"DEU\",\"DEU\",\"DEU\",\"DEU\",\"DEU\",\"DEU\",\"DEU\",\"DEU\",\"DEU\",\"DEU\",\"DEU\",\"DEU\",\"DEU\",\"DEU\",\"DEU\",\"DEU\",\"DEU\",\"DEU\",\"DEU\",\"DEU\",\"DEU\",\"DEU\",\"DEU\",\"DEU\",\"DEU\",\"DEU\",\"DEU\",\"DEU\",\"DEU\",\"DEU\",\"DEU\",\"DEU\",\"DEU\",\"DEU\",\"DEU\",\"DEU\",\"DEU\",\"DEU\",\"DEU\",\"DEU\",\"DEU\",\"DEU\",\"DEU\",\"DEU\",\"DEU\",\"DEU\",\"DEU\",\"DEU\",\"DEU\",\"DEU\",\"DEU\",\"DEU\",\"DEU\",\"DEU\",\"DEU\",\"DEU\",\"DEU\",\"DEU\",\"DEU\",\"DEU\",\"DEU\",\"DEU\",\"DEU\",\"DEU\",\"DEU\",\"DEU\",\"DEU\",\"DEU\",\"DEU\",\"DEU\",\"CHE\",\"DEU\",\"DEU\",\"DEU\",\"DEU\",\"DEU\",\"DEU\",\"DEU\",\"DEU\",\"DEU\",\"DEU\",\"DEU\",\"DEU\",\"AUT\",\"AUT\",\"CHE\",\"CHE\",\"CHE\",\"DEU\",\"AUT\",\"CHE\",\"DEU\",\"DEU\",\"DEU\",\"DEU\",\"CHE\",\"DEU\",\"AUT\",\"AUT\",\"AUT\",\"DEU\",\"DEU\",\"DEU\",\"DEU\",\"DEU\",\"DEU\",\"DEU\",\"DEU\",\"DEU\",\"DEU\",\"DEU\",\"DEU\",\"DEU\",\"DEU\",\"DEU\",\"CHE\",\"DEU\",\"CHE\",\"AUT\",\"AUT\",\"DEU\",\"DEU\",\"DEU\",\"DEU\",\"DEU\",\"DEU\",\"AUT\",\"CHE\",\"DEU\",\"DEU\",\"DEU\",\"DEU\",\"DEU\",\"DEU\",\"DEU\",\"DEU\",\"DEU\",\"DEU\",\"DEU\",\"DEU\",\"DEU\",\"DEU\",\"DEU\",\"DEU\",\"DEU\",\"DEU\",\"DEU\",\"DEU\",\"DEU\",\"DEU\",\"AUT\",\"DEU\",\"DEU\",\"AUT\",\"DEU\",\"AUT\",\"DEU\",\"DEU\",\"AUT\",\"DEU\",\"DEU\",\"DEU\",\"DEU\",\"AUT\",\"AUT\",\"DEU\",\"AUT\",\"DEU\",\"DEU\",\"CHE\",\"DEU\",\"DEU\",\"AUT\",\"CHE\",\"CHE\",\"DEU\",\"AUT\",\"DEU\",\"DEU\",\"DEU\",\"DEU\",\"AUT\",\"AUT\",\"DEU\",\"DEU\",\"DEU\",\"AUT\",\"DEU\",\"DEU\",\"DEU\",\"DEU\",\"DEU\",\"AUT\",\"CHE\",\"CHE\",\"DEU\",\"DEU\",\"DEU\",\"DEU\",\"DEU\",\"DEU\",\"DEU\",\"DEU\",\"AUT\",\"AUT\",\"AUT\",\"AUT\",\"AUT\",\"AUT\",\"AUT\",\"AUT\",\"AUT\",\"DEU\",\"DEU\",\"DEU\",\"DEU\",\"AUT\",\"AUT\",\"AUT\",\"DEU\",\"DEU\",\"DEU\",\"AUT\",\"AUT\",\"AUT\",\"AUT\",\"AUT\",\"AUT\",\"AUT\",\"DEU\",\"DEU\",\"DEU\",\"DEU\",\"DEU\",\"DEU\",\"DEU\",\"DEU\",\"DEU\",\"DEU\",\"DEU\",\"DEU\",\"DEU\",\"DEU\",\"DEU\",\"DEU\",\"DEU\",\"DEU\",\"DEU\",\"DEU\",\"DEU\",\"AUT\",\"AUT\",\"AUT\",\"AUT\",\"AUT\",\"AUT\",\"AUT\",\"AUT\",\"AUT\",\"AUT\",\"AUT\",\"AUT\",\"AUT\",\"AUT\",\"AUT\",\"AUT\",\"AUT\",\"AUT\",\"AUT\",\"AUT\",\"AUT\",\"AUT\",\"AUT\",\"AUT\",\"AUT\",\"AUT\",\"AUT\",\"AUT\",\"AUT\",\"AUT\",\"AUT\",\"AUT\",\"AUT\",\"AUT\",\"AUT\",\"AUT\",\"AUT\",\"AUT\",\"AUT\",\"AUT\",\"AUT\",\"AUT\",\"AUT\",\"AUT\",\"AUT\",\"AUT\",\"AUT\",\"AUT\",\"AUT\",\"AUT\",\"AUT\",\"AUT\",\"AUT\",\"AUT\",\"AUT\",\"AUT\",\"AUT\",\"DEU\",\"DEU\",\"DEU\",\"DEU\",\"DEU\",\"DEU\",\"DEU\",\"DEU\",\"DEU\",\"DEU\",\"DEU\",\"DEU\",\"DEU\",\"DEU\",\"DEU\",\"DEU\",\"DEU\",\"AUT\",\"AUT\",\"AUT\",\"AUT\",\"AUT\",\"DEU\",\"DEU\",\"DEU\",\"DEU\",\"DEU\",\"DEU\",\"DEU\",\"DEU\",\"DEU\",\"DEU\",\"DEU\",\"DEU\",\"DEU\",\"CHE\",\"CHE\",\"DEU\",\"DEU\",\"DEU\",\"DEU\",\"DEU\",\"DEU\",\"DEU\",\"DEU\",\"DEU\",\"DEU\",\"DEU\",\"CHE\",\"CHE\",\"CHE\",\"AUT\",\"AUT\",\"DEU\",\"DEU\",\"DEU\",\"DEU\",\"DEU\",\"DEU\",\"DEU\",\"DEU\",\"DEU\",\"DEU\",\"DEU\",\"DEU\",\"DEU\",\"DEU\",\"DEU\",\"DEU\",\"DEU\",\"DEU\",\"CHE\",\"CHE\",\"CHE\",\"CHE\",\"CHE\",\"CHE\",\"CHE\",\"CHE\",\"CHE\",\"CHE\",\"CHE\",\"DEU\",\"DEU\",\"DEU\",\"DEU\",\"DEU\",\"DEU\",\"DEU\",\"DEU\",\"DEU\",\"DEU\",\"DEU\",\"DEU\",\"DEU\",\"DEU\",\"DEU\",\"DEU\",\"DEU\",\"DEU\",\"DEU\",\"DEU\",\"DEU\",\"DEU\",\"DEU\",\"DEU\",\"DEU\",\"DEU\",\"DEU\",\"AUT\",\"DEU\",\"DEU\",\"DEU\",\"DEU\",\"DEU\",\"DEU\",\"DEU\",\"DEU\",\"AUT\",\"DEU\",\"DEU\",\"DEU\",\"DEU\",\"DEU\",\"DEU\",\"DEU\",\"DEU\",\"DEU\",\"DEU\",\"DEU\",\"DEU\",\"DEU\",\"DEU\",\"DEU\",\"DEU\",\"DEU\",\"DEU\",\"DEU\",\"DEU\",\"DEU\",\"DEU\",\"DEU\",\"DEU\",\"DEU\",\"DEU\",\"DEU\",\"DEU\",\"DEU\",\"DEU\",\"DEU\",\"DEU\",\"DEU\",\"DEU\",\"DEU\",\"DEU\",\"DEU\",\"DEU\",\"DEU\",\"DEU\",\"DEU\",\"DEU\",\"DEU\",\"DEU\",\"DEU\",\"DEU\",\"DEU\",\"DEU\",\"DEU\",\"AUT\",\"AUT\",\"AUT\",\"AUT\",\"AUT\",\"AUT\",\"DEU\",\"DEU\",\"DEU\",\"AUT\",\"AUT\",\"AUT\",\"DEU\",\"DEU\",\"DEU\",\"DEU\",\"DEU\",\"DEU\",\"DEU\",\"DEU\",\"CHE\",\"CHE\",\"CHE\",\"DEU\",\"DEU\",\"DEU\",\"DEU\",\"DEU\",\"DEU\",\"DEU\",\"DEU\",\"DEU\",\"DEU\",\"DEU\",\"DEU\",\"DEU\",\"DEU\",\"DEU\",\"DEU\",\"DEU\",\"DEU\",\"DEU\",\"DEU\",\"DEU\",\"DEU\",\"DEU\",\"DEU\",\"DEU\",\"DEU\",\"DEU\",\"DEU\",\"DEU\",\"DEU\",\"DEU\",\"DEU\",\"DEU\",\"DEU\",\"DEU\",\"DEU\",\"DEU\",\"DEU\",\"DEU\",\"DEU\",\"DEU\",\"DEU\",\"DEU\",\"DEU\",\"DEU\",\"DEU\",\"DEU\",\"DEU\",\"DEU\",\"DEU\",\"DEU\",\"DEU\",\"DEU\",\"DEU\",\"DEU\",\"DEU\",\"DEU\",\"DEU\",\"DEU\",\"DEU\",\"DEU\",\"DEU\",\"DEU\",\"DEU\",\"DEU\",\"DEU\",\"DEU\",\"DEU\",\"DEU\",\"DEU\",\"DEU\",\"DEU\",\"DEU\",\"DEU\",\"DEU\",\"DEU\",\"DEU\",\"DEU\",\"DEU\",\"DEU\",\"DEU\",\"DEU\",\"DEU\",\"DEU\",\"DEU\",\"DEU\",\"DEU\",\"DEU\",\"DEU\",\"DEU\",\"DEU\",\"DEU\",\"DEU\",\"DEU\",\"DEU\",\"DEU\",\"DEU\",\"DEU\",\"DEU\",\"DEU\",\"DEU\",\"DEU\",\"DEU\",\"DEU\",\"DEU\",\"DEU\",\"DEU\",\"DEU\",\"DEU\",\"AUT\",\"DEU\",\"DEU\",\"DEU\",\"DEU\",\"DEU\",\"DEU\",\"DEU\",\"DEU\",\"DEU\",\"DEU\",\"DEU\",\"DEU\",\"DEU\",\"DEU\",\"DEU\",\"DEU\",\"DEU\",\"DEU\",\"DEU\",\"DEU\",\"DEU\",\"DEU\",\"DEU\",\"DEU\",\"DEU\",\"DEU\",\"DEU\",\"DEU\",\"DEU\",\"DEU\",\"DEU\",\"DEU\",\"DEU\",\"DEU\",\"DEU\",\"DEU\",\"DEU\",\"DEU\",\"DEU\",\"DEU\",\"DEU\",\"DEU\",\"DEU\",\"DEU\",\"CHE\",\"CHE\",\"CHE\",\"DEU\",\"DEU\",\"DEU\",\"DEU\",\"DEU\",\"DEU\",\"DEU\",\"DEU\",\"DEU\",\"DEU\",\"AUT\",\"AUT\",\"AUT\",\"AUT\",\"AUT\",\"AUT\",\"AUT\",\"AUT\",\"AUT\",\"DEU\",\"DEU\",\"DEU\",\"DEU\",\"DEU\",\"DEU\",\"DEU\",\"DEU\",\"DEU\",\"DEU\",\"DEU\",\"DEU\",\"DEU\",\"DEU\",\"DEU\",\"DEU\",\"DEU\",\"DEU\",\"DEU\",\"DEU\",\"DEU\",\"CHE\",\"CHE\",\"CHE\",\"CHE\",\"CHE\",\"CHE\",\"CHE\",\"CHE\",\"CHE\",\"CHE\",\"CHE\",\"CHE\",\"DEU\",\"DEU\",\"DEU\",\"DEU\",\"DEU\",\"DEU\",\"DEU\",\"DEU\",\"DEU\",\"DEU\",\"DEU\",\"DEU\",\"DEU\",\"DEU\",\"DEU\",\"DEU\",\"DEU\",\"CHE\",\"CHE\",\"CHE\",\"CHE\",\"CHE\",\"CHE\",\"CHE\",\"CHE\",\"CHE\",\"DEU\",\"DEU\",\"AUT\",\"AUT\",\"AUT\",\"AUT\",\"DEU\",\"DEU\",\"DEU\",\"DEU\",\"DEU\",\"DEU\",\"DEU\",\"DEU\",\"DEU\",\"DEU\",\"DEU\",\"DEU\",\"DEU\",\"DEU\",\"DEU\",\"DEU\",\"DEU\",\"DEU\",\"AUT\",\"AUT\",\"AUT\",\"AUT\",\"AUT\",\"AUT\",\"AUT\",\"AUT\",\"AUT\",\"AUT\",\"AUT\",\"AUT\",\"DEU\",\"CHE\",\"CHE\",\"CHE\",\"CHE\",\"CHE\",\"CHE\",\"CHE\",\"AUT\",\"AUT\",\"AUT\",\"AUT\",\"AUT\",\"AUT\",\"AUT\",\"AUT\",\"AUT\",\"AUT\",\"DEU\",\"DEU\",\"DEU\",\"DEU\",\"DEU\",\"DEU\",\"DEU\",\"DEU\",\"DEU\",\"DEU\",\"DEU\",\"DEU\",\"DEU\",\"DEU\",\"DEU\",\"DEU\",\"DEU\",\"DEU\",\"DEU\",\"DEU\",\"DEU\",\"DEU\",\"DEU\",\"CHE\",\"CHE\",\"CHE\",\"CHE\",\"CHE\",\"CHE\",\"CHE\",\"CHE\",\"CHE\",\"DEU\",\"DEU\",\"AUT\",\"AUT\",\"AUT\",\"AUT\",\"AUT\",\"AUT\",\"AUT\",\"AUT\",\"AUT\",\"AUT\",\"DEU\",\"DEU\",\"DEU\",\"DEU\",\"DEU\",\"DEU\",\"DEU\",\"DEU\",\"DEU\",\"DEU\",\"AUT\",\"AUT\",\"AUT\",\"DEU\",\"DEU\",\"DEU\",\"DEU\",\"DEU\",\"DEU\",\"DEU\",\"DEU\",\"DEU\",\"DEU\",\"DEU\",\"DEU\",\"DEU\",\"DEU\",\"DEU\",\"DEU\",\"DEU\",\"DEU\",\"DEU\",\"DEU\",\"AUT\",\"AUT\",\"AUT\",\"DEU\",\"DEU\",\"DEU\",\"DEU\",\"DEU\",\"DEU\",\"DEU\",\"DEU\",\"DEU\",\"DEU\",\"DEU\",\"DEU\",\"DEU\",\"DEU\",\"AUT\",\"DEU\",\"AUT\",\"AUT\",\"AUT\",\"AUT\",\"AUT\",\"AUT\",\"AUT\",\"DEU\",\"DEU\",\"DEU\",\"DEU\",\"DEU\",\"DEU\",\"DEU\",\"DEU\",\"DEU\",\"DEU\",\"DEU\",\"DEU\",\"DEU\",\"DEU\",\"DEU\",\"DEU\",\"DEU\",\"DEU\",\"DEU\",\"DEU\",\"DEU\",\"DEU\",\"DEU\",\"DEU\",\"DEU\",\"DEU\",\"DEU\",\"DEU\",\"DEU\",\"DEU\",\"DEU\",\"DEU\",\"DEU\",\"DEU\",\"DEU\",\"DEU\",\"AUT\",\"AUT\",\"DEU\",\"DEU\",\"AUT\",\"AUT\",\"AUT\",\"DEU\",\"DEU\",\"DEU\",\"AUT\",\"AUT\",\"AUT\",\"AUT\",\"AUT\",\"AUT\",\"DEU\",\"DEU\",\"DEU\",\"DEU\",\"DEU\",\"DEU\",\"DEU\",\"DEU\",\"DEU\",\"DEU\",\"DEU\",\"DEU\",\"AUT\",\"AUT\",\"AUT\",\"AUT\",\"AUT\",\"AUT\",\"AUT\",\"AUT\",\"AUT\",\"AUT\",\"DEU\",\"DEU\",\"DEU\",\"DEU\",\"DEU\",\"DEU\",\"DEU\",\"DEU\",\"DEU\",\"DEU\",\"DEU\",\"DEU\",\"DEU\",\"DEU\",\"DEU\",\"DEU\",\"DEU\",\"DEU\",\"DEU\",\"DEU\",\"DEU\",\"DEU\",\"DEU\",\"DEU\",\"DEU\",\"DEU\",\"DEU\",\"DEU\",\"DEU\",\"DEU\",\"DEU\",\"DEU\",\"DEU\",\"DEU\",\"DEU\",\"AUT\",\"DEU\",\"DEU\",\"DEU\",\"DEU\",\"DEU\",\"DEU\",\"DEU\",\"DEU\",\"DEU\",\"DEU\",\"DEU\",\"DEU\",\"DEU\",\"DEU\",\"DEU\",\"DEU\",\"DEU\",\"DEU\",\"DEU\",\"DEU\",\"DEU\",\"DEU\",\"DEU\",\"DEU\",\"CHE\",\"CHE\",\"CHE\",\"DEU\",\"DEU\",\"DEU\",\"AUT\",\"DEU\",\"DEU\",\"DEU\",\"DEU\",\"DEU\",\"DEU\",\"DEU\",\"DEU\",\"DEU\",\"DEU\",\"DEU\",\"DEU\",\"DEU\",\"DEU\",\"DEU\",\"DEU\",\"DEU\",\"DEU\",\"DEU\",\"DEU\",\"DEU\",\"DEU\",\"DEU\",\"DEU\",\"DEU\",\"DEU\",\"DEU\",\"DEU\",\"DEU\",\"DEU\",\"DEU\",\"DEU\",\"DEU\",\"DEU\",\"DEU\",\"DEU\",\"DEU\",\"DEU\",\"DEU\",\"AUT\",\"AUT\",\"AUT\",\"AUT\",\"AUT\",\"AUT\",\"AUT\",\"AUT\",\"AUT\",\"DEU\",\"DEU\",\"DEU\",\"DEU\",\"DEU\",\"DEU\",\"DEU\",\"DEU\",\"DEU\",\"DEU\",\"DEU\",\"DEU\",\"DEU\",\"DEU\",\"DEU\",\"DEU\",\"DEU\",\"DEU\",\"DEU\",\"DEU\",\"DEU\",\"DEU\",\"DEU\",\"DEU\",\"DEU\",\"DEU\",\"DEU\",\"DEU\",\"DEU\",\"DEU\",\"DEU\",\"DEU\",\"DEU\",\"DEU\",\"DEU\",\"DEU\",\"DEU\",\"DEU\",\"DEU\",\"DEU\",\"DEU\",\"DEU\",\"DEU\",\"DEU\",\"DEU\",\"DEU\",\"DEU\",\"DEU\",\"DEU\",\"DEU\",\"DEU\",\"DEU\",\"DEU\",\"DEU\",\"DEU\",\"DEU\",\"DEU\",\"DEU\",\"DEU\",\"DEU\",\"DEU\",\"DEU\",\"DEU\",\"DEU\",\"DEU\",\"DEU\",\"DEU\",\"DEU\",\"DEU\",\"DEU\",\"DEU\",\"DEU\",\"DEU\",\"DEU\",\"DEU\",\"AUT\",\"AUT\",\"AUT\",\"AUT\",\"DEU\",\"DEU\",\"DEU\",\"DEU\",\"DEU\",\"DEU\",\"DEU\",\"DEU\",\"DEU\",\"DEU\",\"DEU\",\"DEU\",\"AUT\",\"AUT\",\"DEU\",\"DEU\",\"DEU\",\"DEU\",\"DEU\",\"DEU\",\"DEU\",\"DEU\",\"DEU\",\"DEU\",\"DEU\",\"DEU\",\"AUT\",\"AUT\",\"AUT\",\"DEU\",\"DEU\",\"DEU\",\"DEU\",\"DEU\",\"DEU\",\"DEU\",\"DEU\",\"DEU\",\"CHE\",\"CHE\",\"CHE\",\"CHE\",\"CHE\",\"CHE\",\"CHE\",\"CHE\",\"CHE\",\"CHE\",\"CHE\",\"CHE\",\"CHE\",\"DEU\",\"DEU\",\"DEU\",\"DEU\",\"DEU\",\"DEU\",\"DEU\",\"DEU\",\"DEU\",\"DEU\",\"DEU\",\"DEU\",\"CHE\",\"CHE\",\"DEU\",\"DEU\",\"DEU\",\"DEU\",\"POL\",\"POL\",\"POL\",\"POL\",\"POL\",\"POL\",\"AUT\",\"AUT\",\"AUT\",\"AUT\",\"AUT\",\"AUT\",\"AUT\",\"DEU\",\"DEU\",\"DEU\",\"DEU\",\"DEU\",\"DEU\",\"DEU\",\"DEU\",\"DEU\",\"DEU\",\"DEU\",\"DEU\",\"DEU\",\"DEU\",\"DEU\",\"DEU\",\"AUT\",\"DEU\",\"DEU\",\"DEU\",\"DEU\",\"DEU\",\"DEU\",\"DEU\",\"DEU\",\"DEU\",\"DEU\",\"DEU\",\"DEU\",\"DEU\",\"DEU\",\"DEU\",\"DEU\",\"DEU\",\"DEU\",\"DEU\",\"DEU\",\"DEU\",\"DEU\",\"DEU\",\"DEU\",\"DEU\",\"DEU\",\"DEU\",\"DEU\",\"DEU\",\"DEU\",\"DEU\",\"DEU\",\"DEU\",\"DEU\",\"DEU\",\"DEU\",\"DEU\",\"DEU\",\"DEU\",\"DEU\",\"DEU\",\"DEU\",\"DEU\",\"DEU\",\"DEU\",\"DEU\",\"DEU\",\"DEU\",\"DEU\",\"DEU\",\"DEU\",\"DEU\",\"DEU\",\"DEU\",\"CHE\",\"CHE\",\"CHE\",\"DEU\",\"DEU\",\"DEU\",\"DEU\",\"DEU\",\"DEU\",\"DEU\",\"DEU\",\"DEU\",\"DEU\",\"DEU\",\"DEU\",\"DEU\",\"DEU\",\"DEU\",\"DEU\",\"DEU\",\"DEU\",\"DEU\",\"DEU\",\"DEU\",\"DEU\",\"DEU\",\"DEU\",\"DEU\",\"DEU\",\"DEU\",\"DEU\",\"DEU\",\"DEU\",\"DEU\",\"DEU\",\"DEU\",\"DEU\",\"DEU\",\"DEU\",\"DEU\",\"DEU\",\"DEU\",\"DEU\",\"DEU\",\"DEU\",\"DEU\",\"DEU\",\"DEU\",\"DEU\",\"DEU\",\"DEU\",\"DEU\",\"DEU\",\"DEU\",\"DEU\",\"DEU\",\"DEU\",\"DEU\",\"DEU\",\"DEU\",\"DEU\",\"DEU\",\"DEU\",\"DEU\",\"DEU\",\"DEU\",\"DEU\",\"DEU\",\"DEU\",\"DEU\",\"DEU\",\"DEU\",\"DEU\",\"DEU\",\"DEU\",\"DEU\",\"DEU\",\"DEU\",\"DEU\",\"DEU\",\"DEU\",\"DEU\"],\"xaxis\":\"x\",\"yaxis\":\"y\",\"type\":\"histogram\"},{\"alignmentgroup\":\"True\",\"bingroup\":\"x\",\"hovertemplate\":\"gender=f\\u003cbr\\u003enationality=%{x}\\u003cbr\\u003ecount=%{y}\\u003cextra\\u003e\\u003c\\u002fextra\\u003e\",\"legendgroup\":\"f\",\"marker\":{\"color\":\"#EF553B\",\"pattern\":{\"shape\":\"\"}},\"name\":\"f\",\"offsetgroup\":\"f\",\"orientation\":\"v\",\"showlegend\":true,\"x\":[\"DEU\",\"DEU\",\"DEU\",\"DEU\",\"DEU\",\"DEU\",\"DEU\",\"DEU\",\"DEU\",\"DEU\",\"DEU\",\"DEU\",\"DEU\",\"DEU\",\"DEU\",\"DEU\",\"DEU\",\"DEU\",\"CHE\",\"DEU\",\"DEU\",\"DEU\",\"DEU\",\"DEU\",\"DEU\",\"DEU\",\"DEU\",\"DEU\",\"DEU\",\"DEU\",\"DEU\",\"AUT\",\"AUT\",\"AUT\",\"AUT\",\"AUT\",\"AUT\",\"DEU\",\"DEU\",\"DEU\",\"DEU\",\"DEU\",\"DEU\",\"DEU\",\"DEU\",\"DEU\",\"DEU\",\"DEU\",\"DEU\",\"DEU\",\"AUT\",\"DEU\",\"DEU\",\"DEU\",\"DEU\",\"DEU\",\"DEU\",\"DEU\",\"DEU\",\"DEU\",\"DEU\",\"DEU\",\"DEU\",\"AUT\",\"AUT\",\"AUT\",\"AUT\",\"AUT\",\"DEU\",\"DEU\",\"DEU\",\"DEU\",\"DEU\",\"DEU\",\"DEU\",\"DEU\",\"DEU\",\"DEU\",\"DEU\",\"AUT\",\"DEU\",\"DEU\",\"DEU\",\"DEU\",\"DEU\",\"DEU\",\"DEU\",\"DEU\",\"DEU\",\"DEU\",\"DEU\",\"DEU\",\"DEU\",\"DEU\",\"DEU\",\"DEU\",\"DEU\",\"DEU\",\"DEU\",\"DEU\",\"DEU\",\"DEU\",\"DEU\",\"DEU\",\"DEU\",\"DEU\",\"DEU\",\"DEU\",\"DEU\",\"DEU\",\"DEU\",\"DEU\",\"DEU\",\"DEU\",\"DEU\",\"DEU\",\"DEU\",\"DEU\",\"DEU\",\"DEU\",\"DEU\",\"DEU\",\"DEU\",\"DEU\",\"DEU\",\"DEU\",\"DEU\",\"DEU\",\"DEU\",\"DEU\",\"DEU\",\"DEU\",\"DEU\",\"DEU\",\"DEU\",\"DEU\",\"DEU\",\"DEU\",\"DEU\",\"DEU\",\"DEU\",\"DEU\",\"DEU\",\"DEU\",\"DEU\",\"DEU\",\"DEU\",\"DEU\",\"DEU\",\"DEU\",\"DEU\",\"DEU\",\"DEU\",\"AUT\",\"DEU\",\"DEU\",\"DEU\",\"DEU\",\"DEU\",\"DEU\",\"DEU\",\"DEU\",\"DEU\",\"DEU\",\"DEU\",\"DEU\",\"DEU\",\"DEU\",\"DEU\",\"DEU\",\"DEU\",\"DEU\",\"DEU\",\"DEU\",\"DEU\",\"DEU\",\"DEU\",\"DEU\",\"DEU\",\"DEU\",\"DEU\",\"DEU\",\"DEU\",\"DEU\",\"DEU\",\"DEU\",\"DEU\",\"DEU\",\"DEU\",\"DEU\",\"DEU\",\"DEU\",\"CHE\",\"CHE\",\"CHE\",\"DEU\",\"DEU\",\"DEU\",\"DEU\",\"DEU\",\"DEU\",\"DEU\",\"DEU\",\"DEU\",\"DEU\",\"DEU\",\"DEU\",\"DEU\",\"DEU\",\"DEU\",\"DEU\",\"DEU\",\"DEU\",\"DEU\",\"DEU\",\"DEU\",\"DEU\",\"DEU\",\"DEU\",\"DEU\",\"DEU\",\"DEU\",\"DEU\",\"DEU\",\"DEU\",\"DEU\",\"DEU\",\"DEU\",\"DEU\",\"DEU\",\"DEU\",\"DEU\",\"AUT\",\"AUT\",\"AUT\",\"AUT\",\"AUT\",\"AUT\",\"AUT\",\"AUT\",\"AUT\",\"AUT\",\"AUT\",\"AUT\",\"AUT\",\"AUT\",\"AUT\",\"DEU\",\"AUT\",\"AUT\",\"AUT\",\"AUT\",\"AUT\",\"AUT\",\"AUT\",\"AUT\",\"AUT\",\"AUT\",\"AUT\",\"AUT\",\"AUT\",\"AUT\",\"AUT\",\"AUT\",\"AUT\",\"AUT\",\"AUT\",\"AUT\",\"AUT\",\"DEU\",\"DEU\",\"DEU\",\"DEU\",\"DEU\",\"DEU\",\"DEU\",\"DEU\",\"DEU\",\"DEU\",\"DEU\",\"DEU\",\"DEU\",\"DEU\",\"DEU\",\"DEU\",\"DEU\",\"DEU\",\"DEU\",\"DEU\",\"DEU\",\"DEU\",\"DEU\",\"DEU\",\"DEU\",\"DEU\",\"DEU\",\"DEU\",\"DEU\",\"DEU\",\"DEU\",\"DEU\",\"DEU\",\"DEU\",\"DEU\",\"DEU\",\"DEU\",\"DEU\",\"DEU\",\"DEU\",\"DEU\",\"DEU\",\"DEU\",\"DEU\",\"DEU\",\"DEU\",\"DEU\",\"DEU\",\"DEU\",\"DEU\",\"DEU\"],\"xaxis\":\"x\",\"yaxis\":\"y\",\"type\":\"histogram\"}],                        {\"template\":{\"data\":{\"histogram2dcontour\":[{\"type\":\"histogram2dcontour\",\"colorbar\":{\"outlinewidth\":0,\"ticks\":\"\"},\"colorscale\":[[0.0,\"#0d0887\"],[0.1111111111111111,\"#46039f\"],[0.2222222222222222,\"#7201a8\"],[0.3333333333333333,\"#9c179e\"],[0.4444444444444444,\"#bd3786\"],[0.5555555555555556,\"#d8576b\"],[0.6666666666666666,\"#ed7953\"],[0.7777777777777778,\"#fb9f3a\"],[0.8888888888888888,\"#fdca26\"],[1.0,\"#f0f921\"]]}],\"choropleth\":[{\"type\":\"choropleth\",\"colorbar\":{\"outlinewidth\":0,\"ticks\":\"\"}}],\"histogram2d\":[{\"type\":\"histogram2d\",\"colorbar\":{\"outlinewidth\":0,\"ticks\":\"\"},\"colorscale\":[[0.0,\"#0d0887\"],[0.1111111111111111,\"#46039f\"],[0.2222222222222222,\"#7201a8\"],[0.3333333333333333,\"#9c179e\"],[0.4444444444444444,\"#bd3786\"],[0.5555555555555556,\"#d8576b\"],[0.6666666666666666,\"#ed7953\"],[0.7777777777777778,\"#fb9f3a\"],[0.8888888888888888,\"#fdca26\"],[1.0,\"#f0f921\"]]}],\"heatmap\":[{\"type\":\"heatmap\",\"colorbar\":{\"outlinewidth\":0,\"ticks\":\"\"},\"colorscale\":[[0.0,\"#0d0887\"],[0.1111111111111111,\"#46039f\"],[0.2222222222222222,\"#7201a8\"],[0.3333333333333333,\"#9c179e\"],[0.4444444444444444,\"#bd3786\"],[0.5555555555555556,\"#d8576b\"],[0.6666666666666666,\"#ed7953\"],[0.7777777777777778,\"#fb9f3a\"],[0.8888888888888888,\"#fdca26\"],[1.0,\"#f0f921\"]]}],\"heatmapgl\":[{\"type\":\"heatmapgl\",\"colorbar\":{\"outlinewidth\":0,\"ticks\":\"\"},\"colorscale\":[[0.0,\"#0d0887\"],[0.1111111111111111,\"#46039f\"],[0.2222222222222222,\"#7201a8\"],[0.3333333333333333,\"#9c179e\"],[0.4444444444444444,\"#bd3786\"],[0.5555555555555556,\"#d8576b\"],[0.6666666666666666,\"#ed7953\"],[0.7777777777777778,\"#fb9f3a\"],[0.8888888888888888,\"#fdca26\"],[1.0,\"#f0f921\"]]}],\"contourcarpet\":[{\"type\":\"contourcarpet\",\"colorbar\":{\"outlinewidth\":0,\"ticks\":\"\"}}],\"contour\":[{\"type\":\"contour\",\"colorbar\":{\"outlinewidth\":0,\"ticks\":\"\"},\"colorscale\":[[0.0,\"#0d0887\"],[0.1111111111111111,\"#46039f\"],[0.2222222222222222,\"#7201a8\"],[0.3333333333333333,\"#9c179e\"],[0.4444444444444444,\"#bd3786\"],[0.5555555555555556,\"#d8576b\"],[0.6666666666666666,\"#ed7953\"],[0.7777777777777778,\"#fb9f3a\"],[0.8888888888888888,\"#fdca26\"],[1.0,\"#f0f921\"]]}],\"surface\":[{\"type\":\"surface\",\"colorbar\":{\"outlinewidth\":0,\"ticks\":\"\"},\"colorscale\":[[0.0,\"#0d0887\"],[0.1111111111111111,\"#46039f\"],[0.2222222222222222,\"#7201a8\"],[0.3333333333333333,\"#9c179e\"],[0.4444444444444444,\"#bd3786\"],[0.5555555555555556,\"#d8576b\"],[0.6666666666666666,\"#ed7953\"],[0.7777777777777778,\"#fb9f3a\"],[0.8888888888888888,\"#fdca26\"],[1.0,\"#f0f921\"]]}],\"mesh3d\":[{\"type\":\"mesh3d\",\"colorbar\":{\"outlinewidth\":0,\"ticks\":\"\"}}],\"scatter\":[{\"fillpattern\":{\"fillmode\":\"overlay\",\"size\":10,\"solidity\":0.2},\"type\":\"scatter\"}],\"parcoords\":[{\"type\":\"parcoords\",\"line\":{\"colorbar\":{\"outlinewidth\":0,\"ticks\":\"\"}}}],\"scatterpolargl\":[{\"type\":\"scatterpolargl\",\"marker\":{\"colorbar\":{\"outlinewidth\":0,\"ticks\":\"\"}}}],\"bar\":[{\"error_x\":{\"color\":\"#2a3f5f\"},\"error_y\":{\"color\":\"#2a3f5f\"},\"marker\":{\"line\":{\"color\":\"#E5ECF6\",\"width\":0.5},\"pattern\":{\"fillmode\":\"overlay\",\"size\":10,\"solidity\":0.2}},\"type\":\"bar\"}],\"scattergeo\":[{\"type\":\"scattergeo\",\"marker\":{\"colorbar\":{\"outlinewidth\":0,\"ticks\":\"\"}}}],\"scatterpolar\":[{\"type\":\"scatterpolar\",\"marker\":{\"colorbar\":{\"outlinewidth\":0,\"ticks\":\"\"}}}],\"histogram\":[{\"marker\":{\"pattern\":{\"fillmode\":\"overlay\",\"size\":10,\"solidity\":0.2}},\"type\":\"histogram\"}],\"scattergl\":[{\"type\":\"scattergl\",\"marker\":{\"colorbar\":{\"outlinewidth\":0,\"ticks\":\"\"}}}],\"scatter3d\":[{\"type\":\"scatter3d\",\"line\":{\"colorbar\":{\"outlinewidth\":0,\"ticks\":\"\"}},\"marker\":{\"colorbar\":{\"outlinewidth\":0,\"ticks\":\"\"}}}],\"scattermapbox\":[{\"type\":\"scattermapbox\",\"marker\":{\"colorbar\":{\"outlinewidth\":0,\"ticks\":\"\"}}}],\"scatterternary\":[{\"type\":\"scatterternary\",\"marker\":{\"colorbar\":{\"outlinewidth\":0,\"ticks\":\"\"}}}],\"scattercarpet\":[{\"type\":\"scattercarpet\",\"marker\":{\"colorbar\":{\"outlinewidth\":0,\"ticks\":\"\"}}}],\"carpet\":[{\"aaxis\":{\"endlinecolor\":\"#2a3f5f\",\"gridcolor\":\"white\",\"linecolor\":\"white\",\"minorgridcolor\":\"white\",\"startlinecolor\":\"#2a3f5f\"},\"baxis\":{\"endlinecolor\":\"#2a3f5f\",\"gridcolor\":\"white\",\"linecolor\":\"white\",\"minorgridcolor\":\"white\",\"startlinecolor\":\"#2a3f5f\"},\"type\":\"carpet\"}],\"table\":[{\"cells\":{\"fill\":{\"color\":\"#EBF0F8\"},\"line\":{\"color\":\"white\"}},\"header\":{\"fill\":{\"color\":\"#C8D4E3\"},\"line\":{\"color\":\"white\"}},\"type\":\"table\"}],\"barpolar\":[{\"marker\":{\"line\":{\"color\":\"#E5ECF6\",\"width\":0.5},\"pattern\":{\"fillmode\":\"overlay\",\"size\":10,\"solidity\":0.2}},\"type\":\"barpolar\"}],\"pie\":[{\"automargin\":true,\"type\":\"pie\"}]},\"layout\":{\"autotypenumbers\":\"strict\",\"colorway\":[\"#636efa\",\"#EF553B\",\"#00cc96\",\"#ab63fa\",\"#FFA15A\",\"#19d3f3\",\"#FF6692\",\"#B6E880\",\"#FF97FF\",\"#FECB52\"],\"font\":{\"color\":\"#2a3f5f\"},\"hovermode\":\"closest\",\"hoverlabel\":{\"align\":\"left\"},\"paper_bgcolor\":\"white\",\"plot_bgcolor\":\"#E5ECF6\",\"polar\":{\"bgcolor\":\"#E5ECF6\",\"angularaxis\":{\"gridcolor\":\"white\",\"linecolor\":\"white\",\"ticks\":\"\"},\"radialaxis\":{\"gridcolor\":\"white\",\"linecolor\":\"white\",\"ticks\":\"\"}},\"ternary\":{\"bgcolor\":\"#E5ECF6\",\"aaxis\":{\"gridcolor\":\"white\",\"linecolor\":\"white\",\"ticks\":\"\"},\"baxis\":{\"gridcolor\":\"white\",\"linecolor\":\"white\",\"ticks\":\"\"},\"caxis\":{\"gridcolor\":\"white\",\"linecolor\":\"white\",\"ticks\":\"\"}},\"coloraxis\":{\"colorbar\":{\"outlinewidth\":0,\"ticks\":\"\"}},\"colorscale\":{\"sequential\":[[0.0,\"#0d0887\"],[0.1111111111111111,\"#46039f\"],[0.2222222222222222,\"#7201a8\"],[0.3333333333333333,\"#9c179e\"],[0.4444444444444444,\"#bd3786\"],[0.5555555555555556,\"#d8576b\"],[0.6666666666666666,\"#ed7953\"],[0.7777777777777778,\"#fb9f3a\"],[0.8888888888888888,\"#fdca26\"],[1.0,\"#f0f921\"]],\"sequentialminus\":[[0.0,\"#0d0887\"],[0.1111111111111111,\"#46039f\"],[0.2222222222222222,\"#7201a8\"],[0.3333333333333333,\"#9c179e\"],[0.4444444444444444,\"#bd3786\"],[0.5555555555555556,\"#d8576b\"],[0.6666666666666666,\"#ed7953\"],[0.7777777777777778,\"#fb9f3a\"],[0.8888888888888888,\"#fdca26\"],[1.0,\"#f0f921\"]],\"diverging\":[[0,\"#8e0152\"],[0.1,\"#c51b7d\"],[0.2,\"#de77ae\"],[0.3,\"#f1b6da\"],[0.4,\"#fde0ef\"],[0.5,\"#f7f7f7\"],[0.6,\"#e6f5d0\"],[0.7,\"#b8e186\"],[0.8,\"#7fbc41\"],[0.9,\"#4d9221\"],[1,\"#276419\"]]},\"xaxis\":{\"gridcolor\":\"white\",\"linecolor\":\"white\",\"ticks\":\"\",\"title\":{\"standoff\":15},\"zerolinecolor\":\"white\",\"automargin\":true,\"zerolinewidth\":2},\"yaxis\":{\"gridcolor\":\"white\",\"linecolor\":\"white\",\"ticks\":\"\",\"title\":{\"standoff\":15},\"zerolinecolor\":\"white\",\"automargin\":true,\"zerolinewidth\":2},\"scene\":{\"xaxis\":{\"backgroundcolor\":\"#E5ECF6\",\"gridcolor\":\"white\",\"linecolor\":\"white\",\"showbackground\":true,\"ticks\":\"\",\"zerolinecolor\":\"white\",\"gridwidth\":2},\"yaxis\":{\"backgroundcolor\":\"#E5ECF6\",\"gridcolor\":\"white\",\"linecolor\":\"white\",\"showbackground\":true,\"ticks\":\"\",\"zerolinecolor\":\"white\",\"gridwidth\":2},\"zaxis\":{\"backgroundcolor\":\"#E5ECF6\",\"gridcolor\":\"white\",\"linecolor\":\"white\",\"showbackground\":true,\"ticks\":\"\",\"zerolinecolor\":\"white\",\"gridwidth\":2}},\"shapedefaults\":{\"line\":{\"color\":\"#2a3f5f\"}},\"annotationdefaults\":{\"arrowcolor\":\"#2a3f5f\",\"arrowhead\":0,\"arrowwidth\":1},\"geo\":{\"bgcolor\":\"white\",\"landcolor\":\"#E5ECF6\",\"subunitcolor\":\"white\",\"showland\":true,\"showlakes\":true,\"lakecolor\":\"white\"},\"title\":{\"x\":0.05},\"mapbox\":{\"style\":\"light\"}}},\"xaxis\":{\"anchor\":\"y\",\"domain\":[0.0,1.0],\"title\":{\"text\":\"nationality\"}},\"yaxis\":{\"anchor\":\"x\",\"domain\":[0.0,1.0],\"title\":{\"text\":\"count\"}},\"legend\":{\"title\":{\"text\":\"gender\"},\"tracegroupgap\":0},\"margin\":{\"t\":60},\"barmode\":\"relative\"},                        {\"responsive\": true}                    ).then(function(){\n",
       "                            \n",
       "var gd = document.getElementById('900aed7b-4402-4d17-bd00-73f0f2c76c7d');\n",
       "var x = new MutationObserver(function (mutations, observer) {{\n",
       "        var display = window.getComputedStyle(gd).display;\n",
       "        if (!display || display === 'none') {{\n",
       "            console.log([gd, 'removed!']);\n",
       "            Plotly.purge(gd);\n",
       "            observer.disconnect();\n",
       "        }}\n",
       "}});\n",
       "\n",
       "// Listen for the removal of the full notebook cells\n",
       "var notebookContainer = gd.closest('#notebook-container');\n",
       "if (notebookContainer) {{\n",
       "    x.observe(notebookContainer, {childList: true});\n",
       "}}\n",
       "\n",
       "// Listen for the clearing of the current output cell\n",
       "var outputEl = gd.closest('.output');\n",
       "if (outputEl) {{\n",
       "    x.observe(outputEl, {childList: true});\n",
       "}}\n",
       "\n",
       "                        })                };                });            </script>        </div>"
      ]
     },
     "metadata": {},
     "output_type": "display_data"
    }
   ],
   "source": [
    "fig = px.histogram(df, x=\"nationality\", color=\"gender\")\n",
    "fig.show()"
   ]
  },
  {
   "cell_type": "code",
   "execution_count": 12,
   "id": "bcaf6372-f306-42a3-aba0-d44e3701b7ce",
   "metadata": {
    "tags": []
   },
   "outputs": [
    {
     "data": {
      "application/vnd.plotly.v1+json": {
       "config": {
        "plotlyServerURL": "https://plot.ly"
       },
       "data": [
        {
         "alignmentgroup": "True",
         "bingroup": "x",
         "hovertemplate": "author=%{x}<br>count=%{y}<extra></extra>",
         "legendgroup": "",
         "marker": {
          "color": "#636efa",
          "pattern": {
           "shape": ""
          }
         },
         "name": "",
         "offsetgroup": "",
         "orientation": "v",
         "showlegend": false,
         "type": "histogram",
         "x": [
          "Christoph Martin Wieland",
          "Christoph Martin Wieland",
          "Christoph Martin Wieland",
          "Christoph Martin Wieland",
          "Sophie von La Roche",
          "Sophie von La Roche",
          "Friedrich Nicolai",
          "Johann Wolfgang von Goethe",
          "Johann Wolfgang von Goethe",
          "Friedrich Nicolai",
          "Friedrich Nicolai",
          "Johann Martin Miller",
          "Johann Martin Miller",
          "Johann Karl August Musäus",
          "Joachim Heinrich Campe",
          "Johann Karl August Musäus",
          "Johann Karl August Musäus",
          "Johann Karl August Musäus",
          "Joachim Heinrich Campe",
          "Karl Philipp Moritz",
          "Karl Philipp Moritz",
          "Karl Philipp Moritz",
          "Rudolf Erich Raspe",
          "Friedrich Schiller",
          "Heinrich Zschokke",
          "Karl Philipp Moritz",
          "Friedrich Maximilian Klinger",
          "Friedrich Heinrich Jacobi",
          "Jean Paul, eigentlich Johann Paul Friedrich Richter",
          "Jean Paul, eigentlich Johann Paul Friedrich Richter",
          "Johann Wolfgang von Goethe",
          "Jean Paul, eigentlich Johann Paul Friedrich Richter",
          "Jean Paul, eigentlich Johann Paul Friedrich Richter",
          "Jean Paul, eigentlich Johann Paul Friedrich Richter",
          "Johann Wolfgang von Goethe",
          "Johann Wolfgang von Goethe",
          "Johann Wolfgang von Goethe",
          "Ludwig Tieck",
          "Christian Heinrich Spieß",
          "Christian Heinrich Spieß",
          "Christian Heinrich Spieß",
          "Christian Heinrich Spieß",
          "Johann Wolfgang von Goethe",
          "Ludwig Tieck",
          "Ludwig Tieck",
          "Friedrich Hölderlin",
          "Ludwig Tieck",
          "Wilhelm Heinrich Wackenroder",
          "August Wilhelm Schlegel",
          "Friedrich Schlegel",
          "Ludwig Tieck",
          "Ludwig Tieck",
          "August Wilhelm Schlegel",
          "Friedrich Hölderlin",
          "Friedrich Schlegel",
          "Friedrich Schlegel",
          "Karl Arnold Kortum",
          "Karl Arnold Kortum",
          "Karl Arnold Kortum",
          "August Wilhelm Schlegel",
          "Friedrich Schlegel",
          "Jean Paul, eigentlich Johann Paul Friedrich Richter",
          "Dorothea Schlegel",
          "Friedrich Schlegel",
          "Jean Paul, eigentlich Johann Paul Friedrich Richter",
          "Caroline Auguste Fischer",
          "Jean Paul, eigentlich Johann Paul Friedrich Richter",
          "Jean Paul, eigentlich Johann Paul Friedrich Richter",
          "Jean Paul, eigentlich Johann Paul Friedrich Richter",
          "Jean Paul, eigentlich Johann Paul Friedrich Richter",
          "Jean Paul, eigentlich Johann Paul Friedrich Richter",
          "Ernst August Friedrich Klingemann",
          "Jean Paul, eigentlich Johann Paul Friedrich Richter",
          "Karoline Rudolphi",
          "Karoline Rudolphi",
          "Jean Paul, eigentlich Johann Paul Friedrich Richter",
          "Jean Paul, eigentlich Johann Paul Friedrich Richter",
          "Johann Wolfgang von Goethe",
          "Johann Wolfgang von Goethe",
          "Julius von Voß",
          "Friedrich de la Motte Fouqué",
          "Johann Peter Hebel",
          "Jacob Grimm",
          "Jacob Grimm",
          "Ludwig Tieck",
          "Ludwig Tieck",
          "Friedrich de la Motte Fouqué",
          "Jacob Grimm",
          "Jacob Grimm",
          "Joseph Freiherr von Eichendorff",
          "Ludwig Tieck",
          "Achim von Arnim",
          "Jacob Grimm",
          "Jacob Grimm",
          "Jacob Grimm",
          "Jacob Grimm",
          "Wilhelm Waiblinger",
          "Wilhelm Waiblinger",
          "Joseph Freiherr von Eichendorff",
          "Wilhelm Hauff",
          "Eduard Mörike",
          "Eduard Mörike",
          "Karl Gutzkow",
          "Heinrich Laube",
          "Heinrich Laube",
          "Joseph Freiherr von Eichendorff",
          "Karl August Varnhagen von Ense",
          "Karl August Varnhagen von Ense",
          "Karl August Varnhagen von Ense",
          "Rahel Levin",
          "Rahel Levin",
          "Rahel Levin",
          "Karl Gutzkow",
          "Karl Gutzkow",
          "Heinrich Laube",
          "Heinrich Laube",
          "Jacob Grimm",
          "Jacob Grimm",
          "Jacob Grimm",
          "Jacob Grimm",
          "Karl August Varnhagen von Ense",
          "Karl August Varnhagen von Ense",
          "Gustav Schwab",
          "Karl August Varnhagen von Ense",
          "Gustav Schwab",
          "Gustav Schwab",
          "Jacob Grimm",
          "Jacob Grimm",
          "Jacob Grimm",
          "Jacob Grimm",
          "Jeremias Gotthelf, eigentlich Albert Bitzius",
          "Fanny Lewald",
          "Fanny Lewald",
          "Jacob Grimm",
          "Jacob Grimm",
          "Jacob Grimm",
          "Jacob Grimm",
          "Wilhelm Meinhold",
          "Amalie Schoppe",
          "Amalie Schoppe",
          "Amalie Schoppe",
          "Ernst Dronke",
          "Georg Weerth",
          "Jacob Grimm",
          "Jacob Grimm",
          "Jacob Grimm",
          "Jacob Grimm",
          "Theodor Storm",
          "Adalbert Stifter",
          "Adalbert Stifter",
          "Gottfried Keller",
          "Gottfried Keller",
          "Gottfried Keller",
          "Ludwig Bechstein",
          "Ferdinand Kürnberger",
          "Gottfried Keller",
          "Hermann Kurz",
          "Joseph Victor von Scheffel",
          "Paul Heyse",
          "Eduard Mörike",
          "Gottfried Keller",
          "Otto Ludwig",
          "Adalbert Stifter",
          "Adalbert Stifter",
          "Adalbert Stifter",
          "Jacob Grimm",
          "Jacob Grimm",
          "Jacob Grimm",
          "Jacob Grimm",
          "Wilhelm Raabe",
          "Annette von Droste-Hülshoff",
          "Friedrich Spielhagen",
          "Friedrich Spielhagen",
          "Friedrich Spielhagen",
          "Friedrich Spielhagen",
          "Fanny Lewald",
          "Georg Ebers",
          "Georg Ebers",
          "Georg Ebers",
          "Wilhelm Busch",
          "Heinrich von Kleist",
          "Johann Wolfgang von Goethe",
          "Louise von François",
          "Louise von François",
          "Gottfried Keller",
          "Theodor Storm",
          "Conrad Ferdinand Meyer",
          "Daniel Spitzer",
          "Ferdinand von Saar",
          "Karl Gutzkow",
          "Karl Gutzkow",
          "Karl Gutzkow",
          "Theodor Storm",
          "Friedrich Theodor Vischer",
          "Friedrich Theodor Vischer",
          "Johanna Spyri",
          "Alfred Meißner",
          "Gottfried Keller",
          "Theodor Fontane",
          "Theodor Fontane",
          "Theodor Storm",
          "Theodor Storm",
          "Theodor Storm",
          "Theodor Fontane",
          "Theodor Storm",
          "Arno Holz",
          "Hermann Conradi",
          "Wilhelm Raabe",
          "Kurd Laßwitz",
          "Ilse Frapan",
          "Wilhelm Raabe",
          "Karl May",
          "Theodor Fontane",
          "Ilse Frapan",
          "Wilhelm von Polenz",
          "Robert Kraft",
          "Theodor Fontane",
          "Wilhelm Raabe",
          "Kurd Laßwitz",
          "Kurd Laßwitz",
          "Otto Julius Bierbaum",
          "Theodor Fontane",
          "Arnold Hagenauer",
          "Theodor Fontane",
          "Eduard von Keyserling",
          "Adalbert Stifter",
          "Adelbert von Chamisso",
          "Adelheid Reinbold",
          "Adolf Pichler",
          "Adolf Widmann",
          "Alexander von Ungern-Sternberg",
          "Alfred Meißner",
          "Annette von Droste-Hülshoff",
          "Bernhard Abeken, Pseudonym Ernst Andolt",
          "Claire von Glümer",
          "Edmund Hoefer",
          "Eduard Mörike",
          "Emmy von Dincklage",
          "Ernst Wichert",
          "Fanny Lewald",
          "Ferdinand Kürnberger",
          "Franz Grillparzer",
          "Friedrich Gerstäcker",
          "Friedrich Halm, eigentlich Eligius von Münch-Bellinghausen",
          "Friedrich von Heyden",
          "Friedrich Wilhelm Hackländer",
          "Gottfried Keller",
          "Herman Grimm",
          "Hermann Kurz",
          "Hieronymus Lorm, eigentlich Heinrich Landesmann",
          "Jeremias Gotthelf, eigentlich Albert Bitzius",
          "Jeremias Gotthelf, eigentlich Albert Bitzius",
          "Johanna Kinkel",
          "Joseph Freiherr von Eichendorff",
          "Joseph Schreyvogel",
          "Joseph Victor von Scheffel",
          "Julius Grosse",
          "Karl August Varnhagen von Ense",
          "Karl Spindler",
          "Leopold Kompert",
          "Leopold von Sacher-Masoch",
          "Ludwig Tieck",
          "Ludwig Tieck",
          "Luise von Gall",
          "Melchior Meyr",
          "Moritz Hartmann",
          "Ottilie Wildermuth",
          "Paul Heyse",
          "Theodor Mügge",
          "Theodor Storm",
          "Wilhelm Hauff",
          "Wilhelm Raabe",
          "Elisabeth von Heyking",
          "Hermione von Preuschen",
          "Arthur Schnitzler",
          "Abraham Emanuel Fröhlich",
          "Abraham Emanuel Fröhlich",
          "Achim von Arnim",
          "Achim von Arnim",
          "Achim von Arnim",
          "Achim von Arnim",
          "Achim von Arnim",
          "Achim von Arnim",
          "Achim von Arnim",
          "Achim von Arnim",
          "Ada Christen, eigentlich Christiane von Breden",
          "Ada Christen, eigentlich Christiane von Breden",
          "Ada Christen, eigentlich Christiane von Breden",
          "Ada Christen, eigentlich Christiane von Breden",
          "Ada Christen, eigentlich Christiane von Breden",
          "Ada Christen, eigentlich Christiane von Breden",
          "Adalbert Stifter",
          "Adalbert Stifter",
          "Adalbert Stifter",
          "Adalbert Stifter",
          "Adalbert Stifter",
          "Adalbert Stifter",
          "Adalbert Stifter",
          "Adalbert Stifter",
          "Adalbert Stifter",
          "Adam Karrillon",
          "Adam Karrillon",
          "Adam Karrillon",
          "Adam Karrillon",
          "Adam Müller-Guttenbrunn",
          "Adam Müller-Guttenbrunn",
          "Adam Müller-Guttenbrunn",
          "Adelbert von Chamisso",
          "Adele Schopenhauer",
          "Adolf Glaser, Pseudonym Rainald Reimar",
          "Adolf Glaser, Pseudonym Rainald Reimar",
          "Adolf Pichler",
          "Adolf Pichler",
          "Adolf Pichler",
          "Adolf Pichler",
          "Adolf Pichler",
          "Adolf Pichler",
          "Adolf Pichler",
          "Adolf Wilbrandt",
          "Adolf Wilbrandt",
          "Adolph Freiherr Knigge",
          "Adolph Freiherr Knigge",
          "Adolph Freiherr Knigge",
          "Agnes Franz",
          "Agnes Günther",
          "Agnes Günther",
          "Agnes Sapper",
          "Agnes Sapper",
          "Albert Emil Brachvogel",
          "Albert Emil Brachvogel",
          "Alexander von Oppeln-Bronikowski",
          "Alexander von Ungern-Sternberg",
          "Alexander von Ungern-Sternberg",
          "Alfred Bock",
          "Alfred Schirokauer",
          "Alice Berend",
          "Alice Berend",
          "Annette von Droste-Hülshoff",
          "Annette von Droste-Hülshoff",
          "Annette von Droste-Hülshoff",
          "Annette von Droste-Hülshoff",
          "Annette von Droste-Hülshoff",
          "Anton von Perfall",
          "Anton von Perfall",
          "Arthur Achleitner",
          "Arthur Achleitner",
          "Arthur Achleitner",
          "Arthur Achleitner",
          "Arthur Kahane",
          "Arthur Kahane",
          "Arthur Kahane",
          "Arthur Schnitzler",
          "Arthur Schnitzler",
          "Arthur Schnitzler",
          "Arthur Schnitzler",
          "Arthur Schnitzler",
          "Arthur Schnitzler",
          "Arthur Schnitzler",
          "Arthur Schnitzler",
          "Arthur Schnitzler",
          "Arthur Schnitzler",
          "Arthur Schnitzler",
          "Arthur Schnitzler",
          "Arthur Schnitzler",
          "Arthur Schnitzler",
          "Arthur Schnitzler",
          "Arthur Schnitzler",
          "Arthur Schnitzler",
          "Arthur Schnitzler",
          "Arthur Schnitzler",
          "Arthur Schnitzler",
          "Arthur Schnitzler",
          "Arthur Schnitzler",
          "Arthur Schnitzler",
          "Arthur Schnitzler",
          "Arthur Schnitzler",
          "Arthur Schnitzler",
          "Arthur Schnitzler",
          "Arthur Schnitzler",
          "Arthur Schnitzler",
          "Arthur Schnitzler",
          "Arthur Schnitzler",
          "Arthur Schnitzler",
          "Arthur Schnitzler",
          "Arthur Schnitzler",
          "Arthur Schnitzler",
          "Arthur Schnitzler",
          "Arthur Schnitzler",
          "Arthur Schnitzler",
          "Arthur Schnitzler",
          "Arthur Schnitzler",
          "Arthur Schnitzler",
          "Arthur Schnitzler",
          "Arthur Schnitzler",
          "Arthur Schnitzler",
          "Arthur Schnitzler",
          "Arthur Schnitzler",
          "Arthur Schnitzler",
          "Arthur Schnitzler",
          "Arthur Schnitzler",
          "Arthur Schnitzler",
          "Arthur Schnitzler",
          "Arthur Schnitzler",
          "Arthur Schnitzler",
          "Arthur Schnitzler",
          "Arthur Schnitzler",
          "Arthur Schnitzler",
          "Arthur Schnitzler",
          "Arthur Schurig",
          "Arthur Schurig",
          "Arthur Schurig",
          "Arthur Zapp",
          "Artur Landsberger",
          "Artur Landsberger",
          "Artur Landsberger",
          "Artur Landsberger",
          "Artur Landsberger",
          "Artur Landsberger",
          "Artur Landsberger",
          "Artur Landsberger",
          "Artur Landsberger",
          "August Friedrich Ernst Langbein",
          "August Hagen",
          "August Kopisch",
          "August Trinius",
          "Auguste Groner",
          "Balduin Groller",
          "Balduin Groller",
          "Balduin Groller",
          "Balduin Groller",
          "Balduin Groller",
          "Balduin Möllhausen",
          "Balduin Möllhausen",
          "Balduin Möllhausen",
          "Balduin Möllhausen",
          "Balduin Möllhausen",
          "Balduin Möllhausen",
          "Balduin Möllhausen",
          "Balduin Möllhausen",
          "Balduin Möllhausen",
          "Balduin Möllhausen",
          "Benedikte Naubert",
          "Benedikte Naubert",
          "Benedikte Naubert",
          "Benedikte Naubert",
          "Bernhardine Schulze-Smidt",
          "Bernhardine Schulze-Smidt",
          "Bertha Behrens",
          "Bertha Behrens",
          "Bertha Behrens",
          "Bertha Behrens",
          "Bertha Behrens",
          "Bertha Behrens",
          "Bertha von Suttner",
          "Bertha von Suttner",
          "Bertha von Suttner",
          "Bertha von Suttner",
          "Bertha von Suttner",
          "Berthold Auerbach",
          "Berthold Auerbach",
          "Berthold Auerbach",
          "Bettina von Arnim",
          "Bettina von Arnim",
          "Bettina von Arnim",
          "Carl Albrecht Bernoulli",
          "Carl Albrecht Bernoulli",
          "Carl Franz van der Velde",
          "Carl Hauptmann",
          "Carl Hauptmann",
          "Carl Hauptmann",
          "Carl Hauptmann",
          "Carl Hauptmann",
          "Carl Hermann Busse",
          "Carl Hermann Busse",
          "Carl Leberecht Immermann",
          "Carl Leberecht Immermann",
          "Carl Leberecht Immermann",
          "Carl Spitteler",
          "Carl Spitteler",
          "Carl Spitteler",
          "Carola von Eynatten",
          "Caroline Auguste Fischer",
          "Caroline Auguste Fischer",
          "Caroline Auguste Fischer",
          "Caroline Auguste Fischer",
          "Caroline Auguste Fischer",
          "Caroline Auguste Fischer",
          "Caroline Auguste Fischer",
          "Caroline Pichler",
          "Caroline von Wolzogen",
          "Caroline von Wolzogen",
          "Charles Sealsfield, eigentlich Karl Anton Postl",
          "Charles Sealsfield, eigentlich Karl Anton Postl",
          "Charlotte Niese",
          "Charlotte Niese",
          "Charlotte Niese",
          "Charlotte Niese",
          "Charlotte Niese",
          "Charlotte Niese",
          "Charlotte Niese",
          "Charlotte Niese",
          "Charlotte Niese",
          "Charlotte Niese",
          "Charlotte von Ahlefeld",
          "Charlotte von Ahlefeld",
          "Charlotte von Ahlefeld",
          "Christian August Fischer",
          "Christian August Fischer",
          "Christian August Vulpius",
          "Christian Gotthilf Salzmann",
          "Christoph Martin Wieland",
          "Christoph Martin Wieland",
          "Christoph Martin Wieland",
          "Christoph Martin Wieland",
          "Christoph Martin Wieland",
          "Christoph Martin Wieland",
          "Christoph Martin Wieland",
          "Christoph von Schmid",
          "Christoph von Schmid",
          "Claire von Glümer",
          "Clemens Brentano",
          "Clemens Brentano",
          "Clemens Brentano",
          "Clemens Brentano",
          "Clemens Brentano",
          "Conrad Ferdinand Meyer",
          "Conrad Ferdinand Meyer",
          "Conrad Ferdinand Meyer",
          "Conrad Ferdinand Meyer",
          "Conrad Ferdinand Meyer",
          "Conrad Ferdinand Meyer",
          "Conrad Ferdinand Meyer",
          "Conrad Ferdinand Meyer",
          "Conrad Ferdinand Meyer",
          "Conrad Ferdinand Meyer",
          "Conrad Ferdinand Meyer",
          "Detlev von Liliencron",
          "Detlev von Liliencron",
          "Detlev von Liliencron",
          "Detlev von Liliencron",
          "Detlev von Liliencron",
          "Detlev von Liliencron",
          "Detlev von Liliencron",
          "Detlev von Liliencron",
          "Detlev von Liliencron",
          "Detlev von Liliencron",
          "Detlev von Liliencron",
          "Detlev von Liliencron",
          "Detlev von Liliencron",
          "Detlev von Liliencron",
          "Detlev von Liliencron",
          "Detlev von Liliencron",
          "Detlev von Liliencron",
          "Diedrich Speckmann",
          "Diedrich Speckmann",
          "Diedrich Speckmann",
          "Dietrich Theden",
          "Dietrich Theden",
          "Dora Duncker",
          "Dora Duncker",
          "Dora Duncker",
          "Dora Duncker",
          "Dora Duncker",
          "Dora Duncker",
          "Dora Duncker",
          "Dora Duncker",
          "Dorothea Schlegel",
          "Dorothea Schlegel",
          "E. Marlitt",
          "E. Marlitt",
          "E. Marlitt",
          "E. Marlitt",
          "E. Marlitt",
          "E. Marlitt",
          "E. Marlitt",
          "E. Marlitt",
          "E. Marlitt",
          "E. Marlitt",
          "E. Marlitt",
          "E. Werner, eigentlich Elisabeth Bürstenbinder",
          "E. Werner, eigentlich Elisabeth Bürstenbinder",
          "E. Werner, eigentlich Elisabeth Bürstenbinder",
          "E. Werner, eigentlich Elisabeth Bürstenbinder",
          "E. Werner, eigentlich Elisabeth Bürstenbinder",
          "E. Werner, eigentlich Elisabeth Bürstenbinder",
          "E. Werner, eigentlich Elisabeth Bürstenbinder",
          "E. Werner, eigentlich Elisabeth Bürstenbinder",
          "Edmund Hoefer",
          "Eduard Mörike",
          "Eduard Mörike",
          "Eduard Mörike",
          "Eduard Stucken",
          "Eduard von Bauernfeld",
          "Eduard von Keyserling",
          "Eduard von Keyserling",
          "Eduard von Keyserling",
          "Eduard von Keyserling",
          "Eduard von Keyserling",
          "Eduard von Keyserling",
          "Eduard von Keyserling",
          "Edward Stilgebauer",
          "Elisabeth von Heyking",
          "Elisabeth von Heyking",
          "Elisabeth von Heyking",
          "Elisabeth von Heyking",
          "Elisabeth von Heyking",
          "Elise Polko",
          "Emerenz Meier",
          "Emerenz Meier",
          "Emerenz Meier",
          "Emerenz Meier",
          "Emil Ertl",
          "Emil Frommel",
          "Emil Gött",
          "Emil Sandt",
          "Emilie Giehrl",
          "Ernst Adolf Willkomm",
          "Ernst Adolf Willkomm",
          "Ernst Adolf Willkomm",
          "Ernst Adolf Willkomm",
          "Ernst Adolf Willkomm",
          "Ernst August Friedrich Klingemann",
          "Ernst Barlach",
          "Ernst Eckstein",
          "Ernst Eckstein",
          "Ernst Eckstein",
          "Ernst Eckstein",
          "Ernst Theodor Amadeus Hoffmann",
          "Ernst Theodor Amadeus Hoffmann",
          "Ernst von Wildenbruch",
          "Ernst von Wildenbruch",
          "Ernst von Wolzogen",
          "Ernst von Wolzogen",
          "Ernst von Wolzogen",
          "Ernst von Wolzogen",
          "Ernst von Wolzogen",
          "Ernst von Wolzogen",
          "Ernst von Wolzogen",
          "Ernst Wichert",
          "Ernst Wichert",
          "Ernst Wichert",
          "Ernst Wichert",
          "Ernst Wichert",
          "Ernst Wichert",
          "Ernst Wichert",
          "Ernst Wichert",
          "Ernst Wichert",
          "Ernst Wichert",
          "Fanny Lewald",
          "Fanny Lewald",
          "Fanny Lewald",
          "Fanny Lewald",
          "Fanny Lewald",
          "Fanny Lewald",
          "Fedor von Zobeltitz",
          "Fedor von Zobeltitz",
          "Fedor von Zobeltitz",
          "Fedor von Zobeltitz",
          "Felix Dahn",
          "Felix Dahn",
          "Felix Dahn",
          "Felix Hollaender",
          "Felix Hollaender",
          "Felix Hollaender",
          "Felix Hollaender",
          "Felix Hollaender",
          "Ferdinand Grautoff, Pseudonym Seestern",
          "Ferdinand Grautoff, Pseudonym Seestern",
          "Ferdinand von Saar",
          "Ferdinand von Saar",
          "Ferdinand von Saar",
          "Ferdinand von Saar",
          "Ferdinand von Saar",
          "Ferdinand von Saar",
          "Ferdinande von Brackel",
          "Ferdinande von Brackel",
          "Frances Külpe",
          "Frances Külpe",
          "Frank Wedekind",
          "Frank Wedekind",
          "Franz Friedrich Alexander Hoffmann",
          "Franz Josef Zlatnik",
          "Franz Michael Felder",
          "Franz Stelzhamer",
          "Franz Treller",
          "Franz Treller",
          "Franz von Dingelstedt",
          "Franz von Gaudy",
          "Franz von Gaudy",
          "Franz von Gaudy",
          "Franz von Gaudy",
          "Franz von Kobell",
          "Franz Xaver Bronner",
          "Franz Xaver Bronner",
          "Franz Xaver Bronner",
          "Frida von Kronoff",
          "Friederike Helene Unger",
          "Friederike Helene Unger",
          "Friederike Helene Unger",
          "Friederike Henriette Kraze",
          "Friederike Henriette Kraze",
          "Friederike Henriette Kraze",
          "Friedrich Armand Strubberg, Pseudonym Armand",
          "Friedrich Armand Strubberg, Pseudonym Armand",
          "Friedrich Armand Strubberg, Pseudonym Armand",
          "Friedrich Bruckbräu",
          "Friedrich de la Motte Fouqué",
          "Friedrich de la Motte Fouqué",
          "Friedrich Gerstäcker",
          "Friedrich Gerstäcker",
          "Friedrich Gerstäcker",
          "Friedrich Gerstäcker",
          "Friedrich Gerstäcker",
          "Friedrich Gerstäcker",
          "Friedrich Gerstäcker",
          "Friedrich Gerstäcker",
          "Friedrich Gerstäcker",
          "Friedrich Gerstäcker",
          "Friedrich Gerstäcker",
          "Friedrich Gerstäcker",
          "Friedrich Gerstäcker",
          "Friedrich Gerstäcker",
          "Friedrich Gerstäcker",
          "Friedrich Gerstäcker",
          "Friedrich Gerstäcker",
          "Friedrich Gerstäcker",
          "Friedrich Gerstäcker",
          "Friedrich Gerstäcker",
          "Friedrich Gerstäcker",
          "Friedrich Gerstäcker",
          "Friedrich Gerstäcker",
          "Friedrich Gerstäcker",
          "Friedrich Gerstäcker",
          "Friedrich Gerstäcker",
          "Friedrich Gerstäcker",
          "Friedrich Gerstäcker",
          "Friedrich Gerstäcker",
          "Friedrich Gerstäcker",
          "Friedrich Gerstäcker",
          "Friedrich Gerstäcker",
          "Friedrich Gerstäcker",
          "Friedrich Gerstäcker",
          "Friedrich Gerstäcker",
          "Friedrich Gerstäcker",
          "Friedrich Gerstäcker",
          "Friedrich Gerstäcker",
          "Friedrich Gerstäcker",
          "Friedrich Gerstäcker",
          "Friedrich Gerstäcker",
          "Friedrich Gerstäcker",
          "Friedrich Gerstäcker",
          "Friedrich Gerstäcker",
          "Friedrich Gerstäcker",
          "Friedrich Gerstäcker",
          "Friedrich Gerstäcker",
          "Friedrich Gerstäcker",
          "Friedrich Gerstäcker",
          "Friedrich Gerstäcker",
          "Friedrich Hebbel",
          "Friedrich Hebbel",
          "Friedrich Hebbel",
          "Friedrich Hebbel",
          "Friedrich Hebbel",
          "Friedrich Hebbel",
          "Friedrich Hebbel",
          "Friedrich Hebbel",
          "Friedrich Hebbel",
          "Friedrich Hebbel",
          "Friedrich Hebbel",
          "Friedrich Hebbel",
          "Friedrich Hölderlin",
          "Friedrich Hölderlin",
          "Friedrich Maximilian Klinger",
          "Friedrich Schiller",
          "Friedrich Schiller",
          "Friedrich Schiller",
          "Friedrich Spielhagen",
          "Friedrich Spielhagen",
          "Friedrich Spielhagen",
          "Friedrich Spielhagen",
          "Friedrich Spielhagen",
          "Friedrich Spielhagen",
          "Friedrich Spielhagen",
          "Friedrich Spielhagen",
          "Friedrich Spielhagen",
          "Friedrich Spielhagen",
          "Friedrich Spielhagen",
          "Friedrich Spielhagen",
          "Friedrich Spielhagen",
          "Friedrich Spielhagen",
          "Friedrich Spielhagen",
          "Friedrich Spielhagen",
          "Friedrich Spielhagen",
          "Friedrich Spielhagen",
          "Friedrich Spielhagen",
          "Friedrich Spielhagen",
          "Friedrich Spielhagen",
          "Friedrich Spielhagen",
          "Friedrich Spielhagen",
          "Friedrich Spielhagen",
          "Friedrich Spielhagen",
          "Friedrich Spielhagen",
          "Friedrich Spielhagen",
          "Friedrich Spielhagen",
          "Friedrich von Bodenstedt",
          "Friedrich von Bodenstedt",
          "Friedrich Wilhelm Hackländer",
          "Friedrich Wilhelm Hackländer",
          "Friedrich Wilhelm Hackländer",
          "Friedrich Wilhelm Hackländer",
          "Fritz Mauthner",
          "Fritz Stüber-Gunther",
          "Georg Asmussen",
          "Georg Ebers",
          "Georg Ebers",
          "Georg Ebers",
          "Georg Engel",
          "Georg Engel",
          "Georg Engel",
          "Georg Engel",
          "Georg Heym",
          "Georg Heym",
          "Georg Heym",
          "Georg Ludwig Hesekiel",
          "Georg Queri",
          "Georg von Ompteda",
          "Georg von Ompteda",
          "Georg von Ompteda",
          "Georg von Ompteda",
          "Georg von Ompteda",
          "Georg von Ompteda",
          "Georg von Ompteda",
          "Georg von Ompteda",
          "Georg von Ompteda",
          "Georg von Ompteda",
          "Georg von Ompteda",
          "Georg von Ompteda",
          "Georg von Ompteda",
          "Georg von Ompteda",
          "Georg von Ompteda",
          "Georg von Ompteda",
          "Georg von Ompteda",
          "Georg von Ompteda",
          "Georg von Ompteda",
          "Georg von Ompteda",
          "Georg von Ompteda",
          "Georg von Ompteda",
          "Georg von Ompteda",
          "Georg von Ompteda",
          "Georg von Ompteda",
          "Georg von Ompteda",
          "Georg Weerth",
          "Gerrit Engelke",
          "Gorch Fock, eigentlich Johann Kinau",
          "Gorch Fock, eigentlich Johann Kinau",
          "Gorch Fock, eigentlich Johann Kinau",
          "Gottfried Keller",
          "Gottfried Keller",
          "Gottfried Keller",
          "Gregor Samarow, eigentlich Johann Ferdinand Martin Oskar Meding",
          "Gregor Samarow, eigentlich Johann Ferdinand Martin Oskar Meding",
          "Grete Meisel-Heß",
          "Gustav Falke",
          "Gustav Falke",
          "Gustav Falke",
          "Gustav Falke",
          "Gustav Falke",
          "Gustav Freytag",
          "Gustav Freytag",
          "Gustav Freytag",
          "Gustav Meyrink, eigentlich Gustav Meyer",
          "Gustav Meyrink, eigentlich Gustav Meyer",
          "Gustav Meyrink, eigentlich Gustav Meyer",
          "Gustav Meyrink, eigentlich Gustav Meyer",
          "Gustav Meyrink, eigentlich Gustav Meyer",
          "Gustav Meyrink, eigentlich Gustav Meyer",
          "Gustav Meyrink, eigentlich Gustav Meyer",
          "Gustav Meyrink, eigentlich Gustav Meyer",
          "Gustav Meyrink, eigentlich Gustav Meyer",
          "Gustav Sack",
          "Gustav Sack",
          "Hans von Hopfen, eigentlich Hans Mayer",
          "Hans von Hopfen, eigentlich Hans Mayer",
          "Hans von Hopfen, eigentlich Hans Mayer",
          "Hans von Hopfen, eigentlich Hans Mayer",
          "Hans von Hopfen, eigentlich Hans Mayer",
          "Hans von Hopfen, eigentlich Hans Mayer",
          "Hans von Hopfen, eigentlich Hans Mayer",
          "Hans Wachenhusen",
          "Hans Wachenhusen",
          "Hedwig Dohm",
          "Hedwig Dohm",
          "Hedwig Dohm",
          "Hedwig Dohm",
          "Hedwig Dohm",
          "Hedwig Dransfeld",
          "Heinrich Clauren, eigentlich Karl Gottlieb Samuel Heun",
          "Heinrich Clauren, eigentlich Karl Gottlieb Samuel Heun",
          "Heinrich Clauren, eigentlich Karl Gottlieb Samuel Heun",
          "Heinrich Clauren, eigentlich Karl Gottlieb Samuel Heun",
          "Heinrich Clauren, eigentlich Karl Gottlieb Samuel Heun",
          "Heinrich Clauren, eigentlich Karl Gottlieb Samuel Heun",
          "Heinrich Clauren, eigentlich Karl Gottlieb Samuel Heun",
          "Heinrich Clauren, eigentlich Karl Gottlieb Samuel Heun",
          "Heinrich Clauren, eigentlich Karl Gottlieb Samuel Heun",
          "Heinrich Clauren, eigentlich Karl Gottlieb Samuel Heun",
          "Heinrich Federer",
          "Heinrich Federer",
          "Heinrich Federer",
          "Heinrich Federer",
          "Heinrich Federer",
          "Heinrich Federer",
          "Heinrich Federer",
          "Heinrich Federer",
          "Heinrich Federer",
          "Heinrich Federer",
          "Heinrich Federer",
          "Heinrich Federer",
          "Heinrich Hart",
          "Heinrich Heine",
          "Heinrich Laube",
          "Heinrich Laube",
          "Heinrich Laube",
          "Heinrich Laube",
          "Heinrich Laube",
          "Heinrich Schaumberger",
          "Heinrich Schaumberger",
          "Heinrich Schaumberger",
          "Heinrich Schaumberger",
          "Heinrich Smidt",
          "Heinrich Smidt",
          "Heinrich Smidt",
          "Heinrich Smidt",
          "Heinrich Smidt",
          "Heinrich Steinhausen",
          "Heinrich Zschokke",
          "Heinrich Zschokke",
          "Heinrich Zschokke",
          "Heinrich Zschokke",
          "Heinrich Zschokke",
          "Heinrich Zschokke",
          "Heinrich Zschokke",
          "Heinrich Zschokke",
          "Heinrich Zschokke",
          "Helene von Mühlau, eigentlich Hedwig von Mühlenfels, geb. Rathgeber",
          "Henriette von Paalzow",
          "Henriette von Paalzow",
          "Henriette von Paalzow",
          "Henry von Heiseler",
          "Henry von Heiseler",
          "Hermann Bahr",
          "Hermann Bahr",
          "Hermann Bahr",
          "Hermann Bahr",
          "Hermann Essig",
          "Hermann Essig",
          "Hermann Heiberg",
          "Hermann Heiberg",
          "Hermann Heiberg",
          "Hermann Kurz",
          "Hermann Kurz",
          "Hermann Kurz",
          "Hermann Lingg",
          "Hermann Löns",
          "Hermann Marggraff",
          "Hermann Sudermann",
          "Hermann Sudermann",
          "Hermann Sudermann",
          "Hermann Sudermann",
          "Hermann Sudermann",
          "Hermann Sudermann",
          "Hermann Sudermann",
          "Hermine Villinger",
          "Hermine Villinger",
          "Hugo Bettauer",
          "Hugo Bettauer",
          "Hugo Bettauer",
          "Hugo Bettauer",
          "Hugo Bettauer",
          "Hugo Salus",
          "Hugo von Hofmannsthal",
          "Hugo von Hofmannsthal",
          "Hugo von Hofmannsthal",
          "Hugo von Hofmannsthal",
          "Hugo von Hofmannsthal",
          "Ida Boy-Ed",
          "Ida Boy-Ed",
          "Ida Boy-Ed",
          "Ida Boy-Ed",
          "Ida Boy-Ed",
          "Ida Boy-Ed",
          "Ida Boy-Ed",
          "Ida Boy-Ed",
          "Ida Hahn-Hahn",
          "Ida Hahn-Hahn",
          "Ida Hahn-Hahn",
          "Ida Hahn-Hahn",
          "Ignaz Franz Castelli, Pseudonym Bruder Fatalis",
          "Ilse Frapan",
          "Ilse Frapan",
          "Ilse Frapan",
          "Ilse Frapan",
          "Ilse Frapan",
          "Ilse Frapan",
          "Ilse Frapan",
          "Isabella Braun",
          "Jacob Grimm",
          "Jakob Christoph Heer",
          "Jakob Christoph Heer",
          "Jakob Christoph Heer",
          "Jakob Christoph Heer",
          "Jakob Christoph Heer",
          "Jakob Christoph Heer",
          "Jakob Christoph Heer",
          "Jakob Julius David",
          "Jakob Julius David",
          "Jakob Julius David",
          "Jakob Julius David",
          "Jakob Julius David",
          "Jakob Julius David",
          "Jakob Julius David",
          "Jakob Julius David",
          "Jakob Julius David",
          "Jakob Julius David",
          "Jakob Michael Reinhold Lenz",
          "Jakob Wassermann",
          "Jakob Wassermann",
          "Jakob Wassermann",
          "Jakob Wassermann",
          "Jakob Wassermann",
          "Jakob Wassermann",
          "Jakob Wassermann",
          "Jakob Wassermann",
          "Jakob Wassermann",
          "Jakob Wassermann",
          "Jakob Wassermann",
          "Jakob Wassermann",
          "Jakob Wassermann",
          "Jakob Wassermann",
          "Jakob Wassermann",
          "Jakob Wassermann",
          "Jakob Wassermann",
          "Jakob Wassermann",
          "Jakob Wassermann",
          "Jakob Wassermann",
          "Jakob Wassermann",
          "Jean Paul, eigentlich Johann Paul Friedrich Richter",
          "Jeremias Gotthelf, eigentlich Albert Bitzius",
          "Jeremias Gotthelf, eigentlich Albert Bitzius",
          "Jeremias Gotthelf, eigentlich Albert Bitzius",
          "Jeremias Gotthelf, eigentlich Albert Bitzius",
          "Jeremias Gotthelf, eigentlich Albert Bitzius",
          "Jeremias Gotthelf, eigentlich Albert Bitzius",
          "Jeremias Gotthelf, eigentlich Albert Bitzius",
          "Jeremias Gotthelf, eigentlich Albert Bitzius",
          "Jeremias Gotthelf, eigentlich Albert Bitzius",
          "Jodocus Temme",
          "Jodocus Temme",
          "Johann Gabriel Seidl",
          "Johann Gabriel Seidl",
          "Johann Gabriel Seidl",
          "Johann Gabriel Seidl",
          "Johann Gabriel Seidl",
          "Johann Gabriel Seidl",
          "Johann Gabriel Seidl",
          "Johann Gabriel Seidl",
          "Johann Gabriel Seidl",
          "Johann Gabriel Seidl",
          "Johann Gottfried Herder",
          "Johann Gottfried Kinkel",
          "Johann Gottfried Kinkel",
          "Johann Gottfried Kinkel",
          "Johann Gottwerth Müller",
          "Johann Jakob Engel",
          "Johann Jakob Engel",
          "Johann Jakob Wilhelm Heinse",
          "Johann Jakob Wilhelm Heinse",
          "Johann Jakob Wilhelm Heinse",
          "Johann Peter",
          "Johann Peter",
          "Johann Peter",
          "Johann Wolfgang von Goethe",
          "Johann Wolfgang von Goethe",
          "Johann Wolfgang von Goethe",
          "Johann Wolfgang von Goethe",
          "Johann Wolfgang von Goethe",
          "Johann Wolfgang von Goethe",
          "Johann Wolfgang von Goethe",
          "Johann Wolfgang von Goethe",
          "Johann Wolfgang von Goethe",
          "Johann Wolfgang von Goethe",
          "Johann Wolfgang von Goethe",
          "Johann Wolfgang von Goethe",
          "Johann Wolfgang von Goethe",
          "Johanna Kinkel",
          "Johanna Schopenhauer",
          "Johanna Schopenhauer",
          "Johanna Schopenhauer",
          "Johanna Schopenhauer",
          "Johanna Schopenhauer",
          "Johanna Spyri",
          "Johanna Spyri",
          "Johanna Spyri",
          "Johannes Richard zur Megede",
          "Johannes Richard zur Megede",
          "Johannes Scherr",
          "Josef Eduard Konrad Bischoff",
          "Josef Eduard Konrad Bischoff",
          "Josef Eduard Konrad Bischoff",
          "Josef Eduard Konrad Bischoff",
          "Josef Rank",
          "Josef Rank",
          "Josef Rank",
          "Joseph Freiherr von Eichendorff",
          "Joseph Freiherr von Eichendorff",
          "Joseph Freiherr von Eichendorff",
          "Joseph Freiherr von Eichendorff",
          "Joseph Freiherr von Eichendorff",
          "Joseph Freiherr von Eichendorff",
          "Julius Hart",
          "Julius Mosen, eigentlich Julius Moses",
          "Julius Mosen, eigentlich Julius Moses",
          "Julius Rodenberg, eigentlich Levy",
          "Julius Wolff",
          "Julius Wolff",
          "Julius Wolff",
          "Julius Wolff",
          "Karl Adolph",
          "Karl Bleibtreu",
          "Karl Emil Franzos",
          "Karl Emil Franzos",
          "Karl Emil Franzos",
          "Karl Emil Franzos",
          "Karl Emil Franzos",
          "Karl Emil Franzos",
          "Karl Emil Franzos",
          "Karl Gutzkow",
          "Karl Gutzkow",
          "Karl Gutzkow",
          "Karl Gutzkow",
          "Karl Gutzkow",
          "Karl Gutzkow",
          "Karl Gutzkow",
          "Karl Gutzkow",
          "Karl Gutzkow",
          "Karl Gutzkow",
          "Karl Gutzkow",
          "Karl May",
          "Karl May",
          "Karl May",
          "Karl Philipp Moritz",
          "Karl Philipp Moritz",
          "Karl Simrock",
          "Karl Spindler",
          "Karl Spindler",
          "Karl Spindler",
          "Karl Spindler",
          "Karl Spindler",
          "Karl Spindler",
          "Karl Spindler",
          "Karl Spindler",
          "Karl Spindler",
          "Karl Spindler",
          "Karl Spindler",
          "Klaus Groth",
          "Konrad Telman, eigentlich Konrad Zitelmann",
          "Kurd Laßwitz",
          "Kurd Laßwitz",
          "Kurd Laßwitz",
          "Kurt Aram, eigentlich Hans Fischer",
          "Kurt Aram, eigentlich Hans Fischer",
          "Kurt Aram, eigentlich Hans Fischer",
          "Lena Christ",
          "Lena Christ",
          "Lena Christ",
          "Lena Christ",
          "Leo Greiner",
          "Leo Greiner",
          "Leo Leipziger",
          "Leo Leipziger",
          "Leopold Kompert",
          "Leopold Kompert",
          "Leopold Kompert",
          "Leopold Schefer",
          "Leopold Schefer",
          "Leopold Schefer",
          "Leopold von Sacher-Masoch",
          "Leopold von Sacher-Masoch",
          "Leopold von Sacher-Masoch",
          "Leopold von Sacher-Masoch",
          "Leopold von Sacher-Masoch",
          "Leopold von Sacher-Masoch",
          "Levin Schücking",
          "Levin Schücking",
          "Levin Schücking",
          "Levin Schücking",
          "Levin Schücking",
          "Levin Schücking",
          "Levin Schücking",
          "Levin Schücking",
          "Levin Schücking",
          "Levin Schücking",
          "Lily Braun",
          "Lou Andreas-Salomé",
          "Lou Andreas-Salomé",
          "Lou Andreas-Salomé",
          "Louise Aston",
          "Louise Aston",
          "Louise Aston",
          "Louise Otto-Peters",
          "Louise Otto-Peters",
          "Louise von François",
          "Louise von François",
          "Louise von François",
          "Louise von François",
          "Louise von François",
          "Louise von François",
          "Louise von François",
          "Louise von François",
          "Louise von François",
          "Louise von François",
          "Louise von François",
          "Ludwig Anzengruber",
          "Ludwig Anzengruber",
          "Ludwig Anzengruber",
          "Ludwig Anzengruber",
          "Ludwig Anzengruber",
          "Ludwig Anzengruber",
          "Ludwig Anzengruber",
          "Ludwig Anzengruber",
          "Ludwig Anzengruber",
          "Ludwig Anzengruber",
          "Ludwig Aurbacher",
          "Ludwig Aurbacher",
          "Ludwig Aurbacher",
          "Ludwig Bechstein",
          "Ludwig Ganghofer",
          "Ludwig Ganghofer",
          "Ludwig Ganghofer",
          "Ludwig Ganghofer",
          "Ludwig Ganghofer",
          "Ludwig Rellstab",
          "Ludwig Storch",
          "Ludwig Storch",
          "Ludwig Thoma",
          "Ludwig Thoma",
          "Ludwig Thoma",
          "Ludwig Thoma",
          "Ludwig Thoma",
          "Ludwig Tieck",
          "Ludwig Tieck",
          "Ludwig Tieck",
          "Ludwig Tieck",
          "Ludwig Tieck",
          "Ludwig Tieck",
          "Ludwig Tieck",
          "Ludwig Tieck",
          "Ludwig Tieck",
          "Ludwig Tieck",
          "Ludwig Tieck",
          "Ludwig Tieck",
          "Ludwig Tieck",
          "Ludwig Tieck",
          "Ludwig Tieck",
          "Ludwig Tieck",
          "Ludwig Tieck",
          "Ludwig Tieck",
          "Luise Glaß",
          "Luise Mühlbach",
          "Luise Reinhardt",
          "Luise Reinhardt",
          "Luise Reinhardt",
          "Luise Reinhardt",
          "Luise Reinhardt",
          "Luise von Gall",
          "Luise von Gall",
          "Luise von Gall",
          "Malwida von Meysenbug",
          "Malwida von Meysenbug",
          "Malwida von Meysenbug",
          "Malwida von Meysenbug",
          "Malwida von Meysenbug",
          "Maria Janitschek",
          "Maria Janitschek",
          "Maria Janitschek",
          "Maria Janitschek",
          "Maria Janitschek",
          "Maria Janitschek",
          "Maria Janitschek",
          "Maria Janitschek",
          "Maria Janitschek",
          "Maria Janitschek",
          "Maria Janitschek",
          "Maria Janitschek",
          "Marie Eugenie Delle Grazie",
          "Marie Eugenie Delle Grazie",
          "Marie Eugenie Delle Grazie",
          "Marie Nathusius",
          "Marie von Ebner-Eschenbach",
          "Marie von Ebner-Eschenbach",
          "Marie von Ebner-Eschenbach",
          "Marie von Ebner-Eschenbach",
          "Marie von Ebner-Eschenbach",
          "Marie von Ebner-Eschenbach",
          "Marie von Ebner-Eschenbach",
          "Marie von Ebner-Eschenbach",
          "Marie von Ebner-Eschenbach",
          "Marie von Ebner-Eschenbach",
          "Marie von Ebner-Eschenbach",
          "Marie von Ebner-Eschenbach",
          "Marie von Ebner-Eschenbach",
          "Marie von Ebner-Eschenbach",
          "Marie von Ebner-Eschenbach",
          "Marie von Ebner-Eschenbach",
          "Marie von Ebner-Eschenbach",
          "Marie von Ebner-Eschenbach",
          "Marie von Ebner-Eschenbach",
          "Marie von Ebner-Eschenbach",
          "Marie von Ebner-Eschenbach",
          "Marie von Olfers",
          "Marie von Olfers",
          "Marie von Olfers",
          "Marie von Olfers",
          "Max Burckhard",
          "Max Dauthendey",
          "Max Dauthendey",
          "Max Dauthendey",
          "Max Dauthendey",
          "Max Dauthendey",
          "Max Dauthendey",
          "Max Eyth",
          "Max Eyth",
          "Max Eyth",
          "Max Eyth",
          "Max Eyth",
          "Max Ring",
          "Max Ring",
          "Max Ring",
          "Max Ring",
          "Max Ring",
          "Max Waldau",
          "Maximilian Schmidt",
          "Maximilian Schmidt",
          "Maximilian Schmidt",
          "Maximilian Schmidt",
          "Maximilian Schmidt",
          "Maximilian Schmidt",
          "Maximilian Schmidt",
          "Meinrad Lienert",
          "Meinrad Lienert",
          "Meinrad Lienert",
          "Michael Georg Conrad",
          "Monika Hunnius",
          "Moritz August von Thümmel",
          "Moritz August von Thümmel",
          "Moritz Hartmann",
          "Moritz Heimann",
          "Moritz Heimann",
          "Moritz Heimann",
          "Novalis, eigentlich Friedrich von Hardenberg",
          "Novalis, eigentlich Friedrich von Hardenberg",
          "Oskar Höcker",
          "Oskar Höcker",
          "Oskar Höcker",
          "Oskar Höcker",
          "Oskar Höcker",
          "Oskar Höcker",
          "Oskar Höcker",
          "Oskar Panizza",
          "Oskar Panizza",
          "Oskar Panizza",
          "Oskar Panizza",
          "Ossip Schubin, eigentlich Lola Kirschner",
          "Ossip Schubin, eigentlich Lola Kirschner",
          "Ossip Schubin, eigentlich Lola Kirschner",
          "Ossip Schubin, eigentlich Lola Kirschner",
          "Ossip Schubin, eigentlich Lola Kirschner",
          "Ossip Schubin, eigentlich Lola Kirschner",
          "Ossip Schubin, eigentlich Lola Kirschner",
          "Ottilie Wildermuth",
          "Ottilie Wildermuth",
          "Ottilie Wildermuth",
          "Ottilie Wildermuth",
          "Ottilie Wildermuth",
          "Ottilie Wildermuth",
          "Ottilie Wildermuth",
          "Ottilie Wildermuth",
          "Ottilie Wildermuth",
          "Ottilie Wildermuth",
          "Ottilie Wildermuth",
          "Ottilie Wildermuth",
          "Ottilie Wildermuth",
          "Ottilie Wildermuth",
          "Ottilie Wildermuth",
          "Ottilie Wildermuth",
          "Ottilie Wildermuth",
          "Ottilie Wildermuth",
          "Ottilie Wildermuth",
          "Ottilie Wildermuth",
          "Otto Erich Hartleben",
          "Otto Erich Hartleben",
          "Otto Erich Hartleben",
          "Otto Erich Hartleben",
          "Otto Ernst, eigentlich Otto Ernst Schmidt",
          "Otto Ernst, eigentlich Otto Ernst Schmidt",
          "Otto Ernst, eigentlich Otto Ernst Schmidt",
          "Otto Ernst, eigentlich Otto Ernst Schmidt",
          "Otto Ernst, eigentlich Otto Ernst Schmidt",
          "Otto Ernst, eigentlich Otto Ernst Schmidt",
          "Otto Ernst, eigentlich Otto Ernst Schmidt",
          "Otto Ernst, eigentlich Otto Ernst Schmidt",
          "Otto Julius Bierbaum",
          "Otto Julius Bierbaum",
          "Otto Julius Bierbaum",
          "Otto Julius Bierbaum",
          "Otto Julius Bierbaum",
          "Otto Ludwig",
          "Otto Roquette",
          "Otto Roquette",
          "Otto Roquette",
          "Otto Ruppius",
          "Otto Ruppius",
          "Otto Stoessl",
          "Otto Stoessl",
          "Otto Stoessl",
          "Otto Stoessl",
          "Otto Stoessl",
          "Otto Stoessl",
          "Otto Stoessl",
          "Otto Stoessl",
          "Otto Stoessl",
          "Paul Enderling",
          "Paul Ernst",
          "Paul Ernst",
          "Paul Ernst",
          "Paul Ernst",
          "Paul Ernst",
          "Paul Ernst",
          "Paul Ernst",
          "Paul Ernst",
          "Paul Ernst",
          "Paul Heyse",
          "Paul Heyse",
          "Paul Heyse",
          "Paul Heyse",
          "Paul Heyse",
          "Paul Heyse",
          "Paul Heyse",
          "Paul Heyse",
          "Paul Heyse",
          "Paul Heyse",
          "Paul Heyse",
          "Paul Heyse",
          "Paul Heyse",
          "Paul Heyse",
          "Paul Heyse",
          "Paul Heyse",
          "Paul Heyse",
          "Paul Heyse",
          "Paul Heyse",
          "Paul Heyse",
          "Paul Heyse",
          "Paul Heyse",
          "Paul Heyse",
          "Paul Heyse",
          "Paul Heyse",
          "Paul Heyse",
          "Paul Heyse",
          "Paul Heyse",
          "Paul Heyse",
          "Paul Heyse",
          "Paul Heyse",
          "Paul Heyse",
          "Paul Heyse",
          "Paul Keller",
          "Paul Keller",
          "Paul Keller",
          "Paul Langenscheidt",
          "Paul Langenscheidt",
          "Paul Langenscheidt",
          "Paul Langenscheidt",
          "Paul Lindau",
          "Paul Lindau",
          "Paul Lindau",
          "Paul Lindau",
          "Paul Lindau",
          "Paul Lindau",
          "Paul Lindau",
          "Paul Lindau",
          "Paul Rosenhayn",
          "Paul Rosenhayn",
          "Paul Scheerbart",
          "Paul Scheerbart",
          "Paul Scheerbart",
          "Paul Scheerbart",
          "Paul Scheerbart",
          "Paul Scheerbart",
          "Paul Schreckenbach",
          "Paul Schreckenbach",
          "Paul Schreckenbach",
          "Paul Schreckenbach",
          "Paul Schreckenbach",
          "Paul Schreckenbach",
          "Paul Schreckenbach",
          "Paul Schreckenbach",
          "Paul Schreckenbach",
          "Peter Rosegger, eigentlich Roßegger",
          "Peter Rosegger, eigentlich Roßegger",
          "Peter Rosegger, eigentlich Roßegger",
          "Peter Rosegger, eigentlich Roßegger",
          "Richard Dehmel",
          "Richard Voß",
          "Richard Voß",
          "Richard Voß",
          "Richard Voß",
          "Richard Voß",
          "Richard Voß",
          "Richard Voß",
          "Richard Voß",
          "Richard Voß",
          "Richard Voß",
          "Richard Voß",
          "Robert Byr, eigentlich Karl Robert Emanuel von Bayer",
          "Robert Byr, eigentlich Karl Robert Emanuel von Bayer",
          "Robert Eduard Prutz",
          "Robert Fuchs-Liska",
          "Robert Fuchs-Liska",
          "Robert Schweichel",
          "Robert Schweichel",
          "Rudolf Baumbach",
          "Rudolf G. Binding",
          "Rudolf G. Binding",
          "Rudolf Gottschall",
          "Rudolf Gottschall",
          "Rudolf Gottschall",
          "Rudolf Gottschall",
          "Rudolf Hawel",
          "Rudolf Hawel",
          "Rudolf Hawel",
          "Rudolf Lindau",
          "Rudolf Lindau",
          "Rudolf Lindau",
          "Rudolf Lindau",
          "Rudolf Lindau",
          "Rudolf Lindau",
          "Rudolf Lindau",
          "Rudolf Lindau",
          "Rudolf Lindau",
          "Rudolf von Tavel",
          "Rudolf von Tavel",
          "Rudolf von Tavel",
          "Rudolf von Tavel",
          "Rudolf von Tavel",
          "Rudolf von Tavel",
          "Rudolf von Tavel",
          "Rudolf von Tavel",
          "Rudolf von Tavel",
          "Rudolf von Tavel",
          "Rudolf von Tavel",
          "Rudolf von Tavel",
          "Rudolf von Tavel",
          "Rudolph Stratz",
          "Rudolph Stratz",
          "Rudolph Stratz",
          "Rudolph Stratz",
          "Rudolph Stratz",
          "Rudolph Stratz",
          "Rudolph Stratz",
          "Rudolph Stratz",
          "Rudolph Stratz",
          "Rudolph Stratz",
          "Rudolph Stratz",
          "Rudolph Stratz",
          "Rupert Johann Hammerling",
          "Rupert Johann Hammerling",
          "Siegfried August Mahlmann",
          "Siegfried August Mahlmann",
          "Siegfried August Mahlmann",
          "Sir John Retcliffe, eigentlich Hermann Goedsche",
          "Sophie Albrecht",
          "Sophie Mereau",
          "Sophie Mereau",
          "Sophie Mereau",
          "Sophie Tieck",
          "Sophie Tieck",
          "Sophie von La Roche",
          "Sophie von La Roche",
          "Sophie von La Roche",
          "Sophie von La Roche",
          "Sophie von La Roche",
          "Sophie Wörishöffer",
          "Sophie Wörishöffer",
          "Sophie Wörishöffer",
          "Stanisław Przybyszewski",
          "Stanisław Przybyszewski",
          "Stanisław Przybyszewski",
          "Stanisław Przybyszewski",
          "Stanisław Przybyszewski",
          "Stanisław Przybyszewski",
          "Stefan Grossmann",
          "Stefan Grossmann",
          "Stefan Grossmann",
          "Stefan Grossmann",
          "Stefan Grossmann",
          "Theodor Däubler",
          "Theodor Däubler",
          "Theodor Fontane",
          "Theodor Fontane",
          "Theodor Fontane",
          "Theodor Fontane",
          "Theodor Fontane",
          "Theodor Fontane",
          "Theodor Fontane",
          "Theodor Fontane",
          "Theodor Fontane",
          "Theodor Fontane",
          "Theodor Fontane",
          "Theodor Fontane",
          "Theodor Fontane",
          "Theodor Fontane",
          "Theodor Hermann Pantenius",
          "Theodor Hermann Pantenius",
          "Theodor Herzl",
          "Theodor Mügge",
          "Theodor Mügge",
          "Theodor Mügge",
          "Theodor Mügge",
          "Theodor Mügge",
          "Theodor Mundt",
          "Theodor Mundt",
          "Theodor Storm",
          "Theodor Storm",
          "Theodor Storm",
          "Theodor Storm",
          "Theodor Storm",
          "Theodor Storm",
          "Theodor Storm",
          "Theodor Storm",
          "Theodor Storm",
          "Theodor Storm",
          "Theodor Storm",
          "Theodor Storm",
          "Theodor Storm",
          "Theodor Storm",
          "Theodor Storm",
          "Theodor Storm",
          "Theodor Storm",
          "Theodor Storm",
          "Theodor Storm",
          "Theodor Storm",
          "Theodor Storm",
          "Theodor Storm",
          "Theodor Storm",
          "Theodor Storm",
          "Theodor Storm",
          "Theodor Storm",
          "Theodor Storm",
          "Theodor Storm",
          "Theodor Storm",
          "Theodor Storm",
          "Theodor Storm",
          "Theodor Storm",
          "Theodor Storm",
          "Theodor Storm",
          "Theodor Storm",
          "Theodor Storm",
          "Theodor Storm",
          "Theodor Storm",
          "Theodor Storm",
          "Theodor Storm",
          "Theodor Storm",
          "Theodor Storm",
          "Theodor Storm",
          "Theodor Storm",
          "Therese Winkler",
          "Timm Kröger",
          "Timm Kröger",
          "Timm Kröger",
          "Tony Schumacher",
          "Tony Schumacher",
          "Tony Schumacher",
          "Tony Schumacher",
          "Ulrich Hegner",
          "Ulrich Hegner",
          "Ulrich Hegner",
          "Walter Flex",
          "Walter Flex",
          "Wilhelm Hauff",
          "Wilhelm Hauff",
          "Wilhelm Hauff",
          "Wilhelm Hauff",
          "Wilhelm Hauff",
          "Wilhelm Hauff",
          "Wilhelm Hauff",
          "Wilhelm Hauff",
          "Wilhelm Hauff",
          "Wilhelm Hauff",
          "Wilhelm Hauff",
          "Wilhelm Hauff",
          "Wilhelm Heinrich Riehl",
          "Wilhelm Heinrich Riehl",
          "Wilhelm Heinrich Riehl",
          "Wilhelm Heinrich Riehl",
          "Wilhelm Heinrich Riehl",
          "Wilhelm Heinrich Riehl",
          "Wilhelm Heinrich Riehl",
          "Wilhelm Hertz",
          "Wilhelm Hertz",
          "Wilhelm Hertz",
          "Wilhelm Holzamer",
          "Wilhelm Holzamer",
          "Wilhelm Jensen",
          "Wilhelm Jensen",
          "Wilhelm Jensen",
          "Wilhelm Jensen",
          "Wilhelm Jensen",
          "Wilhelm Meinhold",
          "Wilhelm Meyer-Förster",
          "Wilhelm Meyer-Förster",
          "Wilhelm Poeck",
          "Wilhelm Raabe",
          "Wilhelm Raabe",
          "Wilhelm Raabe",
          "Wilhelm Raabe",
          "Wilhelm Raabe",
          "Wilhelm Raabe",
          "Wilhelm Raabe",
          "Wilhelm Raabe",
          "Wilhelm Raabe",
          "Wilhelm Raabe",
          "Wilhelm Raabe",
          "Wilhelm Raabe",
          "Wilhelm Raabe",
          "Wilhelm Raabe",
          "Wilhelm Raabe",
          "Wilhelm Raabe",
          "Wilhelm Raabe",
          "Wilhelm Raabe",
          "Wilhelm Raabe",
          "Wilhelm Raabe",
          "Wilhelm Raabe",
          "Wilhelm Raabe",
          "Wilhelm Raabe",
          "Wilhelm Raabe",
          "Wilhelm Raabe",
          "Wilhelm Raabe",
          "Wilhelm Raabe",
          "Wilhelm von Polenz",
          "Wilhelm von Polenz",
          "Wilhelm von Polenz",
          "Wilhelm von Polenz",
          "Wilhelm von Polenz",
          "Wilhelm Walloth",
          "Willibald Alexis, eigentlich Georg Wilhelm Heinrich Häring",
          "Willibald Alexis, eigentlich Georg Wilhelm Heinrich Häring",
          "Willibald Alexis, eigentlich Georg Wilhelm Heinrich Häring",
          "Willibald Alexis, eigentlich Georg Wilhelm Heinrich Häring",
          "Willibald Alexis, eigentlich Georg Wilhelm Heinrich Häring",
          "Willibald Alexis, eigentlich Georg Wilhelm Heinrich Häring",
          "Willibald Alexis, eigentlich Georg Wilhelm Heinrich Häring",
          "Willibald Alexis, eigentlich Georg Wilhelm Heinrich Häring",
          "Willibald Alexis, eigentlich Georg Wilhelm Heinrich Häring",
          "Willibald Alexis, eigentlich Georg Wilhelm Heinrich Häring",
          "Wolfgang Kirchbach"
         ],
         "xaxis": "x",
         "yaxis": "y"
        }
       ],
       "layout": {
        "autosize": true,
        "barmode": "relative",
        "legend": {
         "tracegroupgap": 0
        },
        "margin": {
         "t": 60
        },
        "template": {
         "data": {
          "bar": [
           {
            "error_x": {
             "color": "#2a3f5f"
            },
            "error_y": {
             "color": "#2a3f5f"
            },
            "marker": {
             "line": {
              "color": "#E5ECF6",
              "width": 0.5
             },
             "pattern": {
              "fillmode": "overlay",
              "size": 10,
              "solidity": 0.2
             }
            },
            "type": "bar"
           }
          ],
          "barpolar": [
           {
            "marker": {
             "line": {
              "color": "#E5ECF6",
              "width": 0.5
             },
             "pattern": {
              "fillmode": "overlay",
              "size": 10,
              "solidity": 0.2
             }
            },
            "type": "barpolar"
           }
          ],
          "carpet": [
           {
            "aaxis": {
             "endlinecolor": "#2a3f5f",
             "gridcolor": "white",
             "linecolor": "white",
             "minorgridcolor": "white",
             "startlinecolor": "#2a3f5f"
            },
            "baxis": {
             "endlinecolor": "#2a3f5f",
             "gridcolor": "white",
             "linecolor": "white",
             "minorgridcolor": "white",
             "startlinecolor": "#2a3f5f"
            },
            "type": "carpet"
           }
          ],
          "choropleth": [
           {
            "colorbar": {
             "outlinewidth": 0,
             "ticks": ""
            },
            "type": "choropleth"
           }
          ],
          "contour": [
           {
            "colorbar": {
             "outlinewidth": 0,
             "ticks": ""
            },
            "colorscale": [
             [
              0,
              "#0d0887"
             ],
             [
              0.1111111111111111,
              "#46039f"
             ],
             [
              0.2222222222222222,
              "#7201a8"
             ],
             [
              0.3333333333333333,
              "#9c179e"
             ],
             [
              0.4444444444444444,
              "#bd3786"
             ],
             [
              0.5555555555555556,
              "#d8576b"
             ],
             [
              0.6666666666666666,
              "#ed7953"
             ],
             [
              0.7777777777777778,
              "#fb9f3a"
             ],
             [
              0.8888888888888888,
              "#fdca26"
             ],
             [
              1,
              "#f0f921"
             ]
            ],
            "type": "contour"
           }
          ],
          "contourcarpet": [
           {
            "colorbar": {
             "outlinewidth": 0,
             "ticks": ""
            },
            "type": "contourcarpet"
           }
          ],
          "heatmap": [
           {
            "colorbar": {
             "outlinewidth": 0,
             "ticks": ""
            },
            "colorscale": [
             [
              0,
              "#0d0887"
             ],
             [
              0.1111111111111111,
              "#46039f"
             ],
             [
              0.2222222222222222,
              "#7201a8"
             ],
             [
              0.3333333333333333,
              "#9c179e"
             ],
             [
              0.4444444444444444,
              "#bd3786"
             ],
             [
              0.5555555555555556,
              "#d8576b"
             ],
             [
              0.6666666666666666,
              "#ed7953"
             ],
             [
              0.7777777777777778,
              "#fb9f3a"
             ],
             [
              0.8888888888888888,
              "#fdca26"
             ],
             [
              1,
              "#f0f921"
             ]
            ],
            "type": "heatmap"
           }
          ],
          "heatmapgl": [
           {
            "colorbar": {
             "outlinewidth": 0,
             "ticks": ""
            },
            "colorscale": [
             [
              0,
              "#0d0887"
             ],
             [
              0.1111111111111111,
              "#46039f"
             ],
             [
              0.2222222222222222,
              "#7201a8"
             ],
             [
              0.3333333333333333,
              "#9c179e"
             ],
             [
              0.4444444444444444,
              "#bd3786"
             ],
             [
              0.5555555555555556,
              "#d8576b"
             ],
             [
              0.6666666666666666,
              "#ed7953"
             ],
             [
              0.7777777777777778,
              "#fb9f3a"
             ],
             [
              0.8888888888888888,
              "#fdca26"
             ],
             [
              1,
              "#f0f921"
             ]
            ],
            "type": "heatmapgl"
           }
          ],
          "histogram": [
           {
            "marker": {
             "pattern": {
              "fillmode": "overlay",
              "size": 10,
              "solidity": 0.2
             }
            },
            "type": "histogram"
           }
          ],
          "histogram2d": [
           {
            "colorbar": {
             "outlinewidth": 0,
             "ticks": ""
            },
            "colorscale": [
             [
              0,
              "#0d0887"
             ],
             [
              0.1111111111111111,
              "#46039f"
             ],
             [
              0.2222222222222222,
              "#7201a8"
             ],
             [
              0.3333333333333333,
              "#9c179e"
             ],
             [
              0.4444444444444444,
              "#bd3786"
             ],
             [
              0.5555555555555556,
              "#d8576b"
             ],
             [
              0.6666666666666666,
              "#ed7953"
             ],
             [
              0.7777777777777778,
              "#fb9f3a"
             ],
             [
              0.8888888888888888,
              "#fdca26"
             ],
             [
              1,
              "#f0f921"
             ]
            ],
            "type": "histogram2d"
           }
          ],
          "histogram2dcontour": [
           {
            "colorbar": {
             "outlinewidth": 0,
             "ticks": ""
            },
            "colorscale": [
             [
              0,
              "#0d0887"
             ],
             [
              0.1111111111111111,
              "#46039f"
             ],
             [
              0.2222222222222222,
              "#7201a8"
             ],
             [
              0.3333333333333333,
              "#9c179e"
             ],
             [
              0.4444444444444444,
              "#bd3786"
             ],
             [
              0.5555555555555556,
              "#d8576b"
             ],
             [
              0.6666666666666666,
              "#ed7953"
             ],
             [
              0.7777777777777778,
              "#fb9f3a"
             ],
             [
              0.8888888888888888,
              "#fdca26"
             ],
             [
              1,
              "#f0f921"
             ]
            ],
            "type": "histogram2dcontour"
           }
          ],
          "mesh3d": [
           {
            "colorbar": {
             "outlinewidth": 0,
             "ticks": ""
            },
            "type": "mesh3d"
           }
          ],
          "parcoords": [
           {
            "line": {
             "colorbar": {
              "outlinewidth": 0,
              "ticks": ""
             }
            },
            "type": "parcoords"
           }
          ],
          "pie": [
           {
            "automargin": true,
            "type": "pie"
           }
          ],
          "scatter": [
           {
            "fillpattern": {
             "fillmode": "overlay",
             "size": 10,
             "solidity": 0.2
            },
            "type": "scatter"
           }
          ],
          "scatter3d": [
           {
            "line": {
             "colorbar": {
              "outlinewidth": 0,
              "ticks": ""
             }
            },
            "marker": {
             "colorbar": {
              "outlinewidth": 0,
              "ticks": ""
             }
            },
            "type": "scatter3d"
           }
          ],
          "scattercarpet": [
           {
            "marker": {
             "colorbar": {
              "outlinewidth": 0,
              "ticks": ""
             }
            },
            "type": "scattercarpet"
           }
          ],
          "scattergeo": [
           {
            "marker": {
             "colorbar": {
              "outlinewidth": 0,
              "ticks": ""
             }
            },
            "type": "scattergeo"
           }
          ],
          "scattergl": [
           {
            "marker": {
             "colorbar": {
              "outlinewidth": 0,
              "ticks": ""
             }
            },
            "type": "scattergl"
           }
          ],
          "scattermapbox": [
           {
            "marker": {
             "colorbar": {
              "outlinewidth": 0,
              "ticks": ""
             }
            },
            "type": "scattermapbox"
           }
          ],
          "scatterpolar": [
           {
            "marker": {
             "colorbar": {
              "outlinewidth": 0,
              "ticks": ""
             }
            },
            "type": "scatterpolar"
           }
          ],
          "scatterpolargl": [
           {
            "marker": {
             "colorbar": {
              "outlinewidth": 0,
              "ticks": ""
             }
            },
            "type": "scatterpolargl"
           }
          ],
          "scatterternary": [
           {
            "marker": {
             "colorbar": {
              "outlinewidth": 0,
              "ticks": ""
             }
            },
            "type": "scatterternary"
           }
          ],
          "surface": [
           {
            "colorbar": {
             "outlinewidth": 0,
             "ticks": ""
            },
            "colorscale": [
             [
              0,
              "#0d0887"
             ],
             [
              0.1111111111111111,
              "#46039f"
             ],
             [
              0.2222222222222222,
              "#7201a8"
             ],
             [
              0.3333333333333333,
              "#9c179e"
             ],
             [
              0.4444444444444444,
              "#bd3786"
             ],
             [
              0.5555555555555556,
              "#d8576b"
             ],
             [
              0.6666666666666666,
              "#ed7953"
             ],
             [
              0.7777777777777778,
              "#fb9f3a"
             ],
             [
              0.8888888888888888,
              "#fdca26"
             ],
             [
              1,
              "#f0f921"
             ]
            ],
            "type": "surface"
           }
          ],
          "table": [
           {
            "cells": {
             "fill": {
              "color": "#EBF0F8"
             },
             "line": {
              "color": "white"
             }
            },
            "header": {
             "fill": {
              "color": "#C8D4E3"
             },
             "line": {
              "color": "white"
             }
            },
            "type": "table"
           }
          ]
         },
         "layout": {
          "annotationdefaults": {
           "arrowcolor": "#2a3f5f",
           "arrowhead": 0,
           "arrowwidth": 1
          },
          "autotypenumbers": "strict",
          "coloraxis": {
           "colorbar": {
            "outlinewidth": 0,
            "ticks": ""
           }
          },
          "colorscale": {
           "diverging": [
            [
             0,
             "#8e0152"
            ],
            [
             0.1,
             "#c51b7d"
            ],
            [
             0.2,
             "#de77ae"
            ],
            [
             0.3,
             "#f1b6da"
            ],
            [
             0.4,
             "#fde0ef"
            ],
            [
             0.5,
             "#f7f7f7"
            ],
            [
             0.6,
             "#e6f5d0"
            ],
            [
             0.7,
             "#b8e186"
            ],
            [
             0.8,
             "#7fbc41"
            ],
            [
             0.9,
             "#4d9221"
            ],
            [
             1,
             "#276419"
            ]
           ],
           "sequential": [
            [
             0,
             "#0d0887"
            ],
            [
             0.1111111111111111,
             "#46039f"
            ],
            [
             0.2222222222222222,
             "#7201a8"
            ],
            [
             0.3333333333333333,
             "#9c179e"
            ],
            [
             0.4444444444444444,
             "#bd3786"
            ],
            [
             0.5555555555555556,
             "#d8576b"
            ],
            [
             0.6666666666666666,
             "#ed7953"
            ],
            [
             0.7777777777777778,
             "#fb9f3a"
            ],
            [
             0.8888888888888888,
             "#fdca26"
            ],
            [
             1,
             "#f0f921"
            ]
           ],
           "sequentialminus": [
            [
             0,
             "#0d0887"
            ],
            [
             0.1111111111111111,
             "#46039f"
            ],
            [
             0.2222222222222222,
             "#7201a8"
            ],
            [
             0.3333333333333333,
             "#9c179e"
            ],
            [
             0.4444444444444444,
             "#bd3786"
            ],
            [
             0.5555555555555556,
             "#d8576b"
            ],
            [
             0.6666666666666666,
             "#ed7953"
            ],
            [
             0.7777777777777778,
             "#fb9f3a"
            ],
            [
             0.8888888888888888,
             "#fdca26"
            ],
            [
             1,
             "#f0f921"
            ]
           ]
          },
          "colorway": [
           "#636efa",
           "#EF553B",
           "#00cc96",
           "#ab63fa",
           "#FFA15A",
           "#19d3f3",
           "#FF6692",
           "#B6E880",
           "#FF97FF",
           "#FECB52"
          ],
          "font": {
           "color": "#2a3f5f"
          },
          "geo": {
           "bgcolor": "white",
           "lakecolor": "white",
           "landcolor": "#E5ECF6",
           "showlakes": true,
           "showland": true,
           "subunitcolor": "white"
          },
          "hoverlabel": {
           "align": "left"
          },
          "hovermode": "closest",
          "mapbox": {
           "style": "light"
          },
          "paper_bgcolor": "white",
          "plot_bgcolor": "#E5ECF6",
          "polar": {
           "angularaxis": {
            "gridcolor": "white",
            "linecolor": "white",
            "ticks": ""
           },
           "bgcolor": "#E5ECF6",
           "radialaxis": {
            "gridcolor": "white",
            "linecolor": "white",
            "ticks": ""
           }
          },
          "scene": {
           "xaxis": {
            "backgroundcolor": "#E5ECF6",
            "gridcolor": "white",
            "gridwidth": 2,
            "linecolor": "white",
            "showbackground": true,
            "ticks": "",
            "zerolinecolor": "white"
           },
           "yaxis": {
            "backgroundcolor": "#E5ECF6",
            "gridcolor": "white",
            "gridwidth": 2,
            "linecolor": "white",
            "showbackground": true,
            "ticks": "",
            "zerolinecolor": "white"
           },
           "zaxis": {
            "backgroundcolor": "#E5ECF6",
            "gridcolor": "white",
            "gridwidth": 2,
            "linecolor": "white",
            "showbackground": true,
            "ticks": "",
            "zerolinecolor": "white"
           }
          },
          "shapedefaults": {
           "line": {
            "color": "#2a3f5f"
           }
          },
          "ternary": {
           "aaxis": {
            "gridcolor": "white",
            "linecolor": "white",
            "ticks": ""
           },
           "baxis": {
            "gridcolor": "white",
            "linecolor": "white",
            "ticks": ""
           },
           "bgcolor": "#E5ECF6",
           "caxis": {
            "gridcolor": "white",
            "linecolor": "white",
            "ticks": ""
           }
          },
          "title": {
           "x": 0.05
          },
          "xaxis": {
           "automargin": true,
           "gridcolor": "white",
           "linecolor": "white",
           "ticks": "",
           "title": {
            "standoff": 15
           },
           "zerolinecolor": "white",
           "zerolinewidth": 2
          },
          "yaxis": {
           "automargin": true,
           "gridcolor": "white",
           "linecolor": "white",
           "ticks": "",
           "title": {
            "standoff": 15
           },
           "zerolinecolor": "white",
           "zerolinewidth": 2
          }
         }
        },
        "xaxis": {
         "anchor": "y",
         "autorange": true,
         "categoryorder": "total descending",
         "domain": [
          0,
          1
         ],
         "range": [
          -0.5,
          371.5
         ],
         "title": {
          "text": "author"
         },
         "type": "category"
        },
        "yaxis": {
         "anchor": "x",
         "autorange": true,
         "domain": [
          0,
          1
         ],
         "range": [
          0,
          61.05263157894737
         ],
         "title": {
          "text": "count"
         }
        }
       }
      },
      "image/png": "[encoded data removed]",
      "text/html": [
       "<div>                            <div id=\"5ef98493-0731-411b-b46c-a4199ee74372\" class=\"plotly-graph-div\" style=\"height:600px; width:100%;\"></div>            <script type=\"text/javascript\">                require([\"plotly\"], function(Plotly) {                    window.PLOTLYENV=window.PLOTLYENV || {};                                    if (document.getElementById(\"5ef98493-0731-411b-b46c-a4199ee74372\")) {                    Plotly.newPlot(                        \"5ef98493-0731-411b-b46c-a4199ee74372\",                        [{\"alignmentgroup\":\"True\",\"bingroup\":\"x\",\"hovertemplate\":\"author=%{x}\\u003cbr\\u003ecount=%{y}\\u003cextra\\u003e\\u003c\\u002fextra\\u003e\",\"legendgroup\":\"\",\"marker\":{\"color\":\"#636efa\",\"pattern\":{\"shape\":\"\"}},\"name\":\"\",\"offsetgroup\":\"\",\"orientation\":\"v\",\"showlegend\":false,\"x\":[\"Christoph Martin Wieland\",\"Christoph Martin Wieland\",\"Christoph Martin Wieland\",\"Christoph Martin Wieland\",\"Sophie von La Roche\",\"Sophie von La Roche\",\"Friedrich Nicolai\",\"Johann Wolfgang von Goethe\",\"Johann Wolfgang von Goethe\",\"Friedrich Nicolai\",\"Friedrich Nicolai\",\"Johann Martin Miller\",\"Johann Martin Miller\",\"Johann Karl August Mus\\u00e4us\",\"Joachim Heinrich Campe\",\"Johann Karl August Mus\\u00e4us\",\"Johann Karl August Mus\\u00e4us\",\"Johann Karl August Mus\\u00e4us\",\"Joachim Heinrich Campe\",\"Karl Philipp Moritz\",\"Karl Philipp Moritz\",\"Karl Philipp Moritz\",\"Rudolf Erich Raspe\",\"Friedrich Schiller\",\"Heinrich Zschokke\",\"Karl Philipp Moritz\",\"Friedrich Maximilian Klinger\",\"Friedrich Heinrich Jacobi\",\"Jean Paul, eigentlich Johann Paul Friedrich Richter\",\"Jean Paul, eigentlich Johann Paul Friedrich Richter\",\"Johann Wolfgang von Goethe\",\"Jean Paul, eigentlich Johann Paul Friedrich Richter\",\"Jean Paul, eigentlich Johann Paul Friedrich Richter\",\"Jean Paul, eigentlich Johann Paul Friedrich Richter\",\"Johann Wolfgang von Goethe\",\"Johann Wolfgang von Goethe\",\"Johann Wolfgang von Goethe\",\"Ludwig Tieck\",\"Christian Heinrich Spie\\u00df\",\"Christian Heinrich Spie\\u00df\",\"Christian Heinrich Spie\\u00df\",\"Christian Heinrich Spie\\u00df\",\"Johann Wolfgang von Goethe\",\"Ludwig Tieck\",\"Ludwig Tieck\",\"Friedrich H\\u00f6lderlin\",\"Ludwig Tieck\",\"Wilhelm Heinrich Wackenroder\",\"August Wilhelm Schlegel\",\"Friedrich Schlegel\",\"Ludwig Tieck\",\"Ludwig Tieck\",\"August Wilhelm Schlegel\",\"Friedrich H\\u00f6lderlin\",\"Friedrich Schlegel\",\"Friedrich Schlegel\",\"Karl Arnold Kortum\",\"Karl Arnold Kortum\",\"Karl Arnold Kortum\",\"August Wilhelm Schlegel\",\"Friedrich Schlegel\",\"Jean Paul, eigentlich Johann Paul Friedrich Richter\",\"Dorothea Schlegel\",\"Friedrich Schlegel\",\"Jean Paul, eigentlich Johann Paul Friedrich Richter\",\"Caroline Auguste Fischer\",\"Jean Paul, eigentlich Johann Paul Friedrich Richter\",\"Jean Paul, eigentlich Johann Paul Friedrich Richter\",\"Jean Paul, eigentlich Johann Paul Friedrich Richter\",\"Jean Paul, eigentlich Johann Paul Friedrich Richter\",\"Jean Paul, eigentlich Johann Paul Friedrich Richter\",\"Ernst August Friedrich Klingemann\",\"Jean Paul, eigentlich Johann Paul Friedrich Richter\",\"Karoline Rudolphi\",\"Karoline Rudolphi\",\"Jean Paul, eigentlich Johann Paul Friedrich Richter\",\"Jean Paul, eigentlich Johann Paul Friedrich Richter\",\"Johann Wolfgang von Goethe\",\"Johann Wolfgang von Goethe\",\"Julius von Vo\\u00df\",\"Friedrich de la Motte Fouqu\\u00e9\",\"Johann Peter Hebel\",\"Jacob Grimm\",\"Jacob Grimm\",\"Ludwig Tieck\",\"Ludwig Tieck\",\"Friedrich de la Motte Fouqu\\u00e9\",\"Jacob Grimm\",\"Jacob Grimm\",\"Joseph Freiherr von Eichendorff\",\"Ludwig Tieck\",\"Achim von Arnim\",\"Jacob Grimm\",\"Jacob Grimm\",\"Jacob Grimm\",\"Jacob Grimm\",\"Wilhelm Waiblinger\",\"Wilhelm Waiblinger\",\"Joseph Freiherr von Eichendorff\",\"Wilhelm Hauff\",\"Eduard M\\u00f6rike\",\"Eduard M\\u00f6rike\",\"Karl Gutzkow\",\"Heinrich Laube\",\"Heinrich Laube\",\"Joseph Freiherr von Eichendorff\",\"Karl August Varnhagen von Ense\",\"Karl August Varnhagen von Ense\",\"Karl August Varnhagen von Ense\",\"Rahel Levin\",\"Rahel Levin\",\"Rahel Levin\",\"Karl Gutzkow\",\"Karl Gutzkow\",\"Heinrich Laube\",\"Heinrich Laube\",\"Jacob Grimm\",\"Jacob Grimm\",\"Jacob Grimm\",\"Jacob Grimm\",\"Karl August Varnhagen von Ense\",\"Karl August Varnhagen von Ense\",\"Gustav Schwab\",\"Karl August Varnhagen von Ense\",\"Gustav Schwab\",\"Gustav Schwab\",\"Jacob Grimm\",\"Jacob Grimm\",\"Jacob Grimm\",\"Jacob Grimm\",\"Jeremias Gotthelf, eigentlich Albert Bitzius\",\"Fanny Lewald\",\"Fanny Lewald\",\"Jacob Grimm\",\"Jacob Grimm\",\"Jacob Grimm\",\"Jacob Grimm\",\"Wilhelm Meinhold\",\"Amalie Schoppe\",\"Amalie Schoppe\",\"Amalie Schoppe\",\"Ernst Dronke\",\"Georg Weerth\",\"Jacob Grimm\",\"Jacob Grimm\",\"Jacob Grimm\",\"Jacob Grimm\",\"Theodor Storm\",\"Adalbert Stifter\",\"Adalbert Stifter\",\"Gottfried Keller\",\"Gottfried Keller\",\"Gottfried Keller\",\"Ludwig Bechstein\",\"Ferdinand K\\u00fcrnberger\",\"Gottfried Keller\",\"Hermann Kurz\",\"Joseph Victor von Scheffel\",\"Paul Heyse\",\"Eduard M\\u00f6rike\",\"Gottfried Keller\",\"Otto Ludwig\",\"Adalbert Stifter\",\"Adalbert Stifter\",\"Adalbert Stifter\",\"Jacob Grimm\",\"Jacob Grimm\",\"Jacob Grimm\",\"Jacob Grimm\",\"Wilhelm Raabe\",\"Annette von Droste-H\\u00fclshoff\",\"Friedrich Spielhagen\",\"Friedrich Spielhagen\",\"Friedrich Spielhagen\",\"Friedrich Spielhagen\",\"Fanny Lewald\",\"Georg Ebers\",\"Georg Ebers\",\"Georg Ebers\",\"Wilhelm Busch\",\"Heinrich von Kleist\",\"Johann Wolfgang von Goethe\",\"Louise von Fran\\u00e7ois\",\"Louise von Fran\\u00e7ois\",\"Gottfried Keller\",\"Theodor Storm\",\"Conrad Ferdinand Meyer\",\"Daniel Spitzer\",\"Ferdinand von Saar\",\"Karl Gutzkow\",\"Karl Gutzkow\",\"Karl Gutzkow\",\"Theodor Storm\",\"Friedrich Theodor Vischer\",\"Friedrich Theodor Vischer\",\"Johanna Spyri\",\"Alfred Mei\\u00dfner\",\"Gottfried Keller\",\"Theodor Fontane\",\"Theodor Fontane\",\"Theodor Storm\",\"Theodor Storm\",\"Theodor Storm\",\"Theodor Fontane\",\"Theodor Storm\",\"Arno Holz\",\"Hermann Conradi\",\"Wilhelm Raabe\",\"Kurd La\\u00dfwitz\",\"Ilse Frapan\",\"Wilhelm Raabe\",\"Karl May\",\"Theodor Fontane\",\"Ilse Frapan\",\"Wilhelm von Polenz\",\"Robert Kraft\",\"Theodor Fontane\",\"Wilhelm Raabe\",\"Kurd La\\u00dfwitz\",\"Kurd La\\u00dfwitz\",\"Otto Julius Bierbaum\",\"Theodor Fontane\",\"Arnold Hagenauer\",\"Theodor Fontane\",\"Eduard von Keyserling\",\"Adalbert Stifter\",\"Adelbert von Chamisso\",\"Adelheid Reinbold\",\"Adolf Pichler\",\"Adolf Widmann\",\"Alexander von Ungern-Sternberg\",\"Alfred Mei\\u00dfner\",\"Annette von Droste-H\\u00fclshoff\",\"Bernhard Abeken, Pseudonym Ernst Andolt\",\"Claire von Gl\\u00fcmer\",\"Edmund Hoefer\",\"Eduard M\\u00f6rike\",\"Emmy von Dincklage\",\"Ernst Wichert\",\"Fanny Lewald\",\"Ferdinand K\\u00fcrnberger\",\"Franz Grillparzer\",\"Friedrich Gerst\\u00e4cker\",\"Friedrich Halm, eigentlich Eligius von M\\u00fcnch-Bellinghausen\",\"Friedrich von Heyden\",\"Friedrich Wilhelm Hackl\\u00e4nder\",\"Gottfried Keller\",\"Herman Grimm\",\"Hermann Kurz\",\"Hieronymus Lorm, eigentlich Heinrich Landesmann\",\"Jeremias Gotthelf, eigentlich Albert Bitzius\",\"Jeremias Gotthelf, eigentlich Albert Bitzius\",\"Johanna Kinkel\",\"Joseph Freiherr von Eichendorff\",\"Joseph Schreyvogel\",\"Joseph Victor von Scheffel\",\"Julius Grosse\",\"Karl August Varnhagen von Ense\",\"Karl Spindler\",\"Leopold Kompert\",\"Leopold von Sacher-Masoch\",\"Ludwig Tieck\",\"Ludwig Tieck\",\"Luise von Gall\",\"Melchior Meyr\",\"Moritz Hartmann\",\"Ottilie Wildermuth\",\"Paul Heyse\",\"Theodor M\\u00fcgge\",\"Theodor Storm\",\"Wilhelm Hauff\",\"Wilhelm Raabe\",\"Elisabeth von Heyking\",\"Hermione von Preuschen\",\"Arthur Schnitzler\",\"Abraham Emanuel Fr\\u00f6hlich\",\"Abraham Emanuel Fr\\u00f6hlich\",\"Achim von Arnim\",\"Achim von Arnim\",\"Achim von Arnim\",\"Achim von Arnim\",\"Achim von Arnim\",\"Achim von Arnim\",\"Achim von Arnim\",\"Achim von Arnim\",\"Ada Christen, eigentlich Christiane von Breden\",\"Ada Christen, eigentlich Christiane von Breden\",\"Ada Christen, eigentlich Christiane von Breden\",\"Ada Christen, eigentlich Christiane von Breden\",\"Ada Christen, eigentlich Christiane von Breden\",\"Ada Christen, eigentlich Christiane von Breden\",\"Adalbert Stifter\",\"Adalbert Stifter\",\"Adalbert Stifter\",\"Adalbert Stifter\",\"Adalbert Stifter\",\"Adalbert Stifter\",\"Adalbert Stifter\",\"Adalbert Stifter\",\"Adalbert Stifter\",\"Adam Karrillon\",\"Adam Karrillon\",\"Adam Karrillon\",\"Adam Karrillon\",\"Adam M\\u00fcller-Guttenbrunn\",\"Adam M\\u00fcller-Guttenbrunn\",\"Adam M\\u00fcller-Guttenbrunn\",\"Adelbert von Chamisso\",\"Adele Schopenhauer\",\"Adolf Glaser, Pseudonym Rainald Reimar\",\"Adolf Glaser, Pseudonym Rainald Reimar\",\"Adolf Pichler\",\"Adolf Pichler\",\"Adolf Pichler\",\"Adolf Pichler\",\"Adolf Pichler\",\"Adolf Pichler\",\"Adolf Pichler\",\"Adolf Wilbrandt\",\"Adolf Wilbrandt\",\"Adolph Freiherr Knigge\",\"Adolph Freiherr Knigge\",\"Adolph Freiherr Knigge\",\"Agnes Franz\",\"Agnes G\\u00fcnther\",\"Agnes G\\u00fcnther\",\"Agnes Sapper\",\"Agnes Sapper\",\"Albert Emil Brachvogel\",\"Albert Emil Brachvogel\",\"Alexander von Oppeln-Bronikowski\",\"Alexander von Ungern-Sternberg\",\"Alexander von Ungern-Sternberg\",\"Alfred Bock\",\"Alfred Schirokauer\",\"Alice Berend\",\"Alice Berend\",\"Annette von Droste-H\\u00fclshoff\",\"Annette von Droste-H\\u00fclshoff\",\"Annette von Droste-H\\u00fclshoff\",\"Annette von Droste-H\\u00fclshoff\",\"Annette von Droste-H\\u00fclshoff\",\"Anton von Perfall\",\"Anton von Perfall\",\"Arthur Achleitner\",\"Arthur Achleitner\",\"Arthur Achleitner\",\"Arthur Achleitner\",\"Arthur Kahane\",\"Arthur Kahane\",\"Arthur Kahane\",\"Arthur Schnitzler\",\"Arthur Schnitzler\",\"Arthur Schnitzler\",\"Arthur Schnitzler\",\"Arthur Schnitzler\",\"Arthur Schnitzler\",\"Arthur Schnitzler\",\"Arthur Schnitzler\",\"Arthur Schnitzler\",\"Arthur Schnitzler\",\"Arthur Schnitzler\",\"Arthur Schnitzler\",\"Arthur Schnitzler\",\"Arthur Schnitzler\",\"Arthur Schnitzler\",\"Arthur Schnitzler\",\"Arthur Schnitzler\",\"Arthur Schnitzler\",\"Arthur Schnitzler\",\"Arthur Schnitzler\",\"Arthur Schnitzler\",\"Arthur Schnitzler\",\"Arthur Schnitzler\",\"Arthur Schnitzler\",\"Arthur Schnitzler\",\"Arthur Schnitzler\",\"Arthur Schnitzler\",\"Arthur Schnitzler\",\"Arthur Schnitzler\",\"Arthur Schnitzler\",\"Arthur Schnitzler\",\"Arthur Schnitzler\",\"Arthur Schnitzler\",\"Arthur Schnitzler\",\"Arthur Schnitzler\",\"Arthur Schnitzler\",\"Arthur Schnitzler\",\"Arthur Schnitzler\",\"Arthur Schnitzler\",\"Arthur Schnitzler\",\"Arthur Schnitzler\",\"Arthur Schnitzler\",\"Arthur Schnitzler\",\"Arthur Schnitzler\",\"Arthur Schnitzler\",\"Arthur Schnitzler\",\"Arthur Schnitzler\",\"Arthur Schnitzler\",\"Arthur Schnitzler\",\"Arthur Schnitzler\",\"Arthur Schnitzler\",\"Arthur Schnitzler\",\"Arthur Schnitzler\",\"Arthur Schnitzler\",\"Arthur Schnitzler\",\"Arthur Schnitzler\",\"Arthur Schnitzler\",\"Arthur Schurig\",\"Arthur Schurig\",\"Arthur Schurig\",\"Arthur Zapp\",\"Artur Landsberger\",\"Artur Landsberger\",\"Artur Landsberger\",\"Artur Landsberger\",\"Artur Landsberger\",\"Artur Landsberger\",\"Artur Landsberger\",\"Artur Landsberger\",\"Artur Landsberger\",\"August Friedrich Ernst Langbein\",\"August Hagen\",\"August Kopisch\",\"August Trinius\",\"Auguste Groner\",\"Balduin Groller\",\"Balduin Groller\",\"Balduin Groller\",\"Balduin Groller\",\"Balduin Groller\",\"Balduin M\\u00f6llhausen\",\"Balduin M\\u00f6llhausen\",\"Balduin M\\u00f6llhausen\",\"Balduin M\\u00f6llhausen\",\"Balduin M\\u00f6llhausen\",\"Balduin M\\u00f6llhausen\",\"Balduin M\\u00f6llhausen\",\"Balduin M\\u00f6llhausen\",\"Balduin M\\u00f6llhausen\",\"Balduin M\\u00f6llhausen\",\"Benedikte Naubert\",\"Benedikte Naubert\",\"Benedikte Naubert\",\"Benedikte Naubert\",\"Bernhardine Schulze-Smidt\",\"Bernhardine Schulze-Smidt\",\"Bertha Behrens\",\"Bertha Behrens\",\"Bertha Behrens\",\"Bertha Behrens\",\"Bertha Behrens\",\"Bertha Behrens\",\"Bertha von Suttner\",\"Bertha von Suttner\",\"Bertha von Suttner\",\"Bertha von Suttner\",\"Bertha von Suttner\",\"Berthold Auerbach\",\"Berthold Auerbach\",\"Berthold Auerbach\",\"Bettina von Arnim\",\"Bettina von Arnim\",\"Bettina von Arnim\",\"Carl Albrecht Bernoulli\",\"Carl Albrecht Bernoulli\",\"Carl Franz van der Velde\",\"Carl Hauptmann\",\"Carl Hauptmann\",\"Carl Hauptmann\",\"Carl Hauptmann\",\"Carl Hauptmann\",\"Carl Hermann Busse\",\"Carl Hermann Busse\",\"Carl Leberecht Immermann\",\"Carl Leberecht Immermann\",\"Carl Leberecht Immermann\",\"Carl Spitteler\",\"Carl Spitteler\",\"Carl Spitteler\",\"Carola von Eynatten\",\"Caroline Auguste Fischer\",\"Caroline Auguste Fischer\",\"Caroline Auguste Fischer\",\"Caroline Auguste Fischer\",\"Caroline Auguste Fischer\",\"Caroline Auguste Fischer\",\"Caroline Auguste Fischer\",\"Caroline Pichler\",\"Caroline von Wolzogen\",\"Caroline von Wolzogen\",\"Charles Sealsfield, eigentlich Karl Anton Postl\",\"Charles Sealsfield, eigentlich Karl Anton Postl\",\"Charlotte Niese\",\"Charlotte Niese\",\"Charlotte Niese\",\"Charlotte Niese\",\"Charlotte Niese\",\"Charlotte Niese\",\"Charlotte Niese\",\"Charlotte Niese\",\"Charlotte Niese\",\"Charlotte Niese\",\"Charlotte von Ahlefeld\",\"Charlotte von Ahlefeld\",\"Charlotte von Ahlefeld\",\"Christian August Fischer\",\"Christian August Fischer\",\"Christian August Vulpius\",\"Christian Gotthilf Salzmann\",\"Christoph Martin Wieland\",\"Christoph Martin Wieland\",\"Christoph Martin Wieland\",\"Christoph Martin Wieland\",\"Christoph Martin Wieland\",\"Christoph Martin Wieland\",\"Christoph Martin Wieland\",\"Christoph von Schmid\",\"Christoph von Schmid\",\"Claire von Gl\\u00fcmer\",\"Clemens Brentano\",\"Clemens Brentano\",\"Clemens Brentano\",\"Clemens Brentano\",\"Clemens Brentano\",\"Conrad Ferdinand Meyer\",\"Conrad Ferdinand Meyer\",\"Conrad Ferdinand Meyer\",\"Conrad Ferdinand Meyer\",\"Conrad Ferdinand Meyer\",\"Conrad Ferdinand Meyer\",\"Conrad Ferdinand Meyer\",\"Conrad Ferdinand Meyer\",\"Conrad Ferdinand Meyer\",\"Conrad Ferdinand Meyer\",\"Conrad Ferdinand Meyer\",\"Detlev von Liliencron\",\"Detlev von Liliencron\",\"Detlev von Liliencron\",\"Detlev von Liliencron\",\"Detlev von Liliencron\",\"Detlev von Liliencron\",\"Detlev von Liliencron\",\"Detlev von Liliencron\",\"Detlev von Liliencron\",\"Detlev von Liliencron\",\"Detlev von Liliencron\",\"Detlev von Liliencron\",\"Detlev von Liliencron\",\"Detlev von Liliencron\",\"Detlev von Liliencron\",\"Detlev von Liliencron\",\"Detlev von Liliencron\",\"Diedrich Speckmann\",\"Diedrich Speckmann\",\"Diedrich Speckmann\",\"Dietrich Theden\",\"Dietrich Theden\",\"Dora Duncker\",\"Dora Duncker\",\"Dora Duncker\",\"Dora Duncker\",\"Dora Duncker\",\"Dora Duncker\",\"Dora Duncker\",\"Dora Duncker\",\"Dorothea Schlegel\",\"Dorothea Schlegel\",\"E. Marlitt\",\"E. Marlitt\",\"E. Marlitt\",\"E. Marlitt\",\"E. Marlitt\",\"E. Marlitt\",\"E. Marlitt\",\"E. Marlitt\",\"E. Marlitt\",\"E. Marlitt\",\"E. Marlitt\",\"E. Werner, eigentlich Elisabeth B\\u00fcrstenbinder\",\"E. Werner, eigentlich Elisabeth B\\u00fcrstenbinder\",\"E. Werner, eigentlich Elisabeth B\\u00fcrstenbinder\",\"E. Werner, eigentlich Elisabeth B\\u00fcrstenbinder\",\"E. Werner, eigentlich Elisabeth B\\u00fcrstenbinder\",\"E. Werner, eigentlich Elisabeth B\\u00fcrstenbinder\",\"E. Werner, eigentlich Elisabeth B\\u00fcrstenbinder\",\"E. Werner, eigentlich Elisabeth B\\u00fcrstenbinder\",\"Edmund Hoefer\",\"Eduard M\\u00f6rike\",\"Eduard M\\u00f6rike\",\"Eduard M\\u00f6rike\",\"Eduard Stucken\",\"Eduard von Bauernfeld\",\"Eduard von Keyserling\",\"Eduard von Keyserling\",\"Eduard von Keyserling\",\"Eduard von Keyserling\",\"Eduard von Keyserling\",\"Eduard von Keyserling\",\"Eduard von Keyserling\",\"Edward Stilgebauer\",\"Elisabeth von Heyking\",\"Elisabeth von Heyking\",\"Elisabeth von Heyking\",\"Elisabeth von Heyking\",\"Elisabeth von Heyking\",\"Elise Polko\",\"Emerenz Meier\",\"Emerenz Meier\",\"Emerenz Meier\",\"Emerenz Meier\",\"Emil Ertl\",\"Emil Frommel\",\"Emil G\\u00f6tt\",\"Emil Sandt\",\"Emilie Giehrl\",\"Ernst Adolf Willkomm\",\"Ernst Adolf Willkomm\",\"Ernst Adolf Willkomm\",\"Ernst Adolf Willkomm\",\"Ernst Adolf Willkomm\",\"Ernst August Friedrich Klingemann\",\"Ernst Barlach\",\"Ernst Eckstein\",\"Ernst Eckstein\",\"Ernst Eckstein\",\"Ernst Eckstein\",\"Ernst Theodor Amadeus Hoffmann\",\"Ernst Theodor Amadeus Hoffmann\",\"Ernst von Wildenbruch\",\"Ernst von Wildenbruch\",\"Ernst von Wolzogen\",\"Ernst von Wolzogen\",\"Ernst von Wolzogen\",\"Ernst von Wolzogen\",\"Ernst von Wolzogen\",\"Ernst von Wolzogen\",\"Ernst von Wolzogen\",\"Ernst Wichert\",\"Ernst Wichert\",\"Ernst Wichert\",\"Ernst Wichert\",\"Ernst Wichert\",\"Ernst Wichert\",\"Ernst Wichert\",\"Ernst Wichert\",\"Ernst Wichert\",\"Ernst Wichert\",\"Fanny Lewald\",\"Fanny Lewald\",\"Fanny Lewald\",\"Fanny Lewald\",\"Fanny Lewald\",\"Fanny Lewald\",\"Fedor von Zobeltitz\",\"Fedor von Zobeltitz\",\"Fedor von Zobeltitz\",\"Fedor von Zobeltitz\",\"Felix Dahn\",\"Felix Dahn\",\"Felix Dahn\",\"Felix Hollaender\",\"Felix Hollaender\",\"Felix Hollaender\",\"Felix Hollaender\",\"Felix Hollaender\",\"Ferdinand Grautoff, Pseudonym Seestern\",\"Ferdinand Grautoff, Pseudonym Seestern\",\"Ferdinand von Saar\",\"Ferdinand von Saar\",\"Ferdinand von Saar\",\"Ferdinand von Saar\",\"Ferdinand von Saar\",\"Ferdinand von Saar\",\"Ferdinande von Brackel\",\"Ferdinande von Brackel\",\"Frances K\\u00fclpe\",\"Frances K\\u00fclpe\",\"Frank Wedekind\",\"Frank Wedekind\",\"Franz Friedrich Alexander Hoffmann\",\"Franz Josef Zlatnik\",\"Franz Michael Felder\",\"Franz Stelzhamer\",\"Franz Treller\",\"Franz Treller\",\"Franz von Dingelstedt\",\"Franz von Gaudy\",\"Franz von Gaudy\",\"Franz von Gaudy\",\"Franz von Gaudy\",\"Franz von Kobell\",\"Franz Xaver Bronner\",\"Franz Xaver Bronner\",\"Franz Xaver Bronner\",\"Frida von Kronoff\",\"Friederike Helene Unger\",\"Friederike Helene Unger\",\"Friederike Helene Unger\",\"Friederike Henriette Kraze\",\"Friederike Henriette Kraze\",\"Friederike Henriette Kraze\",\"Friedrich Armand Strubberg, Pseudonym Armand\",\"Friedrich Armand Strubberg, Pseudonym Armand\",\"Friedrich Armand Strubberg, Pseudonym Armand\",\"Friedrich Bruckbr\\u00e4u\",\"Friedrich de la Motte Fouqu\\u00e9\",\"Friedrich de la Motte Fouqu\\u00e9\",\"Friedrich Gerst\\u00e4cker\",\"Friedrich Gerst\\u00e4cker\",\"Friedrich Gerst\\u00e4cker\",\"Friedrich Gerst\\u00e4cker\",\"Friedrich Gerst\\u00e4cker\",\"Friedrich Gerst\\u00e4cker\",\"Friedrich Gerst\\u00e4cker\",\"Friedrich Gerst\\u00e4cker\",\"Friedrich Gerst\\u00e4cker\",\"Friedrich Gerst\\u00e4cker\",\"Friedrich Gerst\\u00e4cker\",\"Friedrich Gerst\\u00e4cker\",\"Friedrich Gerst\\u00e4cker\",\"Friedrich Gerst\\u00e4cker\",\"Friedrich Gerst\\u00e4cker\",\"Friedrich Gerst\\u00e4cker\",\"Friedrich Gerst\\u00e4cker\",\"Friedrich Gerst\\u00e4cker\",\"Friedrich Gerst\\u00e4cker\",\"Friedrich Gerst\\u00e4cker\",\"Friedrich Gerst\\u00e4cker\",\"Friedrich Gerst\\u00e4cker\",\"Friedrich Gerst\\u00e4cker\",\"Friedrich Gerst\\u00e4cker\",\"Friedrich Gerst\\u00e4cker\",\"Friedrich Gerst\\u00e4cker\",\"Friedrich Gerst\\u00e4cker\",\"Friedrich Gerst\\u00e4cker\",\"Friedrich Gerst\\u00e4cker\",\"Friedrich Gerst\\u00e4cker\",\"Friedrich Gerst\\u00e4cker\",\"Friedrich Gerst\\u00e4cker\",\"Friedrich Gerst\\u00e4cker\",\"Friedrich Gerst\\u00e4cker\",\"Friedrich Gerst\\u00e4cker\",\"Friedrich Gerst\\u00e4cker\",\"Friedrich Gerst\\u00e4cker\",\"Friedrich Gerst\\u00e4cker\",\"Friedrich Gerst\\u00e4cker\",\"Friedrich Gerst\\u00e4cker\",\"Friedrich Gerst\\u00e4cker\",\"Friedrich Gerst\\u00e4cker\",\"Friedrich Gerst\\u00e4cker\",\"Friedrich Gerst\\u00e4cker\",\"Friedrich Gerst\\u00e4cker\",\"Friedrich Gerst\\u00e4cker\",\"Friedrich Gerst\\u00e4cker\",\"Friedrich Gerst\\u00e4cker\",\"Friedrich Gerst\\u00e4cker\",\"Friedrich Gerst\\u00e4cker\",\"Friedrich Hebbel\",\"Friedrich Hebbel\",\"Friedrich Hebbel\",\"Friedrich Hebbel\",\"Friedrich Hebbel\",\"Friedrich Hebbel\",\"Friedrich Hebbel\",\"Friedrich Hebbel\",\"Friedrich Hebbel\",\"Friedrich Hebbel\",\"Friedrich Hebbel\",\"Friedrich Hebbel\",\"Friedrich H\\u00f6lderlin\",\"Friedrich H\\u00f6lderlin\",\"Friedrich Maximilian Klinger\",\"Friedrich Schiller\",\"Friedrich Schiller\",\"Friedrich Schiller\",\"Friedrich Spielhagen\",\"Friedrich Spielhagen\",\"Friedrich Spielhagen\",\"Friedrich Spielhagen\",\"Friedrich Spielhagen\",\"Friedrich Spielhagen\",\"Friedrich Spielhagen\",\"Friedrich Spielhagen\",\"Friedrich Spielhagen\",\"Friedrich Spielhagen\",\"Friedrich Spielhagen\",\"Friedrich Spielhagen\",\"Friedrich Spielhagen\",\"Friedrich Spielhagen\",\"Friedrich Spielhagen\",\"Friedrich Spielhagen\",\"Friedrich Spielhagen\",\"Friedrich Spielhagen\",\"Friedrich Spielhagen\",\"Friedrich Spielhagen\",\"Friedrich Spielhagen\",\"Friedrich Spielhagen\",\"Friedrich Spielhagen\",\"Friedrich Spielhagen\",\"Friedrich Spielhagen\",\"Friedrich Spielhagen\",\"Friedrich Spielhagen\",\"Friedrich Spielhagen\",\"Friedrich von Bodenstedt\",\"Friedrich von Bodenstedt\",\"Friedrich Wilhelm Hackl\\u00e4nder\",\"Friedrich Wilhelm Hackl\\u00e4nder\",\"Friedrich Wilhelm Hackl\\u00e4nder\",\"Friedrich Wilhelm Hackl\\u00e4nder\",\"Fritz Mauthner\",\"Fritz St\\u00fcber-Gunther\",\"Georg Asmussen\",\"Georg Ebers\",\"Georg Ebers\",\"Georg Ebers\",\"Georg Engel\",\"Georg Engel\",\"Georg Engel\",\"Georg Engel\",\"Georg Heym\",\"Georg Heym\",\"Georg Heym\",\"Georg Ludwig Hesekiel\",\"Georg Queri\",\"Georg von Ompteda\",\"Georg von Ompteda\",\"Georg von Ompteda\",\"Georg von Ompteda\",\"Georg von Ompteda\",\"Georg von Ompteda\",\"Georg von Ompteda\",\"Georg von Ompteda\",\"Georg von Ompteda\",\"Georg von Ompteda\",\"Georg von Ompteda\",\"Georg von Ompteda\",\"Georg von Ompteda\",\"Georg von Ompteda\",\"Georg von Ompteda\",\"Georg von Ompteda\",\"Georg von Ompteda\",\"Georg von Ompteda\",\"Georg von Ompteda\",\"Georg von Ompteda\",\"Georg von Ompteda\",\"Georg von Ompteda\",\"Georg von Ompteda\",\"Georg von Ompteda\",\"Georg von Ompteda\",\"Georg von Ompteda\",\"Georg Weerth\",\"Gerrit Engelke\",\"Gorch Fock, eigentlich Johann Kinau\",\"Gorch Fock, eigentlich Johann Kinau\",\"Gorch Fock, eigentlich Johann Kinau\",\"Gottfried Keller\",\"Gottfried Keller\",\"Gottfried Keller\",\"Gregor Samarow, eigentlich Johann Ferdinand Martin Oskar Meding\",\"Gregor Samarow, eigentlich Johann Ferdinand Martin Oskar Meding\",\"Grete Meisel-He\\u00df\",\"Gustav Falke\",\"Gustav Falke\",\"Gustav Falke\",\"Gustav Falke\",\"Gustav Falke\",\"Gustav Freytag\",\"Gustav Freytag\",\"Gustav Freytag\",\"Gustav Meyrink, eigentlich Gustav Meyer\",\"Gustav Meyrink, eigentlich Gustav Meyer\",\"Gustav Meyrink, eigentlich Gustav Meyer\",\"Gustav Meyrink, eigentlich Gustav Meyer\",\"Gustav Meyrink, eigentlich Gustav Meyer\",\"Gustav Meyrink, eigentlich Gustav Meyer\",\"Gustav Meyrink, eigentlich Gustav Meyer\",\"Gustav Meyrink, eigentlich Gustav Meyer\",\"Gustav Meyrink, eigentlich Gustav Meyer\",\"Gustav Sack\",\"Gustav Sack\",\"Hans von Hopfen, eigentlich Hans Mayer\",\"Hans von Hopfen, eigentlich Hans Mayer\",\"Hans von Hopfen, eigentlich Hans Mayer\",\"Hans von Hopfen, eigentlich Hans Mayer\",\"Hans von Hopfen, eigentlich Hans Mayer\",\"Hans von Hopfen, eigentlich Hans Mayer\",\"Hans von Hopfen, eigentlich Hans Mayer\",\"Hans Wachenhusen\",\"Hans Wachenhusen\",\"Hedwig Dohm\",\"Hedwig Dohm\",\"Hedwig Dohm\",\"Hedwig Dohm\",\"Hedwig Dohm\",\"Hedwig Dransfeld\",\"Heinrich Clauren, eigentlich Karl Gottlieb Samuel Heun\",\"Heinrich Clauren, eigentlich Karl Gottlieb Samuel Heun\",\"Heinrich Clauren, eigentlich Karl Gottlieb Samuel Heun\",\"Heinrich Clauren, eigentlich Karl Gottlieb Samuel Heun\",\"Heinrich Clauren, eigentlich Karl Gottlieb Samuel Heun\",\"Heinrich Clauren, eigentlich Karl Gottlieb Samuel Heun\",\"Heinrich Clauren, eigentlich Karl Gottlieb Samuel Heun\",\"Heinrich Clauren, eigentlich Karl Gottlieb Samuel Heun\",\"Heinrich Clauren, eigentlich Karl Gottlieb Samuel Heun\",\"Heinrich Clauren, eigentlich Karl Gottlieb Samuel Heun\",\"Heinrich Federer\",\"Heinrich Federer\",\"Heinrich Federer\",\"Heinrich Federer\",\"Heinrich Federer\",\"Heinrich Federer\",\"Heinrich Federer\",\"Heinrich Federer\",\"Heinrich Federer\",\"Heinrich Federer\",\"Heinrich Federer\",\"Heinrich Federer\",\"Heinrich Hart\",\"Heinrich Heine\",\"Heinrich Laube\",\"Heinrich Laube\",\"Heinrich Laube\",\"Heinrich Laube\",\"Heinrich Laube\",\"Heinrich Schaumberger\",\"Heinrich Schaumberger\",\"Heinrich Schaumberger\",\"Heinrich Schaumberger\",\"Heinrich Smidt\",\"Heinrich Smidt\",\"Heinrich Smidt\",\"Heinrich Smidt\",\"Heinrich Smidt\",\"Heinrich Steinhausen\",\"Heinrich Zschokke\",\"Heinrich Zschokke\",\"Heinrich Zschokke\",\"Heinrich Zschokke\",\"Heinrich Zschokke\",\"Heinrich Zschokke\",\"Heinrich Zschokke\",\"Heinrich Zschokke\",\"Heinrich Zschokke\",\"Helene von M\\u00fchlau, eigentlich Hedwig von M\\u00fchlenfels, geb. Rathgeber\",\"Henriette von Paalzow\",\"Henriette von Paalzow\",\"Henriette von Paalzow\",\"Henry von Heiseler\",\"Henry von Heiseler\",\"Hermann Bahr\",\"Hermann Bahr\",\"Hermann Bahr\",\"Hermann Bahr\",\"Hermann Essig\",\"Hermann Essig\",\"Hermann Heiberg\",\"Hermann Heiberg\",\"Hermann Heiberg\",\"Hermann Kurz\",\"Hermann Kurz\",\"Hermann Kurz\",\"Hermann Lingg\",\"Hermann L\\u00f6ns\",\"Hermann Marggraff\",\"Hermann Sudermann\",\"Hermann Sudermann\",\"Hermann Sudermann\",\"Hermann Sudermann\",\"Hermann Sudermann\",\"Hermann Sudermann\",\"Hermann Sudermann\",\"Hermine Villinger\",\"Hermine Villinger\",\"Hugo Bettauer\",\"Hugo Bettauer\",\"Hugo Bettauer\",\"Hugo Bettauer\",\"Hugo Bettauer\",\"Hugo Salus\",\"Hugo von Hofmannsthal\",\"Hugo von Hofmannsthal\",\"Hugo von Hofmannsthal\",\"Hugo von Hofmannsthal\",\"Hugo von Hofmannsthal\",\"Ida Boy-Ed\",\"Ida Boy-Ed\",\"Ida Boy-Ed\",\"Ida Boy-Ed\",\"Ida Boy-Ed\",\"Ida Boy-Ed\",\"Ida Boy-Ed\",\"Ida Boy-Ed\",\"Ida Hahn-Hahn\",\"Ida Hahn-Hahn\",\"Ida Hahn-Hahn\",\"Ida Hahn-Hahn\",\"Ignaz Franz Castelli, Pseudonym Bruder Fatalis\",\"Ilse Frapan\",\"Ilse Frapan\",\"Ilse Frapan\",\"Ilse Frapan\",\"Ilse Frapan\",\"Ilse Frapan\",\"Ilse Frapan\",\"Isabella Braun\",\"Jacob Grimm\",\"Jakob Christoph Heer\",\"Jakob Christoph Heer\",\"Jakob Christoph Heer\",\"Jakob Christoph Heer\",\"Jakob Christoph Heer\",\"Jakob Christoph Heer\",\"Jakob Christoph Heer\",\"Jakob Julius David\",\"Jakob Julius David\",\"Jakob Julius David\",\"Jakob Julius David\",\"Jakob Julius David\",\"Jakob Julius David\",\"Jakob Julius David\",\"Jakob Julius David\",\"Jakob Julius David\",\"Jakob Julius David\",\"Jakob Michael Reinhold Lenz\",\"Jakob Wassermann\",\"Jakob Wassermann\",\"Jakob Wassermann\",\"Jakob Wassermann\",\"Jakob Wassermann\",\"Jakob Wassermann\",\"Jakob Wassermann\",\"Jakob Wassermann\",\"Jakob Wassermann\",\"Jakob Wassermann\",\"Jakob Wassermann\",\"Jakob Wassermann\",\"Jakob Wassermann\",\"Jakob Wassermann\",\"Jakob Wassermann\",\"Jakob Wassermann\",\"Jakob Wassermann\",\"Jakob Wassermann\",\"Jakob Wassermann\",\"Jakob Wassermann\",\"Jakob Wassermann\",\"Jean Paul, eigentlich Johann Paul Friedrich Richter\",\"Jeremias Gotthelf, eigentlich Albert Bitzius\",\"Jeremias Gotthelf, eigentlich Albert Bitzius\",\"Jeremias Gotthelf, eigentlich Albert Bitzius\",\"Jeremias Gotthelf, eigentlich Albert Bitzius\",\"Jeremias Gotthelf, eigentlich Albert Bitzius\",\"Jeremias Gotthelf, eigentlich Albert Bitzius\",\"Jeremias Gotthelf, eigentlich Albert Bitzius\",\"Jeremias Gotthelf, eigentlich Albert Bitzius\",\"Jeremias Gotthelf, eigentlich Albert Bitzius\",\"Jodocus Temme\",\"Jodocus Temme\",\"Johann Gabriel Seidl\",\"Johann Gabriel Seidl\",\"Johann Gabriel Seidl\",\"Johann Gabriel Seidl\",\"Johann Gabriel Seidl\",\"Johann Gabriel Seidl\",\"Johann Gabriel Seidl\",\"Johann Gabriel Seidl\",\"Johann Gabriel Seidl\",\"Johann Gabriel Seidl\",\"Johann Gottfried Herder\",\"Johann Gottfried Kinkel\",\"Johann Gottfried Kinkel\",\"Johann Gottfried Kinkel\",\"Johann Gottwerth M\\u00fcller\",\"Johann Jakob Engel\",\"Johann Jakob Engel\",\"Johann Jakob Wilhelm Heinse\",\"Johann Jakob Wilhelm Heinse\",\"Johann Jakob Wilhelm Heinse\",\"Johann Peter\",\"Johann Peter\",\"Johann Peter\",\"Johann Wolfgang von Goethe\",\"Johann Wolfgang von Goethe\",\"Johann Wolfgang von Goethe\",\"Johann Wolfgang von Goethe\",\"Johann Wolfgang von Goethe\",\"Johann Wolfgang von Goethe\",\"Johann Wolfgang von Goethe\",\"Johann Wolfgang von Goethe\",\"Johann Wolfgang von Goethe\",\"Johann Wolfgang von Goethe\",\"Johann Wolfgang von Goethe\",\"Johann Wolfgang von Goethe\",\"Johann Wolfgang von Goethe\",\"Johanna Kinkel\",\"Johanna Schopenhauer\",\"Johanna Schopenhauer\",\"Johanna Schopenhauer\",\"Johanna Schopenhauer\",\"Johanna Schopenhauer\",\"Johanna Spyri\",\"Johanna Spyri\",\"Johanna Spyri\",\"Johannes Richard zur Megede\",\"Johannes Richard zur Megede\",\"Johannes Scherr\",\"Josef Eduard Konrad Bischoff\",\"Josef Eduard Konrad Bischoff\",\"Josef Eduard Konrad Bischoff\",\"Josef Eduard Konrad Bischoff\",\"Josef Rank\",\"Josef Rank\",\"Josef Rank\",\"Joseph Freiherr von Eichendorff\",\"Joseph Freiherr von Eichendorff\",\"Joseph Freiherr von Eichendorff\",\"Joseph Freiherr von Eichendorff\",\"Joseph Freiherr von Eichendorff\",\"Joseph Freiherr von Eichendorff\",\"Julius Hart\",\"Julius Mosen, eigentlich Julius Moses\",\"Julius Mosen, eigentlich Julius Moses\",\"Julius Rodenberg, eigentlich Levy\",\"Julius Wolff\",\"Julius Wolff\",\"Julius Wolff\",\"Julius Wolff\",\"Karl Adolph\",\"Karl Bleibtreu\",\"Karl Emil Franzos\",\"Karl Emil Franzos\",\"Karl Emil Franzos\",\"Karl Emil Franzos\",\"Karl Emil Franzos\",\"Karl Emil Franzos\",\"Karl Emil Franzos\",\"Karl Gutzkow\",\"Karl Gutzkow\",\"Karl Gutzkow\",\"Karl Gutzkow\",\"Karl Gutzkow\",\"Karl Gutzkow\",\"Karl Gutzkow\",\"Karl Gutzkow\",\"Karl Gutzkow\",\"Karl Gutzkow\",\"Karl Gutzkow\",\"Karl May\",\"Karl May\",\"Karl May\",\"Karl Philipp Moritz\",\"Karl Philipp Moritz\",\"Karl Simrock\",\"Karl Spindler\",\"Karl Spindler\",\"Karl Spindler\",\"Karl Spindler\",\"Karl Spindler\",\"Karl Spindler\",\"Karl Spindler\",\"Karl Spindler\",\"Karl Spindler\",\"Karl Spindler\",\"Karl Spindler\",\"Klaus Groth\",\"Konrad Telman, eigentlich Konrad Zitelmann\",\"Kurd La\\u00dfwitz\",\"Kurd La\\u00dfwitz\",\"Kurd La\\u00dfwitz\",\"Kurt Aram, eigentlich Hans Fischer\",\"Kurt Aram, eigentlich Hans Fischer\",\"Kurt Aram, eigentlich Hans Fischer\",\"Lena Christ\",\"Lena Christ\",\"Lena Christ\",\"Lena Christ\",\"Leo Greiner\",\"Leo Greiner\",\"Leo Leipziger\",\"Leo Leipziger\",\"Leopold Kompert\",\"Leopold Kompert\",\"Leopold Kompert\",\"Leopold Schefer\",\"Leopold Schefer\",\"Leopold Schefer\",\"Leopold von Sacher-Masoch\",\"Leopold von Sacher-Masoch\",\"Leopold von Sacher-Masoch\",\"Leopold von Sacher-Masoch\",\"Leopold von Sacher-Masoch\",\"Leopold von Sacher-Masoch\",\"Levin Sch\\u00fccking\",\"Levin Sch\\u00fccking\",\"Levin Sch\\u00fccking\",\"Levin Sch\\u00fccking\",\"Levin Sch\\u00fccking\",\"Levin Sch\\u00fccking\",\"Levin Sch\\u00fccking\",\"Levin Sch\\u00fccking\",\"Levin Sch\\u00fccking\",\"Levin Sch\\u00fccking\",\"Lily Braun\",\"Lou Andreas-Salom\\u00e9\",\"Lou Andreas-Salom\\u00e9\",\"Lou Andreas-Salom\\u00e9\",\"Louise Aston\",\"Louise Aston\",\"Louise Aston\",\"Louise Otto-Peters\",\"Louise Otto-Peters\",\"Louise von Fran\\u00e7ois\",\"Louise von Fran\\u00e7ois\",\"Louise von Fran\\u00e7ois\",\"Louise von Fran\\u00e7ois\",\"Louise von Fran\\u00e7ois\",\"Louise von Fran\\u00e7ois\",\"Louise von Fran\\u00e7ois\",\"Louise von Fran\\u00e7ois\",\"Louise von Fran\\u00e7ois\",\"Louise von Fran\\u00e7ois\",\"Louise von Fran\\u00e7ois\",\"Ludwig Anzengruber\",\"Ludwig Anzengruber\",\"Ludwig Anzengruber\",\"Ludwig Anzengruber\",\"Ludwig Anzengruber\",\"Ludwig Anzengruber\",\"Ludwig Anzengruber\",\"Ludwig Anzengruber\",\"Ludwig Anzengruber\",\"Ludwig Anzengruber\",\"Ludwig Aurbacher\",\"Ludwig Aurbacher\",\"Ludwig Aurbacher\",\"Ludwig Bechstein\",\"Ludwig Ganghofer\",\"Ludwig Ganghofer\",\"Ludwig Ganghofer\",\"Ludwig Ganghofer\",\"Ludwig Ganghofer\",\"Ludwig Rellstab\",\"Ludwig Storch\",\"Ludwig Storch\",\"Ludwig Thoma\",\"Ludwig Thoma\",\"Ludwig Thoma\",\"Ludwig Thoma\",\"Ludwig Thoma\",\"Ludwig Tieck\",\"Ludwig Tieck\",\"Ludwig Tieck\",\"Ludwig Tieck\",\"Ludwig Tieck\",\"Ludwig Tieck\",\"Ludwig Tieck\",\"Ludwig Tieck\",\"Ludwig Tieck\",\"Ludwig Tieck\",\"Ludwig Tieck\",\"Ludwig Tieck\",\"Ludwig Tieck\",\"Ludwig Tieck\",\"Ludwig Tieck\",\"Ludwig Tieck\",\"Ludwig Tieck\",\"Ludwig Tieck\",\"Luise Gla\\u00df\",\"Luise M\\u00fchlbach\",\"Luise Reinhardt\",\"Luise Reinhardt\",\"Luise Reinhardt\",\"Luise Reinhardt\",\"Luise Reinhardt\",\"Luise von Gall\",\"Luise von Gall\",\"Luise von Gall\",\"Malwida von Meysenbug\",\"Malwida von Meysenbug\",\"Malwida von Meysenbug\",\"Malwida von Meysenbug\",\"Malwida von Meysenbug\",\"Maria Janitschek\",\"Maria Janitschek\",\"Maria Janitschek\",\"Maria Janitschek\",\"Maria Janitschek\",\"Maria Janitschek\",\"Maria Janitschek\",\"Maria Janitschek\",\"Maria Janitschek\",\"Maria Janitschek\",\"Maria Janitschek\",\"Maria Janitschek\",\"Marie Eugenie Delle Grazie\",\"Marie Eugenie Delle Grazie\",\"Marie Eugenie Delle Grazie\",\"Marie Nathusius\",\"Marie von Ebner-Eschenbach\",\"Marie von Ebner-Eschenbach\",\"Marie von Ebner-Eschenbach\",\"Marie von Ebner-Eschenbach\",\"Marie von Ebner-Eschenbach\",\"Marie von Ebner-Eschenbach\",\"Marie von Ebner-Eschenbach\",\"Marie von Ebner-Eschenbach\",\"Marie von Ebner-Eschenbach\",\"Marie von Ebner-Eschenbach\",\"Marie von Ebner-Eschenbach\",\"Marie von Ebner-Eschenbach\",\"Marie von Ebner-Eschenbach\",\"Marie von Ebner-Eschenbach\",\"Marie von Ebner-Eschenbach\",\"Marie von Ebner-Eschenbach\",\"Marie von Ebner-Eschenbach\",\"Marie von Ebner-Eschenbach\",\"Marie von Ebner-Eschenbach\",\"Marie von Ebner-Eschenbach\",\"Marie von Ebner-Eschenbach\",\"Marie von Olfers\",\"Marie von Olfers\",\"Marie von Olfers\",\"Marie von Olfers\",\"Max Burckhard\",\"Max Dauthendey\",\"Max Dauthendey\",\"Max Dauthendey\",\"Max Dauthendey\",\"Max Dauthendey\",\"Max Dauthendey\",\"Max Eyth\",\"Max Eyth\",\"Max Eyth\",\"Max Eyth\",\"Max Eyth\",\"Max Ring\",\"Max Ring\",\"Max Ring\",\"Max Ring\",\"Max Ring\",\"Max Waldau\",\"Maximilian Schmidt\",\"Maximilian Schmidt\",\"Maximilian Schmidt\",\"Maximilian Schmidt\",\"Maximilian Schmidt\",\"Maximilian Schmidt\",\"Maximilian Schmidt\",\"Meinrad Lienert\",\"Meinrad Lienert\",\"Meinrad Lienert\",\"Michael Georg Conrad\",\"Monika Hunnius\",\"Moritz August von Th\\u00fcmmel\",\"Moritz August von Th\\u00fcmmel\",\"Moritz Hartmann\",\"Moritz Heimann\",\"Moritz Heimann\",\"Moritz Heimann\",\"Novalis, eigentlich Friedrich von Hardenberg\",\"Novalis, eigentlich Friedrich von Hardenberg\",\"Oskar H\\u00f6cker\",\"Oskar H\\u00f6cker\",\"Oskar H\\u00f6cker\",\"Oskar H\\u00f6cker\",\"Oskar H\\u00f6cker\",\"Oskar H\\u00f6cker\",\"Oskar H\\u00f6cker\",\"Oskar Panizza\",\"Oskar Panizza\",\"Oskar Panizza\",\"Oskar Panizza\",\"Ossip Schubin, eigentlich Lola Kirschner\",\"Ossip Schubin, eigentlich Lola Kirschner\",\"Ossip Schubin, eigentlich Lola Kirschner\",\"Ossip Schubin, eigentlich Lola Kirschner\",\"Ossip Schubin, eigentlich Lola Kirschner\",\"Ossip Schubin, eigentlich Lola Kirschner\",\"Ossip Schubin, eigentlich Lola Kirschner\",\"Ottilie Wildermuth\",\"Ottilie Wildermuth\",\"Ottilie Wildermuth\",\"Ottilie Wildermuth\",\"Ottilie Wildermuth\",\"Ottilie Wildermuth\",\"Ottilie Wildermuth\",\"Ottilie Wildermuth\",\"Ottilie Wildermuth\",\"Ottilie Wildermuth\",\"Ottilie Wildermuth\",\"Ottilie Wildermuth\",\"Ottilie Wildermuth\",\"Ottilie Wildermuth\",\"Ottilie Wildermuth\",\"Ottilie Wildermuth\",\"Ottilie Wildermuth\",\"Ottilie Wildermuth\",\"Ottilie Wildermuth\",\"Ottilie Wildermuth\",\"Otto Erich Hartleben\",\"Otto Erich Hartleben\",\"Otto Erich Hartleben\",\"Otto Erich Hartleben\",\"Otto Ernst, eigentlich Otto Ernst Schmidt\",\"Otto Ernst, eigentlich Otto Ernst Schmidt\",\"Otto Ernst, eigentlich Otto Ernst Schmidt\",\"Otto Ernst, eigentlich Otto Ernst Schmidt\",\"Otto Ernst, eigentlich Otto Ernst Schmidt\",\"Otto Ernst, eigentlich Otto Ernst Schmidt\",\"Otto Ernst, eigentlich Otto Ernst Schmidt\",\"Otto Ernst, eigentlich Otto Ernst Schmidt\",\"Otto Julius Bierbaum\",\"Otto Julius Bierbaum\",\"Otto Julius Bierbaum\",\"Otto Julius Bierbaum\",\"Otto Julius Bierbaum\",\"Otto Ludwig\",\"Otto Roquette\",\"Otto Roquette\",\"Otto Roquette\",\"Otto Ruppius\",\"Otto Ruppius\",\"Otto Stoessl\",\"Otto Stoessl\",\"Otto Stoessl\",\"Otto Stoessl\",\"Otto Stoessl\",\"Otto Stoessl\",\"Otto Stoessl\",\"Otto Stoessl\",\"Otto Stoessl\",\"Paul Enderling\",\"Paul Ernst\",\"Paul Ernst\",\"Paul Ernst\",\"Paul Ernst\",\"Paul Ernst\",\"Paul Ernst\",\"Paul Ernst\",\"Paul Ernst\",\"Paul Ernst\",\"Paul Heyse\",\"Paul Heyse\",\"Paul Heyse\",\"Paul Heyse\",\"Paul Heyse\",\"Paul Heyse\",\"Paul Heyse\",\"Paul Heyse\",\"Paul Heyse\",\"Paul Heyse\",\"Paul Heyse\",\"Paul Heyse\",\"Paul Heyse\",\"Paul Heyse\",\"Paul Heyse\",\"Paul Heyse\",\"Paul Heyse\",\"Paul Heyse\",\"Paul Heyse\",\"Paul Heyse\",\"Paul Heyse\",\"Paul Heyse\",\"Paul Heyse\",\"Paul Heyse\",\"Paul Heyse\",\"Paul Heyse\",\"Paul Heyse\",\"Paul Heyse\",\"Paul Heyse\",\"Paul Heyse\",\"Paul Heyse\",\"Paul Heyse\",\"Paul Heyse\",\"Paul Keller\",\"Paul Keller\",\"Paul Keller\",\"Paul Langenscheidt\",\"Paul Langenscheidt\",\"Paul Langenscheidt\",\"Paul Langenscheidt\",\"Paul Lindau\",\"Paul Lindau\",\"Paul Lindau\",\"Paul Lindau\",\"Paul Lindau\",\"Paul Lindau\",\"Paul Lindau\",\"Paul Lindau\",\"Paul Rosenhayn\",\"Paul Rosenhayn\",\"Paul Scheerbart\",\"Paul Scheerbart\",\"Paul Scheerbart\",\"Paul Scheerbart\",\"Paul Scheerbart\",\"Paul Scheerbart\",\"Paul Schreckenbach\",\"Paul Schreckenbach\",\"Paul Schreckenbach\",\"Paul Schreckenbach\",\"Paul Schreckenbach\",\"Paul Schreckenbach\",\"Paul Schreckenbach\",\"Paul Schreckenbach\",\"Paul Schreckenbach\",\"Peter Rosegger, eigentlich Ro\\u00dfegger\",\"Peter Rosegger, eigentlich Ro\\u00dfegger\",\"Peter Rosegger, eigentlich Ro\\u00dfegger\",\"Peter Rosegger, eigentlich Ro\\u00dfegger\",\"Richard Dehmel\",\"Richard Vo\\u00df\",\"Richard Vo\\u00df\",\"Richard Vo\\u00df\",\"Richard Vo\\u00df\",\"Richard Vo\\u00df\",\"Richard Vo\\u00df\",\"Richard Vo\\u00df\",\"Richard Vo\\u00df\",\"Richard Vo\\u00df\",\"Richard Vo\\u00df\",\"Richard Vo\\u00df\",\"Robert Byr, eigentlich Karl Robert Emanuel von Bayer\",\"Robert Byr, eigentlich Karl Robert Emanuel von Bayer\",\"Robert Eduard Prutz\",\"Robert Fuchs-Liska\",\"Robert Fuchs-Liska\",\"Robert Schweichel\",\"Robert Schweichel\",\"Rudolf Baumbach\",\"Rudolf G. Binding\",\"Rudolf G. Binding\",\"Rudolf Gottschall\",\"Rudolf Gottschall\",\"Rudolf Gottschall\",\"Rudolf Gottschall\",\"Rudolf Hawel\",\"Rudolf Hawel\",\"Rudolf Hawel\",\"Rudolf Lindau\",\"Rudolf Lindau\",\"Rudolf Lindau\",\"Rudolf Lindau\",\"Rudolf Lindau\",\"Rudolf Lindau\",\"Rudolf Lindau\",\"Rudolf Lindau\",\"Rudolf Lindau\",\"Rudolf von Tavel\",\"Rudolf von Tavel\",\"Rudolf von Tavel\",\"Rudolf von Tavel\",\"Rudolf von Tavel\",\"Rudolf von Tavel\",\"Rudolf von Tavel\",\"Rudolf von Tavel\",\"Rudolf von Tavel\",\"Rudolf von Tavel\",\"Rudolf von Tavel\",\"Rudolf von Tavel\",\"Rudolf von Tavel\",\"Rudolph Stratz\",\"Rudolph Stratz\",\"Rudolph Stratz\",\"Rudolph Stratz\",\"Rudolph Stratz\",\"Rudolph Stratz\",\"Rudolph Stratz\",\"Rudolph Stratz\",\"Rudolph Stratz\",\"Rudolph Stratz\",\"Rudolph Stratz\",\"Rudolph Stratz\",\"Rupert Johann Hammerling\",\"Rupert Johann Hammerling\",\"Siegfried August Mahlmann\",\"Siegfried August Mahlmann\",\"Siegfried August Mahlmann\",\"Sir John Retcliffe, eigentlich Hermann Goedsche\",\"Sophie Albrecht\",\"Sophie Mereau\",\"Sophie Mereau\",\"Sophie Mereau\",\"Sophie Tieck\",\"Sophie Tieck\",\"Sophie von La Roche\",\"Sophie von La Roche\",\"Sophie von La Roche\",\"Sophie von La Roche\",\"Sophie von La Roche\",\"Sophie W\\u00f6rish\\u00f6ffer\",\"Sophie W\\u00f6rish\\u00f6ffer\",\"Sophie W\\u00f6rish\\u00f6ffer\",\"Stanis\\u0142aw Przybyszewski\",\"Stanis\\u0142aw Przybyszewski\",\"Stanis\\u0142aw Przybyszewski\",\"Stanis\\u0142aw Przybyszewski\",\"Stanis\\u0142aw Przybyszewski\",\"Stanis\\u0142aw Przybyszewski\",\"Stefan Grossmann\",\"Stefan Grossmann\",\"Stefan Grossmann\",\"Stefan Grossmann\",\"Stefan Grossmann\",\"Theodor D\\u00e4ubler\",\"Theodor D\\u00e4ubler\",\"Theodor Fontane\",\"Theodor Fontane\",\"Theodor Fontane\",\"Theodor Fontane\",\"Theodor Fontane\",\"Theodor Fontane\",\"Theodor Fontane\",\"Theodor Fontane\",\"Theodor Fontane\",\"Theodor Fontane\",\"Theodor Fontane\",\"Theodor Fontane\",\"Theodor Fontane\",\"Theodor Fontane\",\"Theodor Hermann Pantenius\",\"Theodor Hermann Pantenius\",\"Theodor Herzl\",\"Theodor M\\u00fcgge\",\"Theodor M\\u00fcgge\",\"Theodor M\\u00fcgge\",\"Theodor M\\u00fcgge\",\"Theodor M\\u00fcgge\",\"Theodor Mundt\",\"Theodor Mundt\",\"Theodor Storm\",\"Theodor Storm\",\"Theodor Storm\",\"Theodor Storm\",\"Theodor Storm\",\"Theodor Storm\",\"Theodor Storm\",\"Theodor Storm\",\"Theodor Storm\",\"Theodor Storm\",\"Theodor Storm\",\"Theodor Storm\",\"Theodor Storm\",\"Theodor Storm\",\"Theodor Storm\",\"Theodor Storm\",\"Theodor Storm\",\"Theodor Storm\",\"Theodor Storm\",\"Theodor Storm\",\"Theodor Storm\",\"Theodor Storm\",\"Theodor Storm\",\"Theodor Storm\",\"Theodor Storm\",\"Theodor Storm\",\"Theodor Storm\",\"Theodor Storm\",\"Theodor Storm\",\"Theodor Storm\",\"Theodor Storm\",\"Theodor Storm\",\"Theodor Storm\",\"Theodor Storm\",\"Theodor Storm\",\"Theodor Storm\",\"Theodor Storm\",\"Theodor Storm\",\"Theodor Storm\",\"Theodor Storm\",\"Theodor Storm\",\"Theodor Storm\",\"Theodor Storm\",\"Theodor Storm\",\"Therese Winkler\",\"Timm Kr\\u00f6ger\",\"Timm Kr\\u00f6ger\",\"Timm Kr\\u00f6ger\",\"Tony Schumacher\",\"Tony Schumacher\",\"Tony Schumacher\",\"Tony Schumacher\",\"Ulrich Hegner\",\"Ulrich Hegner\",\"Ulrich Hegner\",\"Walter Flex\",\"Walter Flex\",\"Wilhelm Hauff\",\"Wilhelm Hauff\",\"Wilhelm Hauff\",\"Wilhelm Hauff\",\"Wilhelm Hauff\",\"Wilhelm Hauff\",\"Wilhelm Hauff\",\"Wilhelm Hauff\",\"Wilhelm Hauff\",\"Wilhelm Hauff\",\"Wilhelm Hauff\",\"Wilhelm Hauff\",\"Wilhelm Heinrich Riehl\",\"Wilhelm Heinrich Riehl\",\"Wilhelm Heinrich Riehl\",\"Wilhelm Heinrich Riehl\",\"Wilhelm Heinrich Riehl\",\"Wilhelm Heinrich Riehl\",\"Wilhelm Heinrich Riehl\",\"Wilhelm Hertz\",\"Wilhelm Hertz\",\"Wilhelm Hertz\",\"Wilhelm Holzamer\",\"Wilhelm Holzamer\",\"Wilhelm Jensen\",\"Wilhelm Jensen\",\"Wilhelm Jensen\",\"Wilhelm Jensen\",\"Wilhelm Jensen\",\"Wilhelm Meinhold\",\"Wilhelm Meyer-F\\u00f6rster\",\"Wilhelm Meyer-F\\u00f6rster\",\"Wilhelm Poeck\",\"Wilhelm Raabe\",\"Wilhelm Raabe\",\"Wilhelm Raabe\",\"Wilhelm Raabe\",\"Wilhelm Raabe\",\"Wilhelm Raabe\",\"Wilhelm Raabe\",\"Wilhelm Raabe\",\"Wilhelm Raabe\",\"Wilhelm Raabe\",\"Wilhelm Raabe\",\"Wilhelm Raabe\",\"Wilhelm Raabe\",\"Wilhelm Raabe\",\"Wilhelm Raabe\",\"Wilhelm Raabe\",\"Wilhelm Raabe\",\"Wilhelm Raabe\",\"Wilhelm Raabe\",\"Wilhelm Raabe\",\"Wilhelm Raabe\",\"Wilhelm Raabe\",\"Wilhelm Raabe\",\"Wilhelm Raabe\",\"Wilhelm Raabe\",\"Wilhelm Raabe\",\"Wilhelm Raabe\",\"Wilhelm von Polenz\",\"Wilhelm von Polenz\",\"Wilhelm von Polenz\",\"Wilhelm von Polenz\",\"Wilhelm von Polenz\",\"Wilhelm Walloth\",\"Willibald Alexis, eigentlich Georg Wilhelm Heinrich H\\u00e4ring\",\"Willibald Alexis, eigentlich Georg Wilhelm Heinrich H\\u00e4ring\",\"Willibald Alexis, eigentlich Georg Wilhelm Heinrich H\\u00e4ring\",\"Willibald Alexis, eigentlich Georg Wilhelm Heinrich H\\u00e4ring\",\"Willibald Alexis, eigentlich Georg Wilhelm Heinrich H\\u00e4ring\",\"Willibald Alexis, eigentlich Georg Wilhelm Heinrich H\\u00e4ring\",\"Willibald Alexis, eigentlich Georg Wilhelm Heinrich H\\u00e4ring\",\"Willibald Alexis, eigentlich Georg Wilhelm Heinrich H\\u00e4ring\",\"Willibald Alexis, eigentlich Georg Wilhelm Heinrich H\\u00e4ring\",\"Willibald Alexis, eigentlich Georg Wilhelm Heinrich H\\u00e4ring\",\"Wolfgang Kirchbach\"],\"xaxis\":\"x\",\"yaxis\":\"y\",\"type\":\"histogram\"}],                        {\"template\":{\"data\":{\"histogram2dcontour\":[{\"type\":\"histogram2dcontour\",\"colorbar\":{\"outlinewidth\":0,\"ticks\":\"\"},\"colorscale\":[[0.0,\"#0d0887\"],[0.1111111111111111,\"#46039f\"],[0.2222222222222222,\"#7201a8\"],[0.3333333333333333,\"#9c179e\"],[0.4444444444444444,\"#bd3786\"],[0.5555555555555556,\"#d8576b\"],[0.6666666666666666,\"#ed7953\"],[0.7777777777777778,\"#fb9f3a\"],[0.8888888888888888,\"#fdca26\"],[1.0,\"#f0f921\"]]}],\"choropleth\":[{\"type\":\"choropleth\",\"colorbar\":{\"outlinewidth\":0,\"ticks\":\"\"}}],\"histogram2d\":[{\"type\":\"histogram2d\",\"colorbar\":{\"outlinewidth\":0,\"ticks\":\"\"},\"colorscale\":[[0.0,\"#0d0887\"],[0.1111111111111111,\"#46039f\"],[0.2222222222222222,\"#7201a8\"],[0.3333333333333333,\"#9c179e\"],[0.4444444444444444,\"#bd3786\"],[0.5555555555555556,\"#d8576b\"],[0.6666666666666666,\"#ed7953\"],[0.7777777777777778,\"#fb9f3a\"],[0.8888888888888888,\"#fdca26\"],[1.0,\"#f0f921\"]]}],\"heatmap\":[{\"type\":\"heatmap\",\"colorbar\":{\"outlinewidth\":0,\"ticks\":\"\"},\"colorscale\":[[0.0,\"#0d0887\"],[0.1111111111111111,\"#46039f\"],[0.2222222222222222,\"#7201a8\"],[0.3333333333333333,\"#9c179e\"],[0.4444444444444444,\"#bd3786\"],[0.5555555555555556,\"#d8576b\"],[0.6666666666666666,\"#ed7953\"],[0.7777777777777778,\"#fb9f3a\"],[0.8888888888888888,\"#fdca26\"],[1.0,\"#f0f921\"]]}],\"heatmapgl\":[{\"type\":\"heatmapgl\",\"colorbar\":{\"outlinewidth\":0,\"ticks\":\"\"},\"colorscale\":[[0.0,\"#0d0887\"],[0.1111111111111111,\"#46039f\"],[0.2222222222222222,\"#7201a8\"],[0.3333333333333333,\"#9c179e\"],[0.4444444444444444,\"#bd3786\"],[0.5555555555555556,\"#d8576b\"],[0.6666666666666666,\"#ed7953\"],[0.7777777777777778,\"#fb9f3a\"],[0.8888888888888888,\"#fdca26\"],[1.0,\"#f0f921\"]]}],\"contourcarpet\":[{\"type\":\"contourcarpet\",\"colorbar\":{\"outlinewidth\":0,\"ticks\":\"\"}}],\"contour\":[{\"type\":\"contour\",\"colorbar\":{\"outlinewidth\":0,\"ticks\":\"\"},\"colorscale\":[[0.0,\"#0d0887\"],[0.1111111111111111,\"#46039f\"],[0.2222222222222222,\"#7201a8\"],[0.3333333333333333,\"#9c179e\"],[0.4444444444444444,\"#bd3786\"],[0.5555555555555556,\"#d8576b\"],[0.6666666666666666,\"#ed7953\"],[0.7777777777777778,\"#fb9f3a\"],[0.8888888888888888,\"#fdca26\"],[1.0,\"#f0f921\"]]}],\"surface\":[{\"type\":\"surface\",\"colorbar\":{\"outlinewidth\":0,\"ticks\":\"\"},\"colorscale\":[[0.0,\"#0d0887\"],[0.1111111111111111,\"#46039f\"],[0.2222222222222222,\"#7201a8\"],[0.3333333333333333,\"#9c179e\"],[0.4444444444444444,\"#bd3786\"],[0.5555555555555556,\"#d8576b\"],[0.6666666666666666,\"#ed7953\"],[0.7777777777777778,\"#fb9f3a\"],[0.8888888888888888,\"#fdca26\"],[1.0,\"#f0f921\"]]}],\"mesh3d\":[{\"type\":\"mesh3d\",\"colorbar\":{\"outlinewidth\":0,\"ticks\":\"\"}}],\"scatter\":[{\"fillpattern\":{\"fillmode\":\"overlay\",\"size\":10,\"solidity\":0.2},\"type\":\"scatter\"}],\"parcoords\":[{\"type\":\"parcoords\",\"line\":{\"colorbar\":{\"outlinewidth\":0,\"ticks\":\"\"}}}],\"scatterpolargl\":[{\"type\":\"scatterpolargl\",\"marker\":{\"colorbar\":{\"outlinewidth\":0,\"ticks\":\"\"}}}],\"bar\":[{\"error_x\":{\"color\":\"#2a3f5f\"},\"error_y\":{\"color\":\"#2a3f5f\"},\"marker\":{\"line\":{\"color\":\"#E5ECF6\",\"width\":0.5},\"pattern\":{\"fillmode\":\"overlay\",\"size\":10,\"solidity\":0.2}},\"type\":\"bar\"}],\"scattergeo\":[{\"type\":\"scattergeo\",\"marker\":{\"colorbar\":{\"outlinewidth\":0,\"ticks\":\"\"}}}],\"scatterpolar\":[{\"type\":\"scatterpolar\",\"marker\":{\"colorbar\":{\"outlinewidth\":0,\"ticks\":\"\"}}}],\"histogram\":[{\"marker\":{\"pattern\":{\"fillmode\":\"overlay\",\"size\":10,\"solidity\":0.2}},\"type\":\"histogram\"}],\"scattergl\":[{\"type\":\"scattergl\",\"marker\":{\"colorbar\":{\"outlinewidth\":0,\"ticks\":\"\"}}}],\"scatter3d\":[{\"type\":\"scatter3d\",\"line\":{\"colorbar\":{\"outlinewidth\":0,\"ticks\":\"\"}},\"marker\":{\"colorbar\":{\"outlinewidth\":0,\"ticks\":\"\"}}}],\"scattermapbox\":[{\"type\":\"scattermapbox\",\"marker\":{\"colorbar\":{\"outlinewidth\":0,\"ticks\":\"\"}}}],\"scatterternary\":[{\"type\":\"scatterternary\",\"marker\":{\"colorbar\":{\"outlinewidth\":0,\"ticks\":\"\"}}}],\"scattercarpet\":[{\"type\":\"scattercarpet\",\"marker\":{\"colorbar\":{\"outlinewidth\":0,\"ticks\":\"\"}}}],\"carpet\":[{\"aaxis\":{\"endlinecolor\":\"#2a3f5f\",\"gridcolor\":\"white\",\"linecolor\":\"white\",\"minorgridcolor\":\"white\",\"startlinecolor\":\"#2a3f5f\"},\"baxis\":{\"endlinecolor\":\"#2a3f5f\",\"gridcolor\":\"white\",\"linecolor\":\"white\",\"minorgridcolor\":\"white\",\"startlinecolor\":\"#2a3f5f\"},\"type\":\"carpet\"}],\"table\":[{\"cells\":{\"fill\":{\"color\":\"#EBF0F8\"},\"line\":{\"color\":\"white\"}},\"header\":{\"fill\":{\"color\":\"#C8D4E3\"},\"line\":{\"color\":\"white\"}},\"type\":\"table\"}],\"barpolar\":[{\"marker\":{\"line\":{\"color\":\"#E5ECF6\",\"width\":0.5},\"pattern\":{\"fillmode\":\"overlay\",\"size\":10,\"solidity\":0.2}},\"type\":\"barpolar\"}],\"pie\":[{\"automargin\":true,\"type\":\"pie\"}]},\"layout\":{\"autotypenumbers\":\"strict\",\"colorway\":[\"#636efa\",\"#EF553B\",\"#00cc96\",\"#ab63fa\",\"#FFA15A\",\"#19d3f3\",\"#FF6692\",\"#B6E880\",\"#FF97FF\",\"#FECB52\"],\"font\":{\"color\":\"#2a3f5f\"},\"hovermode\":\"closest\",\"hoverlabel\":{\"align\":\"left\"},\"paper_bgcolor\":\"white\",\"plot_bgcolor\":\"#E5ECF6\",\"polar\":{\"bgcolor\":\"#E5ECF6\",\"angularaxis\":{\"gridcolor\":\"white\",\"linecolor\":\"white\",\"ticks\":\"\"},\"radialaxis\":{\"gridcolor\":\"white\",\"linecolor\":\"white\",\"ticks\":\"\"}},\"ternary\":{\"bgcolor\":\"#E5ECF6\",\"aaxis\":{\"gridcolor\":\"white\",\"linecolor\":\"white\",\"ticks\":\"\"},\"baxis\":{\"gridcolor\":\"white\",\"linecolor\":\"white\",\"ticks\":\"\"},\"caxis\":{\"gridcolor\":\"white\",\"linecolor\":\"white\",\"ticks\":\"\"}},\"coloraxis\":{\"colorbar\":{\"outlinewidth\":0,\"ticks\":\"\"}},\"colorscale\":{\"sequential\":[[0.0,\"#0d0887\"],[0.1111111111111111,\"#46039f\"],[0.2222222222222222,\"#7201a8\"],[0.3333333333333333,\"#9c179e\"],[0.4444444444444444,\"#bd3786\"],[0.5555555555555556,\"#d8576b\"],[0.6666666666666666,\"#ed7953\"],[0.7777777777777778,\"#fb9f3a\"],[0.8888888888888888,\"#fdca26\"],[1.0,\"#f0f921\"]],\"sequentialminus\":[[0.0,\"#0d0887\"],[0.1111111111111111,\"#46039f\"],[0.2222222222222222,\"#7201a8\"],[0.3333333333333333,\"#9c179e\"],[0.4444444444444444,\"#bd3786\"],[0.5555555555555556,\"#d8576b\"],[0.6666666666666666,\"#ed7953\"],[0.7777777777777778,\"#fb9f3a\"],[0.8888888888888888,\"#fdca26\"],[1.0,\"#f0f921\"]],\"diverging\":[[0,\"#8e0152\"],[0.1,\"#c51b7d\"],[0.2,\"#de77ae\"],[0.3,\"#f1b6da\"],[0.4,\"#fde0ef\"],[0.5,\"#f7f7f7\"],[0.6,\"#e6f5d0\"],[0.7,\"#b8e186\"],[0.8,\"#7fbc41\"],[0.9,\"#4d9221\"],[1,\"#276419\"]]},\"xaxis\":{\"gridcolor\":\"white\",\"linecolor\":\"white\",\"ticks\":\"\",\"title\":{\"standoff\":15},\"zerolinecolor\":\"white\",\"automargin\":true,\"zerolinewidth\":2},\"yaxis\":{\"gridcolor\":\"white\",\"linecolor\":\"white\",\"ticks\":\"\",\"title\":{\"standoff\":15},\"zerolinecolor\":\"white\",\"automargin\":true,\"zerolinewidth\":2},\"scene\":{\"xaxis\":{\"backgroundcolor\":\"#E5ECF6\",\"gridcolor\":\"white\",\"linecolor\":\"white\",\"showbackground\":true,\"ticks\":\"\",\"zerolinecolor\":\"white\",\"gridwidth\":2},\"yaxis\":{\"backgroundcolor\":\"#E5ECF6\",\"gridcolor\":\"white\",\"linecolor\":\"white\",\"showbackground\":true,\"ticks\":\"\",\"zerolinecolor\":\"white\",\"gridwidth\":2},\"zaxis\":{\"backgroundcolor\":\"#E5ECF6\",\"gridcolor\":\"white\",\"linecolor\":\"white\",\"showbackground\":true,\"ticks\":\"\",\"zerolinecolor\":\"white\",\"gridwidth\":2}},\"shapedefaults\":{\"line\":{\"color\":\"#2a3f5f\"}},\"annotationdefaults\":{\"arrowcolor\":\"#2a3f5f\",\"arrowhead\":0,\"arrowwidth\":1},\"geo\":{\"bgcolor\":\"white\",\"landcolor\":\"#E5ECF6\",\"subunitcolor\":\"white\",\"showland\":true,\"showlakes\":true,\"lakecolor\":\"white\"},\"title\":{\"x\":0.05},\"mapbox\":{\"style\":\"light\"}}},\"xaxis\":{\"anchor\":\"y\",\"domain\":[0.0,1.0],\"title\":{\"text\":\"author\"},\"categoryorder\":\"total descending\"},\"yaxis\":{\"anchor\":\"x\",\"domain\":[0.0,1.0],\"title\":{\"text\":\"count\"}},\"legend\":{\"tracegroupgap\":0},\"margin\":{\"t\":60},\"barmode\":\"relative\",\"height\":600},                        {\"responsive\": true}                    ).then(function(){\n",
       "                            \n",
       "var gd = document.getElementById('5ef98493-0731-411b-b46c-a4199ee74372');\n",
       "var x = new MutationObserver(function (mutations, observer) {{\n",
       "        var display = window.getComputedStyle(gd).display;\n",
       "        if (!display || display === 'none') {{\n",
       "            console.log([gd, 'removed!']);\n",
       "            Plotly.purge(gd);\n",
       "            observer.disconnect();\n",
       "        }}\n",
       "}});\n",
       "\n",
       "// Listen for the removal of the full notebook cells\n",
       "var notebookContainer = gd.closest('#notebook-container');\n",
       "if (notebookContainer) {{\n",
       "    x.observe(notebookContainer, {childList: true});\n",
       "}}\n",
       "\n",
       "// Listen for the clearing of the current output cell\n",
       "var outputEl = gd.closest('.output');\n",
       "if (outputEl) {{\n",
       "    x.observe(outputEl, {childList: true});\n",
       "}}\n",
       "\n",
       "                        })                };                });            </script>        </div>"
      ]
     },
     "metadata": {},
     "output_type": "display_data"
    }
   ],
   "source": [
    "fig = px.histogram(df, x=\"author\")\n",
    "fig.update_xaxes(categoryorder=\"total descending\")\n",
    "fig.update_layout(height=600)\n",
    "fig.show()"
   ]
  },
  {
   "cell_type": "code",
   "execution_count": 13,
   "id": "670deece-4c63-4e52-8a58-415cd95e03df",
   "metadata": {
    "tags": []
   },
   "outputs": [
    {
     "data": {
      "application/vnd.plotly.v1+json": {
       "config": {
        "plotlyServerURL": "https://plot.ly"
       },
       "data": [
        {
         "alignmentgroup": "True",
         "hovertemplate": "count=%{x}<extra></extra>",
         "legendgroup": "",
         "marker": {
          "color": "#636efa"
         },
         "name": "",
         "notched": false,
         "offsetgroup": "",
         "orientation": "h",
         "showlegend": false,
         "type": "box",
         "x": [
          58,
          52,
          51,
          35,
          32,
          32,
          29,
          29,
          26,
          23,
          21,
          21,
          21,
          21,
          17,
          17,
          16,
          15,
          14,
          13,
          13,
          12,
          12,
          12,
          12,
          12,
          12,
          12,
          11,
          11,
          11,
          11,
          11,
          10,
          10,
          10,
          10,
          10,
          10,
          10,
          10,
          10,
          10,
          10,
          9,
          9,
          9,
          9,
          9,
          9,
          9,
          9,
          9,
          8,
          8,
          8,
          8,
          8,
          8,
          8,
          8,
          7,
          7,
          7,
          7,
          7,
          7,
          7,
          7,
          7,
          7,
          7,
          7,
          7,
          7,
          7,
          6,
          6,
          6,
          6,
          6,
          6,
          6,
          6,
          6,
          6,
          6,
          6,
          5,
          5,
          5,
          5,
          5,
          5,
          5,
          5,
          5,
          5,
          5,
          5,
          5,
          5,
          5,
          5,
          5,
          5,
          5,
          5,
          5,
          5,
          5,
          4,
          4,
          4,
          4,
          4,
          4,
          4,
          4,
          4,
          4,
          4,
          4,
          4,
          4,
          4,
          4,
          4,
          4,
          4,
          4,
          4,
          4,
          4,
          4,
          4,
          4,
          4,
          4,
          4,
          4,
          3,
          3,
          3,
          3,
          3,
          3,
          3,
          3,
          3,
          3,
          3,
          3,
          3,
          3,
          3,
          3,
          3,
          3,
          3,
          3,
          3,
          3,
          3,
          3,
          3,
          3,
          3,
          3,
          3,
          3,
          3,
          3,
          3,
          3,
          3,
          3,
          3,
          3,
          3,
          3,
          3,
          3,
          3,
          3,
          3,
          3,
          3,
          3,
          3,
          2,
          2,
          2,
          2,
          2,
          2,
          2,
          2,
          2,
          2,
          2,
          2,
          2,
          2,
          2,
          2,
          2,
          2,
          2,
          2,
          2,
          2,
          2,
          2,
          2,
          2,
          2,
          2,
          2,
          2,
          2,
          2,
          2,
          2,
          2,
          2,
          2,
          2,
          2,
          2,
          2,
          2,
          2,
          2,
          2,
          2,
          2,
          2,
          2,
          2,
          2,
          2,
          2,
          2,
          2,
          2,
          2,
          2,
          2,
          2,
          2,
          2,
          2,
          2,
          2,
          2,
          2,
          2,
          2,
          2,
          2,
          2,
          2,
          1,
          1,
          1,
          1,
          1,
          1,
          1,
          1,
          1,
          1,
          1,
          1,
          1,
          1,
          1,
          1,
          1,
          1,
          1,
          1,
          1,
          1,
          1,
          1,
          1,
          1,
          1,
          1,
          1,
          1,
          1,
          1,
          1,
          1,
          1,
          1,
          1,
          1,
          1,
          1,
          1,
          1,
          1,
          1,
          1,
          1,
          1,
          1,
          1,
          1,
          1,
          1,
          1,
          1,
          1,
          1,
          1,
          1,
          1,
          1,
          1,
          1,
          1,
          1,
          1,
          1,
          1,
          1,
          1,
          1,
          1,
          1,
          1,
          1,
          1,
          1,
          1,
          1,
          1,
          1,
          1,
          1,
          1,
          1,
          1,
          1,
          1,
          1,
          1,
          1,
          1,
          1,
          1,
          1,
          1,
          1,
          1,
          1,
          1,
          1,
          1,
          1,
          1,
          1,
          1,
          1,
          1,
          1,
          1
         ],
         "x0": " ",
         "xaxis": "x",
         "y0": " ",
         "yaxis": "y"
        }
       ],
       "layout": {
        "autosize": true,
        "boxmode": "group",
        "legend": {
         "tracegroupgap": 0
        },
        "margin": {
         "t": 60
        },
        "template": {
         "data": {
          "bar": [
           {
            "error_x": {
             "color": "#2a3f5f"
            },
            "error_y": {
             "color": "#2a3f5f"
            },
            "marker": {
             "line": {
              "color": "#E5ECF6",
              "width": 0.5
             },
             "pattern": {
              "fillmode": "overlay",
              "size": 10,
              "solidity": 0.2
             }
            },
            "type": "bar"
           }
          ],
          "barpolar": [
           {
            "marker": {
             "line": {
              "color": "#E5ECF6",
              "width": 0.5
             },
             "pattern": {
              "fillmode": "overlay",
              "size": 10,
              "solidity": 0.2
             }
            },
            "type": "barpolar"
           }
          ],
          "carpet": [
           {
            "aaxis": {
             "endlinecolor": "#2a3f5f",
             "gridcolor": "white",
             "linecolor": "white",
             "minorgridcolor": "white",
             "startlinecolor": "#2a3f5f"
            },
            "baxis": {
             "endlinecolor": "#2a3f5f",
             "gridcolor": "white",
             "linecolor": "white",
             "minorgridcolor": "white",
             "startlinecolor": "#2a3f5f"
            },
            "type": "carpet"
           }
          ],
          "choropleth": [
           {
            "colorbar": {
             "outlinewidth": 0,
             "ticks": ""
            },
            "type": "choropleth"
           }
          ],
          "contour": [
           {
            "colorbar": {
             "outlinewidth": 0,
             "ticks": ""
            },
            "colorscale": [
             [
              0,
              "#0d0887"
             ],
             [
              0.1111111111111111,
              "#46039f"
             ],
             [
              0.2222222222222222,
              "#7201a8"
             ],
             [
              0.3333333333333333,
              "#9c179e"
             ],
             [
              0.4444444444444444,
              "#bd3786"
             ],
             [
              0.5555555555555556,
              "#d8576b"
             ],
             [
              0.6666666666666666,
              "#ed7953"
             ],
             [
              0.7777777777777778,
              "#fb9f3a"
             ],
             [
              0.8888888888888888,
              "#fdca26"
             ],
             [
              1,
              "#f0f921"
             ]
            ],
            "type": "contour"
           }
          ],
          "contourcarpet": [
           {
            "colorbar": {
             "outlinewidth": 0,
             "ticks": ""
            },
            "type": "contourcarpet"
           }
          ],
          "heatmap": [
           {
            "colorbar": {
             "outlinewidth": 0,
             "ticks": ""
            },
            "colorscale": [
             [
              0,
              "#0d0887"
             ],
             [
              0.1111111111111111,
              "#46039f"
             ],
             [
              0.2222222222222222,
              "#7201a8"
             ],
             [
              0.3333333333333333,
              "#9c179e"
             ],
             [
              0.4444444444444444,
              "#bd3786"
             ],
             [
              0.5555555555555556,
              "#d8576b"
             ],
             [
              0.6666666666666666,
              "#ed7953"
             ],
             [
              0.7777777777777778,
              "#fb9f3a"
             ],
             [
              0.8888888888888888,
              "#fdca26"
             ],
             [
              1,
              "#f0f921"
             ]
            ],
            "type": "heatmap"
           }
          ],
          "heatmapgl": [
           {
            "colorbar": {
             "outlinewidth": 0,
             "ticks": ""
            },
            "colorscale": [
             [
              0,
              "#0d0887"
             ],
             [
              0.1111111111111111,
              "#46039f"
             ],
             [
              0.2222222222222222,
              "#7201a8"
             ],
             [
              0.3333333333333333,
              "#9c179e"
             ],
             [
              0.4444444444444444,
              "#bd3786"
             ],
             [
              0.5555555555555556,
              "#d8576b"
             ],
             [
              0.6666666666666666,
              "#ed7953"
             ],
             [
              0.7777777777777778,
              "#fb9f3a"
             ],
             [
              0.8888888888888888,
              "#fdca26"
             ],
             [
              1,
              "#f0f921"
             ]
            ],
            "type": "heatmapgl"
           }
          ],
          "histogram": [
           {
            "marker": {
             "pattern": {
              "fillmode": "overlay",
              "size": 10,
              "solidity": 0.2
             }
            },
            "type": "histogram"
           }
          ],
          "histogram2d": [
           {
            "colorbar": {
             "outlinewidth": 0,
             "ticks": ""
            },
            "colorscale": [
             [
              0,
              "#0d0887"
             ],
             [
              0.1111111111111111,
              "#46039f"
             ],
             [
              0.2222222222222222,
              "#7201a8"
             ],
             [
              0.3333333333333333,
              "#9c179e"
             ],
             [
              0.4444444444444444,
              "#bd3786"
             ],
             [
              0.5555555555555556,
              "#d8576b"
             ],
             [
              0.6666666666666666,
              "#ed7953"
             ],
             [
              0.7777777777777778,
              "#fb9f3a"
             ],
             [
              0.8888888888888888,
              "#fdca26"
             ],
             [
              1,
              "#f0f921"
             ]
            ],
            "type": "histogram2d"
           }
          ],
          "histogram2dcontour": [
           {
            "colorbar": {
             "outlinewidth": 0,
             "ticks": ""
            },
            "colorscale": [
             [
              0,
              "#0d0887"
             ],
             [
              0.1111111111111111,
              "#46039f"
             ],
             [
              0.2222222222222222,
              "#7201a8"
             ],
             [
              0.3333333333333333,
              "#9c179e"
             ],
             [
              0.4444444444444444,
              "#bd3786"
             ],
             [
              0.5555555555555556,
              "#d8576b"
             ],
             [
              0.6666666666666666,
              "#ed7953"
             ],
             [
              0.7777777777777778,
              "#fb9f3a"
             ],
             [
              0.8888888888888888,
              "#fdca26"
             ],
             [
              1,
              "#f0f921"
             ]
            ],
            "type": "histogram2dcontour"
           }
          ],
          "mesh3d": [
           {
            "colorbar": {
             "outlinewidth": 0,
             "ticks": ""
            },
            "type": "mesh3d"
           }
          ],
          "parcoords": [
           {
            "line": {
             "colorbar": {
              "outlinewidth": 0,
              "ticks": ""
             }
            },
            "type": "parcoords"
           }
          ],
          "pie": [
           {
            "automargin": true,
            "type": "pie"
           }
          ],
          "scatter": [
           {
            "fillpattern": {
             "fillmode": "overlay",
             "size": 10,
             "solidity": 0.2
            },
            "type": "scatter"
           }
          ],
          "scatter3d": [
           {
            "line": {
             "colorbar": {
              "outlinewidth": 0,
              "ticks": ""
             }
            },
            "marker": {
             "colorbar": {
              "outlinewidth": 0,
              "ticks": ""
             }
            },
            "type": "scatter3d"
           }
          ],
          "scattercarpet": [
           {
            "marker": {
             "colorbar": {
              "outlinewidth": 0,
              "ticks": ""
             }
            },
            "type": "scattercarpet"
           }
          ],
          "scattergeo": [
           {
            "marker": {
             "colorbar": {
              "outlinewidth": 0,
              "ticks": ""
             }
            },
            "type": "scattergeo"
           }
          ],
          "scattergl": [
           {
            "marker": {
             "colorbar": {
              "outlinewidth": 0,
              "ticks": ""
             }
            },
            "type": "scattergl"
           }
          ],
          "scattermapbox": [
           {
            "marker": {
             "colorbar": {
              "outlinewidth": 0,
              "ticks": ""
             }
            },
            "type": "scattermapbox"
           }
          ],
          "scatterpolar": [
           {
            "marker": {
             "colorbar": {
              "outlinewidth": 0,
              "ticks": ""
             }
            },
            "type": "scatterpolar"
           }
          ],
          "scatterpolargl": [
           {
            "marker": {
             "colorbar": {
              "outlinewidth": 0,
              "ticks": ""
             }
            },
            "type": "scatterpolargl"
           }
          ],
          "scatterternary": [
           {
            "marker": {
             "colorbar": {
              "outlinewidth": 0,
              "ticks": ""
             }
            },
            "type": "scatterternary"
           }
          ],
          "surface": [
           {
            "colorbar": {
             "outlinewidth": 0,
             "ticks": ""
            },
            "colorscale": [
             [
              0,
              "#0d0887"
             ],
             [
              0.1111111111111111,
              "#46039f"
             ],
             [
              0.2222222222222222,
              "#7201a8"
             ],
             [
              0.3333333333333333,
              "#9c179e"
             ],
             [
              0.4444444444444444,
              "#bd3786"
             ],
             [
              0.5555555555555556,
              "#d8576b"
             ],
             [
              0.6666666666666666,
              "#ed7953"
             ],
             [
              0.7777777777777778,
              "#fb9f3a"
             ],
             [
              0.8888888888888888,
              "#fdca26"
             ],
             [
              1,
              "#f0f921"
             ]
            ],
            "type": "surface"
           }
          ],
          "table": [
           {
            "cells": {
             "fill": {
              "color": "#EBF0F8"
             },
             "line": {
              "color": "white"
             }
            },
            "header": {
             "fill": {
              "color": "#C8D4E3"
             },
             "line": {
              "color": "white"
             }
            },
            "type": "table"
           }
          ]
         },
         "layout": {
          "annotationdefaults": {
           "arrowcolor": "#2a3f5f",
           "arrowhead": 0,
           "arrowwidth": 1
          },
          "autotypenumbers": "strict",
          "coloraxis": {
           "colorbar": {
            "outlinewidth": 0,
            "ticks": ""
           }
          },
          "colorscale": {
           "diverging": [
            [
             0,
             "#8e0152"
            ],
            [
             0.1,
             "#c51b7d"
            ],
            [
             0.2,
             "#de77ae"
            ],
            [
             0.3,
             "#f1b6da"
            ],
            [
             0.4,
             "#fde0ef"
            ],
            [
             0.5,
             "#f7f7f7"
            ],
            [
             0.6,
             "#e6f5d0"
            ],
            [
             0.7,
             "#b8e186"
            ],
            [
             0.8,
             "#7fbc41"
            ],
            [
             0.9,
             "#4d9221"
            ],
            [
             1,
             "#276419"
            ]
           ],
           "sequential": [
            [
             0,
             "#0d0887"
            ],
            [
             0.1111111111111111,
             "#46039f"
            ],
            [
             0.2222222222222222,
             "#7201a8"
            ],
            [
             0.3333333333333333,
             "#9c179e"
            ],
            [
             0.4444444444444444,
             "#bd3786"
            ],
            [
             0.5555555555555556,
             "#d8576b"
            ],
            [
             0.6666666666666666,
             "#ed7953"
            ],
            [
             0.7777777777777778,
             "#fb9f3a"
            ],
            [
             0.8888888888888888,
             "#fdca26"
            ],
            [
             1,
             "#f0f921"
            ]
           ],
           "sequentialminus": [
            [
             0,
             "#0d0887"
            ],
            [
             0.1111111111111111,
             "#46039f"
            ],
            [
             0.2222222222222222,
             "#7201a8"
            ],
            [
             0.3333333333333333,
             "#9c179e"
            ],
            [
             0.4444444444444444,
             "#bd3786"
            ],
            [
             0.5555555555555556,
             "#d8576b"
            ],
            [
             0.6666666666666666,
             "#ed7953"
            ],
            [
             0.7777777777777778,
             "#fb9f3a"
            ],
            [
             0.8888888888888888,
             "#fdca26"
            ],
            [
             1,
             "#f0f921"
            ]
           ]
          },
          "colorway": [
           "#636efa",
           "#EF553B",
           "#00cc96",
           "#ab63fa",
           "#FFA15A",
           "#19d3f3",
           "#FF6692",
           "#B6E880",
           "#FF97FF",
           "#FECB52"
          ],
          "font": {
           "color": "#2a3f5f"
          },
          "geo": {
           "bgcolor": "white",
           "lakecolor": "white",
           "landcolor": "#E5ECF6",
           "showlakes": true,
           "showland": true,
           "subunitcolor": "white"
          },
          "hoverlabel": {
           "align": "left"
          },
          "hovermode": "closest",
          "mapbox": {
           "style": "light"
          },
          "paper_bgcolor": "white",
          "plot_bgcolor": "#E5ECF6",
          "polar": {
           "angularaxis": {
            "gridcolor": "white",
            "linecolor": "white",
            "ticks": ""
           },
           "bgcolor": "#E5ECF6",
           "radialaxis": {
            "gridcolor": "white",
            "linecolor": "white",
            "ticks": ""
           }
          },
          "scene": {
           "xaxis": {
            "backgroundcolor": "#E5ECF6",
            "gridcolor": "white",
            "gridwidth": 2,
            "linecolor": "white",
            "showbackground": true,
            "ticks": "",
            "zerolinecolor": "white"
           },
           "yaxis": {
            "backgroundcolor": "#E5ECF6",
            "gridcolor": "white",
            "gridwidth": 2,
            "linecolor": "white",
            "showbackground": true,
            "ticks": "",
            "zerolinecolor": "white"
           },
           "zaxis": {
            "backgroundcolor": "#E5ECF6",
            "gridcolor": "white",
            "gridwidth": 2,
            "linecolor": "white",
            "showbackground": true,
            "ticks": "",
            "zerolinecolor": "white"
           }
          },
          "shapedefaults": {
           "line": {
            "color": "#2a3f5f"
           }
          },
          "ternary": {
           "aaxis": {
            "gridcolor": "white",
            "linecolor": "white",
            "ticks": ""
           },
           "baxis": {
            "gridcolor": "white",
            "linecolor": "white",
            "ticks": ""
           },
           "bgcolor": "#E5ECF6",
           "caxis": {
            "gridcolor": "white",
            "linecolor": "white",
            "ticks": ""
           }
          },
          "title": {
           "x": 0.05
          },
          "xaxis": {
           "automargin": true,
           "gridcolor": "white",
           "linecolor": "white",
           "ticks": "",
           "title": {
            "standoff": 15
           },
           "zerolinecolor": "white",
           "zerolinewidth": 2
          },
          "yaxis": {
           "automargin": true,
           "gridcolor": "white",
           "linecolor": "white",
           "ticks": "",
           "title": {
            "standoff": 15
           },
           "zerolinecolor": "white",
           "zerolinewidth": 2
          }
         }
        },
        "xaxis": {
         "anchor": "y",
         "autorange": true,
         "domain": [
          0,
          1
         ],
         "range": [
          -2.1666666666666665,
          61.166666666666664
         ],
         "title": {
          "text": "count"
         },
         "type": "linear"
        },
        "yaxis": {
         "anchor": "x",
         "autorange": true,
         "domain": [
          0,
          1
         ],
         "range": [
          -0.5,
          0.5
         ],
         "type": "category"
        }
       }
      },
      "image/png": "[encoded data removed]",
      "text/html": [
       "<div>                            <div id=\"950777b7-dd4f-45d0-bb1a-e8025c5555ea\" class=\"plotly-graph-div\" style=\"height:525px; width:100%;\"></div>            <script type=\"text/javascript\">                require([\"plotly\"], function(Plotly) {                    window.PLOTLYENV=window.PLOTLYENV || {};                                    if (document.getElementById(\"950777b7-dd4f-45d0-bb1a-e8025c5555ea\")) {                    Plotly.newPlot(                        \"950777b7-dd4f-45d0-bb1a-e8025c5555ea\",                        [{\"alignmentgroup\":\"True\",\"hovertemplate\":\"count=%{x}\\u003cextra\\u003e\\u003c\\u002fextra\\u003e\",\"legendgroup\":\"\",\"marker\":{\"color\":\"#636efa\"},\"name\":\"\",\"notched\":false,\"offsetgroup\":\"\",\"orientation\":\"h\",\"showlegend\":false,\"x\":[58,52,51,35,32,32,29,29,26,23,21,21,21,21,17,17,16,15,14,13,13,12,12,12,12,12,12,12,11,11,11,11,11,10,10,10,10,10,10,10,10,10,10,10,9,9,9,9,9,9,9,9,9,8,8,8,8,8,8,8,8,7,7,7,7,7,7,7,7,7,7,7,7,7,7,7,6,6,6,6,6,6,6,6,6,6,6,6,5,5,5,5,5,5,5,5,5,5,5,5,5,5,5,5,5,5,5,5,5,5,5,4,4,4,4,4,4,4,4,4,4,4,4,4,4,4,4,4,4,4,4,4,4,4,4,4,4,4,4,4,4,3,3,3,3,3,3,3,3,3,3,3,3,3,3,3,3,3,3,3,3,3,3,3,3,3,3,3,3,3,3,3,3,3,3,3,3,3,3,3,3,3,3,3,3,3,3,3,3,3,2,2,2,2,2,2,2,2,2,2,2,2,2,2,2,2,2,2,2,2,2,2,2,2,2,2,2,2,2,2,2,2,2,2,2,2,2,2,2,2,2,2,2,2,2,2,2,2,2,2,2,2,2,2,2,2,2,2,2,2,2,2,2,2,2,2,2,2,2,2,2,2,2,1,1,1,1,1,1,1,1,1,1,1,1,1,1,1,1,1,1,1,1,1,1,1,1,1,1,1,1,1,1,1,1,1,1,1,1,1,1,1,1,1,1,1,1,1,1,1,1,1,1,1,1,1,1,1,1,1,1,1,1,1,1,1,1,1,1,1,1,1,1,1,1,1,1,1,1,1,1,1,1,1,1,1,1,1,1,1,1,1,1,1,1,1,1,1,1,1,1,1,1,1,1,1,1,1,1,1,1,1],\"x0\":\" \",\"xaxis\":\"x\",\"y0\":\" \",\"yaxis\":\"y\",\"type\":\"box\"}],                        {\"template\":{\"data\":{\"histogram2dcontour\":[{\"type\":\"histogram2dcontour\",\"colorbar\":{\"outlinewidth\":0,\"ticks\":\"\"},\"colorscale\":[[0.0,\"#0d0887\"],[0.1111111111111111,\"#46039f\"],[0.2222222222222222,\"#7201a8\"],[0.3333333333333333,\"#9c179e\"],[0.4444444444444444,\"#bd3786\"],[0.5555555555555556,\"#d8576b\"],[0.6666666666666666,\"#ed7953\"],[0.7777777777777778,\"#fb9f3a\"],[0.8888888888888888,\"#fdca26\"],[1.0,\"#f0f921\"]]}],\"choropleth\":[{\"type\":\"choropleth\",\"colorbar\":{\"outlinewidth\":0,\"ticks\":\"\"}}],\"histogram2d\":[{\"type\":\"histogram2d\",\"colorbar\":{\"outlinewidth\":0,\"ticks\":\"\"},\"colorscale\":[[0.0,\"#0d0887\"],[0.1111111111111111,\"#46039f\"],[0.2222222222222222,\"#7201a8\"],[0.3333333333333333,\"#9c179e\"],[0.4444444444444444,\"#bd3786\"],[0.5555555555555556,\"#d8576b\"],[0.6666666666666666,\"#ed7953\"],[0.7777777777777778,\"#fb9f3a\"],[0.8888888888888888,\"#fdca26\"],[1.0,\"#f0f921\"]]}],\"heatmap\":[{\"type\":\"heatmap\",\"colorbar\":{\"outlinewidth\":0,\"ticks\":\"\"},\"colorscale\":[[0.0,\"#0d0887\"],[0.1111111111111111,\"#46039f\"],[0.2222222222222222,\"#7201a8\"],[0.3333333333333333,\"#9c179e\"],[0.4444444444444444,\"#bd3786\"],[0.5555555555555556,\"#d8576b\"],[0.6666666666666666,\"#ed7953\"],[0.7777777777777778,\"#fb9f3a\"],[0.8888888888888888,\"#fdca26\"],[1.0,\"#f0f921\"]]}],\"heatmapgl\":[{\"type\":\"heatmapgl\",\"colorbar\":{\"outlinewidth\":0,\"ticks\":\"\"},\"colorscale\":[[0.0,\"#0d0887\"],[0.1111111111111111,\"#46039f\"],[0.2222222222222222,\"#7201a8\"],[0.3333333333333333,\"#9c179e\"],[0.4444444444444444,\"#bd3786\"],[0.5555555555555556,\"#d8576b\"],[0.6666666666666666,\"#ed7953\"],[0.7777777777777778,\"#fb9f3a\"],[0.8888888888888888,\"#fdca26\"],[1.0,\"#f0f921\"]]}],\"contourcarpet\":[{\"type\":\"contourcarpet\",\"colorbar\":{\"outlinewidth\":0,\"ticks\":\"\"}}],\"contour\":[{\"type\":\"contour\",\"colorbar\":{\"outlinewidth\":0,\"ticks\":\"\"},\"colorscale\":[[0.0,\"#0d0887\"],[0.1111111111111111,\"#46039f\"],[0.2222222222222222,\"#7201a8\"],[0.3333333333333333,\"#9c179e\"],[0.4444444444444444,\"#bd3786\"],[0.5555555555555556,\"#d8576b\"],[0.6666666666666666,\"#ed7953\"],[0.7777777777777778,\"#fb9f3a\"],[0.8888888888888888,\"#fdca26\"],[1.0,\"#f0f921\"]]}],\"surface\":[{\"type\":\"surface\",\"colorbar\":{\"outlinewidth\":0,\"ticks\":\"\"},\"colorscale\":[[0.0,\"#0d0887\"],[0.1111111111111111,\"#46039f\"],[0.2222222222222222,\"#7201a8\"],[0.3333333333333333,\"#9c179e\"],[0.4444444444444444,\"#bd3786\"],[0.5555555555555556,\"#d8576b\"],[0.6666666666666666,\"#ed7953\"],[0.7777777777777778,\"#fb9f3a\"],[0.8888888888888888,\"#fdca26\"],[1.0,\"#f0f921\"]]}],\"mesh3d\":[{\"type\":\"mesh3d\",\"colorbar\":{\"outlinewidth\":0,\"ticks\":\"\"}}],\"scatter\":[{\"fillpattern\":{\"fillmode\":\"overlay\",\"size\":10,\"solidity\":0.2},\"type\":\"scatter\"}],\"parcoords\":[{\"type\":\"parcoords\",\"line\":{\"colorbar\":{\"outlinewidth\":0,\"ticks\":\"\"}}}],\"scatterpolargl\":[{\"type\":\"scatterpolargl\",\"marker\":{\"colorbar\":{\"outlinewidth\":0,\"ticks\":\"\"}}}],\"bar\":[{\"error_x\":{\"color\":\"#2a3f5f\"},\"error_y\":{\"color\":\"#2a3f5f\"},\"marker\":{\"line\":{\"color\":\"#E5ECF6\",\"width\":0.5},\"pattern\":{\"fillmode\":\"overlay\",\"size\":10,\"solidity\":0.2}},\"type\":\"bar\"}],\"scattergeo\":[{\"type\":\"scattergeo\",\"marker\":{\"colorbar\":{\"outlinewidth\":0,\"ticks\":\"\"}}}],\"scatterpolar\":[{\"type\":\"scatterpolar\",\"marker\":{\"colorbar\":{\"outlinewidth\":0,\"ticks\":\"\"}}}],\"histogram\":[{\"marker\":{\"pattern\":{\"fillmode\":\"overlay\",\"size\":10,\"solidity\":0.2}},\"type\":\"histogram\"}],\"scattergl\":[{\"type\":\"scattergl\",\"marker\":{\"colorbar\":{\"outlinewidth\":0,\"ticks\":\"\"}}}],\"scatter3d\":[{\"type\":\"scatter3d\",\"line\":{\"colorbar\":{\"outlinewidth\":0,\"ticks\":\"\"}},\"marker\":{\"colorbar\":{\"outlinewidth\":0,\"ticks\":\"\"}}}],\"scattermapbox\":[{\"type\":\"scattermapbox\",\"marker\":{\"colorbar\":{\"outlinewidth\":0,\"ticks\":\"\"}}}],\"scatterternary\":[{\"type\":\"scatterternary\",\"marker\":{\"colorbar\":{\"outlinewidth\":0,\"ticks\":\"\"}}}],\"scattercarpet\":[{\"type\":\"scattercarpet\",\"marker\":{\"colorbar\":{\"outlinewidth\":0,\"ticks\":\"\"}}}],\"carpet\":[{\"aaxis\":{\"endlinecolor\":\"#2a3f5f\",\"gridcolor\":\"white\",\"linecolor\":\"white\",\"minorgridcolor\":\"white\",\"startlinecolor\":\"#2a3f5f\"},\"baxis\":{\"endlinecolor\":\"#2a3f5f\",\"gridcolor\":\"white\",\"linecolor\":\"white\",\"minorgridcolor\":\"white\",\"startlinecolor\":\"#2a3f5f\"},\"type\":\"carpet\"}],\"table\":[{\"cells\":{\"fill\":{\"color\":\"#EBF0F8\"},\"line\":{\"color\":\"white\"}},\"header\":{\"fill\":{\"color\":\"#C8D4E3\"},\"line\":{\"color\":\"white\"}},\"type\":\"table\"}],\"barpolar\":[{\"marker\":{\"line\":{\"color\":\"#E5ECF6\",\"width\":0.5},\"pattern\":{\"fillmode\":\"overlay\",\"size\":10,\"solidity\":0.2}},\"type\":\"barpolar\"}],\"pie\":[{\"automargin\":true,\"type\":\"pie\"}]},\"layout\":{\"autotypenumbers\":\"strict\",\"colorway\":[\"#636efa\",\"#EF553B\",\"#00cc96\",\"#ab63fa\",\"#FFA15A\",\"#19d3f3\",\"#FF6692\",\"#B6E880\",\"#FF97FF\",\"#FECB52\"],\"font\":{\"color\":\"#2a3f5f\"},\"hovermode\":\"closest\",\"hoverlabel\":{\"align\":\"left\"},\"paper_bgcolor\":\"white\",\"plot_bgcolor\":\"#E5ECF6\",\"polar\":{\"bgcolor\":\"#E5ECF6\",\"angularaxis\":{\"gridcolor\":\"white\",\"linecolor\":\"white\",\"ticks\":\"\"},\"radialaxis\":{\"gridcolor\":\"white\",\"linecolor\":\"white\",\"ticks\":\"\"}},\"ternary\":{\"bgcolor\":\"#E5ECF6\",\"aaxis\":{\"gridcolor\":\"white\",\"linecolor\":\"white\",\"ticks\":\"\"},\"baxis\":{\"gridcolor\":\"white\",\"linecolor\":\"white\",\"ticks\":\"\"},\"caxis\":{\"gridcolor\":\"white\",\"linecolor\":\"white\",\"ticks\":\"\"}},\"coloraxis\":{\"colorbar\":{\"outlinewidth\":0,\"ticks\":\"\"}},\"colorscale\":{\"sequential\":[[0.0,\"#0d0887\"],[0.1111111111111111,\"#46039f\"],[0.2222222222222222,\"#7201a8\"],[0.3333333333333333,\"#9c179e\"],[0.4444444444444444,\"#bd3786\"],[0.5555555555555556,\"#d8576b\"],[0.6666666666666666,\"#ed7953\"],[0.7777777777777778,\"#fb9f3a\"],[0.8888888888888888,\"#fdca26\"],[1.0,\"#f0f921\"]],\"sequentialminus\":[[0.0,\"#0d0887\"],[0.1111111111111111,\"#46039f\"],[0.2222222222222222,\"#7201a8\"],[0.3333333333333333,\"#9c179e\"],[0.4444444444444444,\"#bd3786\"],[0.5555555555555556,\"#d8576b\"],[0.6666666666666666,\"#ed7953\"],[0.7777777777777778,\"#fb9f3a\"],[0.8888888888888888,\"#fdca26\"],[1.0,\"#f0f921\"]],\"diverging\":[[0,\"#8e0152\"],[0.1,\"#c51b7d\"],[0.2,\"#de77ae\"],[0.3,\"#f1b6da\"],[0.4,\"#fde0ef\"],[0.5,\"#f7f7f7\"],[0.6,\"#e6f5d0\"],[0.7,\"#b8e186\"],[0.8,\"#7fbc41\"],[0.9,\"#4d9221\"],[1,\"#276419\"]]},\"xaxis\":{\"gridcolor\":\"white\",\"linecolor\":\"white\",\"ticks\":\"\",\"title\":{\"standoff\":15},\"zerolinecolor\":\"white\",\"automargin\":true,\"zerolinewidth\":2},\"yaxis\":{\"gridcolor\":\"white\",\"linecolor\":\"white\",\"ticks\":\"\",\"title\":{\"standoff\":15},\"zerolinecolor\":\"white\",\"automargin\":true,\"zerolinewidth\":2},\"scene\":{\"xaxis\":{\"backgroundcolor\":\"#E5ECF6\",\"gridcolor\":\"white\",\"linecolor\":\"white\",\"showbackground\":true,\"ticks\":\"\",\"zerolinecolor\":\"white\",\"gridwidth\":2},\"yaxis\":{\"backgroundcolor\":\"#E5ECF6\",\"gridcolor\":\"white\",\"linecolor\":\"white\",\"showbackground\":true,\"ticks\":\"\",\"zerolinecolor\":\"white\",\"gridwidth\":2},\"zaxis\":{\"backgroundcolor\":\"#E5ECF6\",\"gridcolor\":\"white\",\"linecolor\":\"white\",\"showbackground\":true,\"ticks\":\"\",\"zerolinecolor\":\"white\",\"gridwidth\":2}},\"shapedefaults\":{\"line\":{\"color\":\"#2a3f5f\"}},\"annotationdefaults\":{\"arrowcolor\":\"#2a3f5f\",\"arrowhead\":0,\"arrowwidth\":1},\"geo\":{\"bgcolor\":\"white\",\"landcolor\":\"#E5ECF6\",\"subunitcolor\":\"white\",\"showland\":true,\"showlakes\":true,\"lakecolor\":\"white\"},\"title\":{\"x\":0.05},\"mapbox\":{\"style\":\"light\"}}},\"xaxis\":{\"anchor\":\"y\",\"domain\":[0.0,1.0],\"title\":{\"text\":\"count\"}},\"yaxis\":{\"anchor\":\"x\",\"domain\":[0.0,1.0]},\"legend\":{\"tracegroupgap\":0},\"margin\":{\"t\":60},\"boxmode\":\"group\"},                        {\"responsive\": true}                    ).then(function(){\n",
       "                            \n",
       "var gd = document.getElementById('950777b7-dd4f-45d0-bb1a-e8025c5555ea');\n",
       "var x = new MutationObserver(function (mutations, observer) {{\n",
       "        var display = window.getComputedStyle(gd).display;\n",
       "        if (!display || display === 'none') {{\n",
       "            console.log([gd, 'removed!']);\n",
       "            Plotly.purge(gd);\n",
       "            observer.disconnect();\n",
       "        }}\n",
       "}});\n",
       "\n",
       "// Listen for the removal of the full notebook cells\n",
       "var notebookContainer = gd.closest('#notebook-container');\n",
       "if (notebookContainer) {{\n",
       "    x.observe(notebookContainer, {childList: true});\n",
       "}}\n",
       "\n",
       "// Listen for the clearing of the current output cell\n",
       "var outputEl = gd.closest('.output');\n",
       "if (outputEl) {{\n",
       "    x.observe(outputEl, {childList: true});\n",
       "}}\n",
       "\n",
       "                        })                };                });            </script>        </div>"
      ]
     },
     "metadata": {},
     "output_type": "display_data"
    }
   ],
   "source": [
    "px.box(df[\"author\"].value_counts(), x=\"count\")"
   ]
  },
  {
   "cell_type": "code",
   "execution_count": 14,
   "id": "8c384607-3feb-4cbc-b979-3ee2f181a777",
   "metadata": {
    "tags": []
   },
   "outputs": [],
   "source": [
    "text_lengths = []\n",
    "\n",
    "for text in list(df[\"filename\"]):\n",
    "    with open(\"src/corpus/\" + text, \"r\", encoding=\"utf8\") as f:\n",
    "        text_lengths.append(len(f.read().split()))"
   ]
  },
  {
   "cell_type": "code",
   "execution_count": 22,
   "id": "26b99d15-2ea7-4fcd-b5f3-0376b4e0a170",
   "metadata": {
    "tags": []
   },
   "outputs": [],
   "source": [
    "df[\"token count\"]=text_lengths"
   ]
  },
  {
   "cell_type": "code",
   "execution_count": 27,
   "id": "fa559122-d2de-4d94-8072-0bcae5522449",
   "metadata": {
    "tags": []
   },
   "outputs": [
    {
     "data": {
      "application/vnd.plotly.v1+json": {
       "config": {
        "plotlyServerURL": "https://plot.ly"
       },
       "data": [
        {
         "alignmentgroup": "True",
         "customdata": [
          [
           "Geschichte des Agathon",
           "Christoph Martin Wieland"
          ],
          [
           "Geschichte des Agathon",
           "Christoph Martin Wieland"
          ],
          [
           "Geschichte des Fräuleins von Sternheim",
           "Christoph Martin Wieland"
          ],
          [
           "Geschichte des Fräuleins von Sternheim",
           "Christoph Martin Wieland"
          ],
          [
           "Geschichte des Fräuleins von Sternheim",
           "Sophie von La Roche"
          ],
          [
           "Geschichte des Fräuleins von Sternheim",
           "Sophie von La Roche"
          ],
          [
           "Das Leben und die Meinungen des Herrn Magister Sebaldus Nothanker",
           "Friedrich Nicolai"
          ],
          [
           "Die Leiden des jungen Werthers",
           "Johann Wolfgang von Goethe"
          ],
          [
           "Die Leiden des jungen Werthers",
           "Johann Wolfgang von Goethe"
          ],
          [
           "Das Leben und die Meinungen des Herrn Magister Sebaldus Nothanker",
           "Friedrich Nicolai"
          ],
          [
           "Das Leben und die Meinungen des Herrn Magister Sebaldus Nothanker",
           "Friedrich Nicolai"
          ],
          [
           "Siegwart",
           "Johann Martin Miller"
          ],
          [
           "Siegwart",
           "Johann Martin Miller"
          ],
          [
           "Physiognomische Reisen ",
           "Johann Karl August Musäus"
          ],
          [
           "Robinson der Jüngere",
           "Joachim Heinrich Campe"
          ],
          [
           "Physiognomische Reisen",
           "Johann Karl August Musäus"
          ],
          [
           "Physiognomische Reisen",
           "Johann Karl August Musäus"
          ],
          [
           "Physiognomische Reisen",
           "Johann Karl August Musäus"
          ],
          [
           "Robinson der Jüngere",
           "Joachim Heinrich Campe"
          ],
          [
           "Anton Reiser",
           "Karl Philipp Moritz"
          ],
          [
           "Anton Reiser",
           "Karl Philipp Moritz"
          ],
          [
           "Anton Reiser",
           "Karl Philipp Moritz"
          ],
          [
           "Wunderbare Reisen zu Wasser und Lande, Feldzüge und lustige Abentheuer des Freyherrn von Münchhausen, wie er dieselben bey der Flasche im Cirkel seiner Freunde selbst zu erzählen pflegt",
           "Rudolf Erich Raspe"
          ],
          [
           "Der Geisterseher",
           "Friedrich Schiller"
          ],
          [
           "Geister und Geisterseher oder Leben und frühes Ende eines Nekromantisten",
           "Heinrich Zschokke"
          ],
          [
           "Anton Reiser",
           "Karl Philipp Moritz"
          ],
          [
           "Fausts Leben, Thaten und Höllenfahrt",
           "Friedrich Maximilian Klinger"
          ],
          [
           "Eduard Allwills Briefsammlung",
           "Friedrich Heinrich Jacobi"
          ],
          [
           "Die unsichtbare Loge",
           "Jean Paul, eigentlich Johann Paul Friedrich Richter"
          ],
          [
           "Die unsichtbare Loge",
           "Jean Paul, eigentlich Johann Paul Friedrich Richter"
          ],
          [
           "Reinecke Fuchs",
           "Johann Wolfgang von Goethe"
          ],
          [
           "Hesperus, oder 45 Hundsposttage",
           "Jean Paul, eigentlich Johann Paul Friedrich Richter"
          ],
          [
           "Hesperus, oder 45 Hundsposttage",
           "Jean Paul, eigentlich Johann Paul Friedrich Richter"
          ],
          [
           "Hesperus, oder 45 Hundsposttage",
           "Jean Paul, eigentlich Johann Paul Friedrich Richter"
          ],
          [
           "Wilhelm Meisters Lehrjahre",
           "Johann Wolfgang von Goethe"
          ],
          [
           "Wilhelm Meisters Lehrjahre",
           "Johann Wolfgang von Goethe"
          ],
          [
           "Wilhelm Meisters Lehrjahre",
           "Johann Wolfgang von Goethe"
          ],
          [
           "William Lovell",
           "Ludwig Tieck"
          ],
          [
           "Biographien der Wahnsinnigen",
           "Christian Heinrich Spieß"
          ],
          [
           "Biographien der Wahnsinnigen",
           "Christian Heinrich Spieß"
          ],
          [
           "Biographien der Wahnsinnigen",
           "Christian Heinrich Spieß"
          ],
          [
           "Biographien der Wahnsinnigen",
           "Christian Heinrich Spieß"
          ],
          [
           "Wilhelm Meisters Lehrjahre",
           "Johann Wolfgang von Goethe"
          ],
          [
           "William Lovell",
           "Ludwig Tieck"
          ],
          [
           "William Lovell",
           "Ludwig Tieck"
          ],
          [
           "Hyperion oder der Eremit in Griechenland",
           "Friedrich Hölderlin"
          ],
          [
           "Herzensergießungen eines kunstliebenden Klosterbruders",
           "Ludwig Tieck"
          ],
          [
           "Herzensergießungen eines kunstliebenden Klosterbruders",
           "Wilhelm Heinrich Wackenroder"
          ],
          [
           "Athenaeum",
           "August Wilhelm Schlegel"
          ],
          [
           "Athenaeum",
           "Friedrich Schlegel"
          ],
          [
           "Franz Sternbald's Wanderungen",
           "Ludwig Tieck"
          ],
          [
           "Franz Sternbalds Wanderungen",
           "Ludwig Tieck"
          ],
          [
           "Athenaeum",
           "August Wilhelm Schlegel"
          ],
          [
           "Hyperion oder der Eremit in Griechenland",
           "Friedrich Hölderlin"
          ],
          [
           "Athenaeum",
           "Friedrich Schlegel"
          ],
          [
           "Lucinde",
           "Friedrich Schlegel"
          ],
          [
           "Die Jobsiade",
           "Karl Arnold Kortum"
          ],
          [
           "Die Jobsiade",
           "Karl Arnold Kortum"
          ],
          [
           "Die Jobsiade",
           "Karl Arnold Kortum"
          ],
          [
           "Athenaeum",
           "August Wilhelm Schlegel"
          ],
          [
           "Athenaeum",
           "Friedrich Schlegel"
          ],
          [
           "Titan",
           "Jean Paul, eigentlich Johann Paul Friedrich Richter"
          ],
          [
           "Florentin",
           "Dorothea Schlegel"
          ],
          [
           "Florentin",
           "Friedrich Schlegel"
          ],
          [
           "Titan",
           "Jean Paul, eigentlich Johann Paul Friedrich Richter"
          ],
          [
           "Mährchen",
           "Caroline Auguste Fischer"
          ],
          [
           "Titan",
           "Jean Paul, eigentlich Johann Paul Friedrich Richter"
          ],
          [
           "Titan",
           "Jean Paul, eigentlich Johann Paul Friedrich Richter"
          ],
          [
           "Flegeljahre",
           "Jean Paul, eigentlich Johann Paul Friedrich Richter"
          ],
          [
           "Flegeljahre",
           "Jean Paul, eigentlich Johann Paul Friedrich Richter"
          ],
          [
           "Flegeljahre",
           "Jean Paul, eigentlich Johann Paul Friedrich Richter"
          ],
          [
           "Nachtwachen",
           "Ernst August Friedrich Klingemann"
          ],
          [
           "Flegeljahre",
           "Jean Paul, eigentlich Johann Paul Friedrich Richter"
          ],
          [
           "Gemälde weiblicher Erziehung",
           "Karoline Rudolphi"
          ],
          [
           "Gemälde weiblicher Erziehung",
           "Karoline Rudolphi"
          ],
          [
           "D. Katzenbergers Badereise",
           "Jean Paul, eigentlich Johann Paul Friedrich Richter"
          ],
          [
           "D. Katzenbergers Badereise",
           "Jean Paul, eigentlich Johann Paul Friedrich Richter"
          ],
          [
           "Die Wahlverwandtschaften",
           "Johann Wolfgang von Goethe"
          ],
          [
           "Die Wahlverwandtschaften",
           "Johann Wolfgang von Goethe"
          ],
          [
           "Ini",
           "Julius von Voß"
          ],
          [
           "Undine",
           "Friedrich de la Motte Fouqué"
          ],
          [
           "Schatzkästlein des rheinischen Hausfreundes",
           "Johann Peter Hebel"
          ],
          [
           "Kinder- und Haus-Märchen",
           "Jacob Grimm"
          ],
          [
           "Kinder- und Haus-Märchen",
           "Jacob Grimm"
          ],
          [
           "Phantasus",
           "Ludwig Tieck"
          ],
          [
           "Phantasus",
           "Ludwig Tieck"
          ],
          [
           "Peter Schlemihl's wundersame Geschichte",
           "Friedrich de la Motte Fouqué"
          ],
          [
           "Kinder- und Haus-Märchen",
           "Jacob Grimm"
          ],
          [
           "Kinder- und Haus-Märchen",
           "Jacob Grimm"
          ],
          [
           "Ahnung und Gegenwart",
           "Joseph Freiherr von Eichendorff"
          ],
          [
           "Phantasus",
           "Ludwig Tieck"
          ],
          [
           "Der tolle Invalide auf dem Fort Ratonneau",
           "Achim von Arnim"
          ],
          [
           "Kinder- und Haus-Märchen",
           "Jacob Grimm"
          ],
          [
           "Kinder- und Haus-Märchen",
           "Jacob Grimm"
          ],
          [
           "Kinder- und Haus-Märchen",
           "Jacob Grimm"
          ],
          [
           "Kinder- und Haus-Märchen",
           "Jacob Grimm"
          ],
          [
           "Phaëthon",
           "Wilhelm Waiblinger"
          ],
          [
           "Phaëthon",
           "Wilhelm Waiblinger"
          ],
          [
           "Aus dem Leben eines Taugenichts und das Marmorbild",
           "Joseph Freiherr von Eichendorff"
          ],
          [
           "Phantasien im Bremer Rathskeller",
           "Wilhelm Hauff"
          ],
          [
           "Maler Nolten",
           "Eduard Mörike"
          ],
          [
           "Maler Nolten",
           "Eduard Mörike"
          ],
          [
           "Briefe eines Narren an eine Närrin",
           "Karl Gutzkow"
          ],
          [
           "Das junge Europa",
           "Heinrich Laube"
          ],
          [
           "Das junge Europa",
           "Heinrich Laube"
          ],
          [
           "Dichter und ihre Gesellen",
           "Joseph Freiherr von Eichendorff"
          ],
          [
           "Rahel",
           "Karl August Varnhagen von Ense"
          ],
          [
           "Rahel",
           "Karl August Varnhagen von Ense"
          ],
          [
           "Rahel",
           "Karl August Varnhagen von Ense"
          ],
          [
           "Rahel",
           "Rahel Levin"
          ],
          [
           "Rahel",
           "Rahel Levin"
          ],
          [
           "Rahel",
           "Rahel Levin"
          ],
          [
           "Öffentliche Charaktere",
           "Karl Gutzkow"
          ],
          [
           "Wally, die Zweiflerin",
           "Karl Gutzkow"
          ],
          [
           "Das junge Europa",
           "Heinrich Laube"
          ],
          [
           "Das junge Europa",
           "Heinrich Laube"
          ],
          [
           "Kinder und Hausmärchen",
           "Jacob Grimm"
          ],
          [
           "Kinder und Hausmärchen",
           "Jacob Grimm"
          ],
          [
           "Kinder und Hausmärchen",
           "Jacob Grimm"
          ],
          [
           "Kinder und Hausmärchen",
           "Jacob Grimm"
          ],
          [
           "Denkwürdigkeiten und vermischte Schriften",
           "Karl August Varnhagen von Ense"
          ],
          [
           "Denkwürdigkeiten und vermischte Schriften",
           "Karl August Varnhagen von Ense"
          ],
          [
           "Die schönsten Sagen des klassischen Alterthums",
           "Gustav Schwab"
          ],
          [
           "Denkwürdigkeiten und vermischte Schriften",
           "Karl August Varnhagen von Ense"
          ],
          [
           "Die schönsten Sagen des klassischen Alterthums",
           "Gustav Schwab"
          ],
          [
           "Die schönsten Sagen des klassischen Alterthums",
           "Gustav Schwab"
          ],
          [
           "Kinder und Hausmärchen",
           "Jacob Grimm"
          ],
          [
           "Kinder und Hausmärchen",
           "Jacob Grimm"
          ],
          [
           "Kinder und Hausmärchen",
           "Jacob Grimm"
          ],
          [
           "Kinder und Hausmärchen",
           "Jacob Grimm"
          ],
          [
           "Bilder und Sagen aus der Schweiz",
           "Jeremias Gotthelf, eigentlich Albert Bitzius"
          ],
          [
           "Jenny",
           "Fanny Lewald"
          ],
          [
           "Jenny",
           "Fanny Lewald"
          ],
          [
           "Kinder und Hausmärchen",
           "Jacob Grimm"
          ],
          [
           "Kinder und Hausmärchen",
           "Jacob Grimm"
          ],
          [
           "Kinder und Hausmärchen",
           "Jacob Grimm"
          ],
          [
           "Kinder und Hausmärchen",
           "Jacob Grimm"
          ],
          [
           "Maria Schweidler die Bernsteinhexe",
           "Wilhelm Meinhold"
          ],
          [
           "Der Prophet",
           "Amalie Schoppe"
          ],
          [
           "Der Prophet",
           "Amalie Schoppe"
          ],
          [
           "Der Prophet",
           "Amalie Schoppe"
          ],
          [
           "Polizei-Geschichten",
           "Ernst Dronke"
          ],
          [
           "Leben und Thaten des berühmten Ritters Schnapphahnski",
           "Georg Weerth"
          ],
          [
           "Kinder und Hausmärchen",
           "Jacob Grimm"
          ],
          [
           "Kinder und Hausmärchen",
           "Jacob Grimm"
          ],
          [
           "Kinder und Hausmärchen",
           "Jacob Grimm"
          ],
          [
           "Kinder und Hausmärchen",
           "Jacob Grimm"
          ],
          [
           "Immensee",
           "Theodor Storm"
          ],
          [
           "Bunte Steine",
           "Adalbert Stifter"
          ],
          [
           "Bunte Steine",
           "Adalbert Stifter"
          ],
          [
           "Der grüne Heinrich",
           "Gottfried Keller"
          ],
          [
           "Der grüne Heinrich",
           "Gottfried Keller"
          ],
          [
           "Der grüne Heinrich",
           "Gottfried Keller"
          ],
          [
           "Der Dunkelgraf",
           "Ludwig Bechstein"
          ],
          [
           "Der Amerika-Müde",
           "Ferdinand Kürnberger"
          ],
          [
           "Der grüne Heinrich",
           "Gottfried Keller"
          ],
          [
           "Der Sonnenwirth",
           "Hermann Kurz"
          ],
          [
           "Ekkehard",
           "Joseph Victor von Scheffel"
          ],
          [
           "Novellen",
           "Paul Heyse"
          ],
          [
           "Mozart auf der Reise nach Prag",
           "Eduard Mörike"
          ],
          [
           "Die Leute von Seldwyla",
           "Gottfried Keller"
          ],
          [
           "Zwischen Himmel und Erde",
           "Otto Ludwig"
          ],
          [
           "Der Nachsommer",
           "Adalbert Stifter"
          ],
          [
           "Der Nachsommer",
           "Adalbert Stifter"
          ],
          [
           "Der Nachsommer",
           "Adalbert Stifter"
          ],
          [
           "Kinder und Hausmärchen",
           "Jacob Grimm"
          ],
          [
           "Kinder und Hausmärchen",
           "Jacob Grimm"
          ],
          [
           "Kinder und Hausmärchen",
           "Jacob Grimm"
          ],
          [
           "Kinder und Hausmärchen",
           "Jacob Grimm"
          ],
          [
           "Die Chronik der Sperlingsgasse",
           "Wilhelm Raabe"
          ],
          [
           "Letzte Gaben",
           "Annette von Droste-Hülshoff"
          ],
          [
           "Problematische Naturen",
           "Friedrich Spielhagen"
          ],
          [
           "Problematische Naturen",
           "Friedrich Spielhagen"
          ],
          [
           "Problematische Naturen",
           "Friedrich Spielhagen"
          ],
          [
           "Problematische Naturen",
           "Friedrich Spielhagen"
          ],
          [
           "Adele",
           "Fanny Lewald"
          ],
          [
           "Eine Aegyptische Königstochter",
           "Georg Ebers"
          ],
          [
           "Eine Aegyptische Königstochter",
           "Georg Ebers"
          ],
          [
           "Eine Aegyptische Königstochter",
           "Georg Ebers"
          ],
          [
           "Max und Moritz",
           "Wilhelm Busch"
          ],
          [
           "Die Verlobung von St. Domingo",
           "Heinrich von Kleist"
          ],
          [
           "Die neue Melusine",
           "Johann Wolfgang von Goethe"
          ],
          [
           "Die letzte Reckenburgerin",
           "Louise von François"
          ],
          [
           "Die letzte Reckenburgerin",
           "Louise von François"
          ],
          [
           "Sieben Legenden",
           "Gottfried Keller"
          ],
          [
           "Waldwinkel, Pole Poppenspäler",
           "Theodor Storm"
          ],
          [
           "Georg Jenatsch. Eine alte Bündnergeschichte",
           "Conrad Ferdinand Meyer"
          ],
          [
           "Das Herrenrecht",
           "Daniel Spitzer"
          ],
          [
           "Novellen aus Österreich",
           "Ferdinand von Saar"
          ],
          [
           "Die neuen Serapionsbrüder",
           "Karl Gutzkow"
          ],
          [
           "Die neuen Serapionsbrüder",
           "Karl Gutzkow"
          ],
          [
           "Die neuen Serapionsbrüder",
           "Karl Gutzkow"
          ],
          [
           "Aquis submersus",
           "Theodor Storm"
          ],
          [
           "Auch Einer",
           "Friedrich Theodor Vischer"
          ],
          [
           "Auch Einer",
           "Friedrich Theodor Vischer"
          ],
          [
           "Heidi's Lehr- und Wanderjahre",
           "Johanna Spyri"
          ],
          [
           "Die Prinzessin von Portugal",
           "Alfred Meißner"
          ],
          [
           "Das Sinngedicht",
           "Gottfried Keller"
          ],
          [
           "Schach von Wuthenow",
           "Theodor Fontane"
          ],
          [
           "Unterm Birnbaum",
           "Theodor Fontane"
          ],
          [
           "John Riew', Ein Fest auf Haderslevhuus",
           "Theodor Storm"
          ],
          [
           "Bötjer Basch",
           "Theodor Storm"
          ],
          [
           "Ein Doppelgänger",
           "Theodor Storm"
          ],
          [
           "Irrungen, Wirrungen",
           "Theodor Fontane"
          ],
          [
           "Der Schimmelreiter",
           "Theodor Storm"
          ],
          [
           "Papa Hamlet",
           "Arno Holz"
          ],
          [
           "Adam Mensch",
           "Hermann Conradi"
          ],
          [
           "Das Odfeld",
           "Wilhelm Raabe"
          ],
          [
           "Seifenblasen",
           "Kurd Laßwitz"
          ],
          [
           "Bittersüß",
           "Ilse Frapan"
          ],
          [
           "Stopfkuchen",
           "Wilhelm Raabe"
          ],
          [
           "Durchs Wilde Kurdistan",
           "Karl May"
          ],
          [
           "Von vor und nach der Reise",
           "Theodor Fontane"
          ],
          [
           "Flügel auf!",
           "Ilse Frapan"
          ],
          [
           "Der Büttnerbauer",
           "Wilhelm von Polenz"
          ],
          [
           "Der Medizinmann",
           "Robert Kraft"
          ],
          [
           "Effi Briest",
           "Theodor Fontane"
          ],
          [
           "Die Akten des Vogelsangs",
           "Wilhelm Raabe"
          ],
          [
           "Auf zwei Planeten",
           "Kurd Laßwitz"
          ],
          [
           "Auf zwei Planeten",
           "Kurd Laßwitz"
          ],
          [
           "Stilpe",
           "Otto Julius Bierbaum"
          ],
          [
           "Der Stechlin",
           "Theodor Fontane"
          ],
          [
           "Muspilli",
           "Arnold Hagenauer"
          ],
          [
           "Die Poggenpuhls",
           "Theodor Fontane"
          ],
          [
           "Beate und Mareile",
           "Eduard von Keyserling"
          ],
          [
           "Brigitta",
           "Adalbert Stifter"
          ],
          [
           "Peter Schlemihl's wundersame Geschichte",
           "Adelbert von Chamisso"
          ],
          [
           "Irrwisch-Fritze",
           "Adelheid Reinbold"
          ],
          [
           "Der Flüchtling",
           "Adolf Pichler"
          ],
          [
           "Die katholische Mühle",
           "Adolf Widmann"
          ],
          [
           "Scholastika",
           "Alexander von Ungern-Sternberg"
          ],
          [
           "Der Müller vom Höft",
           "Alfred Meißner"
          ],
          [
           "Die Judenbuche",
           "Annette von Droste-Hülshoff"
          ],
          [
           "Eine Nacht",
           "Bernhard Abeken, Pseudonym Ernst Andolt"
          ],
          [
           "Reich zu reich und arm zu arm",
           "Claire von Glümer"
          ],
          [
           "Rolof, der Rekrut",
           "Edmund Hoefer"
          ],
          [
           "Mozart auf der Reise nach Prag",
           "Eduard Mörike"
          ],
          [
           "Der Striethast",
           "Emmy von Dincklage"
          ],
          [
           "Ansas und Grita",
           "Ernst Wichert"
          ],
          [
           "Die Tante",
           "Fanny Lewald"
          ],
          [
           "Der Drache",
           "Ferdinand Kürnberger"
          ],
          [
           "Der arme Spielmann",
           "Franz Grillparzer"
          ],
          [
           "Germelshausen",
           "Friedrich Gerstäcker"
          ],
          [
           "Die Marzipan-Lise",
           "Friedrich Halm, eigentlich Eligius von Münch-Bellinghausen"
          ],
          [
           "Der graue John",
           "Friedrich von Heyden"
          ],
          [
           "Zwei Nächte",
           "Friedrich Wilhelm Hackländer"
          ],
          [
           "Romeo und Julia auf dem Dorfe",
           "Gottfried Keller"
          ],
          [
           "Das Kind",
           "Herman Grimm"
          ],
          [
           "Die beiden Tubus",
           "Hermann Kurz"
          ],
          [
           "Ein adeliges Fräulein",
           "Hieronymus Lorm, eigentlich Heinrich Landesmann"
          ],
          [
           "Der Notar in der Falle",
           "Jeremias Gotthelf, eigentlich Albert Bitzius"
          ],
          [
           "Kurt von Koppigen",
           "Jeremias Gotthelf, eigentlich Albert Bitzius"
          ],
          [
           "Musikalische Orthodoxie",
           "Johanna Kinkel"
          ],
          [
           "Die Glücksritter",
           "Joseph Freiherr von Eichendorff"
          ],
          [
           "Samuel Brinks letzte Liebesgeschichte",
           "Joseph Schreyvogel"
          ],
          [
           "Hugideo",
           "Joseph Victor von Scheffel"
          ],
          [
           "Vetter Isidor",
           "Julius Grosse"
          ],
          [
           "Reiz und Liebe",
           "Karl August Varnhagen von Ense"
          ],
          [
           "Die Engel-Ehe",
           "Karl Spindler"
          ],
          [
           "Eine Verlorene",
           "Leopold Kompert"
          ],
          [
           "Don Juan von Kolomea",
           "Leopold von Sacher-Masoch"
          ],
          [
           "Des Lebens Überfluß",
           "Ludwig Tieck"
          ],
          [
           "Die Gemälde",
           "Ludwig Tieck"
          ],
          [
           "Eine fromme Lüge",
           "Luise von Gall"
          ],
          [
           "Der Sieg des Schwachen",
           "Melchior Meyr"
          ],
          [
           "Das Schloß im Gebirge",
           "Moritz Hartmann"
          ],
          [
           "Streit in der Liebe und Liebe im Streit",
           "Ottilie Wildermuth"
          ],
          [
           "Der Weinhüter von Meran",
           "Paul Heyse"
          ],
          [
           "Am Malanger Fjord",
           "Theodor Mügge"
          ],
          [
           "Eine Malerarbeit",
           "Theodor Storm"
          ],
          [
           "Phantasien im Bremer Ratskeller",
           "Wilhelm Hauff"
          ],
          [
           "Das letzte Recht",
           "Wilhelm Raabe"
          ],
          [
           "Zwei Erzählungen",
           "Elisabeth von Heyking"
          ],
          [
           "Yoshiwara",
           "Hermione von Preuschen"
          ],
          [
           "Fräulein Else",
           "Arthur Schnitzler"
          ],
          [
           "Der Kinderball",
           "Abraham Emanuel Fröhlich"
          ],
          [
           "Die Verschüttung im Hauenstein",
           "Abraham Emanuel Fröhlich"
          ],
          [
           "Armut, Reichtum, Schuld und Buße der Gräfin Dolores",
           "Achim von Arnim"
          ],
          [
           "Der Wintergarten",
           "Achim von Arnim"
          ],
          [
           "Die drei liebreichen Schwestern und der glückliche Färber",
           "Achim von Arnim"
          ],
          [
           "Die Kronenwächter",
           "Achim von Arnim"
          ],
          [
           "Die Majoratsherren",
           "Achim von Arnim"
          ],
          [
           "Erzählungen",
           "Achim von Arnim"
          ],
          [
           "Isabella von Ägypten",
           "Achim von Arnim"
          ],
          [
           "verschiedene Novellen",
           "Achim von Arnim"
          ],
          [
           "Als er heimkehrte",
           "Ada Christen, eigentlich Christiane von Breden"
          ],
          [
           "Der einsame Spatz",
           "Ada Christen, eigentlich Christiane von Breden"
          ],
          [
           "Jungfer Mutter",
           "Ada Christen, eigentlich Christiane von Breden"
          ],
          [
           "Käthes Federhut",
           "Ada Christen, eigentlich Christiane von Breden"
          ],
          [
           "Nachbar Krippelmacher",
           "Ada Christen, eigentlich Christiane von Breden"
          ],
          [
           "Rahel",
           "Ada Christen, eigentlich Christiane von Breden"
          ],
          [
           "Der fromme Spruch",
           "Adalbert Stifter"
          ],
          [
           "Der heilige Abend",
           "Adalbert Stifter"
          ],
          [
           "Der Kuss von Sentze",
           "Adalbert Stifter"
          ],
          [
           "Der Kuß von Sentze",
           "Adalbert Stifter"
          ],
          [
           "Der Waldbrunnen",
           "Adalbert Stifter"
          ],
          [
           "Nachkommenschaften",
           "Adalbert Stifter"
          ],
          [
           "Prokopus",
           "Adalbert Stifter"
          ],
          [
           "Studien",
           "Adalbert Stifter"
          ],
          [
           "Witiko",
           "Adalbert Stifter"
          ],
          [
           "Bauerngeselchtes",
           "Adam Karrillon"
          ],
          [
           "Die Mühle zu Husterloh",
           "Adam Karrillon"
          ],
          [
           "Michael Hely",
           "Adam Karrillon"
          ],
          [
           "O Domina mea",
           "Adam Karrillon"
          ],
          [
           "Der große Schwabenzug",
           "Adam Müller-Guttenbrunn"
          ],
          [
           "Die Glocken der Heimat",
           "Adam Müller-Guttenbrunn"
          ],
          [
           "Meister Jakob und seine Kinder",
           "Adam Müller-Guttenbrunn"
          ],
          [
           "Adelberts Fabel",
           "Adelbert von Chamisso"
          ],
          [
           "Anna",
           "Adele Schopenhauer"
          ],
          [
           "Schlitzwang",
           "Adolf Glaser, Pseudonym Rainald Reimar"
          ],
          [
           "Wulfhilde",
           "Adolf Glaser, Pseudonym Rainald Reimar"
          ],
          [
           "Der jung Münch Ylsan",
           "Adolf Pichler"
          ],
          [
           "Der lateinische Bauer",
           "Adolf Pichler"
          ],
          [
           "Die Brautnacht",
           "Adolf Pichler"
          ],
          [
           "Frau Elsa",
           "Adolf Pichler"
          ],
          [
           "Herr Rochus",
           "Adolf Pichler"
          ],
          [
           "Janos und Jonas",
           "Adolf Pichler"
          ],
          [
           "Letzte Alpenrosen",
           "Adolf Pichler"
          ],
          [
           "Der Wille zum Leben/Untrennbar",
           "Adolf Wilbrandt"
          ],
          [
           "Hermann Ifinger",
           "Adolf Wilbrandt"
          ],
          [
           "Benjamin Noldmanns Geschichte der Aufklärung in Abyssinien",
           "Adolph Freiherr Knigge"
          ],
          [
           "Die Reise nach Braunschweig",
           "Adolph Freiherr Knigge"
          ],
          [
           "Josephs von Wurmbrands ... politisches Glaubensbekenntnis",
           "Adolph Freiherr Knigge"
          ],
          [
           "Die Schwingen des Lebens",
           "Agnes Franz"
          ],
          [
           "Die Heilige und ihr Narr, Band 1",
           "Agnes Günther"
          ],
          [
           "Die Heilige und ihr Narr, Band 2",
           "Agnes Günther"
          ],
          [
           "Das kleine Dummerle und andere Erzählungen",
           "Agnes Sapper"
          ],
          [
           "Für kleine Mädchen",
           "Agnes Sapper"
          ],
          [
           "Friedemann Bach",
           "Albert Emil Brachvogel"
          ],
          [
           "Oberst von Steuben – des großen Königs Adjutant",
           "Albert Emil Brachvogel"
          ],
          [
           "Vater Milon und andere Erzählungen",
           "Alexander von Oppeln-Bronikowski"
          ],
          [
           "Die Zerissenen",
           "Alexander von Ungern-Sternberg"
          ],
          [
           "Vierter Theil: Elf Novellen",
           "Alexander von Ungern-Sternberg"
          ],
          [
           "Der Flurschütz",
           "Alfred Bock"
          ],
          [
           "Lord Byron",
           "Alfred Schirokauer"
          ],
          [
           "Die Bräutigame der Babette Bomberling",
           "Alice Berend"
          ],
          [
           "Frau Hempels Tochter",
           "Alice Berend"
          ],
          [
           "Bei uns zu Lande auf dem Lande",
           "Annette von Droste-Hülshoff"
          ],
          [
           "Bei uns zulande auf dem Lande",
           "Annette von Droste-Hülshoff"
          ],
          [
           "Der Familienschild",
           "Annette von Droste-Hülshoff"
          ],
          [
           "Ledwina",
           "Annette von Droste-Hülshoff"
          ],
          [
           "Westfälische Schilderungen",
           "Annette von Droste-Hülshoff"
          ],
          [
           "Die Finsternis und ihr Eigentum",
           "Anton von Perfall"
          ],
          [
           "Klippen",
           "Anton von Perfall"
          ],
          [
           "Das Schloß im Moor",
           "Arthur Achleitner"
          ],
          [
           "Der Finanzer",
           "Arthur Achleitner"
          ],
          [
           "Die Dobratschrose",
           "Arthur Achleitner"
          ],
          [
           "Familie Lugmüller",
           "Arthur Achleitner"
          ],
          [
           "Clemens und seine Mädchen",
           "Arthur Kahane"
          ],
          [
           "Der Schauspieler",
           "Arthur Kahane"
          ],
          [
           "Die Thimigs",
           "Arthur Kahane"
          ],
          [
           "Amerika",
           "Arthur Schnitzler"
          ],
          [
           "Andreas Thameyers letzter Brief",
           "Arthur Schnitzler"
          ],
          [
           "Blumen",
           "Arthur Schnitzler"
          ],
          [
           "Casanovas Heimfahrt",
           "Arthur Schnitzler"
          ],
          [
           "Casanovas Heimfahrt",
           "Arthur Schnitzler"
          ],
          [
           "Das neue Lied",
           "Arthur Schnitzler"
          ],
          [
           "Das Schicksal des Freiherrn von Leisenbohg",
           "Arthur Schnitzler"
          ],
          [
           "Das Tagebuch der Redegonda",
           "Arthur Schnitzler"
          ],
          [
           "Der Andere",
           "Arthur Schnitzler"
          ],
          [
           "Der blinde Geronimo und sein Bruder",
           "Arthur Schnitzler"
          ],
          [
           "Der Ehrentag",
           "Arthur Schnitzler"
          ],
          [
           "Der Empfindsame",
           "Arthur Schnitzler"
          ],
          [
           "Der Fürst ist im Hause",
           "Arthur Schnitzler"
          ],
          [
           "Der letzte Brief eines Literaten",
           "Arthur Schnitzler"
          ],
          [
           "Der Mörder",
           "Arthur Schnitzler"
          ],
          [
           "Der Mörder",
           "Arthur Schnitzler"
          ],
          [
           "Der Sekundant",
           "Arthur Schnitzler"
          ],
          [
           "Der Sohn",
           "Arthur Schnitzler"
          ],
          [
           "Der Sohn",
           "Arthur Schnitzler"
          ],
          [
           "Der Tod des Junggesellen",
           "Arthur Schnitzler"
          ],
          [
           "Der tote Gabriel",
           "Arthur Schnitzler"
          ],
          [
           "Der Weg ins Freie",
           "Arthur Schnitzler"
          ],
          [
           "Der Witwer",
           "Arthur Schnitzler"
          ],
          [
           "Die Braut",
           "Arthur Schnitzler"
          ],
          [
           "Die drei Elixire",
           "Arthur Schnitzler"
          ],
          [
           "Die dreifache Warnung",
           "Arthur Schnitzler"
          ],
          [
           "Die Frau des Richters",
           "Arthur Schnitzler"
          ],
          [
           "Die Frau des Weisen",
           "Arthur Schnitzler"
          ],
          [
           "Die Fremde",
           "Arthur Schnitzler"
          ],
          [
           "Die griechische Tänzerin",
           "Arthur Schnitzler"
          ],
          [
           "Die grüne Krawatte",
           "Arthur Schnitzler"
          ],
          [
           "Die Hirtenflöte",
           "Arthur Schnitzler"
          ],
          [
           "Die kleine Komödie",
           "Arthur Schnitzler"
          ],
          [
           "Die Nächste",
           "Arthur Schnitzler"
          ],
          [
           "Die Toten schweigen",
           "Arthur Schnitzler"
          ],
          [
           "Die Weissagung",
           "Arthur Schnitzler"
          ],
          [
           "Doktor Gräsler, Badearzt",
           "Arthur Schnitzler"
          ],
          [
           "Ein Abschied",
           "Arthur Schnitzler"
          ],
          [
           "Ein Erfolg",
           "Arthur Schnitzler"
          ],
          [
           "Er wartet auf den vazierenden Gott",
           "Arthur Schnitzler"
          ],
          [
           "Erbschaft",
           "Arthur Schnitzler"
          ],
          [
           "Exzentrik",
           "Arthur Schnitzler"
          ],
          [
           "Flucht in die Finsternis",
           "Arthur Schnitzler"
          ],
          [
           "Frau Beate und ihr Sohn",
           "Arthur Schnitzler"
          ],
          [
           "Frau Berta Garlan",
           "Arthur Schnitzler"
          ],
          [
           "Geschichte eines Genies",
           "Arthur Schnitzler"
          ],
          [
           "Komödiantinnen",
           "Arthur Schnitzler"
          ],
          [
           "Leutnant Gustl",
           "Arthur Schnitzler"
          ],
          [
           "Mein Freund Ypsilon",
           "Arthur Schnitzler"
          ],
          [
           "Reichtum",
           "Arthur Schnitzler"
          ],
          [
           "Spiel im Morgengrauen",
           "Arthur Schnitzler"
          ],
          [
           "Sterben",
           "Arthur Schnitzler"
          ],
          [
           "Therese",
           "Arthur Schnitzler"
          ],
          [
           "Traumnovelle",
           "Arthur Schnitzler"
          ],
          [
           "Um eine Stunde",
           "Arthur Schnitzler"
          ],
          [
           "Welch eine Melodie",
           "Arthur Schnitzler"
          ],
          [
           "Wohltaten Still und Rein gegeben",
           "Arthur Schnitzler"
          ],
          [
           "Carmen",
           "Arthur Schurig"
          ],
          [
           "Der Doppelgänger. Neun neue Beethoven-Novellen",
           "Arthur Schurig"
          ],
          [
           "Der Roman von Tristan und Isolde",
           "Arthur Schurig"
          ],
          [
           "Ehrlos?",
           "Arthur Zapp"
          ],
          [
           "Bankhaus Reichenbach",
           "Artur Landsberger"
          ],
          [
           "Das Blut",
           "Artur Landsberger"
          ],
          [
           "Emil",
           "Artur Landsberger"
          ],
          [
           "Haß",
           "Artur Landsberger"
          ],
          [
           "Liebe und Bananen",
           "Artur Landsberger"
          ],
          [
           "Mensch und Richter",
           "Artur Landsberger"
          ],
          [
           "Raffke & Cie.",
           "Artur Landsberger"
          ],
          [
           "Um den Sohn",
           "Artur Landsberger"
          ],
          [
           "Villa im Tiergarten",
           "Artur Landsberger"
          ],
          [
           "Der Beinbruch",
           "August Friedrich Ernst Langbein"
          ],
          [
           "Norika",
           "August Hagen"
          ],
          [
           "Allerlei Geister",
           "August Kopisch"
          ],
          [
           "Wenn die Sonne sinkt",
           "August Trinius"
          ],
          [
           "Warenhaus Groß & Comp.",
           "Auguste Groner"
          ],
          [
           "Die Tochter des Regiments und andere Novellen",
           "Balduin Groller"
          ],
          [
           "Eine Panik und andre humoristische Erzählungen",
           "Balduin Groller"
          ],
          [
           "Ganz zufällig und andere humoristische Novellen",
           "Balduin Groller"
          ],
          [
           "In schlechter Form und andere Novellen",
           "Balduin Groller"
          ],
          [
           "Töte sie!",
           "Balduin Groller"
          ],
          [
           "Das Monogramm",
           "Balduin Möllhausen"
          ],
          [
           "Das Mormonenmädchen - Band 1",
           "Balduin Möllhausen"
          ],
          [
           "Das Mormonenmädchen - Band 2",
           "Balduin Möllhausen"
          ],
          [
           "Der Fährmann am Kanadian",
           "Balduin Möllhausen"
          ],
          [
           "Der Majordomo",
           "Balduin Möllhausen"
          ],
          [
           "Der Vaquero",
           "Balduin Möllhausen"
          ],
          [
           "Die beiden Jachten",
           "Balduin Möllhausen"
          ],
          [
           "Die Familie Melville",
           "Balduin Möllhausen"
          ],
          [
           "Die Hyänen des Kapitals",
           "Balduin Möllhausen"
          ],
          [
           "Die Mandanen - Waise",
           "Balduin Möllhausen"
          ],
          [
           "Alf von Dülmen",
           "Benedikte Naubert"
          ],
          [
           "Conrad und Siegfried von Feuchtwangen, Großmeister des deutschen Ordens",
           "Benedikte Naubert"
          ],
          [
           "Die Amtmannin von Hohenweiler",
           "Benedikte Naubert"
          ],
          [
           "Herrmann von Unna",
           "Benedikte Naubert"
          ],
          [
           "In Moor und Marsch",
           "Bernhardine Schulze-Smidt"
          ],
          [
           "Pfadfinder",
           "Bernhardine Schulze-Smidt"
          ],
          [
           "Alte Liebe",
           "Bertha Behrens"
          ],
          [
           "Aus dem Leben meiner alten Freundin",
           "Bertha Behrens"
          ],
          [
           "Erzählungen",
           "Bertha Behrens"
          ],
          [
           "Mamsell Unnütz",
           "Bertha Behrens"
          ],
          [
           "Trudchens Heirat",
           "Bertha Behrens"
          ],
          [
           "Wie auch wir vergeben ...",
           "Bertha Behrens"
          ],
          [
           "Die Waffen nieder!",
           "Bertha von Suttner"
          ],
          [
           "Ermenegildens Flucht",
           "Bertha von Suttner"
          ],
          [
           "Franzl und Mirzl",
           "Bertha von Suttner"
          ],
          [
           "Langeweile",
           "Bertha von Suttner"
          ],
          [
           "Martha's Kinder",
           "Bertha von Suttner"
          ],
          [
           "Barfüßele",
           "Berthold Auerbach"
          ],
          [
           "Landolin von Reutershöfen",
           "Berthold Auerbach"
          ],
          [
           "Schwarzwälder Dorfgeschichten",
           "Berthold Auerbach"
          ],
          [
           "Clemens Brentanos Frühlingskranz",
           "Bettina von Arnim"
          ],
          [
           "Die Günderode",
           "Bettina von Arnim"
          ],
          [
           "Goethes Briefwechsel mit einem Kinde",
           "Bettina von Arnim"
          ],
          [
           "Bürgerziel",
           "Carl Albrecht Bernoulli"
          ],
          [
           "Ull",
           "Carl Albrecht Bernoulli"
          ],
          [
           "Das Liebhaber-Theater",
           "Carl Franz van der Velde"
          ],
          [
           "Drei Frauen",
           "Carl Hauptmann"
          ],
          [
           "Einhart der Lächler",
           "Carl Hauptmann"
          ],
          [
           "Mathilde. Zeichnungen aus dem Leben einer armen Frau",
           "Carl Hauptmann"
          ],
          [
           "Nächte",
           "Carl Hauptmann"
          ],
          [
           "Von Verbrechen und Abenteuern",
           "Carl Hauptmann"
          ],
          [
           "Die häßliche Wikta",
           "Carl Hermann Busse"
          ],
          [
           "Jugendstürme",
           "Carl Hermann Busse"
          ],
          [
           "Die Epigonen",
           "Carl Leberecht Immermann"
          ],
          [
           "Düsseldorfer Anfänge",
           "Carl Leberecht Immermann"
          ],
          [
           "Münchhausen",
           "Carl Leberecht Immermann"
          ],
          [
           "Conrad der Leutnant",
           "Carl Spitteler"
          ],
          [
           "Die Mädchenfeinde",
           "Carl Spitteler"
          ],
          [
           "Imago",
           "Carl Spitteler"
          ],
          [
           "Geknechteter Wille",
           "Carola von Eynatten"
          ],
          [
           "Der Günstling",
           "Caroline Auguste Fischer"
          ],
          [
           "Die Honigmonathe",
           "Caroline Auguste Fischer"
          ],
          [
           "Gustavs Verirrungen",
           "Caroline Auguste Fischer"
          ],
          [
           "Krauskopf und Goldlöckchen",
           "Caroline Auguste Fischer"
          ],
          [
           "Margarethe",
           "Caroline Auguste Fischer"
          ],
          [
           "Selim und Zoraïde",
           "Caroline Auguste Fischer"
          ],
          [
           "Vierzehn Tage in Paris",
           "Caroline Auguste Fischer"
          ],
          [
           "Agathocles",
           "Caroline Pichler"
          ],
          [
           "Agnes von Lilien",
           "Caroline von Wolzogen"
          ],
          [
           "Erzählungen",
           "Caroline von Wolzogen"
          ],
          [
           "Das Kajütenbuch oder Nationale Charakteristiken",
           "Charles Sealsfield, eigentlich Karl Anton Postl"
          ],
          [
           "Die Erzählung des Obersten Morse",
           "Charles Sealsfield, eigentlich Karl Anton Postl"
          ],
          [
           "Als der Mond in Dorothees Zimmer schien",
           "Charlotte Niese"
          ],
          [
           "Die falschen Weihnachtsbäume",
           "Charlotte Niese"
          ],
          [
           "Die Geschichte von einem, der nichts durfte",
           "Charlotte Niese"
          ],
          [
           "Er und Sie",
           "Charlotte Niese"
          ],
          [
           "Es war gut so",
           "Charlotte Niese"
          ],
          [
           "Geschichten aus Holstein",
           "Charlotte Niese"
          ],
          [
           "Kajus Rungholt",
           "Charlotte Niese"
          ],
          [
           "Mamsell van Ehren",
           "Charlotte Niese"
          ],
          [
           "Mein Freund Kaspar und andere Erzählungen",
           "Charlotte Niese"
          ],
          [
           "Reifezeit",
           "Charlotte Niese"
          ],
          [
           "Erna",
           "Charlotte von Ahlefeld"
          ],
          [
           "Gesammelte Erzählungen",
           "Charlotte von Ahlefeld"
          ],
          [
           "Marie Müller",
           "Charlotte von Ahlefeld"
          ],
          [
           "Dosenstücke",
           "Christian August Fischer"
          ],
          [
           "Hannchens Hin- und Herzüge",
           "Christian August Fischer"
          ],
          [
           "Rinaldo Rinaldini, der Räuberhauptmann",
           "Christian August Vulpius"
          ],
          [
           "Ausführliche Erzählung wie Ernst Haberfeld aus einem Bauer ein Freiherr geworden ist",
           "Christian Gotthilf Salzmann"
          ],
          [
           "Aristipp und einige seiner Zeitgenossen",
           "Christoph Martin Wieland"
          ],
          [
           "Der goldene Spiegel",
           "Christoph Martin Wieland"
          ],
          [
           "Die Abenteuer des Don Sylvio von Rosalva",
           "Christoph Martin Wieland"
          ],
          [
           "Erzählungen",
           "Christoph Martin Wieland"
          ],
          [
           "Geschichte der Abderiten",
           "Christoph Martin Wieland"
          ],
          [
           "Koxkox und Kikequetzel",
           "Christoph Martin Wieland"
          ],
          [
           "Peregrinus Proteus",
           "Christoph Martin Wieland"
          ],
          [
           "190 kleine Erzählungen für die Jugend",
           "Christoph von Schmid"
          ],
          [
           "Erzählungen",
           "Christoph von Schmid"
          ],
          [
           "Gesühnt",
           "Claire von Glümer"
          ],
          [
           "Aus der Chronika eines fahrenden Schülers",
           "Clemens Brentano"
          ],
          [
           "Die drei Nüsse",
           "Clemens Brentano"
          ],
          [
           "Die mehreren Wehmüller und ungarischen Nationalgesichter",
           "Clemens Brentano"
          ],
          [
           "Geschichte vom braven Kasperl und dem schönen Annerl",
           "Clemens Brentano"
          ],
          [
           "Godwi oder Das steinerne Bild der Mutter",
           "Clemens Brentano"
          ],
          [
           "Angela Borgia",
           "Conrad Ferdinand Meyer"
          ],
          [
           "Das Amulett",
           "Conrad Ferdinand Meyer"
          ],
          [
           "Das Leiden eines Knaben",
           "Conrad Ferdinand Meyer"
          ],
          [
           "Der Heilige",
           "Conrad Ferdinand Meyer"
          ],
          [
           "Der Schuß von der Kanzel",
           "Conrad Ferdinand Meyer"
          ],
          [
           "Die Hochzeit des Mönchs",
           "Conrad Ferdinand Meyer"
          ],
          [
           "Die Richterin",
           "Conrad Ferdinand Meyer"
          ],
          [
           "Die Versuchung des Pescara",
           "Conrad Ferdinand Meyer"
          ],
          [
           "Gustav Adolfs Page",
           "Conrad Ferdinand Meyer"
          ],
          [
           "Jürg Jenatsch",
           "Conrad Ferdinand Meyer"
          ],
          [
           "Plautus im Nonnenkloster",
           "Conrad Ferdinand Meyer"
          ],
          [
           "Auf der Austernfischerjagd",
           "Detlev von Liliencron"
          ],
          [
           "Das Ehepaar Quint",
           "Detlev von Liliencron"
          ],
          [
           "Der letzte Gruß",
           "Detlev von Liliencron"
          ],
          [
           "Der Maecen",
           "Detlev von Liliencron"
          ],
          [
           "Die Dithmarschen",
           "Detlev von Liliencron"
          ],
          [
           "Die Könige von Norderoog und Süderoog",
           "Detlev von Liliencron"
          ],
          [
           "Die Schlacht bei Stellau. 1201",
           "Detlev von Liliencron"
          ],
          [
           "Die Spieluhr",
           "Detlev von Liliencron"
          ],
          [
           "Eine Sommerschlacht",
           "Detlev von Liliencron"
          ],
          [
           "Geert der Große von Holstein",
           "Detlev von Liliencron"
          ],
          [
           "Greggert Meinstorff",
           "Detlev von Liliencron"
          ],
          [
           "Hetzjagd",
           "Detlev von Liliencron"
          ],
          [
           "Kriegsnovellen",
           "Detlev von Liliencron"
          ],
          [
           "Letzte Ernte",
           "Detlev von Liliencron"
          ],
          [
           "Nächtlicher Angriff",
           "Detlev von Liliencron"
          ],
          [
           "Roggen und Weizen",
           "Detlev von Liliencron"
          ],
          [
           "Unter flatternden Fahnen",
           "Detlev von Liliencron"
          ],
          [
           "Das goldene Tor",
           "Diedrich Speckmann"
          ],
          [
           "Heidehof Lohe",
           "Diedrich Speckmann"
          ],
          [
           "Heidjers Heimkehr",
           "Diedrich Speckmann"
          ],
          [
           "Der Advokatenbauer",
           "Dietrich Theden"
          ],
          [
           "Die zweite Buße",
           "Dietrich Theden"
          ],
          [
           "Die Graue Gasse",
           "Dora Duncker"
          ],
          [
           "Gross-Berlin",
           "Dora Duncker"
          ],
          [
           "Grossstadt",
           "Dora Duncker"
          ],
          [
           "Großstadt",
           "Dora Duncker"
          ],
          [
           "Jugend",
           "Dora Duncker"
          ],
          [
           "Lottes Glück / Totgelacht",
           "Dora Duncker"
          ],
          [
           "Marquise von Pompadour",
           "Dora Duncker"
          ],
          [
           "Mütter",
           "Dora Duncker"
          ],
          [
           "Florentin",
           "Dorothea Schlegel"
          ],
          [
           "Florentin",
           "Dorothea Schlegel"
          ],
          [
           "Das Eulenhaus",
           "E. Marlitt"
          ],
          [
           "Das Geheimnis der alten Mamsell",
           "E. Marlitt"
          ],
          [
           "Das Heideprinzeßchen",
           "E. Marlitt"
          ],
          [
           "Die Frau mit den Karfunkelsteinen",
           "E. Marlitt"
          ],
          [
           "Die zweite Frau",
           "E. Marlitt"
          ],
          [
           "Die zwölf Apostel",
           "E. Marlitt"
          ],
          [
           "Goldelse",
           "E. Marlitt"
          ],
          [
           "Im Schillingshof",
           "E. Marlitt"
          ],
          [
           "Reichsgräfin Gisela",
           "E. Marlitt"
          ],
          [
           "Schulmeisters Marie",
           "E. Marlitt"
          ],
          [
           "Thüringer Erzählungen",
           "E. Marlitt"
          ],
          [
           "Adlerflug",
           "E. Werner, eigentlich Elisabeth Bürstenbinder"
          ],
          [
           "Ein Gottesurteil",
           "E. Werner, eigentlich Elisabeth Bürstenbinder"
          ],
          [
           "Fata Morgana",
           "E. Werner, eigentlich Elisabeth Bürstenbinder"
          ],
          [
           "Gebannt und erlöst",
           "E. Werner, eigentlich Elisabeth Bürstenbinder"
          ],
          [
           "Gesprengte Fesseln/Verdächtig",
           "E. Werner, eigentlich Elisabeth Bürstenbinder"
          ],
          [
           "Glück auf!",
           "E. Werner, eigentlich Elisabeth Bürstenbinder"
          ],
          [
           "Hexengold",
           "E. Werner, eigentlich Elisabeth Bürstenbinder"
          ],
          [
           "Siegwart",
           "E. Werner, eigentlich Elisabeth Bürstenbinder"
          ],
          [
           "Das Wyler Schlößchen. Die rothen Nelken. Ein Schrei\n",
           "Edmund Hoefer"
          ],
          [
           "Bruchstücke eines Romans",
           "Eduard Mörike"
          ],
          [
           "Der Schatz",
           "Eduard Mörike"
          ],
          [
           "Lucie Gelmeroth",
           "Eduard Mörike"
          ],
          [
           "Die weißen Götter - Erster Band",
           "Eduard Stucken"
          ],
          [
           "Bürgerlich und Romantisch",
           "Eduard von Bauernfeld"
          ],
          [
           "Abendliche Häuser",
           "Eduard von Keyserling"
          ],
          [
           "Dumala",
           "Eduard von Keyserling"
          ],
          [
           "Feiertagskinder",
           "Eduard von Keyserling"
          ],
          [
           "Harmonie",
           "Eduard von Keyserling"
          ],
          [
           "Schwüle Tage",
           "Eduard von Keyserling"
          ],
          [
           "Wellen",
           "Eduard von Keyserling"
          ],
          [
           "Zwei Novellen",
           "Eduard von Keyserling"
          ],
          [
           "Bürgerin Louise",
           "Edward Stilgebauer"
          ],
          [
           "Briefe, die ihn nicht erreichten",
           "Elisabeth von Heyking"
          ],
          [
           "Das vollkommene Glück",
           "Elisabeth von Heyking"
          ],
          [
           "Der Tag Anderer",
           "Elisabeth von Heyking"
          ],
          [
           "Tschun",
           "Elisabeth von Heyking"
          ],
          [
           "Weberin Schuld",
           "Elisabeth von Heyking"
          ],
          [
           "Papillon",
           "Elise Polko"
          ],
          [
           "Aus dem Elend",
           "Emerenz Meier"
          ],
          [
           "Der Brechelbrei",
           "Emerenz Meier"
          ],
          [
           "Der Juhschroa",
           "Emerenz Meier"
          ],
          [
           "Die Madlhüttler",
           "Emerenz Meier"
          ],
          [
           "Irrgarten des Lebens",
           "Emil Ertl"
          ],
          [
           "Nachtschmetterlinge",
           "Emil Frommel"
          ],
          [
           "Die Wallfahrt",
           "Emil Gött"
          ],
          [
           "Die Schmiede",
           "Emil Sandt"
          ],
          [
           "Heckenrosen",
           "Emilie Giehrl"
          ],
          [
           "Die Europamüden",
           "Ernst Adolf Willkomm"
          ],
          [
           "Erzählungen eines Wattenschiffers",
           "Ernst Adolf Willkomm"
          ],
          [
           "Rheder und Matrose",
           "Ernst Adolf Willkomm"
          ],
          [
           "Verirrte Seelen",
           "Ernst Adolf Willkomm"
          ],
          [
           "Weisse Sclaven oder die Leiden des Volkes",
           "Ernst Adolf Willkomm"
          ],
          [
           "Die Nachtwachen des Bonaventura",
           "Ernst August Friedrich Klingemann"
          ],
          [
           "Der gestohlene Mond",
           "Ernst Barlach"
          ],
          [
           "Fürst Arno",
           "Ernst Eckstein"
          ],
          [
           "Nero",
           "Ernst Eckstein"
          ],
          [
           "Preisgekrönt",
           "Ernst Eckstein"
          ],
          [
           "Vielliebchen",
           "Ernst Eckstein"
          ],
          [
           "Die Elixiere des Teufels",
           "Ernst Theodor Amadeus Hoffmann"
          ],
          [
           "Lebensansichten des Katers Murr",
           "Ernst Theodor Amadeus Hoffmann"
          ],
          [
           "Archambauld",
           "Ernst von Wildenbruch"
          ],
          [
           "Neid",
           "Ernst von Wildenbruch"
          ],
          [
           "'s Meikatel und der Sexack",
           "Ernst von Wolzogen"
          ],
          [
           "Das dritte Geschlecht",
           "Ernst von Wolzogen"
          ],
          [
           "Der Bibelhase",
           "Ernst von Wolzogen"
          ],
          [
           "Der Kraft-Mayr",
           "Ernst von Wolzogen"
          ],
          [
           "Die Gloria-Hose",
           "Ernst von Wolzogen"
          ],
          [
           "Die Gloria-Hose und andere Novellen",
           "Ernst von Wolzogen"
          ],
          [
           "Drei Geschichten",
           "Ernst von Wolzogen"
          ],
          [
           "Das Duell",
           "Ernst Wichert"
          ],
          [
           "Das Grundstück",
           "Ernst Wichert"
          ],
          [
           "Der Bürgermeister von Thorn",
           "Ernst Wichert"
          ],
          [
           "Der Schaktarp",
           "Ernst Wichert"
          ],
          [
           "Der Väter Sünden",
           "Ernst Wichert"
          ],
          [
           "Der Wilddieb",
           "Ernst Wichert"
          ],
          [
           "Die Schwestern",
           "Ernst Wichert"
          ],
          [
           "Endrik Kraupatis",
           "Ernst Wichert"
          ],
          [
           "Ewe",
           "Ernst Wichert"
          ],
          [
           "Schuster Lange",
           "Ernst Wichert"
          ],
          [
           "Auf Rother Erde",
           "Fanny Lewald"
          ],
          [
           "Clementine",
           "Fanny Lewald"
          ],
          [
           "Diogena",
           "Fanny Lewald"
          ],
          [
           "Eine Lebensfrage",
           "Fanny Lewald"
          ],
          [
           "Von Geschlecht zu Geschlecht",
           "Fanny Lewald"
          ],
          [
           "Wandlungen. Erster Band",
           "Fanny Lewald"
          ],
          [
           "Das Heiratsjahr",
           "Fedor von Zobeltitz"
          ],
          [
           "Der Beutezug der Liebe",
           "Fedor von Zobeltitz"
          ],
          [
           "Der Kurier des Kaisers",
           "Fedor von Zobeltitz"
          ],
          [
           "Der Telamone",
           "Fedor von Zobeltitz"
          ],
          [
           "Bis zum Tode getreu",
           "Felix Dahn"
          ],
          [
           "Kampf um Rom",
           "Felix Dahn"
          ],
          [
           "Odhin's Trost",
           "Felix Dahn"
          ],
          [
           "Das Schiff der Abenteuer",
           "Felix Hollaender"
          ],
          [
           "Der Weg des Thomas Truck",
           "Felix Hollaender"
          ],
          [
           "Die Briefe des Fräulein Brandt",
           "Felix Hollaender"
          ],
          [
           "Salomons Schwiegertochter",
           "Felix Hollaender"
          ],
          [
           "Sturmwind im Westen",
           "Felix Hollaender"
          ],
          [
           "»1906«",
           "Ferdinand Grautoff, Pseudonym Seestern"
          ],
          [
           "Bansai!",
           "Ferdinand Grautoff, Pseudonym Seestern"
          ],
          [
           "Die Steinklopfer",
           "Ferdinand von Saar"
          ],
          [
           "Innocens",
           "Ferdinand von Saar"
          ],
          [
           "Marianne",
           "Ferdinand von Saar"
          ],
          [
           "Schloß Kostenitz",
           "Ferdinand von Saar"
          ],
          [
           "Tambi",
           "Ferdinand von Saar"
          ],
          [
           "Tragik des Lebens",
           "Ferdinand von Saar"
          ],
          [
           "Daniella",
           "Ferdinande von Brackel"
          ],
          [
           "Die Tochter des Kunstreiters",
           "Ferdinande von Brackel"
          ],
          [
           "Kinder der Liebe",
           "Frances Külpe"
          ],
          [
           "Rote Tage",
           "Frances Külpe"
          ],
          [
           "Erzählungen",
           "Frank Wedekind"
          ],
          [
           "Rabbi Esra",
           "Frank Wedekind"
          ],
          [
           "Moschele",
           "Franz Friedrich Alexander Hoffmann"
          ],
          [
           "Grenzenlos!",
           "Franz Josef Zlatnik"
          ],
          [
           "Reich und arm",
           "Franz Michael Felder"
          ],
          [
           "Sieben Erzählungen",
           "Franz Stelzhamer"
          ],
          [
           "Der Held von Trenton",
           "Franz Treller"
          ],
          [
           "Unter dem Römerhelm",
           "Franz Treller"
          ],
          [
           "Die neuen Argonauten",
           "Franz von Dingelstedt"
          ],
          [
           "Die Brenta-Blume",
           "Franz von Gaudy"
          ],
          [
           "Novellen und Erzählungen 1",
           "Franz von Gaudy"
          ],
          [
           "Novellen und Erzählungen 2",
           "Franz von Gaudy"
          ],
          [
           "Venetianische Novellen",
           "Franz von Gaudy"
          ],
          [
           "Wildanger",
           "Franz von Kobell"
          ],
          [
           "Die belohnte Wohlthat",
           "Franz Xaver Bronner"
          ],
          [
           "Ein Mönchsleben aus der empfindsamen Zeit, Band 1",
           "Franz Xaver Bronner"
          ],
          [
           "Ein Mönchsleben aus der empfindsamen Zeit, Band 2",
           "Franz Xaver Bronner"
          ],
          [
           "Aus Nacht zum Licht",
           "Frida von Kronoff"
          ],
          [
           "Albert und Albertine",
           "Friederike Helene Unger"
          ],
          [
           "Bekenntnisse einer schönen Seele",
           "Friederike Helene Unger"
          ],
          [
           "Julchen Grünthal",
           "Friederike Helene Unger"
          ],
          [
           "Amey",
           "Friederike Henriette Kraze"
          ],
          [
           "Jahr der Wandlung",
           "Friederike Henriette Kraze"
          ],
          [
           "Maria am Meer",
           "Friederike Henriette Kraze"
          ],
          [
           "Alte und neue Heimat",
           "Friedrich Armand Strubberg, Pseudonym Armand"
          ],
          [
           "Die Rache des Mestizen",
           "Friedrich Armand Strubberg, Pseudonym Armand"
          ],
          [
           "Saat und Ernte",
           "Friedrich Armand Strubberg, Pseudonym Armand"
          ],
          [
           "Mittheilungen aus den geheimen Memoiren einer deutschen Sängerin",
           "Friedrich Bruckbräu"
          ],
          [
           "Eine Geschichte vom Galgenmännlein",
           "Friedrich de la Motte Fouqué"
          ],
          [
           "Sintram und seine Gefährten",
           "Friedrich de la Motte Fouqué"
          ],
          [
           "Alle jagen John Mulligan",
           "Friedrich Gerstäcker"
          ],
          [
           "Blau Wasser",
           "Friedrich Gerstäcker"
          ],
          [
           "Das alte Haus",
           "Friedrich Gerstäcker"
          ],
          [
           "Das Wrack",
           "Friedrich Gerstäcker"
          ],
          [
           "Der Erbe",
           "Friedrich Gerstäcker"
          ],
          [
           "Der erkaufte Henker",
           "Friedrich Gerstäcker"
          ],
          [
           "Der Fischfang am Mississippi",
           "Friedrich Gerstäcker"
          ],
          [
           "Der Flatbootmann",
           "Friedrich Gerstäcker"
          ],
          [
           "Der Freischütz",
           "Friedrich Gerstäcker"
          ],
          [
           "Der kleine Walfischfänger",
           "Friedrich Gerstäcker"
          ],
          [
           "Der Kunstreiter",
           "Friedrich Gerstäcker"
          ],
          [
           "Der Osage",
           "Friedrich Gerstäcker"
          ],
          [
           "Der Schiffszimmermann",
           "Friedrich Gerstäcker"
          ],
          [
           "Der tote Zimmermann",
           "Friedrich Gerstäcker"
          ],
          [
           "Der Walfischfänger",
           "Friedrich Gerstäcker"
          ],
          [
           "Der Wilddieb",
           "Friedrich Gerstäcker"
          ],
          [
           "Die Ahnung",
           "Friedrich Gerstäcker"
          ],
          [
           "Die Backwoodsmen Nordamerikas",
           "Friedrich Gerstäcker"
          ],
          [
           "Die Blauen und Gelben",
           "Friedrich Gerstäcker"
          ],
          [
           "Die Colonie",
           "Friedrich Gerstäcker"
          ],
          [
           "Die Flucht über die Kordilleren",
           "Friedrich Gerstäcker"
          ],
          [
           "Die Flußpiraten des Mississippi",
           "Friedrich Gerstäcker"
          ],
          [
           "Die Moderatoren",
           "Friedrich Gerstäcker"
          ],
          [
           "Die Nacht auf dem Walfisch",
           "Friedrich Gerstäcker"
          ],
          [
           "Die Regulatoren in Arkansas",
           "Friedrich Gerstäcker"
          ],
          [
           "Die Silbermine in den Ozarkgebirgen",
           "Friedrich Gerstäcker"
          ],
          [
           "Die Sklavin",
           "Friedrich Gerstäcker"
          ],
          [
           "Die Vertreibung der Mormonen aus Missouri",
           "Friedrich Gerstäcker"
          ],
          [
           "Die Wolfsglocke",
           "Friedrich Gerstäcker"
          ],
          [
           "General Franco",
           "Friedrich Gerstäcker"
          ],
          [
           "Gold",
           "Friedrich Gerstäcker"
          ],
          [
           "Hell und Dunkel",
           "Friedrich Gerstäcker"
          ],
          [
           "Herr Schultze",
           "Friedrich Gerstäcker"
          ],
          [
           "Herrn Mahlhuber's Reiseabenteuer",
           "Friedrich Gerstäcker"
          ],
          [
           "Im Busch",
           "Friedrich Gerstäcker"
          ],
          [
           "Im Eckfenster",
           "Friedrich Gerstäcker"
          ],
          [
           "In der Südsee",
           "Friedrich Gerstäcker"
          ],
          [
           "In Mexiko. Erster Band",
           "Friedrich Gerstäcker"
          ],
          [
           "Irrfahrten",
           "Friedrich Gerstäcker"
          ],
          [
           "Jack und Bill",
           "Friedrich Gerstäcker"
          ],
          [
           "John Wells",
           "Friedrich Gerstäcker"
          ],
          [
           "Pech!",
           "Friedrich Gerstäcker"
          ],
          [
           "Schwarz und Weiß",
           "Friedrich Gerstäcker"
          ],
          [
           "Señor Aguila",
           "Friedrich Gerstäcker"
          ],
          [
           "So du mir, so ich dir",
           "Friedrich Gerstäcker"
          ],
          [
           "Sträflinge",
           "Friedrich Gerstäcker"
          ],
          [
           "Tahiti",
           "Friedrich Gerstäcker"
          ],
          [
           "Unter dem Äquator",
           "Friedrich Gerstäcker"
          ],
          [
           "Unter den Pehuenchen",
           "Friedrich Gerstäcker"
          ],
          [
           "Verhängnisse",
           "Friedrich Gerstäcker"
          ],
          [
           "Anna",
           "Friedrich Hebbel"
          ],
          [
           "Aus meiner Jugend",
           "Friedrich Hebbel"
          ],
          [
           "Barbier Zitterlein",
           "Friedrich Hebbel"
          ],
          [
           "Der Schneidermeister Nepomuk Schlägel auf der Freudenjagd",
           "Friedrich Hebbel"
          ],
          [
           "Die Kuh",
           "Friedrich Hebbel"
          ],
          [
           "Die Obermedizinalrätin",
           "Friedrich Hebbel"
          ],
          [
           "Eine Nacht im Jägerhause",
           "Friedrich Hebbel"
          ],
          [
           "Herr Haidvogel und seine Familie",
           "Friedrich Hebbel"
          ],
          [
           "Matteo",
           "Friedrich Hebbel"
          ],
          [
           "Pauls merkwürdigste Nacht",
           "Friedrich Hebbel"
          ],
          [
           "Schnock",
           "Friedrich Hebbel"
          ],
          [
           "Treue Liebe",
           "Friedrich Hebbel"
          ],
          [
           "Fragment von Hyperion",
           "Friedrich Hölderlin"
          ],
          [
           "Hyperions Jugend",
           "Friedrich Hölderlin"
          ],
          [
           "Geschichte eines Teutschen der neusten Zeit",
           "Friedrich Maximilian Klinger"
          ],
          [
           "[Das philosophische Gespräch aus dem Geisterseher]",
           "Friedrich Schiller"
          ],
          [
           "Der Verbrecher aus verlorener Ehre",
           "Friedrich Schiller"
          ],
          [
           "Merkwürdiges Beispiel einer weiblichen Rache",
           "Friedrich Schiller"
          ],
          [
           "Alles fließt",
           "Friedrich Spielhagen"
          ],
          [
           "Allzeit voran",
           "Friedrich Spielhagen"
          ],
          [
           "An der Heilquelle",
           "Friedrich Spielhagen"
          ],
          [
           "Angela",
           "Friedrich Spielhagen"
          ],
          [
           "Beiträge zur Theorie und Technik des Romans",
           "Friedrich Spielhagen"
          ],
          [
           "Clara Vere",
           "Friedrich Spielhagen"
          ],
          [
           "Das Skelet im Hause",
           "Friedrich Spielhagen"
          ],
          [
           "Deutsche Pioniere",
           "Friedrich Spielhagen"
          ],
          [
           "Die Dorfcoquette",
           "Friedrich Spielhagen"
          ],
          [
           "Die von Hohenstein. Erster Band",
           "Friedrich Spielhagen"
          ],
          [
           "Ein neuer Pharao",
           "Friedrich Spielhagen"
          ],
          [
           "Faustulus",
           "Friedrich Spielhagen"
          ],
          [
           "Frei geboren",
           "Friedrich Spielhagen"
          ],
          [
           "Hammer und Amboß",
           "Friedrich Spielhagen"
          ],
          [
           "Hans und Grete",
           "Friedrich Spielhagen"
          ],
          [
           "Herrin",
           "Friedrich Spielhagen"
          ],
          [
           "In der zwölften Stunde",
           "Friedrich Spielhagen"
          ],
          [
           "In Reih' und Glied. Erster Theil",
           "Friedrich Spielhagen"
          ],
          [
           "Opfer",
           "Friedrich Spielhagen"
          ],
          [
           "Röschen vom Hofe",
           "Friedrich Spielhagen"
          ],
          [
           "Selbstgerecht",
           "Friedrich Spielhagen"
          ],
          [
           "Stumme des Himmels",
           "Friedrich Spielhagen"
          ],
          [
           "Sturmflut",
           "Friedrich Spielhagen"
          ],
          [
           "Uhlenhans",
           "Friedrich Spielhagen"
          ],
          [
           "Ultimo",
           "Friedrich Spielhagen"
          ],
          [
           "Unter Tannen",
           "Friedrich Spielhagen"
          ],
          [
           "Was will das werden? Erster Theil",
           "Friedrich Spielhagen"
          ],
          [
           "Zum Zeitvertreib",
           "Friedrich Spielhagen"
          ],
          [
           "Faust: Erzählung in neun Briefen",
           "Friedrich von Bodenstedt"
          ],
          [
           "Gräfin Helene",
           "Friedrich von Bodenstedt"
          ],
          [
           "Am Kamin",
           "Friedrich Wilhelm Hackländer"
          ],
          [
           "Europäisches Sklavenleben",
           "Friedrich Wilhelm Hackländer"
          ],
          [
           "Humoristische Erzählungen",
           "Friedrich Wilhelm Hackländer"
          ],
          [
           "Vier Könige / Bilder aus dem Soldatenleben",
           "Friedrich Wilhelm Hackländer"
          ],
          [
           "Böhmische Novellen",
           "Fritz Mauthner"
          ],
          [
           "Das Durchhaus",
           "Fritz Stüber-Gunther"
          ],
          [
           "Stürme",
           "Georg Asmussen"
          ],
          [
           "Die Gred",
           "Georg Ebers"
          ],
          [
           "Im Schmiedefeuer",
           "Georg Ebers"
          ],
          [
           "Kleopatra",
           "Georg Ebers"
          ],
          [
           "Claus Störtebecker",
           "Georg Engel"
          ],
          [
           "Der verbotene Rausch",
           "Georg Engel"
          ],
          [
           "Die Last",
           "Georg Engel"
          ],
          [
           "Hann Klüth",
           "Georg Engel"
          ],
          [
           "Der Dieb",
           "Georg Heym"
          ],
          [
           "Der Dieb",
           "Georg Heym"
          ],
          [
           "Eine Fratze",
           "Georg Heym"
          ],
          [
           "Faust und Don Juan",
           "Georg Ludwig Hesekiel"
          ],
          [
           "Der Kapuziner",
           "Georg Queri"
          ],
          [
           "Aus großen Höhen",
           "Georg von Ompteda"
          ],
          [
           "Das Haus",
           "Georg von Ompteda"
          ],
          [
           "Denise de Montmidi",
           "Georg von Ompteda"
          ],
          [
           "Der Horla",
           "Georg von Ompteda"
          ],
          [
           "Der Liebling",
           "Georg von Ompteda"
          ],
          [
           "Dickchen",
           "Georg von Ompteda"
          ],
          [
           "Die kleine Roque",
           "Georg von Ompteda"
          ],
          [
           "Die Schnepfe",
           "Georg von Ompteda"
          ],
          [
           "Die Schwestern Rondoli",
           "Georg von Ompteda"
          ],
          [
           "Die Tafelrunde",
           "Georg von Ompteda"
          ],
          [
           "Ein Menschenleben",
           "Georg von Ompteda"
          ],
          [
           "Ernst III.",
           "Georg von Ompteda"
          ],
          [
           "Fräulein Fifi",
           "Georg von Ompteda"
          ],
          [
           "Hans und Peter",
           "Georg von Ompteda"
          ],
          [
           "Herr Parent",
           "Georg von Ompteda"
          ],
          [
           "Margret und Ossana",
           "Georg von Ompteda"
          ],
          [
           "Maria da Caza",
           "Georg von Ompteda"
          ],
          [
           "Miß Harriet",
           "Georg von Ompteda"
          ],
          [
           "Mondschein",
           "Georg von Ompteda"
          ],
          [
           "Mont Oriol",
           "Georg von Ompteda"
          ],
          [
           "Nutzlose Schönheit",
           "Georg von Ompteda"
          ],
          [
           "Schnaps-Anton",
           "Georg von Ompteda"
          ],
          [
           "Stark wie der Tod",
           "Georg von Ompteda"
          ],
          [
           "Tag- und Nachtgeschichten",
           "Georg von Ompteda"
          ],
          [
           "Tugendpreis",
           "Georg von Ompteda"
          ],
          [
           "Unser Herz",
           "Georg von Ompteda"
          ],
          [
           "Fragment eines Romans",
           "Georg Weerth"
          ],
          [
           "Don Juan",
           "Gerrit Engelke"
          ],
          [
           "Das schnellste Schiff der Flotte",
           "Gorch Fock, eigentlich Johann Kinau"
          ],
          [
           "Nach dem Sturm",
           "Gorch Fock, eigentlich Johann Kinau"
          ],
          [
           "Seefahrt ist not!",
           "Gorch Fock, eigentlich Johann Kinau"
          ],
          [
           "Martin Salander",
           "Gottfried Keller"
          ],
          [
           "Nachgelassene Erzählungen",
           "Gottfried Keller"
          ],
          [
           "Züricher Novellen",
           "Gottfried Keller"
          ],
          [
           "Kreuz und Schwert",
           "Gregor Samarow, eigentlich Johann Ferdinand Martin Oskar Meding"
          ],
          [
           "Ritter oder Dame",
           "Gregor Samarow, eigentlich Johann Ferdinand Martin Oskar Meding"
          ],
          [
           "Die Intellektuellen",
           "Grete Meisel-Heß"
          ],
          [
           "Aus dem Durchschnitt",
           "Gustav Falke"
          ],
          [
           "Der Mann im Nebel",
           "Gustav Falke"
          ],
          [
           "Die Kinder aus Ohlsens Gang",
           "Gustav Falke"
          ],
          [
           "Herr Purtaller und seine Tochter",
           "Gustav Falke"
          ],
          [
           "Landen und Stranden",
           "Gustav Falke"
          ],
          [
           "Die Ahnen",
           "Gustav Freytag"
          ],
          [
           "Die verlorene Handschrift",
           "Gustav Freytag"
          ],
          [
           "Soll und Haben",
           "Gustav Freytag"
          ],
          [
           "Das grüne Gesicht",
           "Gustav Meyrink, eigentlich Gustav Meyer"
          ],
          [
           "Der Engel vom westlichen Fenster",
           "Gustav Meyrink, eigentlich Gustav Meyer"
          ],
          [
           "Der Golem",
           "Gustav Meyrink, eigentlich Gustav Meyer"
          ],
          [
           "Der Löwe Alois und andere Geschichten",
           "Gustav Meyrink, eigentlich Gustav Meyer"
          ],
          [
           "Der seltsame Gast",
           "Gustav Meyrink, eigentlich Gustav Meyer"
          ],
          [
           "Der weiße Dominikaner",
           "Gustav Meyrink, eigentlich Gustav Meyer"
          ],
          [
           "Des deutschen Spießers Wunderhorn",
           "Gustav Meyrink, eigentlich Gustav Meyer"
          ],
          [
           "Die Abenteuer des Polen Sendivogius",
           "Gustav Meyrink, eigentlich Gustav Meyer"
          ],
          [
           "Walpurgisnacht",
           "Gustav Meyrink, eigentlich Gustav Meyer"
          ],
          [
           "Ein Namenloser",
           "Gustav Sack"
          ],
          [
           "Ein verbummelter Student",
           "Gustav Sack"
          ],
          [
           "Arge Sitten",
           "Hans von Hopfen, eigentlich Hans Mayer"
          ],
          [
           "Der alte Praktikant",
           "Hans von Hopfen, eigentlich Hans Mayer"
          ],
          [
           "Die Geschichten des Majors",
           "Hans von Hopfen, eigentlich Hans Mayer"
          ],
          [
           "Die Heirath des Herrn von Waldenbergt",
           "Hans von Hopfen, eigentlich Hans Mayer"
          ],
          [
           "Peregretta",
           "Hans von Hopfen, eigentlich Hans Mayer"
          ],
          [
           "Robert Leichtfuß",
           "Hans von Hopfen, eigentlich Hans Mayer"
          ],
          [
           "Verdorben zu Paris",
           "Hans von Hopfen, eigentlich Hans Mayer"
          ],
          [
           "Miß Lydia",
           "Hans Wachenhusen"
          ],
          [
           "Was die Straße verschlingt. Erster Band",
           "Hans Wachenhusen"
          ],
          [
           "Christa Ruland",
           "Hedwig Dohm"
          ],
          [
           "Schicksale einer Seele",
           "Hedwig Dohm"
          ],
          [
           "Sibilla Dalmar",
           "Hedwig Dohm"
          ],
          [
           "Werde, die Du bist!",
           "Hedwig Dohm"
          ],
          [
           "Wie Frauen werden",
           "Hedwig Dohm"
          ],
          [
           "Flitter und Schein",
           "Hedwig Dransfeld"
          ],
          [
           "Das Dijon-Röschen",
           "Heinrich Clauren, eigentlich Karl Gottlieb Samuel Heun"
          ],
          [
           "Das Raubschloß",
           "Heinrich Clauren, eigentlich Karl Gottlieb Samuel Heun"
          ],
          [
           "Der Blutschatz",
           "Heinrich Clauren, eigentlich Karl Gottlieb Samuel Heun"
          ],
          [
           "Der selige Papier-Müller",
           "Heinrich Clauren, eigentlich Karl Gottlieb Samuel Heun"
          ],
          [
           "Die Gräfin Cherubim",
           "Heinrich Clauren, eigentlich Karl Gottlieb Samuel Heun"
          ],
          [
           "Die Gränz-Kommission",
           "Heinrich Clauren, eigentlich Karl Gottlieb Samuel Heun"
          ],
          [
           "Die Großmutter",
           "Heinrich Clauren, eigentlich Karl Gottlieb Samuel Heun"
          ],
          [
           "Die Versuchung",
           "Heinrich Clauren, eigentlich Karl Gottlieb Samuel Heun"
          ],
          [
           "Makk",
           "Heinrich Clauren, eigentlich Karl Gottlieb Samuel Heun"
          ],
          [
           "Mimili",
           "Heinrich Clauren, eigentlich Karl Gottlieb Samuel Heun"
          ],
          [
           "Berge und Menschen",
           "Heinrich Federer"
          ],
          [
           "Das letzte Stündlein des Papstes",
           "Heinrich Federer"
          ],
          [
           "Das Wunder in Holzschuhen",
           "Heinrich Federer"
          ],
          [
           "Der Fürchtemacher",
           "Heinrich Federer"
          ],
          [
           "Gebt mir meine Wildnis wieder",
           "Heinrich Federer"
          ],
          [
           "Jungfer Therese",
           "Heinrich Federer"
          ],
          [
           "Lachweiler Geschichten",
           "Heinrich Federer"
          ],
          [
           "Regina Lob",
           "Heinrich Federer"
          ],
          [
           "Sisto e Sesto (Erzählung)",
           "Heinrich Federer"
          ],
          [
           "Spitzbube über Spitzbube",
           "Heinrich Federer"
          ],
          [
           "Unter südlichen Sonnen und Menschen",
           "Heinrich Federer"
          ],
          [
           "Wander- und Wundergeschichten aus dem Süden",
           "Heinrich Federer"
          ],
          [
           "Zwei Skizzenblätter",
           "Heinrich Hart"
          ],
          [
           "Romanzero",
           "Heinrich Heine"
          ],
          [
           "Das Glück",
           "Heinrich Laube"
          ],
          [
           "Der deutsche Krieg. I. Buch, Junker Hans. 1. Theil",
           "Heinrich Laube"
          ],
          [
           "Die Schauspielerin",
           "Heinrich Laube"
          ],
          [
           "Liebesbriefe",
           "Heinrich Laube"
          ],
          [
           "Novellen",
           "Heinrich Laube"
          ],
          [
           "Fritz Reinhardt",
           "Heinrich Schaumberger"
          ],
          [
           "Gesalzene Krapfen",
           "Heinrich Schaumberger"
          ],
          [
           "Im Hirtenhaus",
           "Heinrich Schaumberger"
          ],
          [
           "Umsingen",
           "Heinrich Schaumberger"
          ],
          [
           "Das Brautschiff",
           "Heinrich Smidt"
          ],
          [
           "Ein Seelenverkauf oder Was zahlt Ostindien? Dritter Theil",
           "Heinrich Smidt"
          ],
          [
           "Jan Blaufink oder See und Theater",
           "Heinrich Smidt"
          ],
          [
           "Meeresstille und hohe See",
           "Heinrich Smidt"
          ],
          [
           "Seegeschichten und Marinebilder",
           "Heinrich Smidt"
          ],
          [
           "Irmela",
           "Heinrich Steinhausen"
          ],
          [
           "Addrich im Moos",
           "Heinrich Zschokke"
          ],
          [
           "Das Abenteuer der Neujahrsnacht",
           "Heinrich Zschokke"
          ],
          [
           "Das Goldmacherdorf",
           "Heinrich Zschokke"
          ],
          [
           "Der Flüchtling im Jura",
           "Heinrich Zschokke"
          ],
          [
           "Der Freihof von Aarau",
           "Heinrich Zschokke"
          ],
          [
           "Die Rose von Disentis",
           "Heinrich Zschokke"
          ],
          [
           "Die Walpurgisnacht",
           "Heinrich Zschokke"
          ],
          [
           "Ein Narr des Neunzehnten Jahrhunderts",
           "Heinrich Zschokke"
          ],
          [
           "Hans Dampf in allen Gassen",
           "Heinrich Zschokke"
          ],
          [
           "Frau Doktor Breuer",
           "Helene von Mühlau, eigentlich Hedwig von Mühlenfels, geb. Rathgeber"
          ],
          [
           "Erzählungen. Aus den Papieren der Herzogin von Nottingham",
           "Henriette von Paalzow"
          ],
          [
           "Godwie-Castle",
           "Henriette von Paalzow"
          ],
          [
           "Ste. Roche",
           "Henriette von Paalzow"
          ],
          [
           "Der Begleiter",
           "Henry von Heiseler"
          ],
          [
           "Wawas Ende",
           "Henry von Heiseler"
          ],
          [
           "Der inwendige Garten",
           "Hermann Bahr"
          ],
          [
           "Die gute Schule",
           "Hermann Bahr"
          ],
          [
           "Die schöne Frau",
           "Hermann Bahr"
          ],
          [
           "Leander",
           "Hermann Bahr"
          ],
          [
           "12 Novellen",
           "Hermann Essig"
          ],
          [
           "Der Taifun",
           "Hermann Essig"
          ],
          [
           "Aus allen Winkeln",
           "Hermann Heiberg"
          ],
          [
           "Das Schicksal auf Moorheide",
           "Hermann Heiberg"
          ],
          [
           "Fluch der Schönheit",
           "Hermann Heiberg"
          ],
          [
           "Gesammelte kleinere Erzählungen - Band 2",
           "Hermann Kurz"
          ],
          [
           "Gesammelte kleinere Erzählungen - Band 3",
           "Hermann Kurz"
          ],
          [
           "Gesammelte kleinere Erzählungen - Band 4",
           "Hermann Kurz"
          ],
          [
           "Byzantinische Novellen",
           "Hermann Lingg"
          ],
          [
           "Kleine Erzählungen",
           "Hermann Löns"
          ],
          [
           "Fritz Beutel",
           "Hermann Marggraff"
          ],
          [
           "Der tolle Professor",
           "Hermann Sudermann"
          ],
          [
           "Der verwandelte Fächer und zwei andere Novellen",
           "Hermann Sudermann"
          ],
          [
           "Es war",
           "Hermann Sudermann"
          ],
          [
           "Frau Sorge",
           "Hermann Sudermann"
          ],
          [
           "Geschwister",
           "Hermann Sudermann"
          ],
          [
           "Im Zwielicht",
           "Hermann Sudermann"
          ],
          [
           "Litauische Geschichten",
           "Hermann Sudermann"
          ],
          [
           "Aus dem Badener Land",
           "Hermine Villinger"
          ],
          [
           "Aus meiner Heimat",
           "Hermine Villinger"
          ],
          [
           "Das blaue Mal",
           "Hugo Bettauer"
          ],
          [
           "Der Kampf um Wien",
           "Hugo Bettauer"
          ],
          [
           "Die Freudlose Gasse",
           "Hugo Bettauer"
          ],
          [
           "Die Stadt ohne Juden",
           "Hugo Bettauer"
          ],
          [
           "Faustrecht",
           "Hugo Bettauer"
          ],
          [
           "Vergangenheit",
           "Hugo Salus"
          ],
          [
           "Das Märchen der 672. Nacht",
           "Hugo von Hofmannsthal"
          ],
          [
           "Die Frau ohne Schatten",
           "Hugo von Hofmannsthal"
          ],
          [
           "Erlebnis des Marschalls von Bassompierre",
           "Hugo von Hofmannsthal"
          ],
          [
           "Lucidor",
           "Hugo von Hofmannsthal"
          ],
          [
           "Reitergeschichte",
           "Hugo von Hofmannsthal"
          ],
          [
           "Annas Ehe",
           "Ida Boy-Ed"
          ],
          [
           "Die Opferschale",
           "Ida Boy-Ed"
          ],
          [
           "Ein königlicher Kaufmann",
           "Ida Boy-Ed"
          ],
          [
           "Empor!",
           "Ida Boy-Ed"
          ],
          [
           "Fanny Förster",
           "Ida Boy-Ed"
          ],
          [
           "Um ein Weib",
           "Ida Boy-Ed"
          ],
          [
           "Vor der Ehe",
           "Ida Boy-Ed"
          ],
          [
           "Zwei Männer",
           "Ida Boy-Ed"
          ],
          [
           "Gräfin Faustine",
           "Ida Hahn-Hahn"
          ],
          [
           "Maria Regina - Band 1",
           "Ida Hahn-Hahn"
          ],
          [
           "Maria Regina - Band 2",
           "Ida Hahn-Hahn"
          ],
          [
           "Sibylle",
           "Ida Hahn-Hahn"
          ],
          [
           "Tobias Guarnerius",
           "Ignaz Franz Castelli, Pseudonym Bruder Fatalis"
          ],
          [
           "Arbeit",
           "Ilse Frapan"
          ],
          [
           "Querköpfe",
           "Ilse Frapan"
          ],
          [
           "Schreie. Novellen und Skizzen",
           "Ilse Frapan"
          ],
          [
           "Was der Alltag dichtet",
           "Ilse Frapan"
          ],
          [
           "Wir Frauen haben kein Vaterland",
           "Ilse Frapan"
          ],
          [
           "Zu Wasser und zu Lande",
           "Ilse Frapan"
          ],
          [
           "Zwischen Elbe und Alster",
           "Ilse Frapan"
          ],
          [
           "Guten Abend!",
           "Isabella Braun"
          ],
          [
           "Deutsche Sagen",
           "Jacob Grimm"
          ],
          [
           "An heiligen Wassern",
           "Jakob Christoph Heer"
          ],
          [
           "Der König der Bernina",
           "Jakob Christoph Heer"
          ],
          [
           "Der lange Balthasar",
           "Jakob Christoph Heer"
          ],
          [
           "Der Wetterwart",
           "Jakob Christoph Heer"
          ],
          [
           "Felix Notvest",
           "Jakob Christoph Heer"
          ],
          [
           "Laubgewind",
           "Jakob Christoph Heer"
          ],
          [
           "Tobias Heider",
           "Jakob Christoph Heer"
          ],
          [
           "Das königliche Spiel",
           "Jakob Julius David"
          ],
          [
           "Das Totenlied",
           "Jakob Julius David"
          ],
          [
           "Der Bettelvogt",
           "Jakob Julius David"
          ],
          [
           "Die Hanna",
           "Jakob Julius David"
          ],
          [
           "Die Tochter Fortunats",
           "Jakob Julius David"
          ],
          [
           "Die Troika",
           "Jakob Julius David"
          ],
          [
           "Ein Poet?",
           "Jakob Julius David"
          ],
          [
           "Halluzinationen",
           "Jakob Julius David"
          ],
          [
           "Schuß in der Nacht",
           "Jakob Julius David"
          ],
          [
           "Verstörte Zeit",
           "Jakob Julius David"
          ],
          [
           "Empfindsamster aller Romane",
           "Jakob Michael Reinhold Lenz"
          ],
          [
           "Alexander in Babylon",
           "Jakob Wassermann"
          ],
          [
           "Caspar Hauser oder Die Trägheit des Herzens",
           "Jakob Wassermann"
          ],
          [
           "Christian Wahnschaffe",
           "Jakob Wassermann"
          ],
          [
           "Das Gänsemännchen",
           "Jakob Wassermann"
          ],
          [
           "Das Gold von Caxamalca",
           "Jakob Wassermann"
          ],
          [
           "Der Aufruhr um den Junker Ernst",
           "Jakob Wassermann"
          ],
          [
           "Der Fall Maurizius",
           "Jakob Wassermann"
          ],
          [
           "Der niegeküßte Mund und andere Erzählungen",
           "Jakob Wassermann"
          ],
          [
           "Die Geschichte der jungen Renate Fuchs",
           "Jakob Wassermann"
          ],
          [
           "Die Juden von Zirndorf",
           "Jakob Wassermann"
          ],
          [
           "Die Masken Erwin Reiners",
           "Jakob Wassermann"
          ],
          [
           "Die Pest im Vintschgau",
           "Jakob Wassermann"
          ],
          [
           "Die Schwestern",
           "Jakob Wassermann"
          ],
          [
           "Donna Johanna von Castilien",
           "Jakob Wassermann"
          ],
          [
           "Joseph Kerkhovens dritte Existenz",
           "Jakob Wassermann"
          ],
          [
           "Laudin und die Seinen",
           "Jakob Wassermann"
          ],
          [
           "Lukardis",
           "Jakob Wassermann"
          ],
          [
           "Mein Weg als Deutscher und Jude",
           "Jakob Wassermann"
          ],
          [
           "Melusine",
           "Jakob Wassermann"
          ],
          [
           "Schläfst du, Mutter?",
           "Jakob Wassermann"
          ],
          [
           "Ulrike",
           "Jakob Wassermann"
          ],
          [
           "Des Geburtshelfers Walther Vierneissel Nachtgedanken über seine verlorenen Fötus-Ideale",
           "Jean Paul, eigentlich Johann Paul Friedrich Richter"
          ],
          [
           "Barthli der Korber",
           "Jeremias Gotthelf, eigentlich Albert Bitzius"
          ],
          [
           "Das Erdbeerimareili",
           "Jeremias Gotthelf, eigentlich Albert Bitzius"
          ],
          [
           "Die schwarze Spinne",
           "Jeremias Gotthelf, eigentlich Albert Bitzius"
          ],
          [
           "Elsi, die seltsame Magd",
           "Jeremias Gotthelf, eigentlich Albert Bitzius"
          ],
          [
           "Geld und Geist",
           "Jeremias Gotthelf, eigentlich Albert Bitzius"
          ],
          [
           "Michels Brautschau",
           "Jeremias Gotthelf, eigentlich Albert Bitzius"
          ],
          [
           "Uli der Pächter",
           "Jeremias Gotthelf, eigentlich Albert Bitzius"
          ],
          [
           "Wie fünf Mädchen im Branntwein jämmerlich umkommen",
           "Jeremias Gotthelf, eigentlich Albert Bitzius"
          ],
          [
           "Wie Uli der Knecht glücklich wird",
           "Jeremias Gotthelf, eigentlich Albert Bitzius"
          ],
          [
           "Die Volkssagen der Altmark",
           "Jodocus Temme"
          ],
          [
           "Die Volkssagen von Pommern und Rügen",
           "Jodocus Temme"
          ],
          [
           "Arabella von Byrnswack",
           "Johann Gabriel Seidl"
          ],
          [
           "Cornelia Fieramonti",
           "Johann Gabriel Seidl"
          ],
          [
           "Das goldene Ringlein",
           "Johann Gabriel Seidl"
          ],
          [
           "Der Leiermann",
           "Johann Gabriel Seidl"
          ],
          [
           "Der tödliche Knopf",
           "Johann Gabriel Seidl"
          ],
          [
           "Die Blaue",
           "Johann Gabriel Seidl"
          ],
          [
           "Die Schweden vor Olmütz",
           "Johann Gabriel Seidl"
          ],
          [
           "Juana",
           "Johann Gabriel Seidl"
          ],
          [
           "Sie ist versorgt!",
           "Johann Gabriel Seidl"
          ],
          [
           "Stumme Rache",
           "Johann Gabriel Seidl"
          ],
          [
           "Die ewige Bürde/Der afrikanische Rechtsspruch",
           "Johann Gottfried Herder"
          ],
          [
           "Die Sühne durchs Leben",
           "Johann Gottfried Kinkel"
          ],
          [
           "Erzählungen",
           "Johann Gottfried Kinkel"
          ],
          [
           "Rheinische Erzählungen",
           "Johann Gottfried Kinkel"
          ],
          [
           "Siegfried von Lindenberg",
           "Johann Gottwerth Müller"
          ],
          [
           "Herr Lorenz Stark",
           "Johann Jakob Engel"
          ],
          [
           "Herr Lorenz Stark",
           "Johann Jakob Engel"
          ],
          [
           "Ardinghello und die glückseeligen Inseln",
           "Johann Jakob Wilhelm Heinse"
          ],
          [
           "Erzählungen für junge Damen und Dichter",
           "Johann Jakob Wilhelm Heinse"
          ],
          [
           "Hildegard von Hohenthal",
           "Johann Jakob Wilhelm Heinse"
          ],
          [
           "Der Ochsenhansl",
           "Johann Peter"
          ],
          [
           "Und dann rennen wir!",
           "Johann Peter"
          ],
          [
           "Wie mir die Lust zum Tanzen verging",
           "Johann Peter"
          ],
          [
           "Bassompierres Geschichte von der schönen Krämerin",
           "Johann Wolfgang von Goethe"
          ],
          [
           "Der Mann von funfzig Jahren",
           "Johann Wolfgang von Goethe"
          ],
          [
           "Der Prokurator",
           "Johann Wolfgang von Goethe"
          ],
          [
           "Die gefährliche Wette",
           "Johann Wolfgang von Goethe"
          ],
          [
           "Die Geschichte von Mignons Eltern",
           "Johann Wolfgang von Goethe"
          ],
          [
           "Die pilgernde Törin",
           "Johann Wolfgang von Goethe"
          ],
          [
           "Die wunderlichen Nachbarskinder",
           "Johann Wolfgang von Goethe"
          ],
          [
           "Ferdinands Schuld und Wandlung",
           "Johann Wolfgang von Goethe"
          ],
          [
           "Kleinere Novellen",
           "Johann Wolfgang von Goethe"
          ],
          [
           "Nicht zu weit",
           "Johann Wolfgang von Goethe"
          ],
          [
           "Novelle",
           "Johann Wolfgang von Goethe"
          ],
          [
           "Sankt Joseph der Zweite",
           "Johann Wolfgang von Goethe"
          ],
          [
           "Wer ist der Verräter?",
           "Johann Wolfgang von Goethe"
          ],
          [
           "Erzählungen",
           "Johanna Kinkel"
          ],
          [
           "Die Tante",
           "Johanna Schopenhauer"
          ],
          [
           "Erzählungen",
           "Johanna Schopenhauer"
          ],
          [
           "Gabriele",
           "Johanna Schopenhauer"
          ],
          [
           "Leontine und Natalie",
           "Johanna Schopenhauer"
          ],
          [
           "Richard Wood",
           "Johanna Schopenhauer"
          ],
          [
           "Heidi kann brauchen, was es gelernt hat",
           "Johanna Spyri"
          ],
          [
           "Heidis Lehr- und Wanderjahre",
           "Johanna Spyri"
          ],
          [
           "Sina",
           "Johanna Spyri"
          ],
          [
           "Der Überkater, Band 1",
           "Johannes Richard zur Megede"
          ],
          [
           "Der Überkater, Band 2",
           "Johannes Richard zur Megede"
          ],
          [
           "Novellenbuch. Erster Band",
           "Johannes Scherr"
          ],
          [
           "Altdeutsch - Erster Band",
           "Josef Eduard Konrad Bischoff"
          ],
          [
           "Bankrott",
           "Josef Eduard Konrad Bischoff"
          ],
          [
           "Franz von Sickingen. Erster Theil",
           "Josef Eduard Konrad Bischoff"
          ],
          [
           "Neudeutsch",
           "Josef Eduard Konrad Bischoff"
          ],
          [
           "Achtspännig. Erster Theil",
           "Josef Rank"
          ],
          [
           "Ein Dorfbrutus. Erster Teil",
           "Josef Rank"
          ],
          [
           "Schön-Minnele. Erster Band",
           "Josef Rank"
          ],
          [
           "Auch ich war in Arkadien",
           "Joseph Freiherr von Eichendorff"
          ],
          [
           "Das Marmorbild",
           "Joseph Freiherr von Eichendorff"
          ],
          [
           "Das Schloß Dürande",
           "Joseph Freiherr von Eichendorff"
          ],
          [
           "Der Adel und die Revolution",
           "Joseph Freiherr von Eichendorff"
          ],
          [
           "Die Zauberei im Herbste",
           "Joseph Freiherr von Eichendorff"
          ],
          [
           "Viel Lärmen um Nichts",
           "Joseph Freiherr von Eichendorff"
          ],
          [
           "Das Hünengrab",
           "Julius Hart"
          ],
          [
           "Das Heimweh",
           "Julius Mosen, eigentlich Julius Moses"
          ],
          [
           "Meines Großvaters Brautwerbung / Ismael",
           "Julius Mosen, eigentlich Julius Moses"
          ],
          [
           "Die Grandidiers",
           "Julius Rodenberg, eigentlich Levy"
          ],
          [
           "Das schwarze Weib",
           "Julius Wolff"
          ],
          [
           "Das Wildfangrecht",
           "Julius Wolff"
          ],
          [
           "Der Sülfmeister",
           "Julius Wolff"
          ],
          [
           "Lurlei",
           "Julius Wolff"
          ],
          [
           "Töchter",
           "Karl Adolph"
          ],
          [
           "Größenwahn",
           "Karl Bleibtreu"
          ],
          [
           "Der Pojaz",
           "Karl Emil Franzos"
          ],
          [
           "Die Juden von Barnow",
           "Karl Emil Franzos"
          ],
          [
           "Ein Kampf ums Recht",
           "Karl Emil Franzos"
          ],
          [
           "Judith Trachtenberg",
           "Karl Emil Franzos"
          ],
          [
           "Leib Weihnachtskuchen und sein Kind",
           "Karl Emil Franzos"
          ],
          [
           "Moschko von Parma",
           "Karl Emil Franzos"
          ],
          [
           "Novellen um Liebe und Ehe",
           "Karl Emil Franzos"
          ],
          [
           "Blasedow und seine Söhne. Erster Theil",
           "Karl Gutzkow"
          ],
          [
           "Der Sadducäer von Amsterdam",
           "Karl Gutzkow"
          ],
          [
           "Der Zauberer von Rom, 1. Buch",
           "Karl Gutzkow"
          ],
          [
           "Die Kurstauben",
           "Karl Gutzkow"
          ],
          [
           "Die Nihilisten",
           "Karl Gutzkow"
          ],
          [
           "Die Ritter vom Geiste",
           "Karl Gutzkow"
          ],
          [
           "Die Selbsttaufe",
           "Karl Gutzkow"
          ],
          [
           "Eine Phantasieliebe",
           "Karl Gutzkow"
          ],
          [
           "Imagina Unruh",
           "Karl Gutzkow"
          ],
          [
           "Jean-Jacques",
           "Karl Gutzkow"
          ],
          [
           "Seraphine",
           "Karl Gutzkow"
          ],
          [
           "Das Zauberwasser und andere Erzählungen",
           "Karl May"
          ],
          [
           "Halbblut und andere Erzählungen",
           "Karl May"
          ],
          [
           "Kapitän Kaiman und andere Erzählungen",
           "Karl May"
          ],
          [
           "Andreas Hartknopf. Eine Allegorie",
           "Karl Philipp Moritz"
          ],
          [
           "Andreas Hartknopfs Predigerjahre",
           "Karl Philipp Moritz"
          ],
          [
           "Fortunat und seine Söhne",
           "Karl Simrock"
          ],
          [
           "Der Jesuit",
           "Karl Spindler"
          ],
          [
           "Der Jude",
           "Karl Spindler"
          ],
          [
           "Der Vogelhändler von Imst",
           "Karl Spindler"
          ],
          [
           "Herbstviolen",
           "Karl Spindler"
          ],
          [
           "Putsch & Comp. Dritter Band",
           "Karl Spindler"
          ],
          [
           "Putsch & Comp. Erster Band",
           "Karl Spindler"
          ],
          [
           "Putsch & Comp. Vierter Band",
           "Karl Spindler"
          ],
          [
           "Putsch & Comp. Zweiter Band",
           "Karl Spindler"
          ],
          [
           "Regenbogenstrahlen. Erster Band",
           "Karl Spindler"
          ],
          [
           "Tag und Nacht. Erster Band",
           "Karl Spindler"
          ],
          [
           "Tag und Nacht. Zweiter Band",
           "Karl Spindler"
          ],
          [
           "Mien Jungsparadies",
           "Klaus Groth"
          ],
          [
           "Ruggiero, der Brigant",
           "Konrad Telman, eigentlich Konrad Zitelmann"
          ],
          [
           "Aspira. Der Roman einer Wolke",
           "Kurd Laßwitz"
          ],
          [
           "Bis zum Nullpunkt des Seins und andere Science-Fiction-Erzählungen",
           "Kurd Laßwitz"
          ],
          [
           "Gegen das Weltgesetz",
           "Kurd Laßwitz"
          ],
          [
           "Familie Dungs",
           "Kurt Aram, eigentlich Hans Fischer"
          ],
          [
           "Leda",
           "Kurt Aram, eigentlich Hans Fischer"
          ],
          [
           "Oh Ali!",
           "Kurt Aram, eigentlich Hans Fischer"
          ],
          [
           "Die Rumplhanni",
           "Lena Christ"
          ],
          [
           "Lausdirndlgeschichten",
           "Lena Christ"
          ],
          [
           "Madam Bäurin",
           "Lena Christ"
          ],
          [
           "Mathias Bichler",
           "Lena Christ"
          ],
          [
           "Altdeutsche Novellen, Band 1",
           "Leo Greiner"
          ],
          [
           "Altdeutsche Novellen, Band 2",
           "Leo Greiner"
          ],
          [
           "Der Rettungsball",
           "Leo Leipziger"
          ],
          [
           "Die neuen Linden",
           "Leo Leipziger"
          ],
          [
           "Am Pflug",
           "Leopold Kompert"
          ],
          [
           "Judith die Zweite",
           "Leopold Kompert"
          ],
          [
           "Ohne Bewilligung",
           "Leopold Kompert"
          ],
          [
           "Die Düvecke, oder die Leiden einer Königin",
           "Leopold Schefer"
          ],
          [
           "Die Gräfin Ulfeld. Erster Band",
           "Leopold Schefer"
          ],
          [
           "Génévion von Toulouse",
           "Leopold Schefer"
          ],
          [
           "Das Erntefest",
           "Leopold von Sacher-Masoch"
          ],
          [
           "Lola",
           "Leopold von Sacher-Masoch"
          ],
          [
           "Matrena",
           "Leopold von Sacher-Masoch"
          ],
          [
           "Neue Erzählungen",
           "Leopold von Sacher-Masoch"
          ],
          [
           "Venus im Pelz",
           "Leopold von Sacher-Masoch"
          ],
          [
           "Zur Ehre Gottes!",
           "Leopold von Sacher-Masoch"
          ],
          [
           "Der Familienschild",
           "Levin Schücking"
          ],
          [
           "Der hinkende Teufel",
           "Levin Schücking"
          ],
          [
           "Der Kampf im Spessart",
           "Levin Schücking"
          ],
          [
           "Deutsche Eroberungen",
           "Levin Schücking"
          ],
          [
           "Gesammelte Erzählungen und Novellen. Dritter und vierter Theil",
           "Levin Schücking"
          ],
          [
           "Gesammelte Erzählungen und Novellen. Erster und zweiter Theil",
           "Levin Schücking"
          ],
          [
           "Gesammelte Erzählungen und Novellen. Fünfter und sechster Theil",
           "Levin Schücking"
          ],
          [
           "Hart am Rande",
           "Levin Schücking"
          ],
          [
           "Novellen (1846). Erster Band",
           "Levin Schücking"
          ],
          [
           "Novellen (1846). Zweiter Band",
           "Levin Schücking"
          ],
          [
           "Lebenssucher",
           "Lily Braun"
          ],
          [
           "Das Haus",
           "Lou Andreas-Salomé"
          ],
          [
           "Fenitschka / Eine Ausschweifung",
           "Lou Andreas-Salomé"
          ],
          [
           "Ruth",
           "Lou Andreas-Salomé"
          ],
          [
           "Aus dem Leben einer Frau",
           "Louise Aston"
          ],
          [
           "Lydia",
           "Louise Aston"
          ],
          [
           "Revolution und Contrerevolution",
           "Louise Aston"
          ],
          [
           "Nürnberg",
           "Louise Otto-Peters"
          ],
          [
           "Schloß und Fabrik",
           "Louise Otto-Peters"
          ],
          [
           "Ausgewählte Novellen. Erster Band",
           "Louise von François"
          ],
          [
           "Ausgewählte Novellen. Zweiter Band",
           "Louise von François"
          ],
          [
           "Der Katzenjunker",
           "Louise von François"
          ],
          [
           "Der Posten der Frau",
           "Louise von François"
          ],
          [
           "Die Geschichte meines Urgroßvaters",
           "Louise von François"
          ],
          [
           "Erzählungen",
           "Louise von François"
          ],
          [
           "Hellstädt und andere Erzählungen",
           "Louise von François"
          ],
          [
           "Judith, die Kluswirtin",
           "Louise von François"
          ],
          [
           "Natur und Gnade nebst anderen Erzählungen",
           "Louise von François"
          ],
          [
           "Phosphorus Hollunder",
           "Louise von François"
          ],
          [
           "Stufenjahre eines Glücklichen",
           "Louise von François"
          ],
          [
           "Allerseelen",
           "Ludwig Anzengruber"
          ],
          [
           "Der Einsam",
           "Ludwig Anzengruber"
          ],
          [
           "Der Sternsteinhof",
           "Ludwig Anzengruber"
          ],
          [
           "Die Märchen des Steinklopferhanns",
           "Ludwig Anzengruber"
          ],
          [
           "Dorfgänge",
           "Ludwig Anzengruber"
          ],
          [
           "Drei Kleinere Erzählungen",
           "Ludwig Anzengruber"
          ],
          [
           "Hartingers alte Sixtin",
           "Ludwig Anzengruber"
          ],
          [
           "Jaggernaut",
           "Ludwig Anzengruber"
          ],
          [
           "Sein Spielzeug",
           "Ludwig Anzengruber"
          ],
          [
           "Vereinsamt",
           "Ludwig Anzengruber"
          ],
          [
           "Aus dem Leben und den Schriften des Magisters Herle und seines Freundes Mänle",
           "Ludwig Aurbacher"
          ],
          [
           "Die schwäbische Bauernhochzeit",
           "Ludwig Aurbacher"
          ],
          [
           "Erzählungen, Lieder und Sprüche aus dem »Allerley«",
           "Ludwig Aurbacher"
          ],
          [
           "Deutsches Sagenbuch",
           "Ludwig Bechstein"
          ],
          [
           "Bergheimat",
           "Ludwig Ganghofer"
          ],
          [
           "Das neue Wesen",
           "Ludwig Ganghofer"
          ],
          [
           "Der Ochsenkrieg",
           "Ludwig Ganghofer"
          ],
          [
           "Fliegender Sommer",
           "Ludwig Ganghofer"
          ],
          [
           "Schloß Hubertus",
           "Ludwig Ganghofer"
          ],
          [
           "1812",
           "Ludwig Rellstab"
          ],
          [
           "Der Diplomat",
           "Ludwig Storch"
          ],
          [
           "Orestes in Paris",
           "Ludwig Storch"
          ],
          [
           "Andreas Vöst",
           "Ludwig Thoma"
          ],
          [
           "Der Ruepp",
           "Ludwig Thoma"
          ],
          [
           "Der Wittiber",
           "Ludwig Thoma"
          ],
          [
           "Kaspar Lorinser",
           "Ludwig Thoma"
          ],
          [
           "Weitere Erzählungen",
           "Ludwig Thoma"
          ],
          [
           "Abdallah",
           "Ludwig Tieck"
          ],
          [
           "Almansur",
           "Ludwig Tieck"
          ],
          [
           "Das grüne Band",
           "Ludwig Tieck"
          ],
          [
           "Der Aufzug der Romanze",
           "Ludwig Tieck"
          ],
          [
           "Der Jahrmarkt",
           "Ludwig Tieck"
          ],
          [
           "Der junge Tischlermeister",
           "Ludwig Tieck"
          ],
          [
           "Der Roman in Briefen",
           "Ludwig Tieck"
          ],
          [
           "Die Brüder",
           "Ludwig Tieck"
          ],
          [
           "Die Reisenden",
           "Ludwig Tieck"
          ],
          [
           "Die sieben Weiber des Blaubart",
           "Ludwig Tieck"
          ],
          [
           "Die Verlobung",
           "Ludwig Tieck"
          ],
          [
           "Die Vogelscheuche",
           "Ludwig Tieck"
          ],
          [
           "Eine Sommerreise",
           "Ludwig Tieck"
          ],
          [
           "Geschichte des Herrn William Lovell",
           "Ludwig Tieck"
          ],
          [
           "Glück giebt Verstand",
           "Ludwig Tieck"
          ],
          [
           "Victoria Accorombona",
           "Ludwig Tieck"
          ],
          [
           "Waldeinsamkeit",
           "Ludwig Tieck"
          ],
          [
           "Wunderlichkeiten",
           "Ludwig Tieck"
          ],
          [
           "Der panische Schrecken",
           "Luise Glaß"
          ],
          [
           "Nach der Hochzeit",
           "Luise Mühlbach"
          ],
          [
           "Der Major",
           "Luise Reinhardt"
          ],
          [
           "Novellen. Dritter Band",
           "Luise Reinhardt"
          ],
          [
           "Novellen. Erster Band",
           "Luise Reinhardt"
          ],
          [
           "Novellen. Vierter Band",
           "Luise Reinhardt"
          ],
          [
           "Novellen. Zweiter Band",
           "Luise Reinhardt"
          ],
          [
           "Der neue Kreuzritter",
           "Luise von Gall"
          ],
          [
           "Frauenleben. Erster Theil",
           "Luise von Gall"
          ],
          [
           "Gegen den Strom. Erster Band",
           "Luise von Gall"
          ],
          [
           "Der heilige Michael",
           "Malwida von Meysenbug"
          ],
          [
           "Der Pfad der Äbtissin",
           "Malwida von Meysenbug"
          ],
          [
           "Himmlische und irdische Liebe",
           "Malwida von Meysenbug"
          ],
          [
           "Unerfüllt",
           "Malwida von Meysenbug"
          ],
          [
           "Zu spät",
           "Malwida von Meysenbug"
          ],
          [
           "Atlas",
           "Maria Janitschek"
          ],
          [
           "Der rote Teufel",
           "Maria Janitschek"
          ],
          [
           "Despotische Liebe",
           "Maria Janitschek"
          ],
          [
           "Die Amazonenschlacht",
           "Maria Janitschek"
          ],
          [
           "Die neue Eva",
           "Maria Janitschek"
          ],
          [
           "Es geistert",
           "Maria Janitschek"
          ],
          [
           "Frauenkraft",
           "Maria Janitschek"
          ],
          [
           "Klare Rechnung",
           "Maria Janitschek"
          ],
          [
           "Kreuzfahrer",
           "Maria Janitschek"
          ],
          [
           "Lilienzauber",
           "Maria Janitschek"
          ],
          [
           "Ninive",
           "Maria Janitschek"
          ],
          [
           "Poverino",
           "Maria Janitschek"
          ],
          [
           "Das Buch der Liebe",
           "Marie Eugenie Delle Grazie"
          ],
          [
           "Heilige und Menschen",
           "Marie Eugenie Delle Grazie"
          ],
          [
           "Wunder der Seele",
           "Marie Eugenie Delle Grazie"
          ],
          [
           "Dorf- und Stadtgeschichten",
           "Marie Nathusius"
          ],
          [
           "Agave",
           "Marie von Ebner-Eschenbach"
          ],
          [
           "Bozena",
           "Marie von Ebner-Eschenbach"
          ],
          [
           "Das Gemeindekind",
           "Marie von Ebner-Eschenbach"
          ],
          [
           "Das Schädliche",
           "Marie von Ebner-Eschenbach"
          ],
          [
           "Der gute Mond",
           "Marie von Ebner-Eschenbach"
          ],
          [
           "Der Herr Hofrat",
           "Marie von Ebner-Eschenbach"
          ],
          [
           "Der Kreisphysikus",
           "Marie von Ebner-Eschenbach"
          ],
          [
           "Der Vorzugsschüler",
           "Marie von Ebner-Eschenbach"
          ],
          [
           "Die Freiherren von Gemperlein",
           "Marie von Ebner-Eschenbach"
          ],
          [
           "Die Poesie des Unbewussten",
           "Marie von Ebner-Eschenbach"
          ],
          [
           "Die schönsten Erzählungen",
           "Marie von Ebner-Eschenbach"
          ],
          [
           "Ein kleiner Roman",
           "Marie von Ebner-Eschenbach"
          ],
          [
           "Ein Spätgeborner",
           "Marie von Ebner-Eschenbach"
          ],
          [
           "Er laßt die Hand küssen",
           "Marie von Ebner-Eschenbach"
          ],
          [
           "Erzählungen, Autobiographisches",
           "Marie von Ebner-Eschenbach"
          ],
          [
           "Ihr Traum",
           "Marie von Ebner-Eschenbach"
          ],
          [
           "Krambambuli",
           "Marie von Ebner-Eschenbach"
          ],
          [
           "Lotti, die Uhrmacherin",
           "Marie von Ebner-Eschenbach"
          ],
          [
           "Maslans Frau",
           "Marie von Ebner-Eschenbach"
          ],
          [
           "Nach dem Tode",
           "Marie von Ebner-Eschenbach"
          ],
          [
           "Unsühnbar",
           "Marie von Ebner-Eschenbach"
          ],
          [
           "Eigenthum",
           "Marie von Olfers"
          ],
          [
           "Frost in Blüthen",
           "Marie von Olfers"
          ],
          [
           "Jungfer Modeste",
           "Marie von Olfers"
          ],
          [
           "Ob er wohl Fiekchen heirathen kann?",
           "Marie von Olfers"
          ],
          [
           "Scala santa",
           "Max Burckhard"
          ],
          [
           "Die acht Gesichter am Biwasee",
           "Max Dauthendey"
          ],
          [
           "Geschichten aus den vier Winden",
           "Max Dauthendey"
          ],
          [
           "Josa Gerth",
           "Max Dauthendey"
          ],
          [
           "Lingam",
           "Max Dauthendey"
          ],
          [
           "Novellen und Erzählungen",
           "Max Dauthendey"
          ],
          [
           "Raubmenschen",
           "Max Dauthendey"
          ],
          [
           "Der Invalide",
           "Max Eyth"
          ],
          [
           "Die ersten Tanzschuhe",
           "Max Eyth"
          ],
          [
           "Madonna",
           "Max Eyth"
          ],
          [
           "Mönch und Landsknecht",
           "Max Eyth"
          ],
          [
           "Vorwort",
           "Max Eyth"
          ],
          [
           "Frauenherzen",
           "Max Ring"
          ],
          [
           "Irrwege/Ein Staatsgeheimnis",
           "Max Ring"
          ],
          [
           "John Milton und seine Zeit",
           "Max Ring"
          ],
          [
           "Julie Eberhard",
           "Max Ring"
          ],
          [
           "Lose Vögel",
           "Max Ring"
          ],
          [
           "Aus der Junkerwelt",
           "Max Waldau"
          ],
          [
           "'s Almstummerl",
           "Maximilian Schmidt"
          ],
          [
           "Der Bubenrichter von Mittenwald",
           "Maximilian Schmidt"
          ],
          [
           "Der Zuggeist oder die erste Zugspitzbesteigung",
           "Maximilian Schmidt"
          ],
          [
           "Die Ameisenhexe",
           "Maximilian Schmidt"
          ],
          [
           "Die Jachenauer in Griechenland",
           "Maximilian Schmidt"
          ],
          [
           "Maria Pettenpeck",
           "Maximilian Schmidt"
          ],
          [
           "Meister Martin",
           "Maximilian Schmidt"
          ],
          [
           "Das Glöcklein auf Rain",
           "Meinrad Lienert"
          ],
          [
           "Der König von Euland",
           "Meinrad Lienert"
          ],
          [
           "Der Pfeiferkönig. Eine Zürchergeschichte",
           "Meinrad Lienert"
          ],
          [
           "Was die Isar rauscht",
           "Michael Georg Conrad"
          ],
          [
           "Mein Weg zur Kunst",
           "Monika Hunnius"
          ],
          [
           "Reise in die mittäglichen Provinzen von Frankreich im Jahre 1785-1786",
           "Moritz August von Thümmel"
          ],
          [
           "Wilhelmine's Werdegang",
           "Moritz August von Thümmel"
          ],
          [
           "Der Krieg um den Wald",
           "Moritz Hartmann"
          ],
          [
           "Die Tobias-Vase",
           "Moritz Heimann"
          ],
          [
           "Dr. Wislizenus",
           "Moritz Heimann"
          ],
          [
           "Wintergespinst",
           "Moritz Heimann"
          ],
          [
           "Die Lehrlinge zu Sais",
           "Novalis, eigentlich Friedrich von Hardenberg"
          ],
          [
           "Heinrich von Ofterdingen",
           "Novalis, eigentlich Friedrich von Hardenberg"
          ],
          [
           "Der Sterngucker und die Pensionsmama",
           "Oskar Höcker"
          ],
          [
           "Deutsche Treue, welsche Tücke",
           "Oskar Höcker"
          ],
          [
           "Die Sonne von St. Moritz",
           "Oskar Höcker"
          ],
          [
           "Die verbotene Frucht",
           "Oskar Höcker"
          ],
          [
           "Erfindung der Buchdruckerkunst",
           "Oskar Höcker"
          ],
          [
           "Lebendig begraben",
           "Oskar Höcker"
          ],
          [
           "Närrische Käuze",
           "Oskar Höcker"
          ],
          [
           "Aus dem Tagebuch eines Hundes",
           "Oskar Panizza"
          ],
          [
           "Dämmrungsstücke",
           "Oskar Panizza"
          ],
          [
           "Das Verbrechen in Tavistock-Square",
           "Oskar Panizza"
          ],
          [
           "Visionen",
           "Oskar Panizza"
          ],
          [
           "Der Rosenkavalier",
           "Ossip Schubin, eigentlich Lola Kirschner"
          ],
          [
           "Es fiel ein Reif in der Frühlingsnacht",
           "Ossip Schubin, eigentlich Lola Kirschner"
          ],
          [
           "Gräfin Erikas Lehr- und Wanderjahre",
           "Ossip Schubin, eigentlich Lola Kirschner"
          ],
          [
           "Marška",
           "Ossip Schubin, eigentlich Lola Kirschner"
          ],
          [
           "Maximum",
           "Ossip Schubin, eigentlich Lola Kirschner"
          ],
          [
           "Peterl",
           "Ossip Schubin, eigentlich Lola Kirschner"
          ],
          [
           "Schatten",
           "Ossip Schubin, eigentlich Lola Kirschner"
          ],
          [
           "Aus dem Frauenleben",
           "Ottilie Wildermuth"
          ],
          [
           "Bilder und Geschichten aus Schwaben",
           "Ottilie Wildermuth"
          ],
          [
           "Cherubino und Zephirine",
           "Ottilie Wildermuth"
          ],
          [
           "Das Bäumlein im Walde",
           "Ottilie Wildermuth"
          ],
          [
           "Das Feental",
           "Ottilie Wildermuth"
          ],
          [
           "Der Peterli von Emmental",
           "Ottilie Wildermuth"
          ],
          [
           "Die alte Freundin",
           "Ottilie Wildermuth"
          ],
          [
           "Die Lehrjahre der zwei Schwestern",
           "Ottilie Wildermuth"
          ],
          [
           "Die Verschmähte",
           "Ottilie Wildermuth"
          ],
          [
           "Ein Herbsttag bei Weinsberg",
           "Ottilie Wildermuth"
          ],
          [
           "Ein sonnenloses Leben",
           "Ottilie Wildermuth"
          ],
          [
           "Eine Königin",
           "Ottilie Wildermuth"
          ],
          [
           "Frau Luna",
           "Ottilie Wildermuth"
          ],
          [
           "Jugendgabe",
           "Ottilie Wildermuth"
          ],
          [
           "Krieg und Frieden",
           "Ottilie Wildermuth"
          ],
          [
           "Mädchenbriefe",
           "Ottilie Wildermuth"
          ],
          [
           "Morgen, Mittag und Abend",
           "Ottilie Wildermuth"
          ],
          [
           "Perlen aus dem Sande",
           "Ottilie Wildermuth"
          ],
          [
           "Todte Treue",
           "Ottilie Wildermuth"
          ],
          [
           "Unabhängigkeit",
           "Ottilie Wildermuth"
          ],
          [
           "Der bunte Vogel",
           "Otto Erich Hartleben"
          ],
          [
           "Die Geschichte vom abgerissenen Knopfe",
           "Otto Erich Hartleben"
          ],
          [
           "Die Serényi",
           "Otto Erich Hartleben"
          ],
          [
           "Vom Gastfreien Pastor",
           "Otto Erich Hartleben"
          ],
          [
           "Appelschnut",
           "Otto Ernst, eigentlich Otto Ernst Schmidt"
          ],
          [
           "Asmus Sempers Jugendland",
           "Otto Ernst, eigentlich Otto Ernst Schmidt"
          ],
          [
           "Der süße Willy",
           "Otto Ernst, eigentlich Otto Ernst Schmidt"
          ],
          [
           "Die Kunstreise nach Hümpeldorf",
           "Otto Ernst, eigentlich Otto Ernst Schmidt"
          ],
          [
           "Ein frohes Farbenspiel",
           "Otto Ernst, eigentlich Otto Ernst Schmidt"
          ],
          [
           "Himmel voller Geigen",
           "Otto Ernst, eigentlich Otto Ernst Schmidt"
          ],
          [
           "Semper der Jüngling",
           "Otto Ernst, eigentlich Otto Ernst Schmidt"
          ],
          [
           "Semper der Mann",
           "Otto Ernst, eigentlich Otto Ernst Schmidt"
          ],
          [
           "Das schöne Mädchen von Pao",
           "Otto Julius Bierbaum"
          ],
          [
           "Die Freiersfahrten und Freiersmeinungen des weiberfeindlichen Herrn Pankrazius Graunzer",
           "Otto Julius Bierbaum"
          ],
          [
           "Prinz Kuckuck",
           "Otto Julius Bierbaum"
          ],
          [
           "Stilpe. Ein Roman aus der Froschperspektive",
           "Otto Julius Bierbaum"
          ],
          [
           "Studenten-Beichten",
           "Otto Julius Bierbaum"
          ],
          [
           "Die Heiteretei und ihr Widerspiel",
           "Otto Ludwig"
          ],
          [
           "Erzählungen",
           "Otto Roquette"
          ],
          [
           "Luginsland",
           "Otto Roquette"
          ],
          [
           "Orion",
           "Otto Roquette"
          ],
          [
           "Das Vermächtnis des Pedlars",
           "Otto Ruppius"
          ],
          [
           "Der Pedlar",
           "Otto Ruppius"
          ],
          [
           "Allerleirauh",
           "Otto Stoessl"
          ],
          [
           "Die Schmiere",
           "Otto Stoessl"
          ],
          [
           "Egon und Danitza",
           "Otto Stoessl"
          ],
          [
           "Johannes Freudensprung",
           "Otto Stoessl"
          ],
          [
           "Menschendämmerung",
           "Otto Stoessl"
          ],
          [
           "Morgenrot",
           "Otto Stoessl"
          ],
          [
           "Nachtgeschichten",
           "Otto Stoessl"
          ],
          [
           "Negerkönigs Tochter",
           "Otto Stoessl"
          ],
          [
           "Sonjas letzter Name",
           "Otto Stoessl"
          ],
          [
           "Der Fremdling",
           "Paul Enderling"
          ],
          [
           "Das Glück von Lautenthal",
           "Paul Ernst"
          ],
          [
           "Der Nobelpreis",
           "Paul Ernst"
          ],
          [
           "Der Schatz im Morgenbrotstal",
           "Paul Ernst"
          ],
          [
           "Der schmale Weg zum Glück",
           "Paul Ernst"
          ],
          [
           "Der Tod des Cosimo",
           "Paul Ernst"
          ],
          [
           "Die Taufe",
           "Paul Ernst"
          ],
          [
           "Geschichten von deutscher Art",
           "Paul Ernst"
          ],
          [
           "Komödianten- und Spitzbubengeschichten",
           "Paul Ernst"
          ],
          [
           "Prinzessin des Ostens",
           "Paul Ernst"
          ],
          [
           "Achtzehnte Sammlung der Novellen",
           "Paul Heyse"
          ],
          [
           "Andrea Delfin",
           "Paul Heyse"
          ],
          [
           "Crone Stäudlin",
           "Paul Heyse"
          ],
          [
           "Der Novellen zehnte Sammlung",
           "Paul Heyse"
          ],
          [
           "Der Sohn seines Vaters und andere Novellen",
           "Paul Heyse"
          ],
          [
           "Dreizehnte Sammlung der Novellen",
           "Paul Heyse"
          ],
          [
           "Einzelne Novellen",
           "Paul Heyse"
          ],
          [
           "Elfte Sammlung der Novellen",
           "Paul Heyse"
          ],
          [
           "Fünf neue Novellen. Sechste Sammlung",
           "Paul Heyse"
          ],
          [
           "Fünfte Sammlung der Novellen",
           "Paul Heyse"
          ],
          [
           "Fünfzehnte Sammlung der Novellen",
           "Paul Heyse"
          ],
          [
           "Gegen den Strom",
           "Paul Heyse"
          ],
          [
           "Kinder der Welt",
           "Paul Heyse"
          ],
          [
           "L' Arrabbiata",
           "Paul Heyse"
          ],
          [
           "Letzte Novellen",
           "Paul Heyse"
          ],
          [
           "Melusine und andere Novellen",
           "Paul Heyse"
          ],
          [
           "Moralische Novellen. Achte Sammlung",
           "Paul Heyse"
          ],
          [
           "Moralische Unmöglichkeiten und andere Novellen",
           "Paul Heyse"
          ],
          [
           "Neue Novellen [2. Sammlung]",
           "Paul Heyse"
          ],
          [
           "Neunte Sammlung der Novellen",
           "Paul Heyse"
          ],
          [
           "Ninon und andere Novellen",
           "Paul Heyse"
          ],
          [
           "Novellen [1. Sammlung]",
           "Paul Heyse"
          ],
          [
           "Novellen in Versen",
           "Paul Heyse"
          ],
          [
           "Novellen und Terzinen. Siebente Sammlung der Novellen",
           "Paul Heyse"
          ],
          [
           "Novellen vom Gardasee",
           "Paul Heyse"
          ],
          [
           "Sechzehnte Sammlung der Novellen",
           "Paul Heyse"
          ],
          [
           "Siebenzehnte Sammlung der Novellen",
           "Paul Heyse"
          ],
          [
           "Victoria regia und andere Novellen",
           "Paul Heyse"
          ],
          [
           "Vier neue Novellen. Dritte Sammlung",
           "Paul Heyse"
          ],
          [
           "Vier neue Novellen. Vierte Sammlung",
           "Paul Heyse"
          ],
          [
           "Vierzehnte Sammlung der Novellen",
           "Paul Heyse"
          ],
          [
           "Villa Falconieri und andere Novellen",
           "Paul Heyse"
          ],
          [
           "Zwölfte Sammlung der Novellen",
           "Paul Heyse"
          ],
          [
           "Altenroda",
           "Paul Keller"
          ],
          [
           "Das letzte Märchen",
           "Paul Keller"
          ],
          [
           "Von kleinen Leuten und großen Dingen",
           "Paul Keller"
          ],
          [
           "Blondes Gift",
           "Paul Langenscheidt"
          ],
          [
           "Graf Cohn",
           "Paul Langenscheidt"
          ],
          [
           "Kanaillen",
           "Paul Langenscheidt"
          ],
          [
           "Taumel",
           "Paul Langenscheidt"
          ],
          [
           "Der König von Sidon",
           "Paul Lindau"
          ],
          [
           "Die kleine Madonna",
           "Paul Lindau"
          ],
          [
           "Hängendes Moos",
           "Paul Lindau"
          ],
          [
           "Im Fieber",
           "Paul Lindau"
          ],
          [
           "Mayo",
           "Paul Lindau"
          ],
          [
           "Mein Freund Hilarius",
           "Paul Lindau"
          ],
          [
           "Toggenburg",
           "Paul Lindau"
          ],
          [
           "Tragische Geschichten",
           "Paul Lindau"
          ],
          [
           "Der Ruf aus dem Aether",
           "Paul Rosenhayn"
          ],
          [
           "Nachtanruf",
           "Paul Rosenhayn"
          ],
          [
           "Flora Mohr",
           "Paul Scheerbart"
          ],
          [
           "Immer mutig!",
           "Paul Scheerbart"
          ],
          [
           "Lesabéndio.",
           "Paul Scheerbart"
          ],
          [
           "Liwûna und Kaidôh. Ein Seelenroman",
           "Paul Scheerbart"
          ],
          [
           "Machtspäße.",
           "Paul Scheerbart"
          ],
          [
           "Tarub, Bagdads berühmte Köchin",
           "Paul Scheerbart"
          ],
          [
           "Der böse Baron von Krosigk",
           "Paul Schreckenbach"
          ],
          [
           "Der deutsche Herzog",
           "Paul Schreckenbach"
          ],
          [
           "Der getreue Kleist",
           "Paul Schreckenbach"
          ],
          [
           "Der König von Rothenburg",
           "Paul Schreckenbach"
          ],
          [
           "Die letzten Rudelsburger",
           "Paul Schreckenbach"
          ],
          [
           "Die von Wintzingerode",
           "Paul Schreckenbach"
          ],
          [
           "Michael Meyenburg",
           "Paul Schreckenbach"
          ],
          [
           "Um die Wartburg",
           "Paul Schreckenbach"
          ],
          [
           "Wildefüer",
           "Paul Schreckenbach"
          ],
          [
           "Die Schriften des Waldschulmeisters",
           "Peter Rosegger, eigentlich Roßegger"
          ],
          [
           "Felix der Begehrte",
           "Peter Rosegger, eigentlich Roßegger"
          ],
          [
           "Kleine Erzählungen",
           "Peter Rosegger, eigentlich Roßegger"
          ],
          [
           "Waldheimat. Erzählungen aus der Jugendzeit",
           "Peter Rosegger, eigentlich Roßegger"
          ],
          [
           "Zwei Menschen. Roman in Romanzen",
           "Richard Dehmel"
          ],
          [
           "Alpentragödie",
           "Richard Voß"
          ],
          [
           "Brutus, auch Du!",
           "Richard Voß"
          ],
          [
           "Die Mutter der Catonen",
           "Richard Voß"
          ],
          [
           "Die Rächerin und andere römische Novellen",
           "Richard Voß"
          ],
          [
           "Die Sabinerin",
           "Richard Voß"
          ],
          [
           "Felice Leste",
           "Richard Voß"
          ],
          [
           "Michael Cibula",
           "Richard Voß"
          ],
          [
           "Rolla",
           "Richard Voß"
          ],
          [
           "Römisches Fieber",
           "Richard Voß"
          ],
          [
           "Villa Falconieri",
           "Richard Voß"
          ],
          [
           "Zwei Menschen",
           "Richard Voß"
          ],
          [
           "Der heimliche Gast",
           "Robert Byr, eigentlich Karl Robert Emanuel von Bayer"
          ],
          [
           "Lydia",
           "Robert Byr, eigentlich Karl Robert Emanuel von Bayer"
          ],
          [
           "Das Engelchen. Erster Theil",
           "Robert Eduard Prutz"
          ],
          [
           "Die verscherzte Himmelsmacht",
           "Robert Fuchs-Liska"
          ],
          [
           "Hatzicho der Wolf",
           "Robert Fuchs-Liska"
          ],
          [
           "Um die Freiheit",
           "Robert Schweichel"
          ],
          [
           "Ums Herz",
           "Robert Schweichel"
          ],
          [
           "Trug-Gold",
           "Rudolf Baumbach"
          ],
          [
           "Der Opfergang",
           "Rudolf G. Binding"
          ],
          [
           "Die Geige",
           "Rudolf G. Binding"
          ],
          [
           "Im Banne des Schwarzen Adlers",
           "Rudolf Gottschall"
          ],
          [
           "Parasiten",
           "Rudolf Gottschall"
          ],
          [
           "Romeo und Julie am Pregel",
           "Rudolf Gottschall"
          ],
          [
           "Schulröschen",
           "Rudolf Gottschall"
          ],
          [
           "Die Einkommensteuer",
           "Rudolf Hawel"
          ],
          [
           "Dr. Thorns Lebensabend",
           "Rudolf Hawel"
          ],
          [
           "Im Reiche der Homunkuliden",
           "Rudolf Hawel"
          ],
          [
           "Das Glückspendel",
           "Rudolf Lindau"
          ],
          [
           "Der Gast",
           "Rudolf Lindau"
          ],
          [
           "Der Hamal",
           "Rudolf Lindau"
          ],
          [
           "Ein ganzes Leben",
           "Rudolf Lindau"
          ],
          [
           "Erzählungen aus dem Osten",
           "Rudolf Lindau"
          ],
          [
           "Liebesheiraten",
           "Rudolf Lindau"
          ],
          [
           "Liquidiert",
           "Rudolf Lindau"
          ],
          [
           "Morgenland und Abendland",
           "Rudolf Lindau"
          ],
          [
           "Schweigen",
           "Rudolf Lindau"
          ],
          [
           "Am Kaminfüür",
           "Rudolf von Tavel"
          ],
          [
           "Bernbiet",
           "Rudolf von Tavel"
          ],
          [
           "D' Haselmuus",
           "Rudolf von Tavel"
          ],
          [
           "De Houpme Lombach",
           "Rudolf von Tavel"
          ],
          [
           "Der Stärn vo Buebebärg",
           "Rudolf von Tavel"
          ],
          [
           "Götti und Gotteli",
           "Rudolf von Tavel"
          ],
          [
           "Gueti Gschpane",
           "Rudolf von Tavel"
          ],
          [
           "Heimgefunden",
           "Rudolf von Tavel"
          ],
          [
           "Heinz Tillmann",
           "Rudolf von Tavel"
          ],
          [
           "Jä gäll, so geit's",
           "Rudolf von Tavel"
          ],
          [
           "Meister und Ritter",
           "Rudolf von Tavel"
          ],
          [
           "Unspunne. Wie’s der Haselmuus wyter ergangen isch",
           "Rudolf von Tavel"
          ],
          [
           "Veteranezyt",
           "Rudolf von Tavel"
          ],
          [
           "Der graue Herrr",
           "Rudolph Stratz"
          ],
          [
           "Der mysteriöse Cavalier und andere Novellen",
           "Rudolph Stratz"
          ],
          [
           "Der weiße Tod",
           "Rudolph Stratz"
          ],
          [
           "Herzblut",
           "Rudolph Stratz"
          ],
          [
           "Hexenkessel",
           "Rudolph Stratz"
          ],
          [
           "Karussel Berlin",
           "Rudolph Stratz"
          ],
          [
           "König und Kärrner",
           "Rudolph Stratz"
          ],
          [
           "Madlene",
           "Rudolph Stratz"
          ],
          [
           "Montblanc",
           "Rudolph Stratz"
          ],
          [
           "Schloß Vogelöd",
           "Rudolph Stratz"
          ],
          [
           "Seine englische Frau",
           "Rudolph Stratz"
          ],
          [
           "Unter den Linden",
           "Rudolph Stratz"
          ],
          [
           "Der Ungemütliche",
           "Rupert Johann Hammerling"
          ],
          [
           "Die Waldsängerin",
           "Rupert Johann Hammerling"
          ],
          [
           "Mährchen und Erzählungen. Dritter Band",
           "Siegfried August Mahlmann"
          ],
          [
           "Mährchen und Erzählungen. Erster Band",
           "Siegfried August Mahlmann"
          ],
          [
           "Mährchen und Erzählungen. Zweiter Band",
           "Siegfried August Mahlmann"
          ],
          [
           "Sebastopol",
           "Sir John Retcliffe, eigentlich Hermann Goedsche"
          ],
          [
           "Das höfliche Gespenst",
           "Sophie Albrecht"
          ],
          [
           "Amanda und Eduard",
           "Sophie Mereau"
          ],
          [
           "Das Blüthenalter der Empfindung",
           "Sophie Mereau"
          ],
          [
           "Marie",
           "Sophie Mereau"
          ],
          [
           "Evremont",
           "Sophie Tieck"
          ],
          [
           "Wunderbilder und Träume",
           "Sophie Tieck"
          ],
          [
           "Erscheinungen am See Oneida",
           "Sophie von La Roche"
          ],
          [
           "Geschichte des Fräuleins von Sternheim",
           "Sophie von La Roche"
          ],
          [
           "Moralische Erzählungen",
           "Sophie von La Roche"
          ],
          [
           "Rosalie und Cleberg auf dem Lande",
           "Sophie von La Roche"
          ],
          [
           "Rosaliens Briefe an ihre Freundin Mariane von St**",
           "Sophie von La Roche"
          ],
          [
           "Onnen Visser - Der Schmugglersohn von Norderney",
           "Sophie Wörishöffer"
          ],
          [
           "Robert der Schiffsjunge",
           "Sophie Wörishöffer"
          ],
          [
           "Robert des Schiffsjungen Fahrten und Abenteuer auf der deutschen Handels- und Kriegsflotte",
           "Sophie Wörishöffer"
          ],
          [
           "Androgyne",
           "Stanisław Przybyszewski"
          ],
          [
           "De Profundis",
           "Stanisław Przybyszewski"
          ],
          [
           "Der Schrei",
           "Stanisław Przybyszewski"
          ],
          [
           "Homo sapiens",
           "Stanisław Przybyszewski"
          ],
          [
           "Satans Kinder",
           "Stanisław Przybyszewski"
          ],
          [
           "Totenmesse",
           "Stanisław Przybyszewski"
          ],
          [
           "Chefredakteur Roth führt Krieg",
           "Stefan Grossmann"
          ],
          [
           "Der Vorleser der Kaiserin",
           "Stefan Grossmann"
          ],
          [
           "Die Partei",
           "Stefan Grossmann"
          ],
          [
           "Herzliche Grüße",
           "Stefan Grossmann"
          ],
          [
           "Lenchen Demuth und andere Novellen",
           "Stefan Grossmann"
          ],
          [
           "Die Göttin mit der Fackel",
           "Theodor Däubler"
          ],
          [
           "L'Africana",
           "Theodor Däubler"
          ],
          [
           "Cécile",
           "Theodor Fontane"
          ],
          [
           "Der Stechlin",
           "Theodor Fontane"
          ],
          [
           "Die Poggenpuhls",
           "Theodor Fontane"
          ],
          [
           "Drei frühe Erzählungen",
           "Theodor Fontane"
          ],
          [
           "Ellernklipp",
           "Theodor Fontane"
          ],
          [
           "Frau Jenny Treibel",
           "Theodor Fontane"
          ],
          [
           "Graf Petöfy",
           "Theodor Fontane"
          ],
          [
           "Grete Minde",
           "Theodor Fontane"
          ],
          [
           "L'Adultera",
           "Theodor Fontane"
          ],
          [
           "Mathilde Möhring",
           "Theodor Fontane"
          ],
          [
           "Quitt",
           "Theodor Fontane"
          ],
          [
           "Stine",
           "Theodor Fontane"
          ],
          [
           "Unwiederbringlich",
           "Theodor Fontane"
          ],
          [
           "Vor dem Sturm",
           "Theodor Fontane"
          ],
          [
           "Die von Kelles",
           "Theodor Hermann Pantenius"
          ],
          [
           "Im Gottesländchen",
           "Theodor Hermann Pantenius"
          ],
          [
           "Philosophische Erzählungen",
           "Theodor Herzl"
          ],
          [
           "Der Vogt von Sylt",
           "Theodor Mügge"
          ],
          [
           "Randal",
           "Theodor Mügge"
          ],
          [
           "Romantische Studien",
           "Theodor Mügge"
          ],
          [
           "Schritt für Schritt",
           "Theodor Mügge"
          ],
          [
           "Weihnachtsabend",
           "Theodor Mügge"
          ],
          [
           "Madelon oder die Romantiker in Paris",
           "Theodor Mundt"
          ],
          [
           "Madonna. Unterhaltungen mit einer Heiligen",
           "Theodor Mundt"
          ],
          [
           "30 Novellen",
           "Theodor Storm"
          ],
          [
           "Auf dem Staatshof",
           "Theodor Storm"
          ],
          [
           "Auf der Universität",
           "Theodor Storm"
          ],
          [
           "Beim Vetter Christian",
           "Theodor Storm"
          ],
          [
           "Carsten Curator",
           "Theodor Storm"
          ],
          [
           "Der Herr Etatsrat",
           "Theodor Storm"
          ],
          [
           "Die Regentrude",
           "Theodor Storm"
          ],
          [
           "Die Söhne des Senators",
           "Theodor Storm"
          ],
          [
           "Draußen im Heidedorf",
           "Theodor Storm"
          ],
          [
           "Drei weitere kleine Erzählungen",
           "Theodor Storm"
          ],
          [
           "Dritter Band: Novellen",
           "Theodor Storm"
          ],
          [
           "Eekenhof",
           "Theodor Storm"
          ],
          [
           "Ein Bekenntnis",
           "Theodor Storm"
          ],
          [
           "Ein Fest auf Haderslevhuus",
           "Theodor Storm"
          ],
          [
           "Ein stiller Musikant",
           "Theodor Storm"
          ],
          [
           "Eine Halligfahrt",
           "Theodor Storm"
          ],
          [
           "Erster Band: Novellen",
           "Theodor Storm"
          ],
          [
           "Es waren zwei Königskinder",
           "Theodor Storm"
          ],
          [
           "Fünfter Band: Novellen",
           "Theodor Storm"
          ],
          [
           "Geschichten aus der Tonne",
           "Theodor Storm"
          ],
          [
           "Hans und Heinz Kirch",
           "Theodor Storm"
          ],
          [
           "Hinzelmeier",
           "Theodor Storm"
          ],
          [
           "Im Brauerhause",
           "Theodor Storm"
          ],
          [
           "Im Nachbarhause links",
           "Theodor Storm"
          ],
          [
           "Im Saal",
           "Theodor Storm"
          ],
          [
           "Im Schloß",
           "Theodor Storm"
          ],
          [
           "In St. Jürgen",
           "Theodor Storm"
          ],
          [
           "Marthe und ihre Uhr",
           "Theodor Storm"
          ],
          [
           "Neun Novellen und Erzählungen",
           "Theodor Storm"
          ],
          [
           "Pole Poppenspäler",
           "Theodor Storm"
          ],
          [
           "Psyche",
           "Theodor Storm"
          ],
          [
           "Renate",
           "Theodor Storm"
          ],
          [
           "Schweigen",
           "Theodor Storm"
          ],
          [
           "Sechster Band: Novellen",
           "Theodor Storm"
          ],
          [
           "Siebter Band: Novellen",
           "Theodor Storm"
          ],
          [
           "Sylter Novelle",
           "Theodor Storm"
          ],
          [
           "Veronika",
           "Theodor Storm"
          ],
          [
           "Vierter Band: Novellen",
           "Theodor Storm"
          ],
          [
           "Viola tricolor",
           "Theodor Storm"
          ],
          [
           "Waldwinkel",
           "Theodor Storm"
          ],
          [
           "weitere 8 Novellen",
           "Theodor Storm"
          ],
          [
           "Zur Chronik von Grieshuus",
           "Theodor Storm"
          ],
          [
           "Zur Wald- und Wasserfreude",
           "Theodor Storm"
          ],
          [
           "Zweiter Band: Novellen",
           "Theodor Storm"
          ],
          [
           "Des Achmüllers Recht",
           "Therese Winkler"
          ],
          [
           "Aus alter Truhe",
           "Timm Kröger"
          ],
          [
           "Dem unbekannten Gott",
           "Timm Kröger"
          ],
          [
           "Eine stille Welt",
           "Timm Kröger"
          ],
          [
           "Das Veferl vom Eibsee",
           "Tony Schumacher"
          ],
          [
           "Heimatzauber",
           "Tony Schumacher"
          ],
          [
           "Li und Lu und andere Erzählungen für die Jugend",
           "Tony Schumacher"
          ],
          [
           "Schwatzliesel und andere Erzählungen",
           "Tony Schumacher"
          ],
          [
           "Aus dem Leben eines Geringen",
           "Ulrich Hegner"
          ],
          [
           "Die Molkenkur",
           "Ulrich Hegner"
          ],
          [
           "Saly's Revolutionstage",
           "Ulrich Hegner"
          ],
          [
           "Der Kanzler Klaus von Bismarck",
           "Walter Flex"
          ],
          [
           "Novellen",
           "Walter Flex"
          ],
          [
           "Das Bild des Kaisers",
           "Wilhelm Hauff"
          ],
          [
           "Der Mann im Mond",
           "Wilhelm Hauff"
          ],
          [
           "Die Bettlerin vom Pont des Arts",
           "Wilhelm Hauff"
          ],
          [
           "Die Bettlerin vom Pont des Arts",
           "Wilhelm Hauff"
          ],
          [
           "Jud Süss",
           "Wilhelm Hauff"
          ],
          [
           "Lichtenstein",
           "Wilhelm Hauff"
          ],
          [
           "Lichtenstein",
           "Wilhelm Hauff"
          ],
          [
           "Mitteilungen aus den Memoiren des Satan",
           "Wilhelm Hauff"
          ],
          [
           "Mitteilungen aus den Memoiren des Satans",
           "Wilhelm Hauff"
          ],
          [
           "Novellen",
           "Wilhelm Hauff"
          ],
          [
           "Othello",
           "Wilhelm Hauff"
          ],
          [
           "Phantasien und Skizzen",
           "Wilhelm Hauff"
          ],
          [
           "Die Gerechtigkeit Gottes",
           "Wilhelm Heinrich Riehl"
          ],
          [
           "Durch tausend Jahre, Band 1",
           "Wilhelm Heinrich Riehl"
          ],
          [
           "Durch tausend Jahre, Band 2",
           "Wilhelm Heinrich Riehl"
          ],
          [
           "Durch tausend Jahre, Band 3",
           "Wilhelm Heinrich Riehl"
          ],
          [
           "Durch tausend Jahre, Band 4",
           "Wilhelm Heinrich Riehl"
          ],
          [
           "Ein ganzer Mann",
           "Wilhelm Heinrich Riehl"
          ],
          [
           "Kulturgeschichtliche Novellen",
           "Wilhelm Heinrich Riehl"
          ],
          [
           "Bruder Rausch",
           "Wilhelm Hertz"
          ],
          [
           "Die Siegfriedsage in ihrer nordischen Gestalt",
           "Wilhelm Hertz"
          ],
          [
           "Poetische Erzählungen",
           "Wilhelm Hertz"
          ],
          [
           "Erzählungen",
           "Wilhelm Holzamer"
          ],
          [
           "Im Dorf und Draußen",
           "Wilhelm Holzamer"
          ],
          [
           "Auf dem Vestenstein",
           "Wilhelm Jensen"
          ],
          [
           "Die Juden von Cölln",
           "Wilhelm Jensen"
          ],
          [
           "Eine Schachpartie",
           "Wilhelm Jensen"
          ],
          [
           "Gradiva",
           "Wilhelm Jensen"
          ],
          [
           "Karin von Schweden",
           "Wilhelm Jensen"
          ],
          [
           "Die Bernsteinhexe",
           "Wilhelm Meinhold"
          ],
          [
           "Heidenstamm",
           "Wilhelm Meyer-Förster"
          ],
          [
           "Lena S.",
           "Wilhelm Meyer-Förster"
          ],
          [
           "Der Kriminalkutter",
           "Wilhelm Poeck"
          ],
          [
           "Abu Telfan oder Die Heimkehr vom Mondgebirge",
           "Wilhelm Raabe"
          ],
          [
           "Alte Nester",
           "Wilhelm Raabe"
          ],
          [
           "Auf dem Altenteil",
           "Wilhelm Raabe"
          ],
          [
           "Der Dräumling",
           "Wilhelm Raabe"
          ],
          [
           "Der gute Tag",
           "Wilhelm Raabe"
          ],
          [
           "Der heilige Born",
           "Wilhelm Raabe"
          ],
          [
           "Der Hungerpastor",
           "Wilhelm Raabe"
          ],
          [
           "Der Schüdderump",
           "Wilhelm Raabe"
          ],
          [
           "Deutscher Adel",
           "Wilhelm Raabe"
          ],
          [
           "Deutscher Mondschein",
           "Wilhelm Raabe"
          ],
          [
           "Die Gänse von Bützow",
           "Wilhelm Raabe"
          ],
          [
           "Die Innerste",
           "Wilhelm Raabe"
          ],
          [
           "Die Leute aus dem Walde, ihre Sterne, Wege und Schicksale",
           "Wilhelm Raabe"
          ],
          [
           "Die schwarze Galeere",
           "Wilhelm Raabe"
          ],
          [
           "Ein Besuch",
           "Wilhelm Raabe"
          ],
          [
           "Eine Grabrede aus dem Jahr 1609",
           "Wilhelm Raabe"
          ],
          [
           "Else von der Tanne",
           "Wilhelm Raabe"
          ],
          [
           "Frau Salome",
           "Wilhelm Raabe"
          ],
          [
           "Halb Mär, halb mehr",
           "Wilhelm Raabe"
          ],
          [
           "Hastenbeck",
           "Wilhelm Raabe"
          ],
          [
           "Im alten Eisen",
           "Wilhelm Raabe"
          ],
          [
           "Keltische Knochen",
           "Wilhelm Raabe"
          ],
          [
           "Nach dem großen Kriege",
           "Wilhelm Raabe"
          ],
          [
           "Prinzessin Fisch",
           "Wilhelm Raabe"
          ],
          [
           "Unruhige Gäste",
           "Wilhelm Raabe"
          ],
          [
           "Verworrenes Leben. Novellen und Skizzen",
           "Wilhelm Raabe"
          ],
          [
           "Wunnigel",
           "Wilhelm Raabe"
          ],
          [
           "Der Grabenhäger",
           "Wilhelm von Polenz"
          ],
          [
           "Die Glocken von Krummseifenbach",
           "Wilhelm von Polenz"
          ],
          [
           "Wald",
           "Wilhelm von Polenz"
          ],
          [
           "Wurzellocker, Band 1",
           "Wilhelm von Polenz"
          ],
          [
           "Wurzellocker, Band 2",
           "Wilhelm von Polenz"
          ],
          [
           "Im Schatten des Todes",
           "Wilhelm Walloth"
          ],
          [
           "Als Kriegsfreiwilliger nach Frankreich",
           "Willibald Alexis, eigentlich Georg Wilhelm Heinrich Häring"
          ],
          [
           "Cabanis",
           "Willibald Alexis, eigentlich Georg Wilhelm Heinrich Häring"
          ],
          [
           "Der falsche Woldemar",
           "Willibald Alexis, eigentlich Georg Wilhelm Heinrich Häring"
          ],
          [
           "Die Geächteten",
           "Willibald Alexis, eigentlich Georg Wilhelm Heinrich Häring"
          ],
          [
           "Die Hosen des Herrn von Bredow",
           "Willibald Alexis, eigentlich Georg Wilhelm Heinrich Häring"
          ],
          [
           "Isegrimm",
           "Willibald Alexis, eigentlich Georg Wilhelm Heinrich Häring"
          ],
          [
           "Ja in Neapel",
           "Willibald Alexis, eigentlich Georg Wilhelm Heinrich Häring"
          ],
          [
           "Pommersche Gespenster",
           "Willibald Alexis, eigentlich Georg Wilhelm Heinrich Häring"
          ],
          [
           "Ruhe ist die erste Bürgerpflicht oder Vor Fünfzig Jahren",
           "Willibald Alexis, eigentlich Georg Wilhelm Heinrich Häring"
          ],
          [
           "Walladmor",
           "Willibald Alexis, eigentlich Georg Wilhelm Heinrich Häring"
          ],
          [
           "Das Leben auf der Walze",
           "Wolfgang Kirchbach"
          ]
         ],
         "hovertemplate": "token count=%{y}<br>title=%{customdata[0]}<br>author=%{customdata[1]}<extra></extra>",
         "legendgroup": "",
         "marker": {
          "color": "#053c6c"
         },
         "name": "",
         "notched": false,
         "offsetgroup": "",
         "orientation": "v",
         "showlegend": false,
         "type": "box",
         "x0": " ",
         "xaxis": "x",
         "y": [
          86212,
          78034,
          56559,
          44061,
          56559,
          44061,
          44055,
          17479,
          18145,
          50215,
          32099,
          78530,
          122819,
          28288,
          45027,
          30005,
          27021,
          41175,
          54368,
          31241,
          32262,
          40219,
          14328,
          42290,
          13381,
          32206,
          56562,
          46838,
          69935,
          80233,
          41800,
          76949,
          76300,
          87534,
          43178,
          44128,
          45336,
          52956,
          42440,
          37136,
          44004,
          35961,
          63535,
          62835,
          67424,
          26751,
          32286,
          32286,
          69213,
          69213,
          49943,
          46825,
          74700,
          21506,
          74700,
          30137,
          26687,
          23068,
          28883,
          73951,
          73951,
          81411,
          57902,
          57902,
          31651,
          31403,
          68195,
          92546,
          39055,
          36306,
          36854,
          36854,
          50485,
          51954,
          66605,
          37869,
          39702,
          37687,
          41929,
          58574,
          27660,
          74051,
          105979,
          105979,
          105869,
          103207,
          21736,
          83103,
          83103,
          98808,
          95009,
          7955,
          126228,
          126228,
          95136,
          95136,
          21501,
          21422,
          54849,
          16973,
          65014,
          68503,
          57768,
          30544,
          33659,
          77028,
          148970,
          153752,
          140073,
          148970,
          153752,
          140073,
          52767,
          36398,
          39069,
          45732,
          123885,
          123885,
          92204,
          92204,
          104191,
          100341,
          99083,
          92142,
          108206,
          106562,
          124846,
          124846,
          98981,
          98981,
          39420,
          55585,
          40873,
          126778,
          126778,
          127249,
          127249,
          67366,
          38094,
          41209,
          35374,
          31407,
          48941,
          143220,
          143220,
          136785,
          136785,
          9927,
          50770,
          49532,
          62162,
          73307,
          57046,
          157183,
          171453,
          76573,
          180327,
          145064,
          44121,
          20146,
          89666,
          71283,
          88198,
          78047,
          82308,
          129012,
          129012,
          136778,
          136778,
          49495,
          43518,
          53941,
          48924,
          43472,
          52641,
          37838,
          53863,
          61101,
          72314,
          2229,
          13964,
          9318,
          46802,
          46504,
          25085,
          35234,
          69744,
          12228,
          57157,
          51306,
          56382,
          58126,
          24384,
          82148,
          79249,
          51543,
          30330,
          88668,
          42249,
          32940,
          40352,
          17832,
          19882,
          52207,
          39528,
          25198,
          100304,
          60640,
          54230,
          51643,
          64154,
          150331,
          36383,
          74586,
          123653,
          7019,
          96367,
          62058,
          89529,
          117091,
          61225,
          126384,
          23498,
          32214,
          32410,
          20767,
          21427,
          25899,
          17982,
          15719,
          22294,
          19355,
          16951,
          20245,
          15209,
          14437,
          20820,
          8067,
          23365,
          27716,
          12800,
          15818,
          10063,
          15302,
          10983,
          13588,
          26696,
          18321,
          26853,
          10060,
          13262,
          44891,
          14875,
          15301,
          21155,
          3329,
          28446,
          16911,
          14729,
          44963,
          17548,
          17972,
          27627,
          14034,
          48992,
          9096,
          7498,
          32527,
          36254,
          9782,
          17390,
          15715,
          23861,
          29342,
          24987,
          5974,
          25223,
          153823,
          103775,
          17969,
          87923,
          13071,
          28327,
          40367,
          87681,
          6676,
          3789,
          39803,
          3861,
          3150,
          3241,
          23916,
          12278,
          9402,
          9543,
          12754,
          21037,
          20283,
          376513,
          276606,
          58046,
          82497,
          104385,
          91979,
          84643,
          77210,
          84782,
          2297,
          90739,
          67997,
          99501,
          7180,
          12708,
          2054,
          3452,
          8451,
          30169,
          53024,
          55576,
          142771,
          92442,
          39237,
          21321,
          15159,
          214056,
          236598,
          69574,
          39923,
          86940,
          141502,
          30413,
          43603,
          91894,
          24404,
          94065,
          33037,
          47979,
          26840,
          10607,
          15242,
          18607,
          11685,
          73037,
          35093,
          51294,
          24020,
          29559,
          26737,
          28864,
          58746,
          32169,
          824,
          2546,
          3547,
          36781,
          36532,
          6035,
          6835,
          2712,
          2723,
          8937,
          6474,
          2543,
          1853,
          9521,
          7167,
          7134,
          7776,
          3156,
          2874,
          4185,
          4465,
          118087,
          3914,
          2163,
          1724,
          1505,
          19269,
          5844,
          3262,
          4428,
          564,
          11444,
          12924,
          7310,
          6408,
          8332,
          35163,
          6565,
          3484,
          1423,
          1657,
          3379,
          31217,
          27943,
          50516,
          960,
          4493,
          13303,
          4052,
          12701,
          28989,
          29866,
          97116,
          26534,
          2515,
          1438,
          2651,
          17996,
          17489,
          41751,
          29675,
          89139,
          50151,
          65247,
          80569,
          48871,
          60725,
          47205,
          47466,
          93962,
          777,
          54201,
          56018,
          82429,
          72197,
          37135,
          25653,
          20270,
          28400,
          45531,
          211098,
          55855,
          59861,
          133992,
          138261,
          77954,
          133906,
          109984,
          138107,
          123198,
          93965,
          57612,
          117311,
          136655,
          86496,
          84761,
          65448,
          83066,
          71719,
          70831,
          52777,
          78212,
          134233,
          4790,
          18171,
          5817,
          91017,
          129372,
          56923,
          71729,
          93242,
          150048,
          68980,
          53640,
          102470,
          36689,
          3908,
          986,
          73632,
          39923,
          17006,
          12646,
          41921,
          192941,
          33230,
          7877,
          41871,
          26949,
          48159,
          69517,
          17125,
          33867,
          20563,
          4907,
          38538,
          6228,
          14746,
          145852,
          80632,
          86167,
          112045,
          27363,
          21099,
          5796,
          3787,
          15602,
          4221,
          39953,
          72710,
          37045,
          22722,
          32936,
          57337,
          96439,
          45181,
          20446,
          27667,
          145471,
          84151,
          296977,
          118558,
          122701,
          21090,
          3240,
          19263,
          4082,
          43432,
          104267,
          27439,
          14048,
          4111,
          13823,
          12424,
          138858,
          38216,
          19731,
          17558,
          43109,
          15040,
          27852,
          22876,
          38303,
          14466,
          75364,
          9409,
          2290,
          2685,
          3962,
          32868,
          5090,
          3953,
          3126,
          341,
          5562,
          4712,
          3555,
          2311,
          41198,
          23879,
          2544,
          37444,
          3643,
          59291,
          72505,
          47921,
          56669,
          61454,
          61005,
          21106,
          72118,
          72268,
          47352,
          15603,
          149866,
          34362,
          58190,
          57687,
          90384,
          92125,
          123249,
          97405,
          100696,
          20120,
          102815,
          132836,
          121873,
          19663,
          149067,
          35742,
          45791,
          122348,
          112124,
          95474,
          101288,
          107978,
          97516,
          47348,
          13257,
          21944,
          5687,
          188909,
          18399,
          47618,
          29850,
          22849,
          13049,
          16614,
          45662,
          81491,
          82838,
          49234,
          25331,
          39875,
          63178,
          27532,
          20965,
          24734,
          3367,
          3655,
          4021,
          26628,
          49038,
          40972,
          63066,
          31584,
          117503,
          6056,
          82553,
          204576,
          270457,
          40807,
          79979,
          4160,
          131405,
          12644,
          7920,
          108377,
          136703,
          4717,
          32936,
          7745,
          58268,
          43591,
          103339,
          8798,
          54686,
          49021,
          37578,
          21735,
          206252,
          32500,
          21707,
          29441,
          29262,
          21778,
          23661,
          22714,
          30559,
          35203,
          32146,
          95149,
          357014,
          60147,
          83923,
          86104,
          44033,
          110810,
          68613,
          115244,
          71723,
          57190,
          161955,
          46212,
          60509,
          61789,
          69595,
          87091,
          12103,
          15773,
          9856,
          19826,
          10295,
          35664,
          172147,
          96277,
          107618,
          55181,
          23083,
          1947,
          28024,
          1115,
          114933,
          13407,
          77924,
          78605,
          40395,
          6780,
          60463,
          90185,
          91688,
          114578,
          1112,
          112311,
          109016,
          5409,
          46098,
          49764,
          53832,
          100835,
          43013,
          47813,
          71041,
          53879,
          174901,
          96762,
          10135,
          35299,
          49597,
          181836,
          63697,
          15379,
          176670,
          7823,
          3561,
          44605,
          8406,
          80892,
          112320,
          3553,
          16866,
          11280,
          10313,
          31601,
          10191,
          2810,
          178656,
          154920,
          9540,
          159515,
          23530,
          7305,
          137293,
          5268,
          11515,
          11059,
          10553,
          132310,
          160134,
          133534,
          2866,
          36614,
          90062,
          187832,
          45342,
          130565,
          32173,
          6729,
          9037,
          1890,
          16391,
          132456,
          6580,
          82794,
          140614,
          185279,
          115888,
          39384,
          2321,
          11049,
          8174,
          3654,
          1702,
          1172,
          3540,
          4642,
          4365,
          2311,
          18009,
          999,
          7189,
          12414,
          78400,
          7426,
          7809,
          12403,
          29356,
          145416,
          89111,
          136271,
          95810,
          52663,
          40968,
          59146,
          24155,
          57304,
          114134,
          68888,
          103102,
          278094,
          37422,
          69014,
          46580,
          164225,
          136837,
          56338,
          78019,
          133094,
          95291,
          143328,
          38786,
          78777,
          167620,
          60396,
          15061,
          19593,
          84084,
          371938,
          77093,
          45505,
          101388,
          1019,
          91945,
          145943,
          154056,
          141041,
          117295,
          26577,
          51188,
          92713,
          26326,
          25442,
          337,
          74699,
          73400,
          60828,
          46293,
          92065,
          43320,
          108388,
          40813,
          37159,
          36673,
          40888,
          58736,
          73913,
          116296,
          34957,
          43811,
          48650,
          83122,
          71152,
          52407,
          35456,
          79371,
          38665,
          35460,
          70514,
          41334,
          33697,
          55768,
          51842,
          16784,
          18121,
          45310,
          74473,
          96716,
          43018,
          109768,
          206711,
          63149,
          103362,
          65136,
          38394,
          77555,
          33534,
          35506,
          389968,
          255559,
          285056,
          149836,
          130367,
          146224,
          8784,
          13676,
          97892,
          100989,
          19933,
          51945,
          44124,
          49447,
          84257,
          68345,
          69683,
          174706,
          54103,
          140251,
          107803,
          23781,
          44397,
          64062,
          88338,
          81033,
          20259,
          31896,
          38504,
          41703,
          8210,
          42075,
          1792,
          56633,
          16661,
          25836,
          20467,
          39401,
          19772,
          150144,
          3146,
          2900,
          15348,
          17944,
          82784,
          77812,
          75434,
          23151,
          55869,
          68028,
          66819,
          13062,
          23532,
          40851,
          102502,
          15062,
          27466,
          29196,
          136335,
          6583,
          63818,
          36370,
          19586,
          39578,
          88174,
          30207,
          30568,
          68628,
          105528,
          16514,
          43321,
          38383,
          95002,
          76246,
          10949,
          17186,
          19527,
          77204,
          49212,
          2595,
          239226,
          6983,
          11609,
          40057,
          55234,
          18213,
          67122,
          27219,
          99600,
          55849,
          33099,
          70130,
          75378,
          49518,
          56024,
          60388,
          26400,
          131106,
          150935,
          20426,
          155815,
          66895,
          78312,
          40583,
          81063,
          41925,
          45332,
          54738,
          78595,
          48931,
          31364,
          47145,
          22351,
          6374,
          35729,
          3958,
          4724,
          3564,
          68512,
          95737,
          96637,
          58163,
          71900,
          85619,
          82203,
          81057,
          76667,
          121340,
          112998,
          113931,
          3669,
          76662,
          50336,
          52002,
          77598,
          24488,
          40387,
          44758,
          37608,
          17204,
          94025,
          74679,
          53926,
          102018,
          75275,
          78834,
          89124,
          6431,
          6546,
          8130,
          95863,
          14625,
          16080,
          9713,
          3448,
          5492,
          10569,
          7763,
          48979,
          131238,
          244892,
          159913,
          13203,
          33364,
          172357,
          37325,
          108897,
          80930,
          86663,
          3002,
          38106,
          93453,
          193929,
          107864,
          49153,
          34325,
          43853,
          9617,
          148181,
          4311,
          25930,
          15765,
          30413,
          9745,
          136308,
          55144,
          152357,
          28319,
          135962,
          34825,
          5052,
          9177,
          8460,
          4979,
          1669,
          1522,
          2097,
          16117,
          10298,
          8393,
          4118,
          686,
          13645,
          97079,
          57630,
          48887,
          47696,
          45555,
          101688,
          39308,
          132566,
          2674,
          2129,
          2541,
          1049,
          18140,
          5957,
          1691,
          4690,
          4113,
          2512,
          6600,
          82108,
          3322,
          7121,
          4977,
          9478,
          97079,
          122804,
          49329,
          153053,
          40060,
          112670,
          38009,
          52364,
          51225,
          93185,
          84078,
          171659,
          53848,
          224270,
          36423,
          59505,
          31828,
          36423,
          31390,
          6095,
          12351,
          13822,
          6902,
          5086,
          22088,
          10466,
          17686,
          17154,
          149880,
          76512,
          65321,
          155168,
          39504,
          90235,
          22691,
          140345,
          72207,
          140897,
          59390,
          61715,
          61799,
          109893,
          68377,
          18328,
          83705,
          10644,
          36069,
          770546,
          23816,
          24801,
          24906,
          13844,
          50252,
          129446,
          144127,
          122213,
          26616,
          16416,
          47185,
          117615,
          235314,
          219390,
          40675,
          51004,
          54868,
          52428,
          51305,
          36846,
          48909,
          36939,
          19300,
          26792,
          56507,
          78074,
          25044,
          79191,
          78625,
          87243,
          52717,
          17498,
          36466,
          71763,
          42957,
          38052,
          38129,
          23942,
          103731,
          7255,
          11886,
          25842,
          45451,
          44491,
          5677,
          51583,
          1269,
          21775,
          38518,
          32989,
          15237,
          90047,
          59747,
          13419,
          77313,
          83041,
          87084,
          21843,
          48842,
          51664,
          116911,
          67171,
          37360,
          71156,
          23661,
          51301,
          72245,
          154937,
          118936,
          47216,
          45663,
          37715,
          20192,
          33321,
          117200,
          147173,
          46351,
          159892,
          14157,
          164968,
          2780,
          16125,
          86464,
          10655,
          97292,
          9403,
          6514,
          1676,
          6973,
          2018,
          25155,
          2192,
          11320,
          370057,
          52862,
          131945,
          175540,
          61058,
          165985,
          363935,
          36969,
          29267,
          79180,
          55976,
          56511,
          8719,
          19398,
          57866,
          4828,
          15905,
          6448,
          47488,
          126625,
          7879,
          3218,
          28361,
          36893,
          17107,
          94203,
          40717,
          50,
          31463,
          102682,
          25080,
          31233,
          68873,
          49907,
          65690,
          37044,
          46729,
          47531,
          37889,
          44906,
          84932,
          43305,
          8377,
          14929,
          38142,
          34436,
          22645,
          11408,
          46574,
          16550,
          18985,
          19760,
          7851,
          51645,
          7428,
          18511,
          17260,
          47032,
          3472,
          80115,
          117383,
          89599,
          137891,
          43159,
          65645,
          66220,
          20199,
          8859,
          14651,
          21573,
          13013,
          15498,
          3756,
          73241,
          27759,
          16443,
          6280,
          316218,
          9891,
          3955,
          35282,
          11593,
          24740,
          60589,
          16772,
          31335,
          17903,
          19096,
          35563,
          42151,
          55425,
          40599,
          26443,
          26277,
          231458,
          11278,
          8247,
          13271,
          49498,
          1542,
          55363,
          36627,
          184679,
          31864,
          85124,
          144374,
          24474,
          46798,
          47904,
          17572,
          46074,
          12678,
          6822,
          77381,
          46100,
          52263,
          129954,
          108805,
          290519,
          12072,
          52756,
          12098,
          14982,
          11729,
          10975,
          41379,
          11354,
          50400,
          54382,
          70334,
          43267,
          24737,
          31575,
          15233,
          54533,
          3127,
          53945,
          44454,
          24035,
          130490,
          29290,
          64288,
          24368,
          30751,
          39368,
          82740,
          13401,
          5097,
          6411,
          13850,
          80539,
          22082,
          15382,
          11702,
          17012,
          14582,
          13397,
          64156,
          6965,
          21111,
          23016,
          100325,
          18461,
          24063,
          1911,
          9106,
          40837,
          5286,
          42473,
          70363,
          9341,
          24257,
          32173,
          23131,
          78267,
          93405,
          33957,
          52867,
          237220,
          59313,
          25962,
          83944,
          80526,
          121582,
          68576,
          82358,
          76943,
          30392,
          16771,
          28751,
          18217,
          76381,
          111178,
          66520,
          30132,
          58089,
          55030,
          71022,
          72260,
          35435,
          99818,
          37100,
          73780,
          88087,
          108274,
          68720,
          68774,
          28497,
          72910,
          68279,
          77980,
          77631,
          73926,
          63637,
          90515,
          97849,
          63669,
          65219,
          231394,
          7055,
          51830,
          92869,
          97667,
          88104,
          61722,
          121202,
          96322,
          44067,
          56293,
          56699,
          93656,
          70297,
          56381,
          88987,
          60520,
          80150,
          74783,
          81857,
          81116,
          45592,
          66800,
          59561,
          59595,
          67171,
          66097,
          60257,
          30813,
          9043,
          61056,
          34854,
          34800,
          14883,
          18313,
          33515,
          40892,
          58030,
          7449,
          55542,
          50479,
          19225,
          8827,
          56375,
          95547,
          73926,
          72260,
          70081,
          64225,
          94879,
          84288,
          61184,
          94379,
          17117,
          17365,
          30706,
          373757,
          26077,
          92925,
          98047,
          14413,
          47281,
          23094,
          3361,
          99352,
          104411,
          116277,
          74585,
          82893,
          63008,
          56531,
          55282,
          79913,
          90826,
          182260,
          8360,
          64981,
          10920,
          37202,
          184154,
          103987,
          38562,
          35177,
          449,
          94537,
          84647,
          9935,
          40694,
          3686,
          8412,
          55283,
          47353,
          34096,
          25136,
          15110,
          61226,
          71654,
          67050,
          64066,
          69657,
          64440,
          71048,
          27131,
          89781,
          42877,
          97215,
          84366,
          101123,
          52527,
          91643,
          51660,
          95194,
          90648,
          81687,
          86457,
          58384,
          61305,
          76601,
          113820,
          41980,
          1864,
          9168,
          25142,
          28142,
          26576,
          330976,
          16277,
          53305,
          16322,
          11837,
          227669,
          55462,
          103707,
          100062,
          90535,
          80689,
          230637,
          202580,
          187884,
          220737,
          16583,
          18148,
          30580,
          109468,
          47256,
          11723,
          71918,
          21512,
          79387,
          28367,
          28915,
          49073,
          36419,
          57941,
          128715,
          33209,
          15927,
          39883,
          60819,
          61438,
          33875,
          45589,
          33620,
          83621,
          30617,
          84025,
          229819,
          132843,
          85592,
          48598,
          83091,
          272609,
          37078,
          50225,
          58875,
          44003,
          30190,
          235661,
          10981,
          19693,
          8771,
          20052,
          14727,
          8967,
          12881,
          10509,
          18692,
          91552,
          13239,
          16950,
          21790,
          10064,
          8658,
          40573,
          11265,
          93831,
          2636,
          22967,
          7657,
          9595,
          9675,
          2097,
          15320,
          12983,
          2072,
          82373,
          17640,
          10217,
          20564,
          20591,
          117807,
          117864,
          982,
          4370,
          100312,
          9937,
          17303,
          90302,
          30133,
          17583,
          102408,
          28554,
          79636,
          83743,
          76138,
          31944,
          50527,
          50010,
          20559,
          6388,
          67465,
          55297,
          84848,
          26229,
          31614,
          80590,
          37385,
          36609,
          24874,
          129827,
          111078,
          26816,
          90462,
          144518,
          14701,
          42088,
          84016,
          133010,
          137632,
          134966,
          116296,
          62806,
          97013,
          11044,
          2231,
          37164,
          23185,
          33188,
          45351,
          58743,
          10766,
          25114,
          45589,
          68422,
          53787,
          49716,
          41314,
          120687,
          86095,
          3208,
          57230,
          9609,
          99993,
          146971,
          119783,
          47913,
          6341,
          24553,
          28897,
          130410,
          16335,
          2719,
          6540,
          11920,
          30516,
          36176,
          61273,
          57096,
          11233,
          38960,
          60846,
          49275,
          53386,
          50192,
          156517,
          5196,
          37052,
          59971,
          59624,
          83701,
          55288,
          127584,
          220774,
          51539,
          110186,
          229712,
          28823,
          11357,
          352551,
          152532,
          94393
         ],
         "y0": " ",
         "yaxis": "y"
        }
       ],
       "layout": {
        "boxmode": "group",
        "height": 500,
        "legend": {
         "tracegroupgap": 0
        },
        "paper_bgcolor": "#feba67",
        "plot_bgcolor": "#ffbb91",
        "template": {
         "data": {
          "bar": [
           {
            "error_x": {
             "color": "#2a3f5f"
            },
            "error_y": {
             "color": "#2a3f5f"
            },
            "marker": {
             "line": {
              "color": "#E5ECF6",
              "width": 0.5
             },
             "pattern": {
              "fillmode": "overlay",
              "size": 10,
              "solidity": 0.2
             }
            },
            "type": "bar"
           }
          ],
          "barpolar": [
           {
            "marker": {
             "line": {
              "color": "#E5ECF6",
              "width": 0.5
             },
             "pattern": {
              "fillmode": "overlay",
              "size": 10,
              "solidity": 0.2
             }
            },
            "type": "barpolar"
           }
          ],
          "carpet": [
           {
            "aaxis": {
             "endlinecolor": "#2a3f5f",
             "gridcolor": "white",
             "linecolor": "white",
             "minorgridcolor": "white",
             "startlinecolor": "#2a3f5f"
            },
            "baxis": {
             "endlinecolor": "#2a3f5f",
             "gridcolor": "white",
             "linecolor": "white",
             "minorgridcolor": "white",
             "startlinecolor": "#2a3f5f"
            },
            "type": "carpet"
           }
          ],
          "choropleth": [
           {
            "colorbar": {
             "outlinewidth": 0,
             "ticks": ""
            },
            "type": "choropleth"
           }
          ],
          "contour": [
           {
            "colorbar": {
             "outlinewidth": 0,
             "ticks": ""
            },
            "colorscale": [
             [
              0,
              "#0d0887"
             ],
             [
              0.1111111111111111,
              "#46039f"
             ],
             [
              0.2222222222222222,
              "#7201a8"
             ],
             [
              0.3333333333333333,
              "#9c179e"
             ],
             [
              0.4444444444444444,
              "#bd3786"
             ],
             [
              0.5555555555555556,
              "#d8576b"
             ],
             [
              0.6666666666666666,
              "#ed7953"
             ],
             [
              0.7777777777777778,
              "#fb9f3a"
             ],
             [
              0.8888888888888888,
              "#fdca26"
             ],
             [
              1,
              "#f0f921"
             ]
            ],
            "type": "contour"
           }
          ],
          "contourcarpet": [
           {
            "colorbar": {
             "outlinewidth": 0,
             "ticks": ""
            },
            "type": "contourcarpet"
           }
          ],
          "heatmap": [
           {
            "colorbar": {
             "outlinewidth": 0,
             "ticks": ""
            },
            "colorscale": [
             [
              0,
              "#0d0887"
             ],
             [
              0.1111111111111111,
              "#46039f"
             ],
             [
              0.2222222222222222,
              "#7201a8"
             ],
             [
              0.3333333333333333,
              "#9c179e"
             ],
             [
              0.4444444444444444,
              "#bd3786"
             ],
             [
              0.5555555555555556,
              "#d8576b"
             ],
             [
              0.6666666666666666,
              "#ed7953"
             ],
             [
              0.7777777777777778,
              "#fb9f3a"
             ],
             [
              0.8888888888888888,
              "#fdca26"
             ],
             [
              1,
              "#f0f921"
             ]
            ],
            "type": "heatmap"
           }
          ],
          "heatmapgl": [
           {
            "colorbar": {
             "outlinewidth": 0,
             "ticks": ""
            },
            "colorscale": [
             [
              0,
              "#0d0887"
             ],
             [
              0.1111111111111111,
              "#46039f"
             ],
             [
              0.2222222222222222,
              "#7201a8"
             ],
             [
              0.3333333333333333,
              "#9c179e"
             ],
             [
              0.4444444444444444,
              "#bd3786"
             ],
             [
              0.5555555555555556,
              "#d8576b"
             ],
             [
              0.6666666666666666,
              "#ed7953"
             ],
             [
              0.7777777777777778,
              "#fb9f3a"
             ],
             [
              0.8888888888888888,
              "#fdca26"
             ],
             [
              1,
              "#f0f921"
             ]
            ],
            "type": "heatmapgl"
           }
          ],
          "histogram": [
           {
            "marker": {
             "pattern": {
              "fillmode": "overlay",
              "size": 10,
              "solidity": 0.2
             }
            },
            "type": "histogram"
           }
          ],
          "histogram2d": [
           {
            "colorbar": {
             "outlinewidth": 0,
             "ticks": ""
            },
            "colorscale": [
             [
              0,
              "#0d0887"
             ],
             [
              0.1111111111111111,
              "#46039f"
             ],
             [
              0.2222222222222222,
              "#7201a8"
             ],
             [
              0.3333333333333333,
              "#9c179e"
             ],
             [
              0.4444444444444444,
              "#bd3786"
             ],
             [
              0.5555555555555556,
              "#d8576b"
             ],
             [
              0.6666666666666666,
              "#ed7953"
             ],
             [
              0.7777777777777778,
              "#fb9f3a"
             ],
             [
              0.8888888888888888,
              "#fdca26"
             ],
             [
              1,
              "#f0f921"
             ]
            ],
            "type": "histogram2d"
           }
          ],
          "histogram2dcontour": [
           {
            "colorbar": {
             "outlinewidth": 0,
             "ticks": ""
            },
            "colorscale": [
             [
              0,
              "#0d0887"
             ],
             [
              0.1111111111111111,
              "#46039f"
             ],
             [
              0.2222222222222222,
              "#7201a8"
             ],
             [
              0.3333333333333333,
              "#9c179e"
             ],
             [
              0.4444444444444444,
              "#bd3786"
             ],
             [
              0.5555555555555556,
              "#d8576b"
             ],
             [
              0.6666666666666666,
              "#ed7953"
             ],
             [
              0.7777777777777778,
              "#fb9f3a"
             ],
             [
              0.8888888888888888,
              "#fdca26"
             ],
             [
              1,
              "#f0f921"
             ]
            ],
            "type": "histogram2dcontour"
           }
          ],
          "mesh3d": [
           {
            "colorbar": {
             "outlinewidth": 0,
             "ticks": ""
            },
            "type": "mesh3d"
           }
          ],
          "parcoords": [
           {
            "line": {
             "colorbar": {
              "outlinewidth": 0,
              "ticks": ""
             }
            },
            "type": "parcoords"
           }
          ],
          "pie": [
           {
            "automargin": true,
            "type": "pie"
           }
          ],
          "scatter": [
           {
            "fillpattern": {
             "fillmode": "overlay",
             "size": 10,
             "solidity": 0.2
            },
            "type": "scatter"
           }
          ],
          "scatter3d": [
           {
            "line": {
             "colorbar": {
              "outlinewidth": 0,
              "ticks": ""
             }
            },
            "marker": {
             "colorbar": {
              "outlinewidth": 0,
              "ticks": ""
             }
            },
            "type": "scatter3d"
           }
          ],
          "scattercarpet": [
           {
            "marker": {
             "colorbar": {
              "outlinewidth": 0,
              "ticks": ""
             }
            },
            "type": "scattercarpet"
           }
          ],
          "scattergeo": [
           {
            "marker": {
             "colorbar": {
              "outlinewidth": 0,
              "ticks": ""
             }
            },
            "type": "scattergeo"
           }
          ],
          "scattergl": [
           {
            "marker": {
             "colorbar": {
              "outlinewidth": 0,
              "ticks": ""
             }
            },
            "type": "scattergl"
           }
          ],
          "scattermapbox": [
           {
            "marker": {
             "colorbar": {
              "outlinewidth": 0,
              "ticks": ""
             }
            },
            "type": "scattermapbox"
           }
          ],
          "scatterpolar": [
           {
            "marker": {
             "colorbar": {
              "outlinewidth": 0,
              "ticks": ""
             }
            },
            "type": "scatterpolar"
           }
          ],
          "scatterpolargl": [
           {
            "marker": {
             "colorbar": {
              "outlinewidth": 0,
              "ticks": ""
             }
            },
            "type": "scatterpolargl"
           }
          ],
          "scatterternary": [
           {
            "marker": {
             "colorbar": {
              "outlinewidth": 0,
              "ticks": ""
             }
            },
            "type": "scatterternary"
           }
          ],
          "surface": [
           {
            "colorbar": {
             "outlinewidth": 0,
             "ticks": ""
            },
            "colorscale": [
             [
              0,
              "#0d0887"
             ],
             [
              0.1111111111111111,
              "#46039f"
             ],
             [
              0.2222222222222222,
              "#7201a8"
             ],
             [
              0.3333333333333333,
              "#9c179e"
             ],
             [
              0.4444444444444444,
              "#bd3786"
             ],
             [
              0.5555555555555556,
              "#d8576b"
             ],
             [
              0.6666666666666666,
              "#ed7953"
             ],
             [
              0.7777777777777778,
              "#fb9f3a"
             ],
             [
              0.8888888888888888,
              "#fdca26"
             ],
             [
              1,
              "#f0f921"
             ]
            ],
            "type": "surface"
           }
          ],
          "table": [
           {
            "cells": {
             "fill": {
              "color": "#EBF0F8"
             },
             "line": {
              "color": "white"
             }
            },
            "header": {
             "fill": {
              "color": "#C8D4E3"
             },
             "line": {
              "color": "white"
             }
            },
            "type": "table"
           }
          ]
         },
         "layout": {
          "annotationdefaults": {
           "arrowcolor": "#2a3f5f",
           "arrowhead": 0,
           "arrowwidth": 1
          },
          "autotypenumbers": "strict",
          "coloraxis": {
           "colorbar": {
            "outlinewidth": 0,
            "ticks": ""
           }
          },
          "colorscale": {
           "diverging": [
            [
             0,
             "#8e0152"
            ],
            [
             0.1,
             "#c51b7d"
            ],
            [
             0.2,
             "#de77ae"
            ],
            [
             0.3,
             "#f1b6da"
            ],
            [
             0.4,
             "#fde0ef"
            ],
            [
             0.5,
             "#f7f7f7"
            ],
            [
             0.6,
             "#e6f5d0"
            ],
            [
             0.7,
             "#b8e186"
            ],
            [
             0.8,
             "#7fbc41"
            ],
            [
             0.9,
             "#4d9221"
            ],
            [
             1,
             "#276419"
            ]
           ],
           "sequential": [
            [
             0,
             "#0d0887"
            ],
            [
             0.1111111111111111,
             "#46039f"
            ],
            [
             0.2222222222222222,
             "#7201a8"
            ],
            [
             0.3333333333333333,
             "#9c179e"
            ],
            [
             0.4444444444444444,
             "#bd3786"
            ],
            [
             0.5555555555555556,
             "#d8576b"
            ],
            [
             0.6666666666666666,
             "#ed7953"
            ],
            [
             0.7777777777777778,
             "#fb9f3a"
            ],
            [
             0.8888888888888888,
             "#fdca26"
            ],
            [
             1,
             "#f0f921"
            ]
           ],
           "sequentialminus": [
            [
             0,
             "#0d0887"
            ],
            [
             0.1111111111111111,
             "#46039f"
            ],
            [
             0.2222222222222222,
             "#7201a8"
            ],
            [
             0.3333333333333333,
             "#9c179e"
            ],
            [
             0.4444444444444444,
             "#bd3786"
            ],
            [
             0.5555555555555556,
             "#d8576b"
            ],
            [
             0.6666666666666666,
             "#ed7953"
            ],
            [
             0.7777777777777778,
             "#fb9f3a"
            ],
            [
             0.8888888888888888,
             "#fdca26"
            ],
            [
             1,
             "#f0f921"
            ]
           ]
          },
          "colorway": [
           "#636efa",
           "#EF553B",
           "#00cc96",
           "#ab63fa",
           "#FFA15A",
           "#19d3f3",
           "#FF6692",
           "#B6E880",
           "#FF97FF",
           "#FECB52"
          ],
          "font": {
           "color": "#2a3f5f"
          },
          "geo": {
           "bgcolor": "white",
           "lakecolor": "white",
           "landcolor": "#E5ECF6",
           "showlakes": true,
           "showland": true,
           "subunitcolor": "white"
          },
          "hoverlabel": {
           "align": "left"
          },
          "hovermode": "closest",
          "mapbox": {
           "style": "light"
          },
          "paper_bgcolor": "white",
          "plot_bgcolor": "#E5ECF6",
          "polar": {
           "angularaxis": {
            "gridcolor": "white",
            "linecolor": "white",
            "ticks": ""
           },
           "bgcolor": "#E5ECF6",
           "radialaxis": {
            "gridcolor": "white",
            "linecolor": "white",
            "ticks": ""
           }
          },
          "scene": {
           "xaxis": {
            "backgroundcolor": "#E5ECF6",
            "gridcolor": "white",
            "gridwidth": 2,
            "linecolor": "white",
            "showbackground": true,
            "ticks": "",
            "zerolinecolor": "white"
           },
           "yaxis": {
            "backgroundcolor": "#E5ECF6",
            "gridcolor": "white",
            "gridwidth": 2,
            "linecolor": "white",
            "showbackground": true,
            "ticks": "",
            "zerolinecolor": "white"
           },
           "zaxis": {
            "backgroundcolor": "#E5ECF6",
            "gridcolor": "white",
            "gridwidth": 2,
            "linecolor": "white",
            "showbackground": true,
            "ticks": "",
            "zerolinecolor": "white"
           }
          },
          "shapedefaults": {
           "line": {
            "color": "#2a3f5f"
           }
          },
          "ternary": {
           "aaxis": {
            "gridcolor": "white",
            "linecolor": "white",
            "ticks": ""
           },
           "baxis": {
            "gridcolor": "white",
            "linecolor": "white",
            "ticks": ""
           },
           "bgcolor": "#E5ECF6",
           "caxis": {
            "gridcolor": "white",
            "linecolor": "white",
            "ticks": ""
           }
          },
          "title": {
           "x": 0.05
          },
          "xaxis": {
           "automargin": true,
           "gridcolor": "white",
           "linecolor": "white",
           "ticks": "",
           "title": {
            "standoff": 15
           },
           "zerolinecolor": "white",
           "zerolinewidth": 2
          },
          "yaxis": {
           "automargin": true,
           "gridcolor": "white",
           "linecolor": "white",
           "ticks": "",
           "title": {
            "standoff": 15
           },
           "zerolinecolor": "white",
           "zerolinewidth": 2
          }
         }
        },
        "title": {
         "font": {
          "color": "#122630",
          "size": 28
         },
         "text": "Fig 3: Distribution of text lengths",
         "yref": "paper"
        },
        "width": 500,
        "xaxis": {
         "anchor": "y",
         "autorange": true,
         "domain": [
          0,
          1
         ],
         "range": [
          -0.5,
          0.5
         ],
         "showgrid": false,
         "type": "category"
        },
        "yaxis": {
         "anchor": "x",
         "autorange": true,
         "domain": [
          0,
          1
         ],
         "range": [
          -42755.333333333336,
          813351.3333333334
         ],
         "showgrid": false,
         "title": {
          "text": "token count"
         },
         "type": "linear"
        }
       }
      },
      "image/png": "[encoded data removed]",
      "text/html": [
       "<div>                            <div id=\"3ffa1033-43c1-47f0-86a2-9c5c3844244b\" class=\"plotly-graph-div\" style=\"height:500px; width:500px;\"></div>            <script type=\"text/javascript\">                require([\"plotly\"], function(Plotly) {                    window.PLOTLYENV=window.PLOTLYENV || {};                                    if (document.getElementById(\"3ffa1033-43c1-47f0-86a2-9c5c3844244b\")) {                    Plotly.newPlot(                        \"3ffa1033-43c1-47f0-86a2-9c5c3844244b\",                        [{\"alignmentgroup\":\"True\",\"customdata\":[[\"Geschichte des Agathon\",\"Christoph Martin Wieland\"],[\"Geschichte des Agathon\",\"Christoph Martin Wieland\"],[\"Geschichte des Fr\\u00e4uleins von Sternheim\",\"Christoph Martin Wieland\"],[\"Geschichte des Fr\\u00e4uleins von Sternheim\",\"Christoph Martin Wieland\"],[\"Geschichte des Fr\\u00e4uleins von Sternheim\",\"Sophie von La Roche\"],[\"Geschichte des Fr\\u00e4uleins von Sternheim\",\"Sophie von La Roche\"],[\"Das Leben und die Meinungen des Herrn Magister Sebaldus Nothanker\",\"Friedrich Nicolai\"],[\"Die Leiden des jungen Werthers\",\"Johann Wolfgang von Goethe\"],[\"Die Leiden des jungen Werthers\",\"Johann Wolfgang von Goethe\"],[\"Das Leben und die Meinungen des Herrn Magister Sebaldus Nothanker\",\"Friedrich Nicolai\"],[\"Das Leben und die Meinungen des Herrn Magister Sebaldus Nothanker\",\"Friedrich Nicolai\"],[\"Siegwart\",\"Johann Martin Miller\"],[\"Siegwart\",\"Johann Martin Miller\"],[\"Physiognomische Reisen \",\"Johann Karl August Mus\\u00e4us\"],[\"Robinson der J\\u00fcngere\",\"Joachim Heinrich Campe\"],[\"Physiognomische Reisen\",\"Johann Karl August Mus\\u00e4us\"],[\"Physiognomische Reisen\",\"Johann Karl August Mus\\u00e4us\"],[\"Physiognomische Reisen\",\"Johann Karl August Mus\\u00e4us\"],[\"Robinson der J\\u00fcngere\",\"Joachim Heinrich Campe\"],[\"Anton Reiser\",\"Karl Philipp Moritz\"],[\"Anton Reiser\",\"Karl Philipp Moritz\"],[\"Anton Reiser\",\"Karl Philipp Moritz\"],[\"Wunderbare Reisen zu Wasser und Lande, Feldz\\u00fcge und lustige Abentheuer des Freyherrn von M\\u00fcnchhausen, wie er dieselben bey der Flasche im Cirkel seiner Freunde selbst zu erz\\u00e4hlen pflegt\",\"Rudolf Erich Raspe\"],[\"Der Geisterseher\",\"Friedrich Schiller\"],[\"Geister und Geisterseher oder Leben und fr\\u00fches Ende eines Nekromantisten\",\"Heinrich Zschokke\"],[\"Anton Reiser\",\"Karl Philipp Moritz\"],[\"Fausts Leben, Thaten und H\\u00f6llenfahrt\",\"Friedrich Maximilian Klinger\"],[\"Eduard Allwills Briefsammlung\",\"Friedrich Heinrich Jacobi\"],[\"Die unsichtbare Loge\",\"Jean Paul, eigentlich Johann Paul Friedrich Richter\"],[\"Die unsichtbare Loge\",\"Jean Paul, eigentlich Johann Paul Friedrich Richter\"],[\"Reinecke Fuchs\",\"Johann Wolfgang von Goethe\"],[\"Hesperus, oder 45 Hundsposttage\",\"Jean Paul, eigentlich Johann Paul Friedrich Richter\"],[\"Hesperus, oder 45 Hundsposttage\",\"Jean Paul, eigentlich Johann Paul Friedrich Richter\"],[\"Hesperus, oder 45 Hundsposttage\",\"Jean Paul, eigentlich Johann Paul Friedrich Richter\"],[\"Wilhelm Meisters Lehrjahre\",\"Johann Wolfgang von Goethe\"],[\"Wilhelm Meisters Lehrjahre\",\"Johann Wolfgang von Goethe\"],[\"Wilhelm Meisters Lehrjahre\",\"Johann Wolfgang von Goethe\"],[\"William Lovell\",\"Ludwig Tieck\"],[\"Biographien der Wahnsinnigen\",\"Christian Heinrich Spie\\u00df\"],[\"Biographien der Wahnsinnigen\",\"Christian Heinrich Spie\\u00df\"],[\"Biographien der Wahnsinnigen\",\"Christian Heinrich Spie\\u00df\"],[\"Biographien der Wahnsinnigen\",\"Christian Heinrich Spie\\u00df\"],[\"Wilhelm Meisters Lehrjahre\",\"Johann Wolfgang von Goethe\"],[\"William Lovell\",\"Ludwig Tieck\"],[\"William Lovell\",\"Ludwig Tieck\"],[\"Hyperion oder der Eremit in Griechenland\",\"Friedrich H\\u00f6lderlin\"],[\"Herzensergie\\u00dfungen eines kunstliebenden Klosterbruders\",\"Ludwig Tieck\"],[\"Herzensergie\\u00dfungen eines kunstliebenden Klosterbruders\",\"Wilhelm Heinrich Wackenroder\"],[\"Athenaeum\",\"August Wilhelm Schlegel\"],[\"Athenaeum\",\"Friedrich Schlegel\"],[\"Franz Sternbald's Wanderungen\",\"Ludwig Tieck\"],[\"Franz Sternbalds Wanderungen\",\"Ludwig Tieck\"],[\"Athenaeum\",\"August Wilhelm Schlegel\"],[\"Hyperion oder der Eremit in Griechenland\",\"Friedrich H\\u00f6lderlin\"],[\"Athenaeum\",\"Friedrich Schlegel\"],[\"Lucinde\",\"Friedrich Schlegel\"],[\"Die Jobsiade\",\"Karl Arnold Kortum\"],[\"Die Jobsiade\",\"Karl Arnold Kortum\"],[\"Die Jobsiade\",\"Karl Arnold Kortum\"],[\"Athenaeum\",\"August Wilhelm Schlegel\"],[\"Athenaeum\",\"Friedrich Schlegel\"],[\"Titan\",\"Jean Paul, eigentlich Johann Paul Friedrich Richter\"],[\"Florentin\",\"Dorothea Schlegel\"],[\"Florentin\",\"Friedrich Schlegel\"],[\"Titan\",\"Jean Paul, eigentlich Johann Paul Friedrich Richter\"],[\"M\\u00e4hrchen\",\"Caroline Auguste Fischer\"],[\"Titan\",\"Jean Paul, eigentlich Johann Paul Friedrich Richter\"],[\"Titan\",\"Jean Paul, eigentlich Johann Paul Friedrich Richter\"],[\"Flegeljahre\",\"Jean Paul, eigentlich Johann Paul Friedrich Richter\"],[\"Flegeljahre\",\"Jean Paul, eigentlich Johann Paul Friedrich Richter\"],[\"Flegeljahre\",\"Jean Paul, eigentlich Johann Paul Friedrich Richter\"],[\"Nachtwachen\",\"Ernst August Friedrich Klingemann\"],[\"Flegeljahre\",\"Jean Paul, eigentlich Johann Paul Friedrich Richter\"],[\"Gem\\u00e4lde weiblicher Erziehung\",\"Karoline Rudolphi\"],[\"Gem\\u00e4lde weiblicher Erziehung\",\"Karoline Rudolphi\"],[\"D. Katzenbergers Badereise\",\"Jean Paul, eigentlich Johann Paul Friedrich Richter\"],[\"D. Katzenbergers Badereise\",\"Jean Paul, eigentlich Johann Paul Friedrich Richter\"],[\"Die Wahlverwandtschaften\",\"Johann Wolfgang von Goethe\"],[\"Die Wahlverwandtschaften\",\"Johann Wolfgang von Goethe\"],[\"Ini\",\"Julius von Vo\\u00df\"],[\"Undine\",\"Friedrich de la Motte Fouqu\\u00e9\"],[\"Schatzk\\u00e4stlein des rheinischen Hausfreundes\",\"Johann Peter Hebel\"],[\"Kinder- und Haus-M\\u00e4rchen\",\"Jacob Grimm\"],[\"Kinder- und Haus-M\\u00e4rchen\",\"Jacob Grimm\"],[\"Phantasus\",\"Ludwig Tieck\"],[\"Phantasus\",\"Ludwig Tieck\"],[\"Peter Schlemihl's wundersame Geschichte\",\"Friedrich de la Motte Fouqu\\u00e9\"],[\"Kinder- und Haus-M\\u00e4rchen\",\"Jacob Grimm\"],[\"Kinder- und Haus-M\\u00e4rchen\",\"Jacob Grimm\"],[\"Ahnung und Gegenwart\",\"Joseph Freiherr von Eichendorff\"],[\"Phantasus\",\"Ludwig Tieck\"],[\"Der tolle Invalide auf dem Fort Ratonneau\",\"Achim von Arnim\"],[\"Kinder- und Haus-M\\u00e4rchen\",\"Jacob Grimm\"],[\"Kinder- und Haus-M\\u00e4rchen\",\"Jacob Grimm\"],[\"Kinder- und Haus-M\\u00e4rchen\",\"Jacob Grimm\"],[\"Kinder- und Haus-M\\u00e4rchen\",\"Jacob Grimm\"],[\"Pha\\u00ebthon\",\"Wilhelm Waiblinger\"],[\"Pha\\u00ebthon\",\"Wilhelm Waiblinger\"],[\"Aus dem Leben eines Taugenichts und das Marmorbild\",\"Joseph Freiherr von Eichendorff\"],[\"Phantasien im Bremer Rathskeller\",\"Wilhelm Hauff\"],[\"Maler Nolten\",\"Eduard M\\u00f6rike\"],[\"Maler Nolten\",\"Eduard M\\u00f6rike\"],[\"Briefe eines Narren an eine N\\u00e4rrin\",\"Karl Gutzkow\"],[\"Das junge Europa\",\"Heinrich Laube\"],[\"Das junge Europa\",\"Heinrich Laube\"],[\"Dichter und ihre Gesellen\",\"Joseph Freiherr von Eichendorff\"],[\"Rahel\",\"Karl August Varnhagen von Ense\"],[\"Rahel\",\"Karl August Varnhagen von Ense\"],[\"Rahel\",\"Karl August Varnhagen von Ense\"],[\"Rahel\",\"Rahel Levin\"],[\"Rahel\",\"Rahel Levin\"],[\"Rahel\",\"Rahel Levin\"],[\"\\u00d6ffentliche Charaktere\",\"Karl Gutzkow\"],[\"Wally, die Zweiflerin\",\"Karl Gutzkow\"],[\"Das junge Europa\",\"Heinrich Laube\"],[\"Das junge Europa\",\"Heinrich Laube\"],[\"Kinder und Hausm\\u00e4rchen\",\"Jacob Grimm\"],[\"Kinder und Hausm\\u00e4rchen\",\"Jacob Grimm\"],[\"Kinder und Hausm\\u00e4rchen\",\"Jacob Grimm\"],[\"Kinder und Hausm\\u00e4rchen\",\"Jacob Grimm\"],[\"Denkw\\u00fcrdigkeiten und vermischte Schriften\",\"Karl August Varnhagen von Ense\"],[\"Denkw\\u00fcrdigkeiten und vermischte Schriften\",\"Karl August Varnhagen von Ense\"],[\"Die sch\\u00f6nsten Sagen des klassischen Alterthums\",\"Gustav Schwab\"],[\"Denkw\\u00fcrdigkeiten und vermischte Schriften\",\"Karl August Varnhagen von Ense\"],[\"Die sch\\u00f6nsten Sagen des klassischen Alterthums\",\"Gustav Schwab\"],[\"Die sch\\u00f6nsten Sagen des klassischen Alterthums\",\"Gustav Schwab\"],[\"Kinder und Hausm\\u00e4rchen\",\"Jacob Grimm\"],[\"Kinder und Hausm\\u00e4rchen\",\"Jacob Grimm\"],[\"Kinder und Hausm\\u00e4rchen\",\"Jacob Grimm\"],[\"Kinder und Hausm\\u00e4rchen\",\"Jacob Grimm\"],[\"Bilder und Sagen aus der Schweiz\",\"Jeremias Gotthelf, eigentlich Albert Bitzius\"],[\"Jenny\",\"Fanny Lewald\"],[\"Jenny\",\"Fanny Lewald\"],[\"Kinder und Hausm\\u00e4rchen\",\"Jacob Grimm\"],[\"Kinder und Hausm\\u00e4rchen\",\"Jacob Grimm\"],[\"Kinder und Hausm\\u00e4rchen\",\"Jacob Grimm\"],[\"Kinder und Hausm\\u00e4rchen\",\"Jacob Grimm\"],[\"Maria Schweidler die Bernsteinhexe\",\"Wilhelm Meinhold\"],[\"Der Prophet\",\"Amalie Schoppe\"],[\"Der Prophet\",\"Amalie Schoppe\"],[\"Der Prophet\",\"Amalie Schoppe\"],[\"Polizei-Geschichten\",\"Ernst Dronke\"],[\"Leben und Thaten des ber\\u00fchmten Ritters Schnapphahnski\",\"Georg Weerth\"],[\"Kinder und Hausm\\u00e4rchen\",\"Jacob Grimm\"],[\"Kinder und Hausm\\u00e4rchen\",\"Jacob Grimm\"],[\"Kinder und Hausm\\u00e4rchen\",\"Jacob Grimm\"],[\"Kinder und Hausm\\u00e4rchen\",\"Jacob Grimm\"],[\"Immensee\",\"Theodor Storm\"],[\"Bunte Steine\",\"Adalbert Stifter\"],[\"Bunte Steine\",\"Adalbert Stifter\"],[\"Der gr\\u00fcne Heinrich\",\"Gottfried Keller\"],[\"Der gr\\u00fcne Heinrich\",\"Gottfried Keller\"],[\"Der gr\\u00fcne Heinrich\",\"Gottfried Keller\"],[\"Der Dunkelgraf\",\"Ludwig Bechstein\"],[\"Der Amerika-M\\u00fcde\",\"Ferdinand K\\u00fcrnberger\"],[\"Der gr\\u00fcne Heinrich\",\"Gottfried Keller\"],[\"Der Sonnenwirth\",\"Hermann Kurz\"],[\"Ekkehard\",\"Joseph Victor von Scheffel\"],[\"Novellen\",\"Paul Heyse\"],[\"Mozart auf der Reise nach Prag\",\"Eduard M\\u00f6rike\"],[\"Die Leute von Seldwyla\",\"Gottfried Keller\"],[\"Zwischen Himmel und Erde\",\"Otto Ludwig\"],[\"Der Nachsommer\",\"Adalbert Stifter\"],[\"Der Nachsommer\",\"Adalbert Stifter\"],[\"Der Nachsommer\",\"Adalbert Stifter\"],[\"Kinder und Hausm\\u00e4rchen\",\"Jacob Grimm\"],[\"Kinder und Hausm\\u00e4rchen\",\"Jacob Grimm\"],[\"Kinder und Hausm\\u00e4rchen\",\"Jacob Grimm\"],[\"Kinder und Hausm\\u00e4rchen\",\"Jacob Grimm\"],[\"Die Chronik der Sperlingsgasse\",\"Wilhelm Raabe\"],[\"Letzte Gaben\",\"Annette von Droste-H\\u00fclshoff\"],[\"Problematische Naturen\",\"Friedrich Spielhagen\"],[\"Problematische Naturen\",\"Friedrich Spielhagen\"],[\"Problematische Naturen\",\"Friedrich Spielhagen\"],[\"Problematische Naturen\",\"Friedrich Spielhagen\"],[\"Adele\",\"Fanny Lewald\"],[\"Eine Aegyptische K\\u00f6nigstochter\",\"Georg Ebers\"],[\"Eine Aegyptische K\\u00f6nigstochter\",\"Georg Ebers\"],[\"Eine Aegyptische K\\u00f6nigstochter\",\"Georg Ebers\"],[\"Max und Moritz\",\"Wilhelm Busch\"],[\"Die Verlobung von St. Domingo\",\"Heinrich von Kleist\"],[\"Die neue Melusine\",\"Johann Wolfgang von Goethe\"],[\"Die letzte Reckenburgerin\",\"Louise von Fran\\u00e7ois\"],[\"Die letzte Reckenburgerin\",\"Louise von Fran\\u00e7ois\"],[\"Sieben Legenden\",\"Gottfried Keller\"],[\"Waldwinkel, Pole Poppensp\\u00e4ler\",\"Theodor Storm\"],[\"Georg Jenatsch. Eine alte B\\u00fcndnergeschichte\",\"Conrad Ferdinand Meyer\"],[\"Das Herrenrecht\",\"Daniel Spitzer\"],[\"Novellen aus \\u00d6sterreich\",\"Ferdinand von Saar\"],[\"Die neuen Serapionsbr\\u00fcder\",\"Karl Gutzkow\"],[\"Die neuen Serapionsbr\\u00fcder\",\"Karl Gutzkow\"],[\"Die neuen Serapionsbr\\u00fcder\",\"Karl Gutzkow\"],[\"Aquis submersus\",\"Theodor Storm\"],[\"Auch Einer\",\"Friedrich Theodor Vischer\"],[\"Auch Einer\",\"Friedrich Theodor Vischer\"],[\"Heidi's Lehr- und Wanderjahre\",\"Johanna Spyri\"],[\"Die Prinzessin von Portugal\",\"Alfred Mei\\u00dfner\"],[\"Das Sinngedicht\",\"Gottfried Keller\"],[\"Schach von Wuthenow\",\"Theodor Fontane\"],[\"Unterm Birnbaum\",\"Theodor Fontane\"],[\"John Riew', Ein Fest auf Haderslevhuus\",\"Theodor Storm\"],[\"B\\u00f6tjer Basch\",\"Theodor Storm\"],[\"Ein Doppelg\\u00e4nger\",\"Theodor Storm\"],[\"Irrungen, Wirrungen\",\"Theodor Fontane\"],[\"Der Schimmelreiter\",\"Theodor Storm\"],[\"Papa Hamlet\",\"Arno Holz\"],[\"Adam Mensch\",\"Hermann Conradi\"],[\"Das Odfeld\",\"Wilhelm Raabe\"],[\"Seifenblasen\",\"Kurd La\\u00dfwitz\"],[\"Bitters\\u00fc\\u00df\",\"Ilse Frapan\"],[\"Stopfkuchen\",\"Wilhelm Raabe\"],[\"Durchs Wilde Kurdistan\",\"Karl May\"],[\"Von vor und nach der Reise\",\"Theodor Fontane\"],[\"Fl\\u00fcgel auf!\",\"Ilse Frapan\"],[\"Der B\\u00fcttnerbauer\",\"Wilhelm von Polenz\"],[\"Der Medizinmann\",\"Robert Kraft\"],[\"Effi Briest\",\"Theodor Fontane\"],[\"Die Akten des Vogelsangs\",\"Wilhelm Raabe\"],[\"Auf zwei Planeten\",\"Kurd La\\u00dfwitz\"],[\"Auf zwei Planeten\",\"Kurd La\\u00dfwitz\"],[\"Stilpe\",\"Otto Julius Bierbaum\"],[\"Der Stechlin\",\"Theodor Fontane\"],[\"Muspilli\",\"Arnold Hagenauer\"],[\"Die Poggenpuhls\",\"Theodor Fontane\"],[\"Beate und Mareile\",\"Eduard von Keyserling\"],[\"Brigitta\",\"Adalbert Stifter\"],[\"Peter Schlemihl's wundersame Geschichte\",\"Adelbert von Chamisso\"],[\"Irrwisch-Fritze\",\"Adelheid Reinbold\"],[\"Der Fl\\u00fcchtling\",\"Adolf Pichler\"],[\"Die katholische M\\u00fchle\",\"Adolf Widmann\"],[\"Scholastika\",\"Alexander von Ungern-Sternberg\"],[\"Der M\\u00fcller vom H\\u00f6ft\",\"Alfred Mei\\u00dfner\"],[\"Die Judenbuche\",\"Annette von Droste-H\\u00fclshoff\"],[\"Eine Nacht\",\"Bernhard Abeken, Pseudonym Ernst Andolt\"],[\"Reich zu reich und arm zu arm\",\"Claire von Gl\\u00fcmer\"],[\"Rolof, der Rekrut\",\"Edmund Hoefer\"],[\"Mozart auf der Reise nach Prag\",\"Eduard M\\u00f6rike\"],[\"Der Striethast\",\"Emmy von Dincklage\"],[\"Ansas und Grita\",\"Ernst Wichert\"],[\"Die Tante\",\"Fanny Lewald\"],[\"Der Drache\",\"Ferdinand K\\u00fcrnberger\"],[\"Der arme Spielmann\",\"Franz Grillparzer\"],[\"Germelshausen\",\"Friedrich Gerst\\u00e4cker\"],[\"Die Marzipan-Lise\",\"Friedrich Halm, eigentlich Eligius von M\\u00fcnch-Bellinghausen\"],[\"Der graue John\",\"Friedrich von Heyden\"],[\"Zwei N\\u00e4chte\",\"Friedrich Wilhelm Hackl\\u00e4nder\"],[\"Romeo und Julia auf dem Dorfe\",\"Gottfried Keller\"],[\"Das Kind\",\"Herman Grimm\"],[\"Die beiden Tubus\",\"Hermann Kurz\"],[\"Ein adeliges Fr\\u00e4ulein\",\"Hieronymus Lorm, eigentlich Heinrich Landesmann\"],[\"Der Notar in der Falle\",\"Jeremias Gotthelf, eigentlich Albert Bitzius\"],[\"Kurt von Koppigen\",\"Jeremias Gotthelf, eigentlich Albert Bitzius\"],[\"Musikalische Orthodoxie\",\"Johanna Kinkel\"],[\"Die Gl\\u00fccksritter\",\"Joseph Freiherr von Eichendorff\"],[\"Samuel Brinks letzte Liebesgeschichte\",\"Joseph Schreyvogel\"],[\"Hugideo\",\"Joseph Victor von Scheffel\"],[\"Vetter Isidor\",\"Julius Grosse\"],[\"Reiz und Liebe\",\"Karl August Varnhagen von Ense\"],[\"Die Engel-Ehe\",\"Karl Spindler\"],[\"Eine Verlorene\",\"Leopold Kompert\"],[\"Don Juan von Kolomea\",\"Leopold von Sacher-Masoch\"],[\"Des Lebens \\u00dcberflu\\u00df\",\"Ludwig Tieck\"],[\"Die Gem\\u00e4lde\",\"Ludwig Tieck\"],[\"Eine fromme L\\u00fcge\",\"Luise von Gall\"],[\"Der Sieg des Schwachen\",\"Melchior Meyr\"],[\"Das Schlo\\u00df im Gebirge\",\"Moritz Hartmann\"],[\"Streit in der Liebe und Liebe im Streit\",\"Ottilie Wildermuth\"],[\"Der Weinh\\u00fcter von Meran\",\"Paul Heyse\"],[\"Am Malanger Fjord\",\"Theodor M\\u00fcgge\"],[\"Eine Malerarbeit\",\"Theodor Storm\"],[\"Phantasien im Bremer Ratskeller\",\"Wilhelm Hauff\"],[\"Das letzte Recht\",\"Wilhelm Raabe\"],[\"Zwei Erz\\u00e4hlungen\",\"Elisabeth von Heyking\"],[\"Yoshiwara\",\"Hermione von Preuschen\"],[\"Fr\\u00e4ulein Else\",\"Arthur Schnitzler\"],[\"Der Kinderball\",\"Abraham Emanuel Fr\\u00f6hlich\"],[\"Die Versch\\u00fcttung im Hauenstein\",\"Abraham Emanuel Fr\\u00f6hlich\"],[\"Armut, Reichtum, Schuld und Bu\\u00dfe der Gr\\u00e4fin Dolores\",\"Achim von Arnim\"],[\"Der Wintergarten\",\"Achim von Arnim\"],[\"Die drei liebreichen Schwestern und der gl\\u00fcckliche F\\u00e4rber\",\"Achim von Arnim\"],[\"Die Kronenw\\u00e4chter\",\"Achim von Arnim\"],[\"Die Majoratsherren\",\"Achim von Arnim\"],[\"Erz\\u00e4hlungen\",\"Achim von Arnim\"],[\"Isabella von \\u00c4gypten\",\"Achim von Arnim\"],[\"verschiedene Novellen\",\"Achim von Arnim\"],[\"Als er heimkehrte\",\"Ada Christen, eigentlich Christiane von Breden\"],[\"Der einsame Spatz\",\"Ada Christen, eigentlich Christiane von Breden\"],[\"Jungfer Mutter\",\"Ada Christen, eigentlich Christiane von Breden\"],[\"K\\u00e4thes Federhut\",\"Ada Christen, eigentlich Christiane von Breden\"],[\"Nachbar Krippelmacher\",\"Ada Christen, eigentlich Christiane von Breden\"],[\"Rahel\",\"Ada Christen, eigentlich Christiane von Breden\"],[\"Der fromme Spruch\",\"Adalbert Stifter\"],[\"Der heilige Abend\",\"Adalbert Stifter\"],[\"Der Kuss von Sentze\",\"Adalbert Stifter\"],[\"Der Ku\\u00df von Sentze\",\"Adalbert Stifter\"],[\"Der Waldbrunnen\",\"Adalbert Stifter\"],[\"Nachkommenschaften\",\"Adalbert Stifter\"],[\"Prokopus\",\"Adalbert Stifter\"],[\"Studien\",\"Adalbert Stifter\"],[\"Witiko\",\"Adalbert Stifter\"],[\"Bauerngeselchtes\",\"Adam Karrillon\"],[\"Die M\\u00fchle zu Husterloh\",\"Adam Karrillon\"],[\"Michael Hely\",\"Adam Karrillon\"],[\"O Domina mea\",\"Adam Karrillon\"],[\"Der gro\\u00dfe Schwabenzug\",\"Adam M\\u00fcller-Guttenbrunn\"],[\"Die Glocken der Heimat\",\"Adam M\\u00fcller-Guttenbrunn\"],[\"Meister Jakob und seine Kinder\",\"Adam M\\u00fcller-Guttenbrunn\"],[\"Adelberts Fabel\",\"Adelbert von Chamisso\"],[\"Anna\",\"Adele Schopenhauer\"],[\"Schlitzwang\",\"Adolf Glaser, Pseudonym Rainald Reimar\"],[\"Wulfhilde\",\"Adolf Glaser, Pseudonym Rainald Reimar\"],[\"Der jung M\\u00fcnch Ylsan\",\"Adolf Pichler\"],[\"Der lateinische Bauer\",\"Adolf Pichler\"],[\"Die Brautnacht\",\"Adolf Pichler\"],[\"Frau Elsa\",\"Adolf Pichler\"],[\"Herr Rochus\",\"Adolf Pichler\"],[\"Janos und Jonas\",\"Adolf Pichler\"],[\"Letzte Alpenrosen\",\"Adolf Pichler\"],[\"Der Wille zum Leben\\u002fUntrennbar\",\"Adolf Wilbrandt\"],[\"Hermann Ifinger\",\"Adolf Wilbrandt\"],[\"Benjamin Noldmanns Geschichte der Aufkl\\u00e4rung in Abyssinien\",\"Adolph Freiherr Knigge\"],[\"Die Reise nach Braunschweig\",\"Adolph Freiherr Knigge\"],[\"Josephs von Wurmbrands ... politisches Glaubensbekenntnis\",\"Adolph Freiherr Knigge\"],[\"Die Schwingen des Lebens\",\"Agnes Franz\"],[\"Die Heilige und ihr Narr, Band 1\",\"Agnes G\\u00fcnther\"],[\"Die Heilige und ihr Narr, Band 2\",\"Agnes G\\u00fcnther\"],[\"Das kleine Dummerle und andere Erz\\u00e4hlungen\",\"Agnes Sapper\"],[\"F\\u00fcr kleine M\\u00e4dchen\",\"Agnes Sapper\"],[\"Friedemann Bach\",\"Albert Emil Brachvogel\"],[\"Oberst von Steuben \\u2013 des gro\\u00dfen K\\u00f6nigs Adjutant\",\"Albert Emil Brachvogel\"],[\"Vater Milon und andere Erz\\u00e4hlungen\",\"Alexander von Oppeln-Bronikowski\"],[\"Die Zerissenen\",\"Alexander von Ungern-Sternberg\"],[\"Vierter Theil: Elf Novellen\",\"Alexander von Ungern-Sternberg\"],[\"Der Flursch\\u00fctz\",\"Alfred Bock\"],[\"Lord Byron\",\"Alfred Schirokauer\"],[\"Die Br\\u00e4utigame der Babette Bomberling\",\"Alice Berend\"],[\"Frau Hempels Tochter\",\"Alice Berend\"],[\"Bei uns zu Lande auf dem Lande\",\"Annette von Droste-H\\u00fclshoff\"],[\"Bei uns zulande auf dem Lande\",\"Annette von Droste-H\\u00fclshoff\"],[\"Der Familienschild\",\"Annette von Droste-H\\u00fclshoff\"],[\"Ledwina\",\"Annette von Droste-H\\u00fclshoff\"],[\"Westf\\u00e4lische Schilderungen\",\"Annette von Droste-H\\u00fclshoff\"],[\"Die Finsternis und ihr Eigentum\",\"Anton von Perfall\"],[\"Klippen\",\"Anton von Perfall\"],[\"Das Schlo\\u00df im Moor\",\"Arthur Achleitner\"],[\"Der Finanzer\",\"Arthur Achleitner\"],[\"Die Dobratschrose\",\"Arthur Achleitner\"],[\"Familie Lugm\\u00fcller\",\"Arthur Achleitner\"],[\"Clemens und seine M\\u00e4dchen\",\"Arthur Kahane\"],[\"Der Schauspieler\",\"Arthur Kahane\"],[\"Die Thimigs\",\"Arthur Kahane\"],[\"Amerika\",\"Arthur Schnitzler\"],[\"Andreas Thameyers letzter Brief\",\"Arthur Schnitzler\"],[\"Blumen\",\"Arthur Schnitzler\"],[\"Casanovas Heimfahrt\",\"Arthur Schnitzler\"],[\"Casanovas Heimfahrt\",\"Arthur Schnitzler\"],[\"Das neue Lied\",\"Arthur Schnitzler\"],[\"Das Schicksal des Freiherrn von Leisenbohg\",\"Arthur Schnitzler\"],[\"Das Tagebuch der Redegonda\",\"Arthur Schnitzler\"],[\"Der Andere\",\"Arthur Schnitzler\"],[\"Der blinde Geronimo und sein Bruder\",\"Arthur Schnitzler\"],[\"Der Ehrentag\",\"Arthur Schnitzler\"],[\"Der Empfindsame\",\"Arthur Schnitzler\"],[\"Der F\\u00fcrst ist im Hause\",\"Arthur Schnitzler\"],[\"Der letzte Brief eines Literaten\",\"Arthur Schnitzler\"],[\"Der M\\u00f6rder\",\"Arthur Schnitzler\"],[\"Der M\\u00f6rder\",\"Arthur Schnitzler\"],[\"Der Sekundant\",\"Arthur Schnitzler\"],[\"Der Sohn\",\"Arthur Schnitzler\"],[\"Der Sohn\",\"Arthur Schnitzler\"],[\"Der Tod des Junggesellen\",\"Arthur Schnitzler\"],[\"Der tote Gabriel\",\"Arthur Schnitzler\"],[\"Der Weg ins Freie\",\"Arthur Schnitzler\"],[\"Der Witwer\",\"Arthur Schnitzler\"],[\"Die Braut\",\"Arthur Schnitzler\"],[\"Die drei Elixire\",\"Arthur Schnitzler\"],[\"Die dreifache Warnung\",\"Arthur Schnitzler\"],[\"Die Frau des Richters\",\"Arthur Schnitzler\"],[\"Die Frau des Weisen\",\"Arthur Schnitzler\"],[\"Die Fremde\",\"Arthur Schnitzler\"],[\"Die griechische T\\u00e4nzerin\",\"Arthur Schnitzler\"],[\"Die gr\\u00fcne Krawatte\",\"Arthur Schnitzler\"],[\"Die Hirtenfl\\u00f6te\",\"Arthur Schnitzler\"],[\"Die kleine Kom\\u00f6die\",\"Arthur Schnitzler\"],[\"Die N\\u00e4chste\",\"Arthur Schnitzler\"],[\"Die Toten schweigen\",\"Arthur Schnitzler\"],[\"Die Weissagung\",\"Arthur Schnitzler\"],[\"Doktor Gr\\u00e4sler, Badearzt\",\"Arthur Schnitzler\"],[\"Ein Abschied\",\"Arthur Schnitzler\"],[\"Ein Erfolg\",\"Arthur Schnitzler\"],[\"Er wartet auf den vazierenden Gott\",\"Arthur Schnitzler\"],[\"Erbschaft\",\"Arthur Schnitzler\"],[\"Exzentrik\",\"Arthur Schnitzler\"],[\"Flucht in die Finsternis\",\"Arthur Schnitzler\"],[\"Frau Beate und ihr Sohn\",\"Arthur Schnitzler\"],[\"Frau Berta Garlan\",\"Arthur Schnitzler\"],[\"Geschichte eines Genies\",\"Arthur Schnitzler\"],[\"Kom\\u00f6diantinnen\",\"Arthur Schnitzler\"],[\"Leutnant Gustl\",\"Arthur Schnitzler\"],[\"Mein Freund Ypsilon\",\"Arthur Schnitzler\"],[\"Reichtum\",\"Arthur Schnitzler\"],[\"Spiel im Morgengrauen\",\"Arthur Schnitzler\"],[\"Sterben\",\"Arthur Schnitzler\"],[\"Therese\",\"Arthur Schnitzler\"],[\"Traumnovelle\",\"Arthur Schnitzler\"],[\"Um eine Stunde\",\"Arthur Schnitzler\"],[\"Welch eine Melodie\",\"Arthur Schnitzler\"],[\"Wohltaten Still und Rein gegeben\",\"Arthur Schnitzler\"],[\"Carmen\",\"Arthur Schurig\"],[\"Der Doppelg\\u00e4nger. Neun neue Beethoven-Novellen\",\"Arthur Schurig\"],[\"Der Roman von Tristan und Isolde\",\"Arthur Schurig\"],[\"Ehrlos?\",\"Arthur Zapp\"],[\"Bankhaus Reichenbach\",\"Artur Landsberger\"],[\"Das Blut\",\"Artur Landsberger\"],[\"Emil\",\"Artur Landsberger\"],[\"Ha\\u00df\",\"Artur Landsberger\"],[\"Liebe und Bananen\",\"Artur Landsberger\"],[\"Mensch und Richter\",\"Artur Landsberger\"],[\"Raffke & Cie.\",\"Artur Landsberger\"],[\"Um den Sohn\",\"Artur Landsberger\"],[\"Villa im Tiergarten\",\"Artur Landsberger\"],[\"Der Beinbruch\",\"August Friedrich Ernst Langbein\"],[\"Norika\",\"August Hagen\"],[\"Allerlei Geister\",\"August Kopisch\"],[\"Wenn die Sonne sinkt\",\"August Trinius\"],[\"Warenhaus Gro\\u00df & Comp.\",\"Auguste Groner\"],[\"Die Tochter des Regiments und andere Novellen\",\"Balduin Groller\"],[\"Eine Panik und andre humoristische Erz\\u00e4hlungen\",\"Balduin Groller\"],[\"Ganz zuf\\u00e4llig und andere humoristische Novellen\",\"Balduin Groller\"],[\"In schlechter Form und andere Novellen\",\"Balduin Groller\"],[\"T\\u00f6te sie!\",\"Balduin Groller\"],[\"Das Monogramm\",\"Balduin M\\u00f6llhausen\"],[\"Das Mormonenm\\u00e4dchen - Band 1\",\"Balduin M\\u00f6llhausen\"],[\"Das Mormonenm\\u00e4dchen - Band 2\",\"Balduin M\\u00f6llhausen\"],[\"Der F\\u00e4hrmann am Kanadian\",\"Balduin M\\u00f6llhausen\"],[\"Der Majordomo\",\"Balduin M\\u00f6llhausen\"],[\"Der Vaquero\",\"Balduin M\\u00f6llhausen\"],[\"Die beiden Jachten\",\"Balduin M\\u00f6llhausen\"],[\"Die Familie Melville\",\"Balduin M\\u00f6llhausen\"],[\"Die Hy\\u00e4nen des Kapitals\",\"Balduin M\\u00f6llhausen\"],[\"Die Mandanen - Waise\",\"Balduin M\\u00f6llhausen\"],[\"Alf von D\\u00fclmen\",\"Benedikte Naubert\"],[\"Conrad und Siegfried von Feuchtwangen, Gro\\u00dfmeister des deutschen Ordens\",\"Benedikte Naubert\"],[\"Die Amtmannin von Hohenweiler\",\"Benedikte Naubert\"],[\"Herrmann von Unna\",\"Benedikte Naubert\"],[\"In Moor und Marsch\",\"Bernhardine Schulze-Smidt\"],[\"Pfadfinder\",\"Bernhardine Schulze-Smidt\"],[\"Alte Liebe\",\"Bertha Behrens\"],[\"Aus dem Leben meiner alten Freundin\",\"Bertha Behrens\"],[\"Erz\\u00e4hlungen\",\"Bertha Behrens\"],[\"Mamsell Unn\\u00fctz\",\"Bertha Behrens\"],[\"Trudchens Heirat\",\"Bertha Behrens\"],[\"Wie auch wir vergeben ...\",\"Bertha Behrens\"],[\"Die Waffen nieder!\",\"Bertha von Suttner\"],[\"Ermenegildens Flucht\",\"Bertha von Suttner\"],[\"Franzl und Mirzl\",\"Bertha von Suttner\"],[\"Langeweile\",\"Bertha von Suttner\"],[\"Martha's Kinder\",\"Bertha von Suttner\"],[\"Barf\\u00fc\\u00dfele\",\"Berthold Auerbach\"],[\"Landolin von Reutersh\\u00f6fen\",\"Berthold Auerbach\"],[\"Schwarzw\\u00e4lder Dorfgeschichten\",\"Berthold Auerbach\"],[\"Clemens Brentanos Fr\\u00fchlingskranz\",\"Bettina von Arnim\"],[\"Die G\\u00fcnderode\",\"Bettina von Arnim\"],[\"Goethes Briefwechsel mit einem Kinde\",\"Bettina von Arnim\"],[\"B\\u00fcrgerziel\",\"Carl Albrecht Bernoulli\"],[\"Ull\",\"Carl Albrecht Bernoulli\"],[\"Das Liebhaber-Theater\",\"Carl Franz van der Velde\"],[\"Drei Frauen\",\"Carl Hauptmann\"],[\"Einhart der L\\u00e4chler\",\"Carl Hauptmann\"],[\"Mathilde. Zeichnungen aus dem Leben einer armen Frau\",\"Carl Hauptmann\"],[\"N\\u00e4chte\",\"Carl Hauptmann\"],[\"Von Verbrechen und Abenteuern\",\"Carl Hauptmann\"],[\"Die h\\u00e4\\u00dfliche Wikta\",\"Carl Hermann Busse\"],[\"Jugendst\\u00fcrme\",\"Carl Hermann Busse\"],[\"Die Epigonen\",\"Carl Leberecht Immermann\"],[\"D\\u00fcsseldorfer Anf\\u00e4nge\",\"Carl Leberecht Immermann\"],[\"M\\u00fcnchhausen\",\"Carl Leberecht Immermann\"],[\"Conrad der Leutnant\",\"Carl Spitteler\"],[\"Die M\\u00e4dchenfeinde\",\"Carl Spitteler\"],[\"Imago\",\"Carl Spitteler\"],[\"Geknechteter Wille\",\"Carola von Eynatten\"],[\"Der G\\u00fcnstling\",\"Caroline Auguste Fischer\"],[\"Die Honigmonathe\",\"Caroline Auguste Fischer\"],[\"Gustavs Verirrungen\",\"Caroline Auguste Fischer\"],[\"Krauskopf und Goldl\\u00f6ckchen\",\"Caroline Auguste Fischer\"],[\"Margarethe\",\"Caroline Auguste Fischer\"],[\"Selim und Zora\\u00efde\",\"Caroline Auguste Fischer\"],[\"Vierzehn Tage in Paris\",\"Caroline Auguste Fischer\"],[\"Agathocles\",\"Caroline Pichler\"],[\"Agnes von Lilien\",\"Caroline von Wolzogen\"],[\"Erz\\u00e4hlungen\",\"Caroline von Wolzogen\"],[\"Das Kaj\\u00fctenbuch oder Nationale Charakteristiken\",\"Charles Sealsfield, eigentlich Karl Anton Postl\"],[\"Die Erz\\u00e4hlung des Obersten Morse\",\"Charles Sealsfield, eigentlich Karl Anton Postl\"],[\"Als der Mond in Dorothees Zimmer schien\",\"Charlotte Niese\"],[\"Die falschen Weihnachtsb\\u00e4ume\",\"Charlotte Niese\"],[\"Die Geschichte von einem, der nichts durfte\",\"Charlotte Niese\"],[\"Er und Sie\",\"Charlotte Niese\"],[\"Es war gut so\",\"Charlotte Niese\"],[\"Geschichten aus Holstein\",\"Charlotte Niese\"],[\"Kajus Rungholt\",\"Charlotte Niese\"],[\"Mamsell van Ehren\",\"Charlotte Niese\"],[\"Mein Freund Kaspar und andere Erz\\u00e4hlungen\",\"Charlotte Niese\"],[\"Reifezeit\",\"Charlotte Niese\"],[\"Erna\",\"Charlotte von Ahlefeld\"],[\"Gesammelte Erz\\u00e4hlungen\",\"Charlotte von Ahlefeld\"],[\"Marie M\\u00fcller\",\"Charlotte von Ahlefeld\"],[\"Dosenst\\u00fccke\",\"Christian August Fischer\"],[\"Hannchens Hin- und Herz\\u00fcge\",\"Christian August Fischer\"],[\"Rinaldo Rinaldini, der R\\u00e4uberhauptmann\",\"Christian August Vulpius\"],[\"Ausf\\u00fchrliche Erz\\u00e4hlung wie Ernst Haberfeld aus einem Bauer ein Freiherr geworden ist\",\"Christian Gotthilf Salzmann\"],[\"Aristipp und einige seiner Zeitgenossen\",\"Christoph Martin Wieland\"],[\"Der goldene Spiegel\",\"Christoph Martin Wieland\"],[\"Die Abenteuer des Don Sylvio von Rosalva\",\"Christoph Martin Wieland\"],[\"Erz\\u00e4hlungen\",\"Christoph Martin Wieland\"],[\"Geschichte der Abderiten\",\"Christoph Martin Wieland\"],[\"Koxkox und Kikequetzel\",\"Christoph Martin Wieland\"],[\"Peregrinus Proteus\",\"Christoph Martin Wieland\"],[\"190 kleine Erz\\u00e4hlungen f\\u00fcr die Jugend\",\"Christoph von Schmid\"],[\"Erz\\u00e4hlungen\",\"Christoph von Schmid\"],[\"Ges\\u00fchnt\",\"Claire von Gl\\u00fcmer\"],[\"Aus der Chronika eines fahrenden Sch\\u00fclers\",\"Clemens Brentano\"],[\"Die drei N\\u00fcsse\",\"Clemens Brentano\"],[\"Die mehreren Wehm\\u00fcller und ungarischen Nationalgesichter\",\"Clemens Brentano\"],[\"Geschichte vom braven Kasperl und dem sch\\u00f6nen Annerl\",\"Clemens Brentano\"],[\"Godwi oder Das steinerne Bild der Mutter\",\"Clemens Brentano\"],[\"Angela Borgia\",\"Conrad Ferdinand Meyer\"],[\"Das Amulett\",\"Conrad Ferdinand Meyer\"],[\"Das Leiden eines Knaben\",\"Conrad Ferdinand Meyer\"],[\"Der Heilige\",\"Conrad Ferdinand Meyer\"],[\"Der Schu\\u00df von der Kanzel\",\"Conrad Ferdinand Meyer\"],[\"Die Hochzeit des M\\u00f6nchs\",\"Conrad Ferdinand Meyer\"],[\"Die Richterin\",\"Conrad Ferdinand Meyer\"],[\"Die Versuchung des Pescara\",\"Conrad Ferdinand Meyer\"],[\"Gustav Adolfs Page\",\"Conrad Ferdinand Meyer\"],[\"J\\u00fcrg Jenatsch\",\"Conrad Ferdinand Meyer\"],[\"Plautus im Nonnenkloster\",\"Conrad Ferdinand Meyer\"],[\"Auf der Austernfischerjagd\",\"Detlev von Liliencron\"],[\"Das Ehepaar Quint\",\"Detlev von Liliencron\"],[\"Der letzte Gru\\u00df\",\"Detlev von Liliencron\"],[\"Der Maecen\",\"Detlev von Liliencron\"],[\"Die Dithmarschen\",\"Detlev von Liliencron\"],[\"Die K\\u00f6nige von Norderoog und S\\u00fcderoog\",\"Detlev von Liliencron\"],[\"Die Schlacht bei Stellau. 1201\",\"Detlev von Liliencron\"],[\"Die Spieluhr\",\"Detlev von Liliencron\"],[\"Eine Sommerschlacht\",\"Detlev von Liliencron\"],[\"Geert der Gro\\u00dfe von Holstein\",\"Detlev von Liliencron\"],[\"Greggert Meinstorff\",\"Detlev von Liliencron\"],[\"Hetzjagd\",\"Detlev von Liliencron\"],[\"Kriegsnovellen\",\"Detlev von Liliencron\"],[\"Letzte Ernte\",\"Detlev von Liliencron\"],[\"N\\u00e4chtlicher Angriff\",\"Detlev von Liliencron\"],[\"Roggen und Weizen\",\"Detlev von Liliencron\"],[\"Unter flatternden Fahnen\",\"Detlev von Liliencron\"],[\"Das goldene Tor\",\"Diedrich Speckmann\"],[\"Heidehof Lohe\",\"Diedrich Speckmann\"],[\"Heidjers Heimkehr\",\"Diedrich Speckmann\"],[\"Der Advokatenbauer\",\"Dietrich Theden\"],[\"Die zweite Bu\\u00dfe\",\"Dietrich Theden\"],[\"Die Graue Gasse\",\"Dora Duncker\"],[\"Gross-Berlin\",\"Dora Duncker\"],[\"Grossstadt\",\"Dora Duncker\"],[\"Gro\\u00dfstadt\",\"Dora Duncker\"],[\"Jugend\",\"Dora Duncker\"],[\"Lottes Gl\\u00fcck \\u002f Totgelacht\",\"Dora Duncker\"],[\"Marquise von Pompadour\",\"Dora Duncker\"],[\"M\\u00fctter\",\"Dora Duncker\"],[\"Florentin\",\"Dorothea Schlegel\"],[\"Florentin\",\"Dorothea Schlegel\"],[\"Das Eulenhaus\",\"E. Marlitt\"],[\"Das Geheimnis der alten Mamsell\",\"E. Marlitt\"],[\"Das Heideprinze\\u00dfchen\",\"E. Marlitt\"],[\"Die Frau mit den Karfunkelsteinen\",\"E. Marlitt\"],[\"Die zweite Frau\",\"E. Marlitt\"],[\"Die zw\\u00f6lf Apostel\",\"E. Marlitt\"],[\"Goldelse\",\"E. Marlitt\"],[\"Im Schillingshof\",\"E. Marlitt\"],[\"Reichsgr\\u00e4fin Gisela\",\"E. Marlitt\"],[\"Schulmeisters Marie\",\"E. Marlitt\"],[\"Th\\u00fcringer Erz\\u00e4hlungen\",\"E. Marlitt\"],[\"Adlerflug\",\"E. Werner, eigentlich Elisabeth B\\u00fcrstenbinder\"],[\"Ein Gottesurteil\",\"E. Werner, eigentlich Elisabeth B\\u00fcrstenbinder\"],[\"Fata Morgana\",\"E. Werner, eigentlich Elisabeth B\\u00fcrstenbinder\"],[\"Gebannt und erl\\u00f6st\",\"E. Werner, eigentlich Elisabeth B\\u00fcrstenbinder\"],[\"Gesprengte Fesseln\\u002fVerd\\u00e4chtig\",\"E. Werner, eigentlich Elisabeth B\\u00fcrstenbinder\"],[\"Gl\\u00fcck auf!\",\"E. Werner, eigentlich Elisabeth B\\u00fcrstenbinder\"],[\"Hexengold\",\"E. Werner, eigentlich Elisabeth B\\u00fcrstenbinder\"],[\"Siegwart\",\"E. Werner, eigentlich Elisabeth B\\u00fcrstenbinder\"],[\"Das Wyler Schl\\u00f6\\u00dfchen. Die rothen Nelken. Ein Schrei\\n\",\"Edmund Hoefer\"],[\"Bruchst\\u00fccke eines Romans\",\"Eduard M\\u00f6rike\"],[\"Der Schatz\",\"Eduard M\\u00f6rike\"],[\"Lucie Gelmeroth\",\"Eduard M\\u00f6rike\"],[\"Die wei\\u00dfen G\\u00f6tter - Erster Band\",\"Eduard Stucken\"],[\"B\\u00fcrgerlich und Romantisch\",\"Eduard von Bauernfeld\"],[\"Abendliche H\\u00e4user\",\"Eduard von Keyserling\"],[\"Dumala\",\"Eduard von Keyserling\"],[\"Feiertagskinder\",\"Eduard von Keyserling\"],[\"Harmonie\",\"Eduard von Keyserling\"],[\"Schw\\u00fcle Tage\",\"Eduard von Keyserling\"],[\"Wellen\",\"Eduard von Keyserling\"],[\"Zwei Novellen\",\"Eduard von Keyserling\"],[\"B\\u00fcrgerin Louise\",\"Edward Stilgebauer\"],[\"Briefe, die ihn nicht erreichten\",\"Elisabeth von Heyking\"],[\"Das vollkommene Gl\\u00fcck\",\"Elisabeth von Heyking\"],[\"Der Tag Anderer\",\"Elisabeth von Heyking\"],[\"Tschun\",\"Elisabeth von Heyking\"],[\"Weberin Schuld\",\"Elisabeth von Heyking\"],[\"Papillon\",\"Elise Polko\"],[\"Aus dem Elend\",\"Emerenz Meier\"],[\"Der Brechelbrei\",\"Emerenz Meier\"],[\"Der Juhschroa\",\"Emerenz Meier\"],[\"Die Madlh\\u00fcttler\",\"Emerenz Meier\"],[\"Irrgarten des Lebens\",\"Emil Ertl\"],[\"Nachtschmetterlinge\",\"Emil Frommel\"],[\"Die Wallfahrt\",\"Emil G\\u00f6tt\"],[\"Die Schmiede\",\"Emil Sandt\"],[\"Heckenrosen\",\"Emilie Giehrl\"],[\"Die Europam\\u00fcden\",\"Ernst Adolf Willkomm\"],[\"Erz\\u00e4hlungen eines Wattenschiffers\",\"Ernst Adolf Willkomm\"],[\"Rheder und Matrose\",\"Ernst Adolf Willkomm\"],[\"Verirrte Seelen\",\"Ernst Adolf Willkomm\"],[\"Weisse Sclaven oder die Leiden des Volkes\",\"Ernst Adolf Willkomm\"],[\"Die Nachtwachen des Bonaventura\",\"Ernst August Friedrich Klingemann\"],[\"Der gestohlene Mond\",\"Ernst Barlach\"],[\"F\\u00fcrst Arno\",\"Ernst Eckstein\"],[\"Nero\",\"Ernst Eckstein\"],[\"Preisgekr\\u00f6nt\",\"Ernst Eckstein\"],[\"Vielliebchen\",\"Ernst Eckstein\"],[\"Die Elixiere des Teufels\",\"Ernst Theodor Amadeus Hoffmann\"],[\"Lebensansichten des Katers Murr\",\"Ernst Theodor Amadeus Hoffmann\"],[\"Archambauld\",\"Ernst von Wildenbruch\"],[\"Neid\",\"Ernst von Wildenbruch\"],[\"'s Meikatel und der Sexack\",\"Ernst von Wolzogen\"],[\"Das dritte Geschlecht\",\"Ernst von Wolzogen\"],[\"Der Bibelhase\",\"Ernst von Wolzogen\"],[\"Der Kraft-Mayr\",\"Ernst von Wolzogen\"],[\"Die Gloria-Hose\",\"Ernst von Wolzogen\"],[\"Die Gloria-Hose und andere Novellen\",\"Ernst von Wolzogen\"],[\"Drei Geschichten\",\"Ernst von Wolzogen\"],[\"Das Duell\",\"Ernst Wichert\"],[\"Das Grundst\\u00fcck\",\"Ernst Wichert\"],[\"Der B\\u00fcrgermeister von Thorn\",\"Ernst Wichert\"],[\"Der Schaktarp\",\"Ernst Wichert\"],[\"Der V\\u00e4ter S\\u00fcnden\",\"Ernst Wichert\"],[\"Der Wilddieb\",\"Ernst Wichert\"],[\"Die Schwestern\",\"Ernst Wichert\"],[\"Endrik Kraupatis\",\"Ernst Wichert\"],[\"Ewe\",\"Ernst Wichert\"],[\"Schuster Lange\",\"Ernst Wichert\"],[\"Auf Rother Erde\",\"Fanny Lewald\"],[\"Clementine\",\"Fanny Lewald\"],[\"Diogena\",\"Fanny Lewald\"],[\"Eine Lebensfrage\",\"Fanny Lewald\"],[\"Von Geschlecht zu Geschlecht\",\"Fanny Lewald\"],[\"Wandlungen. Erster Band\",\"Fanny Lewald\"],[\"Das Heiratsjahr\",\"Fedor von Zobeltitz\"],[\"Der Beutezug der Liebe\",\"Fedor von Zobeltitz\"],[\"Der Kurier des Kaisers\",\"Fedor von Zobeltitz\"],[\"Der Telamone\",\"Fedor von Zobeltitz\"],[\"Bis zum Tode getreu\",\"Felix Dahn\"],[\"Kampf um Rom\",\"Felix Dahn\"],[\"Odhin's Trost\",\"Felix Dahn\"],[\"Das Schiff der Abenteuer\",\"Felix Hollaender\"],[\"Der Weg des Thomas Truck\",\"Felix Hollaender\"],[\"Die Briefe des Fr\\u00e4ulein Brandt\",\"Felix Hollaender\"],[\"Salomons Schwiegertochter\",\"Felix Hollaender\"],[\"Sturmwind im Westen\",\"Felix Hollaender\"],[\"\\u00bb1906\\u00ab\",\"Ferdinand Grautoff, Pseudonym Seestern\"],[\"Bansai!\",\"Ferdinand Grautoff, Pseudonym Seestern\"],[\"Die Steinklopfer\",\"Ferdinand von Saar\"],[\"Innocens\",\"Ferdinand von Saar\"],[\"Marianne\",\"Ferdinand von Saar\"],[\"Schlo\\u00df Kostenitz\",\"Ferdinand von Saar\"],[\"Tambi\",\"Ferdinand von Saar\"],[\"Tragik des Lebens\",\"Ferdinand von Saar\"],[\"Daniella\",\"Ferdinande von Brackel\"],[\"Die Tochter des Kunstreiters\",\"Ferdinande von Brackel\"],[\"Kinder der Liebe\",\"Frances K\\u00fclpe\"],[\"Rote Tage\",\"Frances K\\u00fclpe\"],[\"Erz\\u00e4hlungen\",\"Frank Wedekind\"],[\"Rabbi Esra\",\"Frank Wedekind\"],[\"Moschele\",\"Franz Friedrich Alexander Hoffmann\"],[\"Grenzenlos!\",\"Franz Josef Zlatnik\"],[\"Reich und arm\",\"Franz Michael Felder\"],[\"Sieben Erz\\u00e4hlungen\",\"Franz Stelzhamer\"],[\"Der Held von Trenton\",\"Franz Treller\"],[\"Unter dem R\\u00f6merhelm\",\"Franz Treller\"],[\"Die neuen Argonauten\",\"Franz von Dingelstedt\"],[\"Die Brenta-Blume\",\"Franz von Gaudy\"],[\"Novellen und Erz\\u00e4hlungen 1\",\"Franz von Gaudy\"],[\"Novellen und Erz\\u00e4hlungen 2\",\"Franz von Gaudy\"],[\"Venetianische Novellen\",\"Franz von Gaudy\"],[\"Wildanger\",\"Franz von Kobell\"],[\"Die belohnte Wohlthat\",\"Franz Xaver Bronner\"],[\"Ein M\\u00f6nchsleben aus der empfindsamen Zeit, Band 1\",\"Franz Xaver Bronner\"],[\"Ein M\\u00f6nchsleben aus der empfindsamen Zeit, Band 2\",\"Franz Xaver Bronner\"],[\"Aus Nacht zum Licht\",\"Frida von Kronoff\"],[\"Albert und Albertine\",\"Friederike Helene Unger\"],[\"Bekenntnisse einer sch\\u00f6nen Seele\",\"Friederike Helene Unger\"],[\"Julchen Gr\\u00fcnthal\",\"Friederike Helene Unger\"],[\"Amey\",\"Friederike Henriette Kraze\"],[\"Jahr der Wandlung\",\"Friederike Henriette Kraze\"],[\"Maria am Meer\",\"Friederike Henriette Kraze\"],[\"Alte und neue Heimat\",\"Friedrich Armand Strubberg, Pseudonym Armand\"],[\"Die Rache des Mestizen\",\"Friedrich Armand Strubberg, Pseudonym Armand\"],[\"Saat und Ernte\",\"Friedrich Armand Strubberg, Pseudonym Armand\"],[\"Mittheilungen aus den geheimen Memoiren einer deutschen S\\u00e4ngerin\",\"Friedrich Bruckbr\\u00e4u\"],[\"Eine Geschichte vom Galgenm\\u00e4nnlein\",\"Friedrich de la Motte Fouqu\\u00e9\"],[\"Sintram und seine Gef\\u00e4hrten\",\"Friedrich de la Motte Fouqu\\u00e9\"],[\"Alle jagen John Mulligan\",\"Friedrich Gerst\\u00e4cker\"],[\"Blau Wasser\",\"Friedrich Gerst\\u00e4cker\"],[\"Das alte Haus\",\"Friedrich Gerst\\u00e4cker\"],[\"Das Wrack\",\"Friedrich Gerst\\u00e4cker\"],[\"Der Erbe\",\"Friedrich Gerst\\u00e4cker\"],[\"Der erkaufte Henker\",\"Friedrich Gerst\\u00e4cker\"],[\"Der Fischfang am Mississippi\",\"Friedrich Gerst\\u00e4cker\"],[\"Der Flatbootmann\",\"Friedrich Gerst\\u00e4cker\"],[\"Der Freisch\\u00fctz\",\"Friedrich Gerst\\u00e4cker\"],[\"Der kleine Walfischf\\u00e4nger\",\"Friedrich Gerst\\u00e4cker\"],[\"Der Kunstreiter\",\"Friedrich Gerst\\u00e4cker\"],[\"Der Osage\",\"Friedrich Gerst\\u00e4cker\"],[\"Der Schiffszimmermann\",\"Friedrich Gerst\\u00e4cker\"],[\"Der tote Zimmermann\",\"Friedrich Gerst\\u00e4cker\"],[\"Der Walfischf\\u00e4nger\",\"Friedrich Gerst\\u00e4cker\"],[\"Der Wilddieb\",\"Friedrich Gerst\\u00e4cker\"],[\"Die Ahnung\",\"Friedrich Gerst\\u00e4cker\"],[\"Die Backwoodsmen Nordamerikas\",\"Friedrich Gerst\\u00e4cker\"],[\"Die Blauen und Gelben\",\"Friedrich Gerst\\u00e4cker\"],[\"Die Colonie\",\"Friedrich Gerst\\u00e4cker\"],[\"Die Flucht \\u00fcber die Kordilleren\",\"Friedrich Gerst\\u00e4cker\"],[\"Die Flu\\u00dfpiraten des Mississippi\",\"Friedrich Gerst\\u00e4cker\"],[\"Die Moderatoren\",\"Friedrich Gerst\\u00e4cker\"],[\"Die Nacht auf dem Walfisch\",\"Friedrich Gerst\\u00e4cker\"],[\"Die Regulatoren in Arkansas\",\"Friedrich Gerst\\u00e4cker\"],[\"Die Silbermine in den Ozarkgebirgen\",\"Friedrich Gerst\\u00e4cker\"],[\"Die Sklavin\",\"Friedrich Gerst\\u00e4cker\"],[\"Die Vertreibung der Mormonen aus Missouri\",\"Friedrich Gerst\\u00e4cker\"],[\"Die Wolfsglocke\",\"Friedrich Gerst\\u00e4cker\"],[\"General Franco\",\"Friedrich Gerst\\u00e4cker\"],[\"Gold\",\"Friedrich Gerst\\u00e4cker\"],[\"Hell und Dunkel\",\"Friedrich Gerst\\u00e4cker\"],[\"Herr Schultze\",\"Friedrich Gerst\\u00e4cker\"],[\"Herrn Mahlhuber's Reiseabenteuer\",\"Friedrich Gerst\\u00e4cker\"],[\"Im Busch\",\"Friedrich Gerst\\u00e4cker\"],[\"Im Eckfenster\",\"Friedrich Gerst\\u00e4cker\"],[\"In der S\\u00fcdsee\",\"Friedrich Gerst\\u00e4cker\"],[\"In Mexiko. Erster Band\",\"Friedrich Gerst\\u00e4cker\"],[\"Irrfahrten\",\"Friedrich Gerst\\u00e4cker\"],[\"Jack und Bill\",\"Friedrich Gerst\\u00e4cker\"],[\"John Wells\",\"Friedrich Gerst\\u00e4cker\"],[\"Pech!\",\"Friedrich Gerst\\u00e4cker\"],[\"Schwarz und Wei\\u00df\",\"Friedrich Gerst\\u00e4cker\"],[\"Se\\u00f1or Aguila\",\"Friedrich Gerst\\u00e4cker\"],[\"So du mir, so ich dir\",\"Friedrich Gerst\\u00e4cker\"],[\"Str\\u00e4flinge\",\"Friedrich Gerst\\u00e4cker\"],[\"Tahiti\",\"Friedrich Gerst\\u00e4cker\"],[\"Unter dem \\u00c4quator\",\"Friedrich Gerst\\u00e4cker\"],[\"Unter den Pehuenchen\",\"Friedrich Gerst\\u00e4cker\"],[\"Verh\\u00e4ngnisse\",\"Friedrich Gerst\\u00e4cker\"],[\"Anna\",\"Friedrich Hebbel\"],[\"Aus meiner Jugend\",\"Friedrich Hebbel\"],[\"Barbier Zitterlein\",\"Friedrich Hebbel\"],[\"Der Schneidermeister Nepomuk Schl\\u00e4gel auf der Freudenjagd\",\"Friedrich Hebbel\"],[\"Die Kuh\",\"Friedrich Hebbel\"],[\"Die Obermedizinalr\\u00e4tin\",\"Friedrich Hebbel\"],[\"Eine Nacht im J\\u00e4gerhause\",\"Friedrich Hebbel\"],[\"Herr Haidvogel und seine Familie\",\"Friedrich Hebbel\"],[\"Matteo\",\"Friedrich Hebbel\"],[\"Pauls merkw\\u00fcrdigste Nacht\",\"Friedrich Hebbel\"],[\"Schnock\",\"Friedrich Hebbel\"],[\"Treue Liebe\",\"Friedrich Hebbel\"],[\"Fragment von Hyperion\",\"Friedrich H\\u00f6lderlin\"],[\"Hyperions Jugend\",\"Friedrich H\\u00f6lderlin\"],[\"Geschichte eines Teutschen der neusten Zeit\",\"Friedrich Maximilian Klinger\"],[\"[Das philosophische Gespr\\u00e4ch aus dem Geisterseher]\",\"Friedrich Schiller\"],[\"Der Verbrecher aus verlorener Ehre\",\"Friedrich Schiller\"],[\"Merkw\\u00fcrdiges Beispiel einer weiblichen Rache\",\"Friedrich Schiller\"],[\"Alles flie\\u00dft\",\"Friedrich Spielhagen\"],[\"Allzeit voran\",\"Friedrich Spielhagen\"],[\"An der Heilquelle\",\"Friedrich Spielhagen\"],[\"Angela\",\"Friedrich Spielhagen\"],[\"Beitr\\u00e4ge zur Theorie und Technik des Romans\",\"Friedrich Spielhagen\"],[\"Clara Vere\",\"Friedrich Spielhagen\"],[\"Das Skelet im Hause\",\"Friedrich Spielhagen\"],[\"Deutsche Pioniere\",\"Friedrich Spielhagen\"],[\"Die Dorfcoquette\",\"Friedrich Spielhagen\"],[\"Die von Hohenstein. Erster Band\",\"Friedrich Spielhagen\"],[\"Ein neuer Pharao\",\"Friedrich Spielhagen\"],[\"Faustulus\",\"Friedrich Spielhagen\"],[\"Frei geboren\",\"Friedrich Spielhagen\"],[\"Hammer und Ambo\\u00df\",\"Friedrich Spielhagen\"],[\"Hans und Grete\",\"Friedrich Spielhagen\"],[\"Herrin\",\"Friedrich Spielhagen\"],[\"In der zw\\u00f6lften Stunde\",\"Friedrich Spielhagen\"],[\"In Reih' und Glied. Erster Theil\",\"Friedrich Spielhagen\"],[\"Opfer\",\"Friedrich Spielhagen\"],[\"R\\u00f6schen vom Hofe\",\"Friedrich Spielhagen\"],[\"Selbstgerecht\",\"Friedrich Spielhagen\"],[\"Stumme des Himmels\",\"Friedrich Spielhagen\"],[\"Sturmflut\",\"Friedrich Spielhagen\"],[\"Uhlenhans\",\"Friedrich Spielhagen\"],[\"Ultimo\",\"Friedrich Spielhagen\"],[\"Unter Tannen\",\"Friedrich Spielhagen\"],[\"Was will das werden? Erster Theil\",\"Friedrich Spielhagen\"],[\"Zum Zeitvertreib\",\"Friedrich Spielhagen\"],[\"Faust: Erz\\u00e4hlung in neun Briefen\",\"Friedrich von Bodenstedt\"],[\"Gr\\u00e4fin Helene\",\"Friedrich von Bodenstedt\"],[\"Am Kamin\",\"Friedrich Wilhelm Hackl\\u00e4nder\"],[\"Europ\\u00e4isches Sklavenleben\",\"Friedrich Wilhelm Hackl\\u00e4nder\"],[\"Humoristische Erz\\u00e4hlungen\",\"Friedrich Wilhelm Hackl\\u00e4nder\"],[\"Vier K\\u00f6nige \\u002f Bilder aus dem Soldatenleben\",\"Friedrich Wilhelm Hackl\\u00e4nder\"],[\"B\\u00f6hmische Novellen\",\"Fritz Mauthner\"],[\"Das Durchhaus\",\"Fritz St\\u00fcber-Gunther\"],[\"St\\u00fcrme\",\"Georg Asmussen\"],[\"Die Gred\",\"Georg Ebers\"],[\"Im Schmiedefeuer\",\"Georg Ebers\"],[\"Kleopatra\",\"Georg Ebers\"],[\"Claus St\\u00f6rtebecker\",\"Georg Engel\"],[\"Der verbotene Rausch\",\"Georg Engel\"],[\"Die Last\",\"Georg Engel\"],[\"Hann Kl\\u00fcth\",\"Georg Engel\"],[\"Der Dieb\",\"Georg Heym\"],[\"Der Dieb\",\"Georg Heym\"],[\"Eine Fratze\",\"Georg Heym\"],[\"Faust und Don Juan\",\"Georg Ludwig Hesekiel\"],[\"Der Kapuziner\",\"Georg Queri\"],[\"Aus gro\\u00dfen H\\u00f6hen\",\"Georg von Ompteda\"],[\"Das Haus\",\"Georg von Ompteda\"],[\"Denise de Montmidi\",\"Georg von Ompteda\"],[\"Der Horla\",\"Georg von Ompteda\"],[\"Der Liebling\",\"Georg von Ompteda\"],[\"Dickchen\",\"Georg von Ompteda\"],[\"Die kleine Roque\",\"Georg von Ompteda\"],[\"Die Schnepfe\",\"Georg von Ompteda\"],[\"Die Schwestern Rondoli\",\"Georg von Ompteda\"],[\"Die Tafelrunde\",\"Georg von Ompteda\"],[\"Ein Menschenleben\",\"Georg von Ompteda\"],[\"Ernst III.\",\"Georg von Ompteda\"],[\"Fr\\u00e4ulein Fifi\",\"Georg von Ompteda\"],[\"Hans und Peter\",\"Georg von Ompteda\"],[\"Herr Parent\",\"Georg von Ompteda\"],[\"Margret und Ossana\",\"Georg von Ompteda\"],[\"Maria da Caza\",\"Georg von Ompteda\"],[\"Mi\\u00df Harriet\",\"Georg von Ompteda\"],[\"Mondschein\",\"Georg von Ompteda\"],[\"Mont Oriol\",\"Georg von Ompteda\"],[\"Nutzlose Sch\\u00f6nheit\",\"Georg von Ompteda\"],[\"Schnaps-Anton\",\"Georg von Ompteda\"],[\"Stark wie der Tod\",\"Georg von Ompteda\"],[\"Tag- und Nachtgeschichten\",\"Georg von Ompteda\"],[\"Tugendpreis\",\"Georg von Ompteda\"],[\"Unser Herz\",\"Georg von Ompteda\"],[\"Fragment eines Romans\",\"Georg Weerth\"],[\"Don Juan\",\"Gerrit Engelke\"],[\"Das schnellste Schiff der Flotte\",\"Gorch Fock, eigentlich Johann Kinau\"],[\"Nach dem Sturm\",\"Gorch Fock, eigentlich Johann Kinau\"],[\"Seefahrt ist not!\",\"Gorch Fock, eigentlich Johann Kinau\"],[\"Martin Salander\",\"Gottfried Keller\"],[\"Nachgelassene Erz\\u00e4hlungen\",\"Gottfried Keller\"],[\"Z\\u00fcricher Novellen\",\"Gottfried Keller\"],[\"Kreuz und Schwert\",\"Gregor Samarow, eigentlich Johann Ferdinand Martin Oskar Meding\"],[\"Ritter oder Dame\",\"Gregor Samarow, eigentlich Johann Ferdinand Martin Oskar Meding\"],[\"Die Intellektuellen\",\"Grete Meisel-He\\u00df\"],[\"Aus dem Durchschnitt\",\"Gustav Falke\"],[\"Der Mann im Nebel\",\"Gustav Falke\"],[\"Die Kinder aus Ohlsens Gang\",\"Gustav Falke\"],[\"Herr Purtaller und seine Tochter\",\"Gustav Falke\"],[\"Landen und Stranden\",\"Gustav Falke\"],[\"Die Ahnen\",\"Gustav Freytag\"],[\"Die verlorene Handschrift\",\"Gustav Freytag\"],[\"Soll und Haben\",\"Gustav Freytag\"],[\"Das gr\\u00fcne Gesicht\",\"Gustav Meyrink, eigentlich Gustav Meyer\"],[\"Der Engel vom westlichen Fenster\",\"Gustav Meyrink, eigentlich Gustav Meyer\"],[\"Der Golem\",\"Gustav Meyrink, eigentlich Gustav Meyer\"],[\"Der L\\u00f6we Alois und andere Geschichten\",\"Gustav Meyrink, eigentlich Gustav Meyer\"],[\"Der seltsame Gast\",\"Gustav Meyrink, eigentlich Gustav Meyer\"],[\"Der wei\\u00dfe Dominikaner\",\"Gustav Meyrink, eigentlich Gustav Meyer\"],[\"Des deutschen Spie\\u00dfers Wunderhorn\",\"Gustav Meyrink, eigentlich Gustav Meyer\"],[\"Die Abenteuer des Polen Sendivogius\",\"Gustav Meyrink, eigentlich Gustav Meyer\"],[\"Walpurgisnacht\",\"Gustav Meyrink, eigentlich Gustav Meyer\"],[\"Ein Namenloser\",\"Gustav Sack\"],[\"Ein verbummelter Student\",\"Gustav Sack\"],[\"Arge Sitten\",\"Hans von Hopfen, eigentlich Hans Mayer\"],[\"Der alte Praktikant\",\"Hans von Hopfen, eigentlich Hans Mayer\"],[\"Die Geschichten des Majors\",\"Hans von Hopfen, eigentlich Hans Mayer\"],[\"Die Heirath des Herrn von Waldenbergt\",\"Hans von Hopfen, eigentlich Hans Mayer\"],[\"Peregretta\",\"Hans von Hopfen, eigentlich Hans Mayer\"],[\"Robert Leichtfu\\u00df\",\"Hans von Hopfen, eigentlich Hans Mayer\"],[\"Verdorben zu Paris\",\"Hans von Hopfen, eigentlich Hans Mayer\"],[\"Mi\\u00df Lydia\",\"Hans Wachenhusen\"],[\"Was die Stra\\u00dfe verschlingt. Erster Band\",\"Hans Wachenhusen\"],[\"Christa Ruland\",\"Hedwig Dohm\"],[\"Schicksale einer Seele\",\"Hedwig Dohm\"],[\"Sibilla Dalmar\",\"Hedwig Dohm\"],[\"Werde, die Du bist!\",\"Hedwig Dohm\"],[\"Wie Frauen werden\",\"Hedwig Dohm\"],[\"Flitter und Schein\",\"Hedwig Dransfeld\"],[\"Das Dijon-R\\u00f6schen\",\"Heinrich Clauren, eigentlich Karl Gottlieb Samuel Heun\"],[\"Das Raubschlo\\u00df\",\"Heinrich Clauren, eigentlich Karl Gottlieb Samuel Heun\"],[\"Der Blutschatz\",\"Heinrich Clauren, eigentlich Karl Gottlieb Samuel Heun\"],[\"Der selige Papier-M\\u00fcller\",\"Heinrich Clauren, eigentlich Karl Gottlieb Samuel Heun\"],[\"Die Gr\\u00e4fin Cherubim\",\"Heinrich Clauren, eigentlich Karl Gottlieb Samuel Heun\"],[\"Die Gr\\u00e4nz-Kommission\",\"Heinrich Clauren, eigentlich Karl Gottlieb Samuel Heun\"],[\"Die Gro\\u00dfmutter\",\"Heinrich Clauren, eigentlich Karl Gottlieb Samuel Heun\"],[\"Die Versuchung\",\"Heinrich Clauren, eigentlich Karl Gottlieb Samuel Heun\"],[\"Makk\",\"Heinrich Clauren, eigentlich Karl Gottlieb Samuel Heun\"],[\"Mimili\",\"Heinrich Clauren, eigentlich Karl Gottlieb Samuel Heun\"],[\"Berge und Menschen\",\"Heinrich Federer\"],[\"Das letzte St\\u00fcndlein des Papstes\",\"Heinrich Federer\"],[\"Das Wunder in Holzschuhen\",\"Heinrich Federer\"],[\"Der F\\u00fcrchtemacher\",\"Heinrich Federer\"],[\"Gebt mir meine Wildnis wieder\",\"Heinrich Federer\"],[\"Jungfer Therese\",\"Heinrich Federer\"],[\"Lachweiler Geschichten\",\"Heinrich Federer\"],[\"Regina Lob\",\"Heinrich Federer\"],[\"Sisto e Sesto (Erz\\u00e4hlung)\",\"Heinrich Federer\"],[\"Spitzbube \\u00fcber Spitzbube\",\"Heinrich Federer\"],[\"Unter s\\u00fcdlichen Sonnen und Menschen\",\"Heinrich Federer\"],[\"Wander- und Wundergeschichten aus dem S\\u00fcden\",\"Heinrich Federer\"],[\"Zwei Skizzenbl\\u00e4tter\",\"Heinrich Hart\"],[\"Romanzero\",\"Heinrich Heine\"],[\"Das Gl\\u00fcck\",\"Heinrich Laube\"],[\"Der deutsche Krieg. I. Buch, Junker Hans. 1. Theil\",\"Heinrich Laube\"],[\"Die Schauspielerin\",\"Heinrich Laube\"],[\"Liebesbriefe\",\"Heinrich Laube\"],[\"Novellen\",\"Heinrich Laube\"],[\"Fritz Reinhardt\",\"Heinrich Schaumberger\"],[\"Gesalzene Krapfen\",\"Heinrich Schaumberger\"],[\"Im Hirtenhaus\",\"Heinrich Schaumberger\"],[\"Umsingen\",\"Heinrich Schaumberger\"],[\"Das Brautschiff\",\"Heinrich Smidt\"],[\"Ein Seelenverkauf oder Was zahlt Ostindien? Dritter Theil\",\"Heinrich Smidt\"],[\"Jan Blaufink oder See und Theater\",\"Heinrich Smidt\"],[\"Meeresstille und hohe See\",\"Heinrich Smidt\"],[\"Seegeschichten und Marinebilder\",\"Heinrich Smidt\"],[\"Irmela\",\"Heinrich Steinhausen\"],[\"Addrich im Moos\",\"Heinrich Zschokke\"],[\"Das Abenteuer der Neujahrsnacht\",\"Heinrich Zschokke\"],[\"Das Goldmacherdorf\",\"Heinrich Zschokke\"],[\"Der Fl\\u00fcchtling im Jura\",\"Heinrich Zschokke\"],[\"Der Freihof von Aarau\",\"Heinrich Zschokke\"],[\"Die Rose von Disentis\",\"Heinrich Zschokke\"],[\"Die Walpurgisnacht\",\"Heinrich Zschokke\"],[\"Ein Narr des Neunzehnten Jahrhunderts\",\"Heinrich Zschokke\"],[\"Hans Dampf in allen Gassen\",\"Heinrich Zschokke\"],[\"Frau Doktor Breuer\",\"Helene von M\\u00fchlau, eigentlich Hedwig von M\\u00fchlenfels, geb. Rathgeber\"],[\"Erz\\u00e4hlungen. Aus den Papieren der Herzogin von Nottingham\",\"Henriette von Paalzow\"],[\"Godwie-Castle\",\"Henriette von Paalzow\"],[\"Ste. Roche\",\"Henriette von Paalzow\"],[\"Der Begleiter\",\"Henry von Heiseler\"],[\"Wawas Ende\",\"Henry von Heiseler\"],[\"Der inwendige Garten\",\"Hermann Bahr\"],[\"Die gute Schule\",\"Hermann Bahr\"],[\"Die sch\\u00f6ne Frau\",\"Hermann Bahr\"],[\"Leander\",\"Hermann Bahr\"],[\"12 Novellen\",\"Hermann Essig\"],[\"Der Taifun\",\"Hermann Essig\"],[\"Aus allen Winkeln\",\"Hermann Heiberg\"],[\"Das Schicksal auf Moorheide\",\"Hermann Heiberg\"],[\"Fluch der Sch\\u00f6nheit\",\"Hermann Heiberg\"],[\"Gesammelte kleinere Erz\\u00e4hlungen - Band 2\",\"Hermann Kurz\"],[\"Gesammelte kleinere Erz\\u00e4hlungen - Band 3\",\"Hermann Kurz\"],[\"Gesammelte kleinere Erz\\u00e4hlungen - Band 4\",\"Hermann Kurz\"],[\"Byzantinische Novellen\",\"Hermann Lingg\"],[\"Kleine Erz\\u00e4hlungen\",\"Hermann L\\u00f6ns\"],[\"Fritz Beutel\",\"Hermann Marggraff\"],[\"Der tolle Professor\",\"Hermann Sudermann\"],[\"Der verwandelte F\\u00e4cher und zwei andere Novellen\",\"Hermann Sudermann\"],[\"Es war\",\"Hermann Sudermann\"],[\"Frau Sorge\",\"Hermann Sudermann\"],[\"Geschwister\",\"Hermann Sudermann\"],[\"Im Zwielicht\",\"Hermann Sudermann\"],[\"Litauische Geschichten\",\"Hermann Sudermann\"],[\"Aus dem Badener Land\",\"Hermine Villinger\"],[\"Aus meiner Heimat\",\"Hermine Villinger\"],[\"Das blaue Mal\",\"Hugo Bettauer\"],[\"Der Kampf um Wien\",\"Hugo Bettauer\"],[\"Die Freudlose Gasse\",\"Hugo Bettauer\"],[\"Die Stadt ohne Juden\",\"Hugo Bettauer\"],[\"Faustrecht\",\"Hugo Bettauer\"],[\"Vergangenheit\",\"Hugo Salus\"],[\"Das M\\u00e4rchen der 672. Nacht\",\"Hugo von Hofmannsthal\"],[\"Die Frau ohne Schatten\",\"Hugo von Hofmannsthal\"],[\"Erlebnis des Marschalls von Bassompierre\",\"Hugo von Hofmannsthal\"],[\"Lucidor\",\"Hugo von Hofmannsthal\"],[\"Reitergeschichte\",\"Hugo von Hofmannsthal\"],[\"Annas Ehe\",\"Ida Boy-Ed\"],[\"Die Opferschale\",\"Ida Boy-Ed\"],[\"Ein k\\u00f6niglicher Kaufmann\",\"Ida Boy-Ed\"],[\"Empor!\",\"Ida Boy-Ed\"],[\"Fanny F\\u00f6rster\",\"Ida Boy-Ed\"],[\"Um ein Weib\",\"Ida Boy-Ed\"],[\"Vor der Ehe\",\"Ida Boy-Ed\"],[\"Zwei M\\u00e4nner\",\"Ida Boy-Ed\"],[\"Gr\\u00e4fin Faustine\",\"Ida Hahn-Hahn\"],[\"Maria Regina - Band 1\",\"Ida Hahn-Hahn\"],[\"Maria Regina - Band 2\",\"Ida Hahn-Hahn\"],[\"Sibylle\",\"Ida Hahn-Hahn\"],[\"Tobias Guarnerius\",\"Ignaz Franz Castelli, Pseudonym Bruder Fatalis\"],[\"Arbeit\",\"Ilse Frapan\"],[\"Querk\\u00f6pfe\",\"Ilse Frapan\"],[\"Schreie. Novellen und Skizzen\",\"Ilse Frapan\"],[\"Was der Alltag dichtet\",\"Ilse Frapan\"],[\"Wir Frauen haben kein Vaterland\",\"Ilse Frapan\"],[\"Zu Wasser und zu Lande\",\"Ilse Frapan\"],[\"Zwischen Elbe und Alster\",\"Ilse Frapan\"],[\"Guten Abend!\",\"Isabella Braun\"],[\"Deutsche Sagen\",\"Jacob Grimm\"],[\"An heiligen Wassern\",\"Jakob Christoph Heer\"],[\"Der K\\u00f6nig der Bernina\",\"Jakob Christoph Heer\"],[\"Der lange Balthasar\",\"Jakob Christoph Heer\"],[\"Der Wetterwart\",\"Jakob Christoph Heer\"],[\"Felix Notvest\",\"Jakob Christoph Heer\"],[\"Laubgewind\",\"Jakob Christoph Heer\"],[\"Tobias Heider\",\"Jakob Christoph Heer\"],[\"Das k\\u00f6nigliche Spiel\",\"Jakob Julius David\"],[\"Das Totenlied\",\"Jakob Julius David\"],[\"Der Bettelvogt\",\"Jakob Julius David\"],[\"Die Hanna\",\"Jakob Julius David\"],[\"Die Tochter Fortunats\",\"Jakob Julius David\"],[\"Die Troika\",\"Jakob Julius David\"],[\"Ein Poet?\",\"Jakob Julius David\"],[\"Halluzinationen\",\"Jakob Julius David\"],[\"Schu\\u00df in der Nacht\",\"Jakob Julius David\"],[\"Verst\\u00f6rte Zeit\",\"Jakob Julius David\"],[\"Empfindsamster aller Romane\",\"Jakob Michael Reinhold Lenz\"],[\"Alexander in Babylon\",\"Jakob Wassermann\"],[\"Caspar Hauser oder Die Tr\\u00e4gheit des Herzens\",\"Jakob Wassermann\"],[\"Christian Wahnschaffe\",\"Jakob Wassermann\"],[\"Das G\\u00e4nsem\\u00e4nnchen\",\"Jakob Wassermann\"],[\"Das Gold von Caxamalca\",\"Jakob Wassermann\"],[\"Der Aufruhr um den Junker Ernst\",\"Jakob Wassermann\"],[\"Der Fall Maurizius\",\"Jakob Wassermann\"],[\"Der niegek\\u00fc\\u00dfte Mund und andere Erz\\u00e4hlungen\",\"Jakob Wassermann\"],[\"Die Geschichte der jungen Renate Fuchs\",\"Jakob Wassermann\"],[\"Die Juden von Zirndorf\",\"Jakob Wassermann\"],[\"Die Masken Erwin Reiners\",\"Jakob Wassermann\"],[\"Die Pest im Vintschgau\",\"Jakob Wassermann\"],[\"Die Schwestern\",\"Jakob Wassermann\"],[\"Donna Johanna von Castilien\",\"Jakob Wassermann\"],[\"Joseph Kerkhovens dritte Existenz\",\"Jakob Wassermann\"],[\"Laudin und die Seinen\",\"Jakob Wassermann\"],[\"Lukardis\",\"Jakob Wassermann\"],[\"Mein Weg als Deutscher und Jude\",\"Jakob Wassermann\"],[\"Melusine\",\"Jakob Wassermann\"],[\"Schl\\u00e4fst du, Mutter?\",\"Jakob Wassermann\"],[\"Ulrike\",\"Jakob Wassermann\"],[\"Des Geburtshelfers Walther Vierneissel Nachtgedanken \\u00fcber seine verlorenen F\\u00f6tus-Ideale\",\"Jean Paul, eigentlich Johann Paul Friedrich Richter\"],[\"Barthli der Korber\",\"Jeremias Gotthelf, eigentlich Albert Bitzius\"],[\"Das Erdbeerimareili\",\"Jeremias Gotthelf, eigentlich Albert Bitzius\"],[\"Die schwarze Spinne\",\"Jeremias Gotthelf, eigentlich Albert Bitzius\"],[\"Elsi, die seltsame Magd\",\"Jeremias Gotthelf, eigentlich Albert Bitzius\"],[\"Geld und Geist\",\"Jeremias Gotthelf, eigentlich Albert Bitzius\"],[\"Michels Brautschau\",\"Jeremias Gotthelf, eigentlich Albert Bitzius\"],[\"Uli der P\\u00e4chter\",\"Jeremias Gotthelf, eigentlich Albert Bitzius\"],[\"Wie f\\u00fcnf M\\u00e4dchen im Branntwein j\\u00e4mmerlich umkommen\",\"Jeremias Gotthelf, eigentlich Albert Bitzius\"],[\"Wie Uli der Knecht gl\\u00fccklich wird\",\"Jeremias Gotthelf, eigentlich Albert Bitzius\"],[\"Die Volkssagen der Altmark\",\"Jodocus Temme\"],[\"Die Volkssagen von Pommern und R\\u00fcgen\",\"Jodocus Temme\"],[\"Arabella von Byrnswack\",\"Johann Gabriel Seidl\"],[\"Cornelia Fieramonti\",\"Johann Gabriel Seidl\"],[\"Das goldene Ringlein\",\"Johann Gabriel Seidl\"],[\"Der Leiermann\",\"Johann Gabriel Seidl\"],[\"Der t\\u00f6dliche Knopf\",\"Johann Gabriel Seidl\"],[\"Die Blaue\",\"Johann Gabriel Seidl\"],[\"Die Schweden vor Olm\\u00fctz\",\"Johann Gabriel Seidl\"],[\"Juana\",\"Johann Gabriel Seidl\"],[\"Sie ist versorgt!\",\"Johann Gabriel Seidl\"],[\"Stumme Rache\",\"Johann Gabriel Seidl\"],[\"Die ewige B\\u00fcrde\\u002fDer afrikanische Rechtsspruch\",\"Johann Gottfried Herder\"],[\"Die S\\u00fchne durchs Leben\",\"Johann Gottfried Kinkel\"],[\"Erz\\u00e4hlungen\",\"Johann Gottfried Kinkel\"],[\"Rheinische Erz\\u00e4hlungen\",\"Johann Gottfried Kinkel\"],[\"Siegfried von Lindenberg\",\"Johann Gottwerth M\\u00fcller\"],[\"Herr Lorenz Stark\",\"Johann Jakob Engel\"],[\"Herr Lorenz Stark\",\"Johann Jakob Engel\"],[\"Ardinghello und die gl\\u00fcckseeligen Inseln\",\"Johann Jakob Wilhelm Heinse\"],[\"Erz\\u00e4hlungen f\\u00fcr junge Damen und Dichter\",\"Johann Jakob Wilhelm Heinse\"],[\"Hildegard von Hohenthal\",\"Johann Jakob Wilhelm Heinse\"],[\"Der Ochsenhansl\",\"Johann Peter\"],[\"Und dann rennen wir!\",\"Johann Peter\"],[\"Wie mir die Lust zum Tanzen verging\",\"Johann Peter\"],[\"Bassompierres Geschichte von der sch\\u00f6nen Kr\\u00e4merin\",\"Johann Wolfgang von Goethe\"],[\"Der Mann von funfzig Jahren\",\"Johann Wolfgang von Goethe\"],[\"Der Prokurator\",\"Johann Wolfgang von Goethe\"],[\"Die gef\\u00e4hrliche Wette\",\"Johann Wolfgang von Goethe\"],[\"Die Geschichte von Mignons Eltern\",\"Johann Wolfgang von Goethe\"],[\"Die pilgernde T\\u00f6rin\",\"Johann Wolfgang von Goethe\"],[\"Die wunderlichen Nachbarskinder\",\"Johann Wolfgang von Goethe\"],[\"Ferdinands Schuld und Wandlung\",\"Johann Wolfgang von Goethe\"],[\"Kleinere Novellen\",\"Johann Wolfgang von Goethe\"],[\"Nicht zu weit\",\"Johann Wolfgang von Goethe\"],[\"Novelle\",\"Johann Wolfgang von Goethe\"],[\"Sankt Joseph der Zweite\",\"Johann Wolfgang von Goethe\"],[\"Wer ist der Verr\\u00e4ter?\",\"Johann Wolfgang von Goethe\"],[\"Erz\\u00e4hlungen\",\"Johanna Kinkel\"],[\"Die Tante\",\"Johanna Schopenhauer\"],[\"Erz\\u00e4hlungen\",\"Johanna Schopenhauer\"],[\"Gabriele\",\"Johanna Schopenhauer\"],[\"Leontine und Natalie\",\"Johanna Schopenhauer\"],[\"Richard Wood\",\"Johanna Schopenhauer\"],[\"Heidi kann brauchen, was es gelernt hat\",\"Johanna Spyri\"],[\"Heidis Lehr- und Wanderjahre\",\"Johanna Spyri\"],[\"Sina\",\"Johanna Spyri\"],[\"Der \\u00dcberkater, Band 1\",\"Johannes Richard zur Megede\"],[\"Der \\u00dcberkater, Band 2\",\"Johannes Richard zur Megede\"],[\"Novellenbuch. Erster Band\",\"Johannes Scherr\"],[\"Altdeutsch - Erster Band\",\"Josef Eduard Konrad Bischoff\"],[\"Bankrott\",\"Josef Eduard Konrad Bischoff\"],[\"Franz von Sickingen. Erster Theil\",\"Josef Eduard Konrad Bischoff\"],[\"Neudeutsch\",\"Josef Eduard Konrad Bischoff\"],[\"Achtsp\\u00e4nnig. Erster Theil\",\"Josef Rank\"],[\"Ein Dorfbrutus. Erster Teil\",\"Josef Rank\"],[\"Sch\\u00f6n-Minnele. Erster Band\",\"Josef Rank\"],[\"Auch ich war in Arkadien\",\"Joseph Freiherr von Eichendorff\"],[\"Das Marmorbild\",\"Joseph Freiherr von Eichendorff\"],[\"Das Schlo\\u00df D\\u00fcrande\",\"Joseph Freiherr von Eichendorff\"],[\"Der Adel und die Revolution\",\"Joseph Freiherr von Eichendorff\"],[\"Die Zauberei im Herbste\",\"Joseph Freiherr von Eichendorff\"],[\"Viel L\\u00e4rmen um Nichts\",\"Joseph Freiherr von Eichendorff\"],[\"Das H\\u00fcnengrab\",\"Julius Hart\"],[\"Das Heimweh\",\"Julius Mosen, eigentlich Julius Moses\"],[\"Meines Gro\\u00dfvaters Brautwerbung \\u002f Ismael\",\"Julius Mosen, eigentlich Julius Moses\"],[\"Die Grandidiers\",\"Julius Rodenberg, eigentlich Levy\"],[\"Das schwarze Weib\",\"Julius Wolff\"],[\"Das Wildfangrecht\",\"Julius Wolff\"],[\"Der S\\u00fclfmeister\",\"Julius Wolff\"],[\"Lurlei\",\"Julius Wolff\"],[\"T\\u00f6chter\",\"Karl Adolph\"],[\"Gr\\u00f6\\u00dfenwahn\",\"Karl Bleibtreu\"],[\"Der Pojaz\",\"Karl Emil Franzos\"],[\"Die Juden von Barnow\",\"Karl Emil Franzos\"],[\"Ein Kampf ums Recht\",\"Karl Emil Franzos\"],[\"Judith Trachtenberg\",\"Karl Emil Franzos\"],[\"Leib Weihnachtskuchen und sein Kind\",\"Karl Emil Franzos\"],[\"Moschko von Parma\",\"Karl Emil Franzos\"],[\"Novellen um Liebe und Ehe\",\"Karl Emil Franzos\"],[\"Blasedow und seine S\\u00f6hne. Erster Theil\",\"Karl Gutzkow\"],[\"Der Sadduc\\u00e4er von Amsterdam\",\"Karl Gutzkow\"],[\"Der Zauberer von Rom, 1. Buch\",\"Karl Gutzkow\"],[\"Die Kurstauben\",\"Karl Gutzkow\"],[\"Die Nihilisten\",\"Karl Gutzkow\"],[\"Die Ritter vom Geiste\",\"Karl Gutzkow\"],[\"Die Selbsttaufe\",\"Karl Gutzkow\"],[\"Eine Phantasieliebe\",\"Karl Gutzkow\"],[\"Imagina Unruh\",\"Karl Gutzkow\"],[\"Jean-Jacques\",\"Karl Gutzkow\"],[\"Seraphine\",\"Karl Gutzkow\"],[\"Das Zauberwasser und andere Erz\\u00e4hlungen\",\"Karl May\"],[\"Halbblut und andere Erz\\u00e4hlungen\",\"Karl May\"],[\"Kapit\\u00e4n Kaiman und andere Erz\\u00e4hlungen\",\"Karl May\"],[\"Andreas Hartknopf. Eine Allegorie\",\"Karl Philipp Moritz\"],[\"Andreas Hartknopfs Predigerjahre\",\"Karl Philipp Moritz\"],[\"Fortunat und seine S\\u00f6hne\",\"Karl Simrock\"],[\"Der Jesuit\",\"Karl Spindler\"],[\"Der Jude\",\"Karl Spindler\"],[\"Der Vogelh\\u00e4ndler von Imst\",\"Karl Spindler\"],[\"Herbstviolen\",\"Karl Spindler\"],[\"Putsch & Comp. Dritter Band\",\"Karl Spindler\"],[\"Putsch & Comp. Erster Band\",\"Karl Spindler\"],[\"Putsch & Comp. Vierter Band\",\"Karl Spindler\"],[\"Putsch & Comp. Zweiter Band\",\"Karl Spindler\"],[\"Regenbogenstrahlen. Erster Band\",\"Karl Spindler\"],[\"Tag und Nacht. Erster Band\",\"Karl Spindler\"],[\"Tag und Nacht. Zweiter Band\",\"Karl Spindler\"],[\"Mien Jungsparadies\",\"Klaus Groth\"],[\"Ruggiero, der Brigant\",\"Konrad Telman, eigentlich Konrad Zitelmann\"],[\"Aspira. Der Roman einer Wolke\",\"Kurd La\\u00dfwitz\"],[\"Bis zum Nullpunkt des Seins und andere Science-Fiction-Erz\\u00e4hlungen\",\"Kurd La\\u00dfwitz\"],[\"Gegen das Weltgesetz\",\"Kurd La\\u00dfwitz\"],[\"Familie Dungs\",\"Kurt Aram, eigentlich Hans Fischer\"],[\"Leda\",\"Kurt Aram, eigentlich Hans Fischer\"],[\"Oh Ali!\",\"Kurt Aram, eigentlich Hans Fischer\"],[\"Die Rumplhanni\",\"Lena Christ\"],[\"Lausdirndlgeschichten\",\"Lena Christ\"],[\"Madam B\\u00e4urin\",\"Lena Christ\"],[\"Mathias Bichler\",\"Lena Christ\"],[\"Altdeutsche Novellen, Band 1\",\"Leo Greiner\"],[\"Altdeutsche Novellen, Band 2\",\"Leo Greiner\"],[\"Der Rettungsball\",\"Leo Leipziger\"],[\"Die neuen Linden\",\"Leo Leipziger\"],[\"Am Pflug\",\"Leopold Kompert\"],[\"Judith die Zweite\",\"Leopold Kompert\"],[\"Ohne Bewilligung\",\"Leopold Kompert\"],[\"Die D\\u00fcvecke, oder die Leiden einer K\\u00f6nigin\",\"Leopold Schefer\"],[\"Die Gr\\u00e4fin Ulfeld. Erster Band\",\"Leopold Schefer\"],[\"G\\u00e9n\\u00e9vion von Toulouse\",\"Leopold Schefer\"],[\"Das Erntefest\",\"Leopold von Sacher-Masoch\"],[\"Lola\",\"Leopold von Sacher-Masoch\"],[\"Matrena\",\"Leopold von Sacher-Masoch\"],[\"Neue Erz\\u00e4hlungen\",\"Leopold von Sacher-Masoch\"],[\"Venus im Pelz\",\"Leopold von Sacher-Masoch\"],[\"Zur Ehre Gottes!\",\"Leopold von Sacher-Masoch\"],[\"Der Familienschild\",\"Levin Sch\\u00fccking\"],[\"Der hinkende Teufel\",\"Levin Sch\\u00fccking\"],[\"Der Kampf im Spessart\",\"Levin Sch\\u00fccking\"],[\"Deutsche Eroberungen\",\"Levin Sch\\u00fccking\"],[\"Gesammelte Erz\\u00e4hlungen und Novellen. Dritter und vierter Theil\",\"Levin Sch\\u00fccking\"],[\"Gesammelte Erz\\u00e4hlungen und Novellen. Erster und zweiter Theil\",\"Levin Sch\\u00fccking\"],[\"Gesammelte Erz\\u00e4hlungen und Novellen. F\\u00fcnfter und sechster Theil\",\"Levin Sch\\u00fccking\"],[\"Hart am Rande\",\"Levin Sch\\u00fccking\"],[\"Novellen (1846). Erster Band\",\"Levin Sch\\u00fccking\"],[\"Novellen (1846). Zweiter Band\",\"Levin Sch\\u00fccking\"],[\"Lebenssucher\",\"Lily Braun\"],[\"Das Haus\",\"Lou Andreas-Salom\\u00e9\"],[\"Fenitschka \\u002f Eine Ausschweifung\",\"Lou Andreas-Salom\\u00e9\"],[\"Ruth\",\"Lou Andreas-Salom\\u00e9\"],[\"Aus dem Leben einer Frau\",\"Louise Aston\"],[\"Lydia\",\"Louise Aston\"],[\"Revolution und Contrerevolution\",\"Louise Aston\"],[\"N\\u00fcrnberg\",\"Louise Otto-Peters\"],[\"Schlo\\u00df und Fabrik\",\"Louise Otto-Peters\"],[\"Ausgew\\u00e4hlte Novellen. Erster Band\",\"Louise von Fran\\u00e7ois\"],[\"Ausgew\\u00e4hlte Novellen. Zweiter Band\",\"Louise von Fran\\u00e7ois\"],[\"Der Katzenjunker\",\"Louise von Fran\\u00e7ois\"],[\"Der Posten der Frau\",\"Louise von Fran\\u00e7ois\"],[\"Die Geschichte meines Urgro\\u00dfvaters\",\"Louise von Fran\\u00e7ois\"],[\"Erz\\u00e4hlungen\",\"Louise von Fran\\u00e7ois\"],[\"Hellst\\u00e4dt und andere Erz\\u00e4hlungen\",\"Louise von Fran\\u00e7ois\"],[\"Judith, die Kluswirtin\",\"Louise von Fran\\u00e7ois\"],[\"Natur und Gnade nebst anderen Erz\\u00e4hlungen\",\"Louise von Fran\\u00e7ois\"],[\"Phosphorus Hollunder\",\"Louise von Fran\\u00e7ois\"],[\"Stufenjahre eines Gl\\u00fccklichen\",\"Louise von Fran\\u00e7ois\"],[\"Allerseelen\",\"Ludwig Anzengruber\"],[\"Der Einsam\",\"Ludwig Anzengruber\"],[\"Der Sternsteinhof\",\"Ludwig Anzengruber\"],[\"Die M\\u00e4rchen des Steinklopferhanns\",\"Ludwig Anzengruber\"],[\"Dorfg\\u00e4nge\",\"Ludwig Anzengruber\"],[\"Drei Kleinere Erz\\u00e4hlungen\",\"Ludwig Anzengruber\"],[\"Hartingers alte Sixtin\",\"Ludwig Anzengruber\"],[\"Jaggernaut\",\"Ludwig Anzengruber\"],[\"Sein Spielzeug\",\"Ludwig Anzengruber\"],[\"Vereinsamt\",\"Ludwig Anzengruber\"],[\"Aus dem Leben und den Schriften des Magisters Herle und seines Freundes M\\u00e4nle\",\"Ludwig Aurbacher\"],[\"Die schw\\u00e4bische Bauernhochzeit\",\"Ludwig Aurbacher\"],[\"Erz\\u00e4hlungen, Lieder und Spr\\u00fcche aus dem \\u00bbAllerley\\u00ab\",\"Ludwig Aurbacher\"],[\"Deutsches Sagenbuch\",\"Ludwig Bechstein\"],[\"Bergheimat\",\"Ludwig Ganghofer\"],[\"Das neue Wesen\",\"Ludwig Ganghofer\"],[\"Der Ochsenkrieg\",\"Ludwig Ganghofer\"],[\"Fliegender Sommer\",\"Ludwig Ganghofer\"],[\"Schlo\\u00df Hubertus\",\"Ludwig Ganghofer\"],[\"1812\",\"Ludwig Rellstab\"],[\"Der Diplomat\",\"Ludwig Storch\"],[\"Orestes in Paris\",\"Ludwig Storch\"],[\"Andreas V\\u00f6st\",\"Ludwig Thoma\"],[\"Der Ruepp\",\"Ludwig Thoma\"],[\"Der Wittiber\",\"Ludwig Thoma\"],[\"Kaspar Lorinser\",\"Ludwig Thoma\"],[\"Weitere Erz\\u00e4hlungen\",\"Ludwig Thoma\"],[\"Abdallah\",\"Ludwig Tieck\"],[\"Almansur\",\"Ludwig Tieck\"],[\"Das gr\\u00fcne Band\",\"Ludwig Tieck\"],[\"Der Aufzug der Romanze\",\"Ludwig Tieck\"],[\"Der Jahrmarkt\",\"Ludwig Tieck\"],[\"Der junge Tischlermeister\",\"Ludwig Tieck\"],[\"Der Roman in Briefen\",\"Ludwig Tieck\"],[\"Die Br\\u00fcder\",\"Ludwig Tieck\"],[\"Die Reisenden\",\"Ludwig Tieck\"],[\"Die sieben Weiber des Blaubart\",\"Ludwig Tieck\"],[\"Die Verlobung\",\"Ludwig Tieck\"],[\"Die Vogelscheuche\",\"Ludwig Tieck\"],[\"Eine Sommerreise\",\"Ludwig Tieck\"],[\"Geschichte des Herrn William Lovell\",\"Ludwig Tieck\"],[\"Gl\\u00fcck giebt Verstand\",\"Ludwig Tieck\"],[\"Victoria Accorombona\",\"Ludwig Tieck\"],[\"Waldeinsamkeit\",\"Ludwig Tieck\"],[\"Wunderlichkeiten\",\"Ludwig Tieck\"],[\"Der panische Schrecken\",\"Luise Gla\\u00df\"],[\"Nach der Hochzeit\",\"Luise M\\u00fchlbach\"],[\"Der Major\",\"Luise Reinhardt\"],[\"Novellen. Dritter Band\",\"Luise Reinhardt\"],[\"Novellen. Erster Band\",\"Luise Reinhardt\"],[\"Novellen. Vierter Band\",\"Luise Reinhardt\"],[\"Novellen. Zweiter Band\",\"Luise Reinhardt\"],[\"Der neue Kreuzritter\",\"Luise von Gall\"],[\"Frauenleben. Erster Theil\",\"Luise von Gall\"],[\"Gegen den Strom. Erster Band\",\"Luise von Gall\"],[\"Der heilige Michael\",\"Malwida von Meysenbug\"],[\"Der Pfad der \\u00c4btissin\",\"Malwida von Meysenbug\"],[\"Himmlische und irdische Liebe\",\"Malwida von Meysenbug\"],[\"Unerf\\u00fcllt\",\"Malwida von Meysenbug\"],[\"Zu sp\\u00e4t\",\"Malwida von Meysenbug\"],[\"Atlas\",\"Maria Janitschek\"],[\"Der rote Teufel\",\"Maria Janitschek\"],[\"Despotische Liebe\",\"Maria Janitschek\"],[\"Die Amazonenschlacht\",\"Maria Janitschek\"],[\"Die neue Eva\",\"Maria Janitschek\"],[\"Es geistert\",\"Maria Janitschek\"],[\"Frauenkraft\",\"Maria Janitschek\"],[\"Klare Rechnung\",\"Maria Janitschek\"],[\"Kreuzfahrer\",\"Maria Janitschek\"],[\"Lilienzauber\",\"Maria Janitschek\"],[\"Ninive\",\"Maria Janitschek\"],[\"Poverino\",\"Maria Janitschek\"],[\"Das Buch der Liebe\",\"Marie Eugenie Delle Grazie\"],[\"Heilige und Menschen\",\"Marie Eugenie Delle Grazie\"],[\"Wunder der Seele\",\"Marie Eugenie Delle Grazie\"],[\"Dorf- und Stadtgeschichten\",\"Marie Nathusius\"],[\"Agave\",\"Marie von Ebner-Eschenbach\"],[\"Bozena\",\"Marie von Ebner-Eschenbach\"],[\"Das Gemeindekind\",\"Marie von Ebner-Eschenbach\"],[\"Das Sch\\u00e4dliche\",\"Marie von Ebner-Eschenbach\"],[\"Der gute Mond\",\"Marie von Ebner-Eschenbach\"],[\"Der Herr Hofrat\",\"Marie von Ebner-Eschenbach\"],[\"Der Kreisphysikus\",\"Marie von Ebner-Eschenbach\"],[\"Der Vorzugssch\\u00fcler\",\"Marie von Ebner-Eschenbach\"],[\"Die Freiherren von Gemperlein\",\"Marie von Ebner-Eschenbach\"],[\"Die Poesie des Unbewussten\",\"Marie von Ebner-Eschenbach\"],[\"Die sch\\u00f6nsten Erz\\u00e4hlungen\",\"Marie von Ebner-Eschenbach\"],[\"Ein kleiner Roman\",\"Marie von Ebner-Eschenbach\"],[\"Ein Sp\\u00e4tgeborner\",\"Marie von Ebner-Eschenbach\"],[\"Er la\\u00dft die Hand k\\u00fcssen\",\"Marie von Ebner-Eschenbach\"],[\"Erz\\u00e4hlungen, Autobiographisches\",\"Marie von Ebner-Eschenbach\"],[\"Ihr Traum\",\"Marie von Ebner-Eschenbach\"],[\"Krambambuli\",\"Marie von Ebner-Eschenbach\"],[\"Lotti, die Uhrmacherin\",\"Marie von Ebner-Eschenbach\"],[\"Maslans Frau\",\"Marie von Ebner-Eschenbach\"],[\"Nach dem Tode\",\"Marie von Ebner-Eschenbach\"],[\"Uns\\u00fchnbar\",\"Marie von Ebner-Eschenbach\"],[\"Eigenthum\",\"Marie von Olfers\"],[\"Frost in Bl\\u00fcthen\",\"Marie von Olfers\"],[\"Jungfer Modeste\",\"Marie von Olfers\"],[\"Ob er wohl Fiekchen heirathen kann?\",\"Marie von Olfers\"],[\"Scala santa\",\"Max Burckhard\"],[\"Die acht Gesichter am Biwasee\",\"Max Dauthendey\"],[\"Geschichten aus den vier Winden\",\"Max Dauthendey\"],[\"Josa Gerth\",\"Max Dauthendey\"],[\"Lingam\",\"Max Dauthendey\"],[\"Novellen und Erz\\u00e4hlungen\",\"Max Dauthendey\"],[\"Raubmenschen\",\"Max Dauthendey\"],[\"Der Invalide\",\"Max Eyth\"],[\"Die ersten Tanzschuhe\",\"Max Eyth\"],[\"Madonna\",\"Max Eyth\"],[\"M\\u00f6nch und Landsknecht\",\"Max Eyth\"],[\"Vorwort\",\"Max Eyth\"],[\"Frauenherzen\",\"Max Ring\"],[\"Irrwege\\u002fEin Staatsgeheimnis\",\"Max Ring\"],[\"John Milton und seine Zeit\",\"Max Ring\"],[\"Julie Eberhard\",\"Max Ring\"],[\"Lose V\\u00f6gel\",\"Max Ring\"],[\"Aus der Junkerwelt\",\"Max Waldau\"],[\"'s Almstummerl\",\"Maximilian Schmidt\"],[\"Der Bubenrichter von Mittenwald\",\"Maximilian Schmidt\"],[\"Der Zuggeist oder die erste Zugspitzbesteigung\",\"Maximilian Schmidt\"],[\"Die Ameisenhexe\",\"Maximilian Schmidt\"],[\"Die Jachenauer in Griechenland\",\"Maximilian Schmidt\"],[\"Maria Pettenpeck\",\"Maximilian Schmidt\"],[\"Meister Martin\",\"Maximilian Schmidt\"],[\"Das Gl\\u00f6cklein auf Rain\",\"Meinrad Lienert\"],[\"Der K\\u00f6nig von Euland\",\"Meinrad Lienert\"],[\"Der Pfeiferk\\u00f6nig. Eine Z\\u00fcrchergeschichte\",\"Meinrad Lienert\"],[\"Was die Isar rauscht\",\"Michael Georg Conrad\"],[\"Mein Weg zur Kunst\",\"Monika Hunnius\"],[\"Reise in die mitt\\u00e4glichen Provinzen von Frankreich im Jahre 1785-1786\",\"Moritz August von Th\\u00fcmmel\"],[\"Wilhelmine's Werdegang\",\"Moritz August von Th\\u00fcmmel\"],[\"Der Krieg um den Wald\",\"Moritz Hartmann\"],[\"Die Tobias-Vase\",\"Moritz Heimann\"],[\"Dr. Wislizenus\",\"Moritz Heimann\"],[\"Wintergespinst\",\"Moritz Heimann\"],[\"Die Lehrlinge zu Sais\",\"Novalis, eigentlich Friedrich von Hardenberg\"],[\"Heinrich von Ofterdingen\",\"Novalis, eigentlich Friedrich von Hardenberg\"],[\"Der Sterngucker und die Pensionsmama\",\"Oskar H\\u00f6cker\"],[\"Deutsche Treue, welsche T\\u00fccke\",\"Oskar H\\u00f6cker\"],[\"Die Sonne von St. Moritz\",\"Oskar H\\u00f6cker\"],[\"Die verbotene Frucht\",\"Oskar H\\u00f6cker\"],[\"Erfindung der Buchdruckerkunst\",\"Oskar H\\u00f6cker\"],[\"Lebendig begraben\",\"Oskar H\\u00f6cker\"],[\"N\\u00e4rrische K\\u00e4uze\",\"Oskar H\\u00f6cker\"],[\"Aus dem Tagebuch eines Hundes\",\"Oskar Panizza\"],[\"D\\u00e4mmrungsst\\u00fccke\",\"Oskar Panizza\"],[\"Das Verbrechen in Tavistock-Square\",\"Oskar Panizza\"],[\"Visionen\",\"Oskar Panizza\"],[\"Der Rosenkavalier\",\"Ossip Schubin, eigentlich Lola Kirschner\"],[\"Es fiel ein Reif in der Fr\\u00fchlingsnacht\",\"Ossip Schubin, eigentlich Lola Kirschner\"],[\"Gr\\u00e4fin Erikas Lehr- und Wanderjahre\",\"Ossip Schubin, eigentlich Lola Kirschner\"],[\"Mar\\u0161ka\",\"Ossip Schubin, eigentlich Lola Kirschner\"],[\"Maximum\",\"Ossip Schubin, eigentlich Lola Kirschner\"],[\"Peterl\",\"Ossip Schubin, eigentlich Lola Kirschner\"],[\"Schatten\",\"Ossip Schubin, eigentlich Lola Kirschner\"],[\"Aus dem Frauenleben\",\"Ottilie Wildermuth\"],[\"Bilder und Geschichten aus Schwaben\",\"Ottilie Wildermuth\"],[\"Cherubino und Zephirine\",\"Ottilie Wildermuth\"],[\"Das B\\u00e4umlein im Walde\",\"Ottilie Wildermuth\"],[\"Das Feental\",\"Ottilie Wildermuth\"],[\"Der Peterli von Emmental\",\"Ottilie Wildermuth\"],[\"Die alte Freundin\",\"Ottilie Wildermuth\"],[\"Die Lehrjahre der zwei Schwestern\",\"Ottilie Wildermuth\"],[\"Die Verschm\\u00e4hte\",\"Ottilie Wildermuth\"],[\"Ein Herbsttag bei Weinsberg\",\"Ottilie Wildermuth\"],[\"Ein sonnenloses Leben\",\"Ottilie Wildermuth\"],[\"Eine K\\u00f6nigin\",\"Ottilie Wildermuth\"],[\"Frau Luna\",\"Ottilie Wildermuth\"],[\"Jugendgabe\",\"Ottilie Wildermuth\"],[\"Krieg und Frieden\",\"Ottilie Wildermuth\"],[\"M\\u00e4dchenbriefe\",\"Ottilie Wildermuth\"],[\"Morgen, Mittag und Abend\",\"Ottilie Wildermuth\"],[\"Perlen aus dem Sande\",\"Ottilie Wildermuth\"],[\"Todte Treue\",\"Ottilie Wildermuth\"],[\"Unabh\\u00e4ngigkeit\",\"Ottilie Wildermuth\"],[\"Der bunte Vogel\",\"Otto Erich Hartleben\"],[\"Die Geschichte vom abgerissenen Knopfe\",\"Otto Erich Hartleben\"],[\"Die Ser\\u00e9nyi\",\"Otto Erich Hartleben\"],[\"Vom Gastfreien Pastor\",\"Otto Erich Hartleben\"],[\"Appelschnut\",\"Otto Ernst, eigentlich Otto Ernst Schmidt\"],[\"Asmus Sempers Jugendland\",\"Otto Ernst, eigentlich Otto Ernst Schmidt\"],[\"Der s\\u00fc\\u00dfe Willy\",\"Otto Ernst, eigentlich Otto Ernst Schmidt\"],[\"Die Kunstreise nach H\\u00fcmpeldorf\",\"Otto Ernst, eigentlich Otto Ernst Schmidt\"],[\"Ein frohes Farbenspiel\",\"Otto Ernst, eigentlich Otto Ernst Schmidt\"],[\"Himmel voller Geigen\",\"Otto Ernst, eigentlich Otto Ernst Schmidt\"],[\"Semper der J\\u00fcngling\",\"Otto Ernst, eigentlich Otto Ernst Schmidt\"],[\"Semper der Mann\",\"Otto Ernst, eigentlich Otto Ernst Schmidt\"],[\"Das sch\\u00f6ne M\\u00e4dchen von Pao\",\"Otto Julius Bierbaum\"],[\"Die Freiersfahrten und Freiersmeinungen des weiberfeindlichen Herrn Pankrazius Graunzer\",\"Otto Julius Bierbaum\"],[\"Prinz Kuckuck\",\"Otto Julius Bierbaum\"],[\"Stilpe. Ein Roman aus der Froschperspektive\",\"Otto Julius Bierbaum\"],[\"Studenten-Beichten\",\"Otto Julius Bierbaum\"],[\"Die Heiteretei und ihr Widerspiel\",\"Otto Ludwig\"],[\"Erz\\u00e4hlungen\",\"Otto Roquette\"],[\"Luginsland\",\"Otto Roquette\"],[\"Orion\",\"Otto Roquette\"],[\"Das Verm\\u00e4chtnis des Pedlars\",\"Otto Ruppius\"],[\"Der Pedlar\",\"Otto Ruppius\"],[\"Allerleirauh\",\"Otto Stoessl\"],[\"Die Schmiere\",\"Otto Stoessl\"],[\"Egon und Danitza\",\"Otto Stoessl\"],[\"Johannes Freudensprung\",\"Otto Stoessl\"],[\"Menschend\\u00e4mmerung\",\"Otto Stoessl\"],[\"Morgenrot\",\"Otto Stoessl\"],[\"Nachtgeschichten\",\"Otto Stoessl\"],[\"Negerk\\u00f6nigs Tochter\",\"Otto Stoessl\"],[\"Sonjas letzter Name\",\"Otto Stoessl\"],[\"Der Fremdling\",\"Paul Enderling\"],[\"Das Gl\\u00fcck von Lautenthal\",\"Paul Ernst\"],[\"Der Nobelpreis\",\"Paul Ernst\"],[\"Der Schatz im Morgenbrotstal\",\"Paul Ernst\"],[\"Der schmale Weg zum Gl\\u00fcck\",\"Paul Ernst\"],[\"Der Tod des Cosimo\",\"Paul Ernst\"],[\"Die Taufe\",\"Paul Ernst\"],[\"Geschichten von deutscher Art\",\"Paul Ernst\"],[\"Kom\\u00f6dianten- und Spitzbubengeschichten\",\"Paul Ernst\"],[\"Prinzessin des Ostens\",\"Paul Ernst\"],[\"Achtzehnte Sammlung der Novellen\",\"Paul Heyse\"],[\"Andrea Delfin\",\"Paul Heyse\"],[\"Crone St\\u00e4udlin\",\"Paul Heyse\"],[\"Der Novellen zehnte Sammlung\",\"Paul Heyse\"],[\"Der Sohn seines Vaters und andere Novellen\",\"Paul Heyse\"],[\"Dreizehnte Sammlung der Novellen\",\"Paul Heyse\"],[\"Einzelne Novellen\",\"Paul Heyse\"],[\"Elfte Sammlung der Novellen\",\"Paul Heyse\"],[\"F\\u00fcnf neue Novellen. Sechste Sammlung\",\"Paul Heyse\"],[\"F\\u00fcnfte Sammlung der Novellen\",\"Paul Heyse\"],[\"F\\u00fcnfzehnte Sammlung der Novellen\",\"Paul Heyse\"],[\"Gegen den Strom\",\"Paul Heyse\"],[\"Kinder der Welt\",\"Paul Heyse\"],[\"L' Arrabbiata\",\"Paul Heyse\"],[\"Letzte Novellen\",\"Paul Heyse\"],[\"Melusine und andere Novellen\",\"Paul Heyse\"],[\"Moralische Novellen. Achte Sammlung\",\"Paul Heyse\"],[\"Moralische Unm\\u00f6glichkeiten und andere Novellen\",\"Paul Heyse\"],[\"Neue Novellen [2. Sammlung]\",\"Paul Heyse\"],[\"Neunte Sammlung der Novellen\",\"Paul Heyse\"],[\"Ninon und andere Novellen\",\"Paul Heyse\"],[\"Novellen [1. Sammlung]\",\"Paul Heyse\"],[\"Novellen in Versen\",\"Paul Heyse\"],[\"Novellen und Terzinen. Siebente Sammlung der Novellen\",\"Paul Heyse\"],[\"Novellen vom Gardasee\",\"Paul Heyse\"],[\"Sechzehnte Sammlung der Novellen\",\"Paul Heyse\"],[\"Siebenzehnte Sammlung der Novellen\",\"Paul Heyse\"],[\"Victoria regia und andere Novellen\",\"Paul Heyse\"],[\"Vier neue Novellen. Dritte Sammlung\",\"Paul Heyse\"],[\"Vier neue Novellen. Vierte Sammlung\",\"Paul Heyse\"],[\"Vierzehnte Sammlung der Novellen\",\"Paul Heyse\"],[\"Villa Falconieri und andere Novellen\",\"Paul Heyse\"],[\"Zw\\u00f6lfte Sammlung der Novellen\",\"Paul Heyse\"],[\"Altenroda\",\"Paul Keller\"],[\"Das letzte M\\u00e4rchen\",\"Paul Keller\"],[\"Von kleinen Leuten und gro\\u00dfen Dingen\",\"Paul Keller\"],[\"Blondes Gift\",\"Paul Langenscheidt\"],[\"Graf Cohn\",\"Paul Langenscheidt\"],[\"Kanaillen\",\"Paul Langenscheidt\"],[\"Taumel\",\"Paul Langenscheidt\"],[\"Der K\\u00f6nig von Sidon\",\"Paul Lindau\"],[\"Die kleine Madonna\",\"Paul Lindau\"],[\"H\\u00e4ngendes Moos\",\"Paul Lindau\"],[\"Im Fieber\",\"Paul Lindau\"],[\"Mayo\",\"Paul Lindau\"],[\"Mein Freund Hilarius\",\"Paul Lindau\"],[\"Toggenburg\",\"Paul Lindau\"],[\"Tragische Geschichten\",\"Paul Lindau\"],[\"Der Ruf aus dem Aether\",\"Paul Rosenhayn\"],[\"Nachtanruf\",\"Paul Rosenhayn\"],[\"Flora Mohr\",\"Paul Scheerbart\"],[\"Immer mutig!\",\"Paul Scheerbart\"],[\"Lesab\\u00e9ndio.\",\"Paul Scheerbart\"],[\"Liw\\u00fbna und Kaid\\u00f4h. Ein Seelenroman\",\"Paul Scheerbart\"],[\"Machtsp\\u00e4\\u00dfe.\",\"Paul Scheerbart\"],[\"Tarub, Bagdads ber\\u00fchmte K\\u00f6chin\",\"Paul Scheerbart\"],[\"Der b\\u00f6se Baron von Krosigk\",\"Paul Schreckenbach\"],[\"Der deutsche Herzog\",\"Paul Schreckenbach\"],[\"Der getreue Kleist\",\"Paul Schreckenbach\"],[\"Der K\\u00f6nig von Rothenburg\",\"Paul Schreckenbach\"],[\"Die letzten Rudelsburger\",\"Paul Schreckenbach\"],[\"Die von Wintzingerode\",\"Paul Schreckenbach\"],[\"Michael Meyenburg\",\"Paul Schreckenbach\"],[\"Um die Wartburg\",\"Paul Schreckenbach\"],[\"Wildef\\u00fcer\",\"Paul Schreckenbach\"],[\"Die Schriften des Waldschulmeisters\",\"Peter Rosegger, eigentlich Ro\\u00dfegger\"],[\"Felix der Begehrte\",\"Peter Rosegger, eigentlich Ro\\u00dfegger\"],[\"Kleine Erz\\u00e4hlungen\",\"Peter Rosegger, eigentlich Ro\\u00dfegger\"],[\"Waldheimat. Erz\\u00e4hlungen aus der Jugendzeit\",\"Peter Rosegger, eigentlich Ro\\u00dfegger\"],[\"Zwei Menschen. Roman in Romanzen\",\"Richard Dehmel\"],[\"Alpentrag\\u00f6die\",\"Richard Vo\\u00df\"],[\"Brutus, auch Du!\",\"Richard Vo\\u00df\"],[\"Die Mutter der Catonen\",\"Richard Vo\\u00df\"],[\"Die R\\u00e4cherin und andere r\\u00f6mische Novellen\",\"Richard Vo\\u00df\"],[\"Die Sabinerin\",\"Richard Vo\\u00df\"],[\"Felice Leste\",\"Richard Vo\\u00df\"],[\"Michael Cibula\",\"Richard Vo\\u00df\"],[\"Rolla\",\"Richard Vo\\u00df\"],[\"R\\u00f6misches Fieber\",\"Richard Vo\\u00df\"],[\"Villa Falconieri\",\"Richard Vo\\u00df\"],[\"Zwei Menschen\",\"Richard Vo\\u00df\"],[\"Der heimliche Gast\",\"Robert Byr, eigentlich Karl Robert Emanuel von Bayer\"],[\"Lydia\",\"Robert Byr, eigentlich Karl Robert Emanuel von Bayer\"],[\"Das Engelchen. Erster Theil\",\"Robert Eduard Prutz\"],[\"Die verscherzte Himmelsmacht\",\"Robert Fuchs-Liska\"],[\"Hatzicho der Wolf\",\"Robert Fuchs-Liska\"],[\"Um die Freiheit\",\"Robert Schweichel\"],[\"Ums Herz\",\"Robert Schweichel\"],[\"Trug-Gold\",\"Rudolf Baumbach\"],[\"Der Opfergang\",\"Rudolf G. Binding\"],[\"Die Geige\",\"Rudolf G. Binding\"],[\"Im Banne des Schwarzen Adlers\",\"Rudolf Gottschall\"],[\"Parasiten\",\"Rudolf Gottschall\"],[\"Romeo und Julie am Pregel\",\"Rudolf Gottschall\"],[\"Schulr\\u00f6schen\",\"Rudolf Gottschall\"],[\"Die Einkommensteuer\",\"Rudolf Hawel\"],[\"Dr. Thorns Lebensabend\",\"Rudolf Hawel\"],[\"Im Reiche der Homunkuliden\",\"Rudolf Hawel\"],[\"Das Gl\\u00fcckspendel\",\"Rudolf Lindau\"],[\"Der Gast\",\"Rudolf Lindau\"],[\"Der Hamal\",\"Rudolf Lindau\"],[\"Ein ganzes Leben\",\"Rudolf Lindau\"],[\"Erz\\u00e4hlungen aus dem Osten\",\"Rudolf Lindau\"],[\"Liebesheiraten\",\"Rudolf Lindau\"],[\"Liquidiert\",\"Rudolf Lindau\"],[\"Morgenland und Abendland\",\"Rudolf Lindau\"],[\"Schweigen\",\"Rudolf Lindau\"],[\"Am Kaminf\\u00fc\\u00fcr\",\"Rudolf von Tavel\"],[\"Bernbiet\",\"Rudolf von Tavel\"],[\"D' Haselmuus\",\"Rudolf von Tavel\"],[\"De Houpme Lombach\",\"Rudolf von Tavel\"],[\"Der St\\u00e4rn vo Buebeb\\u00e4rg\",\"Rudolf von Tavel\"],[\"G\\u00f6tti und Gotteli\",\"Rudolf von Tavel\"],[\"Gueti Gschpane\",\"Rudolf von Tavel\"],[\"Heimgefunden\",\"Rudolf von Tavel\"],[\"Heinz Tillmann\",\"Rudolf von Tavel\"],[\"J\\u00e4 g\\u00e4ll, so geit's\",\"Rudolf von Tavel\"],[\"Meister und Ritter\",\"Rudolf von Tavel\"],[\"Unspunne. Wie\\u2019s der Haselmuus wyter ergangen isch\",\"Rudolf von Tavel\"],[\"Veteranezyt\",\"Rudolf von Tavel\"],[\"Der graue Herrr\",\"Rudolph Stratz\"],[\"Der mysteri\\u00f6se Cavalier und andere Novellen\",\"Rudolph Stratz\"],[\"Der wei\\u00dfe Tod\",\"Rudolph Stratz\"],[\"Herzblut\",\"Rudolph Stratz\"],[\"Hexenkessel\",\"Rudolph Stratz\"],[\"Karussel Berlin\",\"Rudolph Stratz\"],[\"K\\u00f6nig und K\\u00e4rrner\",\"Rudolph Stratz\"],[\"Madlene\",\"Rudolph Stratz\"],[\"Montblanc\",\"Rudolph Stratz\"],[\"Schlo\\u00df Vogel\\u00f6d\",\"Rudolph Stratz\"],[\"Seine englische Frau\",\"Rudolph Stratz\"],[\"Unter den Linden\",\"Rudolph Stratz\"],[\"Der Ungem\\u00fctliche\",\"Rupert Johann Hammerling\"],[\"Die Walds\\u00e4ngerin\",\"Rupert Johann Hammerling\"],[\"M\\u00e4hrchen und Erz\\u00e4hlungen. Dritter Band\",\"Siegfried August Mahlmann\"],[\"M\\u00e4hrchen und Erz\\u00e4hlungen. Erster Band\",\"Siegfried August Mahlmann\"],[\"M\\u00e4hrchen und Erz\\u00e4hlungen. Zweiter Band\",\"Siegfried August Mahlmann\"],[\"Sebastopol\",\"Sir John Retcliffe, eigentlich Hermann Goedsche\"],[\"Das h\\u00f6fliche Gespenst\",\"Sophie Albrecht\"],[\"Amanda und Eduard\",\"Sophie Mereau\"],[\"Das Bl\\u00fcthenalter der Empfindung\",\"Sophie Mereau\"],[\"Marie\",\"Sophie Mereau\"],[\"Evremont\",\"Sophie Tieck\"],[\"Wunderbilder und Tr\\u00e4ume\",\"Sophie Tieck\"],[\"Erscheinungen am See Oneida\",\"Sophie von La Roche\"],[\"Geschichte des Fr\\u00e4uleins von Sternheim\",\"Sophie von La Roche\"],[\"Moralische Erz\\u00e4hlungen\",\"Sophie von La Roche\"],[\"Rosalie und Cleberg auf dem Lande\",\"Sophie von La Roche\"],[\"Rosaliens Briefe an ihre Freundin Mariane von St**\",\"Sophie von La Roche\"],[\"Onnen Visser - Der Schmugglersohn von Norderney\",\"Sophie W\\u00f6rish\\u00f6ffer\"],[\"Robert der Schiffsjunge\",\"Sophie W\\u00f6rish\\u00f6ffer\"],[\"Robert des Schiffsjungen Fahrten und Abenteuer auf der deutschen Handels- und Kriegsflotte\",\"Sophie W\\u00f6rish\\u00f6ffer\"],[\"Androgyne\",\"Stanis\\u0142aw Przybyszewski\"],[\"De Profundis\",\"Stanis\\u0142aw Przybyszewski\"],[\"Der Schrei\",\"Stanis\\u0142aw Przybyszewski\"],[\"Homo sapiens\",\"Stanis\\u0142aw Przybyszewski\"],[\"Satans Kinder\",\"Stanis\\u0142aw Przybyszewski\"],[\"Totenmesse\",\"Stanis\\u0142aw Przybyszewski\"],[\"Chefredakteur Roth f\\u00fchrt Krieg\",\"Stefan Grossmann\"],[\"Der Vorleser der Kaiserin\",\"Stefan Grossmann\"],[\"Die Partei\",\"Stefan Grossmann\"],[\"Herzliche Gr\\u00fc\\u00dfe\",\"Stefan Grossmann\"],[\"Lenchen Demuth und andere Novellen\",\"Stefan Grossmann\"],[\"Die G\\u00f6ttin mit der Fackel\",\"Theodor D\\u00e4ubler\"],[\"L'Africana\",\"Theodor D\\u00e4ubler\"],[\"C\\u00e9cile\",\"Theodor Fontane\"],[\"Der Stechlin\",\"Theodor Fontane\"],[\"Die Poggenpuhls\",\"Theodor Fontane\"],[\"Drei fr\\u00fche Erz\\u00e4hlungen\",\"Theodor Fontane\"],[\"Ellernklipp\",\"Theodor Fontane\"],[\"Frau Jenny Treibel\",\"Theodor Fontane\"],[\"Graf Pet\\u00f6fy\",\"Theodor Fontane\"],[\"Grete Minde\",\"Theodor Fontane\"],[\"L'Adultera\",\"Theodor Fontane\"],[\"Mathilde M\\u00f6hring\",\"Theodor Fontane\"],[\"Quitt\",\"Theodor Fontane\"],[\"Stine\",\"Theodor Fontane\"],[\"Unwiederbringlich\",\"Theodor Fontane\"],[\"Vor dem Sturm\",\"Theodor Fontane\"],[\"Die von Kelles\",\"Theodor Hermann Pantenius\"],[\"Im Gottesl\\u00e4ndchen\",\"Theodor Hermann Pantenius\"],[\"Philosophische Erz\\u00e4hlungen\",\"Theodor Herzl\"],[\"Der Vogt von Sylt\",\"Theodor M\\u00fcgge\"],[\"Randal\",\"Theodor M\\u00fcgge\"],[\"Romantische Studien\",\"Theodor M\\u00fcgge\"],[\"Schritt f\\u00fcr Schritt\",\"Theodor M\\u00fcgge\"],[\"Weihnachtsabend\",\"Theodor M\\u00fcgge\"],[\"Madelon oder die Romantiker in Paris\",\"Theodor Mundt\"],[\"Madonna. Unterhaltungen mit einer Heiligen\",\"Theodor Mundt\"],[\"30 Novellen\",\"Theodor Storm\"],[\"Auf dem Staatshof\",\"Theodor Storm\"],[\"Auf der Universit\\u00e4t\",\"Theodor Storm\"],[\"Beim Vetter Christian\",\"Theodor Storm\"],[\"Carsten Curator\",\"Theodor Storm\"],[\"Der Herr Etatsrat\",\"Theodor Storm\"],[\"Die Regentrude\",\"Theodor Storm\"],[\"Die S\\u00f6hne des Senators\",\"Theodor Storm\"],[\"Drau\\u00dfen im Heidedorf\",\"Theodor Storm\"],[\"Drei weitere kleine Erz\\u00e4hlungen\",\"Theodor Storm\"],[\"Dritter Band: Novellen\",\"Theodor Storm\"],[\"Eekenhof\",\"Theodor Storm\"],[\"Ein Bekenntnis\",\"Theodor Storm\"],[\"Ein Fest auf Haderslevhuus\",\"Theodor Storm\"],[\"Ein stiller Musikant\",\"Theodor Storm\"],[\"Eine Halligfahrt\",\"Theodor Storm\"],[\"Erster Band: Novellen\",\"Theodor Storm\"],[\"Es waren zwei K\\u00f6nigskinder\",\"Theodor Storm\"],[\"F\\u00fcnfter Band: Novellen\",\"Theodor Storm\"],[\"Geschichten aus der Tonne\",\"Theodor Storm\"],[\"Hans und Heinz Kirch\",\"Theodor Storm\"],[\"Hinzelmeier\",\"Theodor Storm\"],[\"Im Brauerhause\",\"Theodor Storm\"],[\"Im Nachbarhause links\",\"Theodor Storm\"],[\"Im Saal\",\"Theodor Storm\"],[\"Im Schlo\\u00df\",\"Theodor Storm\"],[\"In St. J\\u00fcrgen\",\"Theodor Storm\"],[\"Marthe und ihre Uhr\",\"Theodor Storm\"],[\"Neun Novellen und Erz\\u00e4hlungen\",\"Theodor Storm\"],[\"Pole Poppensp\\u00e4ler\",\"Theodor Storm\"],[\"Psyche\",\"Theodor Storm\"],[\"Renate\",\"Theodor Storm\"],[\"Schweigen\",\"Theodor Storm\"],[\"Sechster Band: Novellen\",\"Theodor Storm\"],[\"Siebter Band: Novellen\",\"Theodor Storm\"],[\"Sylter Novelle\",\"Theodor Storm\"],[\"Veronika\",\"Theodor Storm\"],[\"Vierter Band: Novellen\",\"Theodor Storm\"],[\"Viola tricolor\",\"Theodor Storm\"],[\"Waldwinkel\",\"Theodor Storm\"],[\"weitere 8 Novellen\",\"Theodor Storm\"],[\"Zur Chronik von Grieshuus\",\"Theodor Storm\"],[\"Zur Wald- und Wasserfreude\",\"Theodor Storm\"],[\"Zweiter Band: Novellen\",\"Theodor Storm\"],[\"Des Achm\\u00fcllers Recht\",\"Therese Winkler\"],[\"Aus alter Truhe\",\"Timm Kr\\u00f6ger\"],[\"Dem unbekannten Gott\",\"Timm Kr\\u00f6ger\"],[\"Eine stille Welt\",\"Timm Kr\\u00f6ger\"],[\"Das Veferl vom Eibsee\",\"Tony Schumacher\"],[\"Heimatzauber\",\"Tony Schumacher\"],[\"Li und Lu und andere Erz\\u00e4hlungen f\\u00fcr die Jugend\",\"Tony Schumacher\"],[\"Schwatzliesel und andere Erz\\u00e4hlungen\",\"Tony Schumacher\"],[\"Aus dem Leben eines Geringen\",\"Ulrich Hegner\"],[\"Die Molkenkur\",\"Ulrich Hegner\"],[\"Saly's Revolutionstage\",\"Ulrich Hegner\"],[\"Der Kanzler Klaus von Bismarck\",\"Walter Flex\"],[\"Novellen\",\"Walter Flex\"],[\"Das Bild des Kaisers\",\"Wilhelm Hauff\"],[\"Der Mann im Mond\",\"Wilhelm Hauff\"],[\"Die Bettlerin vom Pont des Arts\",\"Wilhelm Hauff\"],[\"Die Bettlerin vom Pont des Arts\",\"Wilhelm Hauff\"],[\"Jud S\\u00fcss\",\"Wilhelm Hauff\"],[\"Lichtenstein\",\"Wilhelm Hauff\"],[\"Lichtenstein\",\"Wilhelm Hauff\"],[\"Mitteilungen aus den Memoiren des Satan\",\"Wilhelm Hauff\"],[\"Mitteilungen aus den Memoiren des Satans\",\"Wilhelm Hauff\"],[\"Novellen\",\"Wilhelm Hauff\"],[\"Othello\",\"Wilhelm Hauff\"],[\"Phantasien und Skizzen\",\"Wilhelm Hauff\"],[\"Die Gerechtigkeit Gottes\",\"Wilhelm Heinrich Riehl\"],[\"Durch tausend Jahre, Band 1\",\"Wilhelm Heinrich Riehl\"],[\"Durch tausend Jahre, Band 2\",\"Wilhelm Heinrich Riehl\"],[\"Durch tausend Jahre, Band 3\",\"Wilhelm Heinrich Riehl\"],[\"Durch tausend Jahre, Band 4\",\"Wilhelm Heinrich Riehl\"],[\"Ein ganzer Mann\",\"Wilhelm Heinrich Riehl\"],[\"Kulturgeschichtliche Novellen\",\"Wilhelm Heinrich Riehl\"],[\"Bruder Rausch\",\"Wilhelm Hertz\"],[\"Die Siegfriedsage in ihrer nordischen Gestalt\",\"Wilhelm Hertz\"],[\"Poetische Erz\\u00e4hlungen\",\"Wilhelm Hertz\"],[\"Erz\\u00e4hlungen\",\"Wilhelm Holzamer\"],[\"Im Dorf und Drau\\u00dfen\",\"Wilhelm Holzamer\"],[\"Auf dem Vestenstein\",\"Wilhelm Jensen\"],[\"Die Juden von C\\u00f6lln\",\"Wilhelm Jensen\"],[\"Eine Schachpartie\",\"Wilhelm Jensen\"],[\"Gradiva\",\"Wilhelm Jensen\"],[\"Karin von Schweden\",\"Wilhelm Jensen\"],[\"Die Bernsteinhexe\",\"Wilhelm Meinhold\"],[\"Heidenstamm\",\"Wilhelm Meyer-F\\u00f6rster\"],[\"Lena S.\",\"Wilhelm Meyer-F\\u00f6rster\"],[\"Der Kriminalkutter\",\"Wilhelm Poeck\"],[\"Abu Telfan oder Die Heimkehr vom Mondgebirge\",\"Wilhelm Raabe\"],[\"Alte Nester\",\"Wilhelm Raabe\"],[\"Auf dem Altenteil\",\"Wilhelm Raabe\"],[\"Der Dr\\u00e4umling\",\"Wilhelm Raabe\"],[\"Der gute Tag\",\"Wilhelm Raabe\"],[\"Der heilige Born\",\"Wilhelm Raabe\"],[\"Der Hungerpastor\",\"Wilhelm Raabe\"],[\"Der Sch\\u00fcdderump\",\"Wilhelm Raabe\"],[\"Deutscher Adel\",\"Wilhelm Raabe\"],[\"Deutscher Mondschein\",\"Wilhelm Raabe\"],[\"Die G\\u00e4nse von B\\u00fctzow\",\"Wilhelm Raabe\"],[\"Die Innerste\",\"Wilhelm Raabe\"],[\"Die Leute aus dem Walde, ihre Sterne, Wege und Schicksale\",\"Wilhelm Raabe\"],[\"Die schwarze Galeere\",\"Wilhelm Raabe\"],[\"Ein Besuch\",\"Wilhelm Raabe\"],[\"Eine Grabrede aus dem Jahr 1609\",\"Wilhelm Raabe\"],[\"Else von der Tanne\",\"Wilhelm Raabe\"],[\"Frau Salome\",\"Wilhelm Raabe\"],[\"Halb M\\u00e4r, halb mehr\",\"Wilhelm Raabe\"],[\"Hastenbeck\",\"Wilhelm Raabe\"],[\"Im alten Eisen\",\"Wilhelm Raabe\"],[\"Keltische Knochen\",\"Wilhelm Raabe\"],[\"Nach dem gro\\u00dfen Kriege\",\"Wilhelm Raabe\"],[\"Prinzessin Fisch\",\"Wilhelm Raabe\"],[\"Unruhige G\\u00e4ste\",\"Wilhelm Raabe\"],[\"Verworrenes Leben. Novellen und Skizzen\",\"Wilhelm Raabe\"],[\"Wunnigel\",\"Wilhelm Raabe\"],[\"Der Grabenh\\u00e4ger\",\"Wilhelm von Polenz\"],[\"Die Glocken von Krummseifenbach\",\"Wilhelm von Polenz\"],[\"Wald\",\"Wilhelm von Polenz\"],[\"Wurzellocker, Band 1\",\"Wilhelm von Polenz\"],[\"Wurzellocker, Band 2\",\"Wilhelm von Polenz\"],[\"Im Schatten des Todes\",\"Wilhelm Walloth\"],[\"Als Kriegsfreiwilliger nach Frankreich\",\"Willibald Alexis, eigentlich Georg Wilhelm Heinrich H\\u00e4ring\"],[\"Cabanis\",\"Willibald Alexis, eigentlich Georg Wilhelm Heinrich H\\u00e4ring\"],[\"Der falsche Woldemar\",\"Willibald Alexis, eigentlich Georg Wilhelm Heinrich H\\u00e4ring\"],[\"Die Ge\\u00e4chteten\",\"Willibald Alexis, eigentlich Georg Wilhelm Heinrich H\\u00e4ring\"],[\"Die Hosen des Herrn von Bredow\",\"Willibald Alexis, eigentlich Georg Wilhelm Heinrich H\\u00e4ring\"],[\"Isegrimm\",\"Willibald Alexis, eigentlich Georg Wilhelm Heinrich H\\u00e4ring\"],[\"Ja in Neapel\",\"Willibald Alexis, eigentlich Georg Wilhelm Heinrich H\\u00e4ring\"],[\"Pommersche Gespenster\",\"Willibald Alexis, eigentlich Georg Wilhelm Heinrich H\\u00e4ring\"],[\"Ruhe ist die erste B\\u00fcrgerpflicht oder Vor F\\u00fcnfzig Jahren\",\"Willibald Alexis, eigentlich Georg Wilhelm Heinrich H\\u00e4ring\"],[\"Walladmor\",\"Willibald Alexis, eigentlich Georg Wilhelm Heinrich H\\u00e4ring\"],[\"Das Leben auf der Walze\",\"Wolfgang Kirchbach\"]],\"hovertemplate\":\"token count=%{y}\\u003cbr\\u003etitle=%{customdata[0]}\\u003cbr\\u003eauthor=%{customdata[1]}\\u003cextra\\u003e\\u003c\\u002fextra\\u003e\",\"legendgroup\":\"\",\"marker\":{\"color\":\"#053c6c\"},\"name\":\"\",\"notched\":false,\"offsetgroup\":\"\",\"orientation\":\"v\",\"showlegend\":false,\"x0\":\" \",\"xaxis\":\"x\",\"y\":[86212,78034,56559,44061,56559,44061,44055,17479,18145,50215,32099,78530,122819,28288,45027,30005,27021,41175,54368,31241,32262,40219,14328,42290,13381,32206,56562,46838,69935,80233,41800,76949,76300,87534,43178,44128,45336,52956,42440,37136,44004,35961,63535,62835,67424,26751,32286,32286,69213,69213,49943,46825,74700,21506,74700,30137,26687,23068,28883,73951,73951,81411,57902,57902,31651,31403,68195,92546,39055,36306,36854,36854,50485,51954,66605,37869,39702,37687,41929,58574,27660,74051,105979,105979,105869,103207,21736,83103,83103,98808,95009,7955,126228,126228,95136,95136,21501,21422,54849,16973,65014,68503,57768,30544,33659,77028,148970,153752,140073,148970,153752,140073,52767,36398,39069,45732,123885,123885,92204,92204,104191,100341,99083,92142,108206,106562,124846,124846,98981,98981,39420,55585,40873,126778,126778,127249,127249,67366,38094,41209,35374,31407,48941,143220,143220,136785,136785,9927,50770,49532,62162,73307,57046,157183,171453,76573,180327,145064,44121,20146,89666,71283,88198,78047,82308,129012,129012,136778,136778,49495,43518,53941,48924,43472,52641,37838,53863,61101,72314,2229,13964,9318,46802,46504,25085,35234,69744,12228,57157,51306,56382,58126,24384,82148,79249,51543,30330,88668,42249,32940,40352,17832,19882,52207,39528,25198,100304,60640,54230,51643,64154,150331,36383,74586,123653,7019,96367,62058,89529,117091,61225,126384,23498,32214,32410,20767,21427,25899,17982,15719,22294,19355,16951,20245,15209,14437,20820,8067,23365,27716,12800,15818,10063,15302,10983,13588,26696,18321,26853,10060,13262,44891,14875,15301,21155,3329,28446,16911,14729,44963,17548,17972,27627,14034,48992,9096,7498,32527,36254,9782,17390,15715,23861,29342,24987,5974,25223,153823,103775,17969,87923,13071,28327,40367,87681,6676,3789,39803,3861,3150,3241,23916,12278,9402,9543,12754,21037,20283,376513,276606,58046,82497,104385,91979,84643,77210,84782,2297,90739,67997,99501,7180,12708,2054,3452,8451,30169,53024,55576,142771,92442,39237,21321,15159,214056,236598,69574,39923,86940,141502,30413,43603,91894,24404,94065,33037,47979,26840,10607,15242,18607,11685,73037,35093,51294,24020,29559,26737,28864,58746,32169,824,2546,3547,36781,36532,6035,6835,2712,2723,8937,6474,2543,1853,9521,7167,7134,7776,3156,2874,4185,4465,118087,3914,2163,1724,1505,19269,5844,3262,4428,564,11444,12924,7310,6408,8332,35163,6565,3484,1423,1657,3379,31217,27943,50516,960,4493,13303,4052,12701,28989,29866,97116,26534,2515,1438,2651,17996,17489,41751,29675,89139,50151,65247,80569,48871,60725,47205,47466,93962,777,54201,56018,82429,72197,37135,25653,20270,28400,45531,211098,55855,59861,133992,138261,77954,133906,109984,138107,123198,93965,57612,117311,136655,86496,84761,65448,83066,71719,70831,52777,78212,134233,4790,18171,5817,91017,129372,56923,71729,93242,150048,68980,53640,102470,36689,3908,986,73632,39923,17006,12646,41921,192941,33230,7877,41871,26949,48159,69517,17125,33867,20563,4907,38538,6228,14746,145852,80632,86167,112045,27363,21099,5796,3787,15602,4221,39953,72710,37045,22722,32936,57337,96439,45181,20446,27667,145471,84151,296977,118558,122701,21090,3240,19263,4082,43432,104267,27439,14048,4111,13823,12424,138858,38216,19731,17558,43109,15040,27852,22876,38303,14466,75364,9409,2290,2685,3962,32868,5090,3953,3126,341,5562,4712,3555,2311,41198,23879,2544,37444,3643,59291,72505,47921,56669,61454,61005,21106,72118,72268,47352,15603,149866,34362,58190,57687,90384,92125,123249,97405,100696,20120,102815,132836,121873,19663,149067,35742,45791,122348,112124,95474,101288,107978,97516,47348,13257,21944,5687,188909,18399,47618,29850,22849,13049,16614,45662,81491,82838,49234,25331,39875,63178,27532,20965,24734,3367,3655,4021,26628,49038,40972,63066,31584,117503,6056,82553,204576,270457,40807,79979,4160,131405,12644,7920,108377,136703,4717,32936,7745,58268,43591,103339,8798,54686,49021,37578,21735,206252,32500,21707,29441,29262,21778,23661,22714,30559,35203,32146,95149,357014,60147,83923,86104,44033,110810,68613,115244,71723,57190,161955,46212,60509,61789,69595,87091,12103,15773,9856,19826,10295,35664,172147,96277,107618,55181,23083,1947,28024,1115,114933,13407,77924,78605,40395,6780,60463,90185,91688,114578,1112,112311,109016,5409,46098,49764,53832,100835,43013,47813,71041,53879,174901,96762,10135,35299,49597,181836,63697,15379,176670,7823,3561,44605,8406,80892,112320,3553,16866,11280,10313,31601,10191,2810,178656,154920,9540,159515,23530,7305,137293,5268,11515,11059,10553,132310,160134,133534,2866,36614,90062,187832,45342,130565,32173,6729,9037,1890,16391,132456,6580,82794,140614,185279,115888,39384,2321,11049,8174,3654,1702,1172,3540,4642,4365,2311,18009,999,7189,12414,78400,7426,7809,12403,29356,145416,89111,136271,95810,52663,40968,59146,24155,57304,114134,68888,103102,278094,37422,69014,46580,164225,136837,56338,78019,133094,95291,143328,38786,78777,167620,60396,15061,19593,84084,371938,77093,45505,101388,1019,91945,145943,154056,141041,117295,26577,51188,92713,26326,25442,337,74699,73400,60828,46293,92065,43320,108388,40813,37159,36673,40888,58736,73913,116296,34957,43811,48650,83122,71152,52407,35456,79371,38665,35460,70514,41334,33697,55768,51842,16784,18121,45310,74473,96716,43018,109768,206711,63149,103362,65136,38394,77555,33534,35506,389968,255559,285056,149836,130367,146224,8784,13676,97892,100989,19933,51945,44124,49447,84257,68345,69683,174706,54103,140251,107803,23781,44397,64062,88338,81033,20259,31896,38504,41703,8210,42075,1792,56633,16661,25836,20467,39401,19772,150144,3146,2900,15348,17944,82784,77812,75434,23151,55869,68028,66819,13062,23532,40851,102502,15062,27466,29196,136335,6583,63818,36370,19586,39578,88174,30207,30568,68628,105528,16514,43321,38383,95002,76246,10949,17186,19527,77204,49212,2595,239226,6983,11609,40057,55234,18213,67122,27219,99600,55849,33099,70130,75378,49518,56024,60388,26400,131106,150935,20426,155815,66895,78312,40583,81063,41925,45332,54738,78595,48931,31364,47145,22351,6374,35729,3958,4724,3564,68512,95737,96637,58163,71900,85619,82203,81057,76667,121340,112998,113931,3669,76662,50336,52002,77598,24488,40387,44758,37608,17204,94025,74679,53926,102018,75275,78834,89124,6431,6546,8130,95863,14625,16080,9713,3448,5492,10569,7763,48979,131238,244892,159913,13203,33364,172357,37325,108897,80930,86663,3002,38106,93453,193929,107864,49153,34325,43853,9617,148181,4311,25930,15765,30413,9745,136308,55144,152357,28319,135962,34825,5052,9177,8460,4979,1669,1522,2097,16117,10298,8393,4118,686,13645,97079,57630,48887,47696,45555,101688,39308,132566,2674,2129,2541,1049,18140,5957,1691,4690,4113,2512,6600,82108,3322,7121,4977,9478,97079,122804,49329,153053,40060,112670,38009,52364,51225,93185,84078,171659,53848,224270,36423,59505,31828,36423,31390,6095,12351,13822,6902,5086,22088,10466,17686,17154,149880,76512,65321,155168,39504,90235,22691,140345,72207,140897,59390,61715,61799,109893,68377,18328,83705,10644,36069,770546,23816,24801,24906,13844,50252,129446,144127,122213,26616,16416,47185,117615,235314,219390,40675,51004,54868,52428,51305,36846,48909,36939,19300,26792,56507,78074,25044,79191,78625,87243,52717,17498,36466,71763,42957,38052,38129,23942,103731,7255,11886,25842,45451,44491,5677,51583,1269,21775,38518,32989,15237,90047,59747,13419,77313,83041,87084,21843,48842,51664,116911,67171,37360,71156,23661,51301,72245,154937,118936,47216,45663,37715,20192,33321,117200,147173,46351,159892,14157,164968,2780,16125,86464,10655,97292,9403,6514,1676,6973,2018,25155,2192,11320,370057,52862,131945,175540,61058,165985,363935,36969,29267,79180,55976,56511,8719,19398,57866,4828,15905,6448,47488,126625,7879,3218,28361,36893,17107,94203,40717,50,31463,102682,25080,31233,68873,49907,65690,37044,46729,47531,37889,44906,84932,43305,8377,14929,38142,34436,22645,11408,46574,16550,18985,19760,7851,51645,7428,18511,17260,47032,3472,80115,117383,89599,137891,43159,65645,66220,20199,8859,14651,21573,13013,15498,3756,73241,27759,16443,6280,316218,9891,3955,35282,11593,24740,60589,16772,31335,17903,19096,35563,42151,55425,40599,26443,26277,231458,11278,8247,13271,49498,1542,55363,36627,184679,31864,85124,144374,24474,46798,47904,17572,46074,12678,6822,77381,46100,52263,129954,108805,290519,12072,52756,12098,14982,11729,10975,41379,11354,50400,54382,70334,43267,24737,31575,15233,54533,3127,53945,44454,24035,130490,29290,64288,24368,30751,39368,82740,13401,5097,6411,13850,80539,22082,15382,11702,17012,14582,13397,64156,6965,21111,23016,100325,18461,24063,1911,9106,40837,5286,42473,70363,9341,24257,32173,23131,78267,93405,33957,52867,237220,59313,25962,83944,80526,121582,68576,82358,76943,30392,16771,28751,18217,76381,111178,66520,30132,58089,55030,71022,72260,35435,99818,37100,73780,88087,108274,68720,68774,28497,72910,68279,77980,77631,73926,63637,90515,97849,63669,65219,231394,7055,51830,92869,97667,88104,61722,121202,96322,44067,56293,56699,93656,70297,56381,88987,60520,80150,74783,81857,81116,45592,66800,59561,59595,67171,66097,60257,30813,9043,61056,34854,34800,14883,18313,33515,40892,58030,7449,55542,50479,19225,8827,56375,95547,73926,72260,70081,64225,94879,84288,61184,94379,17117,17365,30706,373757,26077,92925,98047,14413,47281,23094,3361,99352,104411,116277,74585,82893,63008,56531,55282,79913,90826,182260,8360,64981,10920,37202,184154,103987,38562,35177,449,94537,84647,9935,40694,3686,8412,55283,47353,34096,25136,15110,61226,71654,67050,64066,69657,64440,71048,27131,89781,42877,97215,84366,101123,52527,91643,51660,95194,90648,81687,86457,58384,61305,76601,113820,41980,1864,9168,25142,28142,26576,330976,16277,53305,16322,11837,227669,55462,103707,100062,90535,80689,230637,202580,187884,220737,16583,18148,30580,109468,47256,11723,71918,21512,79387,28367,28915,49073,36419,57941,128715,33209,15927,39883,60819,61438,33875,45589,33620,83621,30617,84025,229819,132843,85592,48598,83091,272609,37078,50225,58875,44003,30190,235661,10981,19693,8771,20052,14727,8967,12881,10509,18692,91552,13239,16950,21790,10064,8658,40573,11265,93831,2636,22967,7657,9595,9675,2097,15320,12983,2072,82373,17640,10217,20564,20591,117807,117864,982,4370,100312,9937,17303,90302,30133,17583,102408,28554,79636,83743,76138,31944,50527,50010,20559,6388,67465,55297,84848,26229,31614,80590,37385,36609,24874,129827,111078,26816,90462,144518,14701,42088,84016,133010,137632,134966,116296,62806,97013,11044,2231,37164,23185,33188,45351,58743,10766,25114,45589,68422,53787,49716,41314,120687,86095,3208,57230,9609,99993,146971,119783,47913,6341,24553,28897,130410,16335,2719,6540,11920,30516,36176,61273,57096,11233,38960,60846,49275,53386,50192,156517,5196,37052,59971,59624,83701,55288,127584,220774,51539,110186,229712,28823,11357,352551,152532,94393],\"y0\":\" \",\"yaxis\":\"y\",\"type\":\"box\"}],                        {\"template\":{\"data\":{\"histogram2dcontour\":[{\"type\":\"histogram2dcontour\",\"colorbar\":{\"outlinewidth\":0,\"ticks\":\"\"},\"colorscale\":[[0.0,\"#0d0887\"],[0.1111111111111111,\"#46039f\"],[0.2222222222222222,\"#7201a8\"],[0.3333333333333333,\"#9c179e\"],[0.4444444444444444,\"#bd3786\"],[0.5555555555555556,\"#d8576b\"],[0.6666666666666666,\"#ed7953\"],[0.7777777777777778,\"#fb9f3a\"],[0.8888888888888888,\"#fdca26\"],[1.0,\"#f0f921\"]]}],\"choropleth\":[{\"type\":\"choropleth\",\"colorbar\":{\"outlinewidth\":0,\"ticks\":\"\"}}],\"histogram2d\":[{\"type\":\"histogram2d\",\"colorbar\":{\"outlinewidth\":0,\"ticks\":\"\"},\"colorscale\":[[0.0,\"#0d0887\"],[0.1111111111111111,\"#46039f\"],[0.2222222222222222,\"#7201a8\"],[0.3333333333333333,\"#9c179e\"],[0.4444444444444444,\"#bd3786\"],[0.5555555555555556,\"#d8576b\"],[0.6666666666666666,\"#ed7953\"],[0.7777777777777778,\"#fb9f3a\"],[0.8888888888888888,\"#fdca26\"],[1.0,\"#f0f921\"]]}],\"heatmap\":[{\"type\":\"heatmap\",\"colorbar\":{\"outlinewidth\":0,\"ticks\":\"\"},\"colorscale\":[[0.0,\"#0d0887\"],[0.1111111111111111,\"#46039f\"],[0.2222222222222222,\"#7201a8\"],[0.3333333333333333,\"#9c179e\"],[0.4444444444444444,\"#bd3786\"],[0.5555555555555556,\"#d8576b\"],[0.6666666666666666,\"#ed7953\"],[0.7777777777777778,\"#fb9f3a\"],[0.8888888888888888,\"#fdca26\"],[1.0,\"#f0f921\"]]}],\"heatmapgl\":[{\"type\":\"heatmapgl\",\"colorbar\":{\"outlinewidth\":0,\"ticks\":\"\"},\"colorscale\":[[0.0,\"#0d0887\"],[0.1111111111111111,\"#46039f\"],[0.2222222222222222,\"#7201a8\"],[0.3333333333333333,\"#9c179e\"],[0.4444444444444444,\"#bd3786\"],[0.5555555555555556,\"#d8576b\"],[0.6666666666666666,\"#ed7953\"],[0.7777777777777778,\"#fb9f3a\"],[0.8888888888888888,\"#fdca26\"],[1.0,\"#f0f921\"]]}],\"contourcarpet\":[{\"type\":\"contourcarpet\",\"colorbar\":{\"outlinewidth\":0,\"ticks\":\"\"}}],\"contour\":[{\"type\":\"contour\",\"colorbar\":{\"outlinewidth\":0,\"ticks\":\"\"},\"colorscale\":[[0.0,\"#0d0887\"],[0.1111111111111111,\"#46039f\"],[0.2222222222222222,\"#7201a8\"],[0.3333333333333333,\"#9c179e\"],[0.4444444444444444,\"#bd3786\"],[0.5555555555555556,\"#d8576b\"],[0.6666666666666666,\"#ed7953\"],[0.7777777777777778,\"#fb9f3a\"],[0.8888888888888888,\"#fdca26\"],[1.0,\"#f0f921\"]]}],\"surface\":[{\"type\":\"surface\",\"colorbar\":{\"outlinewidth\":0,\"ticks\":\"\"},\"colorscale\":[[0.0,\"#0d0887\"],[0.1111111111111111,\"#46039f\"],[0.2222222222222222,\"#7201a8\"],[0.3333333333333333,\"#9c179e\"],[0.4444444444444444,\"#bd3786\"],[0.5555555555555556,\"#d8576b\"],[0.6666666666666666,\"#ed7953\"],[0.7777777777777778,\"#fb9f3a\"],[0.8888888888888888,\"#fdca26\"],[1.0,\"#f0f921\"]]}],\"mesh3d\":[{\"type\":\"mesh3d\",\"colorbar\":{\"outlinewidth\":0,\"ticks\":\"\"}}],\"scatter\":[{\"fillpattern\":{\"fillmode\":\"overlay\",\"size\":10,\"solidity\":0.2},\"type\":\"scatter\"}],\"parcoords\":[{\"type\":\"parcoords\",\"line\":{\"colorbar\":{\"outlinewidth\":0,\"ticks\":\"\"}}}],\"scatterpolargl\":[{\"type\":\"scatterpolargl\",\"marker\":{\"colorbar\":{\"outlinewidth\":0,\"ticks\":\"\"}}}],\"bar\":[{\"error_x\":{\"color\":\"#2a3f5f\"},\"error_y\":{\"color\":\"#2a3f5f\"},\"marker\":{\"line\":{\"color\":\"#E5ECF6\",\"width\":0.5},\"pattern\":{\"fillmode\":\"overlay\",\"size\":10,\"solidity\":0.2}},\"type\":\"bar\"}],\"scattergeo\":[{\"type\":\"scattergeo\",\"marker\":{\"colorbar\":{\"outlinewidth\":0,\"ticks\":\"\"}}}],\"scatterpolar\":[{\"type\":\"scatterpolar\",\"marker\":{\"colorbar\":{\"outlinewidth\":0,\"ticks\":\"\"}}}],\"histogram\":[{\"marker\":{\"pattern\":{\"fillmode\":\"overlay\",\"size\":10,\"solidity\":0.2}},\"type\":\"histogram\"}],\"scattergl\":[{\"type\":\"scattergl\",\"marker\":{\"colorbar\":{\"outlinewidth\":0,\"ticks\":\"\"}}}],\"scatter3d\":[{\"type\":\"scatter3d\",\"line\":{\"colorbar\":{\"outlinewidth\":0,\"ticks\":\"\"}},\"marker\":{\"colorbar\":{\"outlinewidth\":0,\"ticks\":\"\"}}}],\"scattermapbox\":[{\"type\":\"scattermapbox\",\"marker\":{\"colorbar\":{\"outlinewidth\":0,\"ticks\":\"\"}}}],\"scatterternary\":[{\"type\":\"scatterternary\",\"marker\":{\"colorbar\":{\"outlinewidth\":0,\"ticks\":\"\"}}}],\"scattercarpet\":[{\"type\":\"scattercarpet\",\"marker\":{\"colorbar\":{\"outlinewidth\":0,\"ticks\":\"\"}}}],\"carpet\":[{\"aaxis\":{\"endlinecolor\":\"#2a3f5f\",\"gridcolor\":\"white\",\"linecolor\":\"white\",\"minorgridcolor\":\"white\",\"startlinecolor\":\"#2a3f5f\"},\"baxis\":{\"endlinecolor\":\"#2a3f5f\",\"gridcolor\":\"white\",\"linecolor\":\"white\",\"minorgridcolor\":\"white\",\"startlinecolor\":\"#2a3f5f\"},\"type\":\"carpet\"}],\"table\":[{\"cells\":{\"fill\":{\"color\":\"#EBF0F8\"},\"line\":{\"color\":\"white\"}},\"header\":{\"fill\":{\"color\":\"#C8D4E3\"},\"line\":{\"color\":\"white\"}},\"type\":\"table\"}],\"barpolar\":[{\"marker\":{\"line\":{\"color\":\"#E5ECF6\",\"width\":0.5},\"pattern\":{\"fillmode\":\"overlay\",\"size\":10,\"solidity\":0.2}},\"type\":\"barpolar\"}],\"pie\":[{\"automargin\":true,\"type\":\"pie\"}]},\"layout\":{\"autotypenumbers\":\"strict\",\"colorway\":[\"#636efa\",\"#EF553B\",\"#00cc96\",\"#ab63fa\",\"#FFA15A\",\"#19d3f3\",\"#FF6692\",\"#B6E880\",\"#FF97FF\",\"#FECB52\"],\"font\":{\"color\":\"#2a3f5f\"},\"hovermode\":\"closest\",\"hoverlabel\":{\"align\":\"left\"},\"paper_bgcolor\":\"white\",\"plot_bgcolor\":\"#E5ECF6\",\"polar\":{\"bgcolor\":\"#E5ECF6\",\"angularaxis\":{\"gridcolor\":\"white\",\"linecolor\":\"white\",\"ticks\":\"\"},\"radialaxis\":{\"gridcolor\":\"white\",\"linecolor\":\"white\",\"ticks\":\"\"}},\"ternary\":{\"bgcolor\":\"#E5ECF6\",\"aaxis\":{\"gridcolor\":\"white\",\"linecolor\":\"white\",\"ticks\":\"\"},\"baxis\":{\"gridcolor\":\"white\",\"linecolor\":\"white\",\"ticks\":\"\"},\"caxis\":{\"gridcolor\":\"white\",\"linecolor\":\"white\",\"ticks\":\"\"}},\"coloraxis\":{\"colorbar\":{\"outlinewidth\":0,\"ticks\":\"\"}},\"colorscale\":{\"sequential\":[[0.0,\"#0d0887\"],[0.1111111111111111,\"#46039f\"],[0.2222222222222222,\"#7201a8\"],[0.3333333333333333,\"#9c179e\"],[0.4444444444444444,\"#bd3786\"],[0.5555555555555556,\"#d8576b\"],[0.6666666666666666,\"#ed7953\"],[0.7777777777777778,\"#fb9f3a\"],[0.8888888888888888,\"#fdca26\"],[1.0,\"#f0f921\"]],\"sequentialminus\":[[0.0,\"#0d0887\"],[0.1111111111111111,\"#46039f\"],[0.2222222222222222,\"#7201a8\"],[0.3333333333333333,\"#9c179e\"],[0.4444444444444444,\"#bd3786\"],[0.5555555555555556,\"#d8576b\"],[0.6666666666666666,\"#ed7953\"],[0.7777777777777778,\"#fb9f3a\"],[0.8888888888888888,\"#fdca26\"],[1.0,\"#f0f921\"]],\"diverging\":[[0,\"#8e0152\"],[0.1,\"#c51b7d\"],[0.2,\"#de77ae\"],[0.3,\"#f1b6da\"],[0.4,\"#fde0ef\"],[0.5,\"#f7f7f7\"],[0.6,\"#e6f5d0\"],[0.7,\"#b8e186\"],[0.8,\"#7fbc41\"],[0.9,\"#4d9221\"],[1,\"#276419\"]]},\"xaxis\":{\"gridcolor\":\"white\",\"linecolor\":\"white\",\"ticks\":\"\",\"title\":{\"standoff\":15},\"zerolinecolor\":\"white\",\"automargin\":true,\"zerolinewidth\":2},\"yaxis\":{\"gridcolor\":\"white\",\"linecolor\":\"white\",\"ticks\":\"\",\"title\":{\"standoff\":15},\"zerolinecolor\":\"white\",\"automargin\":true,\"zerolinewidth\":2},\"scene\":{\"xaxis\":{\"backgroundcolor\":\"#E5ECF6\",\"gridcolor\":\"white\",\"linecolor\":\"white\",\"showbackground\":true,\"ticks\":\"\",\"zerolinecolor\":\"white\",\"gridwidth\":2},\"yaxis\":{\"backgroundcolor\":\"#E5ECF6\",\"gridcolor\":\"white\",\"linecolor\":\"white\",\"showbackground\":true,\"ticks\":\"\",\"zerolinecolor\":\"white\",\"gridwidth\":2},\"zaxis\":{\"backgroundcolor\":\"#E5ECF6\",\"gridcolor\":\"white\",\"linecolor\":\"white\",\"showbackground\":true,\"ticks\":\"\",\"zerolinecolor\":\"white\",\"gridwidth\":2}},\"shapedefaults\":{\"line\":{\"color\":\"#2a3f5f\"}},\"annotationdefaults\":{\"arrowcolor\":\"#2a3f5f\",\"arrowhead\":0,\"arrowwidth\":1},\"geo\":{\"bgcolor\":\"white\",\"landcolor\":\"#E5ECF6\",\"subunitcolor\":\"white\",\"showland\":true,\"showlakes\":true,\"lakecolor\":\"white\"},\"title\":{\"x\":0.05},\"mapbox\":{\"style\":\"light\"}}},\"xaxis\":{\"anchor\":\"y\",\"domain\":[0.0,1.0],\"showgrid\":false},\"yaxis\":{\"anchor\":\"x\",\"domain\":[0.0,1.0],\"title\":{\"text\":\"token count\"},\"showgrid\":false},\"legend\":{\"tracegroupgap\":0},\"title\":{\"text\":\"Fig 3: Distribution of text lengths\",\"font\":{\"color\":\"#122630\",\"size\":28},\"yref\":\"paper\"},\"boxmode\":\"group\",\"plot_bgcolor\":\"#ffbb91\",\"paper_bgcolor\":\"#feba67\",\"width\":500,\"height\":500},                        {\"responsive\": true}                    ).then(function(){\n",
       "                            \n",
       "var gd = document.getElementById('3ffa1033-43c1-47f0-86a2-9c5c3844244b');\n",
       "var x = new MutationObserver(function (mutations, observer) {{\n",
       "        var display = window.getComputedStyle(gd).display;\n",
       "        if (!display || display === 'none') {{\n",
       "            console.log([gd, 'removed!']);\n",
       "            Plotly.purge(gd);\n",
       "            observer.disconnect();\n",
       "        }}\n",
       "}});\n",
       "\n",
       "// Listen for the removal of the full notebook cells\n",
       "var notebookContainer = gd.closest('#notebook-container');\n",
       "if (notebookContainer) {{\n",
       "    x.observe(notebookContainer, {childList: true});\n",
       "}}\n",
       "\n",
       "// Listen for the clearing of the current output cell\n",
       "var outputEl = gd.closest('.output');\n",
       "if (outputEl) {{\n",
       "    x.observe(outputEl, {childList: true});\n",
       "}}\n",
       "\n",
       "                        })                };                });            </script>        </div>"
      ]
     },
     "metadata": {},
     "output_type": "display_data"
    }
   ],
   "source": [
    "fig = px.violin(df,\n",
    "       y=\"token count\",\n",
    "       hover_data=[\"title\", \"author\"],\n",
    "       title=\"Fig 3: Distribution of text lengths\",\n",
    "       color_discrete_sequence=[\"#053c6c\"]\n",
    "    )\n",
    "fig.update_layout({\"plot_bgcolor\":\"#ffbb91\", \"paper_bgcolor\":\"#feba67\", \"width\":500, \"height\":500},\n",
    "                  xaxis=dict(showgrid=False),\n",
    "                  yaxis=dict(showgrid=False),\n",
    "                  title_font_color=\"#122630\",\n",
    "                  title=dict(font=dict(size=28), yref='paper')\n",
    "                  )\n",
    "fig.show()"
   ]
  },
  {
   "cell_type": "code",
   "execution_count": 17,
   "id": "f32a88f4-c87c-4e9d-a0c6-428045ffe142",
   "metadata": {
    "tags": []
   },
   "outputs": [
    {
     "ename": "KeyError",
     "evalue": "'text_lengths'",
     "output_type": "error",
     "traceback": [
      "\u001b[1;31m---------------------------------------------------------------------------\u001b[0m",
      "\u001b[1;31mKeyError\u001b[0m                                  Traceback (most recent call last)",
      "File \u001b[1;32m~\\.conda\\envs\\corpus_exploration\\lib\\site-packages\\pandas\\core\\indexes\\base.py:3653\u001b[0m, in \u001b[0;36mIndex.get_loc\u001b[1;34m(self, key)\u001b[0m\n\u001b[0;32m   3652\u001b[0m \u001b[38;5;28;01mtry\u001b[39;00m:\n\u001b[1;32m-> 3653\u001b[0m     \u001b[38;5;28;01mreturn\u001b[39;00m \u001b[38;5;28;43mself\u001b[39;49m\u001b[38;5;241;43m.\u001b[39;49m\u001b[43m_engine\u001b[49m\u001b[38;5;241;43m.\u001b[39;49m\u001b[43mget_loc\u001b[49m\u001b[43m(\u001b[49m\u001b[43mcasted_key\u001b[49m\u001b[43m)\u001b[49m\n\u001b[0;32m   3654\u001b[0m \u001b[38;5;28;01mexcept\u001b[39;00m \u001b[38;5;167;01mKeyError\u001b[39;00m \u001b[38;5;28;01mas\u001b[39;00m err:\n",
      "File \u001b[1;32m~\\.conda\\envs\\corpus_exploration\\lib\\site-packages\\pandas\\_libs\\index.pyx:147\u001b[0m, in \u001b[0;36mpandas._libs.index.IndexEngine.get_loc\u001b[1;34m()\u001b[0m\n",
      "File \u001b[1;32m~\\.conda\\envs\\corpus_exploration\\lib\\site-packages\\pandas\\_libs\\index.pyx:176\u001b[0m, in \u001b[0;36mpandas._libs.index.IndexEngine.get_loc\u001b[1;34m()\u001b[0m\n",
      "File \u001b[1;32mpandas\\_libs\\hashtable_class_helper.pxi:7080\u001b[0m, in \u001b[0;36mpandas._libs.hashtable.PyObjectHashTable.get_item\u001b[1;34m()\u001b[0m\n",
      "File \u001b[1;32mpandas\\_libs\\hashtable_class_helper.pxi:7088\u001b[0m, in \u001b[0;36mpandas._libs.hashtable.PyObjectHashTable.get_item\u001b[1;34m()\u001b[0m\n",
      "\u001b[1;31mKeyError\u001b[0m: 'text_lengths'",
      "\nThe above exception was the direct cause of the following exception:\n",
      "\u001b[1;31mKeyError\u001b[0m                                  Traceback (most recent call last)",
      "Cell \u001b[1;32mIn[17], line 2\u001b[0m\n\u001b[0;32m      1\u001b[0m i\u001b[38;5;241m=\u001b[39m\u001b[38;5;241m0\u001b[39m\n\u001b[1;32m----> 2\u001b[0m \u001b[38;5;28;01mfor\u001b[39;00m text_length \u001b[38;5;129;01min\u001b[39;00m \u001b[38;5;28mlist\u001b[39m(\u001b[43mdf\u001b[49m\u001b[43m[\u001b[49m\u001b[38;5;124;43m\"\u001b[39;49m\u001b[38;5;124;43mtext_lengths\u001b[39;49m\u001b[38;5;124;43m\"\u001b[39;49m\u001b[43m]\u001b[49m):\n\u001b[0;32m      3\u001b[0m     i\u001b[38;5;241m=\u001b[39mi\u001b[38;5;241m+\u001b[39mtext_length\n\u001b[0;32m      5\u001b[0m i\n",
      "File \u001b[1;32m~\\.conda\\envs\\corpus_exploration\\lib\\site-packages\\pandas\\core\\frame.py:3761\u001b[0m, in \u001b[0;36mDataFrame.__getitem__\u001b[1;34m(self, key)\u001b[0m\n\u001b[0;32m   3759\u001b[0m \u001b[38;5;28;01mif\u001b[39;00m \u001b[38;5;28mself\u001b[39m\u001b[38;5;241m.\u001b[39mcolumns\u001b[38;5;241m.\u001b[39mnlevels \u001b[38;5;241m>\u001b[39m \u001b[38;5;241m1\u001b[39m:\n\u001b[0;32m   3760\u001b[0m     \u001b[38;5;28;01mreturn\u001b[39;00m \u001b[38;5;28mself\u001b[39m\u001b[38;5;241m.\u001b[39m_getitem_multilevel(key)\n\u001b[1;32m-> 3761\u001b[0m indexer \u001b[38;5;241m=\u001b[39m \u001b[38;5;28;43mself\u001b[39;49m\u001b[38;5;241;43m.\u001b[39;49m\u001b[43mcolumns\u001b[49m\u001b[38;5;241;43m.\u001b[39;49m\u001b[43mget_loc\u001b[49m\u001b[43m(\u001b[49m\u001b[43mkey\u001b[49m\u001b[43m)\u001b[49m\n\u001b[0;32m   3762\u001b[0m \u001b[38;5;28;01mif\u001b[39;00m is_integer(indexer):\n\u001b[0;32m   3763\u001b[0m     indexer \u001b[38;5;241m=\u001b[39m [indexer]\n",
      "File \u001b[1;32m~\\.conda\\envs\\corpus_exploration\\lib\\site-packages\\pandas\\core\\indexes\\base.py:3655\u001b[0m, in \u001b[0;36mIndex.get_loc\u001b[1;34m(self, key)\u001b[0m\n\u001b[0;32m   3653\u001b[0m     \u001b[38;5;28;01mreturn\u001b[39;00m \u001b[38;5;28mself\u001b[39m\u001b[38;5;241m.\u001b[39m_engine\u001b[38;5;241m.\u001b[39mget_loc(casted_key)\n\u001b[0;32m   3654\u001b[0m \u001b[38;5;28;01mexcept\u001b[39;00m \u001b[38;5;167;01mKeyError\u001b[39;00m \u001b[38;5;28;01mas\u001b[39;00m err:\n\u001b[1;32m-> 3655\u001b[0m     \u001b[38;5;28;01mraise\u001b[39;00m \u001b[38;5;167;01mKeyError\u001b[39;00m(key) \u001b[38;5;28;01mfrom\u001b[39;00m \u001b[38;5;21;01merr\u001b[39;00m\n\u001b[0;32m   3656\u001b[0m \u001b[38;5;28;01mexcept\u001b[39;00m \u001b[38;5;167;01mTypeError\u001b[39;00m:\n\u001b[0;32m   3657\u001b[0m     \u001b[38;5;66;03m# If we have a listlike key, _check_indexing_error will raise\u001b[39;00m\n\u001b[0;32m   3658\u001b[0m     \u001b[38;5;66;03m#  InvalidIndexError. Otherwise we fall through and re-raise\u001b[39;00m\n\u001b[0;32m   3659\u001b[0m     \u001b[38;5;66;03m#  the TypeError.\u001b[39;00m\n\u001b[0;32m   3660\u001b[0m     \u001b[38;5;28mself\u001b[39m\u001b[38;5;241m.\u001b[39m_check_indexing_error(key)\n",
      "\u001b[1;31mKeyError\u001b[0m: 'text_lengths'"
     ]
    }
   ],
   "source": [
    "i=0\n",
    "for text_length in list(df[\"text_lengths\"]):\n",
    "    i=i+text_length\n",
    "    \n",
    "i"
   ]
  },
  {
   "cell_type": "code",
   "execution_count": null,
   "id": "1e7ad424-86e3-4cda-938e-1eeb49cb81fb",
   "metadata": {
    "tags": []
   },
   "outputs": [],
   "source": [
    "authors = []\n",
    "all_text_length = []\n",
    "\n",
    "for author in list(df[\"author\"].unique()):\n",
    "    inter_df = df[df[\"author\"]==author]\n",
    "    \n",
    "    i=0\n",
    "    for text_length in list(inter_df[\"text_lengths\"]):\n",
    "        i=i+text_length\n",
    "\n",
    "    authors.append(author)\n",
    "    all_text_length.append(i)\n",
    "    \n",
    "author_worklength_df = pd.DataFrame()\n",
    "author_worklength_df[\"author\"]=authors\n",
    "author_worklength_df[\"all_text_length\"]=all_text_length"
   ]
  },
  {
   "cell_type": "code",
   "execution_count": null,
   "id": "165d3bfc-bdbe-4072-a61b-8d85996da6f9",
   "metadata": {
    "tags": []
   },
   "outputs": [],
   "source": [
    "fig=px.bar(author_worklength_df, x=\"author\", y=\"all_text_length\")\n",
    "fig.update_xaxes(categoryorder=\"total descending\")\n",
    "fig.update_layout(height=600)\n",
    "fig.show()"
   ]
  },
  {
   "cell_type": "code",
   "execution_count": null,
   "id": "b3c9753d-f02b-4f21-8b7a-c109f42980b1",
   "metadata": {
    "tags": []
   },
   "outputs": [],
   "source": [
    "fig=px.box(author_worklength_df,x=\"all_text_length\", hover_data=[\"author\"], title=\"NOT FINAL, JUST FOR DEMONSTRATION PURPOSES: distribution of number of tokens per author\")\n",
    "#fig.update_xaxes(categoryorder=\"total descending\")\n",
    "fig.update_layout(height=600)\n",
    "fig.show()"
   ]
  },
  {
   "cell_type": "code",
   "execution_count": null,
   "id": "6424c662-661f-4533-a631-7ee3847d3a05",
   "metadata": {
    "tags": []
   },
   "outputs": [],
   "source": [
    "df[df[\"author\"]==\"Johann Gottfried Herder\"]"
   ]
  },
  {
   "cell_type": "code",
   "execution_count": null,
   "id": "8c87e6dc-4cf1-460b-987b-ac39d81ae05e",
   "metadata": {
    "tags": []
   },
   "outputs": [],
   "source": [
    "gender = []\n",
    "\n",
    "for author in list(author_worklength_df[\"author\"]):\n",
    "    gender.append(df_authors.loc[df_authors[\"Voller_Name\"]==author, \"Geschlecht\"].values[0])\n",
    "    \n",
    "author_worklength_df[\"gender\"]= gender"
   ]
  },
  {
   "cell_type": "code",
   "execution_count": null,
   "id": "3fbe4666-f9af-42a0-be4f-f7ad0dff0e50",
   "metadata": {
    "tags": []
   },
   "outputs": [],
   "source": [
    "len(author_worklength_df)"
   ]
  },
  {
   "cell_type": "code",
   "execution_count": null,
   "id": "38d575bb-2359-44cd-8945-5bd4e0dcbf98",
   "metadata": {
    "tags": []
   },
   "outputs": [],
   "source": [
    "fig = px.histogram(author_worklength_df, x=\"gender\")\n",
    "fig.show()"
   ]
  }
 ],
 "metadata": {
  "kernelspec": {
   "display_name": "Python 3 (ipykernel)",
   "language": "python",
   "name": "python3"
  },
  "language_info": {
   "codemirror_mode": {
    "name": "ipython",
    "version": 3
   },
   "file_extension": ".py",
   "mimetype": "text/x-python",
   "name": "python",
   "nbconvert_exporter": "python",
   "pygments_lexer": "ipython3",
   "version": "3.9.18"
  }
 },
 "nbformat": 4,
 "nbformat_minor": 5
}

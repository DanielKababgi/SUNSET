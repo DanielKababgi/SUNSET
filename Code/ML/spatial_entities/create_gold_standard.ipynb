{
 "cells": [
  {
   "cell_type": "markdown",
   "id": "8307453f-f414-4ada-88f2-38c807895927",
   "metadata": {},
   "source": [
    "# create gold standard training data\n",
    "\n",
    "- check for stats\n",
    "- do manual annotation"
   ]
  },
  {
   "cell_type": "code",
   "execution_count": null,
   "id": "512759fc-c5dc-4ffc-a368-741d672ee969",
   "metadata": {},
   "outputs": [
    {
     "name": "stdout",
     "output_type": "stream",
     "text": [
      "\u001b[1m\n",
      "============================= [*] Prodigy Stats =============================\u001b[0m\n",
      "\n",
      "Version          1.11.14                       \n",
      "Location         C:\\Users\\dkababgi\\.conda\\envs\\active_learning\\lib\\site-packages\\prodigy\n",
      "Prodigy Home     C:\\Users\\dkababgi\\.prodigy    \n",
      "Platform         Windows-10-10.0.19044-SP0     \n",
      "Python Version   3.9.17                        \n",
      "Database Name    SQLite                        \n",
      "Database Id      sqlite                        \n",
      "Total Datasets   3                             \n",
      "Total Sessions   16                            \n",
      "\n"
     ]
    }
   ],
   "source": [
    "!python -m prodigy stats"
   ]
  },
  {
   "cell_type": "code",
   "execution_count": null,
   "id": "750cbc6c-4744-449b-85c5-827114f65ef8",
   "metadata": {},
   "outputs": [],
   "source": [
    "import pandas as pd"
   ]
  },
  {
   "cell_type": "code",
   "execution_count": null,
   "id": "3c47ad49-cba9-4119-ae1f-84ff38649e8b",
   "metadata": {},
   "outputs": [],
   "source": [
    "df = pd.read_json(\"pattern.jsonl\",encoding=\"utf8\", lines=True)\n",
    "len(df)"
   ]
  },
  {
   "cell_type": "code",
   "execution_count": null,
   "id": "e46d9370-9987-427f-bf46-58f5479e12d5",
   "metadata": {},
   "outputs": [],
   "source": [
    "df.head()"
   ]
  },
  {
   "cell_type": "code",
   "execution_count": 16,
   "id": "57d7b1a3-2e1f-495b-950d-ed18dd6f8db5",
   "metadata": {},
   "outputs": [],
   "source": [
    "# df.to_json(\"test_data.jsonl\", orient = 'records', lines = True)"
   ]
  },
  {
   "cell_type": "code",
   "execution_count": null,
   "id": "c3c518f4-54a9-47b6-8e25-d4450a72880f",
   "metadata": {},
   "outputs": [
    {
     "name": "stdout",
     "output_type": "stream",
     "text": [
      "Using 1 label(s): SpatialEntity\n",
      "Added dataset high_mountains_labels to database SQLite.\n",
      "\n",
      "\u001b[38;5;1m[x] Can't find file annotation_data.csv\u001b[0m\n",
      "annotation_data.csv\n",
      "\n"
     ]
    }
   ],
   "source": [
    "!python -m prodigy ner.manual spatial_entites_dis blank:de annotation_data.csv --label SpatialEntity --patterns pattern.jsonl"
   ]
  },
  {
   "cell_type": "code",
   "execution_count": 1,
   "id": "cfb43aba-33e3-427e-8574-aeb0026b77f9",
   "metadata": {},
   "outputs": [
    {
     "name": "stdout",
     "output_type": "stream",
     "text": [
      "  TCP    127.0.0.1:8080         0.0.0.0:0              ABH™REN         15784\n",
      "  TCP    [::1]:8080             [::]:0                 ABH™REN         15784\n"
     ]
    }
   ],
   "source": [
    "!netstat -ano | findstr :8080"
   ]
  },
  {
   "cell_type": "code",
   "execution_count": 2,
   "id": "8c2c77ee-1575-406d-a7a6-1122bd3aa81f",
   "metadata": {},
   "outputs": [
    {
     "name": "stdout",
     "output_type": "stream",
     "text": [
      "ERFOLGREICH: Der Prozess mit PID 15784 wurde beendet.\n"
     ]
    }
   ],
   "source": [
    "!Taskkill /PID 15784 /F "
   ]
  }
 ],
 "metadata": {
  "kernelspec": {
   "display_name": "Python 3 (ipykernel)",
   "language": "python",
   "name": "python3"
  },
  "language_info": {
   "codemirror_mode": {
    "name": "ipython",
    "version": 3
   },
   "file_extension": ".py",
   "mimetype": "text/x-python",
   "name": "python",
   "nbconvert_exporter": "python",
   "pygments_lexer": "ipython3",
   "version": "3.9.17"
  }
 },
 "nbformat": 4,
 "nbformat_minor": 5
}
